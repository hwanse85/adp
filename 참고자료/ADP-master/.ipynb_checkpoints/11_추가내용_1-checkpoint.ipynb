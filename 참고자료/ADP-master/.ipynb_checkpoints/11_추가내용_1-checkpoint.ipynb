{
 "cells": [
  {
   "cell_type": "markdown",
   "metadata": {},
   "source": [
    "# 03_Python_기초정리.ipynb"
   ]
  },
  {
   "cell_type": "markdown",
   "metadata": {},
   "source": [
    "##  to_csv 에러 없애는 방법 : errors"
   ]
  },
  {
   "cell_type": "code",
   "execution_count": 3,
   "metadata": {
    "ExecuteTime": {
     "end_time": "2020-12-01T09:43:36.963397Z",
     "start_time": "2020-12-01T09:43:36.949477Z"
    }
   },
   "outputs": [],
   "source": [
    "df.to_csv('test.csv', encoding='cp949', errors='replace')   # 'replace', 'ignore'"
   ]
  },
  {
   "cell_type": "markdown",
   "metadata": {},
   "source": [
    "## DataFrame 행 추가"
   ]
  },
  {
   "cell_type": "code",
   "execution_count": null,
   "metadata": {},
   "outputs": [],
   "source": [
    "new_data = {'성별코드': '3', '연령대코드(5세단위)' : 10, '허리둘레':100, '흡연상태': 1}\n",
    "df.append(new_data, ignore_index=True)"
   ]
  },
  {
   "cell_type": "markdown",
   "metadata": {},
   "source": [
    "## statsmodels 패키지 사용법"
   ]
  },
  {
   "cell_type": "markdown",
   "metadata": {},
   "source": [
    "### Dummy화 쉽게 하는 법"
   ]
  },
  {
   "cell_type": "code",
   "execution_count": 44,
   "metadata": {
    "ExecuteTime": {
     "end_time": "2020-12-04T13:00:22.947221Z",
     "start_time": "2020-12-04T13:00:20.615805Z"
    }
   },
   "outputs": [
    {
     "data": {
      "text/html": [
       "<div>\n",
       "<style scoped>\n",
       "    .dataframe tbody tr th:only-of-type {\n",
       "        vertical-align: middle;\n",
       "    }\n",
       "\n",
       "    .dataframe tbody tr th {\n",
       "        vertical-align: top;\n",
       "    }\n",
       "\n",
       "    .dataframe thead th {\n",
       "        text-align: right;\n",
       "    }\n",
       "</style>\n",
       "<table border=\"1\" class=\"dataframe\">\n",
       "  <thead>\n",
       "    <tr style=\"text-align: right;\">\n",
       "      <th></th>\n",
       "      <th>Department</th>\n",
       "      <th>Lottery</th>\n",
       "      <th>Literacy</th>\n",
       "      <th>Wealth</th>\n",
       "      <th>Region</th>\n",
       "    </tr>\n",
       "  </thead>\n",
       "  <tbody>\n",
       "    <tr>\n",
       "      <th>0</th>\n",
       "      <td>Ain</td>\n",
       "      <td>41</td>\n",
       "      <td>37</td>\n",
       "      <td>73</td>\n",
       "      <td>E</td>\n",
       "    </tr>\n",
       "    <tr>\n",
       "      <th>1</th>\n",
       "      <td>Aisne</td>\n",
       "      <td>38</td>\n",
       "      <td>51</td>\n",
       "      <td>22</td>\n",
       "      <td>N</td>\n",
       "    </tr>\n",
       "    <tr>\n",
       "      <th>2</th>\n",
       "      <td>Allier</td>\n",
       "      <td>66</td>\n",
       "      <td>13</td>\n",
       "      <td>61</td>\n",
       "      <td>C</td>\n",
       "    </tr>\n",
       "    <tr>\n",
       "      <th>3</th>\n",
       "      <td>Basses-Alpes</td>\n",
       "      <td>80</td>\n",
       "      <td>46</td>\n",
       "      <td>76</td>\n",
       "      <td>E</td>\n",
       "    </tr>\n",
       "    <tr>\n",
       "      <th>4</th>\n",
       "      <td>Hautes-Alpes</td>\n",
       "      <td>79</td>\n",
       "      <td>69</td>\n",
       "      <td>83</td>\n",
       "      <td>E</td>\n",
       "    </tr>\n",
       "  </tbody>\n",
       "</table>\n",
       "</div>"
      ],
      "text/plain": [
       "     Department  Lottery  Literacy  Wealth Region\n",
       "0           Ain       41        37      73      E\n",
       "1         Aisne       38        51      22      N\n",
       "2        Allier       66        13      61      C\n",
       "3  Basses-Alpes       80        46      76      E\n",
       "4  Hautes-Alpes       79        69      83      E"
      ]
     },
     "execution_count": 44,
     "metadata": {},
     "output_type": "execute_result"
    }
   ],
   "source": [
    "import statsmodels.api as sm\n",
    "import pandas\n",
    "from patsy import dmatrices\n",
    "\n",
    "df = sm.datasets.get_rdataset(\"Guerry\", \"HistData\").data\n",
    "vars = ['Department', 'Lottery', 'Literacy', 'Wealth', 'Region']\n",
    "df = df[vars]\n",
    "df = df.dropna()\n",
    "df.head()"
   ]
  },
  {
   "cell_type": "code",
   "execution_count": 45,
   "metadata": {
    "ExecuteTime": {
     "end_time": "2020-12-04T13:00:23.012296Z",
     "start_time": "2020-12-04T13:00:22.997814Z"
    }
   },
   "outputs": [],
   "source": [
    "y, X = dmatrices('Lottery ~ Literacy + Wealth + C(Region) + Literacy:Wealth', data=df, return_type='dataframe')"
   ]
  },
  {
   "cell_type": "code",
   "execution_count": 48,
   "metadata": {
    "ExecuteTime": {
     "end_time": "2020-12-04T13:00:28.659781Z",
     "start_time": "2020-12-04T13:00:28.645047Z"
    }
   },
   "outputs": [
    {
     "data": {
      "text/html": [
       "<div>\n",
       "<style scoped>\n",
       "    .dataframe tbody tr th:only-of-type {\n",
       "        vertical-align: middle;\n",
       "    }\n",
       "\n",
       "    .dataframe tbody tr th {\n",
       "        vertical-align: top;\n",
       "    }\n",
       "\n",
       "    .dataframe thead th {\n",
       "        text-align: right;\n",
       "    }\n",
       "</style>\n",
       "<table border=\"1\" class=\"dataframe\">\n",
       "  <thead>\n",
       "    <tr style=\"text-align: right;\">\n",
       "      <th></th>\n",
       "      <th>Intercept</th>\n",
       "      <th>Region[T.E]</th>\n",
       "      <th>Region[T.N]</th>\n",
       "      <th>Region[T.S]</th>\n",
       "      <th>Region[T.W]</th>\n",
       "      <th>Literacy</th>\n",
       "      <th>Wealth</th>\n",
       "    </tr>\n",
       "  </thead>\n",
       "  <tbody>\n",
       "    <tr>\n",
       "      <th>0</th>\n",
       "      <td>1.0</td>\n",
       "      <td>1.0</td>\n",
       "      <td>0.0</td>\n",
       "      <td>0.0</td>\n",
       "      <td>0.0</td>\n",
       "      <td>37.0</td>\n",
       "      <td>73.0</td>\n",
       "    </tr>\n",
       "    <tr>\n",
       "      <th>1</th>\n",
       "      <td>1.0</td>\n",
       "      <td>0.0</td>\n",
       "      <td>1.0</td>\n",
       "      <td>0.0</td>\n",
       "      <td>0.0</td>\n",
       "      <td>51.0</td>\n",
       "      <td>22.0</td>\n",
       "    </tr>\n",
       "    <tr>\n",
       "      <th>2</th>\n",
       "      <td>1.0</td>\n",
       "      <td>0.0</td>\n",
       "      <td>0.0</td>\n",
       "      <td>0.0</td>\n",
       "      <td>0.0</td>\n",
       "      <td>13.0</td>\n",
       "      <td>61.0</td>\n",
       "    </tr>\n",
       "    <tr>\n",
       "      <th>3</th>\n",
       "      <td>1.0</td>\n",
       "      <td>1.0</td>\n",
       "      <td>0.0</td>\n",
       "      <td>0.0</td>\n",
       "      <td>0.0</td>\n",
       "      <td>46.0</td>\n",
       "      <td>76.0</td>\n",
       "    </tr>\n",
       "    <tr>\n",
       "      <th>4</th>\n",
       "      <td>1.0</td>\n",
       "      <td>1.0</td>\n",
       "      <td>0.0</td>\n",
       "      <td>0.0</td>\n",
       "      <td>0.0</td>\n",
       "      <td>69.0</td>\n",
       "      <td>83.0</td>\n",
       "    </tr>\n",
       "  </tbody>\n",
       "</table>\n",
       "</div>"
      ],
      "text/plain": [
       "   Intercept  Region[T.E]  Region[T.N]  Region[T.S]  Region[T.W]  Literacy  \\\n",
       "0        1.0          1.0          0.0          0.0          0.0      37.0   \n",
       "1        1.0          0.0          1.0          0.0          0.0      51.0   \n",
       "2        1.0          0.0          0.0          0.0          0.0      13.0   \n",
       "3        1.0          1.0          0.0          0.0          0.0      46.0   \n",
       "4        1.0          1.0          0.0          0.0          0.0      69.0   \n",
       "\n",
       "   Wealth  \n",
       "0    73.0  \n",
       "1    22.0  \n",
       "2    61.0  \n",
       "3    76.0  \n",
       "4    83.0  "
      ]
     },
     "execution_count": 48,
     "metadata": {},
     "output_type": "execute_result"
    }
   ],
   "source": [
    "X.head()   ## 범주형 변수(Region)에서 NaN 값은 drop해주고, class 중 하나(여기서는 C)를 drop하고 나머지는 더미화"
   ]
  },
  {
   "cell_type": "markdown",
   "metadata": {},
   "source": [
    "### Fit & Summary\n",
    "- 1단계: 알고리즘 선택\n",
    "- 2단계: Fit\n",
    "- 3단계: Summarize"
   ]
  },
  {
   "cell_type": "code",
   "execution_count": 49,
   "metadata": {
    "ExecuteTime": {
     "end_time": "2020-12-04T13:00:34.025845Z",
     "start_time": "2020-12-04T13:00:34.008969Z"
    }
   },
   "outputs": [
    {
     "name": "stdout",
     "output_type": "stream",
     "text": [
      "                            OLS Regression Results                            \n",
      "==============================================================================\n",
      "Dep. Variable:                Lottery   R-squared:                       0.338\n",
      "Model:                            OLS   Adj. R-squared:                  0.287\n",
      "Method:                 Least Squares   F-statistic:                     6.636\n",
      "Date:                Fri, 04 Dec 2020   Prob (F-statistic):           1.07e-05\n",
      "Time:                        22:00:34   Log-Likelihood:                -375.30\n",
      "No. Observations:                  85   AIC:                             764.6\n",
      "Df Residuals:                      78   BIC:                             781.7\n",
      "Df Model:                           6                                         \n",
      "Covariance Type:            nonrobust                                         \n",
      "===============================================================================\n",
      "                  coef    std err          t      P>|t|      [0.025      0.975]\n",
      "-------------------------------------------------------------------------------\n",
      "Intercept      38.6517      9.456      4.087      0.000      19.826      57.478\n",
      "Region[T.E]   -15.4278      9.727     -1.586      0.117     -34.793       3.938\n",
      "Region[T.N]   -10.0170      9.260     -1.082      0.283     -28.453       8.419\n",
      "Region[T.S]    -4.5483      7.279     -0.625      0.534     -19.039       9.943\n",
      "Region[T.W]   -10.0913      7.196     -1.402      0.165     -24.418       4.235\n",
      "Literacy       -0.1858      0.210     -0.886      0.378      -0.603       0.232\n",
      "Wealth          0.4515      0.103      4.390      0.000       0.247       0.656\n",
      "==============================================================================\n",
      "Omnibus:                        3.049   Durbin-Watson:                   1.785\n",
      "Prob(Omnibus):                  0.218   Jarque-Bera (JB):                2.694\n",
      "Skew:                          -0.340   Prob(JB):                        0.260\n",
      "Kurtosis:                       2.454   Cond. No.                         371.\n",
      "==============================================================================\n",
      "\n",
      "Warnings:\n",
      "[1] Standard Errors assume that the covariance matrix of the errors is correctly specified.\n"
     ]
    }
   ],
   "source": [
    "# OLS(최소자승법) 회귀분석을 예시로 함\n",
    "\n",
    "mod = sm.OLS(y, X) # 알고리즘 선택\n",
    "res = mod.fit() # Fit\n",
    "print(res.summary()) # Summarize model"
   ]
  },
  {
   "cell_type": "code",
   "execution_count": 50,
   "metadata": {
    "ExecuteTime": {
     "end_time": "2020-12-04T13:00:35.520791Z",
     "start_time": "2020-12-04T13:00:35.513016Z"
    }
   },
   "outputs": [
    {
     "data": {
      "text/plain": [
       "Intercept      38.651655\n",
       "Region[T.E]   -15.427785\n",
       "Region[T.N]   -10.016961\n",
       "Region[T.S]    -4.548257\n",
       "Region[T.W]   -10.091276\n",
       "Literacy       -0.185819\n",
       "Wealth          0.451475\n",
       "dtype: float64"
      ]
     },
     "execution_count": 50,
     "metadata": {},
     "output_type": "execute_result"
    }
   ],
   "source": [
    "# 변수별 계수 추출\n",
    "res.params"
   ]
  },
  {
   "cell_type": "code",
   "execution_count": 51,
   "metadata": {
    "ExecuteTime": {
     "end_time": "2020-12-04T13:00:36.210941Z",
     "start_time": "2020-12-04T13:00:36.204967Z"
    }
   },
   "outputs": [
    {
     "data": {
      "text/plain": [
       "0.3379508691928822"
      ]
     },
     "execution_count": 51,
     "metadata": {},
     "output_type": "execute_result"
    }
   ],
   "source": [
    "# r-squared \n",
    "res.rsquared"
   ]
  },
  {
   "cell_type": "code",
   "execution_count": 52,
   "metadata": {
    "ExecuteTime": {
     "end_time": "2020-12-04T13:00:36.692015Z",
     "start_time": "2020-12-04T13:00:36.684801Z"
    },
    "collapsed": true
   },
   "outputs": [
    {
     "data": {
      "text/plain": [
       "['HC0_se',\n",
       " 'HC1_se',\n",
       " 'HC2_se',\n",
       " 'HC3_se',\n",
       " '_HCCM',\n",
       " '__class__',\n",
       " '__delattr__',\n",
       " '__dict__',\n",
       " '__dir__',\n",
       " '__doc__',\n",
       " '__eq__',\n",
       " '__format__',\n",
       " '__ge__',\n",
       " '__getattribute__',\n",
       " '__gt__',\n",
       " '__hash__',\n",
       " '__init__',\n",
       " '__init_subclass__',\n",
       " '__le__',\n",
       " '__lt__',\n",
       " '__module__',\n",
       " '__ne__',\n",
       " '__new__',\n",
       " '__reduce__',\n",
       " '__reduce_ex__',\n",
       " '__repr__',\n",
       " '__setattr__',\n",
       " '__sizeof__',\n",
       " '__str__',\n",
       " '__subclasshook__',\n",
       " '__weakref__',\n",
       " '_cache',\n",
       " '_data_attr',\n",
       " '_get_robustcov_results',\n",
       " '_is_nested',\n",
       " '_use_t',\n",
       " '_wexog_singular_values',\n",
       " 'aic',\n",
       " 'bic',\n",
       " 'bse',\n",
       " 'centered_tss',\n",
       " 'compare_f_test',\n",
       " 'compare_lm_test',\n",
       " 'compare_lr_test',\n",
       " 'condition_number',\n",
       " 'conf_int',\n",
       " 'conf_int_el',\n",
       " 'cov_HC0',\n",
       " 'cov_HC1',\n",
       " 'cov_HC2',\n",
       " 'cov_HC3',\n",
       " 'cov_kwds',\n",
       " 'cov_params',\n",
       " 'cov_type',\n",
       " 'df_model',\n",
       " 'df_resid',\n",
       " 'diagn',\n",
       " 'eigenvals',\n",
       " 'el_test',\n",
       " 'ess',\n",
       " 'f_pvalue',\n",
       " 'f_test',\n",
       " 'fittedvalues',\n",
       " 'fvalue',\n",
       " 'get_influence',\n",
       " 'get_prediction',\n",
       " 'get_robustcov_results',\n",
       " 'initialize',\n",
       " 'k_constant',\n",
       " 'llf',\n",
       " 'load',\n",
       " 'model',\n",
       " 'mse_model',\n",
       " 'mse_resid',\n",
       " 'mse_total',\n",
       " 'nobs',\n",
       " 'normalized_cov_params',\n",
       " 'outlier_test',\n",
       " 'params',\n",
       " 'predict',\n",
       " 'pvalues',\n",
       " 'remove_data',\n",
       " 'resid',\n",
       " 'resid_pearson',\n",
       " 'rsquared',\n",
       " 'rsquared_adj',\n",
       " 'save',\n",
       " 'scale',\n",
       " 'ssr',\n",
       " 'summary',\n",
       " 'summary2',\n",
       " 't_test',\n",
       " 't_test_pairwise',\n",
       " 'tvalues',\n",
       " 'uncentered_tss',\n",
       " 'use_t',\n",
       " 'wald_test',\n",
       " 'wald_test_terms',\n",
       " 'wresid']"
      ]
     },
     "execution_count": 52,
     "metadata": {},
     "output_type": "execute_result"
    }
   ],
   "source": [
    "# 사용 가능한 attriibutes 확인\n",
    "dir(res)"
   ]
  },
  {
   "cell_type": "markdown",
   "metadata": {},
   "source": [
    "### Diagnostics and specification tests"
   ]
  },
  {
   "cell_type": "code",
   "execution_count": 57,
   "metadata": {
    "ExecuteTime": {
     "end_time": "2020-12-04T13:03:21.054641Z",
     "start_time": "2020-12-04T13:03:21.047668Z"
    }
   },
   "outputs": [
    {
     "data": {
      "text/plain": [
       "(0.847233997615691, 0.6997965543621644)"
      ]
     },
     "execution_count": 57,
     "metadata": {},
     "output_type": "execute_result"
    }
   ],
   "source": [
    "sm.stats.linear_rainbow(res)"
   ]
  },
  {
   "cell_type": "code",
   "execution_count": 56,
   "metadata": {
    "ExecuteTime": {
     "end_time": "2020-12-04T13:02:47.089888Z",
     "start_time": "2020-12-04T13:02:46.912933Z"
    },
    "scrolled": true
   },
   "outputs": [
    {
     "data": {
      "image/png": "[encoded data removed]",
      "text/plain": [
       "<Figure size 432x288 with 1 Axes>"
      ]
     },
     "metadata": {
      "needs_background": "light"
     },
     "output_type": "display_data"
    }
   ],
   "source": [
    "%matplotlib inline\n",
    "sm.graphics.plot_partregress('Lottery', 'Wealth', ['Region', 'Literacy'], data=df.dropna(), obs_labels=False)\n",
    "plt.show()"
   ]
  },
  {
   "cell_type": "code",
   "execution_count": null,
   "metadata": {},
   "outputs": [],
   "source": []
  },
  {
   "cell_type": "code",
   "execution_count": null,
   "metadata": {
    "ExecuteTime": {
     "end_time": "2020-12-04T13:10:38.369649Z",
     "start_time": "2020-12-04T13:10:38.358679Z"
    }
   },
   "outputs": [],
   "source": [
    "import statsmodels.api as sm\n",
    "\n",
    "data = sm.datasets.scotland.load(as_pandas=False)\n",
    "data.exog = sm.add_constant(data.exog)"
   ]
  },
  {
   "cell_type": "code",
   "execution_count": 63,
   "metadata": {
    "ExecuteTime": {
     "end_time": "2020-12-04T13:12:28.366486Z",
     "start_time": "2020-12-04T13:12:28.360502Z"
    }
   },
   "outputs": [
    {
     "data": {
      "text/plain": [
       "array([60.3, 52.3, 53.4, 57. , 68.7, 48.8, 65.5, 70.5, 59.1, 62.7, 51.6,\n",
       "       62. , 68.4, 69.2, 64.7, 75. , 62.1, 67.2, 67.7, 52.7, 65.7, 72.2,\n",
       "       47.4, 51.3, 63.6, 50.7, 51.6, 56.2, 67.6, 58.9, 74.7, 67.3])"
      ]
     },
     "execution_count": 63,
     "metadata": {},
     "output_type": "execute_result"
    }
   ],
   "source": [
    "# y 값 형태\n",
    "data.endog"
   ]
  },
  {
   "cell_type": "code",
   "execution_count": 64,
   "metadata": {
    "ExecuteTime": {
     "end_time": "2020-12-04T13:12:32.440565Z",
     "start_time": "2020-12-04T13:12:32.433526Z"
    },
    "scrolled": true
   },
   "outputs": [
    {
     "data": {
      "text/plain": [
       "array([[1.00000e+00, 7.12000e+02, 2.10000e+01, 1.05000e+02, 8.24000e+01,\n",
       "        1.35660e+04, 1.23000e+01, 1.49520e+04],\n",
       "       [1.00000e+00, 6.43000e+02, 2.65000e+01, 9.70000e+01, 8.02000e+01,\n",
       "        1.35660e+04, 1.53000e+01, 1.70395e+04],\n",
       "       [1.00000e+00, 6.79000e+02, 2.83000e+01, 1.13000e+02, 8.63000e+01,\n",
       "        9.61100e+03, 1.39000e+01, 1.92157e+04],\n",
       "       [1.00000e+00, 8.01000e+02, 2.71000e+01, 1.09000e+02, 8.04000e+01,\n",
       "        9.48300e+03, 1.36000e+01, 2.17071e+04],\n",
       "       [1.00000e+00, 7.53000e+02, 2.20000e+01, 1.15000e+02, 6.47000e+01,\n",
       "        9.26500e+03, 1.46000e+01, 1.65660e+04],\n",
       "       [1.00000e+00, 7.14000e+02, 2.43000e+01, 1.07000e+02, 7.90000e+01,\n",
       "        9.55500e+03, 1.38000e+01, 1.73502e+04],\n",
       "       [1.00000e+00, 9.20000e+02, 2.12000e+01, 1.18000e+02, 7.22000e+01,\n",
       "        9.61100e+03, 1.33000e+01, 1.95040e+04],\n",
       "       [1.00000e+00, 7.79000e+02, 2.05000e+01, 1.14000e+02, 7.52000e+01,\n",
       "        9.48300e+03, 1.45000e+01, 1.59695e+04],\n",
       "       [1.00000e+00, 7.71000e+02, 2.32000e+01, 1.02000e+02, 8.11000e+01,\n",
       "        9.48300e+03, 1.42000e+01, 1.78872e+04],\n",
       "       [1.00000e+00, 7.24000e+02, 2.05000e+01, 1.12000e+02, 8.03000e+01,\n",
       "        1.26560e+04, 1.37000e+01, 1.48420e+04],\n",
       "       [1.00000e+00, 6.82000e+02, 2.38000e+01, 9.60000e+01, 8.30000e+01,\n",
       "        9.48300e+03, 1.46000e+01, 1.62316e+04],\n",
       "       [1.00000e+00, 8.37000e+02, 2.21000e+01, 1.11000e+02, 7.45000e+01,\n",
       "        1.26560e+04, 1.16000e+01, 1.84977e+04],\n",
       "       [1.00000e+00, 5.99000e+02, 1.99000e+01, 1.17000e+02, 8.38000e+01,\n",
       "        8.29800e+03, 1.51000e+01, 1.19201e+04],\n",
       "       [1.00000e+00, 6.80000e+02, 2.15000e+01, 1.21000e+02, 7.76000e+01,\n",
       "        9.26500e+03, 1.37000e+01, 1.46200e+04],\n",
       "       [1.00000e+00, 7.47000e+02, 2.25000e+01, 1.09000e+02, 7.79000e+01,\n",
       "        8.31400e+03, 1.44000e+01, 1.68075e+04],\n",
       "       [1.00000e+00, 9.82000e+02, 1.94000e+01, 1.37000e+02, 6.53000e+01,\n",
       "        9.48300e+03, 1.33000e+01, 1.90508e+04],\n",
       "       [1.00000e+00, 7.19000e+02, 2.59000e+01, 1.09000e+02, 8.09000e+01,\n",
       "        8.29800e+03, 1.49000e+01, 1.86221e+04],\n",
       "       [1.00000e+00, 8.31000e+02, 1.85000e+01, 1.38000e+02, 8.02000e+01,\n",
       "        9.48300e+03, 1.46000e+01, 1.53735e+04],\n",
       "       [1.00000e+00, 8.58000e+02, 1.94000e+01, 1.19000e+02, 8.48000e+01,\n",
       "        1.26560e+04, 1.43000e+01, 1.66452e+04],\n",
       "       [1.00000e+00, 6.52000e+02, 2.72000e+01, 1.08000e+02, 8.64000e+01,\n",
       "        1.35660e+04, 1.46000e+01, 1.77344e+04],\n",
       "       [1.00000e+00, 7.18000e+02, 2.37000e+01, 1.15000e+02, 7.35000e+01,\n",
       "        9.48300e+03, 1.50000e+01, 1.70166e+04],\n",
       "       [1.00000e+00, 7.87000e+02, 2.08000e+01, 1.26000e+02, 7.47000e+01,\n",
       "        9.48300e+03, 1.49000e+01, 1.63696e+04],\n",
       "       [1.00000e+00, 5.15000e+02, 2.68000e+01, 1.06000e+02, 8.78000e+01,\n",
       "        8.29800e+03, 1.53000e+01, 1.38020e+04],\n",
       "       [1.00000e+00, 7.32000e+02, 2.30000e+01, 1.03000e+02, 8.66000e+01,\n",
       "        9.61100e+03, 1.38000e+01, 1.68360e+04],\n",
       "       [1.00000e+00, 7.83000e+02, 2.05000e+01, 1.25000e+02, 7.85000e+01,\n",
       "        9.48300e+03, 1.41000e+01, 1.60515e+04],\n",
       "       [1.00000e+00, 6.12000e+02, 2.37000e+01, 1.00000e+02, 8.06000e+01,\n",
       "        9.03300e+03, 1.33000e+01, 1.45044e+04],\n",
       "       [1.00000e+00, 4.86000e+02, 2.32000e+01, 1.17000e+02, 8.48000e+01,\n",
       "        8.29800e+03, 1.59000e+01, 1.12752e+04],\n",
       "       [1.00000e+00, 7.65000e+02, 2.36000e+01, 1.05000e+02, 7.92000e+01,\n",
       "        9.48300e+03, 1.37000e+01, 1.80540e+04],\n",
       "       [1.00000e+00, 7.93000e+02, 2.17000e+01, 1.25000e+02, 7.84000e+01,\n",
       "        9.48300e+03, 1.45000e+01, 1.72081e+04],\n",
       "       [1.00000e+00, 7.76000e+02, 2.30000e+01, 1.10000e+02, 7.72000e+01,\n",
       "        9.26500e+03, 1.36000e+01, 1.78480e+04],\n",
       "       [1.00000e+00, 9.78000e+02, 1.93000e+01, 1.30000e+02, 7.15000e+01,\n",
       "        9.48300e+03, 1.53000e+01, 1.88754e+04],\n",
       "       [1.00000e+00, 7.92000e+02, 2.12000e+01, 1.26000e+02, 8.22000e+01,\n",
       "        1.26560e+04, 1.51000e+01, 1.67904e+04]])"
      ]
     },
     "execution_count": 64,
     "metadata": {},
     "output_type": "execute_result"
    }
   ],
   "source": [
    "# X 값 형태\n",
    "data.exog"
   ]
  },
  {
   "cell_type": "code",
   "execution_count": 67,
   "metadata": {
    "ExecuteTime": {
     "end_time": "2020-12-04T13:13:57.312599Z",
     "start_time": "2020-12-04T13:13:57.294647Z"
    },
    "collapsed": true
   },
   "outputs": [
    {
     "name": "stdout",
     "output_type": "stream",
     "text": [
      "                            OLS Regression Results                            \n",
      "==============================================================================\n",
      "Dep. Variable:                      y   R-squared:                       0.842\n",
      "Model:                            OLS   Adj. R-squared:                  0.795\n",
      "Method:                 Least Squares   F-statistic:                     18.21\n",
      "Date:                Fri, 04 Dec 2020   Prob (F-statistic):           3.54e-08\n",
      "Time:                        22:13:57   Log-Likelihood:                -81.844\n",
      "No. Observations:                  32   AIC:                             179.7\n",
      "Df Residuals:                      24   BIC:                             191.4\n",
      "Df Model:                           7                                         \n",
      "Covariance Type:            nonrobust                                         \n",
      "==============================================================================\n",
      "                 coef    std err          t      P>|t|      [0.025      0.975]\n",
      "------------------------------------------------------------------------------\n",
      "const        137.4141     40.922      3.358      0.003      52.956     221.872\n",
      "x1            -0.1165      0.058     -2.009      0.056      -0.236       0.003\n",
      "x2            -5.1860      1.849     -2.805      0.010      -9.002      -1.370\n",
      "x3             0.2846      0.098      2.896      0.008       0.082       0.487\n",
      "x4            -0.4204      0.158     -2.659      0.014      -0.747      -0.094\n",
      "x5             0.0005      0.000      1.041      0.308      -0.000       0.001\n",
      "x6             1.8404      0.891      2.065      0.050       0.001       3.680\n",
      "x7             0.0059      0.003      2.259      0.033       0.001       0.011\n",
      "==============================================================================\n",
      "Omnibus:                        2.108   Durbin-Watson:                   1.654\n",
      "Prob(Omnibus):                  0.348   Jarque-Bera (JB):                1.281\n",
      "Skew:                          -0.483   Prob(JB):                        0.527\n",
      "Kurtosis:                       3.170   Cond. No.                     1.26e+06\n",
      "==============================================================================\n",
      "\n",
      "Warnings:\n",
      "[1] Standard Errors assume that the covariance matrix of the errors is correctly specified.\n",
      "[2] The condition number is large, 1.26e+06. This might indicate that there are\n",
      "strong multicollinearity or other numerical problems.\n"
     ]
    }
   ],
   "source": [
    "# linear Regression\n",
    "OLS(endog[, exog, missing, hasconst]) # Ordinary Least Squares\n",
    "GLS(endog, exog[, sigma, missing, hasconst]) # Generalized Least Squares\n",
    "\n",
    "# Logistic Regression\n",
    "gamma_model = sm.GLM(data.endog, data.exog, family=sm.families.Gamma())\n",
    "gamma_results = gamma_model.fit()\n",
    "print(gamma_results.summary())"
   ]
  },
  {
   "cell_type": "code",
   "execution_count": null,
   "metadata": {},
   "outputs": [],
   "source": []
  },
  {
   "cell_type": "code",
   "execution_count": null,
   "metadata": {},
   "outputs": [],
   "source": []
  },
  {
   "cell_type": "markdown",
   "metadata": {},
   "source": [
    "# 06_통계분석_1"
   ]
  },
  {
   "cell_type": "markdown",
   "metadata": {},
   "source": [
    "## 범주형 변수 빈도분석"
   ]
  },
  {
   "cell_type": "code",
   "execution_count": null,
   "metadata": {},
   "outputs": [],
   "source": [
    "# 범주형 변수 빈도분석\n",
    "\n",
    "da_cat = pd.DataFrame()\n",
    "for i in  col_cat:\n",
    "    a = df[i].value_counts(dropna =False).to_frame().sort_index().rename(columns={i:'count'}).reset_index()\n",
    "    a['col_nm'] = i\n",
    "    a = a.rename(columns = {'index':'class'})\n",
    "    a = a[['col_nm','class','count']]\n",
    "    b = df[i].value_counts(dropna =False, normalize = True).to_frame().sort_index().rename(columns={i:'ratio'}).reset_index()\n",
    "    b = b['ratio'].to_frame()\n",
    "    a = pd.concat([a,b],axis=1)\n",
    "    da_cat = pd.concat([da_cat,a], axis = 0)\n",
    "da_cat = da_cat.reset_index(drop=True)\n",
    "da_cat"
   ]
  },
  {
   "cell_type": "markdown",
   "metadata": {},
   "source": [
    "## 교호작용 확인\n",
    "- 한 변수에 의해 다른 변수의 효과가 변하는 것을 말합니다."
   ]
  },
  {
   "cell_type": "markdown",
   "metadata": {},
   "source": [
    "## 다중공선성 제거\n",
    "- 다중공선성은 예측변수 사이에 높은 상관관계가 있을 때 발생하며, 회귀계수 추정치의 신뢰성과 안정성에 문제를 발생시킨다. \n",
    "- 다중공선성을 진단하는데 널리 사용되는 분산팽창계수(variance inflation factor, VIF)\n",
    "- VIF가 1.8이라는 것은 특정 회귀계수의 분산(표준오차의 제곱)이 만약 해당 예측변수가 나머지 예측변수와 완전히 상관관계가 없다면 가졌을 분산보다 80% 크다는 의미이다. VIF는 하한선이 1이지만 상한선이 없다.\n",
    "- VIF가 10이 넘어가면 다중공선성이 있다고 판단하여 제거한다(변수를 하나씩 선택 제거해가며 VIF 계속 확인)\n",
    "- 분석상 논리적으로 필요하다고 판단되면 유지해본다"
   ]
  },
  {
   "cell_type": "code",
   "execution_count": null,
   "metadata": {},
   "outputs": [],
   "source": [
    "import statsmodels.api as sm\n",
    "import pandas\n",
    "from patsy import dmatrices\n",
    "\n",
    "y, X = dmatrices('y2 ~ season + holiday', data=df, return_type='dataframe')\n",
    "\n",
    "from statsmodels.stats.outliers_influence import variance_inflation_factor\n",
    "vif = pd.DataFrame()\n",
    "vif[\"VIF Factor\"] = [variance_inflation_factor(X.values, i) for i in range(X.shape[1])]\n",
    "vif[\"features\"] = X.columns \n",
    "vif"
   ]
  },
  {
   "cell_type": "markdown",
   "metadata": {},
   "source": [
    "## 회귀분석 - SVM\n",
    "- LinearSVR(C=1.0, dual=True, epsilon=1.5, fit_intercept=True,<br>\n",
    "     intercept_scaling=1.0, loss='epsilon_insensitive', max_iter=1000,<br>\n",
    "     random_state=42, tol=0.0001, verbose=0)"
   ]
  },
  {
   "cell_type": "code",
   "execution_count": 12,
   "metadata": {
    "ExecuteTime": {
     "end_time": "2020-12-03T13:33:23.840610Z",
     "start_time": "2020-12-03T13:33:23.835385Z"
    }
   },
   "outputs": [],
   "source": [
    "np.random.seed(42)\n",
    "m = 50\n",
    "X = 2 * np.random.rand(m,1)\n",
    "y = (4+3*X+np.random.randn(m,1)).ravel()"
   ]
  },
  {
   "cell_type": "code",
   "execution_count": 13,
   "metadata": {
    "ExecuteTime": {
     "end_time": "2020-12-03T13:33:25.006516Z",
     "start_time": "2020-12-03T13:33:24.996493Z"
    }
   },
   "outputs": [
    {
     "data": {
      "text/plain": [
       "LinearSVR(epsilon=0.5, random_state=42)"
      ]
     },
     "execution_count": 13,
     "metadata": {},
     "output_type": "execute_result"
    }
   ],
   "source": [
    "from sklearn.svm import LinearSVR\n",
    "\n",
    "svm_reg =LinearSVR(epsilon=1.5, random_state=42) # svm_reg = 기본 모형\n",
    "svm_reg1 = LinearSVR(epsilon=1.5, random_state=42) # svm_reg1 = 마진이 큰 모형(epsilon=1.5)\n",
    "svm_reg2 = LinearSVR(epsilon=0.5, random_state=42) # svm_reg2 = 마진이 작은 모형(epsilon=0.5)\n",
    "\n",
    "svm_reg.fit(X,y)\n",
    "svm_reg1.fit(X,y)\n",
    "svm_reg2.fit(X,y)"
   ]
  },
  {
   "cell_type": "code",
   "execution_count": 14,
   "metadata": {
    "ExecuteTime": {
     "end_time": "2020-12-03T13:33:25.227609Z",
     "start_time": "2020-12-03T13:33:25.220541Z"
    }
   },
   "outputs": [],
   "source": [
    "# 서포트 벡터 정하기\n",
    "#svm_reg 모델을 받고, X로 예측한 값 = y_pred\n",
    "#off_margin = 실제 y값과 예측값 사이의 오차를 절대값으로 표현하되, 해당 모형의 epsilon보다 크거나 같은 값\n",
    "#np.argwhere는 행렬에서 True에 해당하는 값 위치를 반환합니다.\n",
    "#따라서, 오차가 epsilon보다 큰 값들의 위치 반환하며 이 것들이 곧 서포트 벡터로 활용\n",
    "def find_support_vectors(svm_reg, X, y):\n",
    "    y_pred = svm_reg.predict(X)\n",
    "    off_margin = (np.abs(y - y_pred) >= svm_reg.epsilon)\n",
    "    return np.argwhere(off_margin)\n",
    "\n",
    "svm_reg1.support_ = find_support_vectors(svm_reg1, X, y)\n",
    "svm_reg2.support_ = find_support_vectors(svm_reg2, X, y)\n",
    "\n",
    "eps_x1 = 1\n",
    "eps_y_pred = svm_reg1.predict([[eps_x1]])"
   ]
  },
  {
   "cell_type": "code",
   "execution_count": 15,
   "metadata": {
    "ExecuteTime": {
     "end_time": "2020-12-03T13:33:26.851582Z",
     "start_time": "2020-12-03T13:33:26.843537Z"
    }
   },
   "outputs": [],
   "source": [
    "#plot찍기\n",
    "#np.linspace로 axes의 첫 번째 값과 두 번째 값 사이를 100개로 쪼갠 일정한 값 생성 후 100행 1열로 reshape\n",
    "#위 값(x1s)으로 예측한 y = y_pred\n",
    "#x, y를 plot하고, y_pred에서 epsilon을 빼고 더한 값도 plot\n",
    "#아까 구했던 서포트 벡터(지지도 벡터)를 scatter 찍기\n",
    "def plot_svm_regression(svm_reg, X, y, axes) :\n",
    "    x1s = np.linspace(axes[0], axes[1], 100).reshape(100,1)\n",
    "    y_pred = svm_reg.predict(x1s)\n",
    "    plt.plot(x1s, y_pred, 'k-', linewidth=2, label = r'y^')\n",
    "    plt.plot(x1s, y_pred + svm_reg.epsilon, 'k--')\n",
    "    plt.plot(x1s, y_pred - svm_reg.epsilon, 'k--')\n",
    "    plt.scatter(X[svm_reg.support_], y[svm_reg.support_], s=180, facecolors='#FFAAAA')\n",
    "    plt.plot(X, y, 'bo')\n",
    "    plt.xlabel(r'x1', fontsize=18)\n",
    "    plt.legend(loc='upper left', fontsize=18)\n",
    "    plt.axis(axes)"
   ]
  },
  {
   "cell_type": "code",
   "execution_count": 16,
   "metadata": {
    "ExecuteTime": {
     "end_time": "2020-12-03T13:33:28.796544Z",
     "start_time": "2020-12-03T13:33:28.458616Z"
    }
   },
   "outputs": [
    {
     "data": {
      "image/png": "[encoded data removed]",
      "text/plain": [
       "<Figure size 648x288 with 2 Axes>"
      ]
     },
     "metadata": {
      "needs_background": "light"
     },
     "output_type": "display_data"
    }
   ],
   "source": [
    "plt.figure(figsize=(9, 4))\n",
    "plt.subplot(121)\n",
    "plot_svm_regression(svm_reg1, X, y, [0,2,3,11])\n",
    "plt.title(r'ϵ={}'.format(svm_reg1.epsilon), fontsize=18)\n",
    "plt.ylabel(r'y', fontsize=18, rotation=0)\n",
    "#plt.plot([eps_x1, eps_x1], [eps_y_pred ,eps_y_pred - svm_reg1.epsilon], 'k-', linewidth=2)\n",
    "\n",
    "#위에서 eps_x1 = 1 로 두고, 예측한 값 = eps_y_pred\n",
    "#화살표와 함께 text를 넘기는 annotate\n",
    "#따라서 도로의 폭을 나타냅니다. (epsilon)\n",
    "#xy 는 주석을 달 위치입니다. ( eps_x1, eps_y_pred )\n",
    "#xytext 는 xy위치에 넣을 text\n",
    "#textcoords 는 지금 넣은 'data'가 default값이며, 주석을 달 객체의 좌표값 사용을 뜻합니다.\n",
    "#arrowprops는 화살표설정\n",
    "\n",
    "plt.annotate(\n",
    "    ' ', xy = (eps_x1, eps_y_pred), xycoords='data', \n",
    "    xytext = (eps_x1, eps_y_pred-svm_reg1.epsilon),\n",
    "    textcoords='data', arrowprops={'arrowstyle': '<->', 'linewidth' : 1.5}\n",
    "    )\n",
    "\n",
    "plt.text(0.91, 5.6, r'ϵ', fontsize=20)\n",
    "plt.subplot(122)\n",
    "plot_svm_regression(svm_reg2, X, y, [0,2,3,11])\n",
    "plt.title(r'ϵ={}'.format(svm_reg2.epsilon), fontsize=18)\n",
    "\n",
    "plt.show()"
   ]
  },
  {
   "cell_type": "markdown",
   "metadata": {},
   "source": [
    "## 회귀분석 - SVM - 비선형"
   ]
  },
  {
   "cell_type": "code",
   "execution_count": 9,
   "metadata": {
    "ExecuteTime": {
     "end_time": "2020-12-03T13:32:59.336557Z",
     "start_time": "2020-12-03T13:32:59.330547Z"
    }
   },
   "outputs": [],
   "source": [
    "np.random.seed(42)\n",
    "m = 100\n",
    "X = 2* np.random.rand(m,1) -1\n",
    "y = (0.2 + 0.1 * X + 0.5 * X**2 + np.random.randn(m,1) / 10).ravel()"
   ]
  },
  {
   "cell_type": "code",
   "execution_count": 10,
   "metadata": {
    "ExecuteTime": {
     "end_time": "2020-12-03T13:33:00.449559Z",
     "start_time": "2020-12-03T13:33:00.437273Z"
    }
   },
   "outputs": [
    {
     "data": {
      "text/plain": [
       "SVR(C=0.01, degree=2, gamma='auto', kernel='poly')"
      ]
     },
     "execution_count": 10,
     "metadata": {},
     "output_type": "execute_result"
    }
   ],
   "source": [
    "from sklearn.svm import SVR\n",
    "\n",
    "svm_poly_reg = SVR(kernel='poly', gamma='auto', degree=2, C=10, epsilon=0.1)\n",
    "svm_poly_reg.fit(X,y)\n",
    "\n",
    "svm_poly_reg1 = SVR(kernel='poly', gamma='auto', degree=2, C=100, epsilon=0.1)\n",
    "svm_poly_reg2 = SVR(kernel='poly', gamma='auto', degree=2, C=0.01, epsilon=0.1)\n",
    "svm_poly_reg1.fit(X,y)\n",
    "svm_poly_reg2.fit(X,y)"
   ]
  },
  {
   "cell_type": "code",
   "execution_count": 11,
   "metadata": {
    "ExecuteTime": {
     "end_time": "2020-12-03T13:33:02.205500Z",
     "start_time": "2020-12-03T13:33:01.912935Z"
    }
   },
   "outputs": [
    {
     "data": {
      "image/png": "[encoded data removed]",
      "text/plain": [
       "<Figure size 648x288 with 2 Axes>"
      ]
     },
     "metadata": {
      "needs_background": "light"
     },
     "output_type": "display_data"
    }
   ],
   "source": [
    "import matplotlib.pyplot as plt\n",
    "plt.figure(figsize=(9,4))\n",
    "\n",
    "plt.subplot(121)\n",
    "plot_svm_regression(svm_poly_reg1, X, y, [-1, 1, 0, 1])\n",
    "plt.title(r'degree={},C={},ϵ={}'.format(svm_poly_reg1.degree, svm_poly_reg1.C, svm_poly_reg1.epsilon), fontsize=18)\n",
    "\n",
    "plt.ylabel(r'y', fontsize=18, rotation=0)\n",
    "\n",
    "plt.subplot(122)\n",
    "plot_svm_regression(svm_poly_reg2, X, y, [-1, 1, 0, 1])\n",
    "plt.title(r'degree={},C={},ϵ={}'.format(svm_poly_reg2.degree, svm_poly_reg2.C, svm_poly_reg2.epsilon), fontsize=18)\n",
    "\n",
    "plt.show()"
   ]
  },
  {
   "cell_type": "code",
   "execution_count": null,
   "metadata": {},
   "outputs": [],
   "source": []
  },
  {
   "cell_type": "markdown",
   "metadata": {},
   "source": [
    "# 06_통계분석_2"
   ]
  },
  {
   "cell_type": "markdown",
   "metadata": {},
   "source": [
    "## 시계열 분석\n",
    "- https://www.youtube.com/watch?v=rdR2fNDq6v0&ab_channel=%E2%80%8D%EA%B9%80%EC%84%B1%EB%B2%94%5B%EB%8B%A8%EC%9E%A5%2F4%EB%8B%A8%EA%B3%84BK21%EC%82%B0%EC%97%85%EA%B2%BD%EC%98%81%EA%B3%B5%ED%95%99%EA%B5%90%EC%9C%A1%EC%97%B0%EA%B5%AC%EB%8B%A8%5D\n"
   ]
  },
  {
   "cell_type": "code",
   "execution_count": null,
   "metadata": {},
   "outputs": [],
   "source": [
    "# 정상성 확인 방법\n",
    "# 그래프로 확인 방법(추세가 있거나, 계절성이 있거나, 분산이 변하면 안 됨)\n",
    "# 평균과 분산이 시점에 관계없이 일정해야하고, 공분산도 시차에만 의존해야함"
   ]
  },
  {
   "cell_type": "markdown",
   "metadata": {},
   "source": [
    "### 모듈 불러오기"
   ]
  },
  {
   "cell_type": "code",
   "execution_count": 2,
   "metadata": {
    "ExecuteTime": {
     "end_time": "2020-12-09T13:11:11.147303Z",
     "start_time": "2020-12-09T13:11:11.136716Z"
    }
   },
   "outputs": [],
   "source": [
    "import os\n",
    "\n",
    "import pandas as pd\n",
    "\n",
    "from sklearn.model_selection import train_test_split\n",
    "from sklearn.metrics import r2_score\n",
    "\n",
    "import matplotlib.pyplot as plt\n",
    "import matplotlib\n",
    "plt.style.use('seaborn-whitegrid')\n",
    "\n",
    "import statsmodels.api as sm\n",
    "from statsmodels.graphics.tsaplots import plot_acf, plot_pacf\n",
    "from statsmodels.tsa.arima_model import ARIMA\n",
    "from statsmodels.tsa.statespace.sarimax import SARIMAX\n",
    "from pmdarima.arima import auto_arima  ## ADP 볼 때는 없을 패키지\n",
    "\n",
    "import seaborn as sns\n",
    "\n",
    "%matplotlib inline\n",
    "\n",
    "import itertools # 내장 패키지"
   ]
  },
  {
   "cell_type": "markdown",
   "metadata": {},
   "source": [
    "### 데이터 불러오기"
   ]
  },
  {
   "cell_type": "markdown",
   "metadata": {},
   "source": [
    "- 활용 데이터 : 공공 데이터(AirPassengers.csv)\n",
    "- 1949~1960년 매달 비행기 탑승객 수에 대한 시계열 데이터\n",
    "- 데이터 구조 : [144 x 1]"
   ]
  },
  {
   "cell_type": "code",
   "execution_count": 3,
   "metadata": {
    "ExecuteTime": {
     "end_time": "2020-12-09T13:11:12.929394Z",
     "start_time": "2020-12-09T13:11:12.903374Z"
    }
   },
   "outputs": [
    {
     "data": {
      "text/html": [
       "<div>\n",
       "<style scoped>\n",
       "    .dataframe tbody tr th:only-of-type {\n",
       "        vertical-align: middle;\n",
       "    }\n",
       "\n",
       "    .dataframe tbody tr th {\n",
       "        vertical-align: top;\n",
       "    }\n",
       "\n",
       "    .dataframe thead th {\n",
       "        text-align: right;\n",
       "    }\n",
       "</style>\n",
       "<table border=\"1\" class=\"dataframe\">\n",
       "  <thead>\n",
       "    <tr style=\"text-align: right;\">\n",
       "      <th></th>\n",
       "      <th>passengers</th>\n",
       "    </tr>\n",
       "    <tr>\n",
       "      <th>month</th>\n",
       "      <th></th>\n",
       "    </tr>\n",
       "  </thead>\n",
       "  <tbody>\n",
       "    <tr>\n",
       "      <th>1949-01-01</th>\n",
       "      <td>112</td>\n",
       "    </tr>\n",
       "    <tr>\n",
       "      <th>1949-02-01</th>\n",
       "      <td>118</td>\n",
       "    </tr>\n",
       "    <tr>\n",
       "      <th>1949-03-01</th>\n",
       "      <td>132</td>\n",
       "    </tr>\n",
       "    <tr>\n",
       "      <th>1949-04-01</th>\n",
       "      <td>129</td>\n",
       "    </tr>\n",
       "    <tr>\n",
       "      <th>1949-05-01</th>\n",
       "      <td>121</td>\n",
       "    </tr>\n",
       "  </tbody>\n",
       "</table>\n",
       "</div>"
      ],
      "text/plain": [
       "            passengers\n",
       "month                 \n",
       "1949-01-01         112\n",
       "1949-02-01         118\n",
       "1949-03-01         132\n",
       "1949-04-01         129\n",
       "1949-05-01         121"
      ]
     },
     "execution_count": 3,
     "metadata": {},
     "output_type": "execute_result"
    }
   ],
   "source": [
    "data = pd.read_csv('./data/AirPassengers.csv')\n",
    "data = data.rename(columns = {'Month':'month', '#Passengers':'passengers'})\n",
    "data['month'] = pd.to_datetime(data['month'])\n",
    "data = data.set_index('month')   ### 시간 컬럼을 인덱스로 만들어줌\n",
    "data.head()"
   ]
  },
  {
   "cell_type": "markdown",
   "metadata": {},
   "source": [
    "### Box-Jenjins ARIMA Procedure\n",
    "1) Data Preprocessing<br>\n",
    "2) Identify Model to be Tentatively Entertainted<br>\n",
    "3) Estimate Parameters<br>\n",
    "4) Diagnosis Check<br>\n",
    "5) Use Model to Forecast"
   ]
  },
  {
   "cell_type": "code",
   "execution_count": 3,
   "metadata": {
    "ExecuteTime": {
     "end_time": "2020-12-02T13:15:55.026696Z",
     "start_time": "2020-12-02T13:15:54.723539Z"
    }
   },
   "outputs": [
    {
     "data": {
      "image/png": "[encoded data removed]",
      "text/plain": [
       "<Figure size 432x288 with 1 Axes>"
      ]
     },
     "metadata": {
      "needs_background": "light"
     },
     "output_type": "display_data"
    }
   ],
   "source": [
    "fig = data.plot()"
   ]
  },
  {
   "cell_type": "code",
   "execution_count": 5,
   "metadata": {
    "ExecuteTime": {
     "end_time": "2020-12-09T13:21:10.563991Z",
     "start_time": "2020-12-09T13:21:09.911922Z"
    }
   },
   "outputs": [
    {
     "data": {
      "image/png": "[encoded data removed]",
      "text/plain": [
       "<Figure size 720x720 with 4 Axes>"
      ]
     },
     "metadata": {
      "needs_background": "light"
     },
     "output_type": "display_data"
    }
   ],
   "source": [
    "# Seasonal decomposition plot : Seasonal decomposition using moving averages.\n",
    "\n",
    "# Observed : observed data\n",
    "# Trend : The estimated trend component\n",
    "# Seasonal : The estimated seasonal component\n",
    "# resid : The estimated residuals\n",
    "decomposition = sm.tsa.seasonal_decompose(data['passengers'], model = 'additive', period=1)\n",
    "fig = decomposition.plot()\n",
    "fig.set_size_inches(10,10)\n",
    "plt.show()"
   ]
  },
  {
   "cell_type": "markdown",
   "metadata": {},
   "source": [
    "### Identify Model to be Tentatively Entertainted"
   ]
  },
  {
   "cell_type": "code",
   "execution_count": 9,
   "metadata": {
    "ExecuteTime": {
     "end_time": "2020-12-09T13:26:10.192615Z",
     "start_time": "2020-12-09T13:26:10.187141Z"
    }
   },
   "outputs": [],
   "source": [
    "# Tr, Te = 8:2\n",
    "train_data, test_data = train_test_split(data, test_size=0.2, shuffle=False)"
   ]
  },
  {
   "cell_type": "code",
   "execution_count": 10,
   "metadata": {
    "ExecuteTime": {
     "end_time": "2020-12-09T13:26:10.208630Z",
     "start_time": "2020-12-09T13:26:10.195606Z"
    }
   },
   "outputs": [
    {
     "data": {
      "text/plain": [
       "array([112, 118, 132, 129, 121, 135, 148, 148, 136, 119, 104, 118, 115,\n",
       "       126, 141, 135, 125, 149, 170, 170, 158, 133, 114, 140, 145, 150,\n",
       "       178, 163, 172, 178, 199, 199, 184, 162, 146, 166, 171, 180, 193,\n",
       "       181, 183, 218, 230, 242, 209, 191, 172, 194, 196, 196, 236, 235,\n",
       "       229, 243, 264, 272, 237, 211, 180, 201, 204, 188, 235, 227, 234,\n",
       "       264, 302, 293, 259, 229, 203, 229, 242, 233, 267, 269, 270, 315,\n",
       "       364, 347, 312, 274, 237, 278, 284, 277, 317, 313, 318, 374, 413,\n",
       "       405, 355, 306, 271, 306, 315, 301, 356, 348, 355, 422, 465, 467,\n",
       "       404, 347, 305, 336, 340, 318, 362, 348, 363, 435, 491], dtype=int64)"
      ]
     },
     "execution_count": 10,
     "metadata": {},
     "output_type": "execute_result"
    }
   ],
   "source": [
    "# 참고 #\n",
    "train_data.values.squeeze()"
   ]
  },
  {
   "cell_type": "code",
   "execution_count": 11,
   "metadata": {
    "ExecuteTime": {
     "end_time": "2020-12-09T13:26:10.547663Z",
     "start_time": "2020-12-09T13:26:10.211564Z"
    }
   },
   "outputs": [
    {
     "data": {
      "image/png": "[encoded data removed]",
      "text/plain": [
       "<Figure size 720x360 with 2 Axes>"
      ]
     },
     "metadata": {
      "needs_background": "light"
     },
     "output_type": "display_data"
    }
   ],
   "source": [
    "# ACF, PACF plot\n",
    "\n",
    "fig, ax = plt.subplots(1,2, figsize = (10, 5))\n",
    "fig.suptitle('Raw Data')\n",
    "sm.graphics.tsa.plot_acf(train_data.values.squeeze(), lags = 30, ax = ax[0])\n",
    "sm.graphics.tsa.plot_pacf(train_data.values.squeeze(), lags = 30, ax = ax[1])\n",
    "plt.show()\n",
    "### ACF 그래프가 점진적으로 감소하는 것은 전형적인 Non-stationary 데이터이다 = 정상정이 없음"
   ]
  },
  {
   "cell_type": "code",
   "execution_count": 12,
   "metadata": {
    "ExecuteTime": {
     "end_time": "2020-12-09T13:26:10.562176Z",
     "start_time": "2020-12-09T13:26:10.550579Z"
    }
   },
   "outputs": [
    {
     "name": "stdout",
     "output_type": "stream",
     "text": [
      "##### Raw Data #####\n",
      "            passengers\n",
      "month                 \n",
      "1949-01-01         112\n",
      "1949-02-01         118\n",
      "1949-03-01         132\n",
      "1949-04-01         129\n",
      "1949-05-01         121\n",
      "...                ...\n",
      "1958-03-01         362\n",
      "1958-04-01         348\n",
      "1958-05-01         363\n",
      "1958-06-01         435\n",
      "1958-07-01         491\n",
      "\n",
      "[115 rows x 1 columns]\n",
      "### Differenced Data ###\n",
      "month\n",
      "1949-02-01     6.0\n",
      "1949-03-01    14.0\n",
      "1949-04-01    -3.0\n",
      "1949-05-01    -8.0\n",
      "1949-06-01    14.0\n",
      "              ... \n",
      "1958-03-01    44.0\n",
      "1958-04-01   -14.0\n",
      "1958-05-01    15.0\n",
      "1958-06-01    72.0\n",
      "1958-07-01    56.0\n",
      "Name: passengers, Length: 114, dtype: float64\n"
     ]
    }
   ],
   "source": [
    "# Differencing\n",
    "\n",
    "diff_train_data = train_data.copy()\n",
    "diff_train_data = diff_train_data['passengers'].diff()\n",
    "diff_train_data = diff_train_data.dropna()\n",
    "print('##### Raw Data #####')\n",
    "print(train_data)\n",
    "print('### Differenced Data ###')\n",
    "print(diff_train_data)"
   ]
  },
  {
   "cell_type": "code",
   "execution_count": 13,
   "metadata": {
    "ExecuteTime": {
     "end_time": "2020-12-09T13:26:10.989840Z",
     "start_time": "2020-12-09T13:26:10.564163Z"
    }
   },
   "outputs": [
    {
     "data": {
      "image/png": "[encoded data removed]",
      "text/plain": [
       "<Figure size 864x576 with 2 Axes>"
      ]
     },
     "metadata": {
      "needs_background": "light"
     },
     "output_type": "display_data"
    }
   ],
   "source": [
    "# differenced data plot\n",
    "\n",
    "plt.figure(figsize = (12,8))\n",
    "plt.subplot(211)\n",
    "plt.plot(train_data['passengers'])\n",
    "plt.subplot(212)\n",
    "plt.plot(diff_train_data, 'orange') # first difference (t - (t-1))\n",
    "plt.legend(['Differenced Data (Stationary)'])\n",
    "plt.show()"
   ]
  },
  {
   "cell_type": "code",
   "execution_count": 14,
   "metadata": {
    "ExecuteTime": {
     "end_time": "2020-12-09T13:26:11.368472Z",
     "start_time": "2020-12-09T13:26:11.038632Z"
    },
    "scrolled": false
   },
   "outputs": [
    {
     "name": "stderr",
     "output_type": "stream",
     "text": [
      "C:\\Users\\50008313\\AppData\\Local\\Continuum\\anaconda3\\lib\\site-packages\\statsmodels\\regression\\linear_model.py:1406: RuntimeWarning: invalid value encountered in sqrt\n",
      "  return rho, np.sqrt(sigmasq)\n"
     ]
    },
    {
     "data": {
      "image/png": "[encoded data removed]",
      "text/plain": [
       "<Figure size 720x360 with 2 Axes>"
      ]
     },
     "metadata": {
      "needs_background": "light"
     },
     "output_type": "display_data"
    }
   ],
   "source": [
    "# ACF, PACF plot\n",
    "\n",
    "fig, ax = plt.subplots(1,2, figsize = (10, 5))\n",
    "fig.suptitle('Differenced Data')\n",
    "sm.graphics.tsa.plot_acf(diff_train_data.values.squeeze(), lags = 30, ax = ax[0])\n",
    "sm.graphics.tsa.plot_pacf(diff_train_data.values.squeeze(), lags = 30, ax = ax[1])\n",
    "plt.show()"
   ]
  },
  {
   "cell_type": "markdown",
   "metadata": {},
   "source": [
    "<img src=\"P02_ARMA_pq_선정기준.png\">"
   ]
  },
  {
   "cell_type": "markdown",
   "metadata": {},
   "source": [
    "- ACF는 싸인 곡선의 형태로 점차 감소한다고 보이고, PACF는 애매하지만 Lag 1 이후 절단면을 가지는 것으로 판단하여 AR(1) 모델을 선택함"
   ]
  },
  {
   "cell_type": "markdown",
   "metadata": {},
   "source": [
    "### Estimate Parameters"
   ]
  },
  {
   "cell_type": "code",
   "execution_count": 15,
   "metadata": {
    "ExecuteTime": {
     "end_time": "2020-12-09T13:26:11.379443Z",
     "start_time": "2020-12-09T13:26:11.371464Z"
    },
    "scrolled": true
   },
   "outputs": [
    {
     "data": {
      "text/plain": [
       "array([[112],\n",
       "       [118],\n",
       "       [132],\n",
       "       [129],\n",
       "       [121],\n",
       "       [135],\n",
       "       [148],\n",
       "       [148],\n",
       "       [136],\n",
       "       [119],\n",
       "       [104],\n",
       "       [118],\n",
       "       [115],\n",
       "       [126],\n",
       "       [141],\n",
       "       [135],\n",
       "       [125],\n",
       "       [149],\n",
       "       [170],\n",
       "       [170],\n",
       "       [158],\n",
       "       [133],\n",
       "       [114],\n",
       "       [140],\n",
       "       [145],\n",
       "       [150],\n",
       "       [178],\n",
       "       [163],\n",
       "       [172],\n",
       "       [178],\n",
       "       [199],\n",
       "       [199],\n",
       "       [184],\n",
       "       [162],\n",
       "       [146],\n",
       "       [166],\n",
       "       [171],\n",
       "       [180],\n",
       "       [193],\n",
       "       [181],\n",
       "       [183],\n",
       "       [218],\n",
       "       [230],\n",
       "       [242],\n",
       "       [209],\n",
       "       [191],\n",
       "       [172],\n",
       "       [194],\n",
       "       [196],\n",
       "       [196],\n",
       "       [236],\n",
       "       [235],\n",
       "       [229],\n",
       "       [243],\n",
       "       [264],\n",
       "       [272],\n",
       "       [237],\n",
       "       [211],\n",
       "       [180],\n",
       "       [201],\n",
       "       [204],\n",
       "       [188],\n",
       "       [235],\n",
       "       [227],\n",
       "       [234],\n",
       "       [264],\n",
       "       [302],\n",
       "       [293],\n",
       "       [259],\n",
       "       [229],\n",
       "       [203],\n",
       "       [229],\n",
       "       [242],\n",
       "       [233],\n",
       "       [267],\n",
       "       [269],\n",
       "       [270],\n",
       "       [315],\n",
       "       [364],\n",
       "       [347],\n",
       "       [312],\n",
       "       [274],\n",
       "       [237],\n",
       "       [278],\n",
       "       [284],\n",
       "       [277],\n",
       "       [317],\n",
       "       [313],\n",
       "       [318],\n",
       "       [374],\n",
       "       [413],\n",
       "       [405],\n",
       "       [355],\n",
       "       [306],\n",
       "       [271],\n",
       "       [306],\n",
       "       [315],\n",
       "       [301],\n",
       "       [356],\n",
       "       [348],\n",
       "       [355],\n",
       "       [422],\n",
       "       [465],\n",
       "       [467],\n",
       "       [404],\n",
       "       [347],\n",
       "       [305],\n",
       "       [336],\n",
       "       [340],\n",
       "       [318],\n",
       "       [362],\n",
       "       [348],\n",
       "       [363],\n",
       "       [435],\n",
       "       [491]], dtype=int64)"
      ]
     },
     "execution_count": 15,
     "metadata": {},
     "output_type": "execute_result"
    }
   ],
   "source": [
    "# 참고 #\n",
    "train_data.values"
   ]
  },
  {
   "cell_type": "code",
   "execution_count": 16,
   "metadata": {
    "ExecuteTime": {
     "end_time": "2020-12-09T13:26:11.563300Z",
     "start_time": "2020-12-09T13:26:11.382435Z"
    }
   },
   "outputs": [
    {
     "data": {
      "text/html": [
       "<table class=\"simpletable\">\n",
       "<caption>ARIMA Model Results</caption>\n",
       "<tr>\n",
       "  <th>Dep. Variable:</th>        <td>D.y</td>       <th>  No. Observations:  </th>    <td>114</td>  \n",
       "</tr>\n",
       "<tr>\n",
       "  <th>Model:</th>          <td>ARIMA(1, 1, 0)</td>  <th>  Log Likelihood     </th> <td>-531.720</td>\n",
       "</tr>\n",
       "<tr>\n",
       "  <th>Method:</th>             <td>css-mle</td>     <th>  S.D. of innovations</th>  <td>25.659</td> \n",
       "</tr>\n",
       "<tr>\n",
       "  <th>Date:</th>          <td>Wed, 09 Dec 2020</td> <th>  AIC                </th> <td>1069.440</td>\n",
       "</tr>\n",
       "<tr>\n",
       "  <th>Time:</th>              <td>22:26:11</td>     <th>  BIC                </th> <td>1077.649</td>\n",
       "</tr>\n",
       "<tr>\n",
       "  <th>Sample:</th>                <td>1</td>        <th>  HQIC               </th> <td>1072.771</td>\n",
       "</tr>\n",
       "<tr>\n",
       "  <th></th>                       <td> </td>        <th>                     </th>     <td> </td>   \n",
       "</tr>\n",
       "</table>\n",
       "<table class=\"simpletable\">\n",
       "<tr>\n",
       "      <td></td>         <th>coef</th>     <th>std err</th>      <th>z</th>      <th>P>|z|</th>  <th>[0.025</th>    <th>0.975]</th>  \n",
       "</tr>\n",
       "<tr>\n",
       "  <th>const</th>     <td>    3.5124</td> <td>    3.329</td> <td>    1.055</td> <td> 0.291</td> <td>   -3.012</td> <td>   10.037</td>\n",
       "</tr>\n",
       "<tr>\n",
       "  <th>ar.L1.D.y</th> <td>    0.2803</td> <td>    0.091</td> <td>    3.077</td> <td> 0.002</td> <td>    0.102</td> <td>    0.459</td>\n",
       "</tr>\n",
       "</table>\n",
       "<table class=\"simpletable\">\n",
       "<caption>Roots</caption>\n",
       "<tr>\n",
       "    <td></td>   <th>            Real</th>  <th>         Imaginary</th> <th>         Modulus</th>  <th>        Frequency</th>\n",
       "</tr>\n",
       "<tr>\n",
       "  <th>AR.1</th> <td>           3.5681</td> <td>          +0.0000j</td> <td>           3.5681</td> <td>           0.0000</td>\n",
       "</tr>\n",
       "</table>"
      ],
      "text/plain": [
       "<class 'statsmodels.iolib.summary.Summary'>\n",
       "\"\"\"\n",
       "                             ARIMA Model Results                              \n",
       "==============================================================================\n",
       "Dep. Variable:                    D.y   No. Observations:                  114\n",
       "Model:                 ARIMA(1, 1, 0)   Log Likelihood                -531.720\n",
       "Method:                       css-mle   S.D. of innovations             25.659\n",
       "Date:                Wed, 09 Dec 2020   AIC                           1069.440\n",
       "Time:                        22:26:11   BIC                           1077.649\n",
       "Sample:                             1   HQIC                          1072.771\n",
       "                                                                              \n",
       "==============================================================================\n",
       "                 coef    std err          z      P>|z|      [0.025      0.975]\n",
       "------------------------------------------------------------------------------\n",
       "const          3.5124      3.329      1.055      0.291      -3.012      10.037\n",
       "ar.L1.D.y      0.2803      0.091      3.077      0.002       0.102       0.459\n",
       "                                    Roots                                    \n",
       "=============================================================================\n",
       "                  Real          Imaginary           Modulus         Frequency\n",
       "-----------------------------------------------------------------------------\n",
       "AR.1            3.5681           +0.0000j            3.5681            0.0000\n",
       "-----------------------------------------------------------------------------\n",
       "\"\"\""
      ]
     },
     "execution_count": 16,
     "metadata": {},
     "output_type": "execute_result"
    }
   ],
   "source": [
    "# ARIMA model fitting\n",
    "# The (p, d, q) order of the model for the number of AR parameters, differences, and MA parameters to use.\n",
    "\n",
    "model = ARIMA(train_data.values, order=(1,1,0))\n",
    "model_fit = model.fit()\n",
    "model_fit.summary()\n",
    "\n",
    "# AIC 값은 1069.44이고, constant의 p-value 값이 유의미하지 않게 나왔다."
   ]
  },
  {
   "cell_type": "markdown",
   "metadata": {},
   "source": [
    "### Diagnosis Check - ARIMA"
   ]
  },
  {
   "cell_type": "code",
   "execution_count": 17,
   "metadata": {
    "ExecuteTime": {
     "end_time": "2020-12-09T13:26:11.576308Z",
     "start_time": "2020-12-09T13:26:11.566325Z"
    }
   },
   "outputs": [
    {
     "name": "stdout",
     "output_type": "stream",
     "text": [
      "Examples of parameter combinations for Seasonal ARIMA...\n"
     ]
    }
   ],
   "source": [
    "# Parameter search\n",
    "\n",
    "print('Examples of parameter combinations for Seasonal ARIMA...')\n",
    "p = range(0,3)\n",
    "d = range(1,2)\n",
    "q = range(0,3)"
   ]
  },
  {
   "cell_type": "code",
   "execution_count": 18,
   "metadata": {
    "ExecuteTime": {
     "end_time": "2020-12-09T13:26:11.588268Z",
     "start_time": "2020-12-09T13:26:11.580310Z"
    }
   },
   "outputs": [
    {
     "data": {
      "text/plain": [
       "[(0, 1, 0),\n",
       " (0, 1, 1),\n",
       " (0, 1, 2),\n",
       " (1, 1, 0),\n",
       " (1, 1, 1),\n",
       " (1, 1, 2),\n",
       " (2, 1, 0),\n",
       " (2, 1, 1),\n",
       " (2, 1, 2)]"
      ]
     },
     "execution_count": 18,
     "metadata": {},
     "output_type": "execute_result"
    }
   ],
   "source": [
    "pdq = list(itertools.product(p, d, q))\n",
    "pdq"
   ]
  },
  {
   "cell_type": "code",
   "execution_count": 19,
   "metadata": {
    "ExecuteTime": {
     "end_time": "2020-12-09T13:26:12.747740Z",
     "start_time": "2020-12-09T13:26:11.590292Z"
    }
   },
   "outputs": [
    {
     "name": "stdout",
     "output_type": "stream",
     "text": [
      "ARIMA: (0, 1, 0) >> AIC : 1076.52\n",
      "ARIMA: (0, 1, 1) >> AIC : 1064.62\n",
      "ARIMA: (0, 1, 2) >> AIC : 1061.08\n",
      "ARIMA: (1, 1, 0) >> AIC : 1069.44\n",
      "ARIMA: (1, 1, 1) >> AIC : 1058.83\n",
      "ARIMA: (1, 1, 2) >> AIC : 1046.05\n",
      "ARIMA: (2, 1, 0) >> AIC : 1066.2\n",
      "ARIMA: (2, 1, 1) >> AIC : 1045.66\n",
      "ARIMA: (2, 1, 2) >> AIC : 1047.19\n"
     ]
    }
   ],
   "source": [
    "aic=[]\n",
    "for i in pdq:\n",
    "    model = ARIMA(train_data.values, order=(i))\n",
    "    model_fit = model.fit()\n",
    "    print(f'ARIMA: {i} >> AIC : {round(model_fit.aic, 2)}')\n",
    "    aic.append(round(model_fit.aic,2))"
   ]
  },
  {
   "cell_type": "code",
   "execution_count": 20,
   "metadata": {
    "ExecuteTime": {
     "end_time": "2020-12-09T13:26:12.760857Z",
     "start_time": "2020-12-09T13:26:12.751727Z"
    }
   },
   "outputs": [
    {
     "data": {
      "text/plain": [
       "[((2, 1, 1), 1045.66)]"
      ]
     },
     "execution_count": 20,
     "metadata": {},
     "output_type": "execute_result"
    }
   ],
   "source": [
    "# Search optimal parameters\n",
    "\n",
    "optimal = [(pdq[i], j) for i, j in enumerate(aic) if j == min(aic)]\n",
    "optimal"
   ]
  },
  {
   "cell_type": "code",
   "execution_count": 21,
   "metadata": {
    "ExecuteTime": {
     "end_time": "2020-12-09T13:26:13.013758Z",
     "start_time": "2020-12-09T13:26:12.762849Z"
    }
   },
   "outputs": [
    {
     "data": {
      "text/html": [
       "<table class=\"simpletable\">\n",
       "<caption>ARIMA Model Results</caption>\n",
       "<tr>\n",
       "  <th>Dep. Variable:</th>        <td>D.y</td>       <th>  No. Observations:  </th>    <td>114</td>  \n",
       "</tr>\n",
       "<tr>\n",
       "  <th>Model:</th>          <td>ARIMA(2, 1, 1)</td>  <th>  Log Likelihood     </th> <td>-517.830</td>\n",
       "</tr>\n",
       "<tr>\n",
       "  <th>Method:</th>             <td>css-mle</td>     <th>  S.D. of innovations</th>  <td>22.317</td> \n",
       "</tr>\n",
       "<tr>\n",
       "  <th>Date:</th>          <td>Wed, 09 Dec 2020</td> <th>  AIC                </th> <td>1045.660</td>\n",
       "</tr>\n",
       "<tr>\n",
       "  <th>Time:</th>              <td>22:26:12</td>     <th>  BIC                </th> <td>1059.341</td>\n",
       "</tr>\n",
       "<tr>\n",
       "  <th>Sample:</th>                <td>1</td>        <th>  HQIC               </th> <td>1051.212</td>\n",
       "</tr>\n",
       "<tr>\n",
       "  <th></th>                       <td> </td>        <th>                     </th>     <td> </td>   \n",
       "</tr>\n",
       "</table>\n",
       "<table class=\"simpletable\">\n",
       "<tr>\n",
       "      <td></td>         <th>coef</th>     <th>std err</th>      <th>z</th>      <th>P>|z|</th>  <th>[0.025</th>    <th>0.975]</th>  \n",
       "</tr>\n",
       "<tr>\n",
       "  <th>const</th>     <td>    2.5600</td> <td>    0.163</td> <td>   15.754</td> <td> 0.000</td> <td>    2.241</td> <td>    2.878</td>\n",
       "</tr>\n",
       "<tr>\n",
       "  <th>ar.L1.D.y</th> <td>    1.0890</td> <td>    0.085</td> <td>   12.816</td> <td> 0.000</td> <td>    0.922</td> <td>    1.256</td>\n",
       "</tr>\n",
       "<tr>\n",
       "  <th>ar.L2.D.y</th> <td>   -0.4730</td> <td>    0.086</td> <td>   -5.528</td> <td> 0.000</td> <td>   -0.641</td> <td>   -0.305</td>\n",
       "</tr>\n",
       "<tr>\n",
       "  <th>ma.L1.D.y</th> <td>   -0.9999</td> <td>    0.040</td> <td>  -25.219</td> <td> 0.000</td> <td>   -1.078</td> <td>   -0.922</td>\n",
       "</tr>\n",
       "</table>\n",
       "<table class=\"simpletable\">\n",
       "<caption>Roots</caption>\n",
       "<tr>\n",
       "    <td></td>   <th>            Real</th>  <th>         Imaginary</th> <th>         Modulus</th>  <th>        Frequency</th>\n",
       "</tr>\n",
       "<tr>\n",
       "  <th>AR.1</th> <td>           1.1512</td> <td>          -0.8882j</td> <td>           1.4540</td> <td>          -0.1046</td>\n",
       "</tr>\n",
       "<tr>\n",
       "  <th>AR.2</th> <td>           1.1512</td> <td>          +0.8882j</td> <td>           1.4540</td> <td>           0.1046</td>\n",
       "</tr>\n",
       "<tr>\n",
       "  <th>MA.1</th> <td>           1.0001</td> <td>          +0.0000j</td> <td>           1.0001</td> <td>           0.0000</td>\n",
       "</tr>\n",
       "</table>"
      ],
      "text/plain": [
       "<class 'statsmodels.iolib.summary.Summary'>\n",
       "\"\"\"\n",
       "                             ARIMA Model Results                              \n",
       "==============================================================================\n",
       "Dep. Variable:                    D.y   No. Observations:                  114\n",
       "Model:                 ARIMA(2, 1, 1)   Log Likelihood                -517.830\n",
       "Method:                       css-mle   S.D. of innovations             22.317\n",
       "Date:                Wed, 09 Dec 2020   AIC                           1045.660\n",
       "Time:                        22:26:12   BIC                           1059.341\n",
       "Sample:                             1   HQIC                          1051.212\n",
       "                                                                              \n",
       "==============================================================================\n",
       "                 coef    std err          z      P>|z|      [0.025      0.975]\n",
       "------------------------------------------------------------------------------\n",
       "const          2.5600      0.163     15.754      0.000       2.241       2.878\n",
       "ar.L1.D.y      1.0890      0.085     12.816      0.000       0.922       1.256\n",
       "ar.L2.D.y     -0.4730      0.086     -5.528      0.000      -0.641      -0.305\n",
       "ma.L1.D.y     -0.9999      0.040    -25.219      0.000      -1.078      -0.922\n",
       "                                    Roots                                    \n",
       "=============================================================================\n",
       "                  Real          Imaginary           Modulus         Frequency\n",
       "-----------------------------------------------------------------------------\n",
       "AR.1            1.1512           -0.8882j            1.4540           -0.1046\n",
       "AR.2            1.1512           +0.8882j            1.4540            0.1046\n",
       "MA.1            1.0001           +0.0000j            1.0001            0.0000\n",
       "-----------------------------------------------------------------------------\n",
       "\"\"\""
      ]
     },
     "execution_count": 21,
     "metadata": {},
     "output_type": "execute_result"
    }
   ],
   "source": [
    "# 위 최적 값으로 만든 모델 다시 Summary\n",
    "\n",
    "model_opt = ARIMA(train_data.values, order = optimal[0][0])\n",
    "model_opt_fit = model_opt.fit()\n",
    "model_opt_fit.summary()\n",
    "\n",
    "# AIC score가 1045.66으로 임의의 모델보다 성능이 좋아졌고, p-value도 모두 유의미하게 나옴"
   ]
  },
  {
   "cell_type": "markdown",
   "metadata": {},
   "source": [
    "### Use Model to Forecast - ARIMA"
   ]
  },
  {
   "cell_type": "code",
   "execution_count": 22,
   "metadata": {
    "ExecuteTime": {
     "end_time": "2020-12-09T13:26:13.029300Z",
     "start_time": "2020-12-09T13:26:13.018290Z"
    }
   },
   "outputs": [],
   "source": [
    "prediction = model_opt_fit.forecast(len(test_data))\n",
    "predicted_value = prediction[0]\n",
    "predicted_ub = prediction[2][:,0]\n",
    "predicted_lb = prediction[2][:,1]\n",
    "predict_index = list(test_data.index)\n",
    "r2 = r2_score(test_data, predicted_value)"
   ]
  },
  {
   "cell_type": "code",
   "execution_count": 56,
   "metadata": {
    "ExecuteTime": {
     "end_time": "2020-12-02T13:47:28.201771Z",
     "start_time": "2020-12-02T13:47:27.909807Z"
    }
   },
   "outputs": [
    {
     "data": {
      "image/png": "[encoded data removed]",
      "text/plain": [
       "<Figure size 864x432 with 1 Axes>"
      ]
     },
     "metadata": {
      "needs_background": "light"
     },
     "output_type": "display_data"
    }
   ],
   "source": [
    "fig, ax = plt.subplots(figsize=(12,6))\n",
    "\n",
    "ax.plot(predict_index, predicted_value, color = 'orange', label = 'Prediction') # 예측값(위 vline 이후 구간에 표시됨)\n",
    "ax.fill_between(predict_index, predicted_lb, predicted_ub, color = 'k', alpha = 0.1, label = '0.95 Prediction Interval')\n",
    "\n",
    "data.plot(ax = ax);\n",
    "ax.vlines('1958-08-01', 0, 1000, linestyle = '--', color = 'r', label = 'Start of Forecast') # x좌표를 날짜로 적음\n",
    "ax.legend(loc='upper left')\n",
    "plt.suptitle(f'ARIMA {optimal[0][0]} Prediction Results (r2_score: {round(r2,2)})')\n",
    "\n",
    "plt.show()\n",
    "\n",
    "# 빨간 점선 이후의 주황색 선이 예측값이며, 회색 구간이 95% interval 구간이다.\n",
    "# 대체로 추세를 따라가나 피크 값을 완벽히 예측하기에는 다소 무리가 있는 것을 볼 수 있다.\n",
    "# R2 score도 0.22 수준인 것을 확인할 수 있었다."
   ]
  },
  {
   "cell_type": "markdown",
   "metadata": {
    "ExecuteTime": {
     "end_time": "2020-12-02T13:50:06.680860Z",
     "start_time": "2020-12-02T13:50:06.677429Z"
    }
   },
   "source": [
    "### (참고) Diagnosis Sheck - SARIMA\n",
    "- SARIMA까지 해야하는 것인지는 모르겠음"
   ]
  },
  {
   "cell_type": "code",
   "execution_count": 58,
   "metadata": {
    "ExecuteTime": {
     "end_time": "2020-12-02T13:52:33.319815Z",
     "start_time": "2020-12-02T13:52:33.310744Z"
    }
   },
   "outputs": [
    {
     "name": "stdout",
     "output_type": "stream",
     "text": [
      "Examples of parameter combinations for Seasonal ARIMA...\n"
     ]
    },
    {
     "data": {
      "text/plain": [
       "[(0, 1, 0, 12),\n",
       " (0, 1, 1, 12),\n",
       " (0, 1, 2, 12),\n",
       " (1, 1, 0, 12),\n",
       " (1, 1, 1, 12),\n",
       " (1, 1, 2, 12),\n",
       " (2, 1, 0, 12),\n",
       " (2, 1, 1, 12),\n",
       " (2, 1, 2, 12)]"
      ]
     },
     "execution_count": 58,
     "metadata": {},
     "output_type": "execute_result"
    }
   ],
   "source": [
    "print('Examples of parameter combinations for Seasonal ARIMA...')\n",
    "p = range(0,3)\n",
    "d = range(1,2)\n",
    "q = range(0,3)\n",
    "pdq = list(itertools.product(p, d, q))\n",
    "seasonal_pdq = [(x[0], x[1], x[2], 12 # 계절성이 12개월마다 있다고 생각해서 12 입력. 얘도 위에 range로 탐색해도 됨\n",
    "                ) for x in list(itertools.product(p, d, q))]\n",
    "seasonal_pdq"
   ]
  },
  {
   "cell_type": "code",
   "execution_count": 68,
   "metadata": {
    "ExecuteTime": {
     "end_time": "2020-12-02T14:07:20.995279Z",
     "start_time": "2020-12-02T14:05:00.841185Z"
    },
    "scrolled": true
   },
   "outputs": [
    {
     "name": "stdout",
     "output_type": "stream",
     "text": [
      "SARIMA: (0, 1, 0)(0, 1, 0, 12) >> AIC : 757.83\n",
      "SARIMA: (0, 1, 0)(0, 1, 1, 12) >> AIC : 756.99\n",
      "SARIMA: (0, 1, 0)(0, 1, 2, 12) >> AIC : 758.83\n",
      "SARIMA: (0, 1, 0)(1, 1, 0, 12) >> AIC : 756.96\n",
      "SARIMA: (0, 1, 0)(1, 1, 1, 12) >> AIC : 758.92\n",
      "SARIMA: (0, 1, 0)(1, 1, 2, 12) >> AIC : 754.42\n",
      "SARIMA: (0, 1, 0)(2, 1, 0, 12) >> AIC : 758.87\n",
      "SARIMA: (0, 1, 0)(2, 1, 1, 12) >> AIC : 760.73\n"
     ]
    },
    {
     "name": "stderr",
     "output_type": "stream",
     "text": [
      "C:\\Users\\50008313\\AppData\\Local\\Continuum\\anaconda3\\lib\\site-packages\\statsmodels\\base\\model.py:568: ConvergenceWarning: Maximum Likelihood optimization failed to converge. Check mle_retvals\n",
      "  \"Check mle_retvals\", ConvergenceWarning)\n"
     ]
    },
    {
     "name": "stdout",
     "output_type": "stream",
     "text": [
      "SARIMA: (0, 1, 0)(2, 1, 2, 12) >> AIC : 754.9\n",
      "SARIMA: (0, 1, 1)(0, 1, 0, 12) >> AIC : 756.01\n",
      "SARIMA: (0, 1, 1)(0, 1, 1, 12) >> AIC : 756.38\n",
      "SARIMA: (0, 1, 1)(0, 1, 2, 12) >> AIC : 757.65\n",
      "SARIMA: (0, 1, 1)(1, 1, 0, 12) >> AIC : 756.17\n",
      "SARIMA: (0, 1, 1)(1, 1, 1, 12) >> AIC : 758.11\n"
     ]
    },
    {
     "name": "stderr",
     "output_type": "stream",
     "text": [
      "C:\\Users\\50008313\\AppData\\Local\\Continuum\\anaconda3\\lib\\site-packages\\statsmodels\\base\\model.py:568: ConvergenceWarning: Maximum Likelihood optimization failed to converge. Check mle_retvals\n",
      "  \"Check mle_retvals\", ConvergenceWarning)\n"
     ]
    },
    {
     "name": "stdout",
     "output_type": "stream",
     "text": [
      "SARIMA: (0, 1, 1)(1, 1, 2, 12) >> AIC : 751.73\n",
      "SARIMA: (0, 1, 1)(2, 1, 0, 12) >> AIC : 757.99\n",
      "SARIMA: (0, 1, 1)(2, 1, 1, 12) >> AIC : 753.78\n"
     ]
    },
    {
     "name": "stderr",
     "output_type": "stream",
     "text": [
      "C:\\Users\\50008313\\AppData\\Local\\Continuum\\anaconda3\\lib\\site-packages\\statsmodels\\base\\model.py:568: ConvergenceWarning: Maximum Likelihood optimization failed to converge. Check mle_retvals\n",
      "  \"Check mle_retvals\", ConvergenceWarning)\n"
     ]
    },
    {
     "name": "stdout",
     "output_type": "stream",
     "text": [
      "SARIMA: (0, 1, 1)(2, 1, 2, 12) >> AIC : 760.67\n",
      "SARIMA: (0, 1, 2)(0, 1, 0, 12) >> AIC : 757.78\n",
      "SARIMA: (0, 1, 2)(0, 1, 1, 12) >> AIC : 758.04\n",
      "SARIMA: (0, 1, 2)(0, 1, 2, 12) >> AIC : 759.28\n",
      "SARIMA: (0, 1, 2)(1, 1, 0, 12) >> AIC : 757.81\n",
      "SARIMA: (0, 1, 2)(1, 1, 1, 12) >> AIC : 759.75\n",
      "SARIMA: (0, 1, 2)(1, 1, 2, 12) >> AIC : 753.5\n",
      "SARIMA: (0, 1, 2)(2, 1, 0, 12) >> AIC : 759.64\n",
      "SARIMA: (0, 1, 2)(2, 1, 1, 12) >> AIC : 755.48\n"
     ]
    },
    {
     "name": "stderr",
     "output_type": "stream",
     "text": [
      "C:\\Users\\50008313\\AppData\\Local\\Continuum\\anaconda3\\lib\\site-packages\\statsmodels\\base\\model.py:568: ConvergenceWarning: Maximum Likelihood optimization failed to converge. Check mle_retvals\n",
      "  \"Check mle_retvals\", ConvergenceWarning)\n"
     ]
    },
    {
     "name": "stdout",
     "output_type": "stream",
     "text": [
      "SARIMA: (0, 1, 2)(2, 1, 2, 12) >> AIC : 763.81\n",
      "SARIMA: (1, 1, 0)(0, 1, 0, 12) >> AIC : 755.5\n",
      "SARIMA: (1, 1, 0)(0, 1, 1, 12) >> AIC : 755.98\n",
      "SARIMA: (1, 1, 0)(0, 1, 2, 12) >> AIC : 757.1\n",
      "SARIMA: (1, 1, 0)(1, 1, 0, 12) >> AIC : 755.75\n",
      "SARIMA: (1, 1, 0)(1, 1, 1, 12) >> AIC : 757.65\n",
      "SARIMA: (1, 1, 0)(1, 1, 2, 12) >> AIC : 751.15\n",
      "SARIMA: (1, 1, 0)(2, 1, 0, 12) >> AIC : 757.45\n",
      "SARIMA: (1, 1, 0)(2, 1, 1, 12) >> AIC : 752.99\n",
      "SARIMA: (1, 1, 1)(0, 1, 0, 12) >> AIC : 756.02\n",
      "SARIMA: (1, 1, 1)(0, 1, 1, 12) >> AIC : 756.63\n",
      "SARIMA: (1, 1, 1)(0, 1, 2, 12) >> AIC : 757.75\n",
      "SARIMA: (1, 1, 1)(1, 1, 0, 12) >> AIC : 756.41\n",
      "SARIMA: (1, 1, 1)(1, 1, 1, 12) >> AIC : 758.26\n",
      "SARIMA: (1, 1, 1)(1, 1, 2, 12) >> AIC : 752.53\n",
      "SARIMA: (1, 1, 1)(2, 1, 0, 12) >> AIC : 758.03\n",
      "SARIMA: (1, 1, 1)(2, 1, 1, 12) >> AIC : 754.17\n",
      "SARIMA: (1, 1, 1)(2, 1, 2, 12) >> AIC : 760.24\n",
      "SARIMA: (1, 1, 2)(0, 1, 0, 12) >> AIC : 757.92\n",
      "SARIMA: (1, 1, 2)(0, 1, 1, 12) >> AIC : 758.44\n",
      "SARIMA: (1, 1, 2)(0, 1, 2, 12) >> AIC : 759.63\n",
      "SARIMA: (1, 1, 2)(1, 1, 0, 12) >> AIC : 758.22\n",
      "SARIMA: (1, 1, 2)(1, 1, 1, 12) >> AIC : 760.1\n",
      "SARIMA: (1, 1, 2)(1, 1, 2, 12) >> AIC : 754.53\n",
      "SARIMA: (1, 1, 2)(2, 1, 0, 12) >> AIC : 759.92\n"
     ]
    },
    {
     "name": "stderr",
     "output_type": "stream",
     "text": [
      "C:\\Users\\50008313\\AppData\\Local\\Continuum\\anaconda3\\lib\\site-packages\\statsmodels\\base\\model.py:568: ConvergenceWarning: Maximum Likelihood optimization failed to converge. Check mle_retvals\n",
      "  \"Check mle_retvals\", ConvergenceWarning)\n"
     ]
    },
    {
     "name": "stdout",
     "output_type": "stream",
     "text": [
      "SARIMA: (1, 1, 2)(2, 1, 1, 12) >> AIC : 756.16\n"
     ]
    },
    {
     "name": "stderr",
     "output_type": "stream",
     "text": [
      "C:\\Users\\50008313\\AppData\\Local\\Continuum\\anaconda3\\lib\\site-packages\\statsmodels\\base\\model.py:568: ConvergenceWarning: Maximum Likelihood optimization failed to converge. Check mle_retvals\n",
      "  \"Check mle_retvals\", ConvergenceWarning)\n"
     ]
    },
    {
     "name": "stdout",
     "output_type": "stream",
     "text": [
      "SARIMA: (1, 1, 2)(2, 1, 2, 12) >> AIC : 762.45\n",
      "SARIMA: (2, 1, 0)(0, 1, 0, 12) >> AIC : 756.77\n",
      "SARIMA: (2, 1, 0)(0, 1, 1, 12) >> AIC : 757.23\n",
      "SARIMA: (2, 1, 0)(0, 1, 2, 12) >> AIC : 758.31\n",
      "SARIMA: (2, 1, 0)(1, 1, 0, 12) >> AIC : 756.98\n",
      "SARIMA: (2, 1, 0)(1, 1, 1, 12) >> AIC : 758.86\n",
      "SARIMA: (2, 1, 0)(1, 1, 2, 12) >> AIC : 752.77\n",
      "SARIMA: (2, 1, 0)(2, 1, 0, 12) >> AIC : 758.65\n",
      "SARIMA: (2, 1, 0)(2, 1, 1, 12) >> AIC : 754.51\n"
     ]
    },
    {
     "name": "stderr",
     "output_type": "stream",
     "text": [
      "C:\\Users\\50008313\\AppData\\Local\\Continuum\\anaconda3\\lib\\site-packages\\statsmodels\\base\\model.py:568: ConvergenceWarning: Maximum Likelihood optimization failed to converge. Check mle_retvals\n",
      "  \"Check mle_retvals\", ConvergenceWarning)\n"
     ]
    },
    {
     "name": "stdout",
     "output_type": "stream",
     "text": [
      "SARIMA: (2, 1, 0)(2, 1, 2, 12) >> AIC : 760.94\n",
      "SARIMA: (2, 1, 1)(0, 1, 0, 12) >> AIC : 757.98\n"
     ]
    },
    {
     "name": "stderr",
     "output_type": "stream",
     "text": [
      "C:\\Users\\50008313\\AppData\\Local\\Continuum\\anaconda3\\lib\\site-packages\\statsmodels\\tsa\\statespace\\sarimax.py:963: UserWarning: Non-stationary starting autoregressive parameters found. Using zeros as starting parameters.\n",
      "  warn('Non-stationary starting autoregressive parameters'\n",
      "C:\\Users\\50008313\\AppData\\Local\\Continuum\\anaconda3\\lib\\site-packages\\statsmodels\\tsa\\statespace\\sarimax.py:975: UserWarning: Non-invertible starting MA parameters found. Using zeros as starting parameters.\n",
      "  warn('Non-invertible starting MA parameters found.'\n"
     ]
    },
    {
     "name": "stdout",
     "output_type": "stream",
     "text": [
      "SARIMA: (2, 1, 1)(0, 1, 1, 12) >> AIC : 758.54\n",
      "SARIMA: (2, 1, 1)(0, 1, 2, 12) >> AIC : 759.69\n",
      "SARIMA: (2, 1, 1)(1, 1, 0, 12) >> AIC : 758.31\n",
      "SARIMA: (2, 1, 1)(1, 1, 1, 12) >> AIC : 760.18\n"
     ]
    },
    {
     "name": "stderr",
     "output_type": "stream",
     "text": [
      "C:\\Users\\50008313\\AppData\\Local\\Continuum\\anaconda3\\lib\\site-packages\\statsmodels\\base\\model.py:568: ConvergenceWarning: Maximum Likelihood optimization failed to converge. Check mle_retvals\n",
      "  \"Check mle_retvals\", ConvergenceWarning)\n"
     ]
    },
    {
     "name": "stdout",
     "output_type": "stream",
     "text": [
      "SARIMA: (2, 1, 1)(1, 1, 2, 12) >> AIC : 754.53\n",
      "SARIMA: (2, 1, 1)(2, 1, 0, 12) >> AIC : 759.98\n"
     ]
    },
    {
     "name": "stderr",
     "output_type": "stream",
     "text": [
      "C:\\Users\\50008313\\AppData\\Local\\Continuum\\anaconda3\\lib\\site-packages\\statsmodels\\base\\model.py:568: ConvergenceWarning: Maximum Likelihood optimization failed to converge. Check mle_retvals\n",
      "  \"Check mle_retvals\", ConvergenceWarning)\n"
     ]
    },
    {
     "name": "stdout",
     "output_type": "stream",
     "text": [
      "SARIMA: (2, 1, 1)(2, 1, 1, 12) >> AIC : 756.16\n"
     ]
    },
    {
     "name": "stderr",
     "output_type": "stream",
     "text": [
      "C:\\Users\\50008313\\AppData\\Local\\Continuum\\anaconda3\\lib\\site-packages\\statsmodels\\base\\model.py:568: ConvergenceWarning: Maximum Likelihood optimization failed to converge. Check mle_retvals\n",
      "  \"Check mle_retvals\", ConvergenceWarning)\n"
     ]
    },
    {
     "name": "stdout",
     "output_type": "stream",
     "text": [
      "SARIMA: (2, 1, 1)(2, 1, 2, 12) >> AIC : 762.2\n",
      "SARIMA: (2, 1, 2)(0, 1, 0, 12) >> AIC : 755.2\n",
      "SARIMA: (2, 1, 2)(0, 1, 1, 12) >> AIC : 755.99\n",
      "SARIMA: (2, 1, 2)(0, 1, 2, 12) >> AIC : 759.77\n",
      "SARIMA: (2, 1, 2)(1, 1, 0, 12) >> AIC : 755.82\n",
      "SARIMA: (2, 1, 2)(1, 1, 1, 12) >> AIC : 757.71\n",
      "SARIMA: (2, 1, 2)(1, 1, 2, 12) >> AIC : 752.34\n",
      "SARIMA: (2, 1, 2)(2, 1, 0, 12) >> AIC : 757.56\n"
     ]
    },
    {
     "name": "stderr",
     "output_type": "stream",
     "text": [
      "C:\\Users\\50008313\\AppData\\Local\\Continuum\\anaconda3\\lib\\site-packages\\statsmodels\\base\\model.py:568: ConvergenceWarning: Maximum Likelihood optimization failed to converge. Check mle_retvals\n",
      "  \"Check mle_retvals\", ConvergenceWarning)\n"
     ]
    },
    {
     "name": "stdout",
     "output_type": "stream",
     "text": [
      "SARIMA: (2, 1, 2)(2, 1, 1, 12) >> AIC : 753.95\n",
      "SARIMA: (2, 1, 2)(2, 1, 2, 12) >> AIC : 760.17\n"
     ]
    }
   ],
   "source": [
    "aic = []\n",
    "params = []\n",
    "for i in pdq:\n",
    "    for j in seasonal_pdq:\n",
    "        try:\n",
    "            model = SARIMAX(train_data.values, order=(i), seasonal_order = (j))\n",
    "            model_fit = model.fit()\n",
    "            print(f'SARIMA: {i}{j} >> AIC : {round(model_fit.aic,2)}')\n",
    "            aic.append(round(model_fit.aic,2))\n",
    "            params.append((i, j))\n",
    "        except:\n",
    "            continue"
   ]
  },
  {
   "cell_type": "code",
   "execution_count": 69,
   "metadata": {
    "ExecuteTime": {
     "end_time": "2020-12-02T14:07:21.070001Z",
     "start_time": "2020-12-02T14:07:21.062052Z"
    }
   },
   "outputs": [
    {
     "data": {
      "text/plain": [
       "[(((1, 1, 0), (1, 1, 2, 12)), 751.15)]"
      ]
     },
     "execution_count": 69,
     "metadata": {},
     "output_type": "execute_result"
    }
   ],
   "source": [
    "# Search optimal parameters\n",
    "\n",
    "optimal = [(params[i], j) for i, j in enumerate(aic) if j == min(aic)]\n",
    "optimal\n",
    "\n",
    "# small pdq는 (1,1,0), large pdq는 (1,1,2) 그리고 Seasonal parameter는 12인 것을 볼 수 있다."
   ]
  },
  {
   "cell_type": "code",
   "execution_count": 70,
   "metadata": {
    "ExecuteTime": {
     "end_time": "2020-12-02T14:07:23.370794Z",
     "start_time": "2020-12-02T14:07:21.124828Z"
    }
   },
   "outputs": [
    {
     "data": {
      "text/html": [
       "<table class=\"simpletable\">\n",
       "<caption>SARIMAX Results</caption>\n",
       "<tr>\n",
       "  <th>Dep. Variable:</th>                    <td>y</td>                  <th>  No. Observations:  </th>    <td>115</td>  \n",
       "</tr>\n",
       "<tr>\n",
       "  <th>Model:</th>           <td>SARIMAX(1, 1, 0)x(1, 1, [1, 2], 12)</td> <th>  Log Likelihood     </th> <td>-370.575</td>\n",
       "</tr>\n",
       "<tr>\n",
       "  <th>Date:</th>                     <td>Wed, 02 Dec 2020</td>           <th>  AIC                </th>  <td>751.150</td>\n",
       "</tr>\n",
       "<tr>\n",
       "  <th>Time:</th>                         <td>23:07:23</td>               <th>  BIC                </th>  <td>764.274</td>\n",
       "</tr>\n",
       "<tr>\n",
       "  <th>Sample:</th>                           <td>0</td>                  <th>  HQIC               </th>  <td>756.464</td>\n",
       "</tr>\n",
       "<tr>\n",
       "  <th></th>                               <td> - 115</td>                <th>                     </th>     <td> </td>   \n",
       "</tr>\n",
       "<tr>\n",
       "  <th>Covariance Type:</th>                 <td>opg</td>                 <th>                     </th>     <td> </td>   \n",
       "</tr>\n",
       "</table>\n",
       "<table class=\"simpletable\">\n",
       "<tr>\n",
       "      <td></td>        <th>coef</th>     <th>std err</th>      <th>z</th>      <th>P>|z|</th>  <th>[0.025</th>    <th>0.975]</th>  \n",
       "</tr>\n",
       "<tr>\n",
       "  <th>ar.L1</th>    <td>   -0.2362</td> <td>    0.093</td> <td>   -2.541</td> <td> 0.011</td> <td>   -0.418</td> <td>   -0.054</td>\n",
       "</tr>\n",
       "<tr>\n",
       "  <th>ar.S.L12</th> <td>    0.9981</td> <td>    0.192</td> <td>    5.208</td> <td> 0.000</td> <td>    0.622</td> <td>    1.374</td>\n",
       "</tr>\n",
       "<tr>\n",
       "  <th>ma.S.L12</th> <td>   -1.3630</td> <td>    2.095</td> <td>   -0.651</td> <td> 0.515</td> <td>   -5.470</td> <td>    2.744</td>\n",
       "</tr>\n",
       "<tr>\n",
       "  <th>ma.S.L24</th> <td>    0.3914</td> <td>    0.731</td> <td>    0.536</td> <td> 0.592</td> <td>   -1.041</td> <td>    1.823</td>\n",
       "</tr>\n",
       "<tr>\n",
       "  <th>sigma2</th>   <td>   70.2975</td> <td>  134.586</td> <td>    0.522</td> <td> 0.601</td> <td> -193.487</td> <td>  334.082</td>\n",
       "</tr>\n",
       "</table>\n",
       "<table class=\"simpletable\">\n",
       "<tr>\n",
       "  <th>Ljung-Box (Q):</th>          <td>39.85</td> <th>  Jarque-Bera (JB):  </th> <td>2.76</td>\n",
       "</tr>\n",
       "<tr>\n",
       "  <th>Prob(Q):</th>                <td>0.48</td>  <th>  Prob(JB):          </th> <td>0.25</td>\n",
       "</tr>\n",
       "<tr>\n",
       "  <th>Heteroskedasticity (H):</th> <td>1.09</td>  <th>  Skew:              </th> <td>0.38</td>\n",
       "</tr>\n",
       "<tr>\n",
       "  <th>Prob(H) (two-sided):</th>    <td>0.79</td>  <th>  Kurtosis:          </th> <td>2.72</td>\n",
       "</tr>\n",
       "</table><br/><br/>Warnings:<br/>[1] Covariance matrix calculated using the outer product of gradients (complex-step)."
      ],
      "text/plain": [
       "<class 'statsmodels.iolib.summary.Summary'>\n",
       "\"\"\"\n",
       "                                        SARIMAX Results                                        \n",
       "===============================================================================================\n",
       "Dep. Variable:                                       y   No. Observations:                  115\n",
       "Model:             SARIMAX(1, 1, 0)x(1, 1, [1, 2], 12)   Log Likelihood                -370.575\n",
       "Date:                                 Wed, 02 Dec 2020   AIC                            751.150\n",
       "Time:                                         23:07:23   BIC                            764.274\n",
       "Sample:                                              0   HQIC                           756.464\n",
       "                                                 - 115                                         \n",
       "Covariance Type:                                   opg                                         \n",
       "==============================================================================\n",
       "                 coef    std err          z      P>|z|      [0.025      0.975]\n",
       "------------------------------------------------------------------------------\n",
       "ar.L1         -0.2362      0.093     -2.541      0.011      -0.418      -0.054\n",
       "ar.S.L12       0.9981      0.192      5.208      0.000       0.622       1.374\n",
       "ma.S.L12      -1.3630      2.095     -0.651      0.515      -5.470       2.744\n",
       "ma.S.L24       0.3914      0.731      0.536      0.592      -1.041       1.823\n",
       "sigma2        70.2975    134.586      0.522      0.601    -193.487     334.082\n",
       "===================================================================================\n",
       "Ljung-Box (Q):                       39.85   Jarque-Bera (JB):                 2.76\n",
       "Prob(Q):                              0.48   Prob(JB):                         0.25\n",
       "Heteroskedasticity (H):               1.09   Skew:                             0.38\n",
       "Prob(H) (two-sided):                  0.79   Kurtosis:                         2.72\n",
       "===================================================================================\n",
       "\n",
       "Warnings:\n",
       "[1] Covariance matrix calculated using the outer product of gradients (complex-step).\n",
       "\"\"\""
      ]
     },
     "execution_count": 70,
     "metadata": {},
     "output_type": "execute_result"
    }
   ],
   "source": [
    "model_opt = SARIMAX(train_data.values, order=optimal[0][0][0], seasonal_order = optimal[0][0][1])\n",
    "model_opt_fit = model_opt.fit()\n",
    "model_opt_fit.summary()\n",
    "\n",
    "# ARIMA보다 SARIMA가 AIC가 훨씬 낮은 것을 볼 수 있다."
   ]
  },
  {
   "cell_type": "markdown",
   "metadata": {},
   "source": [
    "### Use Model to Forecast - SARIMA"
   ]
  },
  {
   "cell_type": "code",
   "execution_count": 72,
   "metadata": {
    "ExecuteTime": {
     "end_time": "2020-12-02T14:07:57.383531Z",
     "start_time": "2020-12-02T14:07:57.368693Z"
    }
   },
   "outputs": [],
   "source": [
    "prediction = model_opt_fit.get_forecast(len(test_data))\n",
    "predicted_value = prediction.predicted_mean\n",
    "predicted_ub = prediction.conf_int()[:,0]\n",
    "predicted_lb = prediction.conf_int()[:,1]\n",
    "predict_index = list(test_data.index)\n",
    "r2 = r2_score(test_data, predicted_value)"
   ]
  },
  {
   "cell_type": "code",
   "execution_count": 74,
   "metadata": {
    "ExecuteTime": {
     "end_time": "2020-12-02T14:08:42.784894Z",
     "start_time": "2020-12-02T14:08:42.509337Z"
    }
   },
   "outputs": [
    {
     "data": {
      "image/png": "[encoded data removed]",
      "text/plain": [
       "<Figure size 864x432 with 1 Axes>"
      ]
     },
     "metadata": {
      "needs_background": "light"
     },
     "output_type": "display_data"
    }
   ],
   "source": [
    "fig, ax = plt.subplots(figsize=(12,6))\n",
    "\n",
    "ax.plot(predict_index, predicted_value, color = 'orange', label = 'Prediction') # 예측값(위 vline 이후 구간에 표시됨)\n",
    "ax.fill_between(predict_index, predicted_lb, predicted_ub, color = 'k', alpha = 0.1, label = '0.95 Prediction Interval')\n",
    "\n",
    "data.plot(ax = ax);\n",
    "ax.vlines('1958-08-01', 0, 700, linestyle = '--', color = 'r', label = 'Start of Forecast') # x좌표를 날짜로 적음\n",
    "ax.legend(loc='upper left')\n",
    "plt.suptitle(f'SARIMA {optimal[0][0][0]},{optimal[0][0][1]} Prediction Results (r2_score: {round(r2,2)})')\n",
    "\n",
    "plt.show()\n",
    "\n",
    "# 예측 값의 추세가 실제 값을 상당히 잘 따라가고 있으며,\n",
    "# r2 score가 0.89로 훨씬 더 성능이 향상됨\n",
    "# 계절성을 반영한 것이 예측 성능을 향상시키는데 기여를 했다고 볼 수 있다."
   ]
  },
  {
   "cell_type": "markdown",
   "metadata": {},
   "source": [
    "### Diagnosis Check - auto_arima (ADP에서는 패키지 없을 듯)"
   ]
  },
  {
   "cell_type": "code",
   "execution_count": 75,
   "metadata": {
    "ExecuteTime": {
     "end_time": "2020-12-02T14:14:54.821310Z",
     "start_time": "2020-12-02T14:12:39.085858Z"
    },
    "scrolled": true
   },
   "outputs": [
    {
     "name": "stdout",
     "output_type": "stream",
     "text": [
      " ARIMA(0,1,0)(0,1,0)[12]             : AIC=757.826, Time=0.02 sec\n",
      " ARIMA(0,1,0)(0,1,1)[12]             : AIC=756.988, Time=0.14 sec\n",
      " ARIMA(0,1,0)(0,1,2)[12]             : AIC=758.826, Time=0.65 sec\n",
      " ARIMA(0,1,0)(0,1,3)[12]             : AIC=758.186, Time=0.95 sec\n",
      " ARIMA(0,1,0)(1,1,0)[12]             : AIC=756.959, Time=0.08 sec\n",
      " ARIMA(0,1,0)(1,1,1)[12]             : AIC=758.922, Time=0.22 sec\n",
      " ARIMA(0,1,0)(1,1,2)[12]             : AIC=754.423, Time=1.51 sec\n",
      " ARIMA(0,1,0)(1,1,3)[12]             : AIC=754.685, Time=2.87 sec\n",
      " ARIMA(0,1,0)(2,1,0)[12]             : AIC=758.869, Time=0.21 sec\n",
      " ARIMA(0,1,0)(2,1,1)[12]             : AIC=760.726, Time=1.06 sec\n",
      " ARIMA(0,1,0)(2,1,2)[12]             : AIC=754.903, Time=2.88 sec\n",
      " ARIMA(0,1,0)(2,1,3)[12]             : AIC=756.686, Time=4.51 sec\n",
      " ARIMA(0,1,0)(3,1,0)[12]             : AIC=759.643, Time=0.72 sec\n",
      " ARIMA(0,1,0)(3,1,1)[12]             : AIC=755.899, Time=4.26 sec\n",
      " ARIMA(0,1,0)(3,1,2)[12]             : AIC=756.688, Time=5.36 sec\n",
      " ARIMA(0,1,1)(0,1,0)[12]             : AIC=756.011, Time=0.05 sec\n",
      " ARIMA(0,1,1)(0,1,1)[12]             : AIC=756.380, Time=0.21 sec\n",
      " ARIMA(0,1,1)(0,1,2)[12]             : AIC=757.653, Time=1.18 sec\n",
      " ARIMA(0,1,1)(0,1,3)[12]             : AIC=756.866, Time=1.37 sec\n",
      " ARIMA(0,1,1)(1,1,0)[12]             : AIC=756.166, Time=0.13 sec\n",
      " ARIMA(0,1,1)(1,1,1)[12]             : AIC=758.107, Time=0.36 sec\n",
      " ARIMA(0,1,1)(1,1,2)[12]             : AIC=751.728, Time=4.81 sec\n",
      " ARIMA(0,1,1)(1,1,3)[12]             : AIC=752.982, Time=2.64 sec\n",
      " ARIMA(0,1,1)(2,1,0)[12]             : AIC=757.994, Time=0.34 sec\n",
      " ARIMA(0,1,1)(2,1,1)[12]             : AIC=753.780, Time=2.31 sec\n",
      " ARIMA(0,1,1)(2,1,2)[12]             : AIC=760.667, Time=8.78 sec\n",
      " ARIMA(0,1,1)(3,1,0)[12]             : AIC=758.104, Time=0.82 sec\n",
      " ARIMA(0,1,1)(3,1,1)[12]             : AIC=753.668, Time=5.28 sec\n",
      " ARIMA(0,1,2)(0,1,0)[12]             : AIC=757.778, Time=0.07 sec\n",
      " ARIMA(0,1,2)(0,1,1)[12]             : AIC=758.043, Time=0.29 sec\n",
      " ARIMA(0,1,2)(0,1,2)[12]             : AIC=759.284, Time=1.42 sec\n",
      " ARIMA(0,1,2)(0,1,3)[12]             : AIC=758.652, Time=1.70 sec\n",
      " ARIMA(0,1,2)(1,1,0)[12]             : AIC=757.811, Time=0.20 sec\n",
      " ARIMA(0,1,2)(1,1,1)[12]             : AIC=759.751, Time=0.35 sec\n",
      " ARIMA(0,1,2)(1,1,2)[12]             : AIC=753.496, Time=4.55 sec\n",
      " ARIMA(0,1,2)(2,1,0)[12]             : AIC=759.641, Time=0.45 sec\n",
      " ARIMA(0,1,2)(2,1,1)[12]             : AIC=755.484, Time=3.50 sec\n",
      " ARIMA(0,1,2)(3,1,0)[12]             : AIC=759.804, Time=1.31 sec\n",
      " ARIMA(0,1,3)(0,1,0)[12]             : AIC=752.936, Time=0.14 sec\n",
      " ARIMA(0,1,3)(0,1,1)[12]             : AIC=753.809, Time=0.39 sec\n",
      " ARIMA(0,1,3)(0,1,2)[12]             : AIC=755.269, Time=2.28 sec\n",
      " ARIMA(0,1,3)(1,1,0)[12]             : AIC=753.663, Time=0.30 sec\n",
      " ARIMA(0,1,3)(1,1,1)[12]             : AIC=755.497, Time=0.98 sec\n",
      " ARIMA(0,1,3)(2,1,0)[12]             : AIC=755.384, Time=0.79 sec\n",
      " ARIMA(1,1,0)(0,1,0)[12]             : AIC=755.499, Time=0.04 sec\n",
      " ARIMA(1,1,0)(0,1,1)[12]             : AIC=755.982, Time=0.21 sec\n",
      " ARIMA(1,1,0)(0,1,2)[12]             : AIC=757.103, Time=1.23 sec\n",
      " ARIMA(1,1,0)(0,1,3)[12]             : AIC=756.433, Time=1.39 sec\n",
      " ARIMA(1,1,0)(1,1,0)[12]             : AIC=755.750, Time=0.13 sec\n",
      " ARIMA(1,1,0)(1,1,1)[12]             : AIC=757.649, Time=0.34 sec\n",
      " ARIMA(1,1,0)(1,1,2)[12]             : AIC=751.150, Time=2.82 sec\n",
      " ARIMA(1,1,0)(1,1,3)[12]             : AIC=752.557, Time=3.38 sec\n",
      " ARIMA(1,1,0)(2,1,0)[12]             : AIC=757.453, Time=0.34 sec\n",
      " ARIMA(1,1,0)(2,1,1)[12]             : AIC=752.986, Time=2.73 sec\n",
      " ARIMA(1,1,0)(2,1,2)[12]             : AIC=inf, Time=nan sec\n",
      " ARIMA(1,1,0)(3,1,0)[12]             : AIC=757.510, Time=0.77 sec\n",
      " ARIMA(1,1,0)(3,1,1)[12]             : AIC=753.167, Time=4.09 sec\n",
      " ARIMA(1,1,1)(0,1,0)[12]             : AIC=756.022, Time=0.07 sec\n",
      " ARIMA(1,1,1)(0,1,1)[12]             : AIC=756.629, Time=0.29 sec\n",
      " ARIMA(1,1,1)(0,1,2)[12]             : AIC=757.749, Time=1.56 sec\n",
      " ARIMA(1,1,1)(0,1,3)[12]             : AIC=757.733, Time=2.21 sec\n",
      " ARIMA(1,1,1)(1,1,0)[12]             : AIC=756.406, Time=0.21 sec\n",
      " ARIMA(1,1,1)(1,1,1)[12]             : AIC=758.260, Time=0.61 sec\n",
      " ARIMA(1,1,1)(1,1,2)[12]             : AIC=752.530, Time=3.76 sec\n",
      " ARIMA(1,1,1)(2,1,0)[12]             : AIC=758.031, Time=0.65 sec\n",
      " ARIMA(1,1,1)(2,1,1)[12]             : AIC=754.167, Time=2.86 sec\n",
      " ARIMA(1,1,1)(3,1,0)[12]             : AIC=758.462, Time=1.44 sec\n",
      " ARIMA(1,1,2)(0,1,0)[12]             : AIC=757.925, Time=0.08 sec\n",
      " ARIMA(1,1,2)(0,1,1)[12]             : AIC=758.441, Time=0.37 sec\n",
      " ARIMA(1,1,2)(0,1,2)[12]             : AIC=759.634, Time=1.59 sec\n",
      " ARIMA(1,1,2)(1,1,0)[12]             : AIC=758.220, Time=0.28 sec\n",
      " ARIMA(1,1,2)(1,1,1)[12]             : AIC=760.100, Time=0.64 sec\n",
      " ARIMA(1,1,2)(2,1,0)[12]             : AIC=759.915, Time=0.70 sec\n",
      " ARIMA(1,1,3)(0,1,0)[12]             : AIC=754.178, Time=0.21 sec\n",
      " ARIMA(1,1,3)(0,1,1)[12]             : AIC=753.995, Time=0.85 sec\n",
      " ARIMA(1,1,3)(1,1,0)[12]             : AIC=753.975, Time=0.75 sec\n",
      " ARIMA(2,1,0)(0,1,0)[12]             : AIC=756.771, Time=0.06 sec\n",
      " ARIMA(2,1,0)(0,1,1)[12]             : AIC=757.226, Time=0.23 sec\n",
      " ARIMA(2,1,0)(0,1,2)[12]             : AIC=758.313, Time=1.13 sec\n",
      " ARIMA(2,1,0)(0,1,3)[12]             : AIC=758.011, Time=1.45 sec\n",
      " ARIMA(2,1,0)(1,1,0)[12]             : AIC=756.982, Time=0.18 sec\n",
      " ARIMA(2,1,0)(1,1,1)[12]             : AIC=758.859, Time=0.50 sec\n",
      " ARIMA(2,1,0)(1,1,2)[12]             : AIC=752.774, Time=3.90 sec\n",
      " ARIMA(2,1,0)(2,1,0)[12]             : AIC=758.650, Time=0.59 sec\n",
      " ARIMA(2,1,0)(2,1,1)[12]             : AIC=754.508, Time=4.10 sec\n",
      " ARIMA(2,1,0)(3,1,0)[12]             : AIC=758.903, Time=1.12 sec\n",
      " ARIMA(2,1,1)(0,1,0)[12]             : AIC=757.976, Time=0.12 sec\n",
      " ARIMA(2,1,1)(0,1,1)[12]             : AIC=758.537, Time=0.55 sec\n",
      " ARIMA(2,1,1)(0,1,2)[12]             : AIC=759.694, Time=2.29 sec\n",
      " ARIMA(2,1,1)(1,1,0)[12]             : AIC=758.314, Time=0.32 sec\n",
      " ARIMA(2,1,1)(1,1,1)[12]             : AIC=760.183, Time=0.64 sec\n",
      " ARIMA(2,1,1)(2,1,0)[12]             : AIC=759.976, Time=0.92 sec\n",
      " ARIMA(2,1,2)(0,1,0)[12]             : AIC=755.201, Time=0.26 sec\n",
      " ARIMA(2,1,2)(0,1,1)[12]             : AIC=755.987, Time=0.69 sec\n",
      " ARIMA(2,1,2)(1,1,0)[12]             : AIC=755.821, Time=0.74 sec\n",
      " ARIMA(2,1,3)(0,1,0)[12]             : AIC=755.253, Time=0.54 sec\n",
      " ARIMA(3,1,0)(0,1,0)[12]             : AIC=755.605, Time=0.06 sec\n",
      " ARIMA(3,1,0)(0,1,1)[12]             : AIC=756.424, Time=0.33 sec\n",
      " ARIMA(3,1,0)(0,1,2)[12]             : AIC=757.829, Time=1.35 sec\n",
      " ARIMA(3,1,0)(1,1,0)[12]             : AIC=756.268, Time=0.19 sec\n",
      " ARIMA(3,1,0)(1,1,1)[12]             : AIC=758.159, Time=0.47 sec\n",
      " ARIMA(3,1,0)(2,1,0)[12]             : AIC=758.003, Time=0.56 sec\n",
      " ARIMA(3,1,1)(0,1,0)[12]             : AIC=754.435, Time=0.25 sec\n",
      " ARIMA(3,1,1)(0,1,1)[12]             : AIC=754.694, Time=0.71 sec\n",
      " ARIMA(3,1,1)(1,1,0)[12]             : AIC=754.571, Time=0.61 sec\n",
      " ARIMA(3,1,2)(0,1,0)[12]             : AIC=753.233, Time=0.58 sec\n",
      "Total fit time: 135.514 seconds\n"
     ]
    }
   ],
   "source": [
    "# Parameters search\n",
    "\n",
    "auto_arima_model = auto_arima(train_data, start_p=1, start_q=1, # p, q 시작값\n",
    "                             max_p=3, max_q=3, # p, q 최대값\n",
    "                             m=12, seasonal=True, # 계절성 있는지와 구간(True = SARIMA) / 계절성 없다고 생각되면 m빼고, False\n",
    "                             d=1, D=1, # 차분 최소, 최대\n",
    "                             max_P=3, max_Q=3, # P, Q 최대  ## start_P, start_Q의 default 값은 1이라 생략했음\n",
    "                             trace=True,  # 각 결과값은 print 해줌\n",
    "                             error_action='ignore',\n",
    "                             suppress_warnings=True,\n",
    "                             stepwise=False)"
   ]
  },
  {
   "cell_type": "code",
   "execution_count": 76,
   "metadata": {
    "ExecuteTime": {
     "end_time": "2020-12-02T14:14:54.906071Z",
     "start_time": "2020-12-02T14:14:54.884123Z"
    }
   },
   "outputs": [
    {
     "data": {
      "text/html": [
       "<table class=\"simpletable\">\n",
       "<caption>SARIMAX Results</caption>\n",
       "<tr>\n",
       "  <th>Dep. Variable:</th>                    <td>y</td>                  <th>  No. Observations:  </th>    <td>115</td>  \n",
       "</tr>\n",
       "<tr>\n",
       "  <th>Model:</th>           <td>SARIMAX(1, 1, 0)x(1, 1, [1, 2], 12)</td> <th>  Log Likelihood     </th> <td>-370.575</td>\n",
       "</tr>\n",
       "<tr>\n",
       "  <th>Date:</th>                     <td>Wed, 02 Dec 2020</td>           <th>  AIC                </th>  <td>751.150</td>\n",
       "</tr>\n",
       "<tr>\n",
       "  <th>Time:</th>                         <td>23:14:54</td>               <th>  BIC                </th>  <td>764.274</td>\n",
       "</tr>\n",
       "<tr>\n",
       "  <th>Sample:</th>                           <td>0</td>                  <th>  HQIC               </th>  <td>756.464</td>\n",
       "</tr>\n",
       "<tr>\n",
       "  <th></th>                               <td> - 115</td>                <th>                     </th>     <td> </td>   \n",
       "</tr>\n",
       "<tr>\n",
       "  <th>Covariance Type:</th>                 <td>opg</td>                 <th>                     </th>     <td> </td>   \n",
       "</tr>\n",
       "</table>\n",
       "<table class=\"simpletable\">\n",
       "<tr>\n",
       "      <td></td>        <th>coef</th>     <th>std err</th>      <th>z</th>      <th>P>|z|</th>  <th>[0.025</th>    <th>0.975]</th>  \n",
       "</tr>\n",
       "<tr>\n",
       "  <th>ar.L1</th>    <td>   -0.2362</td> <td>    0.093</td> <td>   -2.541</td> <td> 0.011</td> <td>   -0.418</td> <td>   -0.054</td>\n",
       "</tr>\n",
       "<tr>\n",
       "  <th>ar.S.L12</th> <td>    0.9981</td> <td>    0.192</td> <td>    5.208</td> <td> 0.000</td> <td>    0.622</td> <td>    1.374</td>\n",
       "</tr>\n",
       "<tr>\n",
       "  <th>ma.S.L12</th> <td>   -1.3630</td> <td>    2.095</td> <td>   -0.651</td> <td> 0.515</td> <td>   -5.470</td> <td>    2.744</td>\n",
       "</tr>\n",
       "<tr>\n",
       "  <th>ma.S.L24</th> <td>    0.3914</td> <td>    0.731</td> <td>    0.536</td> <td> 0.592</td> <td>   -1.041</td> <td>    1.823</td>\n",
       "</tr>\n",
       "<tr>\n",
       "  <th>sigma2</th>   <td>   70.2975</td> <td>  134.586</td> <td>    0.522</td> <td> 0.601</td> <td> -193.487</td> <td>  334.082</td>\n",
       "</tr>\n",
       "</table>\n",
       "<table class=\"simpletable\">\n",
       "<tr>\n",
       "  <th>Ljung-Box (Q):</th>          <td>39.85</td> <th>  Jarque-Bera (JB):  </th> <td>2.76</td>\n",
       "</tr>\n",
       "<tr>\n",
       "  <th>Prob(Q):</th>                <td>0.48</td>  <th>  Prob(JB):          </th> <td>0.25</td>\n",
       "</tr>\n",
       "<tr>\n",
       "  <th>Heteroskedasticity (H):</th> <td>1.09</td>  <th>  Skew:              </th> <td>0.38</td>\n",
       "</tr>\n",
       "<tr>\n",
       "  <th>Prob(H) (two-sided):</th>    <td>0.79</td>  <th>  Kurtosis:          </th> <td>2.72</td>\n",
       "</tr>\n",
       "</table><br/><br/>Warnings:<br/>[1] Covariance matrix calculated using the outer product of gradients (complex-step)."
      ],
      "text/plain": [
       "<class 'statsmodels.iolib.summary.Summary'>\n",
       "\"\"\"\n",
       "                                        SARIMAX Results                                        \n",
       "===============================================================================================\n",
       "Dep. Variable:                                       y   No. Observations:                  115\n",
       "Model:             SARIMAX(1, 1, 0)x(1, 1, [1, 2], 12)   Log Likelihood                -370.575\n",
       "Date:                                 Wed, 02 Dec 2020   AIC                            751.150\n",
       "Time:                                         23:14:54   BIC                            764.274\n",
       "Sample:                                              0   HQIC                           756.464\n",
       "                                                 - 115                                         \n",
       "Covariance Type:                                   opg                                         \n",
       "==============================================================================\n",
       "                 coef    std err          z      P>|z|      [0.025      0.975]\n",
       "------------------------------------------------------------------------------\n",
       "ar.L1         -0.2362      0.093     -2.541      0.011      -0.418      -0.054\n",
       "ar.S.L12       0.9981      0.192      5.208      0.000       0.622       1.374\n",
       "ma.S.L12      -1.3630      2.095     -0.651      0.515      -5.470       2.744\n",
       "ma.S.L24       0.3914      0.731      0.536      0.592      -1.041       1.823\n",
       "sigma2        70.2975    134.586      0.522      0.601    -193.487     334.082\n",
       "===================================================================================\n",
       "Ljung-Box (Q):                       39.85   Jarque-Bera (JB):                 2.76\n",
       "Prob(Q):                              0.48   Prob(JB):                         0.25\n",
       "Heteroskedasticity (H):               1.09   Skew:                             0.38\n",
       "Prob(H) (two-sided):                  0.79   Kurtosis:                         2.72\n",
       "===================================================================================\n",
       "\n",
       "Warnings:\n",
       "[1] Covariance matrix calculated using the outer product of gradients (complex-step).\n",
       "\"\"\""
      ]
     },
     "execution_count": 76,
     "metadata": {},
     "output_type": "execute_result"
    }
   ],
   "source": [
    "auto_arima_model.summary()\n",
    "# AIC가 751"
   ]
  },
  {
   "cell_type": "code",
   "execution_count": 77,
   "metadata": {
    "ExecuteTime": {
     "end_time": "2020-12-02T14:19:14.032501Z",
     "start_time": "2020-12-02T14:19:14.014545Z"
    }
   },
   "outputs": [],
   "source": [
    "prediction = auto_arima_model.predict(len(test_data), return_conf_int=True)\n",
    "predicted_value = prediction[0]\n",
    "predicted_ub = prediction[1][:,0]\n",
    "predicted_lb = prediction[1][:,1]\n",
    "predict_index = list(test_data.index)\n",
    "r2 = r2_score(test_data, predicted_value)"
   ]
  },
  {
   "cell_type": "code",
   "execution_count": 78,
   "metadata": {
    "ExecuteTime": {
     "end_time": "2020-12-02T14:19:28.070881Z",
     "start_time": "2020-12-02T14:19:27.736314Z"
    }
   },
   "outputs": [
    {
     "data": {
      "image/png": "[encoded data removed]",
      "text/plain": [
       "<Figure size 864x432 with 1 Axes>"
      ]
     },
     "metadata": {
      "needs_background": "light"
     },
     "output_type": "display_data"
    }
   ],
   "source": [
    "fig, ax = plt.subplots(figsize=(12,6))\n",
    "\n",
    "ax.plot(predict_index, predicted_value, color = 'orange', label = 'Prediction') # 예측값(위 vline 이후 구간에 표시됨)\n",
    "ax.fill_between(predict_index, predicted_lb, predicted_ub, color = 'k', alpha = 0.1, label = '0.95 Prediction Interval')\n",
    "\n",
    "data.plot(ax = ax);\n",
    "ax.vlines('1958-08-01', 0, 700, linestyle = '--', color = 'r', label = 'Start of Forecast') # x좌표를 날짜로 적음\n",
    "ax.legend(loc='upper left')\n",
    "plt.suptitle(f'SARIMA {optimal[0][0][0]},{optimal[0][0][1]} Prediction Results (r2_score: {round(r2,2)})')\n",
    "\n",
    "plt.show()\n",
    "\n",
    "# 예측 값의 추세가 실제 값을 상당히 잘 따라가고 있으며,\n",
    "# r2 score가 0.89로 훨씬 더 성능이 향상됨\n",
    "# 계절성을 반영한 것이 예측 성능을 향상시키는데 기여를 했다고 볼 수 있다."
   ]
  },
  {
   "cell_type": "markdown",
   "metadata": {},
   "source": [
    "# 요인분석\n",
    "- 기본적으로는 상관관계가 높은 변수끼리 그룹핑하는 것이기에 변수간의 상관관계가 전반적으로 매우 낮다면 요인분석에 부적합한 자료라고 볼 수 있다\n",
    "\n",
    "\n",
    "- <요인분석의 용도>\n",
    "- ① 데이터의 양을 줄여 정보를 요약하는 경우\n",
    "- ② 변수들 내부에 존재하는 구조를 파악하려는 경우\n",
    "- ③ 요인으로 묶어지지 않는 변수 중 중요도가 낮은 변수를 제거하고자 하는 경우\n",
    "- ④ 같은 개념을 측정하려고 하는 변수들이 동일한 요인으로 묶이는지 확인하고자 하는 경우\n",
    "- ⑤ 요인분석을 통하여 얻어진 요인들을 회귀분석이나 판별분석에서 설명변수로 활용하고자 하는 경우\n",
    "\n",
    "\n",
    "- 요인분석에서 요인수를 결정하는 방법은 크게 3가지가 있다.\n",
    "- 1. 고유값(eigen value)\n",
    "- 한 요인에 대한 '요인적적재량 제곱의 합'\n",
    "- 고유값이 크다는 것은 요인이 변수들의 분산을 잘 설며명한다는 의미\n",
    "- 고유값을 기준으로 할 때는 보통 1 이상을 갖는 요인 수 추출\n",
    "- 2. 총 설명력(total cumulative)\n",
    "- 절대적인 기준은 없으나 사회과학에서는 대체적으로 60% 내외로 결정\n",
    "- 3. 스크리토표(screen table)\n",
    "- 도표의  감소폭이 체감하기 직전까지의 요인 수를 기준으로 추출\n",
    "\n",
    "\n",
    "- 방법 : 직각회전과 사각회전으로 나뉜다.\n",
    "- 직각회전은 요인 간의 독립성을 유지하여 요인행렬이 뚜렷해질때까지 회전한다. 종류는  varimax, quartimax, equimax\n",
    "- 사각회전은 요인 간의 독립성을 유지하지 않고 뚜렷해질때까지 회전시킨다. 종류는 oblimin, Promax"
   ]
  },
  {
   "cell_type": "code",
   "execution_count": 194,
   "metadata": {
    "ExecuteTime": {
     "end_time": "2020-12-11T07:29:10.993200Z",
     "start_time": "2020-12-11T07:29:10.637154Z"
    }
   },
   "outputs": [],
   "source": [
    "import pandas as pd\n",
    "df = pd.read_csv('./data/Airline_Passenger_satisfaction_train.csv')\n",
    "df = df.drop(columns=['Unnamed: 0'])"
   ]
  },
  {
   "cell_type": "code",
   "execution_count": 195,
   "metadata": {
    "ExecuteTime": {
     "end_time": "2020-12-11T07:29:11.029106Z",
     "start_time": "2020-12-11T07:29:10.996194Z"
    }
   },
   "outputs": [
    {
     "data": {
      "text/html": [
       "<div>\n",
       "<style scoped>\n",
       "    .dataframe tbody tr th:only-of-type {\n",
       "        vertical-align: middle;\n",
       "    }\n",
       "\n",
       "    .dataframe tbody tr th {\n",
       "        vertical-align: top;\n",
       "    }\n",
       "\n",
       "    .dataframe thead th {\n",
       "        text-align: right;\n",
       "    }\n",
       "</style>\n",
       "<table border=\"1\" class=\"dataframe\">\n",
       "  <thead>\n",
       "    <tr style=\"text-align: right;\">\n",
       "      <th></th>\n",
       "      <th>id</th>\n",
       "      <th>Gender</th>\n",
       "      <th>Customer Type</th>\n",
       "      <th>Age</th>\n",
       "      <th>Type of Travel</th>\n",
       "      <th>Class</th>\n",
       "      <th>Flight Distance</th>\n",
       "      <th>Inflight wifi service</th>\n",
       "      <th>Departure/Arrival time convenient</th>\n",
       "      <th>Ease of Online booking</th>\n",
       "      <th>...</th>\n",
       "      <th>Inflight entertainment</th>\n",
       "      <th>On-board service</th>\n",
       "      <th>Leg room service</th>\n",
       "      <th>Baggage handling</th>\n",
       "      <th>Checkin service</th>\n",
       "      <th>Inflight service</th>\n",
       "      <th>Cleanliness</th>\n",
       "      <th>Departure Delay in Minutes</th>\n",
       "      <th>Arrival Delay in Minutes</th>\n",
       "      <th>satisfaction</th>\n",
       "    </tr>\n",
       "  </thead>\n",
       "  <tbody>\n",
       "    <tr>\n",
       "      <th>0</th>\n",
       "      <td>70172</td>\n",
       "      <td>Male</td>\n",
       "      <td>Loyal Customer</td>\n",
       "      <td>13</td>\n",
       "      <td>Personal Travel</td>\n",
       "      <td>Eco Plus</td>\n",
       "      <td>460</td>\n",
       "      <td>3</td>\n",
       "      <td>4</td>\n",
       "      <td>3</td>\n",
       "      <td>...</td>\n",
       "      <td>5</td>\n",
       "      <td>4</td>\n",
       "      <td>3</td>\n",
       "      <td>4</td>\n",
       "      <td>4</td>\n",
       "      <td>5</td>\n",
       "      <td>5</td>\n",
       "      <td>25</td>\n",
       "      <td>18.0</td>\n",
       "      <td>neutral or dissatisfied</td>\n",
       "    </tr>\n",
       "    <tr>\n",
       "      <th>1</th>\n",
       "      <td>5047</td>\n",
       "      <td>Male</td>\n",
       "      <td>disloyal Customer</td>\n",
       "      <td>25</td>\n",
       "      <td>Business travel</td>\n",
       "      <td>Business</td>\n",
       "      <td>235</td>\n",
       "      <td>3</td>\n",
       "      <td>2</td>\n",
       "      <td>3</td>\n",
       "      <td>...</td>\n",
       "      <td>1</td>\n",
       "      <td>1</td>\n",
       "      <td>5</td>\n",
       "      <td>3</td>\n",
       "      <td>1</td>\n",
       "      <td>4</td>\n",
       "      <td>1</td>\n",
       "      <td>1</td>\n",
       "      <td>6.0</td>\n",
       "      <td>neutral or dissatisfied</td>\n",
       "    </tr>\n",
       "    <tr>\n",
       "      <th>2</th>\n",
       "      <td>110028</td>\n",
       "      <td>Female</td>\n",
       "      <td>Loyal Customer</td>\n",
       "      <td>26</td>\n",
       "      <td>Business travel</td>\n",
       "      <td>Business</td>\n",
       "      <td>1142</td>\n",
       "      <td>2</td>\n",
       "      <td>2</td>\n",
       "      <td>2</td>\n",
       "      <td>...</td>\n",
       "      <td>5</td>\n",
       "      <td>4</td>\n",
       "      <td>3</td>\n",
       "      <td>4</td>\n",
       "      <td>4</td>\n",
       "      <td>4</td>\n",
       "      <td>5</td>\n",
       "      <td>0</td>\n",
       "      <td>0.0</td>\n",
       "      <td>satisfied</td>\n",
       "    </tr>\n",
       "    <tr>\n",
       "      <th>3</th>\n",
       "      <td>24026</td>\n",
       "      <td>Female</td>\n",
       "      <td>Loyal Customer</td>\n",
       "      <td>25</td>\n",
       "      <td>Business travel</td>\n",
       "      <td>Business</td>\n",
       "      <td>562</td>\n",
       "      <td>2</td>\n",
       "      <td>5</td>\n",
       "      <td>5</td>\n",
       "      <td>...</td>\n",
       "      <td>2</td>\n",
       "      <td>2</td>\n",
       "      <td>5</td>\n",
       "      <td>3</td>\n",
       "      <td>1</td>\n",
       "      <td>4</td>\n",
       "      <td>2</td>\n",
       "      <td>11</td>\n",
       "      <td>9.0</td>\n",
       "      <td>neutral or dissatisfied</td>\n",
       "    </tr>\n",
       "    <tr>\n",
       "      <th>4</th>\n",
       "      <td>119299</td>\n",
       "      <td>Male</td>\n",
       "      <td>Loyal Customer</td>\n",
       "      <td>61</td>\n",
       "      <td>Business travel</td>\n",
       "      <td>Business</td>\n",
       "      <td>214</td>\n",
       "      <td>3</td>\n",
       "      <td>3</td>\n",
       "      <td>3</td>\n",
       "      <td>...</td>\n",
       "      <td>3</td>\n",
       "      <td>3</td>\n",
       "      <td>4</td>\n",
       "      <td>4</td>\n",
       "      <td>3</td>\n",
       "      <td>3</td>\n",
       "      <td>3</td>\n",
       "      <td>0</td>\n",
       "      <td>0.0</td>\n",
       "      <td>satisfied</td>\n",
       "    </tr>\n",
       "  </tbody>\n",
       "</table>\n",
       "<p>5 rows × 24 columns</p>\n",
       "</div>"
      ],
      "text/plain": [
       "       id  Gender      Customer Type  Age   Type of Travel     Class  \\\n",
       "0   70172    Male     Loyal Customer   13  Personal Travel  Eco Plus   \n",
       "1    5047    Male  disloyal Customer   25  Business travel  Business   \n",
       "2  110028  Female     Loyal Customer   26  Business travel  Business   \n",
       "3   24026  Female     Loyal Customer   25  Business travel  Business   \n",
       "4  119299    Male     Loyal Customer   61  Business travel  Business   \n",
       "\n",
       "   Flight Distance  Inflight wifi service  Departure/Arrival time convenient  \\\n",
       "0              460                      3                                  4   \n",
       "1              235                      3                                  2   \n",
       "2             1142                      2                                  2   \n",
       "3              562                      2                                  5   \n",
       "4              214                      3                                  3   \n",
       "\n",
       "   Ease of Online booking  ...  Inflight entertainment  On-board service  \\\n",
       "0                       3  ...                       5                 4   \n",
       "1                       3  ...                       1                 1   \n",
       "2                       2  ...                       5                 4   \n",
       "3                       5  ...                       2                 2   \n",
       "4                       3  ...                       3                 3   \n",
       "\n",
       "   Leg room service  Baggage handling  Checkin service  Inflight service  \\\n",
       "0                 3                 4                4                 5   \n",
       "1                 5                 3                1                 4   \n",
       "2                 3                 4                4                 4   \n",
       "3                 5                 3                1                 4   \n",
       "4                 4                 4                3                 3   \n",
       "\n",
       "   Cleanliness  Departure Delay in Minutes  Arrival Delay in Minutes  \\\n",
       "0            5                          25                      18.0   \n",
       "1            1                           1                       6.0   \n",
       "2            5                           0                       0.0   \n",
       "3            2                          11                       9.0   \n",
       "4            3                           0                       0.0   \n",
       "\n",
       "              satisfaction  \n",
       "0  neutral or dissatisfied  \n",
       "1  neutral or dissatisfied  \n",
       "2                satisfied  \n",
       "3  neutral or dissatisfied  \n",
       "4                satisfied  \n",
       "\n",
       "[5 rows x 24 columns]"
      ]
     },
     "execution_count": 195,
     "metadata": {},
     "output_type": "execute_result"
    }
   ],
   "source": [
    "df.head()"
   ]
  },
  {
   "cell_type": "markdown",
   "metadata": {},
   "source": [
    "- 요인 분석의 첫 번째 단계는 모든 변수의 상관 관계도를보고 어떤 변수가 쓸모 없거나 다른 변수와 너무 상관 관계가 있는지 확인하는 것입니다."
   ]
  },
  {
   "cell_type": "code",
   "execution_count": 196,
   "metadata": {
    "ExecuteTime": {
     "end_time": "2020-12-11T07:29:11.940416Z",
     "start_time": "2020-12-11T07:29:11.033095Z"
    },
    "scrolled": false
   },
   "outputs": [
    {
     "data": {
      "text/plain": [
       "<AxesSubplot:>"
      ]
     },
     "execution_count": 196,
     "metadata": {},
     "output_type": "execute_result"
    },
    {
     "data": {
      "image/png": "[encoded data removed]",
      "text/plain": [
       "<Figure size 1440x720 with 2 Axes>"
      ]
     },
     "metadata": {
      "needs_background": "light"
     },
     "output_type": "display_data"
    }
   ],
   "source": [
    "import seaborn as sns\n",
    "plt.figure(figsize=(20,10))\n",
    "c= df.corr()\n",
    "sns.heatmap(c)"
   ]
  },
  {
   "cell_type": "markdown",
   "metadata": {},
   "source": [
    "- 일부 변수, 특히 설문 조사 답변과 관련된 변수는 매우 높은 상관 관계를 보입니다. 그러나 실제로 눈에 띄는 것은 \"출발 지연 (분)\"과 \"도착 지연 (분)\"사이에 매우 높은 상관 관계 (0.98)입니다. 말이 되네요. 비행기가 예상보다 늦게 출발하면 늦게 도착해야합니다. 이 매우 높은 상관 관계를 고려하여 데이터 세트에서 해당 열을 제거하기로 결정했습니다."
   ]
  },
  {
   "cell_type": "code",
   "execution_count": null,
   "metadata": {},
   "outputs": [],
   "source": [
    "# df.drop(['Arrival Delay in Minutes'], axis=1, inplace=True)"
   ]
  },
  {
   "cell_type": "markdown",
   "metadata": {},
   "source": [
    "- 이제 쓸모없는 변수를 제거 했으므로 요인 분석에 사용할 14 개의 변수가 있습니다."
   ]
  },
  {
   "cell_type": "code",
   "execution_count": 177,
   "metadata": {
    "ExecuteTime": {
     "end_time": "2020-12-11T07:13:46.746542Z",
     "start_time": "2020-12-11T07:13:46.732580Z"
    }
   },
   "outputs": [],
   "source": [
    "x = df[[\n",
    "'Inflight wifi service', \n",
    "'Departure/Arrival time convenient', \n",
    "'Ease of Online booking', \n",
    "'Gate location', \n",
    "'Food and drink', \n",
    "'Online boarding', \n",
    "'Seat comfort', \n",
    "'Inflight entertainment', \n",
    "'On-board service', \n",
    "'Leg room service', \n",
    "'Baggage handling', \n",
    "'Checkin service', \n",
    "'Inflight service', \n",
    "'Cleanliness']]"
   ]
  },
  {
   "cell_type": "markdown",
   "metadata": {
    "ExecuteTime": {
     "end_time": "2020-12-11T07:15:09.912667Z",
     "start_time": "2020-12-11T07:15:09.905686Z"
    }
   },
   "source": [
    "- Factor Analysis\n",
    "- 14 개의 변수를 더 적은 수의 잠재 변수(요인)로 설명 할 수 있는지 확인해본다."
   ]
  },
  {
   "cell_type": "markdown",
   "metadata": {},
   "source": [
    "- 얼마나 많은 요인이 필요한지 알아 내기 위해 고유 값(eigenvalues)을 볼 수 있습니다. 고유 값은 요인이 설명하는 변수의 분산 정도를 측정하는 것입니다. 고유 값이 1보다 크면 요인이 고유 변수보다 더 많은 분산을 설명한다는 것을 의미합니다. 고유 값 2.5는 요인이 2.5 변수의 분산을 설명한다는 것을 의미합니다."
   ]
  },
  {
   "cell_type": "code",
   "execution_count": 199,
   "metadata": {
    "ExecuteTime": {
     "end_time": "2020-12-11T07:30:38.731265Z",
     "start_time": "2020-12-11T07:30:38.356268Z"
    }
   },
   "outputs": [
    {
     "name": "stdout",
     "output_type": "stream",
     "text": [
      "[3.47460753 2.32753739 1.87688179 1.11982655 0.94867075 0.911874\n",
      " 0.69120616 0.53988526 0.49477839 0.46265754 0.36863288 0.31738585\n",
      " 0.25404277 0.21201313]\n"
     ]
    },
    {
     "data": {
      "text/plain": [
       "[<matplotlib.lines.Line2D at 0x1e44ff0a5c8>]"
      ]
     },
     "execution_count": 199,
     "metadata": {},
     "output_type": "execute_result"
    },
    {
     "data": {
      "image/png": "[encoded data removed]",
      "text/plain": [
       "<Figure size 432x288 with 1 Axes>"
      ]
     },
     "metadata": {
      "needs_background": "light"
     },
     "output_type": "display_data"
    }
   ],
   "source": [
    "#Subset of the data, the 14 columns containing the survey answers\n",
    "x =df[df.columns[6:20]] \n",
    "fa = FactorAnalyzer()\n",
    "fa.fit(x, 10)\n",
    "\n",
    "#Get Eigen values and plot them\n",
    "ev, v = fa.get_eigenvalues()\n",
    "print(ev)\n",
    "plt.plot(range(1,x.shape[1]+1),ev)"
   ]
  },
  {
   "cell_type": "markdown",
   "metadata": {},
   "source": [
    "- 세 번째 요소 이후 고유 값의 큰 감소를 고려할 때 여기서는 세 가지 요소 만 사용합니다. 이러한 요인은 3.5, 2.3 및 1.9의 고유 값을 가지며 이는 약 7.7 변수의 분산을 설명 함을 의미합니다.\n",
    "- FactorAnalyzer 함수는 우리가 원하는 요소의 수와 회전 유형을 지정하는 곳입니다. 간단히 말해서, 회전의 개념은 더 간단하고 해석 가능한 구조를 얻기 위해 요소를 회전하는 것입니다. 많은 유형의 회전이 존재합니다. 아래에서는 생성 된 요인이 상관 (직교성)되지 않도록 보장하면서 제곱 하중 분산의 합을 최대화하는 varimax 회전을 사용합니다. 어떤 요소가 생성되는지 살펴 보겠습니다."
   ]
  },
  {
   "cell_type": "code",
   "execution_count": 209,
   "metadata": {
    "ExecuteTime": {
     "end_time": "2020-12-11T07:34:41.746270Z",
     "start_time": "2020-12-11T07:34:41.547292Z"
    }
   },
   "outputs": [
    {
     "data": {
      "text/html": [
       "<div>\n",
       "<style scoped>\n",
       "    .dataframe tbody tr th:only-of-type {\n",
       "        vertical-align: middle;\n",
       "    }\n",
       "\n",
       "    .dataframe tbody tr th {\n",
       "        vertical-align: top;\n",
       "    }\n",
       "\n",
       "    .dataframe thead th {\n",
       "        text-align: right;\n",
       "    }\n",
       "</style>\n",
       "<table border=\"1\" class=\"dataframe\">\n",
       "  <thead>\n",
       "    <tr style=\"text-align: right;\">\n",
       "      <th></th>\n",
       "      <th>F1</th>\n",
       "      <th>F2</th>\n",
       "      <th>F3</th>\n",
       "    </tr>\n",
       "  </thead>\n",
       "  <tbody>\n",
       "    <tr>\n",
       "      <th>Flight Distance</th>\n",
       "      <td>0.100116</td>\n",
       "      <td>0.032710</td>\n",
       "      <td>0.162905</td>\n",
       "    </tr>\n",
       "    <tr>\n",
       "      <th>Inflight wifi service</th>\n",
       "      <td>0.117115</td>\n",
       "      <td>0.747520</td>\n",
       "      <td>0.209846</td>\n",
       "    </tr>\n",
       "    <tr>\n",
       "      <th>Departure/Arrival time convenient</th>\n",
       "      <td>0.064318</td>\n",
       "      <td>0.508389</td>\n",
       "      <td>-0.033294</td>\n",
       "    </tr>\n",
       "    <tr>\n",
       "      <th>Ease of Online booking</th>\n",
       "      <td>0.016619</td>\n",
       "      <td>0.927371</td>\n",
       "      <td>0.075719</td>\n",
       "    </tr>\n",
       "    <tr>\n",
       "      <th>Gate location</th>\n",
       "      <td>-0.027473</td>\n",
       "      <td>0.510436</td>\n",
       "      <td>-0.035619</td>\n",
       "    </tr>\n",
       "    <tr>\n",
       "      <th>Food and drink</th>\n",
       "      <td>-0.002526</td>\n",
       "      <td>-0.020400</td>\n",
       "      <td>0.722337</td>\n",
       "    </tr>\n",
       "    <tr>\n",
       "      <th>Online boarding</th>\n",
       "      <td>0.099692</td>\n",
       "      <td>0.342982</td>\n",
       "      <td>0.442006</td>\n",
       "    </tr>\n",
       "    <tr>\n",
       "      <th>Seat comfort</th>\n",
       "      <td>0.057283</td>\n",
       "      <td>-0.007236</td>\n",
       "      <td>0.812632</td>\n",
       "    </tr>\n",
       "    <tr>\n",
       "      <th>Inflight entertainment</th>\n",
       "      <td>0.445210</td>\n",
       "      <td>-0.014473</td>\n",
       "      <td>0.739131</td>\n",
       "    </tr>\n",
       "    <tr>\n",
       "      <th>On-board service</th>\n",
       "      <td>0.696665</td>\n",
       "      <td>0.024657</td>\n",
       "      <td>0.124992</td>\n",
       "    </tr>\n",
       "    <tr>\n",
       "      <th>Leg room service</th>\n",
       "      <td>0.479079</td>\n",
       "      <td>0.077032</td>\n",
       "      <td>0.102332</td>\n",
       "    </tr>\n",
       "    <tr>\n",
       "      <th>Baggage handling</th>\n",
       "      <td>0.765447</td>\n",
       "      <td>0.028737</td>\n",
       "      <td>0.038456</td>\n",
       "    </tr>\n",
       "    <tr>\n",
       "      <th>Checkin service</th>\n",
       "      <td>0.282889</td>\n",
       "      <td>0.025488</td>\n",
       "      <td>0.142322</td>\n",
       "    </tr>\n",
       "    <tr>\n",
       "      <th>Inflight service</th>\n",
       "      <td>0.799465</td>\n",
       "      <td>0.019260</td>\n",
       "      <td>0.035335</td>\n",
       "    </tr>\n",
       "  </tbody>\n",
       "</table>\n",
       "</div>"
      ],
      "text/plain": [
       "                                         F1        F2        F3\n",
       "Flight Distance                    0.100116  0.032710  0.162905\n",
       "Inflight wifi service              0.117115  0.747520  0.209846\n",
       "Departure/Arrival time convenient  0.064318  0.508389 -0.033294\n",
       "Ease of Online booking             0.016619  0.927371  0.075719\n",
       "Gate location                     -0.027473  0.510436 -0.035619\n",
       "Food and drink                    -0.002526 -0.020400  0.722337\n",
       "Online boarding                    0.099692  0.342982  0.442006\n",
       "Seat comfort                       0.057283 -0.007236  0.812632\n",
       "Inflight entertainment             0.445210 -0.014473  0.739131\n",
       "On-board service                   0.696665  0.024657  0.124992\n",
       "Leg room service                   0.479079  0.077032  0.102332\n",
       "Baggage handling                   0.765447  0.028737  0.038456\n",
       "Checkin service                    0.282889  0.025488  0.142322\n",
       "Inflight service                   0.799465  0.019260  0.035335"
      ]
     },
     "execution_count": 209,
     "metadata": {},
     "output_type": "execute_result"
    }
   ],
   "source": [
    "fa = FactorAnalyzer(3, rotation='varimax')\n",
    "fa.fit(x)\n",
    "loads = pd.DataFrame(fa.loadings_, index = x.columns,\n",
    "                    columns = ['F1','F2','F3'])\n",
    "# print(loads)\n",
    "loads"
   ]
  },
  {
   "cell_type": "code",
   "execution_count": 216,
   "metadata": {
    "ExecuteTime": {
     "end_time": "2020-12-11T07:39:53.019188Z",
     "start_time": "2020-12-11T07:39:52.362887Z"
    }
   },
   "outputs": [
    {
     "data": {
      "text/plain": [
       "<AxesSubplot:>"
      ]
     },
     "execution_count": 216,
     "metadata": {},
     "output_type": "execute_result"
    },
    {
     "data": {
      "image/png": "[encoded data removed]",
      "text/plain": [
       "<Figure size 720x504 with 2 Axes>"
      ]
     },
     "metadata": {
      "needs_background": "light"
     },
     "output_type": "display_data"
    }
   ],
   "source": [
    "import seaborn as sns\n",
    "import matplotlib.pyplot as plt\n",
    "plt.figure(figsize=(10,7))\n",
    "sns.heatmap(loads.round(2), annot=True, cmap='Blues', linewidths=.1)"
   ]
  },
  {
   "cell_type": "markdown",
   "metadata": {},
   "source": [
    "- 요인 loadings 수치가 높을수록 해당 요인에 대한 변수가 더 중요합니다. 여기서 0.5의 로딩 컷오프가 사용됩니다. 이 컷오프는 어떤 변수가 어떤 요인에 속하는지 결정합니다. 예를 들어, 첫 번째 요인에는 변수 5, 7, 8 및 14 (각각 0.75, 0.78, 0.74 및 0.85의 로딩)가 포함되어 있습니다."
   ]
  },
  {
   "cell_type": "markdown",
   "metadata": {
    "ExecuteTime": {
     "end_time": "2020-12-11T07:23:31.608107Z",
     "start_time": "2020-12-11T07:23:31.600129Z"
    }
   },
   "source": [
    "- 생성 된 3 가지 요인, 포함 된 변수 및 가능한 \"해석 성\"은 다음과 같습니다.\n",
    "- 편안함 : 식음료, 편안한 좌석, 기내 엔터테인먼트, 청결도\n",
    "- 서비스 : 기내 서비스, 수하물 처리, 기내 서비스\n",
    "- 편의 : 기내 와이파이, 출발 / 도착 시간 편의, 온라인 예약, 게이트 위치.\n",
    "\n",
    "- 자, 훌륭하지만 우리의 요인이 좋은지 어떻게 알 수 있습니까? 음, Cronbach 알파는 요인의 변수가 \"일관되고\"신뢰할 수있는 요인을 형성하는지 여부를 측정하는 데 사용할 수 있습니다. 알파에 대해 0.6 이상의 값은 실제로 허용되는 것으로 간주됩니다. 다음은 pingouin 패키지를 사용하여 Cronbach 알파를 얻는 코드입니다."
   ]
  },
  {
   "cell_type": "code",
   "execution_count": 211,
   "metadata": {
    "ExecuteTime": {
     "end_time": "2020-12-11T07:35:40.825103Z",
     "start_time": "2020-12-11T07:35:40.769253Z"
    }
   },
   "outputs": [
    {
     "name": "stdout",
     "output_type": "stream",
     "text": [
      "(0.87628779166241, array([0.875, 0.878])) (0.7942916933090223, array([0.792, 0.796])) (0.7679754211110685, array([0.766, 0.77 ]))\n"
     ]
    }
   ],
   "source": [
    "import pingouin as pg\n",
    "#Create the factors\n",
    "factor1 = df[['Food and drink', 'Seat comfort', 'Inflight entertainment', 'Cleanliness']]\n",
    "factor2 = df[['On-board service', 'Baggage handling', 'Inflight service']]\n",
    "factor3 = df[['Inflight wifi service', 'Departure/Arrival time convenient', 'Ease of Online booking', 'Gate location']]\n",
    "#Get cronbach alpha\n",
    "factor1_alpha = pg.cronbach_alpha(factor1)\n",
    "factor2_alpha = pg.cronbach_alpha(factor2)\n",
    "factor3_alpha = pg.cronbach_alpha(factor3)\n",
    "print(factor1_alpha, factor2_alpha, factor3_alpha)"
   ]
  },
  {
   "cell_type": "code",
   "execution_count": 224,
   "metadata": {
    "ExecuteTime": {
     "end_time": "2020-12-11T07:44:54.946167Z",
     "start_time": "2020-12-11T07:44:54.933203Z"
    },
    "scrolled": true
   },
   "outputs": [
    {
     "data": {
      "text/plain": [
       "0.8762877916624833"
      ]
     },
     "execution_count": 224,
     "metadata": {},
     "output_type": "execute_result"
    }
   ],
   "source": [
    "# 직접 계산해주는 방법 \n",
    "def cronbach_alpha(x):\n",
    "    xdim=x.shape\n",
    "    cvsum=x.var(axis=0).sum()\n",
    "    rsvar=x.sum(axis=1).var()\n",
    "    ca=xdim[1]/(xdim[1]-1)*(1-cvsum/rsvar)\n",
    "    return (ca)\n",
    "\n",
    "cronbach_alpha(factor1)"
   ]
  },
  {
   "cell_type": "markdown",
   "metadata": {},
   "source": [
    "- 알파는 0.87, 0.79 및 0.76에서 평가되며 이는 유용하고 일관성이 있음을 나타냅니다. 이러한 새로운 요인을 다른 분석이나 예측을위한 변수로 사용할 수 있습니다. 다음은 전체 데이터 프레임에 요인을 적용하고 14 개의 변수를 대체 할 수있는 3 개의 새 변수를 만드는 코드입니다."
   ]
  },
  {
   "cell_type": "code",
   "execution_count": 215,
   "metadata": {
    "ExecuteTime": {
     "end_time": "2020-12-11T07:37:05.752976Z",
     "start_time": "2020-12-11T07:37:05.543537Z"
    }
   },
   "outputs": [
    {
     "data": {
      "text/html": [
       "<div>\n",
       "<style scoped>\n",
       "    .dataframe tbody tr th:only-of-type {\n",
       "        vertical-align: middle;\n",
       "    }\n",
       "\n",
       "    .dataframe tbody tr th {\n",
       "        vertical-align: top;\n",
       "    }\n",
       "\n",
       "    .dataframe thead th {\n",
       "        text-align: right;\n",
       "    }\n",
       "</style>\n",
       "<table border=\"1\" class=\"dataframe\">\n",
       "  <thead>\n",
       "    <tr style=\"text-align: right;\">\n",
       "      <th></th>\n",
       "      <th>F1</th>\n",
       "      <th>F2</th>\n",
       "      <th>F3</th>\n",
       "    </tr>\n",
       "  </thead>\n",
       "  <tbody>\n",
       "    <tr>\n",
       "      <th>0</th>\n",
       "      <td>0.593968</td>\n",
       "      <td>0.022783</td>\n",
       "      <td>1.148622</td>\n",
       "    </tr>\n",
       "    <tr>\n",
       "      <th>1</th>\n",
       "      <td>-0.422688</td>\n",
       "      <td>0.192866</td>\n",
       "      <td>-1.836159</td>\n",
       "    </tr>\n",
       "    <tr>\n",
       "      <th>2</th>\n",
       "      <td>0.308417</td>\n",
       "      <td>-0.761049</td>\n",
       "      <td>1.354437</td>\n",
       "    </tr>\n",
       "    <tr>\n",
       "      <th>3</th>\n",
       "      <td>-0.327896</td>\n",
       "      <td>1.327206</td>\n",
       "      <td>-1.313135</td>\n",
       "    </tr>\n",
       "    <tr>\n",
       "      <th>4</th>\n",
       "      <td>-0.340515</td>\n",
       "      <td>0.133981</td>\n",
       "      <td>0.626539</td>\n",
       "    </tr>\n",
       "    <tr>\n",
       "      <th>...</th>\n",
       "      <td>...</td>\n",
       "      <td>...</td>\n",
       "      <td>...</td>\n",
       "    </tr>\n",
       "    <tr>\n",
       "      <th>103899</th>\n",
       "      <td>-0.412505</td>\n",
       "      <td>-0.508426</td>\n",
       "      <td>-1.117300</td>\n",
       "    </tr>\n",
       "    <tr>\n",
       "      <th>103900</th>\n",
       "      <td>1.439517</td>\n",
       "      <td>0.905254</td>\n",
       "      <td>0.637774</td>\n",
       "    </tr>\n",
       "    <tr>\n",
       "      <th>103901</th>\n",
       "      <td>0.350340</td>\n",
       "      <td>-1.248267</td>\n",
       "      <td>0.557497</td>\n",
       "    </tr>\n",
       "    <tr>\n",
       "      <th>103902</th>\n",
       "      <td>-0.232795</td>\n",
       "      <td>-0.984242</td>\n",
       "      <td>-1.933920</td>\n",
       "    </tr>\n",
       "    <tr>\n",
       "      <th>103903</th>\n",
       "      <td>-0.665903</td>\n",
       "      <td>0.086078</td>\n",
       "      <td>-1.886736</td>\n",
       "    </tr>\n",
       "  </tbody>\n",
       "</table>\n",
       "<p>103904 rows × 3 columns</p>\n",
       "</div>"
      ],
      "text/plain": [
       "              F1        F2        F3\n",
       "0       0.593968  0.022783  1.148622\n",
       "1      -0.422688  0.192866 -1.836159\n",
       "2       0.308417 -0.761049  1.354437\n",
       "3      -0.327896  1.327206 -1.313135\n",
       "4      -0.340515  0.133981  0.626539\n",
       "...          ...       ...       ...\n",
       "103899 -0.412505 -0.508426 -1.117300\n",
       "103900  1.439517  0.905254  0.637774\n",
       "103901  0.350340 -1.248267  0.557497\n",
       "103902 -0.232795 -0.984242 -1.933920\n",
       "103903 -0.665903  0.086078 -1.886736\n",
       "\n",
       "[103904 rows x 3 columns]"
      ]
     },
     "execution_count": 215,
     "metadata": {},
     "output_type": "execute_result"
    }
   ],
   "source": [
    "new_variables = fa.fit_transform(x)\n",
    "pd.DataFrame(new_variables, columns = ['F1','F2','F3'])"
   ]
  },
  {
   "cell_type": "markdown",
   "metadata": {},
   "source": [
    "# PCA(주성분분석)"
   ]
  },
  {
   "cell_type": "code",
   "execution_count": 225,
   "metadata": {
    "ExecuteTime": {
     "end_time": "2020-12-11T09:39:56.584543Z",
     "start_time": "2020-12-11T09:39:56.579558Z"
    }
   },
   "outputs": [],
   "source": [
    "import pandas as pd"
   ]
  },
  {
   "cell_type": "code",
   "execution_count": 233,
   "metadata": {
    "ExecuteTime": {
     "end_time": "2020-12-11T09:43:55.955652Z",
     "start_time": "2020-12-11T09:43:55.936702Z"
    }
   },
   "outputs": [
    {
     "data": {
      "text/html": [
       "<div>\n",
       "<style scoped>\n",
       "    .dataframe tbody tr th:only-of-type {\n",
       "        vertical-align: middle;\n",
       "    }\n",
       "\n",
       "    .dataframe tbody tr th {\n",
       "        vertical-align: top;\n",
       "    }\n",
       "\n",
       "    .dataframe thead th {\n",
       "        text-align: right;\n",
       "    }\n",
       "</style>\n",
       "<table border=\"1\" class=\"dataframe\">\n",
       "  <thead>\n",
       "    <tr style=\"text-align: right;\">\n",
       "      <th></th>\n",
       "      <th>sepal length</th>\n",
       "      <th>sepal width</th>\n",
       "      <th>petal length</th>\n",
       "      <th>petal width</th>\n",
       "      <th>target</th>\n",
       "    </tr>\n",
       "  </thead>\n",
       "  <tbody>\n",
       "    <tr>\n",
       "      <th>0</th>\n",
       "      <td>5.1</td>\n",
       "      <td>3.5</td>\n",
       "      <td>1.4</td>\n",
       "      <td>0.2</td>\n",
       "      <td>setosa</td>\n",
       "    </tr>\n",
       "    <tr>\n",
       "      <th>1</th>\n",
       "      <td>4.9</td>\n",
       "      <td>3.0</td>\n",
       "      <td>1.4</td>\n",
       "      <td>0.2</td>\n",
       "      <td>setosa</td>\n",
       "    </tr>\n",
       "    <tr>\n",
       "      <th>2</th>\n",
       "      <td>4.7</td>\n",
       "      <td>3.2</td>\n",
       "      <td>1.3</td>\n",
       "      <td>0.2</td>\n",
       "      <td>setosa</td>\n",
       "    </tr>\n",
       "    <tr>\n",
       "      <th>3</th>\n",
       "      <td>4.6</td>\n",
       "      <td>3.1</td>\n",
       "      <td>1.5</td>\n",
       "      <td>0.2</td>\n",
       "      <td>setosa</td>\n",
       "    </tr>\n",
       "    <tr>\n",
       "      <th>4</th>\n",
       "      <td>5.0</td>\n",
       "      <td>3.6</td>\n",
       "      <td>1.4</td>\n",
       "      <td>0.2</td>\n",
       "      <td>setosa</td>\n",
       "    </tr>\n",
       "  </tbody>\n",
       "</table>\n",
       "</div>"
      ],
      "text/plain": [
       "   sepal length  sepal width  petal length  petal width  target\n",
       "0           5.1          3.5           1.4          0.2  setosa\n",
       "1           4.9          3.0           1.4          0.2  setosa\n",
       "2           4.7          3.2           1.3          0.2  setosa\n",
       "3           4.6          3.1           1.5          0.2  setosa\n",
       "4           5.0          3.6           1.4          0.2  setosa"
      ]
     },
     "execution_count": 233,
     "metadata": {},
     "output_type": "execute_result"
    }
   ],
   "source": [
    "df = pd.read_csv('./data/iris.csv', header=0, names=['Unnamed: 0', 'sepal length', 'sepal width',\n",
    "                                     'petal length', 'petal width', 'target']).drop(columns=['Unnamed: 0'])\n",
    "df.head()"
   ]
  },
  {
   "cell_type": "markdown",
   "metadata": {},
   "source": [
    "- PCA는 정규화가 필수다"
   ]
  },
  {
   "cell_type": "code",
   "execution_count": 234,
   "metadata": {
    "ExecuteTime": {
     "end_time": "2020-12-11T09:44:02.393479Z",
     "start_time": "2020-12-11T09:44:02.384512Z"
    }
   },
   "outputs": [],
   "source": [
    "from sklearn.preprocessing import StandardScaler\n",
    "features = ['sepal length', 'sepal width', 'petal length', 'petal width']\n",
    "\n",
    "# Separating out the features\n",
    "x = df.loc[:, features].values\n",
    "\n",
    "# Separating out the target\n",
    "y = df.loc[:,['target']].values\n",
    "\n",
    "# Standardizing the features\n",
    "x = StandardScaler().fit_transform(x)"
   ]
  },
  {
   "cell_type": "markdown",
   "metadata": {},
   "source": [
    "- PCA 수행\n",
    "- component를 2 개로 실행해본다"
   ]
  },
  {
   "cell_type": "code",
   "execution_count": 258,
   "metadata": {
    "ExecuteTime": {
     "end_time": "2020-12-11T09:59:48.675539Z",
     "start_time": "2020-12-11T09:59:48.662067Z"
    }
   },
   "outputs": [
    {
     "data": {
      "text/html": [
       "<div>\n",
       "<style scoped>\n",
       "    .dataframe tbody tr th:only-of-type {\n",
       "        vertical-align: middle;\n",
       "    }\n",
       "\n",
       "    .dataframe tbody tr th {\n",
       "        vertical-align: top;\n",
       "    }\n",
       "\n",
       "    .dataframe thead th {\n",
       "        text-align: right;\n",
       "    }\n",
       "</style>\n",
       "<table border=\"1\" class=\"dataframe\">\n",
       "  <thead>\n",
       "    <tr style=\"text-align: right;\">\n",
       "      <th></th>\n",
       "      <th>principal component 1</th>\n",
       "      <th>principal component 2</th>\n",
       "      <th>principal component 3</th>\n",
       "    </tr>\n",
       "  </thead>\n",
       "  <tbody>\n",
       "    <tr>\n",
       "      <th>0</th>\n",
       "      <td>-2.264703</td>\n",
       "      <td>0.480027</td>\n",
       "      <td>-0.127706</td>\n",
       "    </tr>\n",
       "    <tr>\n",
       "      <th>1</th>\n",
       "      <td>-2.080961</td>\n",
       "      <td>-0.674134</td>\n",
       "      <td>-0.234609</td>\n",
       "    </tr>\n",
       "    <tr>\n",
       "      <th>2</th>\n",
       "      <td>-2.364229</td>\n",
       "      <td>-0.341908</td>\n",
       "      <td>0.044201</td>\n",
       "    </tr>\n",
       "    <tr>\n",
       "      <th>3</th>\n",
       "      <td>-2.299384</td>\n",
       "      <td>-0.597395</td>\n",
       "      <td>0.091290</td>\n",
       "    </tr>\n",
       "    <tr>\n",
       "      <th>4</th>\n",
       "      <td>-2.389842</td>\n",
       "      <td>0.646835</td>\n",
       "      <td>0.015738</td>\n",
       "    </tr>\n",
       "  </tbody>\n",
       "</table>\n",
       "</div>"
      ],
      "text/plain": [
       "   principal component 1  principal component 2  principal component 3\n",
       "0              -2.264703               0.480027              -0.127706\n",
       "1              -2.080961              -0.674134              -0.234609\n",
       "2              -2.364229              -0.341908               0.044201\n",
       "3              -2.299384              -0.597395               0.091290\n",
       "4              -2.389842               0.646835               0.015738"
      ]
     },
     "execution_count": 258,
     "metadata": {},
     "output_type": "execute_result"
    }
   ],
   "source": [
    "from sklearn.decomposition import PCA\n",
    "pca = PCA(n_components=3)\n",
    "principalComponents = pca.fit_transform(x)\n",
    "principalDf = pd.DataFrame(data = principalComponents\n",
    "             , columns = ['principal component 1', 'principal component 2', 'principal component 3'])\n",
    "principalDf.head()"
   ]
  },
  {
   "cell_type": "code",
   "execution_count": 259,
   "metadata": {
    "ExecuteTime": {
     "end_time": "2020-12-11T09:59:52.016112Z",
     "start_time": "2020-12-11T09:59:52.003147Z"
    }
   },
   "outputs": [
    {
     "data": {
      "text/html": [
       "<div>\n",
       "<style scoped>\n",
       "    .dataframe tbody tr th:only-of-type {\n",
       "        vertical-align: middle;\n",
       "    }\n",
       "\n",
       "    .dataframe tbody tr th {\n",
       "        vertical-align: top;\n",
       "    }\n",
       "\n",
       "    .dataframe thead th {\n",
       "        text-align: right;\n",
       "    }\n",
       "</style>\n",
       "<table border=\"1\" class=\"dataframe\">\n",
       "  <thead>\n",
       "    <tr style=\"text-align: right;\">\n",
       "      <th></th>\n",
       "      <th>principal component 1</th>\n",
       "      <th>principal component 2</th>\n",
       "      <th>principal component 3</th>\n",
       "      <th>target</th>\n",
       "    </tr>\n",
       "  </thead>\n",
       "  <tbody>\n",
       "    <tr>\n",
       "      <th>0</th>\n",
       "      <td>-2.264703</td>\n",
       "      <td>0.480027</td>\n",
       "      <td>-0.127706</td>\n",
       "      <td>setosa</td>\n",
       "    </tr>\n",
       "    <tr>\n",
       "      <th>1</th>\n",
       "      <td>-2.080961</td>\n",
       "      <td>-0.674134</td>\n",
       "      <td>-0.234609</td>\n",
       "      <td>setosa</td>\n",
       "    </tr>\n",
       "    <tr>\n",
       "      <th>2</th>\n",
       "      <td>-2.364229</td>\n",
       "      <td>-0.341908</td>\n",
       "      <td>0.044201</td>\n",
       "      <td>setosa</td>\n",
       "    </tr>\n",
       "    <tr>\n",
       "      <th>3</th>\n",
       "      <td>-2.299384</td>\n",
       "      <td>-0.597395</td>\n",
       "      <td>0.091290</td>\n",
       "      <td>setosa</td>\n",
       "    </tr>\n",
       "    <tr>\n",
       "      <th>4</th>\n",
       "      <td>-2.389842</td>\n",
       "      <td>0.646835</td>\n",
       "      <td>0.015738</td>\n",
       "      <td>setosa</td>\n",
       "    </tr>\n",
       "  </tbody>\n",
       "</table>\n",
       "</div>"
      ],
      "text/plain": [
       "   principal component 1  principal component 2  principal component 3  target\n",
       "0              -2.264703               0.480027              -0.127706  setosa\n",
       "1              -2.080961              -0.674134              -0.234609  setosa\n",
       "2              -2.364229              -0.341908               0.044201  setosa\n",
       "3              -2.299384              -0.597395               0.091290  setosa\n",
       "4              -2.389842               0.646835               0.015738  setosa"
      ]
     },
     "execution_count": 259,
     "metadata": {},
     "output_type": "execute_result"
    }
   ],
   "source": [
    "finalDf = pd.concat([principalDf, df[['target']]], axis = 1)\n",
    "finalDf.head()"
   ]
  },
  {
   "cell_type": "markdown",
   "metadata": {},
   "source": [
    "- 시각화"
   ]
  },
  {
   "cell_type": "code",
   "execution_count": 260,
   "metadata": {
    "ExecuteTime": {
     "end_time": "2020-12-11T09:59:54.542941Z",
     "start_time": "2020-12-11T09:59:54.167905Z"
    },
    "scrolled": true
   },
   "outputs": [
    {
     "data": {
      "text/plain": [
       "<AxesSubplot:xlabel='principal component 1', ylabel='principal component 2'>"
      ]
     },
     "execution_count": 260,
     "metadata": {},
     "output_type": "execute_result"
    },
    {
     "data": {
      "image/png": "[encoded data removed]",
      "text/plain": [
       "<Figure size 432x288 with 1 Axes>"
      ]
     },
     "metadata": {
      "needs_background": "light"
     },
     "output_type": "display_data"
    }
   ],
   "source": [
    "sns.scatterplot(data = finalDf, x = 'principal component 1', y = 'principal component 2',\n",
    "                hue=finalDf['target'].tolist())"
   ]
  },
  {
   "cell_type": "markdown",
   "metadata": {},
   "source": [
    "- 분산 설명\n",
    "- 각 principal component별로 얼마의 정보(분산)을 설명하는지를 나타낸다.\n",
    "- 일부 정보의 손실을 있다.\n",
    "- 그러나 component 1로 72.96% 정보가 설명이 되고, component 2로 22.85%가 설명이 되기 때문에 두 개의 component만 사용해도 95.81%의 분산을 설명할 수 있게 된다.\n",
    "- 반면, component 3의경우 3.67%의 설명력만을 가지므로 크게 영향력이 없다."
   ]
  },
  {
   "cell_type": "code",
   "execution_count": 261,
   "metadata": {
    "ExecuteTime": {
     "end_time": "2020-12-11T09:59:56.773184Z",
     "start_time": "2020-12-11T09:59:56.767200Z"
    }
   },
   "outputs": [
    {
     "data": {
      "text/plain": [
       "array([0.72962445, 0.22850762, 0.03668922])"
      ]
     },
     "execution_count": 261,
     "metadata": {},
     "output_type": "execute_result"
    }
   ],
   "source": [
    "pca.explained_variance_ratio_"
   ]
  },
  {
   "cell_type": "markdown",
   "metadata": {},
   "source": [
    "# 코호트 분석"
   ]
  },
  {
   "cell_type": "code",
   "execution_count": 9,
   "metadata": {
    "ExecuteTime": {
     "end_time": "2020-12-11T11:01:21.340237Z",
     "start_time": "2020-12-11T11:01:21.215571Z"
    }
   },
   "outputs": [],
   "source": [
    "import pandas as pd\n",
    "import numpy as np\n",
    "import matplotlib.pyplot as plt\n",
    "import matplotlib as mpl\n",
    "\n",
    "mpl.rcParams['lines.linewidth'] = 2\n",
    "\n",
    "%matplotlib inline"
   ]
  },
  {
   "cell_type": "code",
   "execution_count": 19,
   "metadata": {
    "ExecuteTime": {
     "end_time": "2020-12-11T11:30:47.194676Z",
     "start_time": "2020-12-11T11:30:46.629667Z"
    }
   },
   "outputs": [
    {
     "data": {
      "text/html": [
       "<div>\n",
       "<style scoped>\n",
       "    .dataframe tbody tr th:only-of-type {\n",
       "        vertical-align: middle;\n",
       "    }\n",
       "\n",
       "    .dataframe tbody tr th {\n",
       "        vertical-align: top;\n",
       "    }\n",
       "\n",
       "    .dataframe thead th {\n",
       "        text-align: right;\n",
       "    }\n",
       "</style>\n",
       "<table border=\"1\" class=\"dataframe\">\n",
       "  <thead>\n",
       "    <tr style=\"text-align: right;\">\n",
       "      <th></th>\n",
       "      <th>OrderId</th>\n",
       "      <th>OrderDate</th>\n",
       "      <th>UserId</th>\n",
       "      <th>TotalCharges</th>\n",
       "      <th>CommonId</th>\n",
       "      <th>PupId</th>\n",
       "      <th>PickupDate</th>\n",
       "    </tr>\n",
       "  </thead>\n",
       "  <tbody>\n",
       "    <tr>\n",
       "      <th>0</th>\n",
       "      <td>262</td>\n",
       "      <td>2009-01-11</td>\n",
       "      <td>47</td>\n",
       "      <td>50.67</td>\n",
       "      <td>TRQKD</td>\n",
       "      <td>2</td>\n",
       "      <td>2009-01-12</td>\n",
       "    </tr>\n",
       "    <tr>\n",
       "      <th>1</th>\n",
       "      <td>278</td>\n",
       "      <td>2009-01-20</td>\n",
       "      <td>47</td>\n",
       "      <td>26.60</td>\n",
       "      <td>4HH2S</td>\n",
       "      <td>3</td>\n",
       "      <td>2009-01-20</td>\n",
       "    </tr>\n",
       "    <tr>\n",
       "      <th>2</th>\n",
       "      <td>294</td>\n",
       "      <td>2009-02-03</td>\n",
       "      <td>47</td>\n",
       "      <td>38.71</td>\n",
       "      <td>3TRDC</td>\n",
       "      <td>2</td>\n",
       "      <td>2009-02-04</td>\n",
       "    </tr>\n",
       "    <tr>\n",
       "      <th>3</th>\n",
       "      <td>301</td>\n",
       "      <td>2009-02-06</td>\n",
       "      <td>47</td>\n",
       "      <td>53.38</td>\n",
       "      <td>NGAZJ</td>\n",
       "      <td>2</td>\n",
       "      <td>2009-02-09</td>\n",
       "    </tr>\n",
       "    <tr>\n",
       "      <th>4</th>\n",
       "      <td>302</td>\n",
       "      <td>2009-02-06</td>\n",
       "      <td>47</td>\n",
       "      <td>14.28</td>\n",
       "      <td>FFYHD</td>\n",
       "      <td>2</td>\n",
       "      <td>2009-02-09</td>\n",
       "    </tr>\n",
       "  </tbody>\n",
       "</table>\n",
       "</div>"
      ],
      "text/plain": [
       "   OrderId  OrderDate  UserId  TotalCharges CommonId  PupId PickupDate\n",
       "0      262 2009-01-11      47         50.67    TRQKD      2 2009-01-12\n",
       "1      278 2009-01-20      47         26.60    4HH2S      3 2009-01-20\n",
       "2      294 2009-02-03      47         38.71    3TRDC      2 2009-02-04\n",
       "3      301 2009-02-06      47         53.38    NGAZJ      2 2009-02-09\n",
       "4      302 2009-02-06      47         14.28    FFYHD      2 2009-02-09"
      ]
     },
     "execution_count": 19,
     "metadata": {},
     "output_type": "execute_result"
    }
   ],
   "source": [
    "df = pd.read_excel(\"./data/relay-foods.xlsx\", sheet_name = 'Purchase') # Purchase \n",
    "df.head()"
   ]
  },
  {
   "cell_type": "markdown",
   "metadata": {},
   "source": [
    "- 분석 주제\n",
    "- 첫 번째 구매행동 이후 몇 개월까지 구매행위가 지속되는가?\n",
    "- 구매주기는 대략적으로 얼마큼 되는가?\n",
    "- 첫 구매 날짜(브랜드 인입 시기)에 따른 최근 구매 패턴(구매, 비구매) 비교 등\n",
    "\n",
    "\n",
    "- 상기 분석 목표에 따라서 변수를 설정하여야 하는데, 여기에서는 '첫구매'일로 설정하겠습니다. \n",
    "- (가입일이 있다면 보통 가입일에 따라서 설정하기도 합니다.) ex. 가입일 후 첫 구매, 재구매, N번째 구매일 "
   ]
  },
  {
   "cell_type": "markdown",
   "metadata": {},
   "source": [
    "- 구매일(OrderDate)을 YYYY-MM 형식으로 만들어줌"
   ]
  },
  {
   "cell_type": "code",
   "execution_count": 20,
   "metadata": {
    "ExecuteTime": {
     "end_time": "2020-12-11T11:30:57.868644Z",
     "start_time": "2020-12-11T11:30:57.822769Z"
    }
   },
   "outputs": [
    {
     "data": {
      "text/html": [
       "<div>\n",
       "<style scoped>\n",
       "    .dataframe tbody tr th:only-of-type {\n",
       "        vertical-align: middle;\n",
       "    }\n",
       "\n",
       "    .dataframe tbody tr th {\n",
       "        vertical-align: top;\n",
       "    }\n",
       "\n",
       "    .dataframe thead th {\n",
       "        text-align: right;\n",
       "    }\n",
       "</style>\n",
       "<table border=\"1\" class=\"dataframe\">\n",
       "  <thead>\n",
       "    <tr style=\"text-align: right;\">\n",
       "      <th></th>\n",
       "      <th>OrderId</th>\n",
       "      <th>OrderDate</th>\n",
       "      <th>UserId</th>\n",
       "      <th>TotalCharges</th>\n",
       "      <th>CommonId</th>\n",
       "      <th>PupId</th>\n",
       "      <th>PickupDate</th>\n",
       "      <th>OrderPeriod</th>\n",
       "    </tr>\n",
       "  </thead>\n",
       "  <tbody>\n",
       "    <tr>\n",
       "      <th>0</th>\n",
       "      <td>262</td>\n",
       "      <td>2009-01-11</td>\n",
       "      <td>47</td>\n",
       "      <td>50.67</td>\n",
       "      <td>TRQKD</td>\n",
       "      <td>2</td>\n",
       "      <td>2009-01-12</td>\n",
       "      <td>2009-01</td>\n",
       "    </tr>\n",
       "    <tr>\n",
       "      <th>1</th>\n",
       "      <td>278</td>\n",
       "      <td>2009-01-20</td>\n",
       "      <td>47</td>\n",
       "      <td>26.60</td>\n",
       "      <td>4HH2S</td>\n",
       "      <td>3</td>\n",
       "      <td>2009-01-20</td>\n",
       "      <td>2009-01</td>\n",
       "    </tr>\n",
       "    <tr>\n",
       "      <th>2</th>\n",
       "      <td>294</td>\n",
       "      <td>2009-02-03</td>\n",
       "      <td>47</td>\n",
       "      <td>38.71</td>\n",
       "      <td>3TRDC</td>\n",
       "      <td>2</td>\n",
       "      <td>2009-02-04</td>\n",
       "      <td>2009-02</td>\n",
       "    </tr>\n",
       "    <tr>\n",
       "      <th>3</th>\n",
       "      <td>301</td>\n",
       "      <td>2009-02-06</td>\n",
       "      <td>47</td>\n",
       "      <td>53.38</td>\n",
       "      <td>NGAZJ</td>\n",
       "      <td>2</td>\n",
       "      <td>2009-02-09</td>\n",
       "      <td>2009-02</td>\n",
       "    </tr>\n",
       "    <tr>\n",
       "      <th>4</th>\n",
       "      <td>302</td>\n",
       "      <td>2009-02-06</td>\n",
       "      <td>47</td>\n",
       "      <td>14.28</td>\n",
       "      <td>FFYHD</td>\n",
       "      <td>2</td>\n",
       "      <td>2009-02-09</td>\n",
       "      <td>2009-02</td>\n",
       "    </tr>\n",
       "  </tbody>\n",
       "</table>\n",
       "</div>"
      ],
      "text/plain": [
       "   OrderId  OrderDate  UserId  TotalCharges CommonId  PupId PickupDate  \\\n",
       "0      262 2009-01-11      47         50.67    TRQKD      2 2009-01-12   \n",
       "1      278 2009-01-20      47         26.60    4HH2S      3 2009-01-20   \n",
       "2      294 2009-02-03      47         38.71    3TRDC      2 2009-02-04   \n",
       "3      301 2009-02-06      47         53.38    NGAZJ      2 2009-02-09   \n",
       "4      302 2009-02-06      47         14.28    FFYHD      2 2009-02-09   \n",
       "\n",
       "  OrderPeriod  \n",
       "0     2009-01  \n",
       "1     2009-01  \n",
       "2     2009-02  \n",
       "3     2009-02  \n",
       "4     2009-02  "
      ]
     },
     "execution_count": 20,
     "metadata": {},
     "output_type": "execute_result"
    }
   ],
   "source": [
    "df['OrderPeriod'] = df.OrderDate.apply(lambda x: x.strftime('%Y-%m'))\n",
    "df.head()"
   ]
  },
  {
   "cell_type": "markdown",
   "metadata": {
    "ExecuteTime": {
     "end_time": "2020-12-11T11:08:05.710160Z",
     "start_time": "2020-12-11T11:08:05.698182Z"
    }
   },
   "source": [
    "- 각각 사용자의 첫 구매월을 추출하기위해 UserId를 index로 설정한 이후 groupby 함수를 사용하여 (기준 index level = 0) 'CohortGroup' 변수를 추가합니다. "
   ]
  },
  {
   "cell_type": "code",
   "execution_count": 24,
   "metadata": {
    "ExecuteTime": {
     "end_time": "2020-12-11T11:32:29.762861Z",
     "start_time": "2020-12-11T11:32:29.733972Z"
    }
   },
   "outputs": [
    {
     "data": {
      "text/html": [
       "<div>\n",
       "<style scoped>\n",
       "    .dataframe tbody tr th:only-of-type {\n",
       "        vertical-align: middle;\n",
       "    }\n",
       "\n",
       "    .dataframe tbody tr th {\n",
       "        vertical-align: top;\n",
       "    }\n",
       "\n",
       "    .dataframe thead th {\n",
       "        text-align: right;\n",
       "    }\n",
       "</style>\n",
       "<table border=\"1\" class=\"dataframe\">\n",
       "  <thead>\n",
       "    <tr style=\"text-align: right;\">\n",
       "      <th></th>\n",
       "      <th>UserId</th>\n",
       "      <th>OrderId</th>\n",
       "      <th>OrderDate</th>\n",
       "      <th>TotalCharges</th>\n",
       "      <th>CommonId</th>\n",
       "      <th>PupId</th>\n",
       "      <th>PickupDate</th>\n",
       "      <th>OrderPeriod</th>\n",
       "      <th>CohortGroup</th>\n",
       "    </tr>\n",
       "  </thead>\n",
       "  <tbody>\n",
       "    <tr>\n",
       "      <th>0</th>\n",
       "      <td>47</td>\n",
       "      <td>262</td>\n",
       "      <td>2009-01-11</td>\n",
       "      <td>50.67</td>\n",
       "      <td>TRQKD</td>\n",
       "      <td>2</td>\n",
       "      <td>2009-01-12</td>\n",
       "      <td>2009-01</td>\n",
       "      <td>2009-01</td>\n",
       "    </tr>\n",
       "    <tr>\n",
       "      <th>1</th>\n",
       "      <td>47</td>\n",
       "      <td>278</td>\n",
       "      <td>2009-01-20</td>\n",
       "      <td>26.60</td>\n",
       "      <td>4HH2S</td>\n",
       "      <td>3</td>\n",
       "      <td>2009-01-20</td>\n",
       "      <td>2009-01</td>\n",
       "      <td>2009-01</td>\n",
       "    </tr>\n",
       "    <tr>\n",
       "      <th>2</th>\n",
       "      <td>47</td>\n",
       "      <td>294</td>\n",
       "      <td>2009-02-03</td>\n",
       "      <td>38.71</td>\n",
       "      <td>3TRDC</td>\n",
       "      <td>2</td>\n",
       "      <td>2009-02-04</td>\n",
       "      <td>2009-02</td>\n",
       "      <td>2009-01</td>\n",
       "    </tr>\n",
       "    <tr>\n",
       "      <th>3</th>\n",
       "      <td>47</td>\n",
       "      <td>301</td>\n",
       "      <td>2009-02-06</td>\n",
       "      <td>53.38</td>\n",
       "      <td>NGAZJ</td>\n",
       "      <td>2</td>\n",
       "      <td>2009-02-09</td>\n",
       "      <td>2009-02</td>\n",
       "      <td>2009-01</td>\n",
       "    </tr>\n",
       "    <tr>\n",
       "      <th>4</th>\n",
       "      <td>47</td>\n",
       "      <td>302</td>\n",
       "      <td>2009-02-06</td>\n",
       "      <td>14.28</td>\n",
       "      <td>FFYHD</td>\n",
       "      <td>2</td>\n",
       "      <td>2009-02-09</td>\n",
       "      <td>2009-02</td>\n",
       "      <td>2009-01</td>\n",
       "    </tr>\n",
       "  </tbody>\n",
       "</table>\n",
       "</div>"
      ],
      "text/plain": [
       "   UserId  OrderId  OrderDate  TotalCharges CommonId  PupId PickupDate  \\\n",
       "0      47      262 2009-01-11         50.67    TRQKD      2 2009-01-12   \n",
       "1      47      278 2009-01-20         26.60    4HH2S      3 2009-01-20   \n",
       "2      47      294 2009-02-03         38.71    3TRDC      2 2009-02-04   \n",
       "3      47      301 2009-02-06         53.38    NGAZJ      2 2009-02-09   \n",
       "4      47      302 2009-02-06         14.28    FFYHD      2 2009-02-09   \n",
       "\n",
       "  OrderPeriod CohortGroup  \n",
       "0     2009-01     2009-01  \n",
       "1     2009-01     2009-01  \n",
       "2     2009-02     2009-01  \n",
       "3     2009-02     2009-01  \n",
       "4     2009-02     2009-01  "
      ]
     },
     "execution_count": 24,
     "metadata": {},
     "output_type": "execute_result"
    }
   ],
   "source": [
    "df = df.set_index('UserId')\n",
    "\n",
    "# 고객 각각의 첫 구매기간 추출\n",
    "df['CohortGroup'] = df.groupby(level=0)['OrderDate'].min().apply(lambda x: x.strftime('%Y-%m'))\n",
    "df = df.reset_index()\n",
    "df.head()"
   ]
  },
  {
   "cell_type": "markdown",
   "metadata": {},
   "source": [
    "- 첫구매일(년월)와 구매 날짜(년월)를 기준으로 하여 고객 수, 주문 수, 총매출 합계를 계산합니다. "
   ]
  },
  {
   "cell_type": "code",
   "execution_count": 27,
   "metadata": {
    "ExecuteTime": {
     "end_time": "2020-12-11T11:35:18.965561Z",
     "start_time": "2020-12-11T11:35:18.923681Z"
    }
   },
   "outputs": [
    {
     "data": {
      "text/html": [
       "<div>\n",
       "<style scoped>\n",
       "    .dataframe tbody tr th:only-of-type {\n",
       "        vertical-align: middle;\n",
       "    }\n",
       "\n",
       "    .dataframe tbody tr th {\n",
       "        vertical-align: top;\n",
       "    }\n",
       "\n",
       "    .dataframe thead th {\n",
       "        text-align: right;\n",
       "    }\n",
       "</style>\n",
       "<table border=\"1\" class=\"dataframe\">\n",
       "  <thead>\n",
       "    <tr style=\"text-align: right;\">\n",
       "      <th></th>\n",
       "      <th></th>\n",
       "      <th>TotalUsers</th>\n",
       "      <th>TotalOrders</th>\n",
       "      <th>TotalCharges</th>\n",
       "    </tr>\n",
       "    <tr>\n",
       "      <th>CohortGroup</th>\n",
       "      <th>OrderPeriod</th>\n",
       "      <th></th>\n",
       "      <th></th>\n",
       "      <th></th>\n",
       "    </tr>\n",
       "  </thead>\n",
       "  <tbody>\n",
       "    <tr>\n",
       "      <th rowspan=\"5\" valign=\"top\">2009-01</th>\n",
       "      <th>2009-01</th>\n",
       "      <td>22</td>\n",
       "      <td>30</td>\n",
       "      <td>1850.255</td>\n",
       "    </tr>\n",
       "    <tr>\n",
       "      <th>2009-02</th>\n",
       "      <td>8</td>\n",
       "      <td>25</td>\n",
       "      <td>1351.065</td>\n",
       "    </tr>\n",
       "    <tr>\n",
       "      <th>2009-03</th>\n",
       "      <td>10</td>\n",
       "      <td>26</td>\n",
       "      <td>1357.360</td>\n",
       "    </tr>\n",
       "    <tr>\n",
       "      <th>2009-04</th>\n",
       "      <td>9</td>\n",
       "      <td>28</td>\n",
       "      <td>1604.500</td>\n",
       "    </tr>\n",
       "    <tr>\n",
       "      <th>2009-05</th>\n",
       "      <td>10</td>\n",
       "      <td>26</td>\n",
       "      <td>1575.625</td>\n",
       "    </tr>\n",
       "  </tbody>\n",
       "</table>\n",
       "</div>"
      ],
      "text/plain": [
       "                         TotalUsers  TotalOrders  TotalCharges\n",
       "CohortGroup OrderPeriod                                       \n",
       "2009-01     2009-01              22           30      1850.255\n",
       "            2009-02               8           25      1351.065\n",
       "            2009-03              10           26      1357.360\n",
       "            2009-04               9           28      1604.500\n",
       "            2009-05              10           26      1575.625"
      ]
     },
     "execution_count": 27,
     "metadata": {},
     "output_type": "execute_result"
    }
   ],
   "source": [
    "# CohortGroup & OrderPeriod\n",
    "grouped = df.groupby(['CohortGroup', 'OrderPeriod'])\n",
    "\n",
    "cohorts = grouped.agg({'UserId': pd.Series.nunique, # DISTINCT COUNT \n",
    "                       'OrderId': pd.Series.nunique,\n",
    "                       'TotalCharges': np.sum}) # SUM \n",
    "                       \n",
    "cohorts.rename(columns={'UserId': 'TotalUsers',\n",
    "                        'OrderId': 'TotalOrders'}, inplace=True)\n",
    "cohorts.head()"
   ]
  },
  {
   "cell_type": "markdown",
   "metadata": {},
   "source": [
    "- 위의 결과를 해석해보자면 2009년 1월에 첫구매한 고객 수가 22명, 주문 횟수가 30번, 총매출 합계가 1850원입니다. \n",
    "- 이후 2월에는 22명 중 8명만이 구매행동을 보였으며, 3월에는 10명, 4월에는 9명만이 구매행동을 보였습니다. 이는 첫 번째 1월에 구매행동을 보인 22명에 대한 구매 유무만을 측정하여 표로 나타낸 것으로 22명의 회원이 매달 연속적인 구매를 했다고 볼 수는 없습니다. "
   ]
  },
  {
   "cell_type": "markdown",
   "metadata": {},
   "source": [
    "- <년월 - 년월>의 패턴을 <년월 - 소요기간(월)>로 변환하여 보기위해 다음과 같은 함수를 만들어줍니다. "
   ]
  },
  {
   "cell_type": "code",
   "execution_count": 28,
   "metadata": {
    "ExecuteTime": {
     "end_time": "2020-12-11T11:38:56.318539Z",
     "start_time": "2020-12-11T11:38:56.312563Z"
    }
   },
   "outputs": [],
   "source": [
    "# Label the CohortPeriod for each CohortGroup\n",
    "def cohort_period(df):\n",
    "    df['CohortPeriod'] = np.arange(len(df)) + 1\n",
    "    return df"
   ]
  },
  {
   "cell_type": "code",
   "execution_count": 34,
   "metadata": {
    "ExecuteTime": {
     "end_time": "2020-12-11T11:44:27.635048Z",
     "start_time": "2020-12-11T11:44:27.605094Z"
    }
   },
   "outputs": [
    {
     "data": {
      "text/html": [
       "<div>\n",
       "<style scoped>\n",
       "    .dataframe tbody tr th:only-of-type {\n",
       "        vertical-align: middle;\n",
       "    }\n",
       "\n",
       "    .dataframe tbody tr th {\n",
       "        vertical-align: top;\n",
       "    }\n",
       "\n",
       "    .dataframe thead th {\n",
       "        text-align: right;\n",
       "    }\n",
       "</style>\n",
       "<table border=\"1\" class=\"dataframe\">\n",
       "  <thead>\n",
       "    <tr style=\"text-align: right;\">\n",
       "      <th></th>\n",
       "      <th></th>\n",
       "      <th>TotalUsers</th>\n",
       "      <th>TotalOrders</th>\n",
       "      <th>TotalCharges</th>\n",
       "      <th>CohortPeriod</th>\n",
       "    </tr>\n",
       "    <tr>\n",
       "      <th>CohortGroup</th>\n",
       "      <th>OrderPeriod</th>\n",
       "      <th></th>\n",
       "      <th></th>\n",
       "      <th></th>\n",
       "      <th></th>\n",
       "    </tr>\n",
       "  </thead>\n",
       "  <tbody>\n",
       "    <tr>\n",
       "      <th rowspan=\"15\" valign=\"top\">2009-01</th>\n",
       "      <th>2009-01</th>\n",
       "      <td>22</td>\n",
       "      <td>30</td>\n",
       "      <td>1850.2550</td>\n",
       "      <td>1</td>\n",
       "    </tr>\n",
       "    <tr>\n",
       "      <th>2009-02</th>\n",
       "      <td>8</td>\n",
       "      <td>25</td>\n",
       "      <td>1351.0650</td>\n",
       "      <td>2</td>\n",
       "    </tr>\n",
       "    <tr>\n",
       "      <th>2009-03</th>\n",
       "      <td>10</td>\n",
       "      <td>26</td>\n",
       "      <td>1357.3600</td>\n",
       "      <td>3</td>\n",
       "    </tr>\n",
       "    <tr>\n",
       "      <th>2009-04</th>\n",
       "      <td>9</td>\n",
       "      <td>28</td>\n",
       "      <td>1604.5000</td>\n",
       "      <td>4</td>\n",
       "    </tr>\n",
       "    <tr>\n",
       "      <th>2009-05</th>\n",
       "      <td>10</td>\n",
       "      <td>26</td>\n",
       "      <td>1575.6250</td>\n",
       "      <td>5</td>\n",
       "    </tr>\n",
       "    <tr>\n",
       "      <th>2009-06</th>\n",
       "      <td>8</td>\n",
       "      <td>26</td>\n",
       "      <td>1384.8400</td>\n",
       "      <td>6</td>\n",
       "    </tr>\n",
       "    <tr>\n",
       "      <th>2009-07</th>\n",
       "      <td>8</td>\n",
       "      <td>24</td>\n",
       "      <td>1750.8400</td>\n",
       "      <td>7</td>\n",
       "    </tr>\n",
       "    <tr>\n",
       "      <th>2009-08</th>\n",
       "      <td>7</td>\n",
       "      <td>21</td>\n",
       "      <td>1426.5714</td>\n",
       "      <td>8</td>\n",
       "    </tr>\n",
       "    <tr>\n",
       "      <th>2009-09</th>\n",
       "      <td>7</td>\n",
       "      <td>24</td>\n",
       "      <td>1964.2755</td>\n",
       "      <td>9</td>\n",
       "    </tr>\n",
       "    <tr>\n",
       "      <th>2009-10</th>\n",
       "      <td>7</td>\n",
       "      <td>13</td>\n",
       "      <td>860.3292</td>\n",
       "      <td>10</td>\n",
       "    </tr>\n",
       "    <tr>\n",
       "      <th>2009-11</th>\n",
       "      <td>7</td>\n",
       "      <td>21</td>\n",
       "      <td>1821.8153</td>\n",
       "      <td>11</td>\n",
       "    </tr>\n",
       "    <tr>\n",
       "      <th>2009-12</th>\n",
       "      <td>8</td>\n",
       "      <td>22</td>\n",
       "      <td>2152.1165</td>\n",
       "      <td>12</td>\n",
       "    </tr>\n",
       "    <tr>\n",
       "      <th>2010-01</th>\n",
       "      <td>11</td>\n",
       "      <td>25</td>\n",
       "      <td>2084.2236</td>\n",
       "      <td>13</td>\n",
       "    </tr>\n",
       "    <tr>\n",
       "      <th>2010-02</th>\n",
       "      <td>7</td>\n",
       "      <td>19</td>\n",
       "      <td>2068.7771</td>\n",
       "      <td>14</td>\n",
       "    </tr>\n",
       "    <tr>\n",
       "      <th>2010-03</th>\n",
       "      <td>6</td>\n",
       "      <td>12</td>\n",
       "      <td>1504.3325</td>\n",
       "      <td>15</td>\n",
       "    </tr>\n",
       "    <tr>\n",
       "      <th rowspan=\"5\" valign=\"top\">2009-02</th>\n",
       "      <th>2009-02</th>\n",
       "      <td>15</td>\n",
       "      <td>15</td>\n",
       "      <td>666.3100</td>\n",
       "      <td>1</td>\n",
       "    </tr>\n",
       "    <tr>\n",
       "      <th>2009-03</th>\n",
       "      <td>3</td>\n",
       "      <td>8</td>\n",
       "      <td>501.6100</td>\n",
       "      <td>2</td>\n",
       "    </tr>\n",
       "    <tr>\n",
       "      <th>2009-04</th>\n",
       "      <td>5</td>\n",
       "      <td>10</td>\n",
       "      <td>968.7800</td>\n",
       "      <td>3</td>\n",
       "    </tr>\n",
       "    <tr>\n",
       "      <th>2009-05</th>\n",
       "      <td>1</td>\n",
       "      <td>2</td>\n",
       "      <td>53.3600</td>\n",
       "      <td>4</td>\n",
       "    </tr>\n",
       "    <tr>\n",
       "      <th>2009-06</th>\n",
       "      <td>4</td>\n",
       "      <td>9</td>\n",
       "      <td>758.5200</td>\n",
       "      <td>5</td>\n",
       "    </tr>\n",
       "  </tbody>\n",
       "</table>\n",
       "</div>"
      ],
      "text/plain": [
       "                         TotalUsers  TotalOrders  TotalCharges  CohortPeriod\n",
       "CohortGroup OrderPeriod                                                     \n",
       "2009-01     2009-01              22           30     1850.2550             1\n",
       "            2009-02               8           25     1351.0650             2\n",
       "            2009-03              10           26     1357.3600             3\n",
       "            2009-04               9           28     1604.5000             4\n",
       "            2009-05              10           26     1575.6250             5\n",
       "            2009-06               8           26     1384.8400             6\n",
       "            2009-07               8           24     1750.8400             7\n",
       "            2009-08               7           21     1426.5714             8\n",
       "            2009-09               7           24     1964.2755             9\n",
       "            2009-10               7           13      860.3292            10\n",
       "            2009-11               7           21     1821.8153            11\n",
       "            2009-12               8           22     2152.1165            12\n",
       "            2010-01              11           25     2084.2236            13\n",
       "            2010-02               7           19     2068.7771            14\n",
       "            2010-03               6           12     1504.3325            15\n",
       "2009-02     2009-02              15           15      666.3100             1\n",
       "            2009-03               3            8      501.6100             2\n",
       "            2009-04               5           10      968.7800             3\n",
       "            2009-05               1            2       53.3600             4\n",
       "            2009-06               4            9      758.5200             5"
      ]
     },
     "execution_count": 34,
     "metadata": {},
     "output_type": "execute_result"
    }
   ],
   "source": [
    "cohorts = cohorts.groupby(level=0).apply(cohort_period)\n",
    "cohorts.head(20)"
   ]
  },
  {
   "cell_type": "markdown",
   "metadata": {},
   "source": [
    "- Retention 결과를 (%) 비율로 나타내기 위해 각각 첫 구매일(년월)에 따른 회원수를 구합니다. \n",
    "- 2009-01 에 첫 구매한 회원수 22명 , 2월에 첫 구매한 회원수 15명"
   ]
  },
  {
   "cell_type": "code",
   "execution_count": 37,
   "metadata": {
    "ExecuteTime": {
     "end_time": "2020-12-11T11:50:59.409203Z",
     "start_time": "2020-12-11T11:50:59.394220Z"
    }
   },
   "outputs": [
    {
     "data": {
      "text/plain": [
       "CohortGroup\n",
       "2009-01    22\n",
       "2009-02    15\n",
       "2009-03    13\n",
       "2009-04    39\n",
       "2009-05    50\n",
       "Name: TotalUsers, dtype: int64"
      ]
     },
     "execution_count": 37,
     "metadata": {},
     "output_type": "execute_result"
    }
   ],
   "source": [
    "cohorts.reset_index(inplace=True)\n",
    "cohorts.set_index(['CohortGroup', 'CohortPeriod'], inplace=True)\n",
    "\n",
    "cohort_group_size = cohorts['TotalUsers'].groupby(level=0).first()\n",
    "cohort_group_size.head()"
   ]
  },
  {
   "cell_type": "markdown",
   "metadata": {},
   "source": [
    "- 생성한 결과를 divide 함수를 활용해서 각 변수를 나누어줍니다. "
   ]
  },
  {
   "cell_type": "code",
   "execution_count": 44,
   "metadata": {
    "ExecuteTime": {
     "end_time": "2020-12-11T11:54:13.989567Z",
     "start_time": "2020-12-11T11:54:13.964633Z"
    }
   },
   "outputs": [
    {
     "data": {
      "text/html": [
       "<div>\n",
       "<style scoped>\n",
       "    .dataframe tbody tr th:only-of-type {\n",
       "        vertical-align: middle;\n",
       "    }\n",
       "\n",
       "    .dataframe tbody tr th {\n",
       "        vertical-align: top;\n",
       "    }\n",
       "\n",
       "    .dataframe thead th {\n",
       "        text-align: right;\n",
       "    }\n",
       "</style>\n",
       "<table border=\"1\" class=\"dataframe\">\n",
       "  <thead>\n",
       "    <tr style=\"text-align: right;\">\n",
       "      <th>CohortGroup</th>\n",
       "      <th>2009-01</th>\n",
       "      <th>2009-02</th>\n",
       "      <th>2009-03</th>\n",
       "      <th>2009-04</th>\n",
       "      <th>2009-05</th>\n",
       "      <th>2009-06</th>\n",
       "      <th>2009-07</th>\n",
       "      <th>2009-08</th>\n",
       "      <th>2009-09</th>\n",
       "      <th>2009-10</th>\n",
       "      <th>2009-11</th>\n",
       "      <th>2009-12</th>\n",
       "      <th>2010-01</th>\n",
       "      <th>2010-02</th>\n",
       "      <th>2010-03</th>\n",
       "    </tr>\n",
       "    <tr>\n",
       "      <th>CohortPeriod</th>\n",
       "      <th></th>\n",
       "      <th></th>\n",
       "      <th></th>\n",
       "      <th></th>\n",
       "      <th></th>\n",
       "      <th></th>\n",
       "      <th></th>\n",
       "      <th></th>\n",
       "      <th></th>\n",
       "      <th></th>\n",
       "      <th></th>\n",
       "      <th></th>\n",
       "      <th></th>\n",
       "      <th></th>\n",
       "      <th></th>\n",
       "    </tr>\n",
       "  </thead>\n",
       "  <tbody>\n",
       "    <tr>\n",
       "      <th>1</th>\n",
       "      <td>22.0</td>\n",
       "      <td>15.0</td>\n",
       "      <td>13.0</td>\n",
       "      <td>39.0</td>\n",
       "      <td>50.0</td>\n",
       "      <td>32.0</td>\n",
       "      <td>50.0</td>\n",
       "      <td>31.0</td>\n",
       "      <td>37.0</td>\n",
       "      <td>54.0</td>\n",
       "      <td>130.0</td>\n",
       "      <td>65.0</td>\n",
       "      <td>95.0</td>\n",
       "      <td>100.0</td>\n",
       "      <td>24.0</td>\n",
       "    </tr>\n",
       "    <tr>\n",
       "      <th>2</th>\n",
       "      <td>8.0</td>\n",
       "      <td>3.0</td>\n",
       "      <td>4.0</td>\n",
       "      <td>13.0</td>\n",
       "      <td>13.0</td>\n",
       "      <td>15.0</td>\n",
       "      <td>23.0</td>\n",
       "      <td>11.0</td>\n",
       "      <td>15.0</td>\n",
       "      <td>17.0</td>\n",
       "      <td>32.0</td>\n",
       "      <td>17.0</td>\n",
       "      <td>50.0</td>\n",
       "      <td>19.0</td>\n",
       "      <td>NaN</td>\n",
       "    </tr>\n",
       "    <tr>\n",
       "      <th>3</th>\n",
       "      <td>10.0</td>\n",
       "      <td>5.0</td>\n",
       "      <td>5.0</td>\n",
       "      <td>10.0</td>\n",
       "      <td>12.0</td>\n",
       "      <td>9.0</td>\n",
       "      <td>13.0</td>\n",
       "      <td>9.0</td>\n",
       "      <td>14.0</td>\n",
       "      <td>12.0</td>\n",
       "      <td>26.0</td>\n",
       "      <td>18.0</td>\n",
       "      <td>26.0</td>\n",
       "      <td>NaN</td>\n",
       "      <td>NaN</td>\n",
       "    </tr>\n",
       "    <tr>\n",
       "      <th>4</th>\n",
       "      <td>9.0</td>\n",
       "      <td>1.0</td>\n",
       "      <td>4.0</td>\n",
       "      <td>13.0</td>\n",
       "      <td>5.0</td>\n",
       "      <td>6.0</td>\n",
       "      <td>10.0</td>\n",
       "      <td>7.0</td>\n",
       "      <td>8.0</td>\n",
       "      <td>13.0</td>\n",
       "      <td>29.0</td>\n",
       "      <td>7.0</td>\n",
       "      <td>NaN</td>\n",
       "      <td>NaN</td>\n",
       "      <td>NaN</td>\n",
       "    </tr>\n",
       "    <tr>\n",
       "      <th>5</th>\n",
       "      <td>10.0</td>\n",
       "      <td>4.0</td>\n",
       "      <td>1.0</td>\n",
       "      <td>6.0</td>\n",
       "      <td>4.0</td>\n",
       "      <td>7.0</td>\n",
       "      <td>11.0</td>\n",
       "      <td>6.0</td>\n",
       "      <td>13.0</td>\n",
       "      <td>13.0</td>\n",
       "      <td>13.0</td>\n",
       "      <td>NaN</td>\n",
       "      <td>NaN</td>\n",
       "      <td>NaN</td>\n",
       "      <td>NaN</td>\n",
       "    </tr>\n",
       "  </tbody>\n",
       "</table>\n",
       "</div>"
      ],
      "text/plain": [
       "CohortGroup   2009-01  2009-02  2009-03  2009-04  2009-05  2009-06  2009-07  \\\n",
       "CohortPeriod                                                                  \n",
       "1                22.0     15.0     13.0     39.0     50.0     32.0     50.0   \n",
       "2                 8.0      3.0      4.0     13.0     13.0     15.0     23.0   \n",
       "3                10.0      5.0      5.0     10.0     12.0      9.0     13.0   \n",
       "4                 9.0      1.0      4.0     13.0      5.0      6.0     10.0   \n",
       "5                10.0      4.0      1.0      6.0      4.0      7.0     11.0   \n",
       "\n",
       "CohortGroup   2009-08  2009-09  2009-10  2009-11  2009-12  2010-01  2010-02  \\\n",
       "CohortPeriod                                                                  \n",
       "1                31.0     37.0     54.0    130.0     65.0     95.0    100.0   \n",
       "2                11.0     15.0     17.0     32.0     17.0     50.0     19.0   \n",
       "3                 9.0     14.0     12.0     26.0     18.0     26.0      NaN   \n",
       "4                 7.0      8.0     13.0     29.0      7.0      NaN      NaN   \n",
       "5                 6.0     13.0     13.0     13.0      NaN      NaN      NaN   \n",
       "\n",
       "CohortGroup   2010-03  \n",
       "CohortPeriod           \n",
       "1                24.0  \n",
       "2                 NaN  \n",
       "3                 NaN  \n",
       "4                 NaN  \n",
       "5                 NaN  "
      ]
     },
     "execution_count": 44,
     "metadata": {},
     "output_type": "execute_result"
    }
   ],
   "source": [
    "cohorts['TotalUsers'].unstack(0).head()"
   ]
  },
  {
   "cell_type": "code",
   "execution_count": 38,
   "metadata": {
    "ExecuteTime": {
     "end_time": "2020-12-11T11:52:36.672120Z",
     "start_time": "2020-12-11T11:52:36.642207Z"
    }
   },
   "outputs": [
    {
     "data": {
      "text/html": [
       "<div>\n",
       "<style scoped>\n",
       "    .dataframe tbody tr th:only-of-type {\n",
       "        vertical-align: middle;\n",
       "    }\n",
       "\n",
       "    .dataframe tbody tr th {\n",
       "        vertical-align: top;\n",
       "    }\n",
       "\n",
       "    .dataframe thead th {\n",
       "        text-align: right;\n",
       "    }\n",
       "</style>\n",
       "<table border=\"1\" class=\"dataframe\">\n",
       "  <thead>\n",
       "    <tr style=\"text-align: right;\">\n",
       "      <th>CohortGroup</th>\n",
       "      <th>2009-01</th>\n",
       "      <th>2009-02</th>\n",
       "      <th>2009-03</th>\n",
       "      <th>2009-04</th>\n",
       "      <th>2009-05</th>\n",
       "      <th>2009-06</th>\n",
       "      <th>2009-07</th>\n",
       "      <th>2009-08</th>\n",
       "      <th>2009-09</th>\n",
       "      <th>2009-10</th>\n",
       "      <th>2009-11</th>\n",
       "      <th>2009-12</th>\n",
       "      <th>2010-01</th>\n",
       "      <th>2010-02</th>\n",
       "      <th>2010-03</th>\n",
       "    </tr>\n",
       "    <tr>\n",
       "      <th>CohortPeriod</th>\n",
       "      <th></th>\n",
       "      <th></th>\n",
       "      <th></th>\n",
       "      <th></th>\n",
       "      <th></th>\n",
       "      <th></th>\n",
       "      <th></th>\n",
       "      <th></th>\n",
       "      <th></th>\n",
       "      <th></th>\n",
       "      <th></th>\n",
       "      <th></th>\n",
       "      <th></th>\n",
       "      <th></th>\n",
       "      <th></th>\n",
       "    </tr>\n",
       "  </thead>\n",
       "  <tbody>\n",
       "    <tr>\n",
       "      <th>1</th>\n",
       "      <td>1.000000</td>\n",
       "      <td>1.000000</td>\n",
       "      <td>1.000000</td>\n",
       "      <td>1.000000</td>\n",
       "      <td>1.00</td>\n",
       "      <td>1.00000</td>\n",
       "      <td>1.00</td>\n",
       "      <td>1.000000</td>\n",
       "      <td>1.000000</td>\n",
       "      <td>1.000000</td>\n",
       "      <td>1.000000</td>\n",
       "      <td>1.000000</td>\n",
       "      <td>1.000000</td>\n",
       "      <td>1.00</td>\n",
       "      <td>1.0</td>\n",
       "    </tr>\n",
       "    <tr>\n",
       "      <th>2</th>\n",
       "      <td>0.363636</td>\n",
       "      <td>0.200000</td>\n",
       "      <td>0.307692</td>\n",
       "      <td>0.333333</td>\n",
       "      <td>0.26</td>\n",
       "      <td>0.46875</td>\n",
       "      <td>0.46</td>\n",
       "      <td>0.354839</td>\n",
       "      <td>0.405405</td>\n",
       "      <td>0.314815</td>\n",
       "      <td>0.246154</td>\n",
       "      <td>0.261538</td>\n",
       "      <td>0.526316</td>\n",
       "      <td>0.19</td>\n",
       "      <td>NaN</td>\n",
       "    </tr>\n",
       "    <tr>\n",
       "      <th>3</th>\n",
       "      <td>0.454545</td>\n",
       "      <td>0.333333</td>\n",
       "      <td>0.384615</td>\n",
       "      <td>0.256410</td>\n",
       "      <td>0.24</td>\n",
       "      <td>0.28125</td>\n",
       "      <td>0.26</td>\n",
       "      <td>0.290323</td>\n",
       "      <td>0.378378</td>\n",
       "      <td>0.222222</td>\n",
       "      <td>0.200000</td>\n",
       "      <td>0.276923</td>\n",
       "      <td>0.273684</td>\n",
       "      <td>NaN</td>\n",
       "      <td>NaN</td>\n",
       "    </tr>\n",
       "    <tr>\n",
       "      <th>4</th>\n",
       "      <td>0.409091</td>\n",
       "      <td>0.066667</td>\n",
       "      <td>0.307692</td>\n",
       "      <td>0.333333</td>\n",
       "      <td>0.10</td>\n",
       "      <td>0.18750</td>\n",
       "      <td>0.20</td>\n",
       "      <td>0.225806</td>\n",
       "      <td>0.216216</td>\n",
       "      <td>0.240741</td>\n",
       "      <td>0.223077</td>\n",
       "      <td>0.107692</td>\n",
       "      <td>NaN</td>\n",
       "      <td>NaN</td>\n",
       "      <td>NaN</td>\n",
       "    </tr>\n",
       "    <tr>\n",
       "      <th>5</th>\n",
       "      <td>0.454545</td>\n",
       "      <td>0.266667</td>\n",
       "      <td>0.076923</td>\n",
       "      <td>0.153846</td>\n",
       "      <td>0.08</td>\n",
       "      <td>0.21875</td>\n",
       "      <td>0.22</td>\n",
       "      <td>0.193548</td>\n",
       "      <td>0.351351</td>\n",
       "      <td>0.240741</td>\n",
       "      <td>0.100000</td>\n",
       "      <td>NaN</td>\n",
       "      <td>NaN</td>\n",
       "      <td>NaN</td>\n",
       "      <td>NaN</td>\n",
       "    </tr>\n",
       "    <tr>\n",
       "      <th>6</th>\n",
       "      <td>0.363636</td>\n",
       "      <td>0.266667</td>\n",
       "      <td>0.153846</td>\n",
       "      <td>0.179487</td>\n",
       "      <td>0.12</td>\n",
       "      <td>0.15625</td>\n",
       "      <td>0.20</td>\n",
       "      <td>0.258065</td>\n",
       "      <td>0.243243</td>\n",
       "      <td>0.129630</td>\n",
       "      <td>NaN</td>\n",
       "      <td>NaN</td>\n",
       "      <td>NaN</td>\n",
       "      <td>NaN</td>\n",
       "      <td>NaN</td>\n",
       "    </tr>\n",
       "    <tr>\n",
       "      <th>7</th>\n",
       "      <td>0.363636</td>\n",
       "      <td>0.266667</td>\n",
       "      <td>0.153846</td>\n",
       "      <td>0.102564</td>\n",
       "      <td>0.06</td>\n",
       "      <td>0.09375</td>\n",
       "      <td>0.22</td>\n",
       "      <td>0.129032</td>\n",
       "      <td>0.216216</td>\n",
       "      <td>NaN</td>\n",
       "      <td>NaN</td>\n",
       "      <td>NaN</td>\n",
       "      <td>NaN</td>\n",
       "      <td>NaN</td>\n",
       "      <td>NaN</td>\n",
       "    </tr>\n",
       "    <tr>\n",
       "      <th>8</th>\n",
       "      <td>0.318182</td>\n",
       "      <td>0.333333</td>\n",
       "      <td>0.230769</td>\n",
       "      <td>0.153846</td>\n",
       "      <td>0.10</td>\n",
       "      <td>0.09375</td>\n",
       "      <td>0.14</td>\n",
       "      <td>0.129032</td>\n",
       "      <td>NaN</td>\n",
       "      <td>NaN</td>\n",
       "      <td>NaN</td>\n",
       "      <td>NaN</td>\n",
       "      <td>NaN</td>\n",
       "      <td>NaN</td>\n",
       "      <td>NaN</td>\n",
       "    </tr>\n",
       "    <tr>\n",
       "      <th>9</th>\n",
       "      <td>0.318182</td>\n",
       "      <td>0.333333</td>\n",
       "      <td>0.153846</td>\n",
       "      <td>0.051282</td>\n",
       "      <td>0.10</td>\n",
       "      <td>0.31250</td>\n",
       "      <td>0.14</td>\n",
       "      <td>NaN</td>\n",
       "      <td>NaN</td>\n",
       "      <td>NaN</td>\n",
       "      <td>NaN</td>\n",
       "      <td>NaN</td>\n",
       "      <td>NaN</td>\n",
       "      <td>NaN</td>\n",
       "      <td>NaN</td>\n",
       "    </tr>\n",
       "    <tr>\n",
       "      <th>10</th>\n",
       "      <td>0.318182</td>\n",
       "      <td>0.266667</td>\n",
       "      <td>0.076923</td>\n",
       "      <td>0.102564</td>\n",
       "      <td>0.08</td>\n",
       "      <td>0.09375</td>\n",
       "      <td>NaN</td>\n",
       "      <td>NaN</td>\n",
       "      <td>NaN</td>\n",
       "      <td>NaN</td>\n",
       "      <td>NaN</td>\n",
       "      <td>NaN</td>\n",
       "      <td>NaN</td>\n",
       "      <td>NaN</td>\n",
       "      <td>NaN</td>\n",
       "    </tr>\n",
       "  </tbody>\n",
       "</table>\n",
       "</div>"
      ],
      "text/plain": [
       "CohortGroup    2009-01   2009-02   2009-03   2009-04  2009-05  2009-06  \\\n",
       "CohortPeriod                                                             \n",
       "1             1.000000  1.000000  1.000000  1.000000     1.00  1.00000   \n",
       "2             0.363636  0.200000  0.307692  0.333333     0.26  0.46875   \n",
       "3             0.454545  0.333333  0.384615  0.256410     0.24  0.28125   \n",
       "4             0.409091  0.066667  0.307692  0.333333     0.10  0.18750   \n",
       "5             0.454545  0.266667  0.076923  0.153846     0.08  0.21875   \n",
       "6             0.363636  0.266667  0.153846  0.179487     0.12  0.15625   \n",
       "7             0.363636  0.266667  0.153846  0.102564     0.06  0.09375   \n",
       "8             0.318182  0.333333  0.230769  0.153846     0.10  0.09375   \n",
       "9             0.318182  0.333333  0.153846  0.051282     0.10  0.31250   \n",
       "10            0.318182  0.266667  0.076923  0.102564     0.08  0.09375   \n",
       "\n",
       "CohortGroup   2009-07   2009-08   2009-09   2009-10   2009-11   2009-12  \\\n",
       "CohortPeriod                                                              \n",
       "1                1.00  1.000000  1.000000  1.000000  1.000000  1.000000   \n",
       "2                0.46  0.354839  0.405405  0.314815  0.246154  0.261538   \n",
       "3                0.26  0.290323  0.378378  0.222222  0.200000  0.276923   \n",
       "4                0.20  0.225806  0.216216  0.240741  0.223077  0.107692   \n",
       "5                0.22  0.193548  0.351351  0.240741  0.100000       NaN   \n",
       "6                0.20  0.258065  0.243243  0.129630       NaN       NaN   \n",
       "7                0.22  0.129032  0.216216       NaN       NaN       NaN   \n",
       "8                0.14  0.129032       NaN       NaN       NaN       NaN   \n",
       "9                0.14       NaN       NaN       NaN       NaN       NaN   \n",
       "10                NaN       NaN       NaN       NaN       NaN       NaN   \n",
       "\n",
       "CohortGroup    2010-01  2010-02  2010-03  \n",
       "CohortPeriod                              \n",
       "1             1.000000     1.00      1.0  \n",
       "2             0.526316     0.19      NaN  \n",
       "3             0.273684      NaN      NaN  \n",
       "4                  NaN      NaN      NaN  \n",
       "5                  NaN      NaN      NaN  \n",
       "6                  NaN      NaN      NaN  \n",
       "7                  NaN      NaN      NaN  \n",
       "8                  NaN      NaN      NaN  \n",
       "9                  NaN      NaN      NaN  \n",
       "10                 NaN      NaN      NaN  "
      ]
     },
     "execution_count": 38,
     "metadata": {},
     "output_type": "execute_result"
    }
   ],
   "source": [
    "user_retention = cohorts['TotalUsers'].unstack(0).divide(cohort_group_size, axis=1)\n",
    "user_retention.head(10)"
   ]
  },
  {
   "cell_type": "markdown",
   "metadata": {},
   "source": [
    "- 결과를 그래프로도 나타내 봅니다. "
   ]
  },
  {
   "cell_type": "code",
   "execution_count": 45,
   "metadata": {
    "ExecuteTime": {
     "end_time": "2020-12-11T11:54:37.320853Z",
     "start_time": "2020-12-11T11:54:36.945856Z"
    }
   },
   "outputs": [
    {
     "data": {
      "image/png": "[encoded data removed]",
      "text/plain": [
       "<Figure size 720x360 with 1 Axes>"
      ]
     },
     "metadata": {
      "needs_background": "light"
     },
     "output_type": "display_data"
    }
   ],
   "source": [
    "user_retention[['2009-06', '2009-07', '2009-08']].plot(figsize=(10,5))\n",
    "plt.title('Cohorts: User Retention')\n",
    "plt.xticks(np.arange(1, 12.1, 1))\n",
    "plt.xlim(1, 12)\n",
    "plt.ylabel('% of Cohort Purchasing');"
   ]
  },
  {
   "cell_type": "markdown",
   "metadata": {},
   "source": [
    "- 이제 가장 일반적인 Cohort 분석의 그래프 형태로 나타내 봅니다. "
   ]
  },
  {
   "cell_type": "code",
   "execution_count": 46,
   "metadata": {
    "ExecuteTime": {
     "end_time": "2020-12-11T11:55:18.226984Z",
     "start_time": "2020-12-11T11:55:16.717822Z"
    }
   },
   "outputs": [
    {
     "data": {
      "image/png": "[encoded data removed]",
      "text/plain": [
       "<Figure size 864x576 with 2 Axes>"
      ]
     },
     "metadata": {},
     "output_type": "display_data"
    }
   ],
   "source": [
    "import seaborn as sns\n",
    "sns.set(style='white')\n",
    "\n",
    "plt.figure(figsize=(12, 8))\n",
    "plt.title('Cohorts: User Retention')\n",
    "sns.heatmap(user_retention.T, mask=user_retention.T.isnull(), annot=True, fmt='.0%');"
   ]
  },
  {
   "cell_type": "markdown",
   "metadata": {},
   "source": [
    "- 그래프는 각각 브랜드에 유입된 시기를 비교하여 첫구매 이후 고객들의 구매패턴을 나타낸 것입니다. \n",
    "- 2009년 07월에 유입된 고객들의 패턴을 기준으로 살펴보면 첫 구매 이후 한 달 뒤 46%가 구매행동을 보였고 8개월이 지난 후에는 14%만이 구매행동을 보였습니다. 여기서 자세히 살펴보면 최근 기준으로 구매행동을 보인 고객들의 유입 날짜(년월)를 확인할 수 있습니다. "
   ]
  },
  {
   "cell_type": "markdown",
   "metadata": {},
   "source": [
    "- 다음과 같이 최근 발생한 매출의 회원들의 첫 구매일 분포도 확인할 수 있습니다. "
   ]
  },
  {
   "cell_type": "code",
   "execution_count": null,
   "metadata": {
    "ExecuteTime": {
     "end_time": "2020-12-11T11:56:44.794824Z",
     "start_time": "2020-12-11T11:56:43.585752Z"
    }
   },
   "outputs": [],
   "source": [
    "import seaborn as sns\n",
    "sns.set(style='white')\n",
    "\n",
    "plt.figure(figsize=(24, 8))\n",
    "plt.title('Cohorts: User Retention & Amount of this month')\n",
    "sns.heatmap(cohorts['TotalCharges'].unstack(0).T.fillna(0).astype('int'), \n",
    "            mask=user_retention.T.isnull(), annot=True, fmt= '0');"
   ]
  },
  {
   "cell_type": "markdown",
   "metadata": {
    "ExecuteTime": {
     "end_time": "2020-12-11T11:59:25.180336Z",
     "start_time": "2020-12-11T11:59:25.162380Z"
    }
   },
   "source": [
    "![nn](P03_cohorts.png)"
   ]
  },
  {
   "cell_type": "markdown",
   "metadata": {},
   "source": [
    "# 추천 시스템"
   ]
  },
  {
   "cell_type": "markdown",
   "metadata": {},
   "source": [
    "## 라이브러리 로딩"
   ]
  },
  {
   "cell_type": "code",
   "execution_count": 12,
   "metadata": {
    "ExecuteTime": {
     "end_time": "2020-12-12T02:19:50.931641Z",
     "start_time": "2020-12-12T02:19:50.926664Z"
    }
   },
   "outputs": [],
   "source": [
    "import pandas as pd\n",
    "from surprise import SVD\n",
    "from surprise import Dataset, Reader\n",
    "from surprise import accuracy\n",
    "from surprise.model_selection import train_test_split"
   ]
  },
  {
   "cell_type": "markdown",
   "metadata": {},
   "source": [
    "## 데이터 로딩"
   ]
  },
  {
   "cell_type": "code",
   "execution_count": 16,
   "metadata": {
    "ExecuteTime": {
     "end_time": "2020-12-12T02:22:21.713504Z",
     "start_time": "2020-12-12T02:22:21.656531Z"
    }
   },
   "outputs": [],
   "source": [
    "ratings = pd.read_csv('./data/ratings.csv')"
   ]
  },
  {
   "cell_type": "code",
   "execution_count": 17,
   "metadata": {
    "ExecuteTime": {
     "end_time": "2020-12-12T02:22:24.492448Z",
     "start_time": "2020-12-12T02:22:24.482491Z"
    }
   },
   "outputs": [
    {
     "data": {
      "text/html": [
       "<div>\n",
       "<style scoped>\n",
       "    .dataframe tbody tr th:only-of-type {\n",
       "        vertical-align: middle;\n",
       "    }\n",
       "\n",
       "    .dataframe tbody tr th {\n",
       "        vertical-align: top;\n",
       "    }\n",
       "\n",
       "    .dataframe thead th {\n",
       "        text-align: right;\n",
       "    }\n",
       "</style>\n",
       "<table border=\"1\" class=\"dataframe\">\n",
       "  <thead>\n",
       "    <tr style=\"text-align: right;\">\n",
       "      <th></th>\n",
       "      <th>userId</th>\n",
       "      <th>movieId</th>\n",
       "      <th>rating</th>\n",
       "      <th>timestamp</th>\n",
       "    </tr>\n",
       "  </thead>\n",
       "  <tbody>\n",
       "    <tr>\n",
       "      <th>0</th>\n",
       "      <td>1</td>\n",
       "      <td>1</td>\n",
       "      <td>4.0</td>\n",
       "      <td>964982703</td>\n",
       "    </tr>\n",
       "    <tr>\n",
       "      <th>1</th>\n",
       "      <td>1</td>\n",
       "      <td>3</td>\n",
       "      <td>4.0</td>\n",
       "      <td>964981247</td>\n",
       "    </tr>\n",
       "    <tr>\n",
       "      <th>2</th>\n",
       "      <td>1</td>\n",
       "      <td>6</td>\n",
       "      <td>4.0</td>\n",
       "      <td>964982224</td>\n",
       "    </tr>\n",
       "  </tbody>\n",
       "</table>\n",
       "</div>"
      ],
      "text/plain": [
       "   userId  movieId  rating  timestamp\n",
       "0       1        1     4.0  964982703\n",
       "1       1        3     4.0  964981247\n",
       "2       1        6     4.0  964982224"
      ]
     },
     "execution_count": 17,
     "metadata": {},
     "output_type": "execute_result"
    }
   ],
   "source": [
    "ratings.head(3)"
   ]
  },
  {
   "cell_type": "code",
   "execution_count": 18,
   "metadata": {
    "ExecuteTime": {
     "end_time": "2020-12-12T02:22:26.080404Z",
     "start_time": "2020-12-12T02:22:25.730545Z"
    }
   },
   "outputs": [],
   "source": [
    "reader = Reader(line_format='user item rating timestamp', sep=',', rating_scale = (0.5, 5))\n",
    "# line_format = 파일의 컬럼 구성, sep 구분자, rating_scale 0.5점 단위로 최대 5점까지\n",
    "# surprise는 데이터를 사용자, 아이템, 평점 세 개 컬럼만 받기 때문에 네번째부터는 자동 삭제됨\n",
    "\n",
    "data = Dataset.load_from_df(ratings[['userId', 'movieId', 'rating']], reader=reader)\n",
    "trainset, testset = train_test_split(data, test_size=.25, random_state=0)"
   ]
  },
  {
   "cell_type": "markdown",
   "metadata": {},
   "source": [
    "## 알고리즘 객체 생성\n",
    "- SVD로 잠재 요인 협업 필터링 : 사용자가 아직 평점을 매기지 않은 아이템에 대한 평점을 예측하여 이를 추천에 반영하는 방식"
   ]
  },
  {
   "cell_type": "code",
   "execution_count": 19,
   "metadata": {
    "ExecuteTime": {
     "end_time": "2020-12-12T02:23:21.191132Z",
     "start_time": "2020-12-12T02:23:17.567356Z"
    }
   },
   "outputs": [
    {
     "data": {
      "text/plain": [
       "<surprise.prediction_algorithms.matrix_factorization.SVD at 0x1ca29c973c8>"
      ]
     },
     "execution_count": 19,
     "metadata": {},
     "output_type": "execute_result"
    }
   ],
   "source": [
    "algo=SVD(n_factors = 50, random_state=0) \n",
    "# n_factor : 잠재요인 크기 K값(default 100, 커질수록 정확도 높아질 수 있으나 과적합 문제발생)\n",
    "# n_epochs : SGD 수행 시 반복 횟수, 디폴트 20\n",
    "# biased : 베이스라인 사용자 편향 적용 여부, 디폴트 True\n",
    "# 알고리즘 \n",
    "# SVD : 행렬 분해를 통해 잠재 요인 협업 필터링을 위한 알고리즘. 사용자 베이스라인 편향성을 감안한 평점 예측에 Resularizationd을 적용한 것\n",
    "# KNNBasic:최근접 이웃 협업 필터링을 위한 알고리즘\n",
    "# BaselinOnly : 사용자 Bias와 아이템 Bias를 감안한 SGD 베이스라인 알고리즘\n",
    "algo.fit(trainset)"
   ]
  },
  {
   "cell_type": "markdown",
   "metadata": {},
   "source": [
    "## 교차검증과 하이퍼 파라미터 튜닝"
   ]
  },
  {
   "cell_type": "code",
   "execution_count": 25,
   "metadata": {
    "ExecuteTime": {
     "end_time": "2020-12-12T02:31:45.176515Z",
     "start_time": "2020-12-12T02:31:23.712866Z"
    }
   },
   "outputs": [
    {
     "name": "stdout",
     "output_type": "stream",
     "text": [
      "Evaluating RMSE, MAE of algorithm SVD on 5 split(s).\n",
      "\n",
      "                  Fold 1  Fold 2  Fold 3  Fold 4  Fold 5  Mean    Std     \n",
      "RMSE (testset)    0.8678  0.8685  0.8694  0.8718  0.8690  0.8693  0.0014  \n",
      "MAE (testset)     0.6676  0.6662  0.6691  0.6707  0.6665  0.6680  0.0017  \n",
      "Fit time          3.89    3.90    3.87    3.76    3.86    3.86    0.05    \n",
      "Test time         0.16    0.17    0.25    0.16    0.16    0.18    0.04    \n"
     ]
    },
    {
     "data": {
      "text/plain": [
       "{'test_rmse': array([0.86782698, 0.86848068, 0.86939148, 0.87178912, 0.86899463]),\n",
       " 'test_mae': array([0.66764028, 0.66619018, 0.66912079, 0.67070139, 0.66654514]),\n",
       " 'fit_time': (3.893256902694702,\n",
       "  3.9029791355133057,\n",
       "  3.8692140579223633,\n",
       "  3.7583870887756348,\n",
       "  3.8624868392944336),\n",
       " 'test_time': (0.1568756103515625,\n",
       "  0.1663968563079834,\n",
       "  0.2485804557800293,\n",
       "  0.15853142738342285,\n",
       "  0.1551053524017334)}"
      ]
     },
     "execution_count": 25,
     "metadata": {},
     "output_type": "execute_result"
    }
   ],
   "source": [
    "from surprise.model_selection import cross_validate\n",
    "\n",
    "cross_validate(algo, data, measures=['RMSE', 'MAE'], cv=5, verbose=True)"
   ]
  },
  {
   "cell_type": "code",
   "execution_count": 29,
   "metadata": {
    "ExecuteTime": {
     "end_time": "2020-12-12T02:49:43.451459Z",
     "start_time": "2020-12-12T02:44:22.880880Z"
    }
   },
   "outputs": [
    {
     "name": "stdout",
     "output_type": "stream",
     "text": [
      "최고 RMSE :  0.8768221180687531\n",
      "{'rmse': {'n_epochs': 20, 'n_factors': 50}, 'mae': {'n_epochs': 20, 'n_factors': 50}}\n"
     ]
    }
   ],
   "source": [
    "from surprise.model_selection import GridSearchCV\n",
    "\n",
    "param_grid = {'n_epochs' : [20, 40, 60],\n",
    "             'n_factors' : [50, 100, 200]}\n",
    "gs = GridSearchCV(SVD, param_grid, measures=['rmse','mae'], cv=3)\n",
    "gs.fit(data)\n",
    "\n",
    "print('최고 RMSE : ',gs.best_score['rmse'])\n",
    "print(gs.best_params)"
   ]
  },
  {
   "cell_type": "code",
   "execution_count": null,
   "metadata": {},
   "outputs": [],
   "source": [
    "algo=SVD(n_epochs = 20 , n_factors = 50, random_state=0) \n",
    "algo.fit(trainset)"
   ]
  },
  {
   "cell_type": "markdown",
   "metadata": {},
   "source": [
    "## 추천 수행\n",
    "- Surprise에서 추천을 예측하는 메서드는 test()와 predict() 두 가지\n",
    "- test()는 사용자-아이템 평점 데이터 세트 전체에 대해서 추천을 예측\n",
    "- predict()는 개별 사용자와 영화에 대한 추천 평점을 반환"
   ]
  },
  {
   "cell_type": "markdown",
   "metadata": {},
   "source": [
    "### test()"
   ]
  },
  {
   "cell_type": "code",
   "execution_count": 20,
   "metadata": {
    "ExecuteTime": {
     "end_time": "2020-12-12T02:23:22.802109Z",
     "start_time": "2020-12-12T02:23:22.564124Z"
    }
   },
   "outputs": [
    {
     "name": "stdout",
     "output_type": "stream",
     "text": [
      "prediction type : <class 'list'> size: 25209\n",
      "prediction 결과의 최초 5개 추출\n"
     ]
    },
    {
     "data": {
      "text/plain": [
       "[Prediction(uid=63, iid=2000, r_ui=3.0, est=3.5016267817280697, details={'was_impossible': False}),\n",
       " Prediction(uid=31, iid=788, r_ui=2.0, est=3.2840758900255937, details={'was_impossible': False}),\n",
       " Prediction(uid=159, iid=6373, r_ui=4.0, est=2.804939396068158, details={'was_impossible': False}),\n",
       " Prediction(uid=105, iid=81564, r_ui=3.0, est=3.9326180027723914, details={'was_impossible': False}),\n",
       " Prediction(uid=394, iid=480, r_ui=3.0, est=3.3135580105479114, details={'was_impossible': False})]"
      ]
     },
     "execution_count": 20,
     "metadata": {},
     "output_type": "execute_result"
    }
   ],
   "source": [
    "predictions = algo.test(testset)\n",
    "print('prediction type :', type(predictions), 'size:', len(predictions))\n",
    "print('prediction 결과의 최초 5개 추출')\n",
    "predictions[:5]"
   ]
  },
  {
   "cell_type": "markdown",
   "metadata": {},
   "source": [
    "- 위 결과에서 첫 3개의 Prediction 객체에서 uid, iid, est 속성을 추출해봄"
   ]
  },
  {
   "cell_type": "code",
   "execution_count": 22,
   "metadata": {
    "ExecuteTime": {
     "end_time": "2020-12-12T02:23:56.840122Z",
     "start_time": "2020-12-12T02:23:56.833141Z"
    }
   },
   "outputs": [
    {
     "data": {
      "text/plain": [
       "[(63, 2000, 3.0, 3.5016267817280697),\n",
       " (31, 788, 2.0, 3.2840758900255937),\n",
       " (159, 6373, 4.0, 2.804939396068158)]"
      ]
     },
     "execution_count": 22,
     "metadata": {},
     "output_type": "execute_result"
    }
   ],
   "source": [
    "[(pred.uid, pred.iid, pred.r_ui, pred.est) for pred in predictions[:3]]"
   ]
  },
  {
   "cell_type": "markdown",
   "metadata": {},
   "source": [
    "### predict()"
   ]
  },
  {
   "cell_type": "code",
   "execution_count": 23,
   "metadata": {
    "ExecuteTime": {
     "end_time": "2020-12-12T02:24:05.027927Z",
     "start_time": "2020-12-12T02:24:05.021998Z"
    },
    "scrolled": true
   },
   "outputs": [
    {
     "name": "stdout",
     "output_type": "stream",
     "text": [
      "user: 196        item: 302        r_ui = None   est = 3.50   {'was_impossible': False}\n"
     ]
    }
   ],
   "source": [
    "uid = str(196)\n",
    "iid = str(302)\n",
    "pred = algo.predict(uid, iid)\n",
    "print(pred)"
   ]
  },
  {
   "cell_type": "markdown",
   "metadata": {},
   "source": [
    "## 성능 평가\n",
    "- Surprise의 accuracy 모듈은 RMSE, MSE 등의 방법으로 정보 제공"
   ]
  },
  {
   "cell_type": "code",
   "execution_count": 24,
   "metadata": {
    "ExecuteTime": {
     "end_time": "2020-12-12T02:24:09.105012Z",
     "start_time": "2020-12-12T02:24:09.014964Z"
    }
   },
   "outputs": [
    {
     "name": "stdout",
     "output_type": "stream",
     "text": [
      "RMSE: 0.8682\n",
      "MSE: 0.7538\n",
      "MAE:  0.6672\n"
     ]
    },
    {
     "data": {
      "text/plain": [
       "0.6672308519742739"
      ]
     },
     "execution_count": 24,
     "metadata": {},
     "output_type": "execute_result"
    }
   ],
   "source": [
    "accuracy.rmse(predictions)\n",
    "accuracy.mse(predictions)\n",
    "accuracy.mae(predictions)"
   ]
  },
  {
   "cell_type": "markdown",
   "metadata": {},
   "source": [
    "## Train, Test를 나누지 않고 데이터 전체를 학습에 사용 후 사용자가 보지 않은 영화 추천"
   ]
  },
  {
   "cell_type": "markdown",
   "metadata": {},
   "source": [
    "### 학습 데이터 만들기 : 그냥 사용 못함"
   ]
  },
  {
   "cell_type": "code",
   "execution_count": 35,
   "metadata": {
    "ExecuteTime": {
     "end_time": "2020-12-12T02:57:04.499417Z",
     "start_time": "2020-12-12T02:57:03.605092Z"
    }
   },
   "outputs": [],
   "source": [
    "import pandas as pd\n",
    "from surprise import SVD\n",
    "from surprise import Dataset, Reader\n",
    "from surprise import accuracy\n",
    "from surprise.model_selection import train_test_split\n",
    "from surprise.dataset import DatasetAutoFolds\n",
    "\n",
    "# 일단 전처리 필요\n",
    "ratings = pd.read_csv('./data/ratings.csv') # 원본 csv 불러와서\n",
    "ratings.to_csv('./data/ratings_noh.csv', index=False, header=False) # 인덱스와 헤더 제거한 파일로 다시 저장\n",
    "# csv 파일을 바로 불러오는 형식\n",
    "reader = Reader(line_format='user item rating timestamp', sep=',', rating_scale=(0.5, 5))\n",
    "data_folds = DatasetAutoFolds(ratings_file='./data/ratings_noh.csv', reader=reader)\n",
    "trainset = data_folds.build_full_trainset() # 전체 데이터를 학습 데이터로 생성함"
   ]
  },
  {
   "cell_type": "markdown",
   "metadata": {},
   "source": [
    "### 학습 수행"
   ]
  },
  {
   "cell_type": "code",
   "execution_count": 36,
   "metadata": {
    "ExecuteTime": {
     "end_time": "2020-12-12T02:58:24.552670Z",
     "start_time": "2020-12-12T02:58:20.232248Z"
    }
   },
   "outputs": [
    {
     "data": {
      "text/plain": [
       "<surprise.prediction_algorithms.matrix_factorization.SVD at 0x1ca3180fa08>"
      ]
     },
     "execution_count": 36,
     "metadata": {},
     "output_type": "execute_result"
    }
   ],
   "source": [
    "algo = SVD(n_epochs = 20, n_factors=50, random_state=0)\n",
    "algo.fit(trainset)"
   ]
  },
  {
   "cell_type": "markdown",
   "metadata": {},
   "source": [
    "### 특정 사용자가 보지 않은 영화 하나를 찾고, 그 영화의 평점을 예측"
   ]
  },
  {
   "cell_type": "code",
   "execution_count": 39,
   "metadata": {
    "ExecuteTime": {
     "end_time": "2020-12-12T02:59:33.110176Z",
     "start_time": "2020-12-12T02:59:33.084459Z"
    }
   },
   "outputs": [
    {
     "data": {
      "text/html": [
       "<div>\n",
       "<style scoped>\n",
       "    .dataframe tbody tr th:only-of-type {\n",
       "        vertical-align: middle;\n",
       "    }\n",
       "\n",
       "    .dataframe tbody tr th {\n",
       "        vertical-align: top;\n",
       "    }\n",
       "\n",
       "    .dataframe thead th {\n",
       "        text-align: right;\n",
       "    }\n",
       "</style>\n",
       "<table border=\"1\" class=\"dataframe\">\n",
       "  <thead>\n",
       "    <tr style=\"text-align: right;\">\n",
       "      <th></th>\n",
       "      <th>movieId</th>\n",
       "      <th>title</th>\n",
       "      <th>genres</th>\n",
       "    </tr>\n",
       "  </thead>\n",
       "  <tbody>\n",
       "    <tr>\n",
       "      <th>0</th>\n",
       "      <td>1</td>\n",
       "      <td>Toy Story (1995)</td>\n",
       "      <td>Adventure|Animation|Children|Comedy|Fantasy</td>\n",
       "    </tr>\n",
       "    <tr>\n",
       "      <th>1</th>\n",
       "      <td>2</td>\n",
       "      <td>Jumanji (1995)</td>\n",
       "      <td>Adventure|Children|Fantasy</td>\n",
       "    </tr>\n",
       "    <tr>\n",
       "      <th>2</th>\n",
       "      <td>3</td>\n",
       "      <td>Grumpier Old Men (1995)</td>\n",
       "      <td>Comedy|Romance</td>\n",
       "    </tr>\n",
       "  </tbody>\n",
       "</table>\n",
       "</div>"
      ],
      "text/plain": [
       "   movieId                    title  \\\n",
       "0        1         Toy Story (1995)   \n",
       "1        2           Jumanji (1995)   \n",
       "2        3  Grumpier Old Men (1995)   \n",
       "\n",
       "                                        genres  \n",
       "0  Adventure|Animation|Children|Comedy|Fantasy  \n",
       "1                   Adventure|Children|Fantasy  \n",
       "2                               Comedy|Romance  "
      ]
     },
     "execution_count": 39,
     "metadata": {},
     "output_type": "execute_result"
    }
   ],
   "source": [
    "# 영화 정보 확인\n",
    "movies = pd.read_csv('./data/movies.csv')\n",
    "movies.head(3)"
   ]
  },
  {
   "cell_type": "code",
   "execution_count": 45,
   "metadata": {
    "ExecuteTime": {
     "end_time": "2020-12-12T03:03:02.498117Z",
     "start_time": "2020-12-12T03:03:02.490191Z"
    },
    "scrolled": false
   },
   "outputs": [
    {
     "name": "stdout",
     "output_type": "stream",
     "text": [
      "안 봤음\n"
     ]
    }
   ],
   "source": [
    "# 사용자 ID 9가 movieID 42를 봤는지 확인\n",
    "movieIds = ratings[ratings['userId']==9]['movieId']\n",
    "if movieIds[movieIds==42].count() == 0:\n",
    "    print('안 봤음')"
   ]
  },
  {
   "cell_type": "code",
   "execution_count": 44,
   "metadata": {
    "ExecuteTime": {
     "end_time": "2020-12-12T03:02:29.190963Z",
     "start_time": "2020-12-12T03:02:29.183406Z"
    }
   },
   "outputs": [
    {
     "name": "stdout",
     "output_type": "stream",
     "text": [
      "    movieId                   title              genres\n",
      "38       42  Dead Presidents (1995)  Action|Crime|Drama\n"
     ]
    }
   ],
   "source": [
    "# 42번 영화가 뭔지 조회해보기\n",
    "print(movies[movies['movieId']==42]) "
   ]
  },
  {
   "cell_type": "code",
   "execution_count": 46,
   "metadata": {
    "ExecuteTime": {
     "end_time": "2020-12-12T03:04:17.395955Z",
     "start_time": "2020-12-12T03:04:17.389971Z"
    }
   },
   "outputs": [
    {
     "name": "stdout",
     "output_type": "stream",
     "text": [
      "user: 9          item: 42         r_ui = None   est = 3.13   {'was_impossible': False}\n"
     ]
    }
   ],
   "source": [
    "# user 9의 movie 42에 대한 평점 예측해보기\n",
    "## 반드시 문자열이어야함\n",
    "\n",
    "uid=str(9)\n",
    "iid=str(42)\n",
    "pred = algo.predict(uid, iid, verbose=True)"
   ]
  },
  {
   "cell_type": "markdown",
   "metadata": {},
   "source": [
    "- 추천 예측 평점은 est=3.13이다."
   ]
  },
  {
   "cell_type": "markdown",
   "metadata": {},
   "source": [
    "### 특정 사용자가 보지 않은 영화 전체를 찾고, 그 영화의 평점을 예측"
   ]
  },
  {
   "cell_type": "code",
   "execution_count": 47,
   "metadata": {
    "ExecuteTime": {
     "end_time": "2020-12-12T03:11:55.858327Z",
     "start_time": "2020-12-12T03:11:55.841490Z"
    }
   },
   "outputs": [
    {
     "name": "stdout",
     "output_type": "stream",
     "text": [
      "평점 매긴 영화: 46 추천 대상 영화: 9696 전체 영화 수: 9742\n"
     ]
    }
   ],
   "source": [
    "# 안 본 영화가 뭔지부터 찾기\n",
    "def get_unseen_surprise(ratings, movies, userId): # ratings df, movies df, 사용자ID\n",
    "    seen_movies = ratings[ratings['userId']==userId]['movieId'].tolist() # 사용자(userId)가 본 영화 추출\n",
    "    total_movies = movies['movieId'].tolist() # 모든 영화 리스트 생성\n",
    "    unseen_movies = [movie for movie in total_movies if movie not in seen_movies] # 전체 각 영화별로 사용자가 본 영화에 없으면 추가\n",
    "    print('평점 매긴 영화:', len(seen_movies), '추천 대상 영화:',len(unseen_movies),\n",
    "         '전체 영화 수:', len(total_movies))\n",
    "    return unseen_movies\n",
    "unseen_movies = get_unseen_surprise(ratings, movies, 9)"
   ]
  },
  {
   "cell_type": "code",
   "execution_count": 52,
   "metadata": {
    "ExecuteTime": {
     "end_time": "2020-12-12T03:12:21.033211Z",
     "start_time": "2020-12-12T03:12:21.028466Z"
    }
   },
   "outputs": [
    {
     "data": {
      "text/plain": [
       "[1, 2, 3, 4, 5, 6, 7, 8, 9, 10]"
      ]
     },
     "execution_count": 52,
     "metadata": {},
     "output_type": "execute_result"
    }
   ],
   "source": [
    "unseen_movies[:10] # 안 본 영화 확인(10개만 확인해봄)"
   ]
  },
  {
   "cell_type": "code",
   "execution_count": 58,
   "metadata": {
    "ExecuteTime": {
     "end_time": "2020-12-12T03:24:24.009896Z",
     "start_time": "2020-12-12T03:24:23.709070Z"
    }
   },
   "outputs": [
    {
     "name": "stdout",
     "output_type": "stream",
     "text": [
      "평점 매긴 영화: 46 추천 대상 영화: 9696 전체 영화 수: 9742\n",
      "Top 10 추천 영화 리스트\n",
      "Usual Suspects, The (1995) : 4.306302135700814\n",
      "Star Wars: Episode IV - A New Hope (1977) : 4.281663842987387\n",
      "Pulp Fiction (1994) : 4.278152632122759\n",
      "Silence of the Lambs, The (1991) : 4.226073566460876\n",
      "Godfather, The (1972) : 4.1918097904381995\n",
      "Streetcar Named Desire, A (1951) : 4.154746591122658\n",
      "Star Wars: Episode V - The Empire Strikes Back (1980) : 4.122016128534504\n",
      "Star Wars: Episode VI - Return of the Jedi (1983) : 4.108009609093436\n",
      "Goodfellas (1990) : 4.083464936588478\n",
      "Glory (1989) : 4.07887165526957\n"
     ]
    }
   ],
   "source": [
    "# 추천 함수\n",
    "def recomm_movie_by_surprise(algo, userId, unseen_movies, top_n=10):\n",
    "    predictions = [algo.predict(str(userId), str(movieId)) for movieId in unseen_movies] # 안 본 영화에 대해 predict\n",
    "    def sortkey_est(pred):\n",
    "        return pred.est\n",
    "    predictions.sort(key=sortkey_est, reverse=True) # est를 기준으로 정렬\n",
    "    top_predictions = predictions[:top_n] # predictions 중 top_n을 추출\n",
    "    \n",
    "    # top 추천 영화 id, 예상 평점, 제목 추출\n",
    "    top_movie_ids = [int(pred.iid) for pred in top_predictions]\n",
    "    top_movie_rating = [pred.est for pred in top_predictions]\n",
    "    top_movie_titles = movies[movies['movieId'].isin(top_movie_ids)]['title']\n",
    "    \n",
    "    top_movie_preds = [(id, title, rating) for id, title, rating in \\\n",
    "                       zip(top_movie_ids, top_movie_titles, top_movie_rating)]\n",
    "    return top_movie_preds\n",
    "\n",
    "unseen_movies = get_unseen_surprise(ratings, movies, 9)\n",
    "top_movie_preds = recomm_movie_by_surprise(algo, 9, unseen_movies, top_n=10)\n",
    "\n",
    "print('Top 10 추천 영화 리스트')\n",
    "for top_movie in top_movie_preds:\n",
    "    print(top_movie[1], ':', top_movie[2])\n",
    "    "
   ]
  },
  {
   "cell_type": "code",
   "execution_count": null,
   "metadata": {},
   "outputs": [],
   "source": []
  },
  {
   "cell_type": "markdown",
   "metadata": {},
   "source": [
    "# 07_기계학습_1"
   ]
  },
  {
   "cell_type": "markdown",
   "metadata": {},
   "source": [
    "## 다중 분류 모델 성능평가"
   ]
  },
  {
   "cell_type": "code",
   "execution_count": 4,
   "metadata": {
    "ExecuteTime": {
     "end_time": "2020-12-01T10:16:04.197582Z",
     "start_time": "2020-12-01T10:16:00.197818Z"
    }
   },
   "outputs": [
    {
     "name": "stdout",
     "output_type": "stream",
     "text": [
      "[[2 0 1]\n",
      " [0 1 1]\n",
      " [0 1 2]]\n",
      "              precision    recall  f1-score   support\n",
      "\n",
      "     class 0       1.00      0.67      0.80         3\n",
      "     class 1       0.50      0.50      0.50         2\n",
      "     class 2       0.50      0.67      0.57         3\n",
      "\n",
      "    accuracy                           0.62         8\n",
      "   macro avg       0.67      0.61      0.62         8\n",
      "weighted avg       0.69      0.62      0.64         8\n",
      "\n"
     ]
    }
   ],
   "source": [
    "# 다중 분류 모델 성능 평가\n",
    "\n",
    "from sklearn.metrics import classification_report\n",
    "from sklearn.metrics import confusion_matrix\n",
    "y_true = [0, 0, 0, 1, 1, 2, 2, 2]\n",
    "y_pred = [0, 0, 2, 1, 2, 2, 2, 1]\n",
    "print(confusion_matrix( y_true, y_pred))\n",
    "target_names = ['class 0', 'class 1', 'class 2']\n",
    "print(classification_report(y_true, y_pred, target_names=target_names))"
   ]
  },
  {
   "cell_type": "markdown",
   "metadata": {},
   "source": [
    "- 해석 : confusion matrics는 세로축이 실제값(y_true), 가로축이 예측값(y_pred)\n",
    "- 해석 : class 0의 precision은 1.00, recall 0.67, f1-score 0.80임\n",
    "- 해석 : 분류결과의 accuracy는 0.62, 전체의 단순평균 precision은 0.67, recall 0.61, f1-score 0.62임\n",
    "\n",
    "- macro avg: 단순평균\n",
    "- weighted avg: 각 클래스에 속하는 표본의 갯수로 가중평균"
   ]
  },
  {
   "cell_type": "markdown",
   "metadata": {
    "ExecuteTime": {
     "end_time": "2020-11-30T13:42:35.293274Z",
     "start_time": "2020-11-30T13:42:35.289230Z"
    }
   },
   "source": [
    "## ROC 및 AUC (다중분류는 이어서 나옴)"
   ]
  },
  {
   "cell_type": "markdown",
   "metadata": {},
   "source": [
    "- ROC Curve\n",
    "- x축 : 허위 양성 비율(FPR) = FP/(FP+TN)\n",
    "- y축 : 참 양성 비율(TPR) = TP/(FP+FN)"
   ]
  },
  {
   "cell_type": "code",
   "execution_count": null,
   "metadata": {},
   "outputs": [],
   "source": [
    "model = LogisticRegression().fit(X, y)   # X, y를 fit하여 모델링\n",
    "y_hat = model.predict(X)   # 예측값 생성(y_hat) \n",
    "\n",
    "from sklearn.metrics import roc_curve\n",
    "\n",
    "# 방법 1\n",
    "fpr, tpr, thresholds = roc_curve(y, model.decision_function(X))\n",
    "\n",
    "# 방법 2 : decision_function 메서드를 제공하지 않는 모형은 predict_proba 명령을 써서 확률을 입력해도 된다.\n",
    "fpr, tpr, thresholds = roc_curve(y, model.predict_proba(X)[:, 1])\n",
    "\n",
    "# AUC : AUC가 1에 가까운 값이고 좋은 모형이다.\n",
    "from sklearn.metrics import auc\n",
    "auc(fpr1, tpr1)\n",
    "\n",
    "# 시각화 : 모델 두 개일 때\n",
    "fpr1, tpr1, thresholds1 = roc_curve(y, model1.decision_function(X)) # 모델 1\n",
    "fpr2, tpr2, thresholds1 = roc_curve(y, model2.decision_function(X)) # 모델 2\n",
    "\n",
    "plt.plot(fpr, tpr, 'o-', label=\"Logistic Regression\") # 모델 1\n",
    "plt.plot([0, 1], [0, 1], 'k--', label=\"random guess\") # 모델 2\n",
    "plt.plot([fallout], [recall], 'ro', ms=10)\n",
    "plt.xlabel('위양성률(Fall-Out)')\n",
    "plt.ylabel('재현률(Recall)')\n",
    "plt.title('Receiver operating characteristic example')\n",
    "plt.show()"
   ]
  },
  {
   "cell_type": "markdown",
   "metadata": {},
   "source": [
    "- MultiClass Classification\n",
    "- 다중 분류 문제에서는 One-versus-Rest(OvR) 문제로 가정하고 (사람, 개, 고양이를 분류하는 문제일 경우에는 사람 vs 나머지, 개 vs 나머지, 고양이 vs 나머지) 각 클래스마다 하나씩 ROC커브를 그립니다."
   ]
  },
  {
   "cell_type": "code",
   "execution_count": 29,
   "metadata": {
    "ExecuteTime": {
     "end_time": "2020-11-30T14:17:02.943671Z",
     "start_time": "2020-11-30T14:17:02.751638Z"
    }
   },
   "outputs": [
    {
     "data": {
      "image/png": "[encoded data removed]",
      "text/plain": [
       "<Figure size 432x288 with 1 Axes>"
      ]
     },
     "metadata": {
      "needs_background": "light"
     },
     "output_type": "display_data"
    },
    {
     "name": "stdout",
     "output_type": "stream",
     "text": [
      "ROC_AUC :  [1.0, 0.9818, 0.989]\n"
     ]
    }
   ],
   "source": [
    "from sklearn.metrics import roc_curve\n",
    "from sklearn.metrics import auc\n",
    "import matplotlib.pyplot as plt\n",
    "from sklearn.naive_bayes import GaussianNB\n",
    "from sklearn.datasets import load_iris\n",
    "from sklearn.preprocessing import label_binarize\n",
    "\n",
    "iris = load_iris()\n",
    "X = iris.data   # 독립변수가 있고\n",
    "\n",
    "\n",
    "# 이 아래부터 활용하면 됨\n",
    "y = label_binarize(iris.target, classes = [0, 1, 2])   # 종속변수 y를 더미화를 시킴\n",
    "\n",
    "fpr = [None] * 3   # class 개수만큼(여기선 3개)\n",
    "tpr = [None] * 3\n",
    "threshold = [None] * 3\n",
    "roc_auc = []\n",
    "\n",
    "for i in range(3):   # range 클래스 개수만큼\n",
    "    model = GaussianNB().fit(X, y[:, i])   # 모델링을 함\n",
    "    fpr[i], tpr[i], threshold[i] = roc_curve(y[:, i], model.predict_proba(X)[:, 1])\n",
    "    plt.plot(fpr[i], tpr[i])\n",
    "    \n",
    "    roc_auc.append(auc(fpr[i], tpr[i]))\n",
    "\n",
    "plt.xlabel('위양성률(Fall-Out)')\n",
    "plt.ylabel('재현률(Recall)')\n",
    "plt.show()\n",
    "print('ROC_AUC : ',roc_auc)"
   ]
  },
  {
   "cell_type": "markdown",
   "metadata": {},
   "source": [
    "## StandardScaler"
   ]
  },
  {
   "cell_type": "code",
   "execution_count": null,
   "metadata": {},
   "outputs": [],
   "source": [
    "from sklearn.preprocessing import StandardScaler\n",
    "\n",
    "# 스케일링 4단계\n",
    "scaler = StandardScaler()\n",
    "scaler.fit(X_train)\n",
    "X_train_scale = scaler.transform(X_train)\n",
    "X_test_scale = scaler.transform(X_test)"
   ]
  },
  {
   "cell_type": "code",
   "execution_count": null,
   "metadata": {},
   "outputs": [],
   "source": [
    "# 스케일링 전으로 되돌리기\n",
    "scaler.inverse_transform(X_test_scale)"
   ]
  },
  {
   "cell_type": "markdown",
   "metadata": {},
   "source": [
    "# 단계적 선택법 (ADP 실기 책 p.198 참고 -  R 코드임)\n"
   ]
  },
  {
   "cell_type": "code",
   "execution_count": null,
   "metadata": {},
   "outputs": [],
   "source": [
    "data = read.csv(file = 'ToyotaCorolla.csv', header=T)\n",
    "data\n",
    "\n",
    "lm_a <- lm(Price ~ ., data = data)\n",
    "summary(lm_a)\n",
    "\n",
    "result <- step(lm_a, direction=\"both\")\n",
    "result\n"
   ]
  }
 ],
 "metadata": {
  "kernelspec": {
   "display_name": "Python 3",
   "language": "python",
   "name": "python3"
  },
  "language_info": {
   "codemirror_mode": {
    "name": "ipython",
    "version": 3
   },
   "file_extension": ".py",
   "mimetype": "text/x-python",
   "name": "python",
   "nbconvert_exporter": "python",
   "pygments_lexer": "ipython3",
   "version": "3.7.4"
  },
  "toc": {
   "base_numbering": 1,
   "nav_menu": {},
   "number_sections": true,
   "sideBar": true,
   "skip_h1_title": false,
   "title_cell": "Table of Contents",
   "title_sidebar": "Contents",
   "toc_cell": false,
   "toc_position": {
    "height": "calc(100% - 180px)",
    "left": "10px",
    "top": "150px",
    "width": "384px"
   },
   "toc_section_display": true,
   "toc_window_display": true
  },
  "varInspector": {
   "cols": {
    "lenName": 16,
    "lenType": 16,
    "lenVar": 40
   },
   "kernels_config": {
    "python": {
     "delete_cmd_postfix": "",
     "delete_cmd_prefix": "del ",
     "library": "var_list.py",
     "varRefreshCmd": "print(var_dic_list())"
    },
    "r": {
     "delete_cmd_postfix": ") ",
     "delete_cmd_prefix": "rm(",
     "library": "var_list.r",
     "varRefreshCmd": "cat(var_dic_list()) "
    }
   },
   "types_to_exclude": [
    "module",
    "function",
    "builtin_function_or_method",
    "instance",
    "_Feature"
   ],
   "window_display": false
  }
 },
 "nbformat": 4,
 "nbformat_minor": 2
}
