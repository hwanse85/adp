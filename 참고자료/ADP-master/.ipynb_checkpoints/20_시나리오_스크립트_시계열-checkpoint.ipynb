{
 "cells": [
  {
   "cell_type": "markdown",
   "metadata": {},
   "source": [
    "# 시계열 분석"
   ]
  },
  {
   "cell_type": "markdown",
   "metadata": {},
   "source": [
    "## 라이브러리 호출"
   ]
  },
  {
   "cell_type": "code",
   "execution_count": 68,
   "metadata": {
    "ExecuteTime": {
     "end_time": "2020-12-09T11:43:38.305948Z",
     "start_time": "2020-12-09T11:43:38.294236Z"
    }
   },
   "outputs": [],
   "source": [
    "import pandas as pd\n",
    "import numpy as np\n",
    "import seaborn as sns\n",
    "import matplotlib\n",
    "import matplotlib.pyplot as plt\n",
    "plt.style.use('seaborn-whitegrid')\n",
    "%matplotlib inline\n",
    "pd.options.display.max_columns = None\n",
    "\n",
    "import os\n",
    "\n",
    "from sklearn.model_selection import train_test_split\n",
    "from sklearn.metrics import r2_score\n",
    "\n",
    "import statsmodels.api as sm\n",
    "from statsmodels.graphics.tsaplots import plot_acf, plot_pacf\n",
    "from statsmodels.tsa.arima_model import ARIMA\n",
    "from statsmodels.tsa.statespace.sarimax import SARIMAX\n",
    "from pmdarima.arima import auto_arima  ## ADP 볼 때는 없을 패키지\n",
    "\n",
    "import itertools # 내장 패키지"
   ]
  },
  {
   "cell_type": "markdown",
   "metadata": {},
   "source": [
    "## 그래프 한글 깨짐 방지"
   ]
  },
  {
   "cell_type": "code",
   "execution_count": 69,
   "metadata": {
    "ExecuteTime": {
     "end_time": "2020-12-09T11:43:38.316916Z",
     "start_time": "2020-12-09T11:43:38.308954Z"
    }
   },
   "outputs": [],
   "source": [
    "from matplotlib import font_manager, rc\n",
    "path = 'malgun.ttf'\n",
    "font_name = font_manager.FontProperties(fname=path).get_name()\n",
    "rc('font', family=font_name)"
   ]
  },
  {
   "cell_type": "markdown",
   "metadata": {},
   "source": [
    "## 데이터 로딩"
   ]
  },
  {
   "cell_type": "code",
   "execution_count": 70,
   "metadata": {
    "ExecuteTime": {
     "end_time": "2020-12-09T11:43:38.347955Z",
     "start_time": "2020-12-09T11:43:38.319908Z"
    }
   },
   "outputs": [],
   "source": [
    "df = pd.read_csv('./data/bikeshare.csv')"
   ]
  },
  {
   "cell_type": "markdown",
   "metadata": {},
   "source": [
    "## 데이터 구조 확인"
   ]
  },
  {
   "cell_type": "code",
   "execution_count": 71,
   "metadata": {
    "ExecuteTime": {
     "end_time": "2020-12-09T11:43:38.370109Z",
     "start_time": "2020-12-09T11:43:38.351888Z"
    }
   },
   "outputs": [
    {
     "data": {
      "text/html": [
       "<div>\n",
       "<style scoped>\n",
       "    .dataframe tbody tr th:only-of-type {\n",
       "        vertical-align: middle;\n",
       "    }\n",
       "\n",
       "    .dataframe tbody tr th {\n",
       "        vertical-align: top;\n",
       "    }\n",
       "\n",
       "    .dataframe thead th {\n",
       "        text-align: right;\n",
       "    }\n",
       "</style>\n",
       "<table border=\"1\" class=\"dataframe\">\n",
       "  <thead>\n",
       "    <tr style=\"text-align: right;\">\n",
       "      <th></th>\n",
       "      <th>datetime</th>\n",
       "      <th>season</th>\n",
       "      <th>holiday</th>\n",
       "      <th>workingday</th>\n",
       "      <th>weather</th>\n",
       "      <th>temp</th>\n",
       "      <th>atemp</th>\n",
       "      <th>humidity</th>\n",
       "      <th>windspeed</th>\n",
       "      <th>casual</th>\n",
       "      <th>registered</th>\n",
       "      <th>count</th>\n",
       "    </tr>\n",
       "  </thead>\n",
       "  <tbody>\n",
       "    <tr>\n",
       "      <th>0</th>\n",
       "      <td>2011-01-01 0:00</td>\n",
       "      <td>A</td>\n",
       "      <td>0</td>\n",
       "      <td>0</td>\n",
       "      <td>1</td>\n",
       "      <td>9.84</td>\n",
       "      <td>14.395</td>\n",
       "      <td>81</td>\n",
       "      <td>0.0</td>\n",
       "      <td>3</td>\n",
       "      <td>13</td>\n",
       "      <td>16</td>\n",
       "    </tr>\n",
       "    <tr>\n",
       "      <th>1</th>\n",
       "      <td>2011-01-01 1:00</td>\n",
       "      <td>A</td>\n",
       "      <td>0</td>\n",
       "      <td>0</td>\n",
       "      <td>1</td>\n",
       "      <td>9.02</td>\n",
       "      <td>13.635</td>\n",
       "      <td>80</td>\n",
       "      <td>0.0</td>\n",
       "      <td>8</td>\n",
       "      <td>32</td>\n",
       "      <td>40</td>\n",
       "    </tr>\n",
       "    <tr>\n",
       "      <th>2</th>\n",
       "      <td>2011-01-01 2:00</td>\n",
       "      <td>A</td>\n",
       "      <td>0</td>\n",
       "      <td>0</td>\n",
       "      <td>1</td>\n",
       "      <td>9.02</td>\n",
       "      <td>13.635</td>\n",
       "      <td>80</td>\n",
       "      <td>0.0</td>\n",
       "      <td>5</td>\n",
       "      <td>27</td>\n",
       "      <td>32</td>\n",
       "    </tr>\n",
       "    <tr>\n",
       "      <th>3</th>\n",
       "      <td>2011-01-01 3:00</td>\n",
       "      <td>A</td>\n",
       "      <td>0</td>\n",
       "      <td>0</td>\n",
       "      <td>1</td>\n",
       "      <td>9.84</td>\n",
       "      <td>14.395</td>\n",
       "      <td>75</td>\n",
       "      <td>0.0</td>\n",
       "      <td>3</td>\n",
       "      <td>10</td>\n",
       "      <td>13</td>\n",
       "    </tr>\n",
       "    <tr>\n",
       "      <th>4</th>\n",
       "      <td>2011-01-01 4:00</td>\n",
       "      <td>A</td>\n",
       "      <td>0</td>\n",
       "      <td>0</td>\n",
       "      <td>1</td>\n",
       "      <td>9.84</td>\n",
       "      <td>14.395</td>\n",
       "      <td>75</td>\n",
       "      <td>0.0</td>\n",
       "      <td>0</td>\n",
       "      <td>1</td>\n",
       "      <td>1</td>\n",
       "    </tr>\n",
       "  </tbody>\n",
       "</table>\n",
       "</div>"
      ],
      "text/plain": [
       "          datetime season  holiday  workingday  weather  temp   atemp  \\\n",
       "0  2011-01-01 0:00      A        0           0        1  9.84  14.395   \n",
       "1  2011-01-01 1:00      A        0           0        1  9.02  13.635   \n",
       "2  2011-01-01 2:00      A        0           0        1  9.02  13.635   \n",
       "3  2011-01-01 3:00      A        0           0        1  9.84  14.395   \n",
       "4  2011-01-01 4:00      A        0           0        1  9.84  14.395   \n",
       "\n",
       "   humidity  windspeed  casual  registered  count  \n",
       "0        81        0.0       3          13     16  \n",
       "1        80        0.0       8          32     40  \n",
       "2        80        0.0       5          27     32  \n",
       "3        75        0.0       3          10     13  \n",
       "4        75        0.0       0           1      1  "
      ]
     },
     "execution_count": 71,
     "metadata": {},
     "output_type": "execute_result"
    }
   ],
   "source": [
    "df.head()"
   ]
  },
  {
   "cell_type": "code",
   "execution_count": 72,
   "metadata": {
    "ExecuteTime": {
     "end_time": "2020-12-09T11:43:38.393212Z",
     "start_time": "2020-12-09T11:43:38.373103Z"
    }
   },
   "outputs": [
    {
     "data": {
      "text/html": [
       "<div>\n",
       "<style scoped>\n",
       "    .dataframe tbody tr th:only-of-type {\n",
       "        vertical-align: middle;\n",
       "    }\n",
       "\n",
       "    .dataframe tbody tr th {\n",
       "        vertical-align: top;\n",
       "    }\n",
       "\n",
       "    .dataframe thead th {\n",
       "        text-align: right;\n",
       "    }\n",
       "</style>\n",
       "<table border=\"1\" class=\"dataframe\">\n",
       "  <thead>\n",
       "    <tr style=\"text-align: right;\">\n",
       "      <th></th>\n",
       "      <th>datetime</th>\n",
       "      <th>season</th>\n",
       "      <th>holiday</th>\n",
       "      <th>workingday</th>\n",
       "      <th>weather</th>\n",
       "      <th>temp</th>\n",
       "      <th>atemp</th>\n",
       "      <th>humidity</th>\n",
       "      <th>windspeed</th>\n",
       "      <th>casual</th>\n",
       "      <th>registered</th>\n",
       "      <th>count</th>\n",
       "    </tr>\n",
       "  </thead>\n",
       "  <tbody>\n",
       "    <tr>\n",
       "      <th>10881</th>\n",
       "      <td>2012-12-19 19:00</td>\n",
       "      <td>D</td>\n",
       "      <td>0</td>\n",
       "      <td>1</td>\n",
       "      <td>1</td>\n",
       "      <td>15.58</td>\n",
       "      <td>19.695</td>\n",
       "      <td>50</td>\n",
       "      <td>26.0027</td>\n",
       "      <td>7</td>\n",
       "      <td>329</td>\n",
       "      <td>336</td>\n",
       "    </tr>\n",
       "    <tr>\n",
       "      <th>10882</th>\n",
       "      <td>2012-12-19 20:00</td>\n",
       "      <td>D</td>\n",
       "      <td>0</td>\n",
       "      <td>1</td>\n",
       "      <td>1</td>\n",
       "      <td>14.76</td>\n",
       "      <td>17.425</td>\n",
       "      <td>57</td>\n",
       "      <td>15.0013</td>\n",
       "      <td>10</td>\n",
       "      <td>231</td>\n",
       "      <td>241</td>\n",
       "    </tr>\n",
       "    <tr>\n",
       "      <th>10883</th>\n",
       "      <td>2012-12-19 21:00</td>\n",
       "      <td>D</td>\n",
       "      <td>0</td>\n",
       "      <td>1</td>\n",
       "      <td>1</td>\n",
       "      <td>13.94</td>\n",
       "      <td>15.910</td>\n",
       "      <td>61</td>\n",
       "      <td>15.0013</td>\n",
       "      <td>4</td>\n",
       "      <td>164</td>\n",
       "      <td>168</td>\n",
       "    </tr>\n",
       "    <tr>\n",
       "      <th>10884</th>\n",
       "      <td>2012-12-19 22:00</td>\n",
       "      <td>D</td>\n",
       "      <td>0</td>\n",
       "      <td>1</td>\n",
       "      <td>1</td>\n",
       "      <td>13.94</td>\n",
       "      <td>17.425</td>\n",
       "      <td>61</td>\n",
       "      <td>6.0032</td>\n",
       "      <td>12</td>\n",
       "      <td>117</td>\n",
       "      <td>129</td>\n",
       "    </tr>\n",
       "    <tr>\n",
       "      <th>10885</th>\n",
       "      <td>2012-12-19 23:00</td>\n",
       "      <td>D</td>\n",
       "      <td>0</td>\n",
       "      <td>1</td>\n",
       "      <td>1</td>\n",
       "      <td>13.12</td>\n",
       "      <td>16.665</td>\n",
       "      <td>66</td>\n",
       "      <td>8.9981</td>\n",
       "      <td>4</td>\n",
       "      <td>84</td>\n",
       "      <td>88</td>\n",
       "    </tr>\n",
       "  </tbody>\n",
       "</table>\n",
       "</div>"
      ],
      "text/plain": [
       "               datetime season  holiday  workingday  weather   temp   atemp  \\\n",
       "10881  2012-12-19 19:00      D        0           1        1  15.58  19.695   \n",
       "10882  2012-12-19 20:00      D        0           1        1  14.76  17.425   \n",
       "10883  2012-12-19 21:00      D        0           1        1  13.94  15.910   \n",
       "10884  2012-12-19 22:00      D        0           1        1  13.94  17.425   \n",
       "10885  2012-12-19 23:00      D        0           1        1  13.12  16.665   \n",
       "\n",
       "       humidity  windspeed  casual  registered  count  \n",
       "10881        50    26.0027       7         329    336  \n",
       "10882        57    15.0013      10         231    241  \n",
       "10883        61    15.0013       4         164    168  \n",
       "10884        61     6.0032      12         117    129  \n",
       "10885        66     8.9981       4          84     88  "
      ]
     },
     "execution_count": 72,
     "metadata": {},
     "output_type": "execute_result"
    }
   ],
   "source": [
    "df.tail()"
   ]
  },
  {
   "cell_type": "code",
   "execution_count": 73,
   "metadata": {
    "ExecuteTime": {
     "end_time": "2020-12-09T11:43:38.404081Z",
     "start_time": "2020-12-09T11:43:38.398087Z"
    }
   },
   "outputs": [
    {
     "data": {
      "text/plain": [
       "(10886, 12)"
      ]
     },
     "execution_count": 73,
     "metadata": {},
     "output_type": "execute_result"
    }
   ],
   "source": [
    "df.shape"
   ]
  },
  {
   "cell_type": "code",
   "execution_count": 74,
   "metadata": {
    "ExecuteTime": {
     "end_time": "2020-12-09T11:43:38.423077Z",
     "start_time": "2020-12-09T11:43:38.408058Z"
    }
   },
   "outputs": [
    {
     "name": "stdout",
     "output_type": "stream",
     "text": [
      "<class 'pandas.core.frame.DataFrame'>\n",
      "RangeIndex: 10886 entries, 0 to 10885\n",
      "Data columns (total 12 columns):\n",
      " #   Column      Non-Null Count  Dtype  \n",
      "---  ------      --------------  -----  \n",
      " 0   datetime    10886 non-null  object \n",
      " 1   season      10886 non-null  object \n",
      " 2   holiday     10886 non-null  int64  \n",
      " 3   workingday  10886 non-null  int64  \n",
      " 4   weather     10886 non-null  int64  \n",
      " 5   temp        10886 non-null  float64\n",
      " 6   atemp       10886 non-null  float64\n",
      " 7   humidity    10886 non-null  int64  \n",
      " 8   windspeed   10886 non-null  float64\n",
      " 9   casual      10886 non-null  int64  \n",
      " 10  registered  10886 non-null  int64  \n",
      " 11  count       10886 non-null  int64  \n",
      "dtypes: float64(3), int64(7), object(2)\n",
      "memory usage: 1020.7+ KB\n"
     ]
    }
   ],
   "source": [
    "df.info()"
   ]
  },
  {
   "cell_type": "markdown",
   "metadata": {},
   "source": [
    "## 날짜 데이터 전처리"
   ]
  },
  {
   "cell_type": "markdown",
   "metadata": {},
   "source": [
    "### 날짜 데이터를 Timestamp 형식으로 변환"
   ]
  },
  {
   "cell_type": "code",
   "execution_count": 75,
   "metadata": {
    "ExecuteTime": {
     "end_time": "2020-12-09T11:43:38.441566Z",
     "start_time": "2020-12-09T11:43:38.425972Z"
    }
   },
   "outputs": [],
   "source": [
    "# 날짜 형식이 연, 월, 일, 시, 분, 초 형태일 때\n",
    "df['datetime'] = pd.to_datetime(df['datetime'])\n",
    "\n",
    "# pd.to_datetime('2012-12-19 20:00', format='%Y-%m-%d %H:%M')"
   ]
  },
  {
   "cell_type": "markdown",
   "metadata": {},
   "source": [
    "================ 참고 : 날짜형식이 13자리 숫자일 때 대비"
   ]
  },
  {
   "cell_type": "code",
   "execution_count": 76,
   "metadata": {
    "ExecuteTime": {
     "end_time": "2020-12-09T11:43:38.452326Z",
     "start_time": "2020-12-09T11:43:38.445052Z"
    }
   },
   "outputs": [
    {
     "name": "stdout",
     "output_type": "stream",
     "text": [
      "2016-05-17 13:55:58 <class 'datetime.datetime'>\n",
      "2016-05-17 13:55:58 <class 'pandas._libs.tslibs.timestamps.Timestamp'>\n"
     ]
    }
   ],
   "source": [
    "# 13자리 숫자일 때\n",
    "import datetime\n",
    "timestamp = 1463460958000\n",
    "datetimeobj = datetime.datetime.fromtimestamp(timestamp/1000)\n",
    "print(datetimeobj, type(datetimeobj))\n",
    "# 이후에 pd.to_datetime으로 변환\n",
    "a = pd.to_datetime(datetimeobj)\n",
    "print(a, type(a))"
   ]
  },
  {
   "cell_type": "code",
   "execution_count": 77,
   "metadata": {
    "ExecuteTime": {
     "end_time": "2020-12-09T11:43:38.463452Z",
     "start_time": "2020-12-09T11:43:38.456245Z"
    }
   },
   "outputs": [
    {
     "data": {
      "text/plain": [
       "1463460958.0"
      ]
     },
     "execution_count": 77,
     "metadata": {},
     "output_type": "execute_result"
    }
   ],
   "source": [
    "# datetime to timestamp\n",
    "import time\n",
    "timestamp = time.mktime(datetimeobj.timetuple())\n",
    "timestamp"
   ]
  },
  {
   "cell_type": "code",
   "execution_count": 78,
   "metadata": {
    "ExecuteTime": {
     "end_time": "2020-12-09T11:43:38.472044Z",
     "start_time": "2020-12-09T11:43:38.466366Z"
    }
   },
   "outputs": [
    {
     "data": {
      "text/plain": [
       "datetime.date(2019, 10, 1)"
      ]
     },
     "execution_count": 78,
     "metadata": {},
     "output_type": "execute_result"
    }
   ],
   "source": [
    "import datetime\n",
    "datetime.date(year=2019, month=10, day=1)"
   ]
  },
  {
   "cell_type": "markdown",
   "metadata": {},
   "source": [
    "=============== 여기까지"
   ]
  },
  {
   "cell_type": "markdown",
   "metadata": {},
   "source": [
    "### 날짜 데이터로부터 연, 월, 일, 시, 요일 데이터 추출"
   ]
  },
  {
   "cell_type": "code",
   "execution_count": 79,
   "metadata": {
    "ExecuteTime": {
     "end_time": "2020-12-09T11:43:38.818847Z",
     "start_time": "2020-12-09T11:43:38.475002Z"
    }
   },
   "outputs": [],
   "source": [
    "df['year'] = df['datetime'].map(lambda x: x.year) # 연\n",
    "df['month'] = df['datetime'].map(lambda x: x.month) # 월\n",
    "df['day'] = df['datetime'].map(lambda x: x.day) # 일\n",
    "df['hour'] = df['datetime'].map(lambda x: x.hour) # 시\n",
    "df['dayofweek'] = df['datetime'].map(lambda x: x.dayofweek) # 요일"
   ]
  },
  {
   "cell_type": "markdown",
   "metadata": {},
   "source": [
    "### 날짜 데이터를 시 기준으로 그룹핑( 다른 데이터는 평균값 계산 ) 후 인덱스로 설정\n"
   ]
  },
  {
   "cell_type": "code",
   "execution_count": 80,
   "metadata": {
    "ExecuteTime": {
     "end_time": "2020-12-09T11:43:38.842164Z",
     "start_time": "2020-12-09T11:43:38.821347Z"
    }
   },
   "outputs": [
    {
     "name": "stderr",
     "output_type": "stream",
     "text": [
      "C:\\Users\\50008313\\AppData\\Local\\Continuum\\anaconda3\\lib\\site-packages\\ipykernel_launcher.py:2: FutureWarning: Indexing with multiple keys (implicitly converted to a tuple of keys) will be deprecated, use a list instead.\n",
      "  \n"
     ]
    }
   ],
   "source": [
    "# 그룹핑\n",
    "df = df.groupby(['year','month','day','hour'])['temp','humidity', 'windspeed','count'].mean().reset_index()"
   ]
  },
  {
   "cell_type": "code",
   "execution_count": 81,
   "metadata": {
    "ExecuteTime": {
     "end_time": "2020-12-09T11:43:38.961286Z",
     "start_time": "2020-12-09T11:43:38.847089Z"
    }
   },
   "outputs": [],
   "source": [
    "# 다시 date 컬럼 만들어주기\n",
    "df['date'] = df['year'].astype('str') +'-'+ df['month'].astype('str') +'-'+ df['day'].astype('str')\\\n",
    "+'-'+ df['hour'].astype('str')\n",
    "\n",
    "# date 컬럼 형식 변경 -> datetime\n",
    "df['date'] = pd.to_datetime(df['date'], format='%Y-%m-%d-%H')"
   ]
  },
  {
   "cell_type": "code",
   "execution_count": 82,
   "metadata": {
    "ExecuteTime": {
     "end_time": "2020-12-09T11:43:38.972813Z",
     "start_time": "2020-12-09T11:43:38.966264Z"
    }
   },
   "outputs": [],
   "source": [
    "df = df.set_index('date')"
   ]
  },
  {
   "cell_type": "code",
   "execution_count": 83,
   "metadata": {
    "ExecuteTime": {
     "end_time": "2020-12-09T11:43:38.992977Z",
     "start_time": "2020-12-09T11:43:38.975806Z"
    }
   },
   "outputs": [
    {
     "data": {
      "text/html": [
       "<div>\n",
       "<style scoped>\n",
       "    .dataframe tbody tr th:only-of-type {\n",
       "        vertical-align: middle;\n",
       "    }\n",
       "\n",
       "    .dataframe tbody tr th {\n",
       "        vertical-align: top;\n",
       "    }\n",
       "\n",
       "    .dataframe thead th {\n",
       "        text-align: right;\n",
       "    }\n",
       "</style>\n",
       "<table border=\"1\" class=\"dataframe\">\n",
       "  <thead>\n",
       "    <tr style=\"text-align: right;\">\n",
       "      <th></th>\n",
       "      <th>year</th>\n",
       "      <th>month</th>\n",
       "      <th>day</th>\n",
       "      <th>hour</th>\n",
       "      <th>temp</th>\n",
       "      <th>humidity</th>\n",
       "      <th>windspeed</th>\n",
       "      <th>count</th>\n",
       "    </tr>\n",
       "    <tr>\n",
       "      <th>date</th>\n",
       "      <th></th>\n",
       "      <th></th>\n",
       "      <th></th>\n",
       "      <th></th>\n",
       "      <th></th>\n",
       "      <th></th>\n",
       "      <th></th>\n",
       "      <th></th>\n",
       "    </tr>\n",
       "  </thead>\n",
       "  <tbody>\n",
       "    <tr>\n",
       "      <th>2011-01-01 00:00:00</th>\n",
       "      <td>2011</td>\n",
       "      <td>1</td>\n",
       "      <td>1</td>\n",
       "      <td>0</td>\n",
       "      <td>9.84</td>\n",
       "      <td>81</td>\n",
       "      <td>0.0</td>\n",
       "      <td>16</td>\n",
       "    </tr>\n",
       "    <tr>\n",
       "      <th>2011-01-01 01:00:00</th>\n",
       "      <td>2011</td>\n",
       "      <td>1</td>\n",
       "      <td>1</td>\n",
       "      <td>1</td>\n",
       "      <td>9.02</td>\n",
       "      <td>80</td>\n",
       "      <td>0.0</td>\n",
       "      <td>40</td>\n",
       "    </tr>\n",
       "    <tr>\n",
       "      <th>2011-01-01 02:00:00</th>\n",
       "      <td>2011</td>\n",
       "      <td>1</td>\n",
       "      <td>1</td>\n",
       "      <td>2</td>\n",
       "      <td>9.02</td>\n",
       "      <td>80</td>\n",
       "      <td>0.0</td>\n",
       "      <td>32</td>\n",
       "    </tr>\n",
       "  </tbody>\n",
       "</table>\n",
       "</div>"
      ],
      "text/plain": [
       "                     year  month  day  hour  temp  humidity  windspeed  count\n",
       "date                                                                         \n",
       "2011-01-01 00:00:00  2011      1    1     0  9.84        81        0.0     16\n",
       "2011-01-01 01:00:00  2011      1    1     1  9.02        80        0.0     40\n",
       "2011-01-01 02:00:00  2011      1    1     2  9.02        80        0.0     32"
      ]
     },
     "execution_count": 83,
     "metadata": {},
     "output_type": "execute_result"
    }
   ],
   "source": [
    "df.head(3)"
   ]
  },
  {
   "cell_type": "code",
   "execution_count": 84,
   "metadata": {
    "ExecuteTime": {
     "end_time": "2020-12-09T11:43:39.004944Z",
     "start_time": "2020-12-09T11:43:38.996966Z"
    }
   },
   "outputs": [],
   "source": [
    "# 필요 컬럼만 선택\n",
    "df = df[['temp','humidity','windspeed','count']]"
   ]
  },
  {
   "cell_type": "code",
   "execution_count": 85,
   "metadata": {
    "ExecuteTime": {
     "end_time": "2020-12-09T11:43:39.024915Z",
     "start_time": "2020-12-09T11:43:39.007937Z"
    }
   },
   "outputs": [
    {
     "data": {
      "text/html": [
       "<div>\n",
       "<style scoped>\n",
       "    .dataframe tbody tr th:only-of-type {\n",
       "        vertical-align: middle;\n",
       "    }\n",
       "\n",
       "    .dataframe tbody tr th {\n",
       "        vertical-align: top;\n",
       "    }\n",
       "\n",
       "    .dataframe thead th {\n",
       "        text-align: right;\n",
       "    }\n",
       "</style>\n",
       "<table border=\"1\" class=\"dataframe\">\n",
       "  <thead>\n",
       "    <tr style=\"text-align: right;\">\n",
       "      <th></th>\n",
       "      <th>temp</th>\n",
       "      <th>humidity</th>\n",
       "      <th>windspeed</th>\n",
       "      <th>count</th>\n",
       "    </tr>\n",
       "    <tr>\n",
       "      <th>date</th>\n",
       "      <th></th>\n",
       "      <th></th>\n",
       "      <th></th>\n",
       "      <th></th>\n",
       "    </tr>\n",
       "  </thead>\n",
       "  <tbody>\n",
       "    <tr>\n",
       "      <th>2011-01-01 00:00:00</th>\n",
       "      <td>9.84</td>\n",
       "      <td>81</td>\n",
       "      <td>0.0</td>\n",
       "      <td>16</td>\n",
       "    </tr>\n",
       "    <tr>\n",
       "      <th>2011-01-01 01:00:00</th>\n",
       "      <td>9.02</td>\n",
       "      <td>80</td>\n",
       "      <td>0.0</td>\n",
       "      <td>40</td>\n",
       "    </tr>\n",
       "    <tr>\n",
       "      <th>2011-01-01 02:00:00</th>\n",
       "      <td>9.02</td>\n",
       "      <td>80</td>\n",
       "      <td>0.0</td>\n",
       "      <td>32</td>\n",
       "    </tr>\n",
       "    <tr>\n",
       "      <th>2011-01-01 03:00:00</th>\n",
       "      <td>9.84</td>\n",
       "      <td>75</td>\n",
       "      <td>0.0</td>\n",
       "      <td>13</td>\n",
       "    </tr>\n",
       "    <tr>\n",
       "      <th>2011-01-01 04:00:00</th>\n",
       "      <td>9.84</td>\n",
       "      <td>75</td>\n",
       "      <td>0.0</td>\n",
       "      <td>1</td>\n",
       "    </tr>\n",
       "  </tbody>\n",
       "</table>\n",
       "</div>"
      ],
      "text/plain": [
       "                     temp  humidity  windspeed  count\n",
       "date                                                 \n",
       "2011-01-01 00:00:00  9.84        81        0.0     16\n",
       "2011-01-01 01:00:00  9.02        80        0.0     40\n",
       "2011-01-01 02:00:00  9.02        80        0.0     32\n",
       "2011-01-01 03:00:00  9.84        75        0.0     13\n",
       "2011-01-01 04:00:00  9.84        75        0.0      1"
      ]
     },
     "execution_count": 85,
     "metadata": {},
     "output_type": "execute_result"
    }
   ],
   "source": [
    "df.head()"
   ]
  },
  {
   "cell_type": "code",
   "execution_count": 116,
   "metadata": {
    "ExecuteTime": {
     "end_time": "2020-12-09T11:55:40.943152Z",
     "start_time": "2020-12-09T11:55:40.939614Z"
    }
   },
   "outputs": [],
   "source": [
    "# 시계열용 데이터는 따로 빼둠\n",
    "dfts = pd.DataFrame(df['count'])"
   ]
  },
  {
   "cell_type": "code",
   "execution_count": 117,
   "metadata": {
    "ExecuteTime": {
     "end_time": "2020-12-09T11:55:44.687217Z",
     "start_time": "2020-12-09T11:55:44.680419Z"
    }
   },
   "outputs": [
    {
     "data": {
      "text/plain": [
       "date\n",
       "2011-01-01 00:00:00     16.0\n",
       "2011-01-01 01:00:00     40.0\n",
       "2011-01-01 02:00:00     32.0\n",
       "2011-01-01 03:00:00     13.0\n",
       "2011-01-01 04:00:00      1.0\n",
       "                       ...  \n",
       "2012-12-19 19:00:00    336.0\n",
       "2012-12-19 20:00:00    241.0\n",
       "2012-12-19 21:00:00    168.0\n",
       "2012-12-19 22:00:00    129.0\n",
       "2012-12-19 23:00:00     88.0\n",
       "Name: count, Length: 10886, dtype: float64"
      ]
     },
     "execution_count": 117,
     "metadata": {},
     "output_type": "execute_result"
    }
   ],
   "source": [
    "dfts"
   ]
  },
  {
   "cell_type": "markdown",
   "metadata": {},
   "source": [
    "     ======== 여기부터는  y값 외에독립변수가 더 있을 경우"
   ]
  },
  {
   "cell_type": "markdown",
   "metadata": {
    "ExecuteTime": {
     "end_time": "2020-12-09T12:12:50.382469Z",
     "start_time": "2020-12-09T12:12:50.375485Z"
    }
   },
   "source": [
    "    ========== 시계열 모델만 만들 거면 비시계열 모델링 이후로 이동"
   ]
  },
  {
   "cell_type": "markdown",
   "metadata": {},
   "source": [
    "## 데이터 타입 맞춰주기 ==============================="
   ]
  },
  {
   "cell_type": "code",
   "execution_count": 86,
   "metadata": {
    "ExecuteTime": {
     "end_time": "2020-12-09T11:43:39.038514Z",
     "start_time": "2020-12-09T11:43:39.028990Z"
    }
   },
   "outputs": [
    {
     "data": {
      "text/plain": [
       "Index(['temp', 'humidity', 'windspeed', 'count'], dtype='object')"
      ]
     },
     "execution_count": 86,
     "metadata": {},
     "output_type": "execute_result"
    }
   ],
   "source": [
    "df.columns"
   ]
  },
  {
   "cell_type": "code",
   "execution_count": 87,
   "metadata": {
    "ExecuteTime": {
     "end_time": "2020-12-09T11:43:39.050033Z",
     "start_time": "2020-12-09T11:43:39.042060Z"
    }
   },
   "outputs": [],
   "source": [
    "col_id = []\n",
    "col_cat =[]\n",
    "col_int = []\n",
    "col_float = ['temp','humidity','windspeed','count']\n",
    "col_bool = []\n",
    "col_num = col_int+col_float"
   ]
  },
  {
   "cell_type": "code",
   "execution_count": 88,
   "metadata": {
    "ExecuteTime": {
     "end_time": "2020-12-09T11:43:39.069025Z",
     "start_time": "2020-12-09T11:43:39.054251Z"
    }
   },
   "outputs": [],
   "source": [
    "df[col_cat] = df[col_cat].astype('str')\n",
    "df[col_int] = df[col_int].astype('int', errors = 'ignore')\n",
    "df[col_float] = df[col_float].astype('float')"
   ]
  },
  {
   "cell_type": "markdown",
   "metadata": {},
   "source": [
    "## DQ Check(빈도분석, 분포분석)\n",
    "### 연속형 변수"
   ]
  },
  {
   "cell_type": "code",
   "execution_count": 89,
   "metadata": {
    "ExecuteTime": {
     "end_time": "2020-12-09T11:43:39.091162Z",
     "start_time": "2020-12-09T11:43:39.072974Z"
    }
   },
   "outputs": [],
   "source": [
    "def DA(data):\n",
    "    da = data.describe(percentiles=[0.05, 0.1, 0.25, 0.5, 0.75, 0.9, 0.95])\n",
    "    da = da.T\n",
    "    df1 = data.isna().sum()\n",
    "    df1.name = 'missing'\n",
    "    df2 = data.median()\n",
    "    df2.name = 'median'\n",
    "    df3 = np.var(data)\n",
    "    df3.name = 'variance'\n",
    "    df4 = data.skew()\n",
    "    df4.name = 'skewness'\n",
    "    df5 = data.kurtosis()\n",
    "    df5.name = 'kurtosis'\n",
    "    \n",
    "    da = pd.concat([da, df1, df2, df3, df4, df5], axis =1)\n",
    "    da['total'] = da['count'] + da['missing']\n",
    "    \n",
    "    col_nm = da.columns.tolist()\n",
    "    order = ['total','count','missing','mean','median','std','variance','skewness','kurtosis','min',\n",
    "            '5%','10%','25%','50%','75%','90%','95%','max']\n",
    "    col_nm_new=[]\n",
    "    for i in order:\n",
    "        col_nm_new.append(i)\n",
    "    da = da[col_nm_new]\n",
    "    da = da.round(2)\n",
    "    return da"
   ]
  },
  {
   "cell_type": "code",
   "execution_count": 90,
   "metadata": {
    "ExecuteTime": {
     "end_time": "2020-12-09T11:43:39.182594Z",
     "start_time": "2020-12-09T11:43:39.096095Z"
    }
   },
   "outputs": [
    {
     "data": {
      "text/html": [
       "<div>\n",
       "<style scoped>\n",
       "    .dataframe tbody tr th:only-of-type {\n",
       "        vertical-align: middle;\n",
       "    }\n",
       "\n",
       "    .dataframe tbody tr th {\n",
       "        vertical-align: top;\n",
       "    }\n",
       "\n",
       "    .dataframe thead th {\n",
       "        text-align: right;\n",
       "    }\n",
       "</style>\n",
       "<table border=\"1\" class=\"dataframe\">\n",
       "  <thead>\n",
       "    <tr style=\"text-align: right;\">\n",
       "      <th></th>\n",
       "      <th>total</th>\n",
       "      <th>count</th>\n",
       "      <th>missing</th>\n",
       "      <th>mean</th>\n",
       "      <th>median</th>\n",
       "      <th>std</th>\n",
       "      <th>variance</th>\n",
       "      <th>skewness</th>\n",
       "      <th>kurtosis</th>\n",
       "      <th>min</th>\n",
       "      <th>5%</th>\n",
       "      <th>10%</th>\n",
       "      <th>25%</th>\n",
       "      <th>50%</th>\n",
       "      <th>75%</th>\n",
       "      <th>90%</th>\n",
       "      <th>95%</th>\n",
       "      <th>max</th>\n",
       "    </tr>\n",
       "  </thead>\n",
       "  <tbody>\n",
       "    <tr>\n",
       "      <th>temp</th>\n",
       "      <td>10886.0</td>\n",
       "      <td>10886.0</td>\n",
       "      <td>0</td>\n",
       "      <td>20.23</td>\n",
       "      <td>20.5</td>\n",
       "      <td>7.79</td>\n",
       "      <td>60.70</td>\n",
       "      <td>0.00</td>\n",
       "      <td>-0.91</td>\n",
       "      <td>0.82</td>\n",
       "      <td>8.2</td>\n",
       "      <td>9.84</td>\n",
       "      <td>13.94</td>\n",
       "      <td>20.5</td>\n",
       "      <td>26.24</td>\n",
       "      <td>30.34</td>\n",
       "      <td>32.80</td>\n",
       "      <td>41.0</td>\n",
       "    </tr>\n",
       "    <tr>\n",
       "      <th>humidity</th>\n",
       "      <td>10886.0</td>\n",
       "      <td>10886.0</td>\n",
       "      <td>0</td>\n",
       "      <td>61.89</td>\n",
       "      <td>62.0</td>\n",
       "      <td>19.25</td>\n",
       "      <td>370.34</td>\n",
       "      <td>-0.09</td>\n",
       "      <td>-0.76</td>\n",
       "      <td>0.00</td>\n",
       "      <td>31.0</td>\n",
       "      <td>37.00</td>\n",
       "      <td>47.00</td>\n",
       "      <td>62.0</td>\n",
       "      <td>77.00</td>\n",
       "      <td>88.00</td>\n",
       "      <td>93.00</td>\n",
       "      <td>100.0</td>\n",
       "    </tr>\n",
       "    <tr>\n",
       "      <th>windspeed</th>\n",
       "      <td>10886.0</td>\n",
       "      <td>10886.0</td>\n",
       "      <td>0</td>\n",
       "      <td>12.80</td>\n",
       "      <td>13.0</td>\n",
       "      <td>8.16</td>\n",
       "      <td>66.65</td>\n",
       "      <td>0.59</td>\n",
       "      <td>0.63</td>\n",
       "      <td>0.00</td>\n",
       "      <td>0.0</td>\n",
       "      <td>0.00</td>\n",
       "      <td>7.00</td>\n",
       "      <td>13.0</td>\n",
       "      <td>17.00</td>\n",
       "      <td>24.00</td>\n",
       "      <td>28.00</td>\n",
       "      <td>57.0</td>\n",
       "    </tr>\n",
       "    <tr>\n",
       "      <th>count</th>\n",
       "      <td>10886.0</td>\n",
       "      <td>10886.0</td>\n",
       "      <td>0</td>\n",
       "      <td>191.57</td>\n",
       "      <td>145.0</td>\n",
       "      <td>181.14</td>\n",
       "      <td>32810.30</td>\n",
       "      <td>1.24</td>\n",
       "      <td>1.30</td>\n",
       "      <td>1.00</td>\n",
       "      <td>5.0</td>\n",
       "      <td>9.00</td>\n",
       "      <td>42.00</td>\n",
       "      <td>145.0</td>\n",
       "      <td>284.00</td>\n",
       "      <td>452.00</td>\n",
       "      <td>563.75</td>\n",
       "      <td>977.0</td>\n",
       "    </tr>\n",
       "  </tbody>\n",
       "</table>\n",
       "</div>"
      ],
      "text/plain": [
       "             total    count  missing    mean  median     std  variance  \\\n",
       "temp       10886.0  10886.0        0   20.23    20.5    7.79     60.70   \n",
       "humidity   10886.0  10886.0        0   61.89    62.0   19.25    370.34   \n",
       "windspeed  10886.0  10886.0        0   12.80    13.0    8.16     66.65   \n",
       "count      10886.0  10886.0        0  191.57   145.0  181.14  32810.30   \n",
       "\n",
       "           skewness  kurtosis   min    5%    10%    25%    50%     75%  \\\n",
       "temp           0.00     -0.91  0.82   8.2   9.84  13.94   20.5   26.24   \n",
       "humidity      -0.09     -0.76  0.00  31.0  37.00  47.00   62.0   77.00   \n",
       "windspeed      0.59      0.63  0.00   0.0   0.00   7.00   13.0   17.00   \n",
       "count          1.24      1.30  1.00   5.0   9.00  42.00  145.0  284.00   \n",
       "\n",
       "              90%     95%    max  \n",
       "temp        30.34   32.80   41.0  \n",
       "humidity    88.00   93.00  100.0  \n",
       "windspeed   24.00   28.00   57.0  \n",
       "count      452.00  563.75  977.0  "
      ]
     },
     "execution_count": 90,
     "metadata": {},
     "output_type": "execute_result"
    }
   ],
   "source": [
    "DA1 = DA(df[col_num])\n",
    "DA1"
   ]
  },
  {
   "cell_type": "markdown",
   "metadata": {},
   "source": [
    "### 범주형 변수"
   ]
  },
  {
   "cell_type": "code",
   "execution_count": 91,
   "metadata": {
    "ExecuteTime": {
     "end_time": "2020-12-09T11:43:39.199837Z",
     "start_time": "2020-12-09T11:43:39.185408Z"
    }
   },
   "outputs": [],
   "source": [
    "def DA_cat(data, col_cat):\n",
    "    DA_cat = pd.DataFrame()\n",
    "    \n",
    "    for i in col_cat:\n",
    "        a = data[i].value_counts(dropna=False).to_frame().sort_index().rename(columns={i:'count'}).reset_index()\n",
    "        a['col_nm'] = i\n",
    "        a = a.rename(columns = {'index':'class'})\n",
    "        a = a[['col_nm','class','count']]\n",
    "        b=data[i].value_counts(dropna = False, normalize = True).to_frame().sort_index().rename(\n",
    "        columns = {i:'ratio'}).reset_index()\n",
    "        b = b['ratio'].to_frame()\n",
    "        b['ratio'] = b['ratio'].round(2)\n",
    "        c = pd.concat([a,b], axis = 1)\n",
    "        DA_cat = pd.concat([DA_cat, c], axis=0)\n",
    "    DA_cat = DA_cat.reset_index(drop=True)\n",
    "    return DA_cat"
   ]
  },
  {
   "cell_type": "code",
   "execution_count": 92,
   "metadata": {
    "ExecuteTime": {
     "end_time": "2020-12-09T11:43:39.215779Z",
     "start_time": "2020-12-09T11:43:39.203828Z"
    }
   },
   "outputs": [
    {
     "data": {
      "text/html": [
       "<div>\n",
       "<style scoped>\n",
       "    .dataframe tbody tr th:only-of-type {\n",
       "        vertical-align: middle;\n",
       "    }\n",
       "\n",
       "    .dataframe tbody tr th {\n",
       "        vertical-align: top;\n",
       "    }\n",
       "\n",
       "    .dataframe thead th {\n",
       "        text-align: right;\n",
       "    }\n",
       "</style>\n",
       "<table border=\"1\" class=\"dataframe\">\n",
       "  <thead>\n",
       "    <tr style=\"text-align: right;\">\n",
       "      <th></th>\n",
       "    </tr>\n",
       "  </thead>\n",
       "  <tbody>\n",
       "  </tbody>\n",
       "</table>\n",
       "</div>"
      ],
      "text/plain": [
       "Empty DataFrame\n",
       "Columns: []\n",
       "Index: []"
      ]
     },
     "execution_count": 92,
     "metadata": {},
     "output_type": "execute_result"
    }
   ],
   "source": [
    "DA2 = DA_cat(df,col_cat+col_bool)\n",
    "DA2"
   ]
  },
  {
   "cell_type": "markdown",
   "metadata": {},
   "source": [
    "## 전처리(중복값, 결측치, 이상치 처리)\n",
    "### 중복값"
   ]
  },
  {
   "cell_type": "code",
   "execution_count": 93,
   "metadata": {
    "ExecuteTime": {
     "end_time": "2020-12-09T11:43:39.247417Z",
     "start_time": "2020-12-09T11:43:39.218757Z"
    }
   },
   "outputs": [
    {
     "data": {
      "text/html": [
       "<div>\n",
       "<style scoped>\n",
       "    .dataframe tbody tr th:only-of-type {\n",
       "        vertical-align: middle;\n",
       "    }\n",
       "\n",
       "    .dataframe tbody tr th {\n",
       "        vertical-align: top;\n",
       "    }\n",
       "\n",
       "    .dataframe thead th {\n",
       "        text-align: right;\n",
       "    }\n",
       "</style>\n",
       "<table border=\"1\" class=\"dataframe\">\n",
       "  <thead>\n",
       "    <tr style=\"text-align: right;\">\n",
       "      <th></th>\n",
       "      <th>temp</th>\n",
       "      <th>humidity</th>\n",
       "      <th>windspeed</th>\n",
       "      <th>count</th>\n",
       "    </tr>\n",
       "    <tr>\n",
       "      <th>date</th>\n",
       "      <th></th>\n",
       "      <th></th>\n",
       "      <th></th>\n",
       "      <th></th>\n",
       "    </tr>\n",
       "  </thead>\n",
       "  <tbody>\n",
       "    <tr>\n",
       "      <th>2012-01-04 02:00:00</th>\n",
       "      <td>0.82</td>\n",
       "      <td>34.0</td>\n",
       "      <td>19.0012</td>\n",
       "      <td>1.0</td>\n",
       "    </tr>\n",
       "    <tr>\n",
       "      <th>2012-01-04 03:00:00</th>\n",
       "      <td>0.82</td>\n",
       "      <td>34.0</td>\n",
       "      <td>19.0012</td>\n",
       "      <td>1.0</td>\n",
       "    </tr>\n",
       "    <tr>\n",
       "      <th>2011-01-09 04:00:00</th>\n",
       "      <td>3.28</td>\n",
       "      <td>53.0</td>\n",
       "      <td>12.9980</td>\n",
       "      <td>1.0</td>\n",
       "    </tr>\n",
       "    <tr>\n",
       "      <th>2011-01-09 05:00:00</th>\n",
       "      <td>3.28</td>\n",
       "      <td>53.0</td>\n",
       "      <td>12.9980</td>\n",
       "      <td>1.0</td>\n",
       "    </tr>\n",
       "    <tr>\n",
       "      <th>2011-02-10 05:00:00</th>\n",
       "      <td>4.92</td>\n",
       "      <td>50.0</td>\n",
       "      <td>15.0013</td>\n",
       "      <td>6.0</td>\n",
       "    </tr>\n",
       "    <tr>\n",
       "      <th>...</th>\n",
       "      <td>...</td>\n",
       "      <td>...</td>\n",
       "      <td>...</td>\n",
       "      <td>...</td>\n",
       "    </tr>\n",
       "    <tr>\n",
       "      <th>2012-08-08 03:00:00</th>\n",
       "      <td>28.70</td>\n",
       "      <td>84.0</td>\n",
       "      <td>0.0000</td>\n",
       "      <td>7.0</td>\n",
       "    </tr>\n",
       "    <tr>\n",
       "      <th>2012-08-08 04:00:00</th>\n",
       "      <td>28.70</td>\n",
       "      <td>84.0</td>\n",
       "      <td>0.0000</td>\n",
       "      <td>7.0</td>\n",
       "    </tr>\n",
       "    <tr>\n",
       "      <th>2011-08-07 05:00:00</th>\n",
       "      <td>28.70</td>\n",
       "      <td>89.0</td>\n",
       "      <td>12.9980</td>\n",
       "      <td>5.0</td>\n",
       "    </tr>\n",
       "    <tr>\n",
       "      <th>2012-07-09 02:00:00</th>\n",
       "      <td>28.70</td>\n",
       "      <td>89.0</td>\n",
       "      <td>12.9980</td>\n",
       "      <td>5.0</td>\n",
       "    </tr>\n",
       "    <tr>\n",
       "      <th>2012-07-09 03:00:00</th>\n",
       "      <td>28.70</td>\n",
       "      <td>89.0</td>\n",
       "      <td>12.9980</td>\n",
       "      <td>5.0</td>\n",
       "    </tr>\n",
       "  </tbody>\n",
       "</table>\n",
       "<p>161 rows × 4 columns</p>\n",
       "</div>"
      ],
      "text/plain": [
       "                      temp  humidity  windspeed  count\n",
       "date                                                  \n",
       "2012-01-04 02:00:00   0.82      34.0    19.0012    1.0\n",
       "2012-01-04 03:00:00   0.82      34.0    19.0012    1.0\n",
       "2011-01-09 04:00:00   3.28      53.0    12.9980    1.0\n",
       "2011-01-09 05:00:00   3.28      53.0    12.9980    1.0\n",
       "2011-02-10 05:00:00   4.92      50.0    15.0013    6.0\n",
       "...                    ...       ...        ...    ...\n",
       "2012-08-08 03:00:00  28.70      84.0     0.0000    7.0\n",
       "2012-08-08 04:00:00  28.70      84.0     0.0000    7.0\n",
       "2011-08-07 05:00:00  28.70      89.0    12.9980    5.0\n",
       "2012-07-09 02:00:00  28.70      89.0    12.9980    5.0\n",
       "2012-07-09 03:00:00  28.70      89.0    12.9980    5.0\n",
       "\n",
       "[161 rows x 4 columns]"
      ]
     },
     "execution_count": 93,
     "metadata": {},
     "output_type": "execute_result"
    }
   ],
   "source": [
    "df[df.duplicated(keep=False)].sort_values(['temp','humidity','windspeed','count'])"
   ]
  },
  {
   "cell_type": "code",
   "execution_count": null,
   "metadata": {},
   "outputs": [],
   "source": [
    "df.drop_duplicates()\n",
    "df.drop_duplicates(['col1'], keep='last')"
   ]
  },
  {
   "cell_type": "markdown",
   "metadata": {},
   "source": [
    "### 결측치"
   ]
  },
  {
   "cell_type": "code",
   "execution_count": 94,
   "metadata": {
    "ExecuteTime": {
     "end_time": "2020-12-09T11:43:42.158073Z",
     "start_time": "2020-12-09T11:43:42.150074Z"
    }
   },
   "outputs": [
    {
     "data": {
      "text/plain": [
       "temp         0\n",
       "humidity     0\n",
       "windspeed    0\n",
       "count        0\n",
       "dtype: int64"
      ]
     },
     "execution_count": 94,
     "metadata": {},
     "output_type": "execute_result"
    }
   ],
   "source": [
    "df.isna().sum()"
   ]
  },
  {
   "cell_type": "code",
   "execution_count": null,
   "metadata": {},
   "outputs": [],
   "source": [
    "# na 처리 : dropna(), fillna()\n",
    "df.dropna() # nan이 하나라도 들어간 행은 삭제\n",
    "df.dropna(how = 'all') # 데이터가 모두 nan인 행만 삭제 / 초기값:'any'\n",
    "## Parameters\n",
    "# axis = 'index' / 'columns'\n",
    "# subset = ['col1', 'col2', ...] # 적용 대상 컬럼 특정\n",
    "\n",
    "df.fillna(0) # na를 0으로 채우기\n",
    "\n",
    "new_data = {'a':0, 'b':1, 'c':-999}\n",
    "df.fillna(new_data) # na 발생 시 a 열에는 0, b 열에는 1, c 열에는 -999로 채움\n",
    "df.fillna(new_data, limit = 2) # 각 열별로 2개의 nan까지 대체\n",
    "df.fillna(method = 'ffill') # 열 별로 바로 앞의 데이터로 채움\n",
    "df.fillna(method = 'bfill') # 열 별로 바로 뒤의 데이터로 채움\n",
    "# ffill의 경우 첫 행이거나, 앞의 데이터가 nan일 경우 nan유지. bfill도 반대로 동일\n",
    "\n",
    "# 평균값, 중앙값으로 대치\n",
    "df.loc[19,'Leaflets'] = df['Leaflets'].mean() # 평균값으로 \n",
    "df.loc[19,'Leaflets'] = df['Leaflets'].median # 중앙값으로"
   ]
  },
  {
   "cell_type": "markdown",
   "metadata": {},
   "source": [
    "### 이상치"
   ]
  },
  {
   "cell_type": "code",
   "execution_count": 95,
   "metadata": {
    "ExecuteTime": {
     "end_time": "2020-12-09T11:43:48.464854Z",
     "start_time": "2020-12-09T11:43:48.461183Z"
    }
   },
   "outputs": [],
   "source": [
    "tmp = 'windspeed'"
   ]
  },
  {
   "cell_type": "code",
   "execution_count": 96,
   "metadata": {
    "ExecuteTime": {
     "end_time": "2020-12-09T11:43:48.784663Z",
     "start_time": "2020-12-09T11:43:48.631802Z"
    }
   },
   "outputs": [
    {
     "data": {
      "text/plain": [
       "<AxesSubplot:xlabel='windspeed'>"
      ]
     },
     "execution_count": 96,
     "metadata": {},
     "output_type": "execute_result"
    },
    {
     "data": {
      "image/png": "[encoded data removed]",
      "text/plain": [
       "<Figure size 432x288 with 1 Axes>"
      ]
     },
     "metadata": {
      "needs_background": "light"
     },
     "output_type": "display_data"
    }
   ],
   "source": [
    "sns.boxplot(y = tmp, data = df, orient = 'h')"
   ]
  },
  {
   "cell_type": "code",
   "execution_count": 97,
   "metadata": {
    "ExecuteTime": {
     "end_time": "2020-12-09T11:43:48.906801Z",
     "start_time": "2020-12-09T11:43:48.879893Z"
    }
   },
   "outputs": [
    {
     "name": "stdout",
     "output_type": "stream",
     "text": [
      "(227, 4)\n"
     ]
    },
    {
     "data": {
      "text/html": [
       "<div>\n",
       "<style scoped>\n",
       "    .dataframe tbody tr th:only-of-type {\n",
       "        vertical-align: middle;\n",
       "    }\n",
       "\n",
       "    .dataframe tbody tr th {\n",
       "        vertical-align: top;\n",
       "    }\n",
       "\n",
       "    .dataframe thead th {\n",
       "        text-align: right;\n",
       "    }\n",
       "</style>\n",
       "<table border=\"1\" class=\"dataframe\">\n",
       "  <thead>\n",
       "    <tr style=\"text-align: right;\">\n",
       "      <th></th>\n",
       "      <th>temp</th>\n",
       "      <th>humidity</th>\n",
       "      <th>windspeed</th>\n",
       "      <th>count</th>\n",
       "    </tr>\n",
       "    <tr>\n",
       "      <th>date</th>\n",
       "      <th></th>\n",
       "      <th></th>\n",
       "      <th></th>\n",
       "      <th></th>\n",
       "    </tr>\n",
       "  </thead>\n",
       "  <tbody>\n",
       "    <tr>\n",
       "      <th>2011-01-08 14:00:00</th>\n",
       "      <td>8.20</td>\n",
       "      <td>32.0</td>\n",
       "      <td>32.9975</td>\n",
       "      <td>95.0</td>\n",
       "    </tr>\n",
       "    <tr>\n",
       "      <th>2011-01-08 17:00:00</th>\n",
       "      <td>6.56</td>\n",
       "      <td>37.0</td>\n",
       "      <td>36.9974</td>\n",
       "      <td>69.0</td>\n",
       "    </tr>\n",
       "    <tr>\n",
       "      <th>2011-01-09 09:00:00</th>\n",
       "      <td>4.92</td>\n",
       "      <td>46.0</td>\n",
       "      <td>35.0008</td>\n",
       "      <td>19.0</td>\n",
       "    </tr>\n",
       "    <tr>\n",
       "      <th>2011-01-09 11:00:00</th>\n",
       "      <td>6.56</td>\n",
       "      <td>40.0</td>\n",
       "      <td>35.0008</td>\n",
       "      <td>49.0</td>\n",
       "    </tr>\n",
       "    <tr>\n",
       "      <th>2011-01-12 12:00:00</th>\n",
       "      <td>8.20</td>\n",
       "      <td>47.0</td>\n",
       "      <td>39.0007</td>\n",
       "      <td>55.0</td>\n",
       "    </tr>\n",
       "    <tr>\n",
       "      <th>...</th>\n",
       "      <td>...</td>\n",
       "      <td>...</td>\n",
       "      <td>...</td>\n",
       "      <td>...</td>\n",
       "    </tr>\n",
       "    <tr>\n",
       "      <th>2012-11-02 14:00:00</th>\n",
       "      <td>16.40</td>\n",
       "      <td>40.0</td>\n",
       "      <td>32.9975</td>\n",
       "      <td>262.0</td>\n",
       "    </tr>\n",
       "    <tr>\n",
       "      <th>2012-11-08 12:00:00</th>\n",
       "      <td>16.40</td>\n",
       "      <td>24.0</td>\n",
       "      <td>32.9975</td>\n",
       "      <td>235.0</td>\n",
       "    </tr>\n",
       "    <tr>\n",
       "      <th>2012-11-13 01:00:00</th>\n",
       "      <td>18.04</td>\n",
       "      <td>88.0</td>\n",
       "      <td>43.0006</td>\n",
       "      <td>5.0</td>\n",
       "    </tr>\n",
       "    <tr>\n",
       "      <th>2012-12-05 14:00:00</th>\n",
       "      <td>19.68</td>\n",
       "      <td>33.0</td>\n",
       "      <td>32.9975</td>\n",
       "      <td>218.0</td>\n",
       "    </tr>\n",
       "    <tr>\n",
       "      <th>2012-12-18 15:00:00</th>\n",
       "      <td>18.86</td>\n",
       "      <td>44.0</td>\n",
       "      <td>32.9975</td>\n",
       "      <td>246.0</td>\n",
       "    </tr>\n",
       "  </tbody>\n",
       "</table>\n",
       "<p>227 rows × 4 columns</p>\n",
       "</div>"
      ],
      "text/plain": [
       "                      temp  humidity  windspeed  count\n",
       "date                                                  \n",
       "2011-01-08 14:00:00   8.20      32.0    32.9975   95.0\n",
       "2011-01-08 17:00:00   6.56      37.0    36.9974   69.0\n",
       "2011-01-09 09:00:00   4.92      46.0    35.0008   19.0\n",
       "2011-01-09 11:00:00   6.56      40.0    35.0008   49.0\n",
       "2011-01-12 12:00:00   8.20      47.0    39.0007   55.0\n",
       "...                    ...       ...        ...    ...\n",
       "2012-11-02 14:00:00  16.40      40.0    32.9975  262.0\n",
       "2012-11-08 12:00:00  16.40      24.0    32.9975  235.0\n",
       "2012-11-13 01:00:00  18.04      88.0    43.0006    5.0\n",
       "2012-12-05 14:00:00  19.68      33.0    32.9975  218.0\n",
       "2012-12-18 15:00:00  18.86      44.0    32.9975  246.0\n",
       "\n",
       "[227 rows x 4 columns]"
      ]
     },
     "execution_count": 97,
     "metadata": {},
     "output_type": "execute_result"
    }
   ],
   "source": [
    "# IQR 활용\n",
    "q1 = df[tmp].quantile(.25)\n",
    "q3 = df[tmp].quantile(.75)\n",
    "iqr = q3-q1\n",
    "min_iqr = q1 - 1.5 * iqr\n",
    "max_iqr = q3 + 1.5 * iqr\n",
    "min_from_all = df[tmp].min()\n",
    "max_from_all = df[tmp].max()\n",
    "if (min_iqr < min_from_all) :\n",
    "    min_iqr = min_from_all\n",
    "if (max_iqr > max_from_all) :\n",
    "    max_iqr = max_from_all\n",
    "\n",
    "outlier = df[(df[tmp] < min_iqr ) | (df[tmp] > max_iqr)] # 이상치 조회\n",
    "outlier_index = outlier.index\n",
    "print(outlier.shape)\n",
    "outlier"
   ]
  },
  {
   "cell_type": "markdown",
   "metadata": {},
   "source": [
    "##### min/max값으로 보정"
   ]
  },
  {
   "cell_type": "code",
   "execution_count": null,
   "metadata": {},
   "outputs": [],
   "source": [
    "df.loc[(df[tmp] < min_iqr ),tmp] = min_iqr # 이상치 보정 - 하한치로 보정\n",
    "df.loc[(df[tmp] > max_iqr ),tmp] = max_iqr # 이상치 보정 - 상한치로 보정"
   ]
  },
  {
   "cell_type": "markdown",
   "metadata": {},
   "source": [
    "##### 이상치 제거"
   ]
  },
  {
   "cell_type": "code",
   "execution_count": null,
   "metadata": {},
   "outputs": [],
   "source": [
    "df = df.drop(outlier_index, axis=0)\n",
    "df.shape"
   ]
  },
  {
   "cell_type": "markdown",
   "metadata": {},
   "source": [
    "## 파생변수 생성"
   ]
  },
  {
   "cell_type": "code",
   "execution_count": 98,
   "metadata": {
    "ExecuteTime": {
     "end_time": "2020-12-09T11:43:53.878623Z",
     "start_time": "2020-12-09T11:43:53.872638Z"
    }
   },
   "outputs": [],
   "source": [
    "today = pd.to_datetime('2020-12-13')"
   ]
  },
  {
   "cell_type": "code",
   "execution_count": 99,
   "metadata": {
    "ExecuteTime": {
     "end_time": "2020-12-09T11:43:53.897136Z",
     "start_time": "2020-12-09T11:43:53.881847Z"
    }
   },
   "outputs": [],
   "source": [
    "# Recency\n",
    "cond1 = (today-df.index) >= pd.Timedelta('3000 days')\n",
    "cond2 = ((today-df.index) < pd.Timedelta('3000 days'))&((today-df.index) >= pd.Timedelta('2000 days'))\n",
    "cond3 = (today-df.index) < pd.Timedelta('2000 days')\n",
    "\n",
    "df.loc[cond1, 'Recency'] = 1\n",
    "df.loc[cond2, 'Recency'] = 2\n",
    "df.loc[cond3, 'Recency'] = 3"
   ]
  },
  {
   "cell_type": "code",
   "execution_count": 100,
   "metadata": {
    "ExecuteTime": {
     "end_time": "2020-12-09T11:43:53.912211Z",
     "start_time": "2020-12-09T11:43:53.900147Z"
    }
   },
   "outputs": [],
   "source": [
    "# Frequency\n",
    "df.loc[df['count'] <= 10, 'Frequency'] = 1\n",
    "df.loc[(df['count'] > 10)&(df['count']<=20), 'Frequency'] = 2\n",
    "df.loc[df['count'] >20, 'Frequency'] = 3"
   ]
  },
  {
   "cell_type": "code",
   "execution_count": 101,
   "metadata": {
    "ExecuteTime": {
     "end_time": "2020-12-09T11:43:53.921793Z",
     "start_time": "2020-12-09T11:43:53.915165Z"
    }
   },
   "outputs": [],
   "source": [
    "# Monetary\n",
    "df['Monetary'] = df['count'] * df['temp']"
   ]
  },
  {
   "cell_type": "code",
   "execution_count": 102,
   "metadata": {
    "ExecuteTime": {
     "end_time": "2020-12-09T11:43:53.943179Z",
     "start_time": "2020-12-09T11:43:53.925865Z"
    }
   },
   "outputs": [
    {
     "data": {
      "text/html": [
       "<div>\n",
       "<style scoped>\n",
       "    .dataframe tbody tr th:only-of-type {\n",
       "        vertical-align: middle;\n",
       "    }\n",
       "\n",
       "    .dataframe tbody tr th {\n",
       "        vertical-align: top;\n",
       "    }\n",
       "\n",
       "    .dataframe thead th {\n",
       "        text-align: right;\n",
       "    }\n",
       "</style>\n",
       "<table border=\"1\" class=\"dataframe\">\n",
       "  <thead>\n",
       "    <tr style=\"text-align: right;\">\n",
       "      <th></th>\n",
       "      <th>temp</th>\n",
       "      <th>humidity</th>\n",
       "      <th>windspeed</th>\n",
       "      <th>count</th>\n",
       "      <th>Recency</th>\n",
       "      <th>Frequency</th>\n",
       "      <th>Monetary</th>\n",
       "    </tr>\n",
       "    <tr>\n",
       "      <th>date</th>\n",
       "      <th></th>\n",
       "      <th></th>\n",
       "      <th></th>\n",
       "      <th></th>\n",
       "      <th></th>\n",
       "      <th></th>\n",
       "      <th></th>\n",
       "    </tr>\n",
       "  </thead>\n",
       "  <tbody>\n",
       "    <tr>\n",
       "      <th>2011-01-01 00:00:00</th>\n",
       "      <td>9.84</td>\n",
       "      <td>81.0</td>\n",
       "      <td>0.0</td>\n",
       "      <td>16.0</td>\n",
       "      <td>1.0</td>\n",
       "      <td>2.0</td>\n",
       "      <td>157.44</td>\n",
       "    </tr>\n",
       "    <tr>\n",
       "      <th>2011-01-01 01:00:00</th>\n",
       "      <td>9.02</td>\n",
       "      <td>80.0</td>\n",
       "      <td>0.0</td>\n",
       "      <td>40.0</td>\n",
       "      <td>1.0</td>\n",
       "      <td>3.0</td>\n",
       "      <td>360.80</td>\n",
       "    </tr>\n",
       "    <tr>\n",
       "      <th>2011-01-01 02:00:00</th>\n",
       "      <td>9.02</td>\n",
       "      <td>80.0</td>\n",
       "      <td>0.0</td>\n",
       "      <td>32.0</td>\n",
       "      <td>1.0</td>\n",
       "      <td>3.0</td>\n",
       "      <td>288.64</td>\n",
       "    </tr>\n",
       "  </tbody>\n",
       "</table>\n",
       "</div>"
      ],
      "text/plain": [
       "                     temp  humidity  windspeed  count  Recency  Frequency  \\\n",
       "date                                                                        \n",
       "2011-01-01 00:00:00  9.84      81.0        0.0   16.0      1.0        2.0   \n",
       "2011-01-01 01:00:00  9.02      80.0        0.0   40.0      1.0        3.0   \n",
       "2011-01-01 02:00:00  9.02      80.0        0.0   32.0      1.0        3.0   \n",
       "\n",
       "                     Monetary  \n",
       "date                           \n",
       "2011-01-01 00:00:00    157.44  \n",
       "2011-01-01 01:00:00    360.80  \n",
       "2011-01-01 02:00:00    288.64  "
      ]
     },
     "execution_count": 102,
     "metadata": {},
     "output_type": "execute_result"
    }
   ],
   "source": [
    "df.head(3)"
   ]
  },
  {
   "cell_type": "markdown",
   "metadata": {},
   "source": [
    "## 데이터 마트 DQ Check, 변수선택 및 EDA\n",
    "### DQ Check"
   ]
  },
  {
   "cell_type": "code",
   "execution_count": 103,
   "metadata": {
    "ExecuteTime": {
     "end_time": "2020-12-09T11:43:56.998687Z",
     "start_time": "2020-12-09T11:43:56.993047Z"
    }
   },
   "outputs": [
    {
     "data": {
      "text/plain": [
       "Index(['temp', 'humidity', 'windspeed', 'count', 'Recency', 'Frequency',\n",
       "       'Monetary'],\n",
       "      dtype='object')"
      ]
     },
     "execution_count": 103,
     "metadata": {},
     "output_type": "execute_result"
    }
   ],
   "source": [
    "df.columns"
   ]
  },
  {
   "cell_type": "code",
   "execution_count": 104,
   "metadata": {
    "ExecuteTime": {
     "end_time": "2020-12-09T11:43:57.445751Z",
     "start_time": "2020-12-09T11:43:57.441761Z"
    }
   },
   "outputs": [],
   "source": [
    "col_num = ['temp', 'humidity', 'windspeed', 'count', 'Monetary']\n",
    "col_cat = ['Recency', 'Frequency']"
   ]
  },
  {
   "cell_type": "code",
   "execution_count": 105,
   "metadata": {
    "ExecuteTime": {
     "end_time": "2020-12-09T11:43:57.983039Z",
     "start_time": "2020-12-09T11:43:57.921054Z"
    }
   },
   "outputs": [
    {
     "data": {
      "text/html": [
       "<div>\n",
       "<style scoped>\n",
       "    .dataframe tbody tr th:only-of-type {\n",
       "        vertical-align: middle;\n",
       "    }\n",
       "\n",
       "    .dataframe tbody tr th {\n",
       "        vertical-align: top;\n",
       "    }\n",
       "\n",
       "    .dataframe thead th {\n",
       "        text-align: right;\n",
       "    }\n",
       "</style>\n",
       "<table border=\"1\" class=\"dataframe\">\n",
       "  <thead>\n",
       "    <tr style=\"text-align: right;\">\n",
       "      <th></th>\n",
       "      <th>total</th>\n",
       "      <th>count</th>\n",
       "      <th>missing</th>\n",
       "      <th>mean</th>\n",
       "      <th>median</th>\n",
       "      <th>std</th>\n",
       "      <th>variance</th>\n",
       "      <th>skewness</th>\n",
       "      <th>kurtosis</th>\n",
       "      <th>min</th>\n",
       "      <th>5%</th>\n",
       "      <th>10%</th>\n",
       "      <th>25%</th>\n",
       "      <th>50%</th>\n",
       "      <th>75%</th>\n",
       "      <th>90%</th>\n",
       "      <th>95%</th>\n",
       "      <th>max</th>\n",
       "    </tr>\n",
       "  </thead>\n",
       "  <tbody>\n",
       "    <tr>\n",
       "      <th>temp</th>\n",
       "      <td>10886.0</td>\n",
       "      <td>10886.0</td>\n",
       "      <td>0</td>\n",
       "      <td>20.23</td>\n",
       "      <td>20.50</td>\n",
       "      <td>7.79</td>\n",
       "      <td>60.70</td>\n",
       "      <td>0.00</td>\n",
       "      <td>-0.91</td>\n",
       "      <td>0.82</td>\n",
       "      <td>8.20</td>\n",
       "      <td>9.84</td>\n",
       "      <td>13.94</td>\n",
       "      <td>20.50</td>\n",
       "      <td>26.24</td>\n",
       "      <td>30.34</td>\n",
       "      <td>32.80</td>\n",
       "      <td>41.00</td>\n",
       "    </tr>\n",
       "    <tr>\n",
       "      <th>humidity</th>\n",
       "      <td>10886.0</td>\n",
       "      <td>10886.0</td>\n",
       "      <td>0</td>\n",
       "      <td>61.89</td>\n",
       "      <td>62.00</td>\n",
       "      <td>19.25</td>\n",
       "      <td>370.34</td>\n",
       "      <td>-0.09</td>\n",
       "      <td>-0.76</td>\n",
       "      <td>0.00</td>\n",
       "      <td>31.00</td>\n",
       "      <td>37.00</td>\n",
       "      <td>47.00</td>\n",
       "      <td>62.00</td>\n",
       "      <td>77.00</td>\n",
       "      <td>88.00</td>\n",
       "      <td>93.00</td>\n",
       "      <td>100.00</td>\n",
       "    </tr>\n",
       "    <tr>\n",
       "      <th>windspeed</th>\n",
       "      <td>10886.0</td>\n",
       "      <td>10886.0</td>\n",
       "      <td>0</td>\n",
       "      <td>12.80</td>\n",
       "      <td>13.00</td>\n",
       "      <td>8.16</td>\n",
       "      <td>66.65</td>\n",
       "      <td>0.59</td>\n",
       "      <td>0.63</td>\n",
       "      <td>0.00</td>\n",
       "      <td>0.00</td>\n",
       "      <td>0.00</td>\n",
       "      <td>7.00</td>\n",
       "      <td>13.00</td>\n",
       "      <td>17.00</td>\n",
       "      <td>24.00</td>\n",
       "      <td>28.00</td>\n",
       "      <td>57.00</td>\n",
       "    </tr>\n",
       "    <tr>\n",
       "      <th>count</th>\n",
       "      <td>10886.0</td>\n",
       "      <td>10886.0</td>\n",
       "      <td>0</td>\n",
       "      <td>191.57</td>\n",
       "      <td>145.00</td>\n",
       "      <td>181.14</td>\n",
       "      <td>32810.30</td>\n",
       "      <td>1.24</td>\n",
       "      <td>1.30</td>\n",
       "      <td>1.00</td>\n",
       "      <td>5.00</td>\n",
       "      <td>9.00</td>\n",
       "      <td>42.00</td>\n",
       "      <td>145.00</td>\n",
       "      <td>284.00</td>\n",
       "      <td>452.00</td>\n",
       "      <td>563.75</td>\n",
       "      <td>977.00</td>\n",
       "    </tr>\n",
       "    <tr>\n",
       "      <th>Monetary</th>\n",
       "      <td>10886.0</td>\n",
       "      <td>10886.0</td>\n",
       "      <td>0</td>\n",
       "      <td>4432.39</td>\n",
       "      <td>2629.74</td>\n",
       "      <td>5023.07</td>\n",
       "      <td>25228922.33</td>\n",
       "      <td>1.66</td>\n",
       "      <td>2.89</td>\n",
       "      <td>0.82</td>\n",
       "      <td>63.14</td>\n",
       "      <td>139.40</td>\n",
       "      <td>612.54</td>\n",
       "      <td>2629.74</td>\n",
       "      <td>6496.24</td>\n",
       "      <td>11646.87</td>\n",
       "      <td>15168.16</td>\n",
       "      <td>30157.14</td>\n",
       "    </tr>\n",
       "  </tbody>\n",
       "</table>\n",
       "</div>"
      ],
      "text/plain": [
       "             total    count  missing     mean   median      std     variance  \\\n",
       "temp       10886.0  10886.0        0    20.23    20.50     7.79        60.70   \n",
       "humidity   10886.0  10886.0        0    61.89    62.00    19.25       370.34   \n",
       "windspeed  10886.0  10886.0        0    12.80    13.00     8.16        66.65   \n",
       "count      10886.0  10886.0        0   191.57   145.00   181.14     32810.30   \n",
       "Monetary   10886.0  10886.0        0  4432.39  2629.74  5023.07  25228922.33   \n",
       "\n",
       "           skewness  kurtosis   min     5%     10%     25%      50%      75%  \\\n",
       "temp           0.00     -0.91  0.82   8.20    9.84   13.94    20.50    26.24   \n",
       "humidity      -0.09     -0.76  0.00  31.00   37.00   47.00    62.00    77.00   \n",
       "windspeed      0.59      0.63  0.00   0.00    0.00    7.00    13.00    17.00   \n",
       "count          1.24      1.30  1.00   5.00    9.00   42.00   145.00   284.00   \n",
       "Monetary       1.66      2.89  0.82  63.14  139.40  612.54  2629.74  6496.24   \n",
       "\n",
       "                90%       95%       max  \n",
       "temp          30.34     32.80     41.00  \n",
       "humidity      88.00     93.00    100.00  \n",
       "windspeed     24.00     28.00     57.00  \n",
       "count        452.00    563.75    977.00  \n",
       "Monetary   11646.87  15168.16  30157.14  "
      ]
     },
     "execution_count": 105,
     "metadata": {},
     "output_type": "execute_result"
    }
   ],
   "source": [
    "DA3 = DA(df[col_num])\n",
    "DA3"
   ]
  },
  {
   "cell_type": "code",
   "execution_count": 106,
   "metadata": {
    "ExecuteTime": {
     "end_time": "2020-12-09T11:43:59.116703Z",
     "start_time": "2020-12-09T11:43:59.083809Z"
    }
   },
   "outputs": [
    {
     "data": {
      "text/html": [
       "<div>\n",
       "<style scoped>\n",
       "    .dataframe tbody tr th:only-of-type {\n",
       "        vertical-align: middle;\n",
       "    }\n",
       "\n",
       "    .dataframe tbody tr th {\n",
       "        vertical-align: top;\n",
       "    }\n",
       "\n",
       "    .dataframe thead th {\n",
       "        text-align: right;\n",
       "    }\n",
       "</style>\n",
       "<table border=\"1\" class=\"dataframe\">\n",
       "  <thead>\n",
       "    <tr style=\"text-align: right;\">\n",
       "      <th></th>\n",
       "      <th>col_nm</th>\n",
       "      <th>class</th>\n",
       "      <th>count</th>\n",
       "      <th>ratio</th>\n",
       "    </tr>\n",
       "  </thead>\n",
       "  <tbody>\n",
       "    <tr>\n",
       "      <th>0</th>\n",
       "      <td>Recency</td>\n",
       "      <td>1.0</td>\n",
       "      <td>9519</td>\n",
       "      <td>0.87</td>\n",
       "    </tr>\n",
       "    <tr>\n",
       "      <th>1</th>\n",
       "      <td>Recency</td>\n",
       "      <td>2.0</td>\n",
       "      <td>1367</td>\n",
       "      <td>0.13</td>\n",
       "    </tr>\n",
       "    <tr>\n",
       "      <th>2</th>\n",
       "      <td>Frequency</td>\n",
       "      <td>1.0</td>\n",
       "      <td>1229</td>\n",
       "      <td>0.11</td>\n",
       "    </tr>\n",
       "    <tr>\n",
       "      <th>3</th>\n",
       "      <td>Frequency</td>\n",
       "      <td>2.0</td>\n",
       "      <td>631</td>\n",
       "      <td>0.06</td>\n",
       "    </tr>\n",
       "    <tr>\n",
       "      <th>4</th>\n",
       "      <td>Frequency</td>\n",
       "      <td>3.0</td>\n",
       "      <td>9026</td>\n",
       "      <td>0.83</td>\n",
       "    </tr>\n",
       "  </tbody>\n",
       "</table>\n",
       "</div>"
      ],
      "text/plain": [
       "      col_nm  class  count  ratio\n",
       "0    Recency    1.0   9519   0.87\n",
       "1    Recency    2.0   1367   0.13\n",
       "2  Frequency    1.0   1229   0.11\n",
       "3  Frequency    2.0    631   0.06\n",
       "4  Frequency    3.0   9026   0.83"
      ]
     },
     "execution_count": 106,
     "metadata": {},
     "output_type": "execute_result"
    }
   ],
   "source": [
    "DA4 = DA_cat(df, col_cat)\n",
    "DA4"
   ]
  },
  {
   "cell_type": "markdown",
   "metadata": {},
   "source": [
    "### 변수 제외"
   ]
  },
  {
   "cell_type": "code",
   "execution_count": 107,
   "metadata": {
    "ExecuteTime": {
     "end_time": "2020-12-09T11:44:08.386014Z",
     "start_time": "2020-12-09T11:44:08.380045Z"
    }
   },
   "outputs": [],
   "source": [
    "df = df.drop(columns = ['Recency'], axis=1)"
   ]
  },
  {
   "cell_type": "markdown",
   "metadata": {},
   "source": [
    "### EDA"
   ]
  },
  {
   "cell_type": "code",
   "execution_count": null,
   "metadata": {},
   "outputs": [],
   "source": [
    "# 범주형 X별 y의 평균\n",
    "sns.barplot(x ='season', y = 'windspeed', data = df)"
   ]
  },
  {
   "cell_type": "code",
   "execution_count": null,
   "metadata": {},
   "outputs": [],
   "source": [
    "# 범주형(또는 가지수가 많지 않은 연속형) 변수의 데이터별 count\n",
    "sns.countplot(y = 'holiday', data = df)"
   ]
  },
  {
   "cell_type": "code",
   "execution_count": 108,
   "metadata": {
    "ExecuteTime": {
     "end_time": "2020-12-09T11:44:19.406643Z",
     "start_time": "2020-12-09T11:44:14.800893Z"
    }
   },
   "outputs": [
    {
     "data": {
      "text/plain": [
       "<AxesSubplot:xlabel='date', ylabel='temp'>"
      ]
     },
     "execution_count": 108,
     "metadata": {},
     "output_type": "execute_result"
    },
    {
     "data": {
      "image/png": "[encoded data removed]",
      "text/plain": [
       "<Figure size 432x288 with 1 Axes>"
      ]
     },
     "metadata": {
      "needs_background": "light"
     },
     "output_type": "display_data"
    }
   ],
   "source": [
    "sns.lineplot(x = df.index, y = 'temp', data = df)"
   ]
  },
  {
   "cell_type": "code",
   "execution_count": 109,
   "metadata": {
    "ExecuteTime": {
     "end_time": "2020-12-09T11:44:19.806543Z",
     "start_time": "2020-12-09T11:44:19.526824Z"
    }
   },
   "outputs": [
    {
     "data": {
      "text/plain": [
       "<AxesSubplot:xlabel='temp', ylabel='count'>"
      ]
     },
     "execution_count": 109,
     "metadata": {},
     "output_type": "execute_result"
    },
    {
     "data": {
      "image/png": "[encoded data removed]",
      "text/plain": [
       "<Figure size 432x288 with 1 Axes>"
      ]
     },
     "metadata": {
      "needs_background": "light"
     },
     "output_type": "display_data"
    }
   ],
   "source": [
    "sns.scatterplot(x = 'temp', y = 'count', data = df)"
   ]
  },
  {
   "cell_type": "markdown",
   "metadata": {},
   "source": [
    "## 종속변수 분포 확인 및 전처리"
   ]
  },
  {
   "cell_type": "code",
   "execution_count": 110,
   "metadata": {
    "ExecuteTime": {
     "end_time": "2020-12-09T11:49:00.524532Z",
     "start_time": "2020-12-09T11:49:00.257398Z"
    }
   },
   "outputs": [
    {
     "data": {
      "text/plain": [
       "<AxesSubplot:ylabel='Frequency'>"
      ]
     },
     "execution_count": 110,
     "metadata": {},
     "output_type": "execute_result"
    },
    {
     "data": {
      "image/png": "[encoded data removed]",
      "text/plain": [
       "<Figure size 432x288 with 1 Axes>"
      ]
     },
     "metadata": {
      "needs_background": "light"
     },
     "output_type": "display_data"
    }
   ],
   "source": [
    "df['count'].plot(kind='hist')"
   ]
  },
  {
   "cell_type": "code",
   "execution_count": 111,
   "metadata": {
    "ExecuteTime": {
     "end_time": "2020-12-09T11:49:10.544151Z",
     "start_time": "2020-12-09T11:49:10.538583Z"
    }
   },
   "outputs": [],
   "source": [
    "df['y2'] = np.log1p(df['count']) # inverse 는 np.expm1()"
   ]
  },
  {
   "cell_type": "code",
   "execution_count": 112,
   "metadata": {
    "ExecuteTime": {
     "end_time": "2020-12-09T11:49:19.321364Z",
     "start_time": "2020-12-09T11:49:19.105407Z"
    }
   },
   "outputs": [
    {
     "data": {
      "text/plain": [
       "<AxesSubplot:ylabel='Frequency'>"
      ]
     },
     "execution_count": 112,
     "metadata": {},
     "output_type": "execute_result"
    },
    {
     "data": {
      "image/png": "[encoded data removed]",
      "text/plain": [
       "<Figure size 432x288 with 1 Axes>"
      ]
     },
     "metadata": {
      "needs_background": "light"
     },
     "output_type": "display_data"
    }
   ],
   "source": [
    "df['y2'].plot(kind='hist')"
   ]
  },
  {
   "cell_type": "code",
   "execution_count": 113,
   "metadata": {
    "ExecuteTime": {
     "end_time": "2020-12-09T11:51:42.709895Z",
     "start_time": "2020-12-09T11:51:42.696902Z"
    }
   },
   "outputs": [
    {
     "name": "stdout",
     "output_type": "stream",
     "text": [
      "<class 'pandas.core.frame.DataFrame'>\n",
      "DatetimeIndex: 10886 entries, 2011-01-01 00:00:00 to 2012-12-19 23:00:00\n",
      "Data columns (total 7 columns):\n",
      " #   Column     Non-Null Count  Dtype  \n",
      "---  ------     --------------  -----  \n",
      " 0   temp       10886 non-null  float64\n",
      " 1   humidity   10886 non-null  float64\n",
      " 2   windspeed  10886 non-null  float64\n",
      " 3   count      10886 non-null  float64\n",
      " 4   Frequency  10886 non-null  float64\n",
      " 5   Monetary   10886 non-null  float64\n",
      " 6   y2         10886 non-null  float64\n",
      "dtypes: float64(7)\n",
      "memory usage: 680.4 KB\n"
     ]
    }
   ],
   "source": [
    "df.info()"
   ]
  },
  {
   "cell_type": "code",
   "execution_count": 114,
   "metadata": {
    "ExecuteTime": {
     "end_time": "2020-12-09T11:51:55.080776Z",
     "start_time": "2020-12-09T11:51:55.065619Z"
    }
   },
   "outputs": [
    {
     "data": {
      "text/html": [
       "<div>\n",
       "<style scoped>\n",
       "    .dataframe tbody tr th:only-of-type {\n",
       "        vertical-align: middle;\n",
       "    }\n",
       "\n",
       "    .dataframe tbody tr th {\n",
       "        vertical-align: top;\n",
       "    }\n",
       "\n",
       "    .dataframe thead th {\n",
       "        text-align: right;\n",
       "    }\n",
       "</style>\n",
       "<table border=\"1\" class=\"dataframe\">\n",
       "  <thead>\n",
       "    <tr style=\"text-align: right;\">\n",
       "      <th></th>\n",
       "      <th>temp</th>\n",
       "      <th>humidity</th>\n",
       "      <th>windspeed</th>\n",
       "      <th>count</th>\n",
       "      <th>Frequency</th>\n",
       "      <th>Monetary</th>\n",
       "      <th>y2</th>\n",
       "    </tr>\n",
       "    <tr>\n",
       "      <th>date</th>\n",
       "      <th></th>\n",
       "      <th></th>\n",
       "      <th></th>\n",
       "      <th></th>\n",
       "      <th></th>\n",
       "      <th></th>\n",
       "      <th></th>\n",
       "    </tr>\n",
       "  </thead>\n",
       "  <tbody>\n",
       "    <tr>\n",
       "      <th>2011-01-01 00:00:00</th>\n",
       "      <td>9.84</td>\n",
       "      <td>81.0</td>\n",
       "      <td>0.0</td>\n",
       "      <td>16.0</td>\n",
       "      <td>2.0</td>\n",
       "      <td>157.44</td>\n",
       "      <td>2.833213</td>\n",
       "    </tr>\n",
       "    <tr>\n",
       "      <th>2011-01-01 01:00:00</th>\n",
       "      <td>9.02</td>\n",
       "      <td>80.0</td>\n",
       "      <td>0.0</td>\n",
       "      <td>40.0</td>\n",
       "      <td>3.0</td>\n",
       "      <td>360.80</td>\n",
       "      <td>3.713572</td>\n",
       "    </tr>\n",
       "    <tr>\n",
       "      <th>2011-01-01 02:00:00</th>\n",
       "      <td>9.02</td>\n",
       "      <td>80.0</td>\n",
       "      <td>0.0</td>\n",
       "      <td>32.0</td>\n",
       "      <td>3.0</td>\n",
       "      <td>288.64</td>\n",
       "      <td>3.496508</td>\n",
       "    </tr>\n",
       "  </tbody>\n",
       "</table>\n",
       "</div>"
      ],
      "text/plain": [
       "                     temp  humidity  windspeed  count  Frequency  Monetary  \\\n",
       "date                                                                         \n",
       "2011-01-01 00:00:00  9.84      81.0        0.0   16.0        2.0    157.44   \n",
       "2011-01-01 01:00:00  9.02      80.0        0.0   40.0        3.0    360.80   \n",
       "2011-01-01 02:00:00  9.02      80.0        0.0   32.0        3.0    288.64   \n",
       "\n",
       "                           y2  \n",
       "date                           \n",
       "2011-01-01 00:00:00  2.833213  \n",
       "2011-01-01 01:00:00  3.713572  \n",
       "2011-01-01 02:00:00  3.496508  "
      ]
     },
     "execution_count": 114,
     "metadata": {},
     "output_type": "execute_result"
    }
   ],
   "source": [
    "df.head(3)"
   ]
  },
  {
   "cell_type": "code",
   "execution_count": 118,
   "metadata": {
    "ExecuteTime": {
     "end_time": "2020-12-09T11:56:08.516296Z",
     "start_time": "2020-12-09T11:56:08.496245Z"
    }
   },
   "outputs": [],
   "source": [
    "import statsmodels.api as sm\n",
    "from patsy import dmatrices\n",
    "\n",
    "y, X = dmatrices('y2 ~ temp + humidity + windspeed + Frequency + Monetary', data=df, return_type='dataframe')"
   ]
  },
  {
   "cell_type": "markdown",
   "metadata": {},
   "source": [
    "## VIF 확인 필요 (y값 섞여들어가지 않게 주의!!)"
   ]
  },
  {
   "cell_type": "code",
   "execution_count": 119,
   "metadata": {
    "ExecuteTime": {
     "end_time": "2020-12-09T11:56:38.888808Z",
     "start_time": "2020-12-09T11:56:38.843991Z"
    }
   },
   "outputs": [
    {
     "data": {
      "text/html": [
       "<div>\n",
       "<style scoped>\n",
       "    .dataframe tbody tr th:only-of-type {\n",
       "        vertical-align: middle;\n",
       "    }\n",
       "\n",
       "    .dataframe tbody tr th {\n",
       "        vertical-align: top;\n",
       "    }\n",
       "\n",
       "    .dataframe thead th {\n",
       "        text-align: right;\n",
       "    }\n",
       "</style>\n",
       "<table border=\"1\" class=\"dataframe\">\n",
       "  <thead>\n",
       "    <tr style=\"text-align: right;\">\n",
       "      <th></th>\n",
       "      <th>VIF Factor</th>\n",
       "      <th>features</th>\n",
       "    </tr>\n",
       "  </thead>\n",
       "  <tbody>\n",
       "    <tr>\n",
       "      <th>0</th>\n",
       "      <td>47.765907</td>\n",
       "      <td>Intercept</td>\n",
       "    </tr>\n",
       "    <tr>\n",
       "      <th>1</th>\n",
       "      <td>1.576327</td>\n",
       "      <td>temp</td>\n",
       "    </tr>\n",
       "    <tr>\n",
       "      <th>2</th>\n",
       "      <td>1.257986</td>\n",
       "      <td>humidity</td>\n",
       "    </tr>\n",
       "    <tr>\n",
       "      <th>3</th>\n",
       "      <td>1.116640</td>\n",
       "      <td>windspeed</td>\n",
       "    </tr>\n",
       "    <tr>\n",
       "      <th>4</th>\n",
       "      <td>1.180948</td>\n",
       "      <td>Frequency</td>\n",
       "    </tr>\n",
       "    <tr>\n",
       "      <th>5</th>\n",
       "      <td>1.860919</td>\n",
       "      <td>Monetary</td>\n",
       "    </tr>\n",
       "  </tbody>\n",
       "</table>\n",
       "</div>"
      ],
      "text/plain": [
       "   VIF Factor   features\n",
       "0   47.765907  Intercept\n",
       "1    1.576327       temp\n",
       "2    1.257986   humidity\n",
       "3    1.116640  windspeed\n",
       "4    1.180948  Frequency\n",
       "5    1.860919   Monetary"
      ]
     },
     "execution_count": 119,
     "metadata": {},
     "output_type": "execute_result"
    }
   ],
   "source": [
    "from statsmodels.stats.outliers_influence import variance_inflation_factor\n",
    "\n",
    "vif = pd.DataFrame()\n",
    "vif['VIF Factor'] = [variance_inflation_factor(X.values, i) for i in range(X.shape[1])]\n",
    "vif['features'] = X.columns\n",
    "vif"
   ]
  },
  {
   "cell_type": "markdown",
   "metadata": {},
   "source": [
    "## train, test split"
   ]
  },
  {
   "cell_type": "code",
   "execution_count": 120,
   "metadata": {
    "ExecuteTime": {
     "end_time": "2020-12-09T12:01:26.339180Z",
     "start_time": "2020-12-09T12:01:26.328209Z"
    }
   },
   "outputs": [],
   "source": [
    "from sklearn.model_selection import train_test_split\n",
    "X_train, X_test, y_train, y_test = train_test_split(X, y, test_size=0.3, random_state=0)"
   ]
  },
  {
   "cell_type": "markdown",
   "metadata": {},
   "source": [
    "## StandardScaler"
   ]
  },
  {
   "cell_type": "code",
   "execution_count": 121,
   "metadata": {
    "ExecuteTime": {
     "end_time": "2020-12-09T12:01:32.687415Z",
     "start_time": "2020-12-09T12:01:32.683611Z"
    }
   },
   "outputs": [],
   "source": [
    "from sklearn.preprocessing import StandardScaler\n",
    "scaler = StandardScaler()"
   ]
  },
  {
   "cell_type": "code",
   "execution_count": 122,
   "metadata": {
    "ExecuteTime": {
     "end_time": "2020-12-09T12:01:33.117289Z",
     "start_time": "2020-12-09T12:01:33.100270Z"
    }
   },
   "outputs": [],
   "source": [
    "scaler.fit(X_train)\n",
    "X_train_scale = scaler.transform(X_train)\n",
    "X_test_scale = scaler.transform(X_test)"
   ]
  },
  {
   "cell_type": "code",
   "execution_count": 123,
   "metadata": {
    "ExecuteTime": {
     "end_time": "2020-12-09T12:01:33.277148Z",
     "start_time": "2020-12-09T12:01:33.272161Z"
    }
   },
   "outputs": [],
   "source": [
    "# 컬럼명 다시 붙여주기\n",
    "X_train_scale = pd.DataFrame(X_train_scale, columns = X_train.columns)\n",
    "X_test_scale = pd.DataFrame(X_test_scale, columns = X_test.columns)"
   ]
  },
  {
   "cell_type": "markdown",
   "metadata": {},
   "source": [
    "## 군집화 수행"
   ]
  },
  {
   "cell_type": "code",
   "execution_count": 124,
   "metadata": {
    "ExecuteTime": {
     "end_time": "2020-12-09T12:02:05.948026Z",
     "start_time": "2020-12-09T12:02:05.624169Z"
    }
   },
   "outputs": [],
   "source": [
    "# X_train_scale, X_test_scale, y_train, y_test가 현재 변수\n",
    "\n",
    "from sklearn.cluster import KMeans\n",
    "\n",
    "def elbow(X):\n",
    "    sse = []\n",
    "    for i in range(1, 11) :\n",
    "        km = KMeans(n_clusters=i, init ='k-means++', random_state = 0)\n",
    "        km.fit(X)\n",
    "        sse.append(km.inertia_)\n",
    "        \n",
    "    plt.plot(range(1, 11), sse, marker='o')\n",
    "    plt.xlabel('n_clusters')\n",
    "    plt.ylabel('SSE')\n",
    "    plt.show()"
   ]
  },
  {
   "cell_type": "code",
   "execution_count": 125,
   "metadata": {
    "ExecuteTime": {
     "end_time": "2020-12-09T12:02:14.981932Z",
     "start_time": "2020-12-09T12:02:10.879245Z"
    }
   },
   "outputs": [
    {
     "data": {
      "image/png": "[encoded data removed]",
      "text/plain": [
       "<Figure size 432x288 with 1 Axes>"
      ]
     },
     "metadata": {
      "needs_background": "light"
     },
     "output_type": "display_data"
    }
   ],
   "source": [
    "elbow(X_train_scale)"
   ]
  },
  {
   "cell_type": "code",
   "execution_count": 126,
   "metadata": {
    "ExecuteTime": {
     "end_time": "2020-12-09T12:02:33.625004Z",
     "start_time": "2020-12-09T12:02:16.310958Z"
    }
   },
   "outputs": [
    {
     "name": "stdout",
     "output_type": "stream",
     "text": [
      "[0.24  0.282 0.283 0.248 0.236 0.229 0.22  0.219 0.213]\n"
     ]
    }
   ],
   "source": [
    "from sklearn.metrics import silhouette_samples, silhouette_score\n",
    "\n",
    "def sil(X):\n",
    "    si = [] # 실루엣계수\n",
    "    for i in range(2,11): # cluster가 2개인것 부터 10개까지!!!!\n",
    "        km = KMeans(n_clusters=i, init='k-means++', random_state=0)\n",
    "        km.fit(X)\n",
    "        si.append(silhouette_score(X, km.labels_))\n",
    "    print(np.round(si,3))\n",
    "sil(X_train_scale)"
   ]
  },
  {
   "cell_type": "markdown",
   "metadata": {},
   "source": [
    "### 군집 수 직접 지정해서 군집화"
   ]
  },
  {
   "cell_type": "code",
   "execution_count": 127,
   "metadata": {
    "ExecuteTime": {
     "end_time": "2020-12-09T12:02:34.005070Z",
     "start_time": "2020-12-09T12:02:33.829062Z"
    }
   },
   "outputs": [
    {
     "data": {
      "text/plain": [
       "KMeans(n_clusters=4, random_state=0)"
      ]
     },
     "execution_count": 127,
     "metadata": {},
     "output_type": "execute_result"
    }
   ],
   "source": [
    "kmeans = KMeans(n_clusters=4, init='k-means++', max_iter=300,random_state=0)\n",
    "kmeans.fit(X_train_scale)"
   ]
  },
  {
   "cell_type": "markdown",
   "metadata": {},
   "source": [
    "## 군집화 결과 프로파일링"
   ]
  },
  {
   "cell_type": "code",
   "execution_count": 128,
   "metadata": {
    "ExecuteTime": {
     "end_time": "2020-12-09T12:04:31.407631Z",
     "start_time": "2020-12-09T12:04:31.400649Z"
    }
   },
   "outputs": [],
   "source": [
    "# 스케일링 풀고 프로파일링\n",
    "\n",
    "df_profile = pd.DataFrame(scaler.inverse_transform(X_train_scale), columns = X_train.columns)\n",
    "df_profile['kmeans'] = kmeans.labels_"
   ]
  },
  {
   "cell_type": "code",
   "execution_count": 130,
   "metadata": {
    "ExecuteTime": {
     "end_time": "2020-12-09T12:05:38.342552Z",
     "start_time": "2020-12-09T12:05:37.846937Z"
    }
   },
   "outputs": [
    {
     "data": {
      "text/plain": [
       "<AxesSubplot:xlabel='kmeans', ylabel='windspeed'>"
      ]
     },
     "execution_count": 130,
     "metadata": {},
     "output_type": "execute_result"
    },
    {
     "data": {
      "image/png": "[encoded data removed]",
      "text/plain": [
       "<Figure size 432x288 with 1 Axes>"
      ]
     },
     "metadata": {
      "needs_background": "light"
     },
     "output_type": "display_data"
    }
   ],
   "source": [
    "sns.barplot(df_profile['kmeans'], df_profile['windspeed'])"
   ]
  },
  {
   "cell_type": "code",
   "execution_count": 132,
   "metadata": {
    "ExecuteTime": {
     "end_time": "2020-12-09T12:07:12.469296Z",
     "start_time": "2020-12-09T12:07:11.942772Z"
    }
   },
   "outputs": [
    {
     "data": {
      "text/plain": [
       "<AxesSubplot:xlabel='kmeans', ylabel='Monetary'>"
      ]
     },
     "execution_count": 132,
     "metadata": {},
     "output_type": "execute_result"
    },
    {
     "data": {
      "image/png": "[encoded data removed]",
      "text/plain": [
       "<Figure size 432x288 with 1 Axes>"
      ]
     },
     "metadata": {
      "needs_background": "light"
     },
     "output_type": "display_data"
    }
   ],
   "source": [
    "sns.barplot(df_profile['kmeans'], df_profile['Monetary'])"
   ]
  },
  {
   "cell_type": "markdown",
   "metadata": {},
   "source": [
    "## 군집화 결과를 새로운 컬럼으로 추가(train, test 모두 수행)"
   ]
  },
  {
   "cell_type": "code",
   "execution_count": 133,
   "metadata": {
    "ExecuteTime": {
     "end_time": "2020-12-09T12:08:35.487376Z",
     "start_time": "2020-12-09T12:08:35.483126Z"
    }
   },
   "outputs": [],
   "source": [
    "X_train_scale['kmeans'] = kmeans.labels_"
   ]
  },
  {
   "cell_type": "code",
   "execution_count": 134,
   "metadata": {
    "ExecuteTime": {
     "end_time": "2020-12-09T12:08:35.639996Z",
     "start_time": "2020-12-09T12:08:35.624079Z"
    }
   },
   "outputs": [],
   "source": [
    "kmeans_test = kmeans.predict(X_test_scale)\n",
    "X_test_scale['kmeans'] = kmeans_test"
   ]
  },
  {
   "cell_type": "markdown",
   "metadata": {},
   "source": [
    "## 모델링"
   ]
  },
  {
   "cell_type": "code",
   "execution_count": 136,
   "metadata": {
    "ExecuteTime": {
     "end_time": "2020-12-09T12:13:44.309248Z",
     "start_time": "2020-12-09T12:13:44.095231Z"
    }
   },
   "outputs": [],
   "source": [
    "from sklearn.linear_model import Ridge, Lasso, ElasticNet, HuberRegressor\n",
    "from sklearn.tree import DecisionTreeRegressor\n",
    "from sklearn.ensemble import RandomForestRegressor\n",
    "from sklearn.neighbors import KNeighborsRegressor\n",
    "from sklearn.kernel_ridge import KernelRidge\n",
    "from sklearn.neural_network import MLPRegressor\n",
    "from sklearn.svm import SVR\n",
    "\n",
    "from sklearn.model_selection import GridSearchCV, train_test_split, KFold, cross_val_score\n",
    "from sklearn.pipeline import Pipeline\n",
    "from sklearn.preprocessing import StandardScaler"
   ]
  },
  {
   "cell_type": "code",
   "execution_count": 137,
   "metadata": {
    "ExecuteTime": {
     "end_time": "2020-12-09T12:13:47.537352Z",
     "start_time": "2020-12-09T12:13:47.529373Z"
    }
   },
   "outputs": [],
   "source": [
    "models = []\n",
    "models.append(('Ridge', Ridge()))\n",
    "models.append(('Lasso', Lasso()))\n",
    "models.append(('ElasticNet', ElasticNet()))\n",
    "models.append(('Huber', HuberRegressor()))\n",
    "models.append(('DT', DecisionTreeRegressor()))\n",
    "models.append(('RF', RandomForestRegressor()))\n",
    "models.append(('KNN', KNeighborsRegressor()))\n",
    "models.append(('KernelRidge', KernelRidge()))\n",
    "models.append(('MLP', MLPRegressor()))\n",
    "models.append(('SVR', SVR()))"
   ]
  },
  {
   "cell_type": "code",
   "execution_count": 138,
   "metadata": {
    "ExecuteTime": {
     "end_time": "2020-12-09T12:13:53.188236Z",
     "start_time": "2020-12-09T12:13:53.179241Z"
    }
   },
   "outputs": [
    {
     "data": {
      "text/plain": [
       "[('Ridge', Ridge()),\n",
       " ('Lasso', Lasso()),\n",
       " ('ElasticNet', ElasticNet()),\n",
       " ('Huber', HuberRegressor()),\n",
       " ('DT', DecisionTreeRegressor()),\n",
       " ('RF', RandomForestRegressor()),\n",
       " ('KNN', KNeighborsRegressor()),\n",
       " ('KernelRidge', KernelRidge()),\n",
       " ('MLP', MLPRegressor()),\n",
       " ('SVR', SVR())]"
      ]
     },
     "execution_count": 138,
     "metadata": {},
     "output_type": "execute_result"
    }
   ],
   "source": [
    "models"
   ]
  },
  {
   "cell_type": "code",
   "execution_count": 139,
   "metadata": {
    "ExecuteTime": {
     "end_time": "2020-12-09T12:13:56.150279Z",
     "start_time": "2020-12-09T12:13:56.146291Z"
    }
   },
   "outputs": [],
   "source": [
    "num_folds = 5\n",
    "seed = 7"
   ]
  },
  {
   "cell_type": "code",
   "execution_count": 143,
   "metadata": {
    "ExecuteTime": {
     "end_time": "2020-12-09T12:17:15.559881Z",
     "start_time": "2020-12-09T12:16:03.933554Z"
    }
   },
   "outputs": [
    {
     "name": "stdout",
     "output_type": "stream",
     "text": [
      "Ridge 0.88372\n",
      "Lasso 0.16192\n",
      "ElasticNet 0.56008\n",
      "Huber 0.87945\n",
      "DT 0.9986\n",
      "RF 0.99925\n",
      "KNN 0.95446\n",
      "KernelRidge -0.4884\n",
      "MLP 0.98492\n",
      "SVR 0.9748\n"
     ]
    }
   ],
   "source": [
    "names = []\n",
    "results = []\n",
    "\n",
    "kfold = KFold(n_splits = num_folds, shuffle = True, random_state=seed)\n",
    "\n",
    "for name, model in models: # 에러나면 .values.ravel() 빼고  y_train으로 해보기\n",
    "    score = cross_val_score(model, X_train_scale, y_train.values.ravel(), cv = kfold)\n",
    "    names.append(name)\n",
    "    results.append(score)\n",
    "    print(name, score.mean().round(5))"
   ]
  },
  {
   "cell_type": "code",
   "execution_count": 142,
   "metadata": {
    "ExecuteTime": {
     "end_time": "2020-12-09T12:15:40.212074Z",
     "start_time": "2020-12-09T12:15:39.920265Z"
    }
   },
   "outputs": [
    {
     "name": "stderr",
     "output_type": "stream",
     "text": [
      "C:\\Users\\50008313\\AppData\\Local\\Continuum\\anaconda3\\lib\\site-packages\\matplotlib\\backends\\backend_agg.py:238: RuntimeWarning: Glyph 8722 missing from current font.\n",
      "  font.set_text(s, 0.0, flags=flags)\n",
      "C:\\Users\\50008313\\AppData\\Local\\Continuum\\anaconda3\\lib\\site-packages\\matplotlib\\backends\\backend_agg.py:201: RuntimeWarning: Glyph 8722 missing from current font.\n",
      "  font.set_text(s, 0, flags=flags)\n"
     ]
    },
    {
     "data": {
      "image/png": "[encoded data removed]",
      "text/plain": [
       "<Figure size 432x288 with 1 Axes>"
      ]
     },
     "metadata": {
      "needs_background": "light"
     },
     "output_type": "display_data"
    }
   ],
   "source": [
    "fig = plt.figure()\n",
    "fig.suptitle('Algorithm Comparison')\n",
    "ax = fig.add_subplot(111)\n",
    "plt.boxplot(results)\n",
    "ax.set_xticklabels(names)\n",
    "plt.show()"
   ]
  },
  {
   "cell_type": "markdown",
   "metadata": {
    "ExecuteTime": {
     "end_time": "2020-12-09T12:17:15.856431Z",
     "start_time": "2020-12-09T12:17:15.850288Z"
    }
   },
   "source": [
    "============ 여기는 GridSearchCV 참고 내용"
   ]
  },
  {
   "cell_type": "code",
   "execution_count": null,
   "metadata": {},
   "outputs": [],
   "source": [
    "models = []\n",
    "params = []"
   ]
  },
  {
   "cell_type": "code",
   "execution_count": null,
   "metadata": {},
   "outputs": [],
   "source": [
    "model = ('Ridge', Ridge())\n",
    "param = {\n",
    "    'alpha': [0.1, 0.3, 0.5, 1.0, 3.0, 5.0, 10.0]\n",
    "}\n",
    "\n",
    "models.append(model)\n",
    "params.append(param)"
   ]
  },
  {
   "cell_type": "code",
   "execution_count": null,
   "metadata": {},
   "outputs": [],
   "source": [
    "model = ('Lasso', Lasso())\n",
    "param = {\n",
    "    'alpha': [0.1, 0.3, 0.5, 1.0, 3.0, 5.0, 10.0]\n",
    "}\n",
    "\n",
    "models.append(model)\n",
    "params.append(param)"
   ]
  },
  {
   "cell_type": "code",
   "execution_count": null,
   "metadata": {},
   "outputs": [],
   "source": [
    "model = ('ElasticNet', ElasticNet())\n",
    "param = {\n",
    "    'alpha': [0.1, 0.3, 0.5, 1.0, 3.0, 5.0, 10.0],\n",
    "    'l1_ratio': [0.3, 0.5, 0.7]\n",
    "}\n",
    "\n",
    "models.append(model)\n",
    "params.append(param)"
   ]
  },
  {
   "cell_type": "code",
   "execution_count": null,
   "metadata": {},
   "outputs": [],
   "source": [
    "model = ('HuberReg', HuberRegressor())\n",
    "param = {\n",
    "    'alpha': [0.0001, 0.001, 0.01]\n",
    "}\n",
    "\n",
    "models.append(model)\n",
    "params.append(param)"
   ]
  },
  {
   "cell_type": "code",
   "execution_count": null,
   "metadata": {},
   "outputs": [],
   "source": [
    "model = ('CART', DecisionTreeRegressor())\n",
    "param = {\n",
    "    'max_depth': [2, 3, 4, 5],\n",
    "    'min_samples_split': [0.02, 0.05]\n",
    "}\n",
    "\n",
    "models.append(model)\n",
    "params.append(param)"
   ]
  },
  {
   "cell_type": "code",
   "execution_count": null,
   "metadata": {},
   "outputs": [],
   "source": [
    "model = ('RandomForest', RandomForestRegressor())\n",
    "param = {\n",
    "    'n_estimators': [50, 60, 70, 80, 90, 100],\n",
    "    'max_features': [6, 7, 8, 9, 10]\n",
    "}\n",
    "\n",
    "models.append(model)\n",
    "params.append(param)"
   ]
  },
  {
   "cell_type": "code",
   "execution_count": null,
   "metadata": {},
   "outputs": [],
   "source": [
    "model = ('KNN', KNeighborsRegressor())\n",
    "param = {\n",
    "    'KNN__n_neighbors': [5, 10, 15, 20, 25, 30],\n",
    "    'KNN__weights': ['uniform', 'distance']\n",
    "}\n",
    "\n",
    "models.append(model)\n",
    "params.append(param)"
   ]
  },
  {
   "cell_type": "code",
   "execution_count": null,
   "metadata": {},
   "outputs": [],
   "source": [
    "model = ('KernelRidge', KernelRidge())\n",
    "param = [\n",
    "    {'kernel': ['linear'], 'alpha': [0.01, 0.05, 0.1, 0.5, 1.0]},\n",
    "    {'kernel': ['rbf'], 'alpha': [0.01, 0.05, 0.1, 0.5, 1.0], 'gamma': [0.01, 0.05, 0.1, 0.5, 1.0, 5.0, 10.0]}\n",
    "]\n",
    "\n",
    "models.append(model)\n",
    "params.append(param)"
   ]
  },
  {
   "cell_type": "code",
   "execution_count": null,
   "metadata": {},
   "outputs": [],
   "source": [
    "model = ('MLP', MLPRegressor())\n",
    "param = {\n",
    "    'hidden_layer_sizes': [(50, ), (100, ), (50, 50), (100, 100)],\n",
    "    'solver': ['lbfgs'],\n",
    "    'alpha': [0.0001, 0.001, 0.005],\n",
    "    'max_iter': [200, 300, 400]\n",
    "}\n",
    "\n",
    "models.append(model)\n",
    "params.append(param)"
   ]
  },
  {
   "cell_type": "code",
   "execution_count": null,
   "metadata": {},
   "outputs": [],
   "source": [
    "model = ('SVR', SVR())\n",
    "param = [\n",
    "    {'kernel': ['linear'], 'C': [1.0, 10.0, 50.0, 100.0]},\n",
    "    {'kernel': ['rbf'], 'C': [1.0, 10.0, 50.0, 100.0], 'gamma': [0.01, 0.05, 0.1, 0.5, 1.0]},\n",
    "    {'kernel': ['poly'], 'C': [1.0, 10.0, 50.0, 100.0], 'degree': [3, 4, 5]}\n",
    "]\n",
    "\n",
    "models.append(model)\n",
    "params.append(param)"
   ]
  },
  {
   "cell_type": "markdown",
   "metadata": {},
   "source": [
    "## 파라미터 튜닝 및 최종 모델 선정"
   ]
  },
  {
   "cell_type": "code",
   "execution_count": null,
   "metadata": {
    "ExecuteTime": {
     "end_time": "2020-12-09T12:40:13.375707Z",
     "start_time": "2020-12-09T12:38:51.009679Z"
    }
   },
   "outputs": [],
   "source": [
    "model = RandomForestRegressor()\n",
    "\n",
    "n_estimators_set = [50, 60, 70, 80, 90, 100]\n",
    "max_features_set = [6, 7, 8, 9, 10]\n",
    "param_grid = dict(n_estimators = n_estimators_set,\n",
    "                 max_features = max_features_set)\n",
    "\n",
    "grid = GridSearchCV(estimator=model, param_grid=param_grid, cv=kfold)\n",
    "grid_result = grid.fit(X_train_scale, y_train.values.ravel())  # 에러나면 .values.ravel() 빼고  y_train으로 해보기\n",
    "print('Best : %f using %s' % (grid_result.best_score_, grid_result.best_params_))\n",
    "\n",
    "a = grid_result.cv_results_\n",
    "\n",
    "for i in range(len(a['rank_test_score'])):\n",
    "    print('%f (%f) with: %r' %(a['mean_test_score'][i], a['std_test_score'][i], a['params'][i]))\n",
    "\n",
    "# for params, mean_score, scores in grid_result.cv_results_:  ## 얘 에러난다\n",
    "#     print('%f (%f) with: %r' %(mean_test_score.mean(), std_test_score.mean(), params))"
   ]
  },
  {
   "cell_type": "code",
   "execution_count": 156,
   "metadata": {
    "ExecuteTime": {
     "end_time": "2020-12-09T12:40:13.660734Z",
     "start_time": "2020-12-09T12:40:13.644693Z"
    }
   },
   "outputs": [
    {
     "name": "stdout",
     "output_type": "stream",
     "text": [
      "best params:  {'max_features': 7, 'n_estimators': 50}\n"
     ]
    },
    {
     "data": {
      "text/plain": [
       "array([0.00000000e+00, 3.16966872e-02, 1.46239923e-04, 1.14957090e-04,\n",
       "       1.11716386e-01, 8.56316024e-01, 9.70581592e-06])"
      ]
     },
     "execution_count": 156,
     "metadata": {},
     "output_type": "execute_result"
    }
   ],
   "source": [
    "fine_tuned_RF = grid_result.best_estimator_\n",
    "print('best params: ', grid_result.best_params_)\n",
    "fine_tuned_RF.feature_importances_"
   ]
  },
  {
   "cell_type": "code",
   "execution_count": 157,
   "metadata": {
    "ExecuteTime": {
     "end_time": "2020-12-09T12:40:13.683236Z",
     "start_time": "2020-12-09T12:40:13.662651Z"
    }
   },
   "outputs": [
    {
     "data": {
      "text/html": [
       "<div>\n",
       "<style scoped>\n",
       "    .dataframe tbody tr th:only-of-type {\n",
       "        vertical-align: middle;\n",
       "    }\n",
       "\n",
       "    .dataframe tbody tr th {\n",
       "        vertical-align: top;\n",
       "    }\n",
       "\n",
       "    .dataframe thead th {\n",
       "        text-align: right;\n",
       "    }\n",
       "</style>\n",
       "<table border=\"1\" class=\"dataframe\">\n",
       "  <thead>\n",
       "    <tr style=\"text-align: right;\">\n",
       "      <th></th>\n",
       "      <th>col</th>\n",
       "      <th>FI</th>\n",
       "    </tr>\n",
       "  </thead>\n",
       "  <tbody>\n",
       "    <tr>\n",
       "      <th>5</th>\n",
       "      <td>Monetary</td>\n",
       "      <td>0.856316</td>\n",
       "    </tr>\n",
       "    <tr>\n",
       "      <th>4</th>\n",
       "      <td>Frequency</td>\n",
       "      <td>0.111716</td>\n",
       "    </tr>\n",
       "    <tr>\n",
       "      <th>1</th>\n",
       "      <td>temp</td>\n",
       "      <td>0.031697</td>\n",
       "    </tr>\n",
       "    <tr>\n",
       "      <th>2</th>\n",
       "      <td>humidity</td>\n",
       "      <td>0.000146</td>\n",
       "    </tr>\n",
       "    <tr>\n",
       "      <th>3</th>\n",
       "      <td>windspeed</td>\n",
       "      <td>0.000115</td>\n",
       "    </tr>\n",
       "    <tr>\n",
       "      <th>6</th>\n",
       "      <td>kmeans</td>\n",
       "      <td>0.000010</td>\n",
       "    </tr>\n",
       "    <tr>\n",
       "      <th>0</th>\n",
       "      <td>Intercept</td>\n",
       "      <td>0.000000</td>\n",
       "    </tr>\n",
       "  </tbody>\n",
       "</table>\n",
       "</div>"
      ],
      "text/plain": [
       "         col        FI\n",
       "5   Monetary  0.856316\n",
       "4  Frequency  0.111716\n",
       "1       temp  0.031697\n",
       "2   humidity  0.000146\n",
       "3  windspeed  0.000115\n",
       "6     kmeans  0.000010\n",
       "0  Intercept  0.000000"
      ]
     },
     "execution_count": 157,
     "metadata": {},
     "output_type": "execute_result"
    }
   ],
   "source": [
    "pd.DataFrame({'col':X_train_scale.columns, 'FI':fine_tuned_RF.feature_importances_}).sort_values('FI', ascending=False)"
   ]
  },
  {
   "cell_type": "code",
   "execution_count": 158,
   "metadata": {
    "ExecuteTime": {
     "end_time": "2020-12-09T12:40:13.889694Z",
     "start_time": "2020-12-09T12:40:13.685230Z"
    }
   },
   "outputs": [
    {
     "data": {
      "text/plain": [
       "<AxesSubplot:>"
      ]
     },
     "execution_count": 158,
     "metadata": {},
     "output_type": "execute_result"
    },
    {
     "data": {
      "image/png": "[encoded data removed]",
      "text/plain": [
       "<Figure size 432x288 with 1 Axes>"
      ]
     },
     "metadata": {
      "needs_background": "light"
     },
     "output_type": "display_data"
    }
   ],
   "source": [
    "importances = pd.Series(fine_tuned_RF.feature_importances_, index=X_train_scale.columns)\n",
    "importances.plot(kind='bar')"
   ]
  },
  {
   "cell_type": "markdown",
   "metadata": {},
   "source": [
    "## Test set 활용하여 예측 수행"
   ]
  },
  {
   "cell_type": "code",
   "execution_count": 159,
   "metadata": {
    "ExecuteTime": {
     "end_time": "2020-12-09T12:40:13.943843Z",
     "start_time": "2020-12-09T12:40:13.892672Z"
    }
   },
   "outputs": [],
   "source": [
    "y_pred = fine_tuned_RF.predict(X_test_scale)"
   ]
  },
  {
   "cell_type": "code",
   "execution_count": 160,
   "metadata": {
    "ExecuteTime": {
     "end_time": "2020-12-09T12:40:13.951642Z",
     "start_time": "2020-12-09T12:40:13.947731Z"
    }
   },
   "outputs": [],
   "source": [
    "from sklearn.metrics import mean_absolute_error, mean_squared_error, r2_score"
   ]
  },
  {
   "cell_type": "markdown",
   "metadata": {},
   "source": [
    "### R^2"
   ]
  },
  {
   "cell_type": "code",
   "execution_count": 161,
   "metadata": {
    "ExecuteTime": {
     "end_time": "2020-12-09T12:40:13.965193Z",
     "start_time": "2020-12-09T12:40:13.955598Z"
    }
   },
   "outputs": [
    {
     "data": {
      "text/plain": [
       "0.9995663230063383"
      ]
     },
     "execution_count": 161,
     "metadata": {},
     "output_type": "execute_result"
    }
   ],
   "source": [
    "r2 = r2_score(np.expm1(y_test), np.expm1(y_pred)) # log처리 안 했으면 그냥 y_test, y_pred\n",
    "r2"
   ]
  },
  {
   "cell_type": "markdown",
   "metadata": {},
   "source": [
    "### MSE"
   ]
  },
  {
   "cell_type": "code",
   "execution_count": 162,
   "metadata": {
    "ExecuteTime": {
     "end_time": "2020-12-09T12:40:13.977556Z",
     "start_time": "2020-12-09T12:40:13.968580Z"
    }
   },
   "outputs": [
    {
     "data": {
      "text/plain": [
       "0.0008766132338490894"
      ]
     },
     "execution_count": 162,
     "metadata": {},
     "output_type": "execute_result"
    }
   ],
   "source": [
    "mse = mean_squared_error(np.expm1(y_test), np.expm1(y_pred)) # log처리 안 했으면 그냥 y_test, y_pred\n",
    "mse"
   ]
  },
  {
   "cell_type": "markdown",
   "metadata": {},
   "source": [
    "### RMSE"
   ]
  },
  {
   "cell_type": "code",
   "execution_count": 163,
   "metadata": {
    "ExecuteTime": {
     "end_time": "2020-12-09T12:40:13.985538Z",
     "start_time": "2020-12-09T12:40:13.980548Z"
    }
   },
   "outputs": [
    {
     "data": {
      "text/plain": [
       "0.029607654987335443"
      ]
     },
     "execution_count": 163,
     "metadata": {},
     "output_type": "execute_result"
    }
   ],
   "source": [
    "rmse = np.sqrt(mse)\n",
    "rmse"
   ]
  },
  {
   "cell_type": "markdown",
   "metadata": {},
   "source": [
    "### MAE"
   ]
  },
  {
   "cell_type": "code",
   "execution_count": 164,
   "metadata": {
    "ExecuteTime": {
     "end_time": "2020-12-09T12:40:13.997454Z",
     "start_time": "2020-12-09T12:40:13.988527Z"
    }
   },
   "outputs": [
    {
     "data": {
      "text/plain": [
       "0.013092585562396663"
      ]
     },
     "execution_count": 164,
     "metadata": {},
     "output_type": "execute_result"
    }
   ],
   "source": [
    "mae = mean_absolute_error(np.expm1(y_test), np.expm1(y_pred)) # log처리 안 했으면 그냥 y_test, y_pred\n",
    "mae"
   ]
  },
  {
   "cell_type": "markdown",
   "metadata": {},
   "source": [
    "### MAPE"
   ]
  },
  {
   "cell_type": "code",
   "execution_count": 165,
   "metadata": {
    "ExecuteTime": {
     "end_time": "2020-12-09T12:40:14.005897Z",
     "start_time": "2020-12-09T12:40:14.000389Z"
    }
   },
   "outputs": [],
   "source": [
    "def mp(y_test, y_pred):\n",
    "    y_test, y_pred = np.array(y_test), np.array(y_pred)\n",
    "    return np.mean(np.abs(y_test - y_pred)/y_test) * 100\n",
    "# 평균 절대 백분율 오차(MAPE)는 정확도를 오차의 백분율로 표시합니다.\n",
    "# MAPE는 백분율이기 때문에 다른 정확도 측도 통계량보다 더 쉽게 이해할 수 있습니다. \n",
    "# 예를 들어 MAPE가 5이면 예측 값은 평균 5% 벗어납니다"
   ]
  },
  {
   "cell_type": "code",
   "execution_count": 166,
   "metadata": {
    "ExecuteTime": {
     "end_time": "2020-12-09T12:40:14.192983Z",
     "start_time": "2020-12-09T12:40:14.008889Z"
    }
   },
   "outputs": [
    {
     "data": {
      "text/plain": [
       "50.28324823737699"
      ]
     },
     "execution_count": 166,
     "metadata": {},
     "output_type": "execute_result"
    }
   ],
   "source": [
    "mape = mp(np.expm1(y_test), np.expm1(y_pred)) # log처리 안 했으면 그냥 y_test, y_pred\n",
    "mape"
   ]
  },
  {
   "cell_type": "markdown",
   "metadata": {},
   "source": [
    "## ==========================="
   ]
  },
  {
   "cell_type": "code",
   "execution_count": 197,
   "metadata": {
    "ExecuteTime": {
     "end_time": "2020-12-09T13:30:40.792912Z",
     "start_time": "2020-12-09T13:30:40.784062Z"
    }
   },
   "outputs": [],
   "source": [
    "# 데이터를 일부러 줄임(2011년 8월 자료로만)\n",
    "data = dfts[(dfts.index.year == 2011)&(dfts.index.month == 8)]"
   ]
  },
  {
   "cell_type": "code",
   "execution_count": 198,
   "metadata": {
    "ExecuteTime": {
     "end_time": "2020-12-09T13:30:41.847836Z",
     "start_time": "2020-12-09T13:30:41.842851Z"
    }
   },
   "outputs": [
    {
     "data": {
      "text/plain": [
       "(456, 1)"
      ]
     },
     "execution_count": 198,
     "metadata": {},
     "output_type": "execute_result"
    }
   ],
   "source": [
    "data.shape"
   ]
  },
  {
   "cell_type": "code",
   "execution_count": 199,
   "metadata": {
    "ExecuteTime": {
     "end_time": "2020-12-09T13:30:44.014028Z",
     "start_time": "2020-12-09T13:30:43.711073Z"
    }
   },
   "outputs": [
    {
     "data": {
      "image/png": "[encoded data removed]",
      "text/plain": [
       "<Figure size 432x288 with 1 Axes>"
      ]
     },
     "metadata": {
      "needs_background": "light"
     },
     "output_type": "display_data"
    }
   ],
   "source": [
    "fig = data.plot()"
   ]
  },
  {
   "cell_type": "code",
   "execution_count": 200,
   "metadata": {
    "ExecuteTime": {
     "end_time": "2020-12-09T13:30:52.688787Z",
     "start_time": "2020-12-09T13:30:51.662040Z"
    }
   },
   "outputs": [
    {
     "name": "stderr",
     "output_type": "stream",
     "text": [
      "C:\\Users\\50008313\\AppData\\Local\\Continuum\\anaconda3\\lib\\site-packages\\matplotlib\\backends\\backend_agg.py:238: RuntimeWarning: Glyph 8722 missing from current font.\n",
      "  font.set_text(s, 0.0, flags=flags)\n",
      "C:\\Users\\50008313\\AppData\\Local\\Continuum\\anaconda3\\lib\\site-packages\\matplotlib\\backends\\backend_agg.py:201: RuntimeWarning: Glyph 8722 missing from current font.\n",
      "  font.set_text(s, 0, flags=flags)\n"
     ]
    },
    {
     "data": {
      "image/png": "[encoded data removed]",
      "text/plain": [
       "<Figure size 720x720 with 4 Axes>"
      ]
     },
     "metadata": {
      "needs_background": "light"
     },
     "output_type": "display_data"
    }
   ],
   "source": [
    "# Seasonal decomposition plot : Seasonal decomposition using moving averages.\n",
    "\n",
    "# Observed : observed data\n",
    "# Trend : The estimated trend component\n",
    "# Seasonal : The estimated seasonal component\n",
    "# resid : The estimated residuals\n",
    "decomposition = sm.tsa.seasonal_decompose(data['count'], model = 'additive', period=1)\n",
    "fig = decomposition.plot()\n",
    "fig.set_size_inches(10,10)\n",
    "plt.show()"
   ]
  },
  {
   "cell_type": "markdown",
   "metadata": {},
   "source": [
    "## Train, test set split"
   ]
  },
  {
   "cell_type": "code",
   "execution_count": 201,
   "metadata": {
    "ExecuteTime": {
     "end_time": "2020-12-09T13:36:59.270833Z",
     "start_time": "2020-12-09T13:36:59.264421Z"
    }
   },
   "outputs": [],
   "source": [
    "# Tr, Te = 8:2\n",
    "train_data, test_data = train_test_split(data, test_size=0.2, shuffle=False)"
   ]
  },
  {
   "cell_type": "markdown",
   "metadata": {},
   "source": [
    "## 정상성 확인"
   ]
  },
  {
   "cell_type": "code",
   "execution_count": 203,
   "metadata": {
    "ExecuteTime": {
     "end_time": "2020-12-09T13:37:37.566442Z",
     "start_time": "2020-12-09T13:37:37.225888Z"
    }
   },
   "outputs": [
    {
     "name": "stderr",
     "output_type": "stream",
     "text": [
      "C:\\Users\\50008313\\AppData\\Local\\Continuum\\anaconda3\\lib\\site-packages\\matplotlib\\backends\\backend_agg.py:238: RuntimeWarning: Glyph 8722 missing from current font.\n",
      "  font.set_text(s, 0.0, flags=flags)\n",
      "C:\\Users\\50008313\\AppData\\Local\\Continuum\\anaconda3\\lib\\site-packages\\matplotlib\\backends\\backend_agg.py:201: RuntimeWarning: Glyph 8722 missing from current font.\n",
      "  font.set_text(s, 0, flags=flags)\n"
     ]
    },
    {
     "data": {
      "image/png": "[encoded data removed]",
      "text/plain": [
       "<Figure size 720x360 with 2 Axes>"
      ]
     },
     "metadata": {
      "needs_background": "light"
     },
     "output_type": "display_data"
    }
   ],
   "source": [
    "# ACF, PACF plot\n",
    "\n",
    "fig, ax = plt.subplots(1,2, figsize = (10, 5))\n",
    "fig.suptitle('Raw Data')\n",
    "sm.graphics.tsa.plot_acf(train_data.values.squeeze(), lags = 30, ax = ax[0])\n",
    "sm.graphics.tsa.plot_pacf(train_data.values.squeeze(), lags = 30, ax = ax[1])\n",
    "plt.show()\n",
    "### ACF 그래프가 점진적으로 감소하는 것은 전형적인 Non-stationary 데이터이다 = 정상정이 없음"
   ]
  },
  {
   "cell_type": "markdown",
   "metadata": {},
   "source": [
    "## 차분"
   ]
  },
  {
   "cell_type": "code",
   "execution_count": 205,
   "metadata": {
    "ExecuteTime": {
     "end_time": "2020-12-09T13:39:26.853789Z",
     "start_time": "2020-12-09T13:39:26.841117Z"
    }
   },
   "outputs": [
    {
     "name": "stdout",
     "output_type": "stream",
     "text": [
      "##### Raw Data #####\n",
      "                     count\n",
      "date                      \n",
      "2011-08-01 00:00:00   29.0\n",
      "2011-08-01 01:00:00   17.0\n",
      "2011-08-01 02:00:00   11.0\n",
      "2011-08-01 03:00:00    4.0\n",
      "2011-08-01 04:00:00    4.0\n",
      "...                    ...\n",
      "2011-08-15 23:00:00   88.0\n",
      "2011-08-16 00:00:00   31.0\n",
      "2011-08-16 01:00:00   16.0\n",
      "2011-08-16 02:00:00    4.0\n",
      "2011-08-16 03:00:00    6.0\n",
      "\n",
      "[364 rows x 1 columns]\n",
      "### Differenced Data ###\n",
      "date\n",
      "2011-08-01 01:00:00   -12.0\n",
      "2011-08-01 02:00:00    -6.0\n",
      "2011-08-01 03:00:00    -7.0\n",
      "2011-08-01 04:00:00     0.0\n",
      "2011-08-01 05:00:00    22.0\n",
      "                       ... \n",
      "2011-08-15 23:00:00   -10.0\n",
      "2011-08-16 00:00:00   -57.0\n",
      "2011-08-16 01:00:00   -15.0\n",
      "2011-08-16 02:00:00   -12.0\n",
      "2011-08-16 03:00:00     2.0\n",
      "Name: count, Length: 363, dtype: float64\n"
     ]
    }
   ],
   "source": [
    "# Differencing\n",
    "\n",
    "diff_train_data = train_data.copy()\n",
    "diff_train_data = diff_train_data['count'].diff()\n",
    "diff_train_data = diff_train_data.dropna()\n",
    "print('##### Raw Data #####')\n",
    "print(train_data)\n",
    "print('### Differenced Data ###')\n",
    "print(diff_train_data)"
   ]
  },
  {
   "cell_type": "code",
   "execution_count": 207,
   "metadata": {
    "ExecuteTime": {
     "end_time": "2020-12-09T13:42:02.422643Z",
     "start_time": "2020-12-09T13:42:01.867993Z"
    }
   },
   "outputs": [
    {
     "name": "stderr",
     "output_type": "stream",
     "text": [
      "C:\\Users\\50008313\\AppData\\Local\\Continuum\\anaconda3\\lib\\site-packages\\matplotlib\\backends\\backend_agg.py:238: RuntimeWarning: Glyph 8722 missing from current font.\n",
      "  font.set_text(s, 0.0, flags=flags)\n",
      "C:\\Users\\50008313\\AppData\\Local\\Continuum\\anaconda3\\lib\\site-packages\\matplotlib\\backends\\backend_agg.py:201: RuntimeWarning: Glyph 8722 missing from current font.\n",
      "  font.set_text(s, 0, flags=flags)\n"
     ]
    },
    {
     "data": {
      "image/png": "[encoded data removed]",
      "text/plain": [
       "<Figure size 864x576 with 2 Axes>"
      ]
     },
     "metadata": {
      "needs_background": "light"
     },
     "output_type": "display_data"
    }
   ],
   "source": [
    "# differenced data plot\n",
    "\n",
    "plt.figure(figsize = (12,8))\n",
    "plt.subplot(211)\n",
    "plt.plot(train_data['count'])\n",
    "plt.subplot(212)\n",
    "plt.plot(diff_train_data, 'orange') # first difference (t - (t-1))\n",
    "plt.legend(['Differenced Data (Stationary)'])\n",
    "plt.show()"
   ]
  },
  {
   "cell_type": "code",
   "execution_count": 208,
   "metadata": {
    "ExecuteTime": {
     "end_time": "2020-12-09T13:45:15.711200Z",
     "start_time": "2020-12-09T13:45:15.378569Z"
    }
   },
   "outputs": [
    {
     "name": "stderr",
     "output_type": "stream",
     "text": [
      "C:\\Users\\50008313\\AppData\\Local\\Continuum\\anaconda3\\lib\\site-packages\\matplotlib\\backends\\backend_agg.py:238: RuntimeWarning: Glyph 8722 missing from current font.\n",
      "  font.set_text(s, 0.0, flags=flags)\n",
      "C:\\Users\\50008313\\AppData\\Local\\Continuum\\anaconda3\\lib\\site-packages\\matplotlib\\backends\\backend_agg.py:201: RuntimeWarning: Glyph 8722 missing from current font.\n",
      "  font.set_text(s, 0, flags=flags)\n"
     ]
    },
    {
     "data": {
      "image/png": "[encoded data removed]",
      "text/plain": [
       "<Figure size 720x360 with 2 Axes>"
      ]
     },
     "metadata": {
      "needs_background": "light"
     },
     "output_type": "display_data"
    }
   ],
   "source": [
    "# ACF, PACF plot\n",
    "\n",
    "fig, ax = plt.subplots(1,2, figsize = (10, 5))\n",
    "fig.suptitle('Differenced Data')\n",
    "sm.graphics.tsa.plot_acf(diff_train_data.values.squeeze(), lags = 30, ax = ax[0])\n",
    "sm.graphics.tsa.plot_pacf(diff_train_data.values.squeeze(), lags = 30, ax = ax[1])\n",
    "plt.show()"
   ]
  },
  {
   "cell_type": "markdown",
   "metadata": {},
   "source": [
    "## 기본 모델 생성"
   ]
  },
  {
   "cell_type": "code",
   "execution_count": 209,
   "metadata": {
    "ExecuteTime": {
     "end_time": "2020-12-09T13:54:27.623417Z",
     "start_time": "2020-12-09T13:54:27.444832Z"
    }
   },
   "outputs": [
    {
     "data": {
      "text/html": [
       "<table class=\"simpletable\">\n",
       "<caption>ARIMA Model Results</caption>\n",
       "<tr>\n",
       "  <th>Dep. Variable:</th>        <td>D.y</td>       <th>  No. Observations:  </th>    <td>363</td>   \n",
       "</tr>\n",
       "<tr>\n",
       "  <th>Model:</th>          <td>ARIMA(1, 1, 1)</td>  <th>  Log Likelihood     </th> <td>-2122.751</td>\n",
       "</tr>\n",
       "<tr>\n",
       "  <th>Method:</th>             <td>css-mle</td>     <th>  S.D. of innovations</th>  <td>83.807</td>  \n",
       "</tr>\n",
       "<tr>\n",
       "  <th>Date:</th>          <td>Wed, 09 Dec 2020</td> <th>  AIC                </th> <td>4253.502</td> \n",
       "</tr>\n",
       "<tr>\n",
       "  <th>Time:</th>              <td>22:54:27</td>     <th>  BIC                </th> <td>4269.079</td> \n",
       "</tr>\n",
       "<tr>\n",
       "  <th>Sample:</th>                <td>1</td>        <th>  HQIC               </th> <td>4259.694</td> \n",
       "</tr>\n",
       "<tr>\n",
       "  <th></th>                       <td> </td>        <th>                     </th>     <td> </td>    \n",
       "</tr>\n",
       "</table>\n",
       "<table class=\"simpletable\">\n",
       "<tr>\n",
       "      <td></td>         <th>coef</th>     <th>std err</th>      <th>z</th>      <th>P>|z|</th>  <th>[0.025</th>    <th>0.975]</th>  \n",
       "</tr>\n",
       "<tr>\n",
       "  <th>const</th>     <td>   -0.0571</td> <td>    6.142</td> <td>   -0.009</td> <td> 0.993</td> <td>  -12.095</td> <td>   11.981</td>\n",
       "</tr>\n",
       "<tr>\n",
       "  <th>ar.L1.D.y</th> <td>   -0.1120</td> <td>    0.102</td> <td>   -1.094</td> <td> 0.274</td> <td>   -0.313</td> <td>    0.089</td>\n",
       "</tr>\n",
       "<tr>\n",
       "  <th>ma.L1.D.y</th> <td>    0.5537</td> <td>    0.084</td> <td>    6.606</td> <td> 0.000</td> <td>    0.389</td> <td>    0.718</td>\n",
       "</tr>\n",
       "</table>\n",
       "<table class=\"simpletable\">\n",
       "<caption>Roots</caption>\n",
       "<tr>\n",
       "    <td></td>   <th>            Real</th>  <th>         Imaginary</th> <th>         Modulus</th>  <th>        Frequency</th>\n",
       "</tr>\n",
       "<tr>\n",
       "  <th>AR.1</th> <td>          -8.9287</td> <td>          +0.0000j</td> <td>           8.9287</td> <td>           0.5000</td>\n",
       "</tr>\n",
       "<tr>\n",
       "  <th>MA.1</th> <td>          -1.8059</td> <td>          +0.0000j</td> <td>           1.8059</td> <td>           0.5000</td>\n",
       "</tr>\n",
       "</table>"
      ],
      "text/plain": [
       "<class 'statsmodels.iolib.summary.Summary'>\n",
       "\"\"\"\n",
       "                             ARIMA Model Results                              \n",
       "==============================================================================\n",
       "Dep. Variable:                    D.y   No. Observations:                  363\n",
       "Model:                 ARIMA(1, 1, 1)   Log Likelihood               -2122.751\n",
       "Method:                       css-mle   S.D. of innovations             83.807\n",
       "Date:                Wed, 09 Dec 2020   AIC                           4253.502\n",
       "Time:                        22:54:27   BIC                           4269.079\n",
       "Sample:                             1   HQIC                          4259.694\n",
       "                                                                              \n",
       "==============================================================================\n",
       "                 coef    std err          z      P>|z|      [0.025      0.975]\n",
       "------------------------------------------------------------------------------\n",
       "const         -0.0571      6.142     -0.009      0.993     -12.095      11.981\n",
       "ar.L1.D.y     -0.1120      0.102     -1.094      0.274      -0.313       0.089\n",
       "ma.L1.D.y      0.5537      0.084      6.606      0.000       0.389       0.718\n",
       "                                    Roots                                    \n",
       "=============================================================================\n",
       "                  Real          Imaginary           Modulus         Frequency\n",
       "-----------------------------------------------------------------------------\n",
       "AR.1           -8.9287           +0.0000j            8.9287            0.5000\n",
       "MA.1           -1.8059           +0.0000j            1.8059            0.5000\n",
       "-----------------------------------------------------------------------------\n",
       "\"\"\""
      ]
     },
     "execution_count": 209,
     "metadata": {},
     "output_type": "execute_result"
    }
   ],
   "source": [
    "# ARIMA model fitting\n",
    "# The (p, d, q) order of the model for the number of AR parameters, differences, and MA parameters to use.\n",
    "\n",
    "model = ARIMA(train_data.values, order=(1,1,1))\n",
    "model_fit = model.fit()\n",
    "model_fit.summary()\n",
    "\n",
    "# AIC 값은 1069.44이고, constant의 p-value 값이 유의미하지 않게 나왔다."
   ]
  },
  {
   "cell_type": "code",
   "execution_count": 210,
   "metadata": {
    "ExecuteTime": {
     "end_time": "2020-12-09T14:04:33.762100Z",
     "start_time": "2020-12-09T14:04:33.661221Z"
    }
   },
   "outputs": [
    {
     "data": {
      "text/html": [
       "<table class=\"simpletable\">\n",
       "<caption>ARIMA Model Results</caption>\n",
       "<tr>\n",
       "  <th>Dep. Variable:</th>        <td>D.y</td>       <th>  No. Observations:  </th>    <td>363</td>   \n",
       "</tr>\n",
       "<tr>\n",
       "  <th>Model:</th>          <td>ARIMA(0, 1, 1)</td>  <th>  Log Likelihood     </th> <td>-2123.378</td>\n",
       "</tr>\n",
       "<tr>\n",
       "  <th>Method:</th>             <td>css-mle</td>     <th>  S.D. of innovations</th>  <td>83.952</td>  \n",
       "</tr>\n",
       "<tr>\n",
       "  <th>Date:</th>          <td>Wed, 09 Dec 2020</td> <th>  AIC                </th> <td>4252.756</td> \n",
       "</tr>\n",
       "<tr>\n",
       "  <th>Time:</th>              <td>23:04:33</td>     <th>  BIC                </th> <td>4264.439</td> \n",
       "</tr>\n",
       "<tr>\n",
       "  <th>Sample:</th>                <td>1</td>        <th>  HQIC               </th> <td>4257.400</td> \n",
       "</tr>\n",
       "<tr>\n",
       "  <th></th>                       <td> </td>        <th>                     </th>     <td> </td>    \n",
       "</tr>\n",
       "</table>\n",
       "<table class=\"simpletable\">\n",
       "<tr>\n",
       "      <td></td>         <th>coef</th>     <th>std err</th>      <th>z</th>      <th>P>|z|</th>  <th>[0.025</th>    <th>0.975]</th>  \n",
       "</tr>\n",
       "<tr>\n",
       "  <th>const</th>     <td>   -0.0619</td> <td>    6.482</td> <td>   -0.010</td> <td> 0.992</td> <td>  -12.766</td> <td>   12.642</td>\n",
       "</tr>\n",
       "<tr>\n",
       "  <th>ma.L1.D.y</th> <td>    0.4724</td> <td>    0.047</td> <td>   10.044</td> <td> 0.000</td> <td>    0.380</td> <td>    0.565</td>\n",
       "</tr>\n",
       "</table>\n",
       "<table class=\"simpletable\">\n",
       "<caption>Roots</caption>\n",
       "<tr>\n",
       "    <td></td>   <th>            Real</th>  <th>         Imaginary</th> <th>         Modulus</th>  <th>        Frequency</th>\n",
       "</tr>\n",
       "<tr>\n",
       "  <th>MA.1</th> <td>          -2.1170</td> <td>          +0.0000j</td> <td>           2.1170</td> <td>           0.5000</td>\n",
       "</tr>\n",
       "</table>"
      ],
      "text/plain": [
       "<class 'statsmodels.iolib.summary.Summary'>\n",
       "\"\"\"\n",
       "                             ARIMA Model Results                              \n",
       "==============================================================================\n",
       "Dep. Variable:                    D.y   No. Observations:                  363\n",
       "Model:                 ARIMA(0, 1, 1)   Log Likelihood               -2123.378\n",
       "Method:                       css-mle   S.D. of innovations             83.952\n",
       "Date:                Wed, 09 Dec 2020   AIC                           4252.756\n",
       "Time:                        23:04:33   BIC                           4264.439\n",
       "Sample:                             1   HQIC                          4257.400\n",
       "                                                                              \n",
       "==============================================================================\n",
       "                 coef    std err          z      P>|z|      [0.025      0.975]\n",
       "------------------------------------------------------------------------------\n",
       "const         -0.0619      6.482     -0.010      0.992     -12.766      12.642\n",
       "ma.L1.D.y      0.4724      0.047     10.044      0.000       0.380       0.565\n",
       "                                    Roots                                    \n",
       "=============================================================================\n",
       "                  Real          Imaginary           Modulus         Frequency\n",
       "-----------------------------------------------------------------------------\n",
       "MA.1           -2.1170           +0.0000j            2.1170            0.5000\n",
       "-----------------------------------------------------------------------------\n",
       "\"\"\""
      ]
     },
     "execution_count": 210,
     "metadata": {},
     "output_type": "execute_result"
    }
   ],
   "source": [
    "model = ARIMA(train_data.values, order=(0,1,1))\n",
    "model_fit = model.fit()\n",
    "model_fit.summary()"
   ]
  },
  {
   "cell_type": "code",
   "execution_count": 211,
   "metadata": {
    "ExecuteTime": {
     "end_time": "2020-12-09T14:04:38.707913Z",
     "start_time": "2020-12-09T14:04:38.607960Z"
    }
   },
   "outputs": [
    {
     "data": {
      "text/html": [
       "<table class=\"simpletable\">\n",
       "<caption>ARIMA Model Results</caption>\n",
       "<tr>\n",
       "  <th>Dep. Variable:</th>        <td>D.y</td>       <th>  No. Observations:  </th>    <td>363</td>   \n",
       "</tr>\n",
       "<tr>\n",
       "  <th>Model:</th>          <td>ARIMA(1, 1, 0)</td>  <th>  Log Likelihood     </th> <td>-2136.885</td>\n",
       "</tr>\n",
       "<tr>\n",
       "  <th>Method:</th>             <td>css-mle</td>     <th>  S.D. of innovations</th>  <td>87.152</td>  \n",
       "</tr>\n",
       "<tr>\n",
       "  <th>Date:</th>          <td>Wed, 09 Dec 2020</td> <th>  AIC                </th> <td>4279.769</td> \n",
       "</tr>\n",
       "<tr>\n",
       "  <th>Time:</th>              <td>23:04:38</td>     <th>  BIC                </th> <td>4291.453</td> \n",
       "</tr>\n",
       "<tr>\n",
       "  <th>Sample:</th>                <td>1</td>        <th>  HQIC               </th> <td>4284.413</td> \n",
       "</tr>\n",
       "<tr>\n",
       "  <th></th>                       <td> </td>        <th>                     </th>     <td> </td>    \n",
       "</tr>\n",
       "</table>\n",
       "<table class=\"simpletable\">\n",
       "<tr>\n",
       "      <td></td>         <th>coef</th>     <th>std err</th>      <th>z</th>      <th>P>|z|</th>  <th>[0.025</th>    <th>0.975]</th>  \n",
       "</tr>\n",
       "<tr>\n",
       "  <th>const</th>     <td>   -0.0760</td> <td>    6.640</td> <td>   -0.011</td> <td> 0.991</td> <td>  -13.089</td> <td>   12.937</td>\n",
       "</tr>\n",
       "<tr>\n",
       "  <th>ar.L1.D.y</th> <td>    0.3119</td> <td>    0.050</td> <td>    6.267</td> <td> 0.000</td> <td>    0.214</td> <td>    0.409</td>\n",
       "</tr>\n",
       "</table>\n",
       "<table class=\"simpletable\">\n",
       "<caption>Roots</caption>\n",
       "<tr>\n",
       "    <td></td>   <th>            Real</th>  <th>         Imaginary</th> <th>         Modulus</th>  <th>        Frequency</th>\n",
       "</tr>\n",
       "<tr>\n",
       "  <th>AR.1</th> <td>           3.2060</td> <td>          +0.0000j</td> <td>           3.2060</td> <td>           0.0000</td>\n",
       "</tr>\n",
       "</table>"
      ],
      "text/plain": [
       "<class 'statsmodels.iolib.summary.Summary'>\n",
       "\"\"\"\n",
       "                             ARIMA Model Results                              \n",
       "==============================================================================\n",
       "Dep. Variable:                    D.y   No. Observations:                  363\n",
       "Model:                 ARIMA(1, 1, 0)   Log Likelihood               -2136.885\n",
       "Method:                       css-mle   S.D. of innovations             87.152\n",
       "Date:                Wed, 09 Dec 2020   AIC                           4279.769\n",
       "Time:                        23:04:38   BIC                           4291.453\n",
       "Sample:                             1   HQIC                          4284.413\n",
       "                                                                              \n",
       "==============================================================================\n",
       "                 coef    std err          z      P>|z|      [0.025      0.975]\n",
       "------------------------------------------------------------------------------\n",
       "const         -0.0760      6.640     -0.011      0.991     -13.089      12.937\n",
       "ar.L1.D.y      0.3119      0.050      6.267      0.000       0.214       0.409\n",
       "                                    Roots                                    \n",
       "=============================================================================\n",
       "                  Real          Imaginary           Modulus         Frequency\n",
       "-----------------------------------------------------------------------------\n",
       "AR.1            3.2060           +0.0000j            3.2060            0.0000\n",
       "-----------------------------------------------------------------------------\n",
       "\"\"\""
      ]
     },
     "execution_count": 211,
     "metadata": {},
     "output_type": "execute_result"
    }
   ],
   "source": [
    "model = ARIMA(train_data.values, order=(1,1,0))\n",
    "model_fit = model.fit()\n",
    "model_fit.summary()"
   ]
  },
  {
   "cell_type": "markdown",
   "metadata": {},
   "source": [
    "## 최적 모델 탐색"
   ]
  },
  {
   "cell_type": "code",
   "execution_count": 213,
   "metadata": {
    "ExecuteTime": {
     "end_time": "2020-12-09T14:07:30.363526Z",
     "start_time": "2020-12-09T14:07:30.354516Z"
    }
   },
   "outputs": [
    {
     "name": "stdout",
     "output_type": "stream",
     "text": [
      "Examples of parameter combinations for Seasonal ARIMA...\n"
     ]
    },
    {
     "data": {
      "text/plain": [
       "[(0, 1, 0),\n",
       " (0, 1, 1),\n",
       " (0, 1, 2),\n",
       " (1, 1, 0),\n",
       " (1, 1, 1),\n",
       " (1, 1, 2),\n",
       " (2, 1, 0),\n",
       " (2, 1, 1),\n",
       " (2, 1, 2)]"
      ]
     },
     "execution_count": 213,
     "metadata": {},
     "output_type": "execute_result"
    }
   ],
   "source": [
    "print('Examples of parameter combinations for Seasonal ARIMA...')\n",
    "p = range(0,3)\n",
    "d = range(1,2)\n",
    "q = range(0,3)\n",
    "\n",
    "pdq = list(itertools.product(p, d, q))\n",
    "pdq"
   ]
  },
  {
   "cell_type": "code",
   "execution_count": 214,
   "metadata": {
    "ExecuteTime": {
     "end_time": "2020-12-09T14:07:43.981901Z",
     "start_time": "2020-12-09T14:07:42.087804Z"
    }
   },
   "outputs": [
    {
     "name": "stdout",
     "output_type": "stream",
     "text": [
      "ARIMA: (0, 1, 0) >> AIC : 4315.04\n",
      "ARIMA: (0, 1, 1) >> AIC : 4252.76\n",
      "ARIMA: (0, 1, 2) >> AIC : 4252.07\n",
      "ARIMA: (1, 1, 0) >> AIC : 4279.77\n",
      "ARIMA: (1, 1, 1) >> AIC : 4253.5\n",
      "ARIMA: (1, 1, 2) >> AIC : 4198.08\n",
      "ARIMA: (2, 1, 0) >> AIC : 4238.56\n",
      "ARIMA: (2, 1, 1) >> AIC : 4240.4\n",
      "ARIMA: (2, 1, 2) >> AIC : 4194.67\n"
     ]
    }
   ],
   "source": [
    "aic=[]\n",
    "for i in pdq:\n",
    "    model = ARIMA(train_data.values, order=(i))\n",
    "    model_fit = model.fit()\n",
    "    print(f'ARIMA: {i} >> AIC : {round(model_fit.aic, 2)}')\n",
    "    aic.append(round(model_fit.aic,2))"
   ]
  },
  {
   "cell_type": "code",
   "execution_count": 215,
   "metadata": {
    "ExecuteTime": {
     "end_time": "2020-12-09T14:07:51.592216Z",
     "start_time": "2020-12-09T14:07:51.585286Z"
    }
   },
   "outputs": [
    {
     "data": {
      "text/plain": [
       "[((2, 1, 2), 4194.67)]"
      ]
     },
     "execution_count": 215,
     "metadata": {},
     "output_type": "execute_result"
    }
   ],
   "source": [
    "# Search optimal parameters\n",
    "\n",
    "optimal = [(pdq[i], j) for i, j in enumerate(aic) if j == min(aic)]\n",
    "optimal"
   ]
  },
  {
   "cell_type": "code",
   "execution_count": 218,
   "metadata": {
    "ExecuteTime": {
     "end_time": "2020-12-09T14:12:34.277967Z",
     "start_time": "2020-12-09T14:12:33.729866Z"
    }
   },
   "outputs": [
    {
     "data": {
      "text/html": [
       "<table class=\"simpletable\">\n",
       "<caption>ARIMA Model Results</caption>\n",
       "<tr>\n",
       "  <th>Dep. Variable:</th>        <td>D.y</td>       <th>  No. Observations:  </th>    <td>363</td>   \n",
       "</tr>\n",
       "<tr>\n",
       "  <th>Model:</th>          <td>ARIMA(2, 1, 2)</td>  <th>  Log Likelihood     </th> <td>-2091.334</td>\n",
       "</tr>\n",
       "<tr>\n",
       "  <th>Method:</th>             <td>css-mle</td>     <th>  S.D. of innovations</th>  <td>76.390</td>  \n",
       "</tr>\n",
       "<tr>\n",
       "  <th>Date:</th>          <td>Wed, 09 Dec 2020</td> <th>  AIC                </th> <td>4194.669</td> \n",
       "</tr>\n",
       "<tr>\n",
       "  <th>Time:</th>              <td>23:12:34</td>     <th>  BIC                </th> <td>4218.035</td> \n",
       "</tr>\n",
       "<tr>\n",
       "  <th>Sample:</th>                <td>1</td>        <th>  HQIC               </th> <td>4203.957</td> \n",
       "</tr>\n",
       "<tr>\n",
       "  <th></th>                       <td> </td>        <th>                     </th>     <td> </td>    \n",
       "</tr>\n",
       "</table>\n",
       "<table class=\"simpletable\">\n",
       "<tr>\n",
       "      <td></td>         <th>coef</th>     <th>std err</th>      <th>z</th>      <th>P>|z|</th>  <th>[0.025</th>    <th>0.975]</th>  \n",
       "</tr>\n",
       "<tr>\n",
       "  <th>const</th>     <td>    0.0155</td> <td>    0.154</td> <td>    0.101</td> <td> 0.920</td> <td>   -0.286</td> <td>    0.317</td>\n",
       "</tr>\n",
       "<tr>\n",
       "  <th>ar.L1.D.y</th> <td>    0.8791</td> <td>    0.097</td> <td>    9.048</td> <td> 0.000</td> <td>    0.689</td> <td>    1.070</td>\n",
       "</tr>\n",
       "<tr>\n",
       "  <th>ar.L2.D.y</th> <td>   -0.2176</td> <td>    0.088</td> <td>   -2.465</td> <td> 0.014</td> <td>   -0.391</td> <td>   -0.045</td>\n",
       "</tr>\n",
       "<tr>\n",
       "  <th>ma.L1.D.y</th> <td>   -0.6179</td> <td>    0.094</td> <td>   -6.608</td> <td> 0.000</td> <td>   -0.801</td> <td>   -0.435</td>\n",
       "</tr>\n",
       "<tr>\n",
       "  <th>ma.L2.D.y</th> <td>   -0.3821</td> <td>    0.093</td> <td>   -4.096</td> <td> 0.000</td> <td>   -0.565</td> <td>   -0.199</td>\n",
       "</tr>\n",
       "</table>\n",
       "<table class=\"simpletable\">\n",
       "<caption>Roots</caption>\n",
       "<tr>\n",
       "    <td></td>   <th>            Real</th>  <th>         Imaginary</th> <th>         Modulus</th>  <th>        Frequency</th>\n",
       "</tr>\n",
       "<tr>\n",
       "  <th>AR.1</th> <td>           2.0203</td> <td>          -0.7174j</td> <td>           2.1439</td> <td>          -0.0543</td>\n",
       "</tr>\n",
       "<tr>\n",
       "  <th>AR.2</th> <td>           2.0203</td> <td>          +0.7174j</td> <td>           2.1439</td> <td>           0.0543</td>\n",
       "</tr>\n",
       "<tr>\n",
       "  <th>MA.1</th> <td>           1.0000</td> <td>          +0.0000j</td> <td>           1.0000</td> <td>           0.0000</td>\n",
       "</tr>\n",
       "<tr>\n",
       "  <th>MA.2</th> <td>          -2.6172</td> <td>          +0.0000j</td> <td>           2.6172</td> <td>           0.5000</td>\n",
       "</tr>\n",
       "</table>"
      ],
      "text/plain": [
       "<class 'statsmodels.iolib.summary.Summary'>\n",
       "\"\"\"\n",
       "                             ARIMA Model Results                              \n",
       "==============================================================================\n",
       "Dep. Variable:                    D.y   No. Observations:                  363\n",
       "Model:                 ARIMA(2, 1, 2)   Log Likelihood               -2091.334\n",
       "Method:                       css-mle   S.D. of innovations             76.390\n",
       "Date:                Wed, 09 Dec 2020   AIC                           4194.669\n",
       "Time:                        23:12:34   BIC                           4218.035\n",
       "Sample:                             1   HQIC                          4203.957\n",
       "                                                                              \n",
       "==============================================================================\n",
       "                 coef    std err          z      P>|z|      [0.025      0.975]\n",
       "------------------------------------------------------------------------------\n",
       "const          0.0155      0.154      0.101      0.920      -0.286       0.317\n",
       "ar.L1.D.y      0.8791      0.097      9.048      0.000       0.689       1.070\n",
       "ar.L2.D.y     -0.2176      0.088     -2.465      0.014      -0.391      -0.045\n",
       "ma.L1.D.y     -0.6179      0.094     -6.608      0.000      -0.801      -0.435\n",
       "ma.L2.D.y     -0.3821      0.093     -4.096      0.000      -0.565      -0.199\n",
       "                                    Roots                                    \n",
       "=============================================================================\n",
       "                  Real          Imaginary           Modulus         Frequency\n",
       "-----------------------------------------------------------------------------\n",
       "AR.1            2.0203           -0.7174j            2.1439           -0.0543\n",
       "AR.2            2.0203           +0.7174j            2.1439            0.0543\n",
       "MA.1            1.0000           +0.0000j            1.0000            0.0000\n",
       "MA.2           -2.6172           +0.0000j            2.6172            0.5000\n",
       "-----------------------------------------------------------------------------\n",
       "\"\"\""
      ]
     },
     "execution_count": 218,
     "metadata": {},
     "output_type": "execute_result"
    }
   ],
   "source": [
    "# 위 최적 값으로 만든 모델 다시 Summary\n",
    "\n",
    "model_opt = ARIMA(train_data.values, order = optimal[0][0])\n",
    "model_opt_fit = model_opt.fit()\n",
    "model_opt_fit.summary()\n",
    "\n",
    "# AIC score가 1045.66으로 임의의 모델보다 성능이 좋아졌고, p-value도 모두 유의미하게 나옴"
   ]
  },
  {
   "cell_type": "markdown",
   "metadata": {},
   "source": [
    "## Test 데이터 예측"
   ]
  },
  {
   "cell_type": "code",
   "execution_count": 219,
   "metadata": {
    "ExecuteTime": {
     "end_time": "2020-12-09T14:12:42.890041Z",
     "start_time": "2020-12-09T14:12:42.879441Z"
    }
   },
   "outputs": [],
   "source": [
    "prediction = model_opt_fit.forecast(len(test_data))\n",
    "predicted_value = prediction[0]   # predicted_value 가 y_pred\n",
    "predicted_ub = prediction[2][:,0]\n",
    "predicted_lb = prediction[2][:,1]\n",
    "predict_index = list(test_data.index)\n",
    "r2 = r2_score(test_data, predicted_value)"
   ]
  },
  {
   "cell_type": "code",
   "execution_count": 222,
   "metadata": {
    "ExecuteTime": {
     "end_time": "2020-12-09T14:13:56.924951Z",
     "start_time": "2020-12-09T14:13:56.637902Z"
    }
   },
   "outputs": [
    {
     "name": "stderr",
     "output_type": "stream",
     "text": [
      "C:\\Users\\50008313\\AppData\\Local\\Continuum\\anaconda3\\lib\\site-packages\\matplotlib\\backends\\backend_agg.py:238: RuntimeWarning: Glyph 8722 missing from current font.\n",
      "  font.set_text(s, 0.0, flags=flags)\n",
      "C:\\Users\\50008313\\AppData\\Local\\Continuum\\anaconda3\\lib\\site-packages\\matplotlib\\backends\\backend_agg.py:201: RuntimeWarning: Glyph 8722 missing from current font.\n",
      "  font.set_text(s, 0, flags=flags)\n"
     ]
    },
    {
     "data": {
      "image/png": "[encoded data removed]",
      "text/plain": [
       "<Figure size 864x432 with 1 Axes>"
      ]
     },
     "metadata": {
      "needs_background": "light"
     },
     "output_type": "display_data"
    }
   ],
   "source": [
    "fig, ax = plt.subplots(figsize=(12,6))\n",
    "\n",
    "ax.plot(predict_index, predicted_value, color = 'orange', label = 'Prediction') # 예측값(위 vline 이후 구간에 표시됨)\n",
    "ax.fill_between(predict_index, predicted_lb, predicted_ub, color = 'k', alpha = 0.1, label = '0.95 Prediction Interval')\n",
    "\n",
    "data.plot(ax = ax);\n",
    "# ax.vlines('1958-08-01', 0, 1000, linestyle = '--', color = 'r', label = 'Start of Forecast') # x좌표를 날짜로 적음\n",
    "# ax.legend(loc='upper left')\n",
    "# plt.suptitle(f'ARIMA {optimal[0][0]} Prediction Results (r2_score: {round(r2,2)})')\n",
    "\n",
    "plt.show()\n",
    "\n",
    "# 빨간 점선 이후의 주황색 선이 예측값이며, 회색 구간이 95% interval 구간이다.\n",
    "# 대체로 추세를 따라가나 피크 값을 완벽히 예측하기에는 다소 무리가 있는 것을 볼 수 있다.\n",
    "# R2 score도 0.22 수준인 것을 확인할 수 있었다."
   ]
  },
  {
   "cell_type": "markdown",
   "metadata": {},
   "source": [
    "## 성능 평가"
   ]
  },
  {
   "cell_type": "code",
   "execution_count": 160,
   "metadata": {
    "ExecuteTime": {
     "end_time": "2020-12-09T12:40:13.951642Z",
     "start_time": "2020-12-09T12:40:13.947731Z"
    }
   },
   "outputs": [],
   "source": [
    "from sklearn.metrics import mean_absolute_error, mean_squared_error, r2_score"
   ]
  },
  {
   "cell_type": "markdown",
   "metadata": {},
   "source": [
    "### R^2"
   ]
  },
  {
   "cell_type": "code",
   "execution_count": 223,
   "metadata": {
    "ExecuteTime": {
     "end_time": "2020-12-09T14:16:23.003809Z",
     "start_time": "2020-12-09T14:16:22.994692Z"
    }
   },
   "outputs": [
    {
     "data": {
      "text/plain": [
       "0.019727875700680686"
      ]
     },
     "execution_count": 223,
     "metadata": {},
     "output_type": "execute_result"
    }
   ],
   "source": [
    "r2 = r2_score(test_data, predicted_value)\n",
    "r2"
   ]
  },
  {
   "cell_type": "markdown",
   "metadata": {},
   "source": [
    "### MSE"
   ]
  },
  {
   "cell_type": "code",
   "execution_count": 224,
   "metadata": {
    "ExecuteTime": {
     "end_time": "2020-12-09T14:16:36.279445Z",
     "start_time": "2020-12-09T14:16:36.271469Z"
    }
   },
   "outputs": [
    {
     "data": {
      "text/plain": [
       "20910.821211736336"
      ]
     },
     "execution_count": 224,
     "metadata": {},
     "output_type": "execute_result"
    }
   ],
   "source": [
    "mse = mean_squared_error(test_data, predicted_value)\n",
    "mse"
   ]
  },
  {
   "cell_type": "markdown",
   "metadata": {},
   "source": [
    "### RMSE"
   ]
  },
  {
   "cell_type": "code",
   "execution_count": 225,
   "metadata": {
    "ExecuteTime": {
     "end_time": "2020-12-09T14:16:45.035031Z",
     "start_time": "2020-12-09T14:16:45.030426Z"
    }
   },
   "outputs": [
    {
     "data": {
      "text/plain": [
       "144.60574404820971"
      ]
     },
     "execution_count": 225,
     "metadata": {},
     "output_type": "execute_result"
    }
   ],
   "source": [
    "rmse = np.sqrt(mse)\n",
    "rmse"
   ]
  },
  {
   "cell_type": "markdown",
   "metadata": {},
   "source": [
    "### MAE"
   ]
  },
  {
   "cell_type": "code",
   "execution_count": 226,
   "metadata": {
    "ExecuteTime": {
     "end_time": "2020-12-09T14:16:51.782284Z",
     "start_time": "2020-12-09T14:16:51.774374Z"
    }
   },
   "outputs": [
    {
     "data": {
      "text/plain": [
       "108.6861962191569"
      ]
     },
     "execution_count": 226,
     "metadata": {},
     "output_type": "execute_result"
    }
   ],
   "source": [
    "mae = mean_absolute_error(test_data, predicted_value)\n",
    "mae"
   ]
  },
  {
   "cell_type": "markdown",
   "metadata": {},
   "source": [
    "### MAPE"
   ]
  },
  {
   "cell_type": "code",
   "execution_count": 165,
   "metadata": {
    "ExecuteTime": {
     "end_time": "2020-12-09T12:40:14.005897Z",
     "start_time": "2020-12-09T12:40:14.000389Z"
    }
   },
   "outputs": [],
   "source": [
    "def mp(y_test, y_pred):\n",
    "    y_test, y_pred = np.array(y_test), np.array(y_pred)\n",
    "    return np.mean(np.abs(y_test - y_pred)/y_test) * 100\n",
    "# 평균 절대 백분율 오차(MAPE)는 정확도를 오차의 백분율로 표시합니다.\n",
    "# MAPE는 백분율이기 때문에 다른 정확도 측도 통계량보다 더 쉽게 이해할 수 있습니다. \n",
    "# 예를 들어 MAPE가 5이면 예측 값은 평균 5% 벗어납니다"
   ]
  },
  {
   "cell_type": "code",
   "execution_count": 227,
   "metadata": {
    "ExecuteTime": {
     "end_time": "2020-12-09T14:17:01.938198Z",
     "start_time": "2020-12-09T14:17:01.931298Z"
    }
   },
   "outputs": [
    {
     "data": {
      "text/plain": [
       "441.99048769365373"
      ]
     },
     "execution_count": 227,
     "metadata": {},
     "output_type": "execute_result"
    }
   ],
   "source": [
    "mape = mp(test_data, predicted_value)\n",
    "mape"
   ]
  },
  {
   "cell_type": "markdown",
   "metadata": {},
   "source": [
    "## 데이터 생성"
   ]
  },
  {
   "cell_type": "code",
   "execution_count": 244,
   "metadata": {
    "ExecuteTime": {
     "end_time": "2020-12-09T14:27:58.903576Z",
     "start_time": "2020-12-09T14:27:58.896595Z"
    }
   },
   "outputs": [
    {
     "data": {
      "text/plain": [
       "Timestamp('2011-08-19 23:00:00')"
      ]
     },
     "execution_count": 244,
     "metadata": {},
     "output_type": "execute_result"
    }
   ],
   "source": [
    "# len(test_data) 자리에 원하는 만큼 숫자 넣어주면 됨\n",
    "\n",
    "prediction = model_opt_fit.forecast(len(test_data))\n",
    "predicted_value = prediction[0]   # predicted_value 가 y_pred\n",
    "predicted_ub = prediction[2][:,0]\n",
    "predicted_lb = prediction[2][:,1]\n",
    "predict_index = list(test_data.index)\n",
    "r2 = r2_score(test_data, predicted_value)"
   ]
  },
  {
   "cell_type": "markdown",
   "metadata": {},
   "source": [
    "## (참고) 계절성 반영 시 SARIMA 모델링 수행"
   ]
  },
  {
   "cell_type": "code",
   "execution_count": 230,
   "metadata": {
    "ExecuteTime": {
     "end_time": "2020-12-09T14:21:39.127827Z",
     "start_time": "2020-12-09T14:21:39.117844Z"
    }
   },
   "outputs": [
    {
     "name": "stdout",
     "output_type": "stream",
     "text": [
      "Examples of parameter combinations for Seasonal ARIMA...\n"
     ]
    },
    {
     "data": {
      "text/plain": [
       "[(0, 1, 0, 7),\n",
       " (0, 1, 1, 7),\n",
       " (0, 1, 2, 7),\n",
       " (1, 1, 0, 7),\n",
       " (1, 1, 1, 7),\n",
       " (1, 1, 2, 7),\n",
       " (2, 1, 0, 7),\n",
       " (2, 1, 1, 7),\n",
       " (2, 1, 2, 7)]"
      ]
     },
     "execution_count": 230,
     "metadata": {},
     "output_type": "execute_result"
    }
   ],
   "source": [
    "print('Examples of parameter combinations for Seasonal ARIMA...')\n",
    "p = range(0,3)\n",
    "d = range(1,2)\n",
    "q = range(0,3)\n",
    "pdq = list(itertools.product(p, d, q))\n",
    "seasonal_pdq = [(x[0], x[1], x[2], 7 # 계절성이 7일마다 있다고 생각해서 7 입력. 얘도 위에 range로 탐색해도 됨\n",
    "                ) for x in list(itertools.product(p, d, q))]\n",
    "seasonal_pdq"
   ]
  },
  {
   "cell_type": "code",
   "execution_count": 231,
   "metadata": {
    "ExecuteTime": {
     "end_time": "2020-12-09T14:24:02.786131Z",
     "start_time": "2020-12-09T14:21:47.225739Z"
    },
    "scrolled": true
   },
   "outputs": [
    {
     "name": "stdout",
     "output_type": "stream",
     "text": [
      "SARIMA: (0, 1, 0)(0, 1, 0, 7) >> AIC : 4572.25\n",
      "SARIMA: (0, 1, 0)(0, 1, 1, 7) >> AIC : 4261.5\n",
      "SARIMA: (0, 1, 0)(0, 1, 2, 7) >> AIC : 4236.78\n",
      "SARIMA: (0, 1, 0)(1, 1, 0, 7) >> AIC : 4346.58\n",
      "SARIMA: (0, 1, 0)(1, 1, 1, 7) >> AIC : 4230.88\n",
      "SARIMA: (0, 1, 0)(1, 1, 2, 7) >> AIC : 4227.12\n",
      "SARIMA: (0, 1, 0)(2, 1, 0, 7) >> AIC : 4324.8\n",
      "SARIMA: (0, 1, 0)(2, 1, 1, 7) >> AIC : 4228.58\n",
      "SARIMA: (0, 1, 0)(2, 1, 2, 7) >> AIC : 4228.98\n",
      "SARIMA: (0, 1, 1)(0, 1, 0, 7) >> AIC : 4472.44\n",
      "SARIMA: (0, 1, 1)(0, 1, 1, 7) >> AIC : 4197.85\n",
      "SARIMA: (0, 1, 1)(0, 1, 2, 7) >> AIC : 4190.14\n",
      "SARIMA: (0, 1, 1)(1, 1, 0, 7) >> AIC : 4286.48\n",
      "SARIMA: (0, 1, 1)(1, 1, 1, 7) >> AIC : 4187.24\n",
      "SARIMA: (0, 1, 1)(1, 1, 2, 7) >> AIC : 4196.09\n",
      "SARIMA: (0, 1, 1)(2, 1, 0, 7) >> AIC : 4268.11\n",
      "SARIMA: (0, 1, 1)(2, 1, 1, 7) >> AIC : 4182.24\n"
     ]
    },
    {
     "name": "stderr",
     "output_type": "stream",
     "text": [
      "C:\\Users\\50008313\\AppData\\Local\\Continuum\\anaconda3\\lib\\site-packages\\statsmodels\\base\\model.py:568: ConvergenceWarning: Maximum Likelihood optimization failed to converge. Check mle_retvals\n",
      "  \"Check mle_retvals\", ConvergenceWarning)\n"
     ]
    },
    {
     "name": "stdout",
     "output_type": "stream",
     "text": [
      "SARIMA: (0, 1, 1)(2, 1, 2, 7) >> AIC : 4189.68\n",
      "SARIMA: (0, 1, 2)(0, 1, 0, 7) >> AIC : 4474.17\n",
      "SARIMA: (0, 1, 2)(0, 1, 1, 7) >> AIC : 4197.96\n",
      "SARIMA: (0, 1, 2)(0, 1, 2, 7) >> AIC : 4188.07\n",
      "SARIMA: (0, 1, 2)(1, 1, 0, 7) >> AIC : 4288.25\n",
      "SARIMA: (0, 1, 2)(1, 1, 1, 7) >> AIC : 4185.4\n",
      "SARIMA: (0, 1, 2)(1, 1, 2, 7) >> AIC : 4194.15\n",
      "SARIMA: (0, 1, 2)(2, 1, 0, 7) >> AIC : 4270.03\n",
      "SARIMA: (0, 1, 2)(2, 1, 1, 7) >> AIC : 4182.81\n",
      "SARIMA: (0, 1, 2)(2, 1, 2, 7) >> AIC : 4186.93\n",
      "SARIMA: (1, 1, 0)(0, 1, 0, 7) >> AIC : 4519.98\n",
      "SARIMA: (1, 1, 0)(0, 1, 1, 7) >> AIC : 4224.81\n",
      "SARIMA: (1, 1, 0)(0, 1, 2, 7) >> AIC : 4210.56\n",
      "SARIMA: (1, 1, 0)(1, 1, 0, 7) >> AIC : 4297.35\n",
      "SARIMA: (1, 1, 0)(1, 1, 1, 7) >> AIC : 4205.15\n",
      "SARIMA: (1, 1, 0)(1, 1, 2, 7) >> AIC : 4220.77\n",
      "SARIMA: (1, 1, 0)(2, 1, 0, 7) >> AIC : 4282.27\n",
      "SARIMA: (1, 1, 0)(2, 1, 1, 7) >> AIC : 4197.44\n"
     ]
    },
    {
     "name": "stderr",
     "output_type": "stream",
     "text": [
      "C:\\Users\\50008313\\AppData\\Local\\Continuum\\anaconda3\\lib\\site-packages\\statsmodels\\base\\model.py:568: ConvergenceWarning: Maximum Likelihood optimization failed to converge. Check mle_retvals\n",
      "  \"Check mle_retvals\", ConvergenceWarning)\n"
     ]
    },
    {
     "name": "stdout",
     "output_type": "stream",
     "text": [
      "SARIMA: (1, 1, 0)(2, 1, 2, 7) >> AIC : 4207.81\n",
      "SARIMA: (1, 1, 1)(0, 1, 0, 7) >> AIC : 4474.34\n",
      "SARIMA: (1, 1, 1)(0, 1, 1, 7) >> AIC : 4198.97\n",
      "SARIMA: (1, 1, 1)(0, 1, 2, 7) >> AIC : 4190.22\n",
      "SARIMA: (1, 1, 1)(1, 1, 0, 7) >> AIC : 4288.31\n",
      "SARIMA: (1, 1, 1)(1, 1, 1, 7) >> AIC : 4187.32\n",
      "SARIMA: (1, 1, 1)(1, 1, 2, 7) >> AIC : 4196.35\n",
      "SARIMA: (1, 1, 1)(2, 1, 0, 7) >> AIC : 4270.07\n",
      "SARIMA: (1, 1, 1)(2, 1, 1, 7) >> AIC : 4183.45\n",
      "SARIMA: (1, 1, 1)(2, 1, 2, 7) >> AIC : 4189.44\n",
      "SARIMA: (1, 1, 2)(0, 1, 0, 7) >> AIC : 4421.86\n",
      "SARIMA: (1, 1, 2)(0, 1, 1, 7) >> AIC : 4150.66\n",
      "SARIMA: (1, 1, 2)(0, 1, 2, 7) >> AIC : 4141.32\n",
      "SARIMA: (1, 1, 2)(1, 1, 0, 7) >> AIC : 4287.23\n",
      "SARIMA: (1, 1, 2)(1, 1, 1, 7) >> AIC : 4139.87\n",
      "SARIMA: (1, 1, 2)(1, 1, 2, 7) >> AIC : 4162.61\n",
      "SARIMA: (1, 1, 2)(2, 1, 0, 7) >> AIC : 4226.17\n",
      "SARIMA: (1, 1, 2)(2, 1, 1, 7) >> AIC : 4140.72\n"
     ]
    },
    {
     "name": "stderr",
     "output_type": "stream",
     "text": [
      "C:\\Users\\50008313\\AppData\\Local\\Continuum\\anaconda3\\lib\\site-packages\\statsmodels\\base\\model.py:568: ConvergenceWarning: Maximum Likelihood optimization failed to converge. Check mle_retvals\n",
      "  \"Check mle_retvals\", ConvergenceWarning)\n"
     ]
    },
    {
     "name": "stdout",
     "output_type": "stream",
     "text": [
      "SARIMA: (1, 1, 2)(2, 1, 2, 7) >> AIC : 4142.36\n",
      "SARIMA: (2, 1, 0)(0, 1, 0, 7) >> AIC : 4449.53\n",
      "SARIMA: (2, 1, 0)(0, 1, 1, 7) >> AIC : 4183.9\n",
      "SARIMA: (2, 1, 0)(0, 1, 2, 7) >> AIC : 4177.57\n",
      "SARIMA: (2, 1, 0)(1, 1, 0, 7) >> AIC : 4284.58\n",
      "SARIMA: (2, 1, 0)(1, 1, 1, 7) >> AIC : 4175.94\n",
      "SARIMA: (2, 1, 0)(1, 1, 2, 7) >> AIC : 4182.55\n",
      "SARIMA: (2, 1, 0)(2, 1, 0, 7) >> AIC : 4256.46\n",
      "SARIMA: (2, 1, 0)(2, 1, 1, 7) >> AIC : 4175.27\n",
      "SARIMA: (2, 1, 0)(2, 1, 2, 7) >> AIC : 4179.2\n",
      "SARIMA: (2, 1, 1)(0, 1, 0, 7) >> AIC : 4450.49\n",
      "SARIMA: (2, 1, 1)(0, 1, 1, 7) >> AIC : 4185.62\n",
      "SARIMA: (2, 1, 1)(0, 1, 2, 7) >> AIC : 4145.43\n",
      "SARIMA: (2, 1, 1)(1, 1, 0, 7) >> AIC : 4245.92\n",
      "SARIMA: (2, 1, 1)(1, 1, 1, 7) >> AIC : 4142.92\n",
      "SARIMA: (2, 1, 1)(1, 1, 2, 7) >> AIC : 4163.12\n"
     ]
    },
    {
     "name": "stderr",
     "output_type": "stream",
     "text": [
      "C:\\Users\\50008313\\AppData\\Local\\Continuum\\anaconda3\\lib\\site-packages\\statsmodels\\base\\model.py:568: ConvergenceWarning: Maximum Likelihood optimization failed to converge. Check mle_retvals\n",
      "  \"Check mle_retvals\", ConvergenceWarning)\n"
     ]
    },
    {
     "name": "stdout",
     "output_type": "stream",
     "text": [
      "SARIMA: (2, 1, 1)(2, 1, 0, 7) >> AIC : 4220.79\n",
      "SARIMA: (2, 1, 1)(2, 1, 1, 7) >> AIC : 4142.27\n",
      "SARIMA: (2, 1, 1)(2, 1, 2, 7) >> AIC : 4142.98\n",
      "SARIMA: (2, 1, 2)(0, 1, 0, 7) >> AIC : 4388.5\n",
      "SARIMA: (2, 1, 2)(0, 1, 1, 7) >> AIC : 4181.84\n",
      "SARIMA: (2, 1, 2)(0, 1, 2, 7) >> AIC : 4170.11\n"
     ]
    },
    {
     "name": "stderr",
     "output_type": "stream",
     "text": [
      "C:\\Users\\50008313\\AppData\\Local\\Continuum\\anaconda3\\lib\\site-packages\\statsmodels\\base\\model.py:568: ConvergenceWarning: Maximum Likelihood optimization failed to converge. Check mle_retvals\n",
      "  \"Check mle_retvals\", ConvergenceWarning)\n"
     ]
    },
    {
     "name": "stdout",
     "output_type": "stream",
     "text": [
      "SARIMA: (2, 1, 2)(1, 1, 0, 7) >> AIC : 4246.16\n",
      "SARIMA: (2, 1, 2)(1, 1, 1, 7) >> AIC : 4165.27\n",
      "SARIMA: (2, 1, 2)(1, 1, 2, 7) >> AIC : 4152.32\n",
      "SARIMA: (2, 1, 2)(2, 1, 0, 7) >> AIC : 4253.74\n",
      "SARIMA: (2, 1, 2)(2, 1, 1, 7) >> AIC : 4153.63\n",
      "SARIMA: (2, 1, 2)(2, 1, 2, 7) >> AIC : 4139.82\n"
     ]
    }
   ],
   "source": [
    "aic = []\n",
    "params = []\n",
    "for i in pdq:\n",
    "    for j in seasonal_pdq:\n",
    "        try:\n",
    "            model = SARIMAX(train_data.values, order=(i), seasonal_order = (j))\n",
    "            model_fit = model.fit()\n",
    "            print(f'SARIMA: {i}{j} >> AIC : {round(model_fit.aic,2)}')\n",
    "            aic.append(round(model_fit.aic,2))\n",
    "            params.append((i, j))\n",
    "        except:\n",
    "            continue"
   ]
  },
  {
   "cell_type": "code",
   "execution_count": 232,
   "metadata": {
    "ExecuteTime": {
     "end_time": "2020-12-09T14:24:03.096701Z",
     "start_time": "2020-12-09T14:24:03.087522Z"
    }
   },
   "outputs": [
    {
     "data": {
      "text/plain": [
       "[(((2, 1, 2), (2, 1, 2, 7)), 4139.82)]"
      ]
     },
     "execution_count": 232,
     "metadata": {},
     "output_type": "execute_result"
    }
   ],
   "source": [
    "# Search optimal parameters\n",
    "\n",
    "optimal = [(params[i], j) for i, j in enumerate(aic) if j == min(aic)]\n",
    "optimal\n",
    "\n",
    "# small pdq는 (1,1,0), large pdq는 (1,1,2) 그리고 Seasonal parameter는 12인 것을 볼 수 있다."
   ]
  },
  {
   "cell_type": "code",
   "execution_count": 233,
   "metadata": {
    "ExecuteTime": {
     "end_time": "2020-12-09T14:24:07.706812Z",
     "start_time": "2020-12-09T14:24:03.385286Z"
    }
   },
   "outputs": [
    {
     "data": {
      "text/html": [
       "<table class=\"simpletable\">\n",
       "<caption>SARIMAX Results</caption>\n",
       "<tr>\n",
       "  <th>Dep. Variable:</th>                 <td>y</td>               <th>  No. Observations:  </th>    <td>364</td>   \n",
       "</tr>\n",
       "<tr>\n",
       "  <th>Model:</th>           <td>SARIMAX(2, 1, 2)x(2, 1, 2, 7)</td> <th>  Log Likelihood     </th> <td>-2060.909</td>\n",
       "</tr>\n",
       "<tr>\n",
       "  <th>Date:</th>                  <td>Wed, 09 Dec 2020</td>        <th>  AIC                </th> <td>4139.819</td> \n",
       "</tr>\n",
       "<tr>\n",
       "  <th>Time:</th>                      <td>23:24:07</td>            <th>  BIC                </th> <td>4174.693</td> \n",
       "</tr>\n",
       "<tr>\n",
       "  <th>Sample:</th>                        <td>0</td>               <th>  HQIC               </th> <td>4153.691</td> \n",
       "</tr>\n",
       "<tr>\n",
       "  <th></th>                            <td> - 364</td>             <th>                     </th>     <td> </td>    \n",
       "</tr>\n",
       "<tr>\n",
       "  <th>Covariance Type:</th>              <td>opg</td>              <th>                     </th>     <td> </td>    \n",
       "</tr>\n",
       "</table>\n",
       "<table class=\"simpletable\">\n",
       "<tr>\n",
       "      <td></td>        <th>coef</th>     <th>std err</th>      <th>z</th>      <th>P>|z|</th>  <th>[0.025</th>    <th>0.975]</th>  \n",
       "</tr>\n",
       "<tr>\n",
       "  <th>ar.L1</th>    <td>    0.9201</td> <td>    0.135</td> <td>    6.834</td> <td> 0.000</td> <td>    0.656</td> <td>    1.184</td>\n",
       "</tr>\n",
       "<tr>\n",
       "  <th>ar.L2</th>    <td>   -0.2209</td> <td>    0.131</td> <td>   -1.682</td> <td> 0.092</td> <td>   -0.478</td> <td>    0.036</td>\n",
       "</tr>\n",
       "<tr>\n",
       "  <th>ma.L1</th>    <td>   -0.6882</td> <td>    2.654</td> <td>   -0.259</td> <td> 0.795</td> <td>   -5.889</td> <td>    4.513</td>\n",
       "</tr>\n",
       "<tr>\n",
       "  <th>ma.L2</th>    <td>   -0.3115</td> <td>    0.873</td> <td>   -0.357</td> <td> 0.721</td> <td>   -2.023</td> <td>    1.400</td>\n",
       "</tr>\n",
       "<tr>\n",
       "  <th>ar.S.L7</th>  <td>   -0.6366</td> <td>    0.572</td> <td>   -1.112</td> <td> 0.266</td> <td>   -1.759</td> <td>    0.485</td>\n",
       "</tr>\n",
       "<tr>\n",
       "  <th>ar.S.L14</th> <td>   -0.0065</td> <td>    0.146</td> <td>   -0.045</td> <td> 0.964</td> <td>   -0.293</td> <td>    0.279</td>\n",
       "</tr>\n",
       "<tr>\n",
       "  <th>ma.S.L7</th>  <td>   -0.5230</td> <td>    0.777</td> <td>   -0.674</td> <td> 0.501</td> <td>   -2.045</td> <td>    0.999</td>\n",
       "</tr>\n",
       "<tr>\n",
       "  <th>ma.S.L14</th> <td>   -0.4729</td> <td>    0.587</td> <td>   -0.806</td> <td> 0.420</td> <td>   -1.623</td> <td>    0.677</td>\n",
       "</tr>\n",
       "<tr>\n",
       "  <th>sigma2</th>   <td> 5610.3109</td> <td> 1.45e+04</td> <td>    0.386</td> <td> 0.700</td> <td>-2.29e+04</td> <td> 3.41e+04</td>\n",
       "</tr>\n",
       "</table>\n",
       "<table class=\"simpletable\">\n",
       "<tr>\n",
       "  <th>Ljung-Box (Q):</th>          <td>235.96</td> <th>  Jarque-Bera (JB):  </th> <td>124.42</td>\n",
       "</tr>\n",
       "<tr>\n",
       "  <th>Prob(Q):</th>                 <td>0.00</td>  <th>  Prob(JB):          </th>  <td>0.00</td> \n",
       "</tr>\n",
       "<tr>\n",
       "  <th>Heteroskedasticity (H):</th>  <td>0.77</td>  <th>  Skew:              </th>  <td>0.73</td> \n",
       "</tr>\n",
       "<tr>\n",
       "  <th>Prob(H) (two-sided):</th>     <td>0.16</td>  <th>  Kurtosis:          </th>  <td>5.50</td> \n",
       "</tr>\n",
       "</table><br/><br/>Warnings:<br/>[1] Covariance matrix calculated using the outer product of gradients (complex-step)."
      ],
      "text/plain": [
       "<class 'statsmodels.iolib.summary.Summary'>\n",
       "\"\"\"\n",
       "                                     SARIMAX Results                                     \n",
       "=========================================================================================\n",
       "Dep. Variable:                                 y   No. Observations:                  364\n",
       "Model:             SARIMAX(2, 1, 2)x(2, 1, 2, 7)   Log Likelihood               -2060.909\n",
       "Date:                           Wed, 09 Dec 2020   AIC                           4139.819\n",
       "Time:                                   23:24:07   BIC                           4174.693\n",
       "Sample:                                        0   HQIC                          4153.691\n",
       "                                           - 364                                         \n",
       "Covariance Type:                             opg                                         \n",
       "==============================================================================\n",
       "                 coef    std err          z      P>|z|      [0.025      0.975]\n",
       "------------------------------------------------------------------------------\n",
       "ar.L1          0.9201      0.135      6.834      0.000       0.656       1.184\n",
       "ar.L2         -0.2209      0.131     -1.682      0.092      -0.478       0.036\n",
       "ma.L1         -0.6882      2.654     -0.259      0.795      -5.889       4.513\n",
       "ma.L2         -0.3115      0.873     -0.357      0.721      -2.023       1.400\n",
       "ar.S.L7       -0.6366      0.572     -1.112      0.266      -1.759       0.485\n",
       "ar.S.L14      -0.0065      0.146     -0.045      0.964      -0.293       0.279\n",
       "ma.S.L7       -0.5230      0.777     -0.674      0.501      -2.045       0.999\n",
       "ma.S.L14      -0.4729      0.587     -0.806      0.420      -1.623       0.677\n",
       "sigma2      5610.3109   1.45e+04      0.386      0.700   -2.29e+04    3.41e+04\n",
       "===================================================================================\n",
       "Ljung-Box (Q):                      235.96   Jarque-Bera (JB):               124.42\n",
       "Prob(Q):                              0.00   Prob(JB):                         0.00\n",
       "Heteroskedasticity (H):               0.77   Skew:                             0.73\n",
       "Prob(H) (two-sided):                  0.16   Kurtosis:                         5.50\n",
       "===================================================================================\n",
       "\n",
       "Warnings:\n",
       "[1] Covariance matrix calculated using the outer product of gradients (complex-step).\n",
       "\"\"\""
      ]
     },
     "execution_count": 233,
     "metadata": {},
     "output_type": "execute_result"
    }
   ],
   "source": [
    "model_opt = SARIMAX(train_data.values, order=optimal[0][0][0], seasonal_order = optimal[0][0][1])\n",
    "model_opt_fit = model_opt.fit()\n",
    "model_opt_fit.summary()\n",
    "\n",
    "# ARIMA보다 SARIMA가 AIC가 훨씬 낮은 것을 볼 수 있다."
   ]
  },
  {
   "cell_type": "markdown",
   "metadata": {},
   "source": [
    "## Test data 예측 및 성능평가는 위와 동일"
   ]
  },
  {
   "cell_type": "code",
   "execution_count": 234,
   "metadata": {
    "ExecuteTime": {
     "end_time": "2020-12-09T14:24:08.017512Z",
     "start_time": "2020-12-09T14:24:07.999282Z"
    }
   },
   "outputs": [],
   "source": [
    "prediction = model_opt_fit.get_forecast(len(test_data))\n",
    "predicted_value = prediction.predicted_mean\n",
    "predicted_ub = prediction.conf_int()[:,0]\n",
    "predicted_lb = prediction.conf_int()[:,1]\n",
    "predict_index = list(test_data.index)\n",
    "r2 = r2_score(test_data, predicted_value)"
   ]
  },
  {
   "cell_type": "code",
   "execution_count": 236,
   "metadata": {
    "ExecuteTime": {
     "end_time": "2020-12-09T14:24:36.902819Z",
     "start_time": "2020-12-09T14:24:36.608701Z"
    }
   },
   "outputs": [
    {
     "name": "stderr",
     "output_type": "stream",
     "text": [
      "C:\\Users\\50008313\\AppData\\Local\\Continuum\\anaconda3\\lib\\site-packages\\matplotlib\\backends\\backend_agg.py:238: RuntimeWarning: Glyph 8722 missing from current font.\n",
      "  font.set_text(s, 0.0, flags=flags)\n",
      "C:\\Users\\50008313\\AppData\\Local\\Continuum\\anaconda3\\lib\\site-packages\\matplotlib\\backends\\backend_agg.py:201: RuntimeWarning: Glyph 8722 missing from current font.\n",
      "  font.set_text(s, 0, flags=flags)\n"
     ]
    },
    {
     "data": {
      "image/png": "[encoded data removed]",
      "text/plain": [
       "<Figure size 864x432 with 1 Axes>"
      ]
     },
     "metadata": {
      "needs_background": "light"
     },
     "output_type": "display_data"
    }
   ],
   "source": [
    "fig, ax = plt.subplots(figsize=(12,6))\n",
    "\n",
    "ax.plot(predict_index, predicted_value, color = 'orange', label = 'Prediction') # 예측값(위 vline 이후 구간에 표시됨)\n",
    "ax.fill_between(predict_index, predicted_lb, predicted_ub, color = 'k', alpha = 0.1, label = '0.95 Prediction Interval')\n",
    "\n",
    "data.plot(ax = ax);\n",
    "# ax.vlines('1958-08-01', 0, 700, linestyle = '--', color = 'r', label = 'Start of Forecast') # x좌표를 날짜로 적음\n",
    "# ax.legend(loc='upper left')\n",
    "# plt.suptitle(f'SARIMA {optimal[0][0][0]},{optimal[0][0][1]} Prediction Results (r2_score: {round(r2,2)})')\n",
    "\n",
    "plt.show()\n",
    "\n",
    "# 예측 값의 추세가 실제 값을 상당히 잘 따라가고 있으며,\n",
    "# r2 score가 0.89로 훨씬 더 성능이 향상됨\n",
    "# 계절성을 반영한 것이 예측 성능을 향상시키는데 기여를 했다고 볼 수 있다."
   ]
  },
  {
   "cell_type": "markdown",
   "metadata": {},
   "source": [
    "## Test data 예측 및 성능평가는 위와 동일"
   ]
  }
 ],
 "metadata": {
  "kernelspec": {
   "display_name": "Python 3",
   "language": "python",
   "name": "python3"
  },
  "language_info": {
   "codemirror_mode": {
    "name": "ipython",
    "version": 3
   },
   "file_extension": ".py",
   "mimetype": "text/x-python",
   "name": "python",
   "nbconvert_exporter": "python",
   "pygments_lexer": "ipython3",
   "version": "3.7.4"
  },
  "toc": {
   "base_numbering": 1,
   "nav_menu": {},
   "number_sections": true,
   "sideBar": true,
   "skip_h1_title": false,
   "title_cell": "Table of Contents",
   "title_sidebar": "Contents",
   "toc_cell": false,
   "toc_position": {
    "height": "calc(100% - 180px)",
    "left": "10px",
    "top": "150px",
    "width": "384px"
   },
   "toc_section_display": true,
   "toc_window_display": true
  },
  "varInspector": {
   "cols": {
    "lenName": 16,
    "lenType": 16,
    "lenVar": 40
   },
   "kernels_config": {
    "python": {
     "delete_cmd_postfix": "",
     "delete_cmd_prefix": "del ",
     "library": "var_list.py",
     "varRefreshCmd": "print(var_dic_list())"
    },
    "r": {
     "delete_cmd_postfix": ") ",
     "delete_cmd_prefix": "rm(",
     "library": "var_list.r",
     "varRefreshCmd": "cat(var_dic_list()) "
    }
   },
   "types_to_exclude": [
    "module",
    "function",
    "builtin_function_or_method",
    "instance",
    "_Feature"
   ],
   "window_display": false
  }
 },
 "nbformat": 4,
 "nbformat_minor": 2
}
