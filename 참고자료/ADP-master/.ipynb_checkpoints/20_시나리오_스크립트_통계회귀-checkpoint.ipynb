{
 "cells": [
  {
   "cell_type": "markdown",
   "metadata": {},
   "source": [
    "회귀 및 해석(알고리즘 여러가지), 분류 및 해석 / 교호작용 해석 / 잔차분석 정상화 해석 / t-test"
   ]
  },
  {
   "cell_type": "markdown",
   "metadata": {},
   "source": [
    "# 라이브러리"
   ]
  },
  {
   "cell_type": "code",
   "execution_count": 4,
   "metadata": {
    "ExecuteTime": {
     "end_time": "2020-12-10T12:12:48.484084Z",
     "start_time": "2020-12-10T12:12:48.475106Z"
    }
   },
   "outputs": [],
   "source": [
    "import pandas as pd\n",
    "import numpy as np\n",
    "import scipy.stats as spst\n",
    "import statsmodels.api as sm\n",
    "from patsy import dmatrices\n",
    "\n",
    "import matplotlib.pyplot as plt\n",
    "import seaborn as sns\n",
    "%matplotlib inline"
   ]
  },
  {
   "cell_type": "markdown",
   "metadata": {},
   "source": [
    "# 데이터 로딩"
   ]
  },
  {
   "cell_type": "code",
   "execution_count": 3,
   "metadata": {
    "ExecuteTime": {
     "end_time": "2020-12-10T12:12:45.144415Z",
     "start_time": "2020-12-10T12:12:45.131450Z"
    }
   },
   "outputs": [],
   "source": [
    "df = pd.read_csv('./data/ToothGrowth.csv')"
   ]
  },
  {
   "cell_type": "code",
   "execution_count": 9,
   "metadata": {
    "ExecuteTime": {
     "end_time": "2020-12-10T12:13:44.985848Z",
     "start_time": "2020-12-10T12:13:44.978867Z"
    }
   },
   "outputs": [],
   "source": [
    "df = df.drop('Unnamed: 0', axis=1)"
   ]
  },
  {
   "cell_type": "code",
   "execution_count": 26,
   "metadata": {
    "ExecuteTime": {
     "end_time": "2020-12-10T12:29:24.079652Z",
     "start_time": "2020-12-10T12:29:24.067692Z"
    }
   },
   "outputs": [
    {
     "data": {
      "text/html": [
       "<div>\n",
       "<style scoped>\n",
       "    .dataframe tbody tr th:only-of-type {\n",
       "        vertical-align: middle;\n",
       "    }\n",
       "\n",
       "    .dataframe tbody tr th {\n",
       "        vertical-align: top;\n",
       "    }\n",
       "\n",
       "    .dataframe thead th {\n",
       "        text-align: right;\n",
       "    }\n",
       "</style>\n",
       "<table border=\"1\" class=\"dataframe\">\n",
       "  <thead>\n",
       "    <tr style=\"text-align: right;\">\n",
       "      <th></th>\n",
       "      <th>y</th>\n",
       "      <th>x2</th>\n",
       "      <th>x1</th>\n",
       "    </tr>\n",
       "  </thead>\n",
       "  <tbody>\n",
       "    <tr>\n",
       "      <th>0</th>\n",
       "      <td>4.2</td>\n",
       "      <td>VC</td>\n",
       "      <td>0.5</td>\n",
       "    </tr>\n",
       "    <tr>\n",
       "      <th>1</th>\n",
       "      <td>11.5</td>\n",
       "      <td>VC</td>\n",
       "      <td>0.5</td>\n",
       "    </tr>\n",
       "    <tr>\n",
       "      <th>2</th>\n",
       "      <td>7.3</td>\n",
       "      <td>VC</td>\n",
       "      <td>0.5</td>\n",
       "    </tr>\n",
       "    <tr>\n",
       "      <th>3</th>\n",
       "      <td>5.8</td>\n",
       "      <td>VC</td>\n",
       "      <td>0.5</td>\n",
       "    </tr>\n",
       "    <tr>\n",
       "      <th>4</th>\n",
       "      <td>6.4</td>\n",
       "      <td>VC</td>\n",
       "      <td>0.5</td>\n",
       "    </tr>\n",
       "  </tbody>\n",
       "</table>\n",
       "</div>"
      ],
      "text/plain": [
       "      y  x2   x1\n",
       "0   4.2  VC  0.5\n",
       "1  11.5  VC  0.5\n",
       "2   7.3  VC  0.5\n",
       "3   5.8  VC  0.5\n",
       "4   6.4  VC  0.5"
      ]
     },
     "execution_count": 26,
     "metadata": {},
     "output_type": "execute_result"
    }
   ],
   "source": [
    "df = df.rename(columns={'len':'y', 'supp':'x2','dose':'x1'})\n",
    "df.head()"
   ]
  },
  {
   "cell_type": "markdown",
   "metadata": {},
   "source": [
    "# 도수분포표 / 시각화(countplot, hist)"
   ]
  },
  {
   "cell_type": "code",
   "execution_count": 27,
   "metadata": {
    "ExecuteTime": {
     "end_time": "2020-12-10T12:29:30.048737Z",
     "start_time": "2020-12-10T12:29:30.040764Z"
    }
   },
   "outputs": [
    {
     "data": {
      "text/plain": [
       "OJ    30\n",
       "VC    30\n",
       "Name: x2, dtype: int64"
      ]
     },
     "execution_count": 27,
     "metadata": {},
     "output_type": "execute_result"
    }
   ],
   "source": [
    "df['x2'].value_counts()"
   ]
  },
  {
   "cell_type": "code",
   "execution_count": 28,
   "metadata": {
    "ExecuteTime": {
     "end_time": "2020-12-10T12:29:33.990771Z",
     "start_time": "2020-12-10T12:29:33.849480Z"
    }
   },
   "outputs": [
    {
     "data": {
      "image/png": "[encoded data removed]",
      "text/plain": [
       "<Figure size 432x288 with 1 Axes>"
      ]
     },
     "metadata": {
      "needs_background": "light"
     },
     "output_type": "display_data"
    }
   ],
   "source": [
    "sns.countplot(df['x2'])        ; plt.show()"
   ]
  },
  {
   "cell_type": "code",
   "execution_count": 29,
   "metadata": {
    "ExecuteTime": {
     "end_time": "2020-12-10T12:29:39.860384Z",
     "start_time": "2020-12-10T12:29:39.561669Z"
    }
   },
   "outputs": [
    {
     "data": {
      "text/plain": [
       "<AxesSubplot:xlabel='y'>"
      ]
     },
     "execution_count": 29,
     "metadata": {},
     "output_type": "execute_result"
    },
    {
     "data": {
      "image/png": "[encoded data removed]",
      "text/plain": [
       "<Figure size 432x288 with 1 Axes>"
      ]
     },
     "metadata": {
      "needs_background": "light"
     },
     "output_type": "display_data"
    }
   ],
   "source": [
    "sns.distplot(df['y'], bins=4, kde=False)"
   ]
  },
  {
   "cell_type": "markdown",
   "metadata": {},
   "source": [
    "# 공분산\n",
    "- 공분산(covariance): 두 변수가 함께 변화하는 정도를 나타내는 지표"
   ]
  },
  {
   "cell_type": "code",
   "execution_count": 33,
   "metadata": {
    "ExecuteTime": {
     "end_time": "2020-12-10T12:30:35.351763Z",
     "start_time": "2020-12-10T12:30:35.151775Z"
    }
   },
   "outputs": [
    {
     "data": {
      "text/plain": [
       "[<matplotlib.lines.Line2D at 0x25c1a783288>]"
      ]
     },
     "execution_count": 33,
     "metadata": {},
     "output_type": "execute_result"
    },
    {
     "data": {
      "image/png": "[encoded data removed]",
      "text/plain": [
       "<Figure size 432x288 with 1 Axes>"
      ]
     },
     "metadata": {
      "needs_background": "light"
     },
     "output_type": "display_data"
    }
   ],
   "source": [
    "import matplotlib.pyplot as plt\n",
    "plt.plot(df['x1'], df['y'], 'o')"
   ]
  },
  {
   "cell_type": "code",
   "execution_count": 36,
   "metadata": {
    "ExecuteTime": {
     "end_time": "2020-12-10T12:31:40.209237Z",
     "start_time": "2020-12-10T12:31:40.201287Z"
    }
   },
   "outputs": [
    {
     "data": {
      "text/plain": [
       "3.861299435028249"
      ]
     },
     "execution_count": 36,
     "metadata": {},
     "output_type": "execute_result"
    }
   ],
   "source": [
    "# 공분산 계산\n",
    "np.cov(df['x1'], df['y'])[0, 1]"
   ]
  },
  {
   "cell_type": "markdown",
   "metadata": {},
   "source": [
    "- 부호:\n",
    "- 공분산이 +인 경우: 두 변수가 같은 방향으로 변화(하나가 증가하면 다른 하나도 증가)\n",
    "- 공분산이 -인 경우: 두 변수가 반대 방향으로 변화(하나가 증가하면 다른 하나는 감소)\n",
    "\n",
    "- 크기:\n",
    "- 공분산 = 0이면 두 변수가 독립, 즉, 한 변수의 변화로 다른 변수의 변화를 예측하지 못함\n",
    "- 공분산의 크기가 클 수록 두 변수는 함께 많이 변화\n",
    "- 단위에 따라 공분산의 크기가 달라지므로 절대적 크기로 판단이 어려움\n",
    "- 공분산을 -1 ~ 1 범위로 표준화 시킨 것이 상관계수\n",
    "\n",
    "- 주의: 공분산은 선형적인 관계를 측정하기 때문에 두 변수가 비선형적으로 함께 변하는 경우는 잘 측정하지 못함\n",
    "- 아래 z와 w는 w=z^2의 관계가 있지만 공분산은 0"
   ]
  },
  {
   "cell_type": "markdown",
   "metadata": {},
   "source": [
    "# 상관계수\n",
    "\n",
    "- 두 변수의 관계가 선형적(= 직선)인지 확인할 것!\n",
    "- 산점도을 그려서 확인\n",
    "- 명확하게 두 변수의 관계가 곡선 형태라면 spearman이나 kendall의 방법을 사용"
   ]
  },
  {
   "cell_type": "code",
   "execution_count": 37,
   "metadata": {
    "ExecuteTime": {
     "end_time": "2020-12-10T12:42:25.699947Z",
     "start_time": "2020-12-10T12:42:25.687007Z"
    }
   },
   "outputs": [
    {
     "data": {
      "text/html": [
       "<div>\n",
       "<style scoped>\n",
       "    .dataframe tbody tr th:only-of-type {\n",
       "        vertical-align: middle;\n",
       "    }\n",
       "\n",
       "    .dataframe tbody tr th {\n",
       "        vertical-align: top;\n",
       "    }\n",
       "\n",
       "    .dataframe thead th {\n",
       "        text-align: right;\n",
       "    }\n",
       "</style>\n",
       "<table border=\"1\" class=\"dataframe\">\n",
       "  <thead>\n",
       "    <tr style=\"text-align: right;\">\n",
       "      <th></th>\n",
       "      <th>y</th>\n",
       "      <th>x1</th>\n",
       "    </tr>\n",
       "  </thead>\n",
       "  <tbody>\n",
       "    <tr>\n",
       "      <th>y</th>\n",
       "      <td>1.000000</td>\n",
       "      <td>0.802691</td>\n",
       "    </tr>\n",
       "    <tr>\n",
       "      <th>x1</th>\n",
       "      <td>0.802691</td>\n",
       "      <td>1.000000</td>\n",
       "    </tr>\n",
       "  </tbody>\n",
       "</table>\n",
       "</div>"
      ],
      "text/plain": [
       "           y        x1\n",
       "y   1.000000  0.802691\n",
       "x1  0.802691  1.000000"
      ]
     },
     "execution_count": 37,
     "metadata": {},
     "output_type": "execute_result"
    }
   ],
   "source": [
    "df.corr()"
   ]
  },
  {
   "cell_type": "markdown",
   "metadata": {
    "ExecuteTime": {
     "end_time": "2020-12-10T12:45:37.896363Z",
     "start_time": "2020-12-10T12:45:37.887419Z"
    }
   },
   "source": [
    "- 공분산과 비슷하게 해석\n",
    "- 부호:\n",
    "- 상관이 +인 경우: 두 변수가 같은 방향으로 변화(하나가 증가하면 다른 하나도 증가)\n",
    "- 상관이 -인 경우: 두 변수가 반대 방향으로 변화(하나가 증가하면 다른 하나는 감소)\n",
    "- 크기:\n",
    "- 상관 = 0이면 두 변수가 독립, 즉, 한 변수의 변화로 다른 변수의 변화를 예측하지 못함\n",
    "- 상관이 클 수록 두 변수는 함께 많이 변화\n",
    "- pearson 상관계수를 제곱하면 분산(=변화량)에서 공유하는 비율\n",
    "- 예를 들어 x와 y의 상관계수가 0.4이면 그 제곱은 0.16(=16%)\n",
    "- x의 분산 중 16%를 y와 공유 또는 x의 분산 중 16%가 y로 설명됨\n",
    "- 주의: 상관계수는 선형적인 관계를 측정하기 때문에 두 변수가 비선형적으로 함께 변하는 경우는 잘 측정하지 못함\n",
    "- 아래 z와 w는 w=z^2 의 관계가 있지만 상관계수는 0\n",
    "- pearson 상관계수는 공분산을 그 기반으로 하기 때문에, 기본적으로 등간척도/비율척도 를 사용한 변수에만 적용가능함"
   ]
  },
  {
   "cell_type": "code",
   "execution_count": 39,
   "metadata": {
    "ExecuteTime": {
     "end_time": "2020-12-10T12:46:37.393062Z",
     "start_time": "2020-12-10T12:46:37.383096Z"
    }
   },
   "outputs": [
    {
     "data": {
      "text/plain": [
       "0.8283414852955329"
      ]
     },
     "execution_count": 39,
     "metadata": {},
     "output_type": "execute_result"
    }
   ],
   "source": [
    "# spearman\n",
    "# 상관분석을 실시함에 있어 서열척도 를 사용한 변수가 포함되어 있거나\n",
    "# 등간/비율척도를 사용한 변수들이라 하더라도, 두 변수 간의 관계가 비선형적 일 때 구하는 상관계수\n",
    "\n",
    "import scipy.stats\n",
    "scipy.stats.spearmanr(df['x1'], df['y']).correlation"
   ]
  },
  {
   "cell_type": "code",
   "execution_count": 40,
   "metadata": {
    "ExecuteTime": {
     "end_time": "2020-12-10T12:47:30.214117Z",
     "start_time": "2020-12-10T12:47:30.207154Z"
    }
   },
   "outputs": [
    {
     "data": {
      "text/plain": [
       "0.6959839025992953"
      ]
     },
     "execution_count": 40,
     "metadata": {},
     "output_type": "execute_result"
    }
   ],
   "source": [
    "# kendall의 tau\n",
    "# spearman의 상관계수와 마찬가지로, 비선형적 관게이거나 서열변수일 때 사용\n",
    "# spearman의 상관계수보다 믿을만 한 것으로 알려짐 (특히 표본이 작을 때)\n",
    "scipy.stats.kendalltau(df['x1'], df['y']).correlation"
   ]
  },
  {
   "cell_type": "markdown",
   "metadata": {},
   "source": [
    "# 상관계수의 통계적 검증\n",
    "- 우리가 구한 상관계수는 표본에서 구한 것\n",
    "- 동일한 모집단에서도 표본에 따라 상관계수가 달라질 수 있음"
   ]
  },
  {
   "cell_type": "code",
   "execution_count": 41,
   "metadata": {
    "ExecuteTime": {
     "end_time": "2020-12-10T12:48:32.623194Z",
     "start_time": "2020-12-10T12:48:32.615216Z"
    }
   },
   "outputs": [
    {
     "data": {
      "text/plain": [
       "(0.802691269332492, 1.2326982210946444e-14)"
      ]
     },
     "execution_count": 41,
     "metadata": {},
     "output_type": "execute_result"
    }
   ],
   "source": [
    "import scipy.stats\n",
    "\n",
    "scipy.stats.pearsonr(df['x1'], df['y'])"
   ]
  },
  {
   "cell_type": "markdown",
   "metadata": {},
   "source": [
    "- 상관계수는 0.86이고 p 값은 0.001.\n",
    "- p값은 모집단에서 상관계수가 0일 때, 현재와 같은 크기의 표본에서 관찰된 상관계수(여기서는 0.86)보다 더 극단적인 상관계수가 관찰될 확률\n",
    "- 유의수준 0.05 하에서 p-value가 그보다 작으므로 \"통계적으로 유의미하다\"\n",
    "<br>\n",
    "\n",
    "- 상관관계가 있다고 반드시 인과관계가 있는 것은 아님\n",
    "- 제3 변인의 문제, 이질적인 집단들의 합(심슨의 역설), 극단치(outliers)에 의한 인위적 상관 존재 가능성을 고려해야함"
   ]
  },
  {
   "cell_type": "markdown",
   "metadata": {},
   "source": [
    "# 회귀(선형회귀)\n",
    "- 모형적합도: 모형이 데이터에 얼마나 잘 맞는가?\n",
    "- 회귀계수: 독립변수의 변화가 종속변수를 얼마나 변화시키는가?"
   ]
  },
  {
   "cell_type": "code",
   "execution_count": 3,
   "metadata": {
    "ExecuteTime": {
     "end_time": "2020-12-11T12:41:21.907534Z",
     "start_time": "2020-12-11T12:41:21.895550Z"
    }
   },
   "outputs": [],
   "source": [
    "df = pd.read_csv('./data/cars.csv')"
   ]
  },
  {
   "cell_type": "markdown",
   "metadata": {},
   "source": [
    "## 회귀분석 사전 진단"
   ]
  },
  {
   "cell_type": "markdown",
   "metadata": {},
   "source": [
    "- 사전 작업\n",
    "- 산점도에 추세선을 넣어 데이터에 선형적인 패턴이 있는지 확인한다. 아래와 같이 그려보면 대체로 speed가 증가할 수록 dist도 증가하는 관계가 있는 것을 볼 수 있다."
   ]
  },
  {
   "cell_type": "code",
   "execution_count": 44,
   "metadata": {
    "ExecuteTime": {
     "end_time": "2020-12-10T13:02:53.025155Z",
     "start_time": "2020-12-10T13:02:52.795776Z"
    }
   },
   "outputs": [
    {
     "data": {
      "text/plain": [
       "<AxesSubplot:xlabel='speed', ylabel='dist'>"
      ]
     },
     "execution_count": 44,
     "metadata": {},
     "output_type": "execute_result"
    },
    {
     "data": {
      "image/png": "[encoded data removed]",
      "text/plain": [
       "<Figure size 432x288 with 1 Axes>"
      ]
     },
     "metadata": {
      "needs_background": "light"
     },
     "output_type": "display_data"
    }
   ],
   "source": [
    "sns.regplot('speed', 'dist', lowess=True, data = df)"
   ]
  },
  {
   "cell_type": "markdown",
   "metadata": {},
   "source": [
    "- 극단값이 있을 경우 회귀분석의 결과가 왜곡될 수 있다. 상자 그림을 그려서 극단값이 있는지 확인해본다. 아래 그림을 보면 dist에서 값 하나가 크게 위에 있는 것을 볼 수 있다."
   ]
  },
  {
   "cell_type": "code",
   "execution_count": 45,
   "metadata": {
    "ExecuteTime": {
     "end_time": "2020-12-10T13:07:06.204482Z",
     "start_time": "2020-12-10T13:07:05.922232Z"
    }
   },
   "outputs": [
    {
     "data": {
      "text/plain": [
       "Text(0.5, 1.0, 'Distance')"
      ]
     },
     "execution_count": 45,
     "metadata": {},
     "output_type": "execute_result"
    },
    {
     "data": {
      "image/png": "[encoded data removed]",
      "text/plain": [
       "<Figure size 432x288 with 2 Axes>"
      ]
     },
     "metadata": {
      "needs_background": "light"
     },
     "output_type": "display_data"
    }
   ],
   "source": [
    "# 1행 2열 형태로 2개의 그래프를 그린다\n",
    "fig, (ax1, ax2) = plt.subplots(1, 2)  \n",
    "\n",
    "# speed의 상자 그림을 첫번째(ax1)로 그린다. 방향은 수직(orient='v')\n",
    "sns.boxplot('speed', data=df, ax=ax1, orient='v')\n",
    "ax1.set_title('Speed')\n",
    "\n",
    "# dist의 상자 그림을 두번째(ax2)로 그린다.\n",
    "sns.boxplot('dist', data=df, ax=ax2, orient='v')\n",
    "ax2.set_title('Distance')"
   ]
  },
  {
   "cell_type": "markdown",
   "metadata": {},
   "source": [
    "- 선형회귀분석은 독립변수와 종속변수가 정규분포를 따를 때 잘 작동한다. 밀도 플롯(density plot)을 그려서 정규분포의 형태인지 확인해본다."
   ]
  },
  {
   "cell_type": "code",
   "execution_count": 46,
   "metadata": {
    "ExecuteTime": {
     "end_time": "2020-12-10T13:07:47.692143Z",
     "start_time": "2020-12-10T13:07:47.299697Z"
    }
   },
   "outputs": [
    {
     "data": {
      "text/plain": [
       "Text(0.5, 1.0, 'Distance')"
      ]
     },
     "execution_count": 46,
     "metadata": {},
     "output_type": "execute_result"
    },
    {
     "data": {
      "image/png": "[encoded data removed]",
      "text/plain": [
       "<Figure size 432x288 with 2 Axes>"
      ]
     },
     "metadata": {
      "needs_background": "light"
     },
     "output_type": "display_data"
    }
   ],
   "source": [
    "fig, (ax1, ax2) = plt.subplots(1, 2)  \n",
    "\n",
    "# speed의 밀도 플롯\n",
    "sns.kdeplot(df['speed'], ax=ax1)\n",
    "ax1.set_title('Speed')\n",
    "\n",
    "# dist의 밀도 플롯\n",
    "sns.kdeplot(df['dist'], ax=ax2)\n",
    "ax2.set_title('Distance')"
   ]
  },
  {
   "cell_type": "markdown",
   "metadata": {},
   "source": [
    "- 대체로 중심부에 데이터가 몰려있고 좌우로 갈 수록 줄어드는 정규분포와 비슷한 형태를 보인다. \n",
    "- 앞에서 봤듯이 dist에 위로 치우친 값이 있기 하나 있기 때문에 밀도 플롯도 오른쪽으로 약간 늘어진 모습을 보인다."
   ]
  },
  {
   "cell_type": "code",
   "execution_count": 47,
   "metadata": {
    "ExecuteTime": {
     "end_time": "2020-12-10T13:09:22.528948Z",
     "start_time": "2020-12-10T13:09:22.521968Z"
    }
   },
   "outputs": [
    {
     "data": {
      "text/plain": [
       "-0.11750986144663393"
      ]
     },
     "execution_count": 47,
     "metadata": {},
     "output_type": "execute_result"
    }
   ],
   "source": [
    "df['speed'].skew()"
   ]
  },
  {
   "cell_type": "code",
   "execution_count": 48,
   "metadata": {
    "ExecuteTime": {
     "end_time": "2020-12-10T13:09:32.272668Z",
     "start_time": "2020-12-10T13:09:32.265686Z"
    }
   },
   "outputs": [
    {
     "data": {
      "text/plain": [
       "0.8068949601674215"
      ]
     },
     "execution_count": 48,
     "metadata": {},
     "output_type": "execute_result"
    }
   ],
   "source": [
    "df['dist'].skew()"
   ]
  },
  {
   "cell_type": "markdown",
   "metadata": {},
   "source": [
    "- speed는 왜도가 -0.11이다 마이너스 쪽으로 약간 치우쳤다는 것을 뜻한다. dist의 왜도는 0.76으로 플러스 쪽으로 어느 정도 치우쳤다. 위에서 그래프로 본 것과 비슷한 결과이다.\n",
    "- 문제가 심각해보이지는 않으므로 일단 분석을 실시해보자."
   ]
  },
  {
   "cell_type": "markdown",
   "metadata": {},
   "source": [
    "## 회귀분석 실시"
   ]
  },
  {
   "cell_type": "code",
   "execution_count": 4,
   "metadata": {
    "ExecuteTime": {
     "end_time": "2020-12-11T12:41:38.780844Z",
     "start_time": "2020-12-11T12:41:37.071071Z"
    }
   },
   "outputs": [],
   "source": [
    "import statsmodels.formula.api as smf\n",
    "import statsmodels.api as sm"
   ]
  },
  {
   "cell_type": "code",
   "execution_count": 7,
   "metadata": {
    "ExecuteTime": {
     "end_time": "2020-12-11T12:42:06.773525Z",
     "start_time": "2020-12-11T12:42:06.749577Z"
    }
   },
   "outputs": [
    {
     "data": {
      "text/html": [
       "<table class=\"simpletable\">\n",
       "<caption>OLS Regression Results</caption>\n",
       "<tr>\n",
       "  <th>Dep. Variable:</th>          <td>dist</td>       <th>  R-squared:         </th> <td>   0.651</td>\n",
       "</tr>\n",
       "<tr>\n",
       "  <th>Model:</th>                   <td>OLS</td>       <th>  Adj. R-squared:    </th> <td>   0.644</td>\n",
       "</tr>\n",
       "<tr>\n",
       "  <th>Method:</th>             <td>Least Squares</td>  <th>  F-statistic:       </th> <td>   89.57</td>\n",
       "</tr>\n",
       "<tr>\n",
       "  <th>Date:</th>             <td>Fri, 11 Dec 2020</td> <th>  Prob (F-statistic):</th> <td>1.49e-12</td>\n",
       "</tr>\n",
       "<tr>\n",
       "  <th>Time:</th>                 <td>21:42:06</td>     <th>  Log-Likelihood:    </th> <td> -206.58</td>\n",
       "</tr>\n",
       "<tr>\n",
       "  <th>No. Observations:</th>      <td>    50</td>      <th>  AIC:               </th> <td>   417.2</td>\n",
       "</tr>\n",
       "<tr>\n",
       "  <th>Df Residuals:</th>          <td>    48</td>      <th>  BIC:               </th> <td>   421.0</td>\n",
       "</tr>\n",
       "<tr>\n",
       "  <th>Df Model:</th>              <td>     1</td>      <th>                     </th>     <td> </td>   \n",
       "</tr>\n",
       "<tr>\n",
       "  <th>Covariance Type:</th>      <td>nonrobust</td>    <th>                     </th>     <td> </td>   \n",
       "</tr>\n",
       "</table>\n",
       "<table class=\"simpletable\">\n",
       "<tr>\n",
       "      <td></td>         <th>coef</th>     <th>std err</th>      <th>t</th>      <th>P>|t|</th>  <th>[0.025</th>    <th>0.975]</th>  \n",
       "</tr>\n",
       "<tr>\n",
       "  <th>Intercept</th> <td>  -17.5791</td> <td>    6.758</td> <td>   -2.601</td> <td> 0.012</td> <td>  -31.168</td> <td>   -3.990</td>\n",
       "</tr>\n",
       "<tr>\n",
       "  <th>speed</th>     <td>    3.9324</td> <td>    0.416</td> <td>    9.464</td> <td> 0.000</td> <td>    3.097</td> <td>    4.768</td>\n",
       "</tr>\n",
       "</table>\n",
       "<table class=\"simpletable\">\n",
       "<tr>\n",
       "  <th>Omnibus:</th>       <td> 8.975</td> <th>  Durbin-Watson:     </th> <td>   1.676</td>\n",
       "</tr>\n",
       "<tr>\n",
       "  <th>Prob(Omnibus):</th> <td> 0.011</td> <th>  Jarque-Bera (JB):  </th> <td>   8.189</td>\n",
       "</tr>\n",
       "<tr>\n",
       "  <th>Skew:</th>          <td> 0.885</td> <th>  Prob(JB):          </th> <td>  0.0167</td>\n",
       "</tr>\n",
       "<tr>\n",
       "  <th>Kurtosis:</th>      <td> 3.893</td> <th>  Cond. No.          </th> <td>    50.7</td>\n",
       "</tr>\n",
       "</table><br/><br/>Warnings:<br/>[1] Standard Errors assume that the covariance matrix of the errors is correctly specified."
      ],
      "text/plain": [
       "<class 'statsmodels.iolib.summary.Summary'>\n",
       "\"\"\"\n",
       "                            OLS Regression Results                            \n",
       "==============================================================================\n",
       "Dep. Variable:                   dist   R-squared:                       0.651\n",
       "Model:                            OLS   Adj. R-squared:                  0.644\n",
       "Method:                 Least Squares   F-statistic:                     89.57\n",
       "Date:                Fri, 11 Dec 2020   Prob (F-statistic):           1.49e-12\n",
       "Time:                        21:42:06   Log-Likelihood:                -206.58\n",
       "No. Observations:                  50   AIC:                             417.2\n",
       "Df Residuals:                      48   BIC:                             421.0\n",
       "Df Model:                           1                                         \n",
       "Covariance Type:            nonrobust                                         \n",
       "==============================================================================\n",
       "                 coef    std err          t      P>|t|      [0.025      0.975]\n",
       "------------------------------------------------------------------------------\n",
       "Intercept    -17.5791      6.758     -2.601      0.012     -31.168      -3.990\n",
       "speed          3.9324      0.416      9.464      0.000       3.097       4.768\n",
       "==============================================================================\n",
       "Omnibus:                        8.975   Durbin-Watson:                   1.676\n",
       "Prob(Omnibus):                  0.011   Jarque-Bera (JB):                8.189\n",
       "Skew:                           0.885   Prob(JB):                       0.0167\n",
       "Kurtosis:                       3.893   Cond. No.                         50.7\n",
       "==============================================================================\n",
       "\n",
       "Warnings:\n",
       "[1] Standard Errors assume that the covariance matrix of the errors is correctly specified.\n",
       "\"\"\""
      ]
     },
     "execution_count": 7,
     "metadata": {},
     "output_type": "execute_result"
    }
   ],
   "source": [
    "res = smf.ols('dist ~ speed', data=df).fit()  # 범주형변수는 C(col1) 이렇게 명시적으로 표시해줘도 됨\n",
    "res.summary()\n",
    "\n",
    "# # 다중회귀 시 \n",
    "# res = smf.ols(formula='Lottery ~ Literacy + Wealth + C(Region) + Literacy:Wealth + np.log1p(Literacy) -1 ',\n",
    "#               data=df).fit()\n",
    "# result = model.fit()\n",
    "# result.summary()\n",
    "\n",
    "# \":\"은 다른 두 열의 곱으로 디자인 행렬에 새 열을 추가합니다. \"*\"에는 함께 곱해진 개별 열도 포함됩니다."
   ]
  },
  {
   "cell_type": "markdown",
   "metadata": {},
   "source": [
    "### 모형 적합도\n",
    "- 모형이 데이터에 잘 맞는 정도를 보여주는 지표들이다.\n",
    "<br>\n",
    "\n",
    "- R-squared: 0.651\n",
    "- 모형 적합도(혹은 설명력)\n",
    "- dist의 분산을 speed가 약 65%를 설명한다\n",
    "- 각 사례마다 dist에 차이가 있다.\n",
    "<br>\n",
    "\n",
    "- Adj. R-squared: 0.644\n",
    "- 독립변수가 여러 개인 다중회귀분석에서 사용\n",
    "- 독립변수의 개수와 표본의 크기를 고려하여 R-squared를 보정\n",
    "- 서로 다른 모형을 비교할 때는 이 지표가 높은 쪽은 선택한다\n",
    "<br>\n",
    "\n",
    "- F-statistic: 89.57, Prob(F-statistic): 1.49e-12\n",
    "- 회귀모형에 대한 (통계적) 유의미성 검증 결과, 유의미함 (p < 0.05)\n",
    "- 즉, 이 모형은 주어진 표본 뿐 아니라 모집단에서도 의미있는 모형이라 할 수 있음\n",
    "<br>\n",
    "\n",
    "- 로그 우도: -206.58 \n",
    "- 종속변수가 정규분포라 가정했을 때 그 우도\n",
    "- 로그우도도 R제곱과 마찬가지로 독립변수가 많아지면 증가한다\n",
    "<br>\n",
    "\n",
    "- AIC, BIC: 로그우도를 독립변수의 수로 보정한 값 (작을 수록 좋다)"
   ]
  },
  {
   "cell_type": "markdown",
   "metadata": {},
   "source": [
    "### 회귀계수"
   ]
  },
  {
   "cell_type": "markdown",
   "metadata": {},
   "source": [
    "- Coef는 데이터로부터 얻은 계수의 추정치를 말한다.\n",
    "- 절편(Intercept)의 추정치는 -17.5791로, speed가 0일 때 dist의 값이다.\n",
    "- speed의 계수 추정치는 3.9324로 speed가 1 증가할 때마다 dist가 3.9324 증가한다는 것을 의미한다.\n",
    "- 이를 수식으로 정리하면 아래와 같다.\n",
    "- dist=−17.5791+3.9324×speed\n",
    "- 추정치의 표 중간의 P(>|t|)는 모집단에서 계수가 0일 때, 현재와 같은 크기의 표본에서 이러한 계수가 추정될 확률인 p값을 나타낸다. 이 확률이 매우 작다는 것은, 모집단에서 speed의 계수가 정확히 3.9324는 아니더라도 현재의 표본과 비슷하게 0보다 큰 어떤 범위에 있을 가능성이 높다는 것을 의미한다. 보통 5%와 같은 유의수준을 정하여 p값이 그보다 작으면(p < 0.05), \"통계적으로 유의미하다\"라고 한다.\n",
    "- 즉, speed가 증가할 때 기대되는 dist의 변화는 유의수준 5%에서 통계적으로 유의미하다."
   ]
  },
  {
   "cell_type": "markdown",
   "metadata": {},
   "source": [
    "### 결과 보고\n",
    "- 논문 등에서 회귀분석의 결과는 다음 순서대로 보고한다.\n",
    "- 먼저 모형적합도를 보고한다. F 분포의 파라미터 2개와 그 때의 F 값, p-value와 유의수준의 비교를 적시한다.\n",
    "- dist에 대하여 speed로 예측하는 회귀분석을 실시한 결과, 이 회귀모형은 통계적으로 유의미하였다(F(1,48) = 89.57, p < 0.05).\n",
    "- 다음으로 독립변수에 대해 보고한다.\n",
    "- speed의 회귀계수는 3.9324로, dist에 대하여 유의미한 예측변인인 것으로 나타났다(t(48) = 9.464, p < 0.05)."
   ]
  },
  {
   "cell_type": "markdown",
   "metadata": {},
   "source": [
    "## 절편의 고정\n",
    "- 앞선 분석 결과에서 speed가 0일 때 dist가 -17.5791이 되는데 거리가 마이너스가 될 수는 없으므로 해석이 어색하다. 이럴 경우 모형에서 절편을 제거한다. 절편을 제거하면, 절편을 0으로 고정시킨 것과 같아진다."
   ]
  },
  {
   "cell_type": "code",
   "execution_count": 52,
   "metadata": {
    "ExecuteTime": {
     "end_time": "2020-12-10T13:21:08.803248Z",
     "start_time": "2020-12-10T13:21:08.778316Z"
    }
   },
   "outputs": [
    {
     "data": {
      "text/html": [
       "<table class=\"simpletable\">\n",
       "<caption>OLS Regression Results</caption>\n",
       "<tr>\n",
       "  <th>Dep. Variable:</th>          <td>dist</td>       <th>  R-squared (uncentered):</th>      <td>   0.896</td>\n",
       "</tr>\n",
       "<tr>\n",
       "  <th>Model:</th>                   <td>OLS</td>       <th>  Adj. R-squared (uncentered):</th> <td>   0.894</td>\n",
       "</tr>\n",
       "<tr>\n",
       "  <th>Method:</th>             <td>Least Squares</td>  <th>  F-statistic:       </th>          <td>   423.5</td>\n",
       "</tr>\n",
       "<tr>\n",
       "  <th>Date:</th>             <td>Thu, 10 Dec 2020</td> <th>  Prob (F-statistic):</th>          <td>9.23e-26</td>\n",
       "</tr>\n",
       "<tr>\n",
       "  <th>Time:</th>                 <td>22:21:08</td>     <th>  Log-Likelihood:    </th>          <td> -209.87</td>\n",
       "</tr>\n",
       "<tr>\n",
       "  <th>No. Observations:</th>      <td>    50</td>      <th>  AIC:               </th>          <td>   421.7</td>\n",
       "</tr>\n",
       "<tr>\n",
       "  <th>Df Residuals:</th>          <td>    49</td>      <th>  BIC:               </th>          <td>   423.7</td>\n",
       "</tr>\n",
       "<tr>\n",
       "  <th>Df Model:</th>              <td>     1</td>      <th>                     </th>              <td> </td>   \n",
       "</tr>\n",
       "<tr>\n",
       "  <th>Covariance Type:</th>      <td>nonrobust</td>    <th>                     </th>              <td> </td>   \n",
       "</tr>\n",
       "</table>\n",
       "<table class=\"simpletable\">\n",
       "<tr>\n",
       "    <td></td>       <th>coef</th>     <th>std err</th>      <th>t</th>      <th>P>|t|</th>  <th>[0.025</th>    <th>0.975]</th>  \n",
       "</tr>\n",
       "<tr>\n",
       "  <th>speed</th> <td>    2.9091</td> <td>    0.141</td> <td>   20.578</td> <td> 0.000</td> <td>    2.625</td> <td>    3.193</td>\n",
       "</tr>\n",
       "</table>\n",
       "<table class=\"simpletable\">\n",
       "<tr>\n",
       "  <th>Omnibus:</th>       <td>14.345</td> <th>  Durbin-Watson:     </th> <td>   1.409</td>\n",
       "</tr>\n",
       "<tr>\n",
       "  <th>Prob(Omnibus):</th> <td> 0.001</td> <th>  Jarque-Bera (JB):  </th> <td>  15.573</td>\n",
       "</tr>\n",
       "<tr>\n",
       "  <th>Skew:</th>          <td> 1.202</td> <th>  Prob(JB):          </th> <td>0.000415</td>\n",
       "</tr>\n",
       "<tr>\n",
       "  <th>Kurtosis:</th>      <td> 4.302</td> <th>  Cond. No.          </th> <td>    1.00</td>\n",
       "</tr>\n",
       "</table><br/><br/>Warnings:<br/>[1] Standard Errors assume that the covariance matrix of the errors is correctly specified."
      ],
      "text/plain": [
       "<class 'statsmodels.iolib.summary.Summary'>\n",
       "\"\"\"\n",
       "                                 OLS Regression Results                                \n",
       "=======================================================================================\n",
       "Dep. Variable:                   dist   R-squared (uncentered):                   0.896\n",
       "Model:                            OLS   Adj. R-squared (uncentered):              0.894\n",
       "Method:                 Least Squares   F-statistic:                              423.5\n",
       "Date:                Thu, 10 Dec 2020   Prob (F-statistic):                    9.23e-26\n",
       "Time:                        22:21:08   Log-Likelihood:                         -209.87\n",
       "No. Observations:                  50   AIC:                                      421.7\n",
       "Df Residuals:                      49   BIC:                                      423.7\n",
       "Df Model:                           1                                                  \n",
       "Covariance Type:            nonrobust                                                  \n",
       "==============================================================================\n",
       "                 coef    std err          t      P>|t|      [0.025      0.975]\n",
       "------------------------------------------------------------------------------\n",
       "speed          2.9091      0.141     20.578      0.000       2.625       3.193\n",
       "==============================================================================\n",
       "Omnibus:                       14.345   Durbin-Watson:                   1.409\n",
       "Prob(Omnibus):                  0.001   Jarque-Bera (JB):               15.573\n",
       "Skew:                           1.202   Prob(JB):                     0.000415\n",
       "Kurtosis:                       4.302   Cond. No.                         1.00\n",
       "==============================================================================\n",
       "\n",
       "Warnings:\n",
       "[1] Standard Errors assume that the covariance matrix of the errors is correctly specified.\n",
       "\"\"\""
      ]
     },
     "execution_count": 52,
     "metadata": {},
     "output_type": "execute_result"
    }
   ],
   "source": [
    "from statsmodels.formula.api import ols\n",
    "res = ols('dist ~ 0 + speed', df).fit()\n",
    "res.summary()"
   ]
  },
  {
   "cell_type": "markdown",
   "metadata": {},
   "source": [
    "- 모형에서 절편을 제거한 경우 R제곱을 해석할 때 주의가 필요하다. 절편이 있는 경우와 없는 경우 계산 방식이 다르기 때문이다. 절편이 있는 경우에 R제곱은 종속변수의 분산에서 설명하는 비율을 나타내지만, 절편이 없는 경우는 종속변수의 제곱의 평균에서 설명하는 비율을 나타낸다."
   ]
  },
  {
   "cell_type": "markdown",
   "metadata": {},
   "source": [
    "# 다중공선성\n",
    "- 공선성(collinearity): 하나의 독립변수가 다른 하나의 독립변수로 잘 예측되는 경우, 또는 서로 상관이 높은 경우\n",
    "- 다중공선성(multicollinearity): 하나의 독립변수가 다른 여러 개의 독립변수들로 잘 예측되는 경우\n",
    "- 다중공선성이 있으면:\n",
    "- 계수 추정이 잘 되지 않거나 불안정해져서 데이터가 약간만 바뀌어도 추정치가 크게 달라질 수 있다\n",
    "- 계수가 통계적으로 유의미하지 않은 것처럼 나올 수 있다\n",
    "<br>\n",
    "\n",
    "- 다중공선성 진단\n",
    "- 분산팽창계수(VIF, Variance Inflation Factor)를 구하여 판단\n",
    "- 엄밀한 기준은 없으나 보통 10보다 크면 다중공선성이 있다고 판단(5를 기준으로 하기도 함)"
   ]
  },
  {
   "cell_type": "code",
   "execution_count": 53,
   "metadata": {
    "ExecuteTime": {
     "end_time": "2020-12-10T13:34:19.808959Z",
     "start_time": "2020-12-10T13:34:19.799982Z"
    }
   },
   "outputs": [],
   "source": [
    "df = pd.read_csv('./data/crab.csv')"
   ]
  },
  {
   "cell_type": "code",
   "execution_count": 54,
   "metadata": {
    "ExecuteTime": {
     "end_time": "2020-12-10T13:34:26.886205Z",
     "start_time": "2020-12-10T13:34:26.875230Z"
    }
   },
   "outputs": [
    {
     "data": {
      "text/html": [
       "<div>\n",
       "<style scoped>\n",
       "    .dataframe tbody tr th:only-of-type {\n",
       "        vertical-align: middle;\n",
       "    }\n",
       "\n",
       "    .dataframe tbody tr th {\n",
       "        vertical-align: top;\n",
       "    }\n",
       "\n",
       "    .dataframe thead th {\n",
       "        text-align: right;\n",
       "    }\n",
       "</style>\n",
       "<table border=\"1\" class=\"dataframe\">\n",
       "  <thead>\n",
       "    <tr style=\"text-align: right;\">\n",
       "      <th></th>\n",
       "      <th>crab</th>\n",
       "      <th>sat</th>\n",
       "      <th>y</th>\n",
       "      <th>weight</th>\n",
       "      <th>width</th>\n",
       "      <th>color</th>\n",
       "      <th>spine</th>\n",
       "    </tr>\n",
       "  </thead>\n",
       "  <tbody>\n",
       "    <tr>\n",
       "      <th>0</th>\n",
       "      <td>1</td>\n",
       "      <td>8</td>\n",
       "      <td>1</td>\n",
       "      <td>3.05</td>\n",
       "      <td>28.3</td>\n",
       "      <td>2</td>\n",
       "      <td>3</td>\n",
       "    </tr>\n",
       "    <tr>\n",
       "      <th>1</th>\n",
       "      <td>2</td>\n",
       "      <td>0</td>\n",
       "      <td>0</td>\n",
       "      <td>1.55</td>\n",
       "      <td>22.5</td>\n",
       "      <td>3</td>\n",
       "      <td>3</td>\n",
       "    </tr>\n",
       "    <tr>\n",
       "      <th>2</th>\n",
       "      <td>3</td>\n",
       "      <td>9</td>\n",
       "      <td>1</td>\n",
       "      <td>2.30</td>\n",
       "      <td>26.0</td>\n",
       "      <td>1</td>\n",
       "      <td>1</td>\n",
       "    </tr>\n",
       "  </tbody>\n",
       "</table>\n",
       "</div>"
      ],
      "text/plain": [
       "   crab  sat  y  weight  width  color  spine\n",
       "0     1    8  1    3.05   28.3      2      3\n",
       "1     2    0  0    1.55   22.5      3      3\n",
       "2     3    9  1    2.30   26.0      1      1"
      ]
     },
     "execution_count": 54,
     "metadata": {},
     "output_type": "execute_result"
    }
   ],
   "source": [
    "df.head(3)"
   ]
  },
  {
   "cell_type": "code",
   "execution_count": 56,
   "metadata": {
    "ExecuteTime": {
     "end_time": "2020-12-10T13:34:47.609527Z",
     "start_time": "2020-12-10T13:34:47.578606Z"
    }
   },
   "outputs": [
    {
     "data": {
      "text/html": [
       "<table class=\"simpletable\">\n",
       "<caption>OLS Regression Results</caption>\n",
       "<tr>\n",
       "  <th>Dep. Variable:</th>            <td>y</td>        <th>  R-squared:         </th> <td>   0.514</td>\n",
       "</tr>\n",
       "<tr>\n",
       "  <th>Model:</th>                   <td>OLS</td>       <th>  Adj. R-squared:    </th> <td>   0.506</td>\n",
       "</tr>\n",
       "<tr>\n",
       "  <th>Method:</th>             <td>Least Squares</td>  <th>  F-statistic:       </th> <td>   59.69</td>\n",
       "</tr>\n",
       "<tr>\n",
       "  <th>Date:</th>             <td>Thu, 10 Dec 2020</td> <th>  Prob (F-statistic):</th> <td>2.30e-26</td>\n",
       "</tr>\n",
       "<tr>\n",
       "  <th>Time:</th>                 <td>22:34:47</td>     <th>  Log-Likelihood:    </th> <td> -55.831</td>\n",
       "</tr>\n",
       "<tr>\n",
       "  <th>No. Observations:</th>      <td>   173</td>      <th>  AIC:               </th> <td>   119.7</td>\n",
       "</tr>\n",
       "<tr>\n",
       "  <th>Df Residuals:</th>          <td>   169</td>      <th>  BIC:               </th> <td>   132.3</td>\n",
       "</tr>\n",
       "<tr>\n",
       "  <th>Df Model:</th>              <td>     3</td>      <th>                     </th>     <td> </td>   \n",
       "</tr>\n",
       "<tr>\n",
       "  <th>Covariance Type:</th>      <td>nonrobust</td>    <th>                     </th>     <td> </td>   \n",
       "</tr>\n",
       "</table>\n",
       "<table class=\"simpletable\">\n",
       "<tr>\n",
       "      <td></td>         <th>coef</th>     <th>std err</th>      <th>t</th>      <th>P>|t|</th>  <th>[0.025</th>    <th>0.975]</th>  \n",
       "</tr>\n",
       "<tr>\n",
       "  <th>Intercept</th> <td>   -0.9366</td> <td>    0.500</td> <td>   -1.872</td> <td> 0.063</td> <td>   -1.924</td> <td>    0.051</td>\n",
       "</tr>\n",
       "<tr>\n",
       "  <th>sat</th>       <td>    0.0971</td> <td>    0.009</td> <td>   11.018</td> <td> 0.000</td> <td>    0.080</td> <td>    0.115</td>\n",
       "</tr>\n",
       "<tr>\n",
       "  <th>weight</th>    <td>   -0.0465</td> <td>    0.098</td> <td>   -0.475</td> <td> 0.635</td> <td>   -0.240</td> <td>    0.147</td>\n",
       "</tr>\n",
       "<tr>\n",
       "  <th>width</th>     <td>    0.0535</td> <td>    0.026</td> <td>    2.023</td> <td> 0.045</td> <td>    0.001</td> <td>    0.106</td>\n",
       "</tr>\n",
       "</table>\n",
       "<table class=\"simpletable\">\n",
       "<tr>\n",
       "  <th>Omnibus:</th>       <td>29.724</td> <th>  Durbin-Watson:     </th> <td>   1.475</td>\n",
       "</tr>\n",
       "<tr>\n",
       "  <th>Prob(Omnibus):</th> <td> 0.000</td> <th>  Jarque-Bera (JB):  </th> <td>   7.545</td>\n",
       "</tr>\n",
       "<tr>\n",
       "  <th>Skew:</th>          <td> 0.086</td> <th>  Prob(JB):          </th> <td>  0.0230</td>\n",
       "</tr>\n",
       "<tr>\n",
       "  <th>Kurtosis:</th>      <td> 1.992</td> <th>  Cond. No.          </th> <td>    526.</td>\n",
       "</tr>\n",
       "</table><br/><br/>Warnings:<br/>[1] Standard Errors assume that the covariance matrix of the errors is correctly specified."
      ],
      "text/plain": [
       "<class 'statsmodels.iolib.summary.Summary'>\n",
       "\"\"\"\n",
       "                            OLS Regression Results                            \n",
       "==============================================================================\n",
       "Dep. Variable:                      y   R-squared:                       0.514\n",
       "Model:                            OLS   Adj. R-squared:                  0.506\n",
       "Method:                 Least Squares   F-statistic:                     59.69\n",
       "Date:                Thu, 10 Dec 2020   Prob (F-statistic):           2.30e-26\n",
       "Time:                        22:34:47   Log-Likelihood:                -55.831\n",
       "No. Observations:                 173   AIC:                             119.7\n",
       "Df Residuals:                     169   BIC:                             132.3\n",
       "Df Model:                           3                                         \n",
       "Covariance Type:            nonrobust                                         \n",
       "==============================================================================\n",
       "                 coef    std err          t      P>|t|      [0.025      0.975]\n",
       "------------------------------------------------------------------------------\n",
       "Intercept     -0.9366      0.500     -1.872      0.063      -1.924       0.051\n",
       "sat            0.0971      0.009     11.018      0.000       0.080       0.115\n",
       "weight        -0.0465      0.098     -0.475      0.635      -0.240       0.147\n",
       "width          0.0535      0.026      2.023      0.045       0.001       0.106\n",
       "==============================================================================\n",
       "Omnibus:                       29.724   Durbin-Watson:                   1.475\n",
       "Prob(Omnibus):                  0.000   Jarque-Bera (JB):                7.545\n",
       "Skew:                           0.086   Prob(JB):                       0.0230\n",
       "Kurtosis:                       1.992   Cond. No.                         526.\n",
       "==============================================================================\n",
       "\n",
       "Warnings:\n",
       "[1] Standard Errors assume that the covariance matrix of the errors is correctly specified.\n",
       "\"\"\""
      ]
     },
     "execution_count": 56,
     "metadata": {},
     "output_type": "execute_result"
    }
   ],
   "source": [
    "from statsmodels.formula.api import ols\n",
    "model = ols('y ~ sat + weight + width', df)\n",
    "res = model.fit()\n",
    "res.summary()"
   ]
  },
  {
   "cell_type": "markdown",
   "metadata": {},
   "source": [
    "- 결과를 보면 유의수준 5%에서 sat와 width는 통계적으로 유의미하고, weight는 유의미하지 않게 나왔다."
   ]
  },
  {
   "cell_type": "markdown",
   "metadata": {},
   "source": [
    "## VIF 계산"
   ]
  },
  {
   "cell_type": "code",
   "execution_count": 58,
   "metadata": {
    "ExecuteTime": {
     "end_time": "2020-12-10T13:40:01.510645Z",
     "start_time": "2020-12-10T13:40:01.504662Z"
    }
   },
   "outputs": [
    {
     "data": {
      "text/plain": [
       "['Intercept', 'sat', 'weight', 'width']"
      ]
     },
     "execution_count": 58,
     "metadata": {},
     "output_type": "execute_result"
    }
   ],
   "source": [
    "from statsmodels.stats.outliers_influence import variance_inflation_factor\n",
    "model.exog_names # 위에서 만든 모델의 독립변수(절편 포함)"
   ]
  },
  {
   "cell_type": "code",
   "execution_count": 59,
   "metadata": {
    "ExecuteTime": {
     "end_time": "2020-12-10T13:40:24.039320Z",
     "start_time": "2020-12-10T13:40:24.031342Z"
    }
   },
   "outputs": [
    {
     "data": {
      "text/plain": [
       "1.15883687808578"
      ]
     },
     "execution_count": 59,
     "metadata": {},
     "output_type": "execute_result"
    }
   ],
   "source": [
    "# 첫 번째 독립변수의 VIF를 계산함\n",
    "variance_inflation_factor(model.exog, 1)"
   ]
  },
  {
   "cell_type": "code",
   "execution_count": 60,
   "metadata": {
    "ExecuteTime": {
     "end_time": "2020-12-10T13:40:54.395558Z",
     "start_time": "2020-12-10T13:40:54.375600Z"
    }
   },
   "outputs": [
    {
     "data": {
      "text/html": [
       "<div>\n",
       "<style scoped>\n",
       "    .dataframe tbody tr th:only-of-type {\n",
       "        vertical-align: middle;\n",
       "    }\n",
       "\n",
       "    .dataframe tbody tr th {\n",
       "        vertical-align: top;\n",
       "    }\n",
       "\n",
       "    .dataframe thead th {\n",
       "        text-align: right;\n",
       "    }\n",
       "</style>\n",
       "<table border=\"1\" class=\"dataframe\">\n",
       "  <thead>\n",
       "    <tr style=\"text-align: right;\">\n",
       "      <th></th>\n",
       "      <th>컬럼</th>\n",
       "      <th>VIF</th>\n",
       "    </tr>\n",
       "  </thead>\n",
       "  <tbody>\n",
       "    <tr>\n",
       "      <th>0</th>\n",
       "      <td>sat</td>\n",
       "      <td>1.158837</td>\n",
       "    </tr>\n",
       "    <tr>\n",
       "      <th>1</th>\n",
       "      <td>weight</td>\n",
       "      <td>4.801679</td>\n",
       "    </tr>\n",
       "    <tr>\n",
       "      <th>2</th>\n",
       "      <td>width</td>\n",
       "      <td>4.688660</td>\n",
       "    </tr>\n",
       "  </tbody>\n",
       "</table>\n",
       "</div>"
      ],
      "text/plain": [
       "       컬럼       VIF\n",
       "0     sat  1.158837\n",
       "1  weight  4.801679\n",
       "2   width  4.688660"
      ]
     },
     "execution_count": 60,
     "metadata": {},
     "output_type": "execute_result"
    }
   ],
   "source": [
    "# 한 번에 모든 컬럼의 VIF를 계산함\n",
    "# 절편의 VIF는 구하지 않는다.\n",
    "pd.DataFrame({'컬럼': column, 'VIF': variance_inflation_factor(model.exog, i)} \n",
    "             for i, column in enumerate(model.exog_names)\n",
    "             if column != 'Intercept')  "
   ]
  },
  {
   "cell_type": "markdown",
   "metadata": {
    "ExecuteTime": {
     "end_time": "2020-12-10T13:41:11.526764Z",
     "start_time": "2020-12-10T13:41:11.520782Z"
    }
   },
   "source": [
    "- weight와 width의 VIF가 각각 4.8과 4.6이다. 게의 무게(weight)와 너비(width)는 서로 상관이 높기 때문에 VIF가 약간 높게 나타나는 것이다."
   ]
  },
  {
   "cell_type": "markdown",
   "metadata": {},
   "source": [
    "- 계수가 통계적으로 유의미하지 않다면 대처\n",
    "- 계수가 통계적으로 유의미하다면 VIF가 크더라도 특별히 대처할 필요없음\n",
    "\n",
    "\n",
    "- 변수들을 더하거나 빼서 새로운 변수를 만든다\n",
    "  - (개념적으로나 이론적으로) 두 예측변수를 더하거나 빼더라도 문제가 없는 경우\n",
    "  - 예) 남편의 수입과 아내의 수입이 서로 상관이 높다면, 두 개를 더해 가족 수입이라는 하나의 변수로 투입한다\n",
    "- 더하거나 빼기 어려운 경우는 변수를 모형에서 제거한다\n",
    "  - 단, 변수를 제거하는 것은 자료의 다양성을 해치고, 분석하려던 가설이나 이론에 영향을 미칠 수 있기 때문에 가급적 자제"
   ]
  },
  {
   "cell_type": "code",
   "execution_count": 62,
   "metadata": {
    "ExecuteTime": {
     "end_time": "2020-12-10T13:43:05.977971Z",
     "start_time": "2020-12-10T13:43:05.951039Z"
    }
   },
   "outputs": [
    {
     "data": {
      "text/html": [
       "<table class=\"simpletable\">\n",
       "<caption>OLS Regression Results</caption>\n",
       "<tr>\n",
       "  <th>Dep. Variable:</th>            <td>y</td>        <th>  R-squared:         </th> <td>   0.503</td>\n",
       "</tr>\n",
       "<tr>\n",
       "  <th>Model:</th>                   <td>OLS</td>       <th>  Adj. R-squared:    </th> <td>   0.497</td>\n",
       "</tr>\n",
       "<tr>\n",
       "  <th>Method:</th>             <td>Least Squares</td>  <th>  F-statistic:       </th> <td>   85.93</td>\n",
       "</tr>\n",
       "<tr>\n",
       "  <th>Date:</th>             <td>Thu, 10 Dec 2020</td> <th>  Prob (F-statistic):</th> <td>1.63e-26</td>\n",
       "</tr>\n",
       "<tr>\n",
       "  <th>Time:</th>                 <td>22:43:05</td>     <th>  Log-Likelihood:    </th> <td> -57.901</td>\n",
       "</tr>\n",
       "<tr>\n",
       "  <th>No. Observations:</th>      <td>   173</td>      <th>  AIC:               </th> <td>   121.8</td>\n",
       "</tr>\n",
       "<tr>\n",
       "  <th>Df Residuals:</th>          <td>   170</td>      <th>  BIC:               </th> <td>   131.3</td>\n",
       "</tr>\n",
       "<tr>\n",
       "  <th>Df Model:</th>              <td>     2</td>      <th>                     </th>     <td> </td>   \n",
       "</tr>\n",
       "<tr>\n",
       "  <th>Covariance Type:</th>      <td>nonrobust</td>    <th>                     </th>     <td> </td>   \n",
       "</tr>\n",
       "</table>\n",
       "<table class=\"simpletable\">\n",
       "<tr>\n",
       "      <td></td>         <th>coef</th>     <th>std err</th>      <th>t</th>      <th>P>|t|</th>  <th>[0.025</th>    <th>0.975]</th>  \n",
       "</tr>\n",
       "<tr>\n",
       "  <th>Intercept</th> <td>    0.0495</td> <td>    0.114</td> <td>    0.433</td> <td> 0.665</td> <td>   -0.176</td> <td>    0.275</td>\n",
       "</tr>\n",
       "<tr>\n",
       "  <th>sat</th>       <td>    0.0976</td> <td>    0.009</td> <td>   10.982</td> <td> 0.000</td> <td>    0.080</td> <td>    0.115</td>\n",
       "</tr>\n",
       "<tr>\n",
       "  <th>weight</th>    <td>    0.1260</td> <td>    0.049</td> <td>    2.598</td> <td> 0.010</td> <td>    0.030</td> <td>    0.222</td>\n",
       "</tr>\n",
       "</table>\n",
       "<table class=\"simpletable\">\n",
       "<tr>\n",
       "  <th>Omnibus:</th>       <td>40.033</td> <th>  Durbin-Watson:     </th> <td>   1.433</td>\n",
       "</tr>\n",
       "<tr>\n",
       "  <th>Prob(Omnibus):</th> <td> 0.000</td> <th>  Jarque-Bera (JB):  </th> <td>   8.709</td>\n",
       "</tr>\n",
       "<tr>\n",
       "  <th>Skew:</th>          <td> 0.121</td> <th>  Prob(JB):          </th> <td>  0.0128</td>\n",
       "</tr>\n",
       "<tr>\n",
       "  <th>Kurtosis:</th>      <td> 1.928</td> <th>  Cond. No.          </th> <td>    22.7</td>\n",
       "</tr>\n",
       "</table><br/><br/>Warnings:<br/>[1] Standard Errors assume that the covariance matrix of the errors is correctly specified."
      ],
      "text/plain": [
       "<class 'statsmodels.iolib.summary.Summary'>\n",
       "\"\"\"\n",
       "                            OLS Regression Results                            \n",
       "==============================================================================\n",
       "Dep. Variable:                      y   R-squared:                       0.503\n",
       "Model:                            OLS   Adj. R-squared:                  0.497\n",
       "Method:                 Least Squares   F-statistic:                     85.93\n",
       "Date:                Thu, 10 Dec 2020   Prob (F-statistic):           1.63e-26\n",
       "Time:                        22:43:05   Log-Likelihood:                -57.901\n",
       "No. Observations:                 173   AIC:                             121.8\n",
       "Df Residuals:                     170   BIC:                             131.3\n",
       "Df Model:                           2                                         \n",
       "Covariance Type:            nonrobust                                         \n",
       "==============================================================================\n",
       "                 coef    std err          t      P>|t|      [0.025      0.975]\n",
       "------------------------------------------------------------------------------\n",
       "Intercept      0.0495      0.114      0.433      0.665      -0.176       0.275\n",
       "sat            0.0976      0.009     10.982      0.000       0.080       0.115\n",
       "weight         0.1260      0.049      2.598      0.010       0.030       0.222\n",
       "==============================================================================\n",
       "Omnibus:                       40.033   Durbin-Watson:                   1.433\n",
       "Prob(Omnibus):                  0.000   Jarque-Bera (JB):                8.709\n",
       "Skew:                           0.121   Prob(JB):                       0.0128\n",
       "Kurtosis:                       1.928   Cond. No.                         22.7\n",
       "==============================================================================\n",
       "\n",
       "Warnings:\n",
       "[1] Standard Errors assume that the covariance matrix of the errors is correctly specified.\n",
       "\"\"\""
      ]
     },
     "execution_count": 62,
     "metadata": {},
     "output_type": "execute_result"
    }
   ],
   "source": [
    "# weight와 width가 VIF 기준을 넘는 것은 아니지만 실험삼아 width를 제거해보자.\n",
    "model = ols('y ~ sat + weight', df)\n",
    "model.fit().summary()"
   ]
  },
  {
   "cell_type": "markdown",
   "metadata": {},
   "source": [
    "- 이전의 분석에서는 weight가 유의미하지 않게 나왔지만, width를 제거한 후에는 유의미하게 나왔다. weight와 width가 공선성이 있기 때문에 width를 제거하자 weight가 유의미해진 것으로 볼 수 있다."
   ]
  },
  {
   "cell_type": "markdown",
   "metadata": {},
   "source": [
    "# 잔차분석\n",
    "- 회귀분석 결과를 바탕으로 다양한 잔차 분석을 실시한다."
   ]
  },
  {
   "cell_type": "code",
   "execution_count": 63,
   "metadata": {
    "ExecuteTime": {
     "end_time": "2020-12-10T13:44:56.998347Z",
     "start_time": "2020-12-10T13:44:56.983402Z"
    }
   },
   "outputs": [],
   "source": [
    "df = pd.read_csv('./data/cars.csv')\n",
    "res = ols('dist ~ speed', data=df).fit()"
   ]
  },
  {
   "cell_type": "markdown",
   "metadata": {},
   "source": [
    "## 모형의 선형성\n",
    "- 예측값(fitted)과 잔차(residual)의 비교\n",
    "- 모든 예측값에서 잔차가 비슷하게 있어야 함(가운데 점선)\n",
    "- 빨간 실선은 잔차의 추세를 나타냄\n",
    "- 빨간 실선이 점선에서 크게 벗어난다면 예측값에 따라 잔차가 크게 달라진다는 것"
   ]
  },
  {
   "cell_type": "code",
   "execution_count": null,
   "metadata": {},
   "outputs": [],
   "source": [
    "import matplotlib.pyplot as plt\n",
    "import seaborn as sns"
   ]
  },
  {
   "cell_type": "code",
   "execution_count": 64,
   "metadata": {
    "ExecuteTime": {
     "end_time": "2020-12-10T14:53:18.050077Z",
     "start_time": "2020-12-10T14:53:17.995193Z"
    }
   },
   "outputs": [],
   "source": [
    "fitted = res.predict(df)\n",
    "residual = df['dist'] - fitted # residual이 잔차"
   ]
  },
  {
   "cell_type": "code",
   "execution_count": 65,
   "metadata": {
    "ExecuteTime": {
     "end_time": "2020-12-10T14:53:24.076093Z",
     "start_time": "2020-12-10T14:53:23.829887Z"
    }
   },
   "outputs": [
    {
     "data": {
      "text/plain": [
       "[<matplotlib.lines.Line2D at 0x25c1b21b2c8>]"
      ]
     },
     "execution_count": 65,
     "metadata": {},
     "output_type": "execute_result"
    },
    {
     "data": {
      "image/png": "[encoded data removed]",
      "text/plain": [
       "<Figure size 432x288 with 1 Axes>"
      ]
     },
     "metadata": {
      "needs_background": "light"
     },
     "output_type": "display_data"
    }
   ],
   "source": [
    "sns.regplot(fitted, residual, lowess=True, line_kws={'color': 'red'})\n",
    "plt.plot([fitted.min(), fitted.max()], [0, 0], '--', color='grey')"
   ]
  },
  {
   "cell_type": "markdown",
   "metadata": {},
   "source": [
    "## 잔차의 정규성\n",
    "- 잔차가 정규분포를 따른다는 가정\n",
    "- Q-Q 플롯으로 확인할 수 있음\n",
    "- 잔차가 정규분포를 띄면 Q-Q 플롯에서 점들이 점선을 따라 배치되어 있어야 함"
   ]
  },
  {
   "cell_type": "code",
   "execution_count": 67,
   "metadata": {
    "ExecuteTime": {
     "end_time": "2020-12-10T14:54:06.891511Z",
     "start_time": "2020-12-10T14:54:06.884523Z"
    }
   },
   "outputs": [],
   "source": [
    "import scipy.stats\n",
    "sr = scipy.stats.zscore(residual) # residual이 잔차(위에서 구함)\n",
    "(x, y), _ = scipy.stats.probplot(sr)"
   ]
  },
  {
   "cell_type": "code",
   "execution_count": 68,
   "metadata": {
    "ExecuteTime": {
     "end_time": "2020-12-10T14:54:08.647373Z",
     "start_time": "2020-12-10T14:54:08.427962Z"
    }
   },
   "outputs": [
    {
     "data": {
      "text/plain": [
       "[<matplotlib.lines.Line2D at 0x25c1b2e8588>]"
      ]
     },
     "execution_count": 68,
     "metadata": {},
     "output_type": "execute_result"
    },
    {
     "data": {
      "image/png": "[encoded data removed]",
      "text/plain": [
       "<Figure size 432x288 with 1 Axes>"
      ]
     },
     "metadata": {
      "needs_background": "light"
     },
     "output_type": "display_data"
    }
   ],
   "source": [
    "sns.scatterplot(x, y)\n",
    "plt.plot([-3, 3], [-3, 3], '--', color='grey')"
   ]
  },
  {
   "cell_type": "markdown",
   "metadata": {},
   "source": [
    "- 잔차의 정규성은 샤피로 검정으로 확인할 수 있다. 아래 분석에서 두 번째 값이 p값이다. p값이 0.02이므로 유의수준 5%에서 잔차의 정규성이 위반되었다고 판단한다."
   ]
  },
  {
   "cell_type": "code",
   "execution_count": 69,
   "metadata": {
    "ExecuteTime": {
     "end_time": "2020-12-10T14:56:10.020228Z",
     "start_time": "2020-12-10T14:56:10.014244Z"
    }
   },
   "outputs": [
    {
     "data": {
      "text/plain": [
       "ShapiroResult(statistic=0.9450905919075012, pvalue=0.02152460627257824)"
      ]
     },
     "execution_count": 69,
     "metadata": {},
     "output_type": "execute_result"
    }
   ],
   "source": [
    "scipy.stats.shapiro(residual)"
   ]
  },
  {
   "cell_type": "markdown",
   "metadata": {},
   "source": [
    "## 잔차의 등분산성\n",
    "- 회귀모형을 통햬 예측된 값이 크던 작던, 모든 값들에 대하여 잔차의 분산이 동일하다는 가정\n",
    "- 아래 그래프는 예측값(가로축)에 따라 잔차가 어떻게 달라지는지 보여줌\n",
    "- 빨간색 실선이 수평선을 그리는 것이 이상적"
   ]
  },
  {
   "cell_type": "code",
   "execution_count": 70,
   "metadata": {
    "ExecuteTime": {
     "end_time": "2020-12-10T14:56:52.504512Z",
     "start_time": "2020-12-10T14:56:52.212276Z"
    }
   },
   "outputs": [
    {
     "data": {
      "text/plain": [
       "<AxesSubplot:>"
      ]
     },
     "execution_count": 70,
     "metadata": {},
     "output_type": "execute_result"
    },
    {
     "data": {
      "image/png": "[encoded data removed]",
      "text/plain": [
       "<Figure size 432x288 with 1 Axes>"
      ]
     },
     "metadata": {
      "needs_background": "light"
     },
     "output_type": "display_data"
    }
   ],
   "source": [
    "sns.regplot(fitted, np.sqrt(np.abs(sr)), lowess=True, line_kws={'color': 'red'})"
   ]
  },
  {
   "cell_type": "markdown",
   "metadata": {},
   "source": [
    "## 극단값\n",
    "- Cook's distance는 극단값을 나타내는 지표\n",
    "- 48번, 22번, 38번 자료가 특히 예측에서 많이 벗어남을 알 수 있음"
   ]
  },
  {
   "cell_type": "code",
   "execution_count": 71,
   "metadata": {
    "ExecuteTime": {
     "end_time": "2020-12-10T14:57:30.693316Z",
     "start_time": "2020-12-10T14:57:30.683342Z"
    }
   },
   "outputs": [
    {
     "data": {
      "text/plain": [
       "48    0.340396\n",
       "22    0.085552\n",
       "38    0.068053\n",
       "44    0.053176\n",
       "34    0.052576\n",
       "dtype: float64"
      ]
     },
     "execution_count": 71,
     "metadata": {},
     "output_type": "execute_result"
    }
   ],
   "source": [
    "from statsmodels.stats.outliers_influence import OLSInfluence\n",
    "cd, _ = OLSInfluence(res).cooks_distance\n",
    "cd.sort_values(ascending=False).head()\n"
   ]
  },
  {
   "cell_type": "markdown",
   "metadata": {},
   "source": [
    "## 잔차의 독립성\n",
    "- 회귀분석에서 잔차는 정규성, 등분상성 그리고 독립성을 가지는 것으로 가정\n",
    "- 자료 수집 과정에서 무작위 표집(random sampling)을 하였다면, 잔차의 독립성은 만족하는 것으로 봄\n",
    "- 시계열 자료나 종단연구 자료처럼, 연구 설계 자체가 독립성을 담보할 수 없는 경우에는 더빈-왓슨 검정(Durbin-Watson test) 등을 실시\n",
    "\n",
    "\n",
    "- model.fit().summary() 결과에 포함되어 있음. Durbin-Watson(더빈왓슨, DW검정) DW검정은 잔차의 독립성을 확인할 수 있는 수치이다. 0이면 잔차들이 양의 자기상관을 갖고, 2이면 자기상관이 없는 독립성을 갖고, 4이면 잔차들이 음의 자기상관을 갖는다고 해석한다. 보통 1.5 ~ 2.5사이이면 독립으로 판단하고 회귀모형이 적합하다는 것을 의미한다(2에 가까운 게 좋은 것). DW검정값이 0 또는 4에 가깝다는 것은 잔차들이 자기상관을 가지고 있다는 의미이고, 이는 t값, F값, R제곱을 실제보다 증가시켜 실제로 유의미하지 않은 결과를 유의미한 결과로 왜곡하게 된다.\n"
   ]
  },
  {
   "cell_type": "markdown",
   "metadata": {
    "ExecuteTime": {
     "end_time": "2020-12-10T14:58:08.953507Z",
     "start_time": "2020-12-10T14:58:08.947523Z"
    }
   },
   "source": [
    "## 잔차 분석 결과를 바탕으로 대응/교정\n",
    "- 잔차 분석 결과에 따라 다양한 방식의 대응이 가능\n",
    "  - 극단값을 제거\n",
    "  - 독립변수를 추가\n",
    "  - 종속변수를 수학적으로 변환\n",
    "- 위의 예에서는 48번 자료가 극단값으로 보이고 이 때문에 잔차의 정규성이 위배되는 것으로 추측된다. 따라서 48번 자료를 제거하고 다시 분석을 시도해볼 수 있다."
   ]
  },
  {
   "cell_type": "markdown",
   "metadata": {},
   "source": [
    "# 평균비교\n",
    "## t검증\n",
    "### 독립표본 t검증\n",
    "- 두 독립표본의 평균을 통계적으로 비교하는 기법\n",
    "\n",
    "\n",
    "- 두 표본집단을 구성(표집/수집)할 때 독립이면 독립표본\n",
    "- 대응표본: 부부 100쌍을 뽑아 남편 100명과 아내 100명으로 두 집단을 비교하는 경우\n",
    "- 독립표본: 무작위로 남자 100명과 여자 100명을 뽑아 두 집단을 비교하는 경우\n",
    "\n",
    "\n",
    "- 독립표본 t-test의 논리\n",
    "- 두 집단의 모평균(모집단의 평균)은 동일하다는 가설\n",
    "- 두 집단의 모평균 차이는 0\n",
    "- 표본평균들은 모집단 평균과 다를 수 있지만 차이가 크지 않을 것\n",
    "- 따라서 두 집단의 표본평균의 차이가 0은 아닐 수 있지만, 그렇게 큰 차이를 보이지는 않을 것임\n",
    "- 만약, 두 표본평균이 심각하게 차이가 난다면, 두 집단의 모평균이 동일하다는, 즉 두 집단의 모평균 차이가 0이라는 가설이 맞지 않을 가능성이 높음\n",
    "- 따라서, 두 표본평균이 차이나는 정도에 대한 가능성(확률)을 계산하고 이를 바탕으로 \"두 집단의 모평균(모집단의 평균)은 동일하다는 가설\"에 대해서 판단함"
   ]
  },
  {
   "cell_type": "code",
   "execution_count": 73,
   "metadata": {
    "ExecuteTime": {
     "end_time": "2020-12-10T15:03:27.413373Z",
     "start_time": "2020-12-10T15:03:27.406423Z"
    }
   },
   "outputs": [],
   "source": [
    "# 두 집단 dat_M과 dat_F가 있음\n",
    "dat_M = [117, 108, 105, 89, 101, 93, 96, 108, 108, 94, 93, 112, 92, 91, 100, 96, 120, 86, 96, 95]\n",
    "dat_F = [121, 101, 102, 114, 103, 105, 101, 131, 96, 109, 109, 113, 115, 94, 108, 96, 110, 112, 120, 100]"
   ]
  },
  {
   "cell_type": "code",
   "execution_count": 74,
   "metadata": {
    "ExecuteTime": {
     "end_time": "2020-12-10T15:03:33.177854Z",
     "start_time": "2020-12-10T15:03:33.171889Z"
    }
   },
   "outputs": [
    {
     "data": {
      "text/plain": [
       "100.0"
      ]
     },
     "execution_count": 74,
     "metadata": {},
     "output_type": "execute_result"
    }
   ],
   "source": [
    "# dat_M의 평균은 100, dat_F의 평균은 108\n",
    "import numpy as np\n",
    "\n",
    "np.mean(dat_M)"
   ]
  },
  {
   "cell_type": "code",
   "execution_count": 75,
   "metadata": {
    "ExecuteTime": {
     "end_time": "2020-12-10T15:03:57.174872Z",
     "start_time": "2020-12-10T15:03:57.168891Z"
    }
   },
   "outputs": [
    {
     "data": {
      "text/plain": [
       "108.0"
      ]
     },
     "execution_count": 75,
     "metadata": {},
     "output_type": "execute_result"
    }
   ],
   "source": [
    "np.mean(dat_F)"
   ]
  },
  {
   "cell_type": "markdown",
   "metadata": {},
   "source": [
    "- 두 집단의 평균 차이가 통계적으로 유의미한지 t-검증"
   ]
  },
  {
   "cell_type": "code",
   "execution_count": 76,
   "metadata": {
    "ExecuteTime": {
     "end_time": "2020-12-10T15:04:12.518711Z",
     "start_time": "2020-12-10T15:04:12.512778Z"
    }
   },
   "outputs": [
    {
     "data": {
      "text/plain": [
       "Ttest_indResult(statistic=-2.670573872669349, pvalue=0.01108318824471652)"
      ]
     },
     "execution_count": 76,
     "metadata": {},
     "output_type": "execute_result"
    }
   ],
   "source": [
    "import scipy.stats\n",
    "\n",
    "scipy.stats.ttest_ind(dat_M, dat_F, equal_var=False)"
   ]
  },
  {
   "cell_type": "markdown",
   "metadata": {},
   "source": [
    "- 검증 결과, 두 집단의 평균 차이는 통계적으로 유의미함 (p<0.05)\n",
    "\n",
    "\n",
    "- 통계적 유의미성\n",
    "- 검증 결과, 통계적으로 유의미한 결과를 얻었다면?\n",
    "- 귀무가설(null hypothesis)을 전제로 했을 때, 어떤 통계량의 값을 얻을 확률이, 연구자가 정한 유의수준보다 작을 경우 \"통계적으로 유의미하다\"라고 표현함\n",
    "\n",
    "\n",
    "- 유의수준\n",
    "- 어떤 사건이 일어날 확률이 희박한지 판단하기 위해 연구자가 주관적으로 정하는 기준\n",
    "- 어떤 사건이 일어날 확률이 유의수준보다 작으면, 그 사건은 유의미한 사건(희귀한 사건)으로 여기겠다는 것임\n",
    "- 통상적으로 학계에서는 0.05나 0.01을 관례적으로 사용"
   ]
  },
  {
   "cell_type": "markdown",
   "metadata": {},
   "source": [
    "### t검증 결과보고\n",
    "- t-test에서 효과 크기(effect size)란 두 집단의 평균 차이를 일정한 기준으로 표현한 것\n",
    "- 효과 크기의 표현 방법에는 Cohen's d, Pearson's r 등 여러 가지가 있음\n",
    "- 다른 실험의 효과 크기와 비교하여 상대적으로 판단한다.\n",
    "- 절대적인 것은 아니나 보통 0.2 정도면 작은 편, 0.5 정도면 중간, 0.8이면 큰 편"
   ]
  },
  {
   "cell_type": "code",
   "execution_count": 80,
   "metadata": {
    "ExecuteTime": {
     "end_time": "2020-12-10T15:08:06.009686Z",
     "start_time": "2020-12-10T15:08:06.004732Z"
    }
   },
   "outputs": [],
   "source": [
    "# 먼저 t-test 수행\n",
    "m = scipy.stats.ttest_ind(dat_M, dat_F, equal_var=False)"
   ]
  },
  {
   "cell_type": "code",
   "execution_count": 79,
   "metadata": {
    "ExecuteTime": {
     "end_time": "2020-12-10T15:07:55.709740Z",
     "start_time": "2020-12-10T15:07:55.702758Z"
    }
   },
   "outputs": [
    {
     "data": {
      "text/plain": [
       "0.4332242888591059"
      ]
     },
     "execution_count": 79,
     "metadata": {},
     "output_type": "execute_result"
    }
   ],
   "source": [
    "# Cohen's d\"\n",
    "\n",
    "t = m.statistic\n",
    "df = len(dat_M) + len(dat_F) - 2\n",
    "\n",
    "abs(t) / np.sqrt(df)"
   ]
  },
  {
   "cell_type": "code",
   "execution_count": 81,
   "metadata": {
    "ExecuteTime": {
     "end_time": "2020-12-10T15:08:21.830188Z",
     "start_time": "2020-12-10T15:08:21.824204Z"
    }
   },
   "outputs": [
    {
     "data": {
      "text/plain": [
       "0.39752319599996255"
      ]
     },
     "execution_count": 81,
     "metadata": {},
     "output_type": "execute_result"
    }
   ],
   "source": [
    "# Pearson's r:\n",
    "\n",
    "t2 = t ** 2\n",
    "\n",
    "np.sqrt(t2 / (t2 + df))"
   ]
  },
  {
   "cell_type": "markdown",
   "metadata": {},
   "source": [
    "- 독립표본 t 검증 결과 보고\n",
    "\n",
    "\n",
    "- 각 표본에 대한 기술통계(평균, 표준편차, 표본크기 등)\n",
    "- t값과 그 때의 자유도(df)\n",
    "- p-value와 유의수준의 비교 (p-value를 적시하지는 않음)\n",
    "- 효과크기(주로 Cohen's d나 Pearson's r)와 그에 대한 해석\n",
    "- 집단 M과 F에 대하여 독립표본 t 검증을 실시한 결과, 집단 M의 측정값(M = 100, SD = 9.515)은 집단 F의 측정값(M = 108, SD = 9.431)보다 통계적으로 유의미하게 낮았으며(t(37.997) = -2.671, p < 0.05), 효과 크기는 중간 수준이었다(Cohen's d = 0.43, r = 0.39)."
   ]
  },
  {
   "cell_type": "markdown",
   "metadata": {},
   "source": [
    "### 대응표본 t검증\n",
    "- 대응표본이란?\n",
    "- 두 집단의 자료를 쌍으로 묶을 수 있을 때\n",
    "- 예) 남편과 아내, 쌍둥이, before & after\n",
    "- 두 집단의 자료를 쌍으로 묶어야 하기 때문에, 독립표본과는 달리 두 집단의 자료 갯수가 동일해야 함\n",
    "\n",
    "\n",
    "- 대응표본 t-test의 논리\n",
    "- 쌍을 이루고 있는 두 값의 차이를 구함\n",
    "- 모집단에서 차이의 평균은 0이라고 귀무가설을 세움\n",
    "- 그렇다면 표본에서도 차이의 평균은 0에 가까울 것\n",
    "- 표본에서 구한 차이의 평균이 0보다 심각하게 크다면, 귀무가설이 옳을 확률은 희박\n",
    "- 그렇다면 귀무 가설을 기각하게 되고, 두 집단 간 차이가 유의미하다고 말하는 것\n",
    "\n",
    "\n",
    "- 대응표본 t-test 실시하기\n",
    "- dat_M과 dat_F가 순서대로 짝지어져 있다고 가정(예: 117과 121, 108과 101 등등)"
   ]
  },
  {
   "cell_type": "code",
   "execution_count": 82,
   "metadata": {
    "ExecuteTime": {
     "end_time": "2020-12-10T15:11:17.264350Z",
     "start_time": "2020-12-10T15:11:17.258356Z"
    }
   },
   "outputs": [],
   "source": [
    "# dat_M과 dat_F가 순서대로 짝지어져 있다고 가정(예: 117과 121, 108과 101 등등)\n",
    "\n",
    "dat_M = [117, 108, 105, 89, 101, 93, 96, 108, 108, 94, 93, 112, 92, 91, 100, 96, 120, 86, 96, 95]\n",
    "dat_F = [121, 101, 102, 114, 103, 105, 101, 131, 96, 109, 109, 113, 115, 94, 108, 96, 110, 112, 120, 100]"
   ]
  },
  {
   "cell_type": "markdown",
   "metadata": {},
   "source": [
    "- paired=T를 하여 대응표본 t-test:"
   ]
  },
  {
   "cell_type": "code",
   "execution_count": 83,
   "metadata": {
    "ExecuteTime": {
     "end_time": "2020-12-10T15:11:31.547066Z",
     "start_time": "2020-12-10T15:11:31.540087Z"
    }
   },
   "outputs": [
    {
     "data": {
      "text/plain": [
       "Ttest_relResult(statistic=-2.9868874599588247, pvalue=0.007578486289181322)"
      ]
     },
     "execution_count": 83,
     "metadata": {},
     "output_type": "execute_result"
    }
   ],
   "source": [
    "import scipy.stats\n",
    "\n",
    "scipy.stats.ttest_rel(dat_M, dat_F)"
   ]
  },
  {
   "cell_type": "markdown",
   "metadata": {},
   "source": [
    "- 통계적으로 유의미한 차이가 있음(p < 0.05)\n",
    "- 효과 크기의 계산과 결과 보고는 독립표본 t-검증과 동일"
   ]
  },
  {
   "cell_type": "markdown",
   "metadata": {},
   "source": [
    "## 일원분산분석(one-way ANOVA)\n",
    "### 분산분석\n",
    "- ANOVA란?\n",
    "- ANalysis Of VAriance의 약자\n",
    "- 우리말로 \"분산분석\", 혹은 \"변량분석\"이라고 함\n",
    "\n",
    "\n",
    "- ANOVA가 필요한 이유\n",
    "- 두 개 이상의 집단에 대해 평균비교를 하고자 할 때 기존의 t-test를 사용한다면, 두 집단씩 짝을 지어 t-test를 진행해야 함\n",
    "- 세 개의 집단이 있을 때, 둘씩 짝을 짓는 경우의 수: 3가지\n",
    "- 네 개의 집단이 있을 때, 둘씩 짝을 짓는 경우의 수: 6가지\n",
    "- 다섯 개의 집단이 있을 때, 둘씩 짝을 짓는 경우의 수: 10가지\n",
    "- 여섯 개의 집단이 있을 때, 둘씩 짝을 짓는 경우의 수: 15가지\n",
    "- t-test로만 진행한다면, 분석횟수가 기하급수적으로 증가함 ⇒ 과잉검증의 문제가 발생함\n",
    "- 과잉검증 문제(overtesting problem)란?\n",
    "- 통계적 검증 절차를 남용하여, 확률적 의사 결정에서 발생할 수 있는 오류의 확률이 필요 이상으로 증가하는 문제\n",
    "- 예) 여섯 개 집단에 대한 평균비교를 시행할 때, 한 번이라도 1종 오류가 발생할 확률: 1−(−α)^15\n",
    "- 한 번의 시행에서의 유의수준(α)을 0.05라고 잡아도, 전체 유의수준은 급격하게 증가함\n",
    "- 따라서, 이러한 오류의 확률을 통제한 상황에서 통계 분석을 진행하기 위해서 ANOVA를 실시함\n",
    "- 오류의 확률을 통제한 상태에서 전체적인 결과에 대한 진술/서술이 용이함\n",
    "- 집단을 구별하는 변수가 두 개 이상인 경우, 상호작용을 파악하기 용이함\n",
    "\n",
    "\n",
    "- ANOVA에서 사용되는 용어\n",
    "- 요인(factor): 집단을 구별하는 (독립)변수를 분산분석의 맥락에서는 \"요인\"이라고 칭함. 예) 성별, 국가\n",
    "- 수준(level): 요인의 수준. 즉, 각 집단을 의미함. 예) 요인이 \"성별\"일 때, 수준은 \"남\", \"여\"\n",
    "- 상호작용: 한 요인의 수준에 따른 종속변수의 차이가 또 다른 요인의 수준에 따라 달라질 때, \"요인들 간 상호작용이 존재한다\"고 함\n",
    "\n",
    "- n원분산분석\n",
    "- 요인이 n개인 분산분석을 의미\n",
    "- 예) 일원분산분석: 요인이 1개인 분산분석\n",
    "- 예) 이원분산분석: 요인이 2개인 분산분석\n",
    "\n",
    "### 일원분산분석\n",
    "- 일원분산분석의 가설\n",
    "- 영가설: 모든 집단의 평균이 동일하다\n",
    "- 대안가설: 적어도 한 집단의 평균이 다른 집단들과 다르다"
   ]
  },
  {
   "cell_type": "code",
   "execution_count": 84,
   "metadata": {
    "ExecuteTime": {
     "end_time": "2020-12-10T15:17:16.940692Z",
     "start_time": "2020-12-10T15:17:16.927722Z"
    }
   },
   "outputs": [
    {
     "data": {
      "text/html": [
       "<div>\n",
       "<style scoped>\n",
       "    .dataframe tbody tr th:only-of-type {\n",
       "        vertical-align: middle;\n",
       "    }\n",
       "\n",
       "    .dataframe tbody tr th {\n",
       "        vertical-align: top;\n",
       "    }\n",
       "\n",
       "    .dataframe thead th {\n",
       "        text-align: right;\n",
       "    }\n",
       "</style>\n",
       "<table border=\"1\" class=\"dataframe\">\n",
       "  <thead>\n",
       "    <tr style=\"text-align: right;\">\n",
       "      <th></th>\n",
       "      <th>weight</th>\n",
       "      <th>group</th>\n",
       "    </tr>\n",
       "  </thead>\n",
       "  <tbody>\n",
       "    <tr>\n",
       "      <th>0</th>\n",
       "      <td>4.17</td>\n",
       "      <td>ctrl</td>\n",
       "    </tr>\n",
       "    <tr>\n",
       "      <th>1</th>\n",
       "      <td>5.58</td>\n",
       "      <td>ctrl</td>\n",
       "    </tr>\n",
       "    <tr>\n",
       "      <th>2</th>\n",
       "      <td>5.18</td>\n",
       "      <td>ctrl</td>\n",
       "    </tr>\n",
       "    <tr>\n",
       "      <th>3</th>\n",
       "      <td>6.11</td>\n",
       "      <td>ctrl</td>\n",
       "    </tr>\n",
       "    <tr>\n",
       "      <th>4</th>\n",
       "      <td>4.50</td>\n",
       "      <td>ctrl</td>\n",
       "    </tr>\n",
       "  </tbody>\n",
       "</table>\n",
       "</div>"
      ],
      "text/plain": [
       "   weight group\n",
       "0    4.17  ctrl\n",
       "1    5.58  ctrl\n",
       "2    5.18  ctrl\n",
       "3    6.11  ctrl\n",
       "4    4.50  ctrl"
      ]
     },
     "execution_count": 84,
     "metadata": {},
     "output_type": "execute_result"
    }
   ],
   "source": [
    "df = pd.read_csv('./data/PlantGrowth.csv')\n",
    "df.head()"
   ]
  },
  {
   "cell_type": "code",
   "execution_count": 85,
   "metadata": {
    "ExecuteTime": {
     "end_time": "2020-12-10T15:17:41.957450Z",
     "start_time": "2020-12-10T15:17:41.951465Z"
    }
   },
   "outputs": [
    {
     "data": {
      "text/plain": [
       "array(['ctrl', 'trt1', 'trt2'], dtype=object)"
      ]
     },
     "execution_count": 85,
     "metadata": {},
     "output_type": "execute_result"
    }
   ],
   "source": [
    "df.group.unique()"
   ]
  },
  {
   "cell_type": "markdown",
   "metadata": {},
   "source": [
    "- 이 자료에서 group 요인은 수준이 ctrl, trt1, trt2 세 개. 다시 말해 세 집단을 비교하는 것."
   ]
  },
  {
   "cell_type": "markdown",
   "metadata": {},
   "source": [
    "- aov 함수로 분산분석을 수행. group이 독립변수, weight가 종속변수. 즉, group에 따라 weight가 달라지는지 검증."
   ]
  },
  {
   "cell_type": "code",
   "execution_count": 86,
   "metadata": {
    "ExecuteTime": {
     "end_time": "2020-12-10T15:18:10.973264Z",
     "start_time": "2020-12-10T15:18:10.949331Z"
    }
   },
   "outputs": [
    {
     "data": {
      "text/html": [
       "<div>\n",
       "<style scoped>\n",
       "    .dataframe tbody tr th:only-of-type {\n",
       "        vertical-align: middle;\n",
       "    }\n",
       "\n",
       "    .dataframe tbody tr th {\n",
       "        vertical-align: top;\n",
       "    }\n",
       "\n",
       "    .dataframe thead th {\n",
       "        text-align: right;\n",
       "    }\n",
       "</style>\n",
       "<table border=\"1\" class=\"dataframe\">\n",
       "  <thead>\n",
       "    <tr style=\"text-align: right;\">\n",
       "      <th></th>\n",
       "      <th>df</th>\n",
       "      <th>sum_sq</th>\n",
       "      <th>mean_sq</th>\n",
       "      <th>F</th>\n",
       "      <th>PR(&gt;F)</th>\n",
       "    </tr>\n",
       "  </thead>\n",
       "  <tbody>\n",
       "    <tr>\n",
       "      <th>C(group)</th>\n",
       "      <td>2.0</td>\n",
       "      <td>3.76634</td>\n",
       "      <td>1.883170</td>\n",
       "      <td>4.846088</td>\n",
       "      <td>0.01591</td>\n",
       "    </tr>\n",
       "    <tr>\n",
       "      <th>Residual</th>\n",
       "      <td>27.0</td>\n",
       "      <td>10.49209</td>\n",
       "      <td>0.388596</td>\n",
       "      <td>NaN</td>\n",
       "      <td>NaN</td>\n",
       "    </tr>\n",
       "  </tbody>\n",
       "</table>\n",
       "</div>"
      ],
      "text/plain": [
       "            df    sum_sq   mean_sq         F   PR(>F)\n",
       "C(group)   2.0   3.76634  1.883170  4.846088  0.01591\n",
       "Residual  27.0  10.49209  0.388596       NaN      NaN"
      ]
     },
     "execution_count": 86,
     "metadata": {},
     "output_type": "execute_result"
    }
   ],
   "source": [
    "from statsmodels.formula.api import ols\n",
    "from statsmodels.stats.anova import anova_lm\n",
    "\n",
    "model = ols('weight ~ C(group)', df).fit()\n",
    "anova_lm(model)"
   ]
  },
  {
   "cell_type": "markdown",
   "metadata": {},
   "source": [
    "- 결과 해석\n",
    "- Pr(>F)가 p-value. 이 값이 0.05보다 작으면 통계적으로 유의미한 차이가 있음.\n",
    "- 위의 예시에서는 0.0159로 0.05보다 작음. 따라서 유의미한 차이.\n",
    "- 구체적으로 어떤 수준(집단)이 차이가 있는지 확인하려면 사후분석(post hoc tests)\n",
    "- 유의미한 차이가 없는 경우에는 사후분석할 필요가 없음"
   ]
  },
  {
   "cell_type": "markdown",
   "metadata": {},
   "source": [
    "### 일원분산분석의 가정 확인\n",
    "- 일원분산분석의 가정들\n",
    "- 독립성: 자료의 추출은 독립적으로 이루어졌음\n",
    "- 무선표집을 하였다면 만족하는 것으로 여김\n",
    "- 정규성: 자료의 모집단 분포는 정규분포를 따름\n",
    "- 등분산성: 모든 집단의 모분산은 동일함"
   ]
  },
  {
   "cell_type": "markdown",
   "metadata": {},
   "source": [
    "#### 정규성 확인\n",
    "- 수준별(집단별)로 실시하여 확인"
   ]
  },
  {
   "cell_type": "code",
   "execution_count": 87,
   "metadata": {
    "ExecuteTime": {
     "end_time": "2020-12-10T15:19:39.811960Z",
     "start_time": "2020-12-10T15:19:39.803981Z"
    }
   },
   "outputs": [
    {
     "data": {
      "text/plain": [
       "ShapiroResult(statistic=0.9566815495491028, pvalue=0.7474744915962219)"
      ]
     },
     "execution_count": 87,
     "metadata": {},
     "output_type": "execute_result"
    }
   ],
   "source": [
    "import scipy.stats\n",
    "\n",
    "scipy.stats.shapiro(df.weight[df.group=='ctrl'])"
   ]
  },
  {
   "cell_type": "code",
   "execution_count": 88,
   "metadata": {
    "ExecuteTime": {
     "end_time": "2020-12-10T15:19:44.195316Z",
     "start_time": "2020-12-10T15:19:44.188364Z"
    }
   },
   "outputs": [
    {
     "data": {
      "text/plain": [
       "ShapiroResult(statistic=0.9304108619689941, pvalue=0.451945960521698)"
      ]
     },
     "execution_count": 88,
     "metadata": {},
     "output_type": "execute_result"
    }
   ],
   "source": [
    "scipy.stats.shapiro(df.weight[df.group=='trt1'])"
   ]
  },
  {
   "cell_type": "code",
   "execution_count": 89,
   "metadata": {
    "ExecuteTime": {
     "end_time": "2020-12-10T15:19:47.409980Z",
     "start_time": "2020-12-10T15:19:47.403992Z"
    }
   },
   "outputs": [
    {
     "data": {
      "text/plain": [
       "ShapiroResult(statistic=0.9410051107406616, pvalue=0.5642509460449219)"
      ]
     },
     "execution_count": 89,
     "metadata": {},
     "output_type": "execute_result"
    }
   ],
   "source": [
    "scipy.stats.shapiro(df.weight[df.group=='trt2'])"
   ]
  },
  {
   "cell_type": "markdown",
   "metadata": {},
   "source": [
    "- 모두 p >.05이므로 각 집단의 자료가 정규성을 크게 벗어난다고 보기 어려움"
   ]
  },
  {
   "cell_type": "markdown",
   "metadata": {},
   "source": [
    "#### 독립성 확인\n",
    "- 자료 수집이 무선표집(random sampling)되었다면 만족한다고 봄"
   ]
  },
  {
   "cell_type": "markdown",
   "metadata": {},
   "source": [
    "#### 등분산성 확인\n",
    "- 레빈 검증:\n"
   ]
  },
  {
   "cell_type": "code",
   "execution_count": 90,
   "metadata": {
    "ExecuteTime": {
     "end_time": "2020-12-10T15:20:58.939657Z",
     "start_time": "2020-12-10T15:20:58.930688Z"
    }
   },
   "outputs": [
    {
     "data": {
      "text/plain": [
       "LeveneResult(statistic=1.1191856948703909, pvalue=0.3412266241254737)"
      ]
     },
     "execution_count": 90,
     "metadata": {},
     "output_type": "execute_result"
    }
   ],
   "source": [
    "scipy.stats.levene(\n",
    "    df.weight[df.group == 'ctrl'],\n",
    "    df.weight[df.group == 'trt1'],\n",
    "    df.weight[df.group == 'trt2'] )"
   ]
  },
  {
   "cell_type": "markdown",
   "metadata": {},
   "source": [
    "- 바틀렛 검증:"
   ]
  },
  {
   "cell_type": "code",
   "execution_count": 91,
   "metadata": {
    "ExecuteTime": {
     "end_time": "2020-12-10T15:21:10.513910Z",
     "start_time": "2020-12-10T15:21:10.505931Z"
    }
   },
   "outputs": [
    {
     "data": {
      "text/plain": [
       "BartlettResult(statistic=2.8785737872360935, pvalue=0.23709677363455822)"
      ]
     },
     "execution_count": 91,
     "metadata": {},
     "output_type": "execute_result"
    }
   ],
   "source": [
    "scipy.stats.bartlett(\n",
    "    df.weight[df.group == 'ctrl'],\n",
    "    df.weight[df.group == 'trt1'],\n",
    "    df.weight[df.group == 'trt2'] )"
   ]
  },
  {
   "cell_type": "markdown",
   "metadata": {},
   "source": [
    "- 두 테스트 모두, 세 집단의 모분산에 유의미한 차이를 발견하지 못함. 등분산성 가정이 유지됨"
   ]
  },
  {
   "cell_type": "markdown",
   "metadata": {},
   "source": [
    "### 사후분석\n",
    "- 사후분석(post hoc)\n",
    "- ANOVA 검증 결과 유의미하다는 결론을 얻었을 때, 구체적으로 어떤 수준(들)에서 평균 차이가 나는지를 검증하는 방법\n",
    "- 연구자의 사전 가설(아이디어)없이 ANOVA를 시행한 경우, 탐색적으로 평균 차이가 나는 수준(집단)을 살펴보기 위해 시행하는 방법\n",
    "- 조합 가능한 모든 쌍에 대해 비교를 하므로 과잉검증으로 인한 FWER 증가\n",
    "\n",
    "\n",
    "- FWER\n",
    "- Familywise Error Rate: 여러 개의 가설 검정을 할 때 적어도 하나의 가설에서 1종 오류가 발생할 가능성\n",
    "- 가설검정을 많이 할 수록 FWER은 증가\n",
    "- 유의수준 5%에서 가설 검정을 1번 할 때, 1종 오류가 발생하지 않을 확률은 95%. FWER = 100% - 95% = 5%\n",
    "- 가설검정을 2번했을 때, 2번 모두 1종 오류가 발생하지 않을 확률은 95% × 95% = 90.25%. FWER = 9.75%\n",
    "- 가설검정을 3번했을 때, 3번 모두 1종 오류가 발생하지 않을 확률은 95% × 95% × 95% = 85.74%. FWER = 14.26%\n",
    "\n",
    "\n",
    "- 대표적인 사후분석 방법\n",
    "- 유의수준을 보정하여 FWER을 0.05로 고정시킴\n",
    "\n",
    "- 피셔의 LSD\n",
    "- 봉페로니 교정\n",
    "- 투키의 HSD\n",
    "- 셰페의 방법\n",
    "- 피셔의 LSD는 실제로 보정을 하지 않는 방법이므로 쓰지 않는다. 셰페의 방법은 반대로 지나치게 보수적이어서 잘 쓰지 않는다. 여기서는 널리 쓰이는 봉페로니 교정과 투키의 HSD를 소개한다."
   ]
  },
  {
   "cell_type": "markdown",
   "metadata": {
    "ExecuteTime": {
     "end_time": "2020-12-10T15:26:32.238793Z",
     "start_time": "2020-12-10T15:26:32.232810Z"
    }
   },
   "source": [
    "- 사후분석을 위한 준비를 한다:"
   ]
  },
  {
   "cell_type": "code",
   "execution_count": 93,
   "metadata": {
    "ExecuteTime": {
     "end_time": "2020-12-10T15:26:41.321757Z",
     "start_time": "2020-12-10T15:26:41.315773Z"
    }
   },
   "outputs": [],
   "source": [
    "from statsmodels.sandbox.stats.multicomp import MultiComparison\n",
    "import scipy.stats\n",
    "\n",
    "comp = MultiComparison(df.weight, df.group)"
   ]
  },
  {
   "cell_type": "markdown",
   "metadata": {},
   "source": [
    "- 봉페로니 교정\n",
    "- Bonferroni correction\n",
    "- 모든 집단을 짝지어 t-test\n",
    "- 짝지어 비교를 3번 하면, p값을 3배\n",
    "- FWER이 중간 정도"
   ]
  },
  {
   "cell_type": "code",
   "execution_count": 94,
   "metadata": {
    "ExecuteTime": {
     "end_time": "2020-12-10T15:27:34.844880Z",
     "start_time": "2020-12-10T15:27:34.835395Z"
    }
   },
   "outputs": [
    {
     "data": {
      "text/html": [
       "<table class=\"simpletable\">\n",
       "<caption>Test Multiple Comparison ttest_ind \n",
       "FWER=0.05 method=bonf\n",
       "alphacSidak=0.02, alphacBonf=0.017</caption>\n",
       "<tr>\n",
       "  <th>group1</th> <th>group2</th>  <th>stat</th>    <th>pval</th>  <th>pval_corr</th> <th>reject</th>\n",
       "</tr>\n",
       "<tr>\n",
       "   <td>ctrl</td>   <td>trt1</td>  <td>1.1913</td>   <td>0.249</td>  <td>0.7471</td>    <td>False</td>\n",
       "</tr>\n",
       "<tr>\n",
       "   <td>ctrl</td>   <td>trt2</td>  <td>-2.134</td>  <td>0.0469</td>  <td>0.1406</td>    <td>False</td>\n",
       "</tr>\n",
       "<tr>\n",
       "   <td>trt1</td>   <td>trt2</td>  <td>-3.0101</td> <td>0.0075</td>  <td>0.0226</td>    <td>True</td> \n",
       "</tr>\n",
       "</table>"
      ],
      "text/plain": [
       "<class 'statsmodels.iolib.table.SimpleTable'>"
      ]
     },
     "execution_count": 94,
     "metadata": {},
     "output_type": "execute_result"
    }
   ],
   "source": [
    "result = comp.allpairtest(scipy.stats.ttest_ind, method='bonf')\n",
    "result[0]"
   ]
  },
  {
   "cell_type": "markdown",
   "metadata": {},
   "source": [
    "- trt1 수준과 trt2 수준 간의 평균 차이만 유의미함 (p < 0.05)"
   ]
  },
  {
   "cell_type": "markdown",
   "metadata": {},
   "source": [
    "- 투키의 HSD\n",
    "- Tuckey's Honestly Significant Difference = \"진정으로 유의미한 차이\"\n",
    "- FWER이 중간 정도"
   ]
  },
  {
   "cell_type": "code",
   "execution_count": 95,
   "metadata": {
    "ExecuteTime": {
     "end_time": "2020-12-10T15:28:18.538559Z",
     "start_time": "2020-12-10T15:28:18.483707Z"
    }
   },
   "outputs": [
    {
     "data": {
      "text/html": [
       "<table class=\"simpletable\">\n",
       "<caption>Multiple Comparison of Means - Tukey HSD, FWER=0.05</caption>\n",
       "<tr>\n",
       "  <th>group1</th> <th>group2</th> <th>meandiff</th>  <th>p-adj</th>  <th>lower</th>   <th>upper</th> <th>reject</th>\n",
       "</tr>\n",
       "<tr>\n",
       "   <td>ctrl</td>   <td>trt1</td>   <td>-0.371</td>  <td>0.3921</td> <td>-1.0621</td> <td>0.3201</td>  <td>False</td>\n",
       "</tr>\n",
       "<tr>\n",
       "   <td>ctrl</td>   <td>trt2</td>    <td>0.494</td>   <td>0.198</td> <td>-0.1971</td> <td>1.1851</td>  <td>False</td>\n",
       "</tr>\n",
       "<tr>\n",
       "   <td>trt1</td>   <td>trt2</td>    <td>0.865</td>   <td>0.012</td> <td>0.1739</td>  <td>1.5561</td>  <td>True</td> \n",
       "</tr>\n",
       "</table>"
      ],
      "text/plain": [
       "<class 'statsmodels.iolib.table.SimpleTable'>"
      ]
     },
     "execution_count": 95,
     "metadata": {},
     "output_type": "execute_result"
    }
   ],
   "source": [
    "from statsmodels.stats.multicomp import pairwise_tukeyhsd\n",
    "\n",
    "hsd = pairwise_tukeyhsd(df['weight'], df['group'], alpha=0.05)\n",
    "hsd.summary()"
   ]
  },
  {
   "cell_type": "markdown",
   "metadata": {},
   "source": [
    "- trt1 수준과 trt2 수준 간의 평균 차이만 유의미함 (p < 0.05)"
   ]
  },
  {
   "cell_type": "markdown",
   "metadata": {},
   "source": [
    "### 일원분산분석 결과 보고"
   ]
  },
  {
   "cell_type": "markdown",
   "metadata": {},
   "source": [
    "- 사후분석을 진행한 경우\n",
    "  - 전체 모형에 대한 분석결과 보고\n",
    "  - 사용한 사후분석 방법에 대한 보고\n",
    "  - 유의미한 사후분석 결과들에 대한 보고\n",
    "- group에 따른 weight의 평균 차이는 유의미하였다(F(2, 27) = 4.846, p < 0.05). Tukey의 HSD를 이용하여 사후분석을 실시한 결과, trt1 조건과 trt2 조건에서 유의미한 평균 차이가 있었다(p < 0.05)."
   ]
  },
  {
   "cell_type": "markdown",
   "metadata": {},
   "source": [
    "- 계획비교를 진행한 경우\n",
    "  - 사전 가설(들)에 대한 소개\n",
    "  - 대비계수 작성 과정에서의 특이사항 소개 (예. 표본의 비율 차이를 반영하였는지의 여부 등)\n",
    "  - 전체 모형에 대한 분석결과 보고\n",
    "  - 각 대비계수의 분석 결과 보고\n",
    "  - 4의 결과에 따른 각 사전 가설에 대한 평가/논의\n",
    "- 대비계수를 이용하여 control group과 treatment group 간에 차이가 있는지, 또 treatment group 간에 차이가 있는지 알아보기로 하였다. 분석 결과, group에 따른 weight의 평균 차이는 유의미하였다(F(2, 27) = 4.846, p < 0.05). 구체적으로 살펴보면, 우리의 예상과 달리 control group과 treatment group 들 간에는 유의미한 차이를 발견할 수 없었다(t(27) = -0.255, p > 0.05). 하지만 trt1 group과 trt2 group의 평균 차이는 유의미했다(t(27) = -3.103, p < 0.05)."
   ]
  },
  {
   "cell_type": "markdown",
   "metadata": {},
   "source": [
    "## 다원분산분석(n-way ANOVA)\n",
    "- 다원분산분석이란?\n",
    "  - 집단을 구분하는 변수(즉, 요인)이 두 개일 때 이원분산분석(two-way ANOVA)라 함\n",
    "  - 요인이 세 개이면, 삼원분산분석(three-way ANOVA)라 함\n",
    "  - 일반적인 표현으로, 요인이 n개 일 때, n원분산분석(n-way ANOVA)라고 함\n",
    "  - 다원분산분석을 실시하는 주요 목적 중 하나는 요인 간 상호작용을 파악하기 위함임\n",
    "\n",
    "\n",
    "- 다원분산분석의 가정\n",
    "  - 정규성: 집단/조건별 모집단들은 정규분포를 따른다는 가정\n",
    "    - shapiro test나 Q-Q plot으로 확인 가능\n",
    "  - 독립성: 집단/조건별 개체(entity)들이 독립적이라는 가정\n",
    "    - 연구 설계상 집단/조건 간 독립이고, 표본수집시 무선표집(random sampling)을 실시했다면 만족한다고 봄\n",
    "  - 등분산성: 집단/조건별 모집단들의 분산은 동일하다는 가정\n",
    "    - box test나 levene test 등을 이용하여 검증\n",
    "\n",
    "\n",
    "- 주요 용어\n",
    "  - 주 효과: 다른 요인(집단구분 변수)과 상관없이, 한 요인의 수준(집단)에 따라 효과가 유의미하게 달라질 때 \"주효과가 있다\"고 함\n",
    "  - 상호작용 효과: 한 요인의 수준에 따른 효과의 차이가 또 다른 요인의 수준에 따라 달라질 때, \"요인들 간 상호작용(효과)이 존재한다\"고 함\n",
    "\n",
    "\n",
    "- 사후분석 vs. 계획비교\n",
    "  - 다원분산분석의 사후분석 혹은 계획비교는 일원분산분석의 그것과 절차가 동일함\n",
    "  - 다만, 사후분석은 일반적으로 주효과에만 권장됨\n",
    "\n",
    "\n",
    "- 균형설계 vs 비균형설계\n",
    "  - 균형설계: 각 집단/조건별 표본수가 동일한 경우\n",
    "  - 비균형설계: 각 집단/조건별 표본수가 동일하지 않은 경우\n",
    "  - 균형설계와 비균형설계에 따라 계산 방법이 다름"
   ]
  },
  {
   "cell_type": "markdown",
   "metadata": {},
   "source": [
    "### 균형자료의 이원분산분석"
   ]
  },
  {
   "cell_type": "code",
   "execution_count": 97,
   "metadata": {
    "ExecuteTime": {
     "end_time": "2020-12-10T15:37:44.870858Z",
     "start_time": "2020-12-10T15:37:44.855898Z"
    }
   },
   "outputs": [
    {
     "data": {
      "text/html": [
       "<div>\n",
       "<style scoped>\n",
       "    .dataframe tbody tr th:only-of-type {\n",
       "        vertical-align: middle;\n",
       "    }\n",
       "\n",
       "    .dataframe tbody tr th {\n",
       "        vertical-align: top;\n",
       "    }\n",
       "\n",
       "    .dataframe thead th {\n",
       "        text-align: right;\n",
       "    }\n",
       "</style>\n",
       "<table border=\"1\" class=\"dataframe\">\n",
       "  <thead>\n",
       "    <tr style=\"text-align: right;\">\n",
       "      <th></th>\n",
       "      <th>time</th>\n",
       "      <th>poison</th>\n",
       "      <th>treat</th>\n",
       "    </tr>\n",
       "  </thead>\n",
       "  <tbody>\n",
       "    <tr>\n",
       "      <th>1</th>\n",
       "      <td>0.31</td>\n",
       "      <td>1</td>\n",
       "      <td>A</td>\n",
       "    </tr>\n",
       "    <tr>\n",
       "      <th>2</th>\n",
       "      <td>0.45</td>\n",
       "      <td>1</td>\n",
       "      <td>A</td>\n",
       "    </tr>\n",
       "    <tr>\n",
       "      <th>3</th>\n",
       "      <td>0.46</td>\n",
       "      <td>1</td>\n",
       "      <td>A</td>\n",
       "    </tr>\n",
       "    <tr>\n",
       "      <th>4</th>\n",
       "      <td>0.43</td>\n",
       "      <td>1</td>\n",
       "      <td>A</td>\n",
       "    </tr>\n",
       "    <tr>\n",
       "      <th>5</th>\n",
       "      <td>0.36</td>\n",
       "      <td>2</td>\n",
       "      <td>A</td>\n",
       "    </tr>\n",
       "  </tbody>\n",
       "</table>\n",
       "</div>"
      ],
      "text/plain": [
       "   time  poison treat\n",
       "1  0.31       1     A\n",
       "2  0.45       1     A\n",
       "3  0.46       1     A\n",
       "4  0.43       1     A\n",
       "5  0.36       2     A"
      ]
     },
     "execution_count": 97,
     "metadata": {},
     "output_type": "execute_result"
    }
   ],
   "source": [
    "dat = pd.read_csv('./data/poisons.csv', index_col=0)\n",
    "dat.head()"
   ]
  },
  {
   "cell_type": "markdown",
   "metadata": {},
   "source": [
    "- 이 데이터에서 종속변수는 time, 독립변수는 poison과 treat이다.\n",
    "- 균형설계자료인지 확인한다."
   ]
  },
  {
   "cell_type": "code",
   "execution_count": 101,
   "metadata": {
    "ExecuteTime": {
     "end_time": "2020-12-10T15:40:09.320809Z",
     "start_time": "2020-12-10T15:40:09.302882Z"
    }
   },
   "outputs": [
    {
     "data": {
      "text/html": [
       "<div>\n",
       "<style scoped>\n",
       "    .dataframe tbody tr th:only-of-type {\n",
       "        vertical-align: middle;\n",
       "    }\n",
       "\n",
       "    .dataframe tbody tr th {\n",
       "        vertical-align: top;\n",
       "    }\n",
       "\n",
       "    .dataframe thead th {\n",
       "        text-align: right;\n",
       "    }\n",
       "</style>\n",
       "<table border=\"1\" class=\"dataframe\">\n",
       "  <thead>\n",
       "    <tr style=\"text-align: right;\">\n",
       "      <th></th>\n",
       "      <th>time</th>\n",
       "      <th>treat</th>\n",
       "    </tr>\n",
       "    <tr>\n",
       "      <th>poison</th>\n",
       "      <th></th>\n",
       "      <th></th>\n",
       "    </tr>\n",
       "  </thead>\n",
       "  <tbody>\n",
       "    <tr>\n",
       "      <th>1</th>\n",
       "      <td>16.0</td>\n",
       "      <td>16</td>\n",
       "    </tr>\n",
       "    <tr>\n",
       "      <th>2</th>\n",
       "      <td>16.0</td>\n",
       "      <td>16</td>\n",
       "    </tr>\n",
       "    <tr>\n",
       "      <th>3</th>\n",
       "      <td>16.0</td>\n",
       "      <td>16</td>\n",
       "    </tr>\n",
       "  </tbody>\n",
       "</table>\n",
       "</div>"
      ],
      "text/plain": [
       "        time  treat\n",
       "poison             \n",
       "1       16.0     16\n",
       "2       16.0     16\n",
       "3       16.0     16"
      ]
     },
     "execution_count": 101,
     "metadata": {},
     "output_type": "execute_result"
    }
   ],
   "source": [
    "dat.groupby('poison').agg(len)"
   ]
  },
  {
   "cell_type": "markdown",
   "metadata": {},
   "source": [
    "- poison 요인으로 구분한 집단별 표본수는 모두 16으로 동일"
   ]
  },
  {
   "cell_type": "code",
   "execution_count": 102,
   "metadata": {
    "ExecuteTime": {
     "end_time": "2020-12-10T15:40:24.468638Z",
     "start_time": "2020-12-10T15:40:24.451713Z"
    }
   },
   "outputs": [
    {
     "data": {
      "text/html": [
       "<div>\n",
       "<style scoped>\n",
       "    .dataframe tbody tr th:only-of-type {\n",
       "        vertical-align: middle;\n",
       "    }\n",
       "\n",
       "    .dataframe tbody tr th {\n",
       "        vertical-align: top;\n",
       "    }\n",
       "\n",
       "    .dataframe thead th {\n",
       "        text-align: right;\n",
       "    }\n",
       "</style>\n",
       "<table border=\"1\" class=\"dataframe\">\n",
       "  <thead>\n",
       "    <tr style=\"text-align: right;\">\n",
       "      <th></th>\n",
       "      <th>time</th>\n",
       "      <th>poison</th>\n",
       "    </tr>\n",
       "    <tr>\n",
       "      <th>treat</th>\n",
       "      <th></th>\n",
       "      <th></th>\n",
       "    </tr>\n",
       "  </thead>\n",
       "  <tbody>\n",
       "    <tr>\n",
       "      <th>A</th>\n",
       "      <td>12.0</td>\n",
       "      <td>12</td>\n",
       "    </tr>\n",
       "    <tr>\n",
       "      <th>B</th>\n",
       "      <td>12.0</td>\n",
       "      <td>12</td>\n",
       "    </tr>\n",
       "    <tr>\n",
       "      <th>C</th>\n",
       "      <td>12.0</td>\n",
       "      <td>12</td>\n",
       "    </tr>\n",
       "    <tr>\n",
       "      <th>D</th>\n",
       "      <td>12.0</td>\n",
       "      <td>12</td>\n",
       "    </tr>\n",
       "  </tbody>\n",
       "</table>\n",
       "</div>"
      ],
      "text/plain": [
       "       time  poison\n",
       "treat              \n",
       "A      12.0      12\n",
       "B      12.0      12\n",
       "C      12.0      12\n",
       "D      12.0      12"
      ]
     },
     "execution_count": 102,
     "metadata": {},
     "output_type": "execute_result"
    }
   ],
   "source": [
    "dat.groupby('treat').agg(len)"
   ]
  },
  {
   "cell_type": "markdown",
   "metadata": {},
   "source": [
    "- treat 요인구분한 집단별 표본수는 모두 12으로 동일"
   ]
  },
  {
   "cell_type": "code",
   "execution_count": 103,
   "metadata": {
    "ExecuteTime": {
     "end_time": "2020-12-10T15:41:05.255407Z",
     "start_time": "2020-12-10T15:41:05.241440Z"
    }
   },
   "outputs": [
    {
     "data": {
      "text/html": [
       "<div>\n",
       "<style scoped>\n",
       "    .dataframe tbody tr th:only-of-type {\n",
       "        vertical-align: middle;\n",
       "    }\n",
       "\n",
       "    .dataframe tbody tr th {\n",
       "        vertical-align: top;\n",
       "    }\n",
       "\n",
       "    .dataframe thead th {\n",
       "        text-align: right;\n",
       "    }\n",
       "</style>\n",
       "<table border=\"1\" class=\"dataframe\">\n",
       "  <thead>\n",
       "    <tr style=\"text-align: right;\">\n",
       "      <th></th>\n",
       "      <th></th>\n",
       "      <th>time</th>\n",
       "    </tr>\n",
       "    <tr>\n",
       "      <th>poison</th>\n",
       "      <th>treat</th>\n",
       "      <th></th>\n",
       "    </tr>\n",
       "  </thead>\n",
       "  <tbody>\n",
       "    <tr>\n",
       "      <th rowspan=\"4\" valign=\"top\">1</th>\n",
       "      <th>A</th>\n",
       "      <td>4.0</td>\n",
       "    </tr>\n",
       "    <tr>\n",
       "      <th>B</th>\n",
       "      <td>4.0</td>\n",
       "    </tr>\n",
       "    <tr>\n",
       "      <th>C</th>\n",
       "      <td>4.0</td>\n",
       "    </tr>\n",
       "    <tr>\n",
       "      <th>D</th>\n",
       "      <td>4.0</td>\n",
       "    </tr>\n",
       "    <tr>\n",
       "      <th rowspan=\"4\" valign=\"top\">2</th>\n",
       "      <th>A</th>\n",
       "      <td>4.0</td>\n",
       "    </tr>\n",
       "    <tr>\n",
       "      <th>B</th>\n",
       "      <td>4.0</td>\n",
       "    </tr>\n",
       "    <tr>\n",
       "      <th>C</th>\n",
       "      <td>4.0</td>\n",
       "    </tr>\n",
       "    <tr>\n",
       "      <th>D</th>\n",
       "      <td>4.0</td>\n",
       "    </tr>\n",
       "    <tr>\n",
       "      <th rowspan=\"4\" valign=\"top\">3</th>\n",
       "      <th>A</th>\n",
       "      <td>4.0</td>\n",
       "    </tr>\n",
       "    <tr>\n",
       "      <th>B</th>\n",
       "      <td>4.0</td>\n",
       "    </tr>\n",
       "    <tr>\n",
       "      <th>C</th>\n",
       "      <td>4.0</td>\n",
       "    </tr>\n",
       "    <tr>\n",
       "      <th>D</th>\n",
       "      <td>4.0</td>\n",
       "    </tr>\n",
       "  </tbody>\n",
       "</table>\n",
       "</div>"
      ],
      "text/plain": [
       "              time\n",
       "poison treat      \n",
       "1      A       4.0\n",
       "       B       4.0\n",
       "       C       4.0\n",
       "       D       4.0\n",
       "2      A       4.0\n",
       "       B       4.0\n",
       "       C       4.0\n",
       "       D       4.0\n",
       "3      A       4.0\n",
       "       B       4.0\n",
       "       C       4.0\n",
       "       D       4.0"
      ]
     },
     "execution_count": 103,
     "metadata": {},
     "output_type": "execute_result"
    }
   ],
   "source": [
    "dat.groupby(['poison', 'treat']).agg(len)"
   ]
  },
  {
   "cell_type": "markdown",
   "metadata": {},
   "source": [
    "- poison과 treat 요인으로 구분한 각 집단별 표본수는 모두 4로 동일\n",
    "- 모든 집단별 표본수가 동일하므로, 균형설계자료\n",
    "- 이원분산분석 실시:"
   ]
  },
  {
   "cell_type": "code",
   "execution_count": 104,
   "metadata": {
    "ExecuteTime": {
     "end_time": "2020-12-10T15:41:37.861278Z",
     "start_time": "2020-12-10T15:41:37.833382Z"
    }
   },
   "outputs": [
    {
     "data": {
      "text/html": [
       "<div>\n",
       "<style scoped>\n",
       "    .dataframe tbody tr th:only-of-type {\n",
       "        vertical-align: middle;\n",
       "    }\n",
       "\n",
       "    .dataframe tbody tr th {\n",
       "        vertical-align: top;\n",
       "    }\n",
       "\n",
       "    .dataframe thead th {\n",
       "        text-align: right;\n",
       "    }\n",
       "</style>\n",
       "<table border=\"1\" class=\"dataframe\">\n",
       "  <thead>\n",
       "    <tr style=\"text-align: right;\">\n",
       "      <th></th>\n",
       "      <th>df</th>\n",
       "      <th>sum_sq</th>\n",
       "      <th>mean_sq</th>\n",
       "      <th>F</th>\n",
       "      <th>PR(&gt;F)</th>\n",
       "    </tr>\n",
       "  </thead>\n",
       "  <tbody>\n",
       "    <tr>\n",
       "      <th>C(poison)</th>\n",
       "      <td>2.0</td>\n",
       "      <td>1.033012</td>\n",
       "      <td>0.516506</td>\n",
       "      <td>23.221737</td>\n",
       "      <td>3.331440e-07</td>\n",
       "    </tr>\n",
       "    <tr>\n",
       "      <th>C(treat)</th>\n",
       "      <td>3.0</td>\n",
       "      <td>0.921206</td>\n",
       "      <td>0.307069</td>\n",
       "      <td>13.805582</td>\n",
       "      <td>3.777331e-06</td>\n",
       "    </tr>\n",
       "    <tr>\n",
       "      <th>C(poison):C(treat)</th>\n",
       "      <td>6.0</td>\n",
       "      <td>0.250138</td>\n",
       "      <td>0.041690</td>\n",
       "      <td>1.874333</td>\n",
       "      <td>1.122506e-01</td>\n",
       "    </tr>\n",
       "    <tr>\n",
       "      <th>Residual</th>\n",
       "      <td>36.0</td>\n",
       "      <td>0.800725</td>\n",
       "      <td>0.022242</td>\n",
       "      <td>NaN</td>\n",
       "      <td>NaN</td>\n",
       "    </tr>\n",
       "  </tbody>\n",
       "</table>\n",
       "</div>"
      ],
      "text/plain": [
       "                      df    sum_sq   mean_sq          F        PR(>F)\n",
       "C(poison)            2.0  1.033012  0.516506  23.221737  3.331440e-07\n",
       "C(treat)             3.0  0.921206  0.307069  13.805582  3.777331e-06\n",
       "C(poison):C(treat)   6.0  0.250138  0.041690   1.874333  1.122506e-01\n",
       "Residual            36.0  0.800725  0.022242        NaN           NaN"
      ]
     },
     "execution_count": 104,
     "metadata": {},
     "output_type": "execute_result"
    }
   ],
   "source": [
    "from statsmodels.formula.api import ols\n",
    "from statsmodels.stats.anova import anova_lm\n",
    "\n",
    "model = ols('time ~ C(poison) * C(treat)', dat).fit()\n",
    "# model = ols('time ~ C(poison) + C(treat) + C(poison):C(treat)', dat).fit()\n",
    "anova_lm(model)"
   ]
  },
  {
   "cell_type": "markdown",
   "metadata": {},
   "source": [
    "결과 해석:\n",
    "\n",
    "- poison: F(2, 36) = 23.222, p < 0.05로 유의미. 즉 poison의 수준에 따라 평균에 차이가 난다고 볼 수 있음\n",
    "- treat: F(3, 36) = 13.806, p < 0.05로 유의미. 즉 treat의 수준에 따라 평균에 차이가 난다고 볼 수 있음\n",
    "- poison:treat: F(6, 36) = 1.874, p > 0.05로 유의미하지 않음. 상호작용 효과는 발견하지 못함"
   ]
  },
  {
   "cell_type": "markdown",
   "metadata": {},
   "source": [
    "### 비균형자료의 이원분산분석"
   ]
  },
  {
   "cell_type": "code",
   "execution_count": 105,
   "metadata": {
    "ExecuteTime": {
     "end_time": "2020-12-10T15:43:10.736575Z",
     "start_time": "2020-12-10T15:43:10.731589Z"
    }
   },
   "outputs": [],
   "source": [
    "dat2 = dat.loc[1:,:]  # 예시를 위해 임의로 데이텃의 첫 행을 제거한다"
   ]
  },
  {
   "cell_type": "markdown",
   "metadata": {},
   "source": [
    "- 집단별 표본수가 동일하지 않으므로 비균형설계자료가 되었다.\n",
    "- 이원분산분석을 실시한다."
   ]
  },
  {
   "cell_type": "code",
   "execution_count": 123,
   "metadata": {
    "ExecuteTime": {
     "end_time": "2020-12-10T16:18:29.974067Z",
     "start_time": "2020-12-10T16:18:29.961066Z"
    }
   },
   "outputs": [],
   "source": [
    "from statsmodels.formula.api import ols\n",
    "from statsmodels.stats.anova import anova_lm\n",
    "\n",
    "model = ols('time ~ C(poison) * C(treat)', dat2).fit()"
   ]
  },
  {
   "cell_type": "markdown",
   "metadata": {},
   "source": [
    "- 비균형설계자료의 경우 typ=3 옵션을 추가해준다."
   ]
  },
  {
   "cell_type": "code",
   "execution_count": 124,
   "metadata": {
    "ExecuteTime": {
     "end_time": "2020-12-10T16:18:35.059262Z",
     "start_time": "2020-12-10T16:18:35.039336Z"
    }
   },
   "outputs": [
    {
     "data": {
      "text/html": [
       "<div>\n",
       "<style scoped>\n",
       "    .dataframe tbody tr th:only-of-type {\n",
       "        vertical-align: middle;\n",
       "    }\n",
       "\n",
       "    .dataframe tbody tr th {\n",
       "        vertical-align: top;\n",
       "    }\n",
       "\n",
       "    .dataframe thead th {\n",
       "        text-align: right;\n",
       "    }\n",
       "</style>\n",
       "<table border=\"1\" class=\"dataframe\">\n",
       "  <thead>\n",
       "    <tr style=\"text-align: right;\">\n",
       "      <th></th>\n",
       "      <th>sum_sq</th>\n",
       "      <th>df</th>\n",
       "      <th>F</th>\n",
       "      <th>PR(&gt;F)</th>\n",
       "    </tr>\n",
       "  </thead>\n",
       "  <tbody>\n",
       "    <tr>\n",
       "      <th>Intercept</th>\n",
       "      <td>0.680625</td>\n",
       "      <td>1.0</td>\n",
       "      <td>30.600393</td>\n",
       "      <td>0.000003</td>\n",
       "    </tr>\n",
       "    <tr>\n",
       "      <th>C(poison)</th>\n",
       "      <td>0.082217</td>\n",
       "      <td>2.0</td>\n",
       "      <td>1.848200</td>\n",
       "      <td>0.172157</td>\n",
       "    </tr>\n",
       "    <tr>\n",
       "      <th>C(treat)</th>\n",
       "      <td>0.453950</td>\n",
       "      <td>3.0</td>\n",
       "      <td>6.803085</td>\n",
       "      <td>0.000947</td>\n",
       "    </tr>\n",
       "    <tr>\n",
       "      <th>C(poison):C(treat)</th>\n",
       "      <td>0.250137</td>\n",
       "      <td>6.0</td>\n",
       "      <td>1.874333</td>\n",
       "      <td>0.112251</td>\n",
       "    </tr>\n",
       "    <tr>\n",
       "      <th>Residual</th>\n",
       "      <td>0.800725</td>\n",
       "      <td>36.0</td>\n",
       "      <td>NaN</td>\n",
       "      <td>NaN</td>\n",
       "    </tr>\n",
       "  </tbody>\n",
       "</table>\n",
       "</div>"
      ],
      "text/plain": [
       "                      sum_sq    df          F    PR(>F)\n",
       "Intercept           0.680625   1.0  30.600393  0.000003\n",
       "C(poison)           0.082217   2.0   1.848200  0.172157\n",
       "C(treat)            0.453950   3.0   6.803085  0.000947\n",
       "C(poison):C(treat)  0.250137   6.0   1.874333  0.112251\n",
       "Residual            0.800725  36.0        NaN       NaN"
      ]
     },
     "execution_count": 124,
     "metadata": {},
     "output_type": "execute_result"
    }
   ],
   "source": [
    "anova_lm(model, typ=3)"
   ]
  },
  {
   "cell_type": "markdown",
   "metadata": {},
   "source": [
    "- treat만 통계적으로 유의미하다. (p < .05)"
   ]
  },
  {
   "cell_type": "code",
   "execution_count": null,
   "metadata": {},
   "outputs": [],
   "source": []
  },
  {
   "cell_type": "code",
   "execution_count": null,
   "metadata": {},
   "outputs": [],
   "source": []
  },
  {
   "cell_type": "markdown",
   "metadata": {},
   "source": [
    "### 이원분산분석 결과 보고\n",
    "- 기본적인 절차는 일원분산분석과 같음\n",
    "- 일원분산분석과 비교해서 상호작용효과를 검증/분석하는게 중요\n",
    "- 상호작용효과가 유의미한 경우, 단순효과분석 결과를 상세하게 첨부\n",
    "\n",
    "\n",
    "- two-way ANOVA 결과 보고 예시:\n",
    "\n",
    "- time에 대하여 poison과 treat를 요인으로 하는 이원분산분석을 실시한 결과, poison의 주효과는 유의미하였으며(F(2, 36) = 23.222, p < 0.05), treat의 주효과 또한 유의미하였으나(F(3, 36) = 13.806, p < 0.05), poison과 treat의 유의미한 상호작용효과는 발견할 수 없었다(F(6, 36) = 1.874, p > 0.05).\n",
    "\n",
    "\n",
    "- 만약 상호작용이 유의미했다면, 다음과 같이 단순효과분석 결과를 첨부하여야 함 (poison1, 2, 3으로 데이터를 나누고, treat로 일원분산분석)\n",
    "\n",
    "- poison과 treat의 유의미한 상호작용 효과에 대하여 단순효과분석을 실시한 결과, poison이 1인 집단에서는 treat의 단순 주효과는 유의미하였고(F(3,36) = 6.8031, p < 0.05), poison이 2인 집단도 treat의 단순 주효과는 유의미하였으나(F(3,36) = 10.0367, p < 0.05), poison이 3인 집단에서는 treat의 단순 주효과가 유의미하지 않았다(F(3,36) = 0.7145, p > 0.05).\n"
   ]
  },
  {
   "cell_type": "markdown",
   "metadata": {},
   "source": [
    "# 비율비교: 카이제곱 검증\n",
    "- 카이제곱 검증의 논리\n",
    "- 영가설: 분할표의 행과 열은 독립적이다\n",
    "- 대안가설: 분할표의 행과 열은 독립적이지 않다"
   ]
  },
  {
   "cell_type": "code",
   "execution_count": 133,
   "metadata": {
    "ExecuteTime": {
     "end_time": "2020-12-10T16:23:45.563167Z",
     "start_time": "2020-12-10T16:23:45.550201Z"
    }
   },
   "outputs": [
    {
     "data": {
      "text/html": [
       "<div>\n",
       "<style scoped>\n",
       "    .dataframe tbody tr th:only-of-type {\n",
       "        vertical-align: middle;\n",
       "    }\n",
       "\n",
       "    .dataframe tbody tr th {\n",
       "        vertical-align: top;\n",
       "    }\n",
       "\n",
       "    .dataframe thead th {\n",
       "        text-align: right;\n",
       "    }\n",
       "</style>\n",
       "<table border=\"1\" class=\"dataframe\">\n",
       "  <thead>\n",
       "    <tr style=\"text-align: right;\">\n",
       "      <th></th>\n",
       "      <th>Wife</th>\n",
       "      <th>Alternating</th>\n",
       "      <th>Husband</th>\n",
       "      <th>Jointly</th>\n",
       "    </tr>\n",
       "  </thead>\n",
       "  <tbody>\n",
       "    <tr>\n",
       "      <th>Laundry</th>\n",
       "      <td>156</td>\n",
       "      <td>14</td>\n",
       "      <td>2</td>\n",
       "      <td>4</td>\n",
       "    </tr>\n",
       "    <tr>\n",
       "      <th>Main_meal</th>\n",
       "      <td>124</td>\n",
       "      <td>20</td>\n",
       "      <td>5</td>\n",
       "      <td>4</td>\n",
       "    </tr>\n",
       "    <tr>\n",
       "      <th>Dinner</th>\n",
       "      <td>77</td>\n",
       "      <td>11</td>\n",
       "      <td>7</td>\n",
       "      <td>13</td>\n",
       "    </tr>\n",
       "    <tr>\n",
       "      <th>Breakfeast</th>\n",
       "      <td>82</td>\n",
       "      <td>36</td>\n",
       "      <td>15</td>\n",
       "      <td>7</td>\n",
       "    </tr>\n",
       "    <tr>\n",
       "      <th>Tidying</th>\n",
       "      <td>53</td>\n",
       "      <td>11</td>\n",
       "      <td>1</td>\n",
       "      <td>57</td>\n",
       "    </tr>\n",
       "  </tbody>\n",
       "</table>\n",
       "</div>"
      ],
      "text/plain": [
       "            Wife  Alternating  Husband  Jointly\n",
       "Laundry      156           14        2        4\n",
       "Main_meal    124           20        5        4\n",
       "Dinner        77           11        7       13\n",
       "Breakfeast    82           36       15        7\n",
       "Tidying       53           11        1       57"
      ]
     },
     "execution_count": 133,
     "metadata": {},
     "output_type": "execute_result"
    }
   ],
   "source": [
    "data = pd.read_csv('./data/housetasks.txt', sep='\\t', index_col=0)\n",
    "data.head()"
   ]
  },
  {
   "cell_type": "markdown",
   "metadata": {},
   "source": [
    "- 카이제곱 검증을 실시한다:"
   ]
  },
  {
   "cell_type": "code",
   "execution_count": 134,
   "metadata": {
    "ExecuteTime": {
     "end_time": "2020-12-10T16:24:12.236095Z",
     "start_time": "2020-12-10T16:24:12.229118Z"
    }
   },
   "outputs": [],
   "source": [
    "import scipy.stats\n",
    "\n",
    "chi2, pvalue, dof, expected = scipy.stats.chi2_contingency(data)"
   ]
  },
  {
   "cell_type": "code",
   "execution_count": 136,
   "metadata": {
    "ExecuteTime": {
     "end_time": "2020-12-10T16:25:03.005256Z",
     "start_time": "2020-12-10T16:25:03.000276Z"
    }
   },
   "outputs": [
    {
     "data": {
      "text/plain": [
       "1944.4561959955277"
      ]
     },
     "execution_count": 136,
     "metadata": {},
     "output_type": "execute_result"
    }
   ],
   "source": [
    "# 검정통계량 χ^2\n",
    "chi2"
   ]
  },
  {
   "cell_type": "code",
   "execution_count": 137,
   "metadata": {
    "ExecuteTime": {
     "end_time": "2020-12-10T16:25:10.863532Z",
     "start_time": "2020-12-10T16:25:10.858547Z"
    }
   },
   "outputs": [
    {
     "data": {
      "text/plain": [
       "36"
      ]
     },
     "execution_count": 137,
     "metadata": {},
     "output_type": "execute_result"
    }
   ],
   "source": [
    "# 자유도\n",
    "dof"
   ]
  },
  {
   "cell_type": "code",
   "execution_count": 145,
   "metadata": {
    "ExecuteTime": {
     "end_time": "2020-12-10T16:26:29.924678Z",
     "start_time": "2020-12-10T16:26:29.919718Z"
    }
   },
   "outputs": [
    {
     "data": {
      "text/plain": [
       "0.0"
      ]
     },
     "execution_count": 145,
     "metadata": {},
     "output_type": "execute_result"
    }
   ],
   "source": [
    "# p-value\n",
    "pvalue"
   ]
  },
  {
   "cell_type": "markdown",
   "metadata": {
    "ExecuteTime": {
     "end_time": "2020-12-10T16:25:36.500280Z",
     "start_time": "2020-12-10T16:25:36.494295Z"
    }
   },
   "source": [
    "- 분석 결과, 집안일의 종류와 수행하는 사람이 독립이 아님(χ2(36) = 1944.5, p < 0.05)"
   ]
  }
 ],
 "metadata": {
  "kernelspec": {
   "display_name": "Python 3",
   "language": "python",
   "name": "python3"
  },
  "language_info": {
   "codemirror_mode": {
    "name": "ipython",
    "version": 3
   },
   "file_extension": ".py",
   "mimetype": "text/x-python",
   "name": "python",
   "nbconvert_exporter": "python",
   "pygments_lexer": "ipython3",
   "version": "3.7.4"
  },
  "toc": {
   "base_numbering": 1,
   "nav_menu": {},
   "number_sections": true,
   "sideBar": true,
   "skip_h1_title": false,
   "title_cell": "Table of Contents",
   "title_sidebar": "Contents",
   "toc_cell": false,
   "toc_position": {
    "height": "calc(100% - 180px)",
    "left": "10px",
    "top": "150px",
    "width": "384px"
   },
   "toc_section_display": true,
   "toc_window_display": true
  },
  "varInspector": {
   "cols": {
    "lenName": 16,
    "lenType": 16,
    "lenVar": 40
   },
   "kernels_config": {
    "python": {
     "delete_cmd_postfix": "",
     "delete_cmd_prefix": "del ",
     "library": "var_list.py",
     "varRefreshCmd": "print(var_dic_list())"
    },
    "r": {
     "delete_cmd_postfix": ") ",
     "delete_cmd_prefix": "rm(",
     "library": "var_list.r",
     "varRefreshCmd": "cat(var_dic_list()) "
    }
   },
   "types_to_exclude": [
    "module",
    "function",
    "builtin_function_or_method",
    "instance",
    "_Feature"
   ],
   "window_display": false
  }
 },
 "nbformat": 4,
 "nbformat_minor": 2
}
