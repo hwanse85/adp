{
 "cells": [
  {
   "cell_type": "code",
   "execution_count": 64,
   "metadata": {},
   "outputs": [],
   "source": [
    "# 기본 라이브러리 호출\n",
    "import warnings\n",
    "warnings.filterwarnings('ignore')\n",
    "warnings.warn(\"once\")\n",
    "import pandas as pd\n",
    "import numpy as np\n",
    "import scipy as sp\n",
    "import seaborn as sns\n",
    "import matplotlib.pyplot as plt\n",
    "%matplotlib inline\n",
    "from scipy import stats\n",
    "from scipy.stats import norm, skew\n",
    "# 선형모델을 추정하는 라이브러리\n",
    "import statsmodels.formula.api as smf\n",
    "import statsmodels.api as sm\n",
    "import statsmodels.stats.api as sms\n",
    "from patsy import dmatrices\n",
    "color = sns.color_palette()\n",
    "\n",
    "pd.set_option('display.float_format','{:,.4f}'.format) # 소수점 2번째 자리까지 표현\n",
    "pd.set_option('display.max_columns', None) # 모든 컬럼 표시\n",
    "pd.set_option('display.max_colwidth', -1) # 컬럼내용 전체 표시\n",
    "\n",
    "#Graph에 한글을 표시하기 위한 코드\n",
    "import matplotlib\n",
    "from matplotlib import font_manager, rc\n",
    "import platform\n",
    "# font_name = font_manager.FontProperties(fname=\"c:/Windows/Fonts/malgun.ttf\").get_name()\n",
    "font_name = font_manager.FontProperties(fname=\"/usr/share/fonts/NanumGothicCoding.ttf\").get_name()\n",
    "rc('font', family=font_name)\\\n",
    "    \n",
    "matplotlib.rcParams['axes.unicode_minus'] = False"
   ]
  },
  {
   "cell_type": "markdown",
   "metadata": {},
   "source": [
    "# 1. 통계분석(사용 데이터 : Carseats)"
   ]
  },
  {
   "cell_type": "markdown",
   "metadata": {},
   "source": [
    "### Q1) Urban변수에 따른 Sales의 차이가 있는지를 통계적으로 검증하기 위한 통계분석을 수행하고, 결과를 해석하시오. \n",
    "###    (데이터는 정규성을 만족한다고 가정하고 유의수준 0.05 하에서 검정"
   ]
  },
  {
   "cell_type": "code",
   "execution_count": 65,
   "metadata": {},
   "outputs": [
    {
     "name": "stdout",
     "output_type": "stream",
     "text": [
      "(400, 11)\n"
     ]
    },
    {
     "data": {
      "text/html": [
       "<div>\n",
       "<style scoped>\n",
       "    .dataframe tbody tr th:only-of-type {\n",
       "        vertical-align: middle;\n",
       "    }\n",
       "\n",
       "    .dataframe tbody tr th {\n",
       "        vertical-align: top;\n",
       "    }\n",
       "\n",
       "    .dataframe thead th {\n",
       "        text-align: right;\n",
       "    }\n",
       "</style>\n",
       "<table border=\"1\" class=\"dataframe\">\n",
       "  <thead>\n",
       "    <tr style=\"text-align: right;\">\n",
       "      <th></th>\n",
       "      <th>Sales</th>\n",
       "      <th>CompPrice</th>\n",
       "      <th>Income</th>\n",
       "      <th>Advertising</th>\n",
       "      <th>Population</th>\n",
       "      <th>Price</th>\n",
       "      <th>ShelveLoc</th>\n",
       "      <th>Age</th>\n",
       "      <th>Education</th>\n",
       "      <th>Urban</th>\n",
       "      <th>US</th>\n",
       "    </tr>\n",
       "  </thead>\n",
       "  <tbody>\n",
       "    <tr>\n",
       "      <th>1</th>\n",
       "      <td>9.5000</td>\n",
       "      <td>138</td>\n",
       "      <td>73</td>\n",
       "      <td>11</td>\n",
       "      <td>276</td>\n",
       "      <td>120</td>\n",
       "      <td>Bad</td>\n",
       "      <td>42</td>\n",
       "      <td>17</td>\n",
       "      <td>Yes</td>\n",
       "      <td>Yes</td>\n",
       "    </tr>\n",
       "    <tr>\n",
       "      <th>2</th>\n",
       "      <td>11.2200</td>\n",
       "      <td>111</td>\n",
       "      <td>48</td>\n",
       "      <td>16</td>\n",
       "      <td>260</td>\n",
       "      <td>83</td>\n",
       "      <td>Good</td>\n",
       "      <td>65</td>\n",
       "      <td>10</td>\n",
       "      <td>Yes</td>\n",
       "      <td>Yes</td>\n",
       "    </tr>\n",
       "    <tr>\n",
       "      <th>3</th>\n",
       "      <td>10.0600</td>\n",
       "      <td>113</td>\n",
       "      <td>35</td>\n",
       "      <td>10</td>\n",
       "      <td>269</td>\n",
       "      <td>80</td>\n",
       "      <td>Medium</td>\n",
       "      <td>59</td>\n",
       "      <td>12</td>\n",
       "      <td>Yes</td>\n",
       "      <td>Yes</td>\n",
       "    </tr>\n",
       "    <tr>\n",
       "      <th>4</th>\n",
       "      <td>7.4000</td>\n",
       "      <td>117</td>\n",
       "      <td>100</td>\n",
       "      <td>4</td>\n",
       "      <td>466</td>\n",
       "      <td>97</td>\n",
       "      <td>Medium</td>\n",
       "      <td>55</td>\n",
       "      <td>14</td>\n",
       "      <td>Yes</td>\n",
       "      <td>Yes</td>\n",
       "    </tr>\n",
       "    <tr>\n",
       "      <th>5</th>\n",
       "      <td>4.1500</td>\n",
       "      <td>141</td>\n",
       "      <td>64</td>\n",
       "      <td>3</td>\n",
       "      <td>340</td>\n",
       "      <td>128</td>\n",
       "      <td>Bad</td>\n",
       "      <td>38</td>\n",
       "      <td>13</td>\n",
       "      <td>Yes</td>\n",
       "      <td>No</td>\n",
       "    </tr>\n",
       "  </tbody>\n",
       "</table>\n",
       "</div>"
      ],
      "text/plain": [
       "    Sales  CompPrice  Income  Advertising  Population  Price ShelveLoc  Age  \\\n",
       "1 9.5000   138        73      11           276         120    Bad       42    \n",
       "2 11.2200  111        48      16           260         83     Good      65    \n",
       "3 10.0600  113        35      10           269         80     Medium    59    \n",
       "4 7.4000   117        100     4            466         97     Medium    55    \n",
       "5 4.1500   141        64      3            340         128    Bad       38    \n",
       "\n",
       "   Education Urban   US  \n",
       "1  17         Yes   Yes  \n",
       "2  10         Yes   Yes  \n",
       "3  12         Yes   Yes  \n",
       "4  14         Yes   Yes  \n",
       "5  13         Yes   No   "
      ]
     },
     "execution_count": 65,
     "metadata": {},
     "output_type": "execute_result"
    }
   ],
   "source": [
    "df = pd.read_csv('./data/모의고사 3회/Carseats.csv',index_col = 0)\n",
    "print(df.shape)\n",
    "df.head()"
   ]
  },
  {
   "cell_type": "code",
   "execution_count": 66,
   "metadata": {},
   "outputs": [
    {
     "data": {
      "text/html": [
       "<div>\n",
       "<style scoped>\n",
       "    .dataframe tbody tr th:only-of-type {\n",
       "        vertical-align: middle;\n",
       "    }\n",
       "\n",
       "    .dataframe tbody tr th {\n",
       "        vertical-align: top;\n",
       "    }\n",
       "\n",
       "    .dataframe thead th {\n",
       "        text-align: right;\n",
       "    }\n",
       "</style>\n",
       "<table border=\"1\" class=\"dataframe\">\n",
       "  <thead>\n",
       "    <tr style=\"text-align: right;\">\n",
       "      <th></th>\n",
       "      <th>Sales</th>\n",
       "      <th>CompPrice</th>\n",
       "      <th>Income</th>\n",
       "      <th>Advertising</th>\n",
       "      <th>Population</th>\n",
       "      <th>Price</th>\n",
       "      <th>ShelveLoc</th>\n",
       "      <th>Age</th>\n",
       "      <th>Education</th>\n",
       "      <th>Urban</th>\n",
       "      <th>US</th>\n",
       "    </tr>\n",
       "  </thead>\n",
       "  <tbody>\n",
       "    <tr>\n",
       "      <th>0</th>\n",
       "      <td>9.5000</td>\n",
       "      <td>138</td>\n",
       "      <td>73</td>\n",
       "      <td>11</td>\n",
       "      <td>276</td>\n",
       "      <td>120</td>\n",
       "      <td>Bad</td>\n",
       "      <td>42</td>\n",
       "      <td>17</td>\n",
       "      <td>Yes</td>\n",
       "      <td>Yes</td>\n",
       "    </tr>\n",
       "    <tr>\n",
       "      <th>1</th>\n",
       "      <td>11.2200</td>\n",
       "      <td>111</td>\n",
       "      <td>48</td>\n",
       "      <td>16</td>\n",
       "      <td>260</td>\n",
       "      <td>83</td>\n",
       "      <td>Good</td>\n",
       "      <td>65</td>\n",
       "      <td>10</td>\n",
       "      <td>Yes</td>\n",
       "      <td>Yes</td>\n",
       "    </tr>\n",
       "    <tr>\n",
       "      <th>2</th>\n",
       "      <td>10.0600</td>\n",
       "      <td>113</td>\n",
       "      <td>35</td>\n",
       "      <td>10</td>\n",
       "      <td>269</td>\n",
       "      <td>80</td>\n",
       "      <td>Medium</td>\n",
       "      <td>59</td>\n",
       "      <td>12</td>\n",
       "      <td>Yes</td>\n",
       "      <td>Yes</td>\n",
       "    </tr>\n",
       "    <tr>\n",
       "      <th>3</th>\n",
       "      <td>7.4000</td>\n",
       "      <td>117</td>\n",
       "      <td>100</td>\n",
       "      <td>4</td>\n",
       "      <td>466</td>\n",
       "      <td>97</td>\n",
       "      <td>Medium</td>\n",
       "      <td>55</td>\n",
       "      <td>14</td>\n",
       "      <td>Yes</td>\n",
       "      <td>Yes</td>\n",
       "    </tr>\n",
       "    <tr>\n",
       "      <th>4</th>\n",
       "      <td>4.1500</td>\n",
       "      <td>141</td>\n",
       "      <td>64</td>\n",
       "      <td>3</td>\n",
       "      <td>340</td>\n",
       "      <td>128</td>\n",
       "      <td>Bad</td>\n",
       "      <td>38</td>\n",
       "      <td>13</td>\n",
       "      <td>Yes</td>\n",
       "      <td>No</td>\n",
       "    </tr>\n",
       "  </tbody>\n",
       "</table>\n",
       "</div>"
      ],
      "text/plain": [
       "    Sales  CompPrice  Income  Advertising  Population  Price ShelveLoc  Age  \\\n",
       "0 9.5000   138        73      11           276         120    Bad       42    \n",
       "1 11.2200  111        48      16           260         83     Good      65    \n",
       "2 10.0600  113        35      10           269         80     Medium    59    \n",
       "3 7.4000   117        100     4            466         97     Medium    55    \n",
       "4 4.1500   141        64      3            340         128    Bad       38    \n",
       "\n",
       "   Education Urban   US  \n",
       "0  17         Yes   Yes  \n",
       "1  10         Yes   Yes  \n",
       "2  12         Yes   Yes  \n",
       "3  14         Yes   Yes  \n",
       "4  13         Yes   No   "
      ]
     },
     "execution_count": 66,
     "metadata": {},
     "output_type": "execute_result"
    }
   ],
   "source": [
    "df = df.reset_index(drop = True)\n",
    "df.head()"
   ]
  },
  {
   "cell_type": "code",
   "execution_count": 67,
   "metadata": {},
   "outputs": [
    {
     "data": {
      "text/plain": [
       "array(['Yes', 'No'], dtype=object)"
      ]
     },
     "execution_count": 67,
     "metadata": {},
     "output_type": "execute_result"
    }
   ],
   "source": [
    "df['Urban'].unique()"
   ]
  },
  {
   "cell_type": "markdown",
   "metadata": {},
   "source": [
    "* 범주에 따른 등분산 검정"
   ]
  },
  {
   "cell_type": "code",
   "execution_count": 68,
   "metadata": {},
   "outputs": [
    {
     "data": {
      "text/plain": [
       "BartlettResult(statistic=0.019034162105407128, pvalue=0.890268591965826)"
      ]
     },
     "execution_count": 68,
     "metadata": {},
     "output_type": "execute_result"
    }
   ],
   "source": [
    "sp.stats.bartlett(df[df['Urban'] == 'Yes']['Sales'], df[df['Urban'] == 'No']['Sales'])"
   ]
  },
  {
   "cell_type": "markdown",
   "metadata": {},
   "source": [
    "* 유의수준 0.05하에서 p값이 0.05보다 크기 때문에 도시와 도시가 아닌 집단의 데이터는 등분산 가정을 만족한다"
   ]
  },
  {
   "cell_type": "code",
   "execution_count": 69,
   "metadata": {},
   "outputs": [
    {
     "name": "stdout",
     "output_type": "stream",
     "text": [
      "t-통계량 : -0.30765346670661126\n",
      "p값 : 0.7585069603942775\n"
     ]
    }
   ],
   "source": [
    "from scipy.stats import ttest_ind\n",
    "tstat, pval = ttest_ind(df[df['Urban'] == 'Yes']['Sales'], df[df['Urban'] == 'No']['Sales'])\n",
    "print('t-통계량 :', tstat)\n",
    "print('p값 :', pval)"
   ]
  },
  {
   "cell_type": "markdown",
   "metadata": {},
   "source": [
    "* 독립표본 t-검정 수행 결과, t-통계량은 -0.307, p값은 0.7585로 유의수준 0.05하에서 유의하지 않다. 따라서 도시지역과 도시가 아닌 지역간의 차 판매량에는 통계적으로 유의한 차이가 없다는 귀무가설을 채택한다."
   ]
  },
  {
   "cell_type": "markdown",
   "metadata": {},
   "source": [
    "### Q2)Sales변수와 CompPrice, Income, Advertising, Population, Price, Age, Education 변수들 간에 \n",
    "###    피어슨 상관계수를 이용한 상관관계 분석을 수행하고 이를 해석하시오."
   ]
  },
  {
   "cell_type": "code",
   "execution_count": 70,
   "metadata": {},
   "outputs": [],
   "source": [
    "corr = df.corr(method = 'pearson')"
   ]
  },
  {
   "cell_type": "code",
   "execution_count": 71,
   "metadata": {},
   "outputs": [
    {
     "data": {
      "text/html": [
       "<div>\n",
       "<style scoped>\n",
       "    .dataframe tbody tr th:only-of-type {\n",
       "        vertical-align: middle;\n",
       "    }\n",
       "\n",
       "    .dataframe tbody tr th {\n",
       "        vertical-align: top;\n",
       "    }\n",
       "\n",
       "    .dataframe thead th {\n",
       "        text-align: right;\n",
       "    }\n",
       "</style>\n",
       "<table border=\"1\" class=\"dataframe\">\n",
       "  <thead>\n",
       "    <tr style=\"text-align: right;\">\n",
       "      <th></th>\n",
       "      <th>Sales</th>\n",
       "      <th>CompPrice</th>\n",
       "      <th>Income</th>\n",
       "      <th>Advertising</th>\n",
       "      <th>Population</th>\n",
       "      <th>Price</th>\n",
       "      <th>Age</th>\n",
       "      <th>Education</th>\n",
       "    </tr>\n",
       "  </thead>\n",
       "  <tbody>\n",
       "    <tr>\n",
       "      <th>Sales</th>\n",
       "      <td>1.0000</td>\n",
       "      <td>0.0641</td>\n",
       "      <td>0.1520</td>\n",
       "      <td>0.2695</td>\n",
       "      <td>0.0505</td>\n",
       "      <td>-0.4450</td>\n",
       "      <td>-0.2318</td>\n",
       "      <td>-0.0520</td>\n",
       "    </tr>\n",
       "    <tr>\n",
       "      <th>CompPrice</th>\n",
       "      <td>0.0641</td>\n",
       "      <td>1.0000</td>\n",
       "      <td>-0.0807</td>\n",
       "      <td>-0.0242</td>\n",
       "      <td>-0.0947</td>\n",
       "      <td>0.5848</td>\n",
       "      <td>-0.1002</td>\n",
       "      <td>0.0252</td>\n",
       "    </tr>\n",
       "    <tr>\n",
       "      <th>Income</th>\n",
       "      <td>0.1520</td>\n",
       "      <td>-0.0807</td>\n",
       "      <td>1.0000</td>\n",
       "      <td>0.0590</td>\n",
       "      <td>-0.0079</td>\n",
       "      <td>-0.0567</td>\n",
       "      <td>-0.0047</td>\n",
       "      <td>-0.0569</td>\n",
       "    </tr>\n",
       "    <tr>\n",
       "      <th>Advertising</th>\n",
       "      <td>0.2695</td>\n",
       "      <td>-0.0242</td>\n",
       "      <td>0.0590</td>\n",
       "      <td>1.0000</td>\n",
       "      <td>0.2657</td>\n",
       "      <td>0.0445</td>\n",
       "      <td>-0.0046</td>\n",
       "      <td>-0.0336</td>\n",
       "    </tr>\n",
       "    <tr>\n",
       "      <th>Population</th>\n",
       "      <td>0.0505</td>\n",
       "      <td>-0.0947</td>\n",
       "      <td>-0.0079</td>\n",
       "      <td>0.2657</td>\n",
       "      <td>1.0000</td>\n",
       "      <td>-0.0121</td>\n",
       "      <td>-0.0427</td>\n",
       "      <td>-0.1064</td>\n",
       "    </tr>\n",
       "    <tr>\n",
       "      <th>Price</th>\n",
       "      <td>-0.4450</td>\n",
       "      <td>0.5848</td>\n",
       "      <td>-0.0567</td>\n",
       "      <td>0.0445</td>\n",
       "      <td>-0.0121</td>\n",
       "      <td>1.0000</td>\n",
       "      <td>-0.1022</td>\n",
       "      <td>0.0117</td>\n",
       "    </tr>\n",
       "    <tr>\n",
       "      <th>Age</th>\n",
       "      <td>-0.2318</td>\n",
       "      <td>-0.1002</td>\n",
       "      <td>-0.0047</td>\n",
       "      <td>-0.0046</td>\n",
       "      <td>-0.0427</td>\n",
       "      <td>-0.1022</td>\n",
       "      <td>1.0000</td>\n",
       "      <td>0.0065</td>\n",
       "    </tr>\n",
       "    <tr>\n",
       "      <th>Education</th>\n",
       "      <td>-0.0520</td>\n",
       "      <td>0.0252</td>\n",
       "      <td>-0.0569</td>\n",
       "      <td>-0.0336</td>\n",
       "      <td>-0.1064</td>\n",
       "      <td>0.0117</td>\n",
       "      <td>0.0065</td>\n",
       "      <td>1.0000</td>\n",
       "    </tr>\n",
       "  </tbody>\n",
       "</table>\n",
       "</div>"
      ],
      "text/plain": [
       "              Sales  CompPrice  Income  Advertising  Population   Price  \\\n",
       "Sales       1.0000  0.0641     0.1520  0.2695       0.0505      -0.4450   \n",
       "CompPrice   0.0641  1.0000     -0.0807 -0.0242      -0.0947     0.5848    \n",
       "Income      0.1520  -0.0807    1.0000  0.0590       -0.0079     -0.0567   \n",
       "Advertising 0.2695  -0.0242    0.0590  1.0000       0.2657      0.0445    \n",
       "Population  0.0505  -0.0947    -0.0079 0.2657       1.0000      -0.0121   \n",
       "Price       -0.4450 0.5848     -0.0567 0.0445       -0.0121     1.0000    \n",
       "Age         -0.2318 -0.1002    -0.0047 -0.0046      -0.0427     -0.1022   \n",
       "Education   -0.0520 0.0252     -0.0569 -0.0336      -0.1064     0.0117    \n",
       "\n",
       "                Age  Education  \n",
       "Sales       -0.2318 -0.0520     \n",
       "CompPrice   -0.1002 0.0252      \n",
       "Income      -0.0047 -0.0569     \n",
       "Advertising -0.0046 -0.0336     \n",
       "Population  -0.0427 -0.1064     \n",
       "Price       -0.1022 0.0117      \n",
       "Age         1.0000  0.0065      \n",
       "Education   0.0065  1.0000      "
      ]
     },
     "execution_count": 71,
     "metadata": {},
     "output_type": "execute_result"
    }
   ],
   "source": [
    "corr"
   ]
  },
  {
   "cell_type": "code",
   "execution_count": 72,
   "metadata": {},
   "outputs": [
    {
     "data": {
      "image/png": "[encoded data removed]",
      "text/plain": [
       "<Figure size 432x432 with 2 Axes>"
      ]
     },
     "metadata": {
      "needs_background": "light"
     },
     "output_type": "display_data"
    }
   ],
   "source": [
    "plt.figure(figsize = (6,6))\n",
    "cmap = sns.light_palette(\"darkgray\", as_cmap=True)\n",
    "sns.heatmap(df.corr(method = 'pearson'), annot=True, cmap=cmap)\n",
    "plt.show()"
   ]
  },
  {
   "cell_type": "code",
   "execution_count": 73,
   "metadata": {},
   "outputs": [
    {
     "data": {
      "text/plain": [
       "0.06407872955062152"
      ]
     },
     "execution_count": 73,
     "metadata": {},
     "output_type": "execute_result"
    }
   ],
   "source": [
    "stats.pearsonr(df['Sales'], df['CompPrice'])[0]"
   ]
  },
  {
   "cell_type": "code",
   "execution_count": 74,
   "metadata": {},
   "outputs": [
    {
     "data": {
      "text/plain": [
       "(0.06407872955062152, 0.2009398289418295)"
      ]
     },
     "execution_count": 74,
     "metadata": {},
     "output_type": "execute_result"
    }
   ],
   "source": [
    "stats.pearsonr(df['Sales'], df['CompPrice'])"
   ]
  },
  {
   "cell_type": "code",
   "execution_count": 75,
   "metadata": {},
   "outputs": [
    {
     "data": {
      "text/plain": [
       "Index(['Sales', 'CompPrice', 'Income', 'Advertising', 'Population', 'Price',\n",
       "       'ShelveLoc', 'Age', 'Education', 'Urban', 'US'],\n",
       "      dtype='object')"
      ]
     },
     "execution_count": 75,
     "metadata": {},
     "output_type": "execute_result"
    }
   ],
   "source": [
    "df.columns"
   ]
  },
  {
   "cell_type": "code",
   "execution_count": 76,
   "metadata": {},
   "outputs": [
    {
     "data": {
      "text/html": [
       "<div>\n",
       "<style scoped>\n",
       "    .dataframe tbody tr th:only-of-type {\n",
       "        vertical-align: middle;\n",
       "    }\n",
       "\n",
       "    .dataframe tbody tr th {\n",
       "        vertical-align: top;\n",
       "    }\n",
       "\n",
       "    .dataframe thead th {\n",
       "        text-align: right;\n",
       "    }\n",
       "</style>\n",
       "<table border=\"1\" class=\"dataframe\">\n",
       "  <thead>\n",
       "    <tr style=\"text-align: right;\">\n",
       "      <th></th>\n",
       "      <th>Sales</th>\n",
       "      <th>CompPrice</th>\n",
       "      <th>Income</th>\n",
       "      <th>Advertising</th>\n",
       "      <th>Population</th>\n",
       "      <th>Price</th>\n",
       "      <th>ShelveLoc</th>\n",
       "      <th>Age</th>\n",
       "      <th>Education</th>\n",
       "      <th>Urban</th>\n",
       "      <th>US</th>\n",
       "    </tr>\n",
       "  </thead>\n",
       "  <tbody>\n",
       "    <tr>\n",
       "      <th>0</th>\n",
       "      <td>9.5000</td>\n",
       "      <td>138</td>\n",
       "      <td>73</td>\n",
       "      <td>11</td>\n",
       "      <td>276</td>\n",
       "      <td>120</td>\n",
       "      <td>Bad</td>\n",
       "      <td>42</td>\n",
       "      <td>17</td>\n",
       "      <td>Yes</td>\n",
       "      <td>Yes</td>\n",
       "    </tr>\n",
       "    <tr>\n",
       "      <th>1</th>\n",
       "      <td>11.2200</td>\n",
       "      <td>111</td>\n",
       "      <td>48</td>\n",
       "      <td>16</td>\n",
       "      <td>260</td>\n",
       "      <td>83</td>\n",
       "      <td>Good</td>\n",
       "      <td>65</td>\n",
       "      <td>10</td>\n",
       "      <td>Yes</td>\n",
       "      <td>Yes</td>\n",
       "    </tr>\n",
       "    <tr>\n",
       "      <th>2</th>\n",
       "      <td>10.0600</td>\n",
       "      <td>113</td>\n",
       "      <td>35</td>\n",
       "      <td>10</td>\n",
       "      <td>269</td>\n",
       "      <td>80</td>\n",
       "      <td>Medium</td>\n",
       "      <td>59</td>\n",
       "      <td>12</td>\n",
       "      <td>Yes</td>\n",
       "      <td>Yes</td>\n",
       "    </tr>\n",
       "    <tr>\n",
       "      <th>3</th>\n",
       "      <td>7.4000</td>\n",
       "      <td>117</td>\n",
       "      <td>100</td>\n",
       "      <td>4</td>\n",
       "      <td>466</td>\n",
       "      <td>97</td>\n",
       "      <td>Medium</td>\n",
       "      <td>55</td>\n",
       "      <td>14</td>\n",
       "      <td>Yes</td>\n",
       "      <td>Yes</td>\n",
       "    </tr>\n",
       "    <tr>\n",
       "      <th>4</th>\n",
       "      <td>4.1500</td>\n",
       "      <td>141</td>\n",
       "      <td>64</td>\n",
       "      <td>3</td>\n",
       "      <td>340</td>\n",
       "      <td>128</td>\n",
       "      <td>Bad</td>\n",
       "      <td>38</td>\n",
       "      <td>13</td>\n",
       "      <td>Yes</td>\n",
       "      <td>No</td>\n",
       "    </tr>\n",
       "  </tbody>\n",
       "</table>\n",
       "</div>"
      ],
      "text/plain": [
       "    Sales  CompPrice  Income  Advertising  Population  Price ShelveLoc  Age  \\\n",
       "0 9.5000   138        73      11           276         120    Bad       42    \n",
       "1 11.2200  111        48      16           260         83     Good      65    \n",
       "2 10.0600  113        35      10           269         80     Medium    59    \n",
       "3 7.4000   117        100     4            466         97     Medium    55    \n",
       "4 4.1500   141        64      3            340         128    Bad       38    \n",
       "\n",
       "   Education Urban   US  \n",
       "0  17         Yes   Yes  \n",
       "1  10         Yes   Yes  \n",
       "2  12         Yes   Yes  \n",
       "3  14         Yes   Yes  \n",
       "4  13         Yes   No   "
      ]
     },
     "execution_count": 76,
     "metadata": {},
     "output_type": "execute_result"
    }
   ],
   "source": [
    "df.head()"
   ]
  },
  {
   "cell_type": "code",
   "execution_count": 77,
   "metadata": {},
   "outputs": [],
   "source": [
    "columns_list = ['CompPrice', 'Income', 'Advertising', 'Population', 'Price', 'Age', 'Education']"
   ]
  },
  {
   "cell_type": "code",
   "execution_count": 78,
   "metadata": {},
   "outputs": [],
   "source": [
    "corr_df = pd.DataFrame(columns = ['변수명', '상관계수', 'p-value'])"
   ]
  },
  {
   "cell_type": "code",
   "execution_count": 79,
   "metadata": {},
   "outputs": [],
   "source": [
    "corr_df['변수명'] = columns_list"
   ]
  },
  {
   "cell_type": "code",
   "execution_count": 80,
   "metadata": {},
   "outputs": [
    {
     "data": {
      "text/html": [
       "<div>\n",
       "<style scoped>\n",
       "    .dataframe tbody tr th:only-of-type {\n",
       "        vertical-align: middle;\n",
       "    }\n",
       "\n",
       "    .dataframe tbody tr th {\n",
       "        vertical-align: top;\n",
       "    }\n",
       "\n",
       "    .dataframe thead th {\n",
       "        text-align: right;\n",
       "    }\n",
       "</style>\n",
       "<table border=\"1\" class=\"dataframe\">\n",
       "  <thead>\n",
       "    <tr style=\"text-align: right;\">\n",
       "      <th></th>\n",
       "      <th>변수명</th>\n",
       "      <th>상관계수</th>\n",
       "      <th>p-value</th>\n",
       "    </tr>\n",
       "  </thead>\n",
       "  <tbody>\n",
       "    <tr>\n",
       "      <th>0</th>\n",
       "      <td>CompPrice</td>\n",
       "      <td>0.0641</td>\n",
       "      <td>0.2009</td>\n",
       "    </tr>\n",
       "    <tr>\n",
       "      <th>1</th>\n",
       "      <td>Income</td>\n",
       "      <td>0.1520</td>\n",
       "      <td>0.0023</td>\n",
       "    </tr>\n",
       "    <tr>\n",
       "      <th>2</th>\n",
       "      <td>Advertising</td>\n",
       "      <td>0.2695</td>\n",
       "      <td>0.0000</td>\n",
       "    </tr>\n",
       "    <tr>\n",
       "      <th>3</th>\n",
       "      <td>Population</td>\n",
       "      <td>0.0505</td>\n",
       "      <td>0.3140</td>\n",
       "    </tr>\n",
       "    <tr>\n",
       "      <th>4</th>\n",
       "      <td>Price</td>\n",
       "      <td>-0.4450</td>\n",
       "      <td>0.0000</td>\n",
       "    </tr>\n",
       "    <tr>\n",
       "      <th>5</th>\n",
       "      <td>Age</td>\n",
       "      <td>-0.2318</td>\n",
       "      <td>0.0000</td>\n",
       "    </tr>\n",
       "    <tr>\n",
       "      <th>6</th>\n",
       "      <td>Education</td>\n",
       "      <td>-0.0520</td>\n",
       "      <td>0.2999</td>\n",
       "    </tr>\n",
       "  </tbody>\n",
       "</table>\n",
       "</div>"
      ],
      "text/plain": [
       "           변수명    상관계수  p-value\n",
       "0  CompPrice   0.0641  0.2009  \n",
       "1  Income      0.1520  0.0023  \n",
       "2  Advertising 0.2695  0.0000  \n",
       "3  Population  0.0505  0.3140  \n",
       "4  Price       -0.4450 0.0000  \n",
       "5  Age         -0.2318 0.0000  \n",
       "6  Education   -0.0520 0.2999  "
      ]
     },
     "execution_count": 80,
     "metadata": {},
     "output_type": "execute_result"
    }
   ],
   "source": [
    "corr_list = []\n",
    "p_value_list = []\n",
    "for i in columns_list:\n",
    "    corr_list.append(stats.pearsonr(df['Sales'], df[i])[0])\n",
    "    p_value_list.append(stats.pearsonr(df['Sales'], df[i])[1])\n",
    "corr_df['상관계수'] = corr_list\n",
    "corr_df['p-value'] = p_value_list\n",
    "corr_df"
   ]
  },
  {
   "cell_type": "markdown",
   "metadata": {},
   "source": [
    "* Comprice의 경우 상관계수는 0.06으로 Sales와 상관관계가 존재하지 않는다고 볼 수 있다. p-value는 0.2009로 유의수준 0.05하에서 두 변수간의 상관관계는 통계적으로 유의하다고 볼 수 없다\n",
    "* Income의 경우 상관계수는 0.15으로 Sales와 상관관계가 거의 존재하지 않는다고 볼 수 있다. p-value는 0.0023로 유의수준 0.05하에서 두 변수간의 상관관계는 통계적으로 유의하다\n",
    "* Advertising의 경우 상관계수는 0.26으로 Sales와 약한 상관관계가 존재한다고 볼 수 있다. p-value는 0.0000로 유의수준 0.05하에서 두 변수간의 상관관계는 통계적으로 유의하다"
   ]
  },
  {
   "cell_type": "markdown",
   "metadata": {},
   "source": [
    "### Q3) 종속변수를 Sales, 독립변수를 CompPrice, Income, Advertising, Population, Price, \n",
    "###     Age, Education으로 설정하고 후진제거법을 활용하여 회귀분석을 실시하고, 추정된 회귀식을 작성하시오. "
   ]
  },
  {
   "cell_type": "code",
   "execution_count": 81,
   "metadata": {},
   "outputs": [],
   "source": [
    "results = smf.ols('Sales ~ CompPrice+ Income+ Advertising+ Population+ Price+ Age+ Education', data = df).fit()"
   ]
  },
  {
   "cell_type": "code",
   "execution_count": 82,
   "metadata": {},
   "outputs": [
    {
     "name": "stdout",
     "output_type": "stream",
     "text": [
      "                            OLS Regression Results                            \n",
      "==============================================================================\n",
      "Dep. Variable:                  Sales   R-squared:                       0.542\n",
      "Model:                            OLS   Adj. R-squared:                  0.533\n",
      "Method:                 Least Squares   F-statistic:                     66.18\n",
      "Date:                Mon, 07 Dec 2020   Prob (F-statistic):           1.41e-62\n",
      "Time:                        23:32:36   Log-Likelihood:                -826.32\n",
      "No. Observations:                 400   AIC:                             1669.\n",
      "Df Residuals:                     392   BIC:                             1701.\n",
      "Df Model:                           7                                         \n",
      "Covariance Type:            nonrobust                                         \n",
      "===============================================================================\n",
      "                  coef    std err          t      P>|t|      [0.025      0.975]\n",
      "-------------------------------------------------------------------------------\n",
      "Intercept       7.7077      1.118      6.896      0.000       5.510       9.905\n",
      "CompPrice       0.0939      0.008     11.980      0.000       0.079       0.109\n",
      "Income          0.0129      0.003      3.703      0.000       0.006       0.020\n",
      "Advertising     0.1309      0.015      8.654      0.000       0.101       0.161\n",
      "Population     -0.0001      0.001     -0.180      0.857      -0.001       0.001\n",
      "Price          -0.0925      0.005    -18.314      0.000      -0.102      -0.083\n",
      "Age            -0.0450      0.006     -7.485      0.000      -0.057      -0.033\n",
      "Education      -0.0400      0.037     -1.077      0.282      -0.113       0.033\n",
      "==============================================================================\n",
      "Omnibus:                        8.263   Durbin-Watson:                   1.969\n",
      "Prob(Omnibus):                  0.016   Jarque-Bera (JB):                7.705\n",
      "Skew:                           0.288   Prob(JB):                       0.0212\n",
      "Kurtosis:                       2.639   Cond. No.                     4.05e+03\n",
      "==============================================================================\n",
      "\n",
      "Warnings:\n",
      "[1] Standard Errors assume that the covariance matrix of the errors is correctly specified.\n",
      "[2] The condition number is large, 4.05e+03. This might indicate that there are\n",
      "strong multicollinearity or other numerical problems.\n"
     ]
    }
   ],
   "source": [
    "print(results.summary())"
   ]
  },
  {
   "cell_type": "code",
   "execution_count": 83,
   "metadata": {},
   "outputs": [
    {
     "data": {
      "text/plain": [
       "Index(['Sales', 'CompPrice', 'Income', 'Advertising', 'Population', 'Price',\n",
       "       'ShelveLoc', 'Age', 'Education', 'Urban', 'US'],\n",
       "      dtype='object')"
      ]
     },
     "execution_count": 83,
     "metadata": {},
     "output_type": "execute_result"
    }
   ],
   "source": [
    "df.columns"
   ]
  },
  {
   "cell_type": "code",
   "execution_count": 84,
   "metadata": {},
   "outputs": [],
   "source": [
    "X = df[['CompPrice', 'Income', 'Advertising', 'Population', 'Price', 'Age', 'Education']]\n",
    "y = df['Sales'].values"
   ]
  },
  {
   "cell_type": "code",
   "execution_count": 85,
   "metadata": {},
   "outputs": [
    {
     "data": {
      "text/html": [
       "<div>\n",
       "<style scoped>\n",
       "    .dataframe tbody tr th:only-of-type {\n",
       "        vertical-align: middle;\n",
       "    }\n",
       "\n",
       "    .dataframe tbody tr th {\n",
       "        vertical-align: top;\n",
       "    }\n",
       "\n",
       "    .dataframe thead th {\n",
       "        text-align: right;\n",
       "    }\n",
       "</style>\n",
       "<table border=\"1\" class=\"dataframe\">\n",
       "  <thead>\n",
       "    <tr style=\"text-align: right;\">\n",
       "      <th></th>\n",
       "      <th>Sales</th>\n",
       "      <th>CompPrice</th>\n",
       "      <th>Income</th>\n",
       "      <th>Advertising</th>\n",
       "      <th>Population</th>\n",
       "      <th>Price</th>\n",
       "      <th>ShelveLoc</th>\n",
       "      <th>Age</th>\n",
       "      <th>Education</th>\n",
       "      <th>Urban</th>\n",
       "      <th>US</th>\n",
       "    </tr>\n",
       "  </thead>\n",
       "  <tbody>\n",
       "    <tr>\n",
       "      <th>0</th>\n",
       "      <td>9.5000</td>\n",
       "      <td>138</td>\n",
       "      <td>73</td>\n",
       "      <td>11</td>\n",
       "      <td>276</td>\n",
       "      <td>120</td>\n",
       "      <td>Bad</td>\n",
       "      <td>42</td>\n",
       "      <td>17</td>\n",
       "      <td>Yes</td>\n",
       "      <td>Yes</td>\n",
       "    </tr>\n",
       "    <tr>\n",
       "      <th>1</th>\n",
       "      <td>11.2200</td>\n",
       "      <td>111</td>\n",
       "      <td>48</td>\n",
       "      <td>16</td>\n",
       "      <td>260</td>\n",
       "      <td>83</td>\n",
       "      <td>Good</td>\n",
       "      <td>65</td>\n",
       "      <td>10</td>\n",
       "      <td>Yes</td>\n",
       "      <td>Yes</td>\n",
       "    </tr>\n",
       "    <tr>\n",
       "      <th>2</th>\n",
       "      <td>10.0600</td>\n",
       "      <td>113</td>\n",
       "      <td>35</td>\n",
       "      <td>10</td>\n",
       "      <td>269</td>\n",
       "      <td>80</td>\n",
       "      <td>Medium</td>\n",
       "      <td>59</td>\n",
       "      <td>12</td>\n",
       "      <td>Yes</td>\n",
       "      <td>Yes</td>\n",
       "    </tr>\n",
       "    <tr>\n",
       "      <th>3</th>\n",
       "      <td>7.4000</td>\n",
       "      <td>117</td>\n",
       "      <td>100</td>\n",
       "      <td>4</td>\n",
       "      <td>466</td>\n",
       "      <td>97</td>\n",
       "      <td>Medium</td>\n",
       "      <td>55</td>\n",
       "      <td>14</td>\n",
       "      <td>Yes</td>\n",
       "      <td>Yes</td>\n",
       "    </tr>\n",
       "    <tr>\n",
       "      <th>4</th>\n",
       "      <td>4.1500</td>\n",
       "      <td>141</td>\n",
       "      <td>64</td>\n",
       "      <td>3</td>\n",
       "      <td>340</td>\n",
       "      <td>128</td>\n",
       "      <td>Bad</td>\n",
       "      <td>38</td>\n",
       "      <td>13</td>\n",
       "      <td>Yes</td>\n",
       "      <td>No</td>\n",
       "    </tr>\n",
       "  </tbody>\n",
       "</table>\n",
       "</div>"
      ],
      "text/plain": [
       "    Sales  CompPrice  Income  Advertising  Population  Price ShelveLoc  Age  \\\n",
       "0 9.5000   138        73      11           276         120    Bad       42    \n",
       "1 11.2200  111        48      16           260         83     Good      65    \n",
       "2 10.0600  113        35      10           269         80     Medium    59    \n",
       "3 7.4000   117        100     4            466         97     Medium    55    \n",
       "4 4.1500   141        64      3            340         128    Bad       38    \n",
       "\n",
       "   Education Urban   US  \n",
       "0  17         Yes   Yes  \n",
       "1  10         Yes   Yes  \n",
       "2  12         Yes   Yes  \n",
       "3  14         Yes   Yes  \n",
       "4  13         Yes   No   "
      ]
     },
     "execution_count": 85,
     "metadata": {},
     "output_type": "execute_result"
    }
   ],
   "source": [
    "df.head()"
   ]
  },
  {
   "cell_type": "code",
   "execution_count": 86,
   "metadata": {},
   "outputs": [],
   "source": [
    "from sklearn.feature_selection import RFE\n",
    "from sklearn.ensemble import RandomForestRegressor\n",
    "select = RFE(RandomForestRegressor(n_estimators = 100, random_state = 42),\n",
    "            n_features_to_select = 4)\n",
    "select.fit(X, y)\n",
    "X_train_rfe = select.transform(X)"
   ]
  },
  {
   "cell_type": "code",
   "execution_count": 87,
   "metadata": {},
   "outputs": [
    {
     "data": {
      "text/plain": [
       "array([[138,  11, 120,  42],\n",
       "       [111,  16,  83,  65],\n",
       "       [113,  10,  80,  59],\n",
       "       ...,\n",
       "       [162,  12, 159,  40],\n",
       "       [100,   7,  95,  50],\n",
       "       [134,   0, 120,  49]])"
      ]
     },
     "execution_count": 87,
     "metadata": {},
     "output_type": "execute_result"
    }
   ],
   "source": [
    "X_train_rfe"
   ]
  },
  {
   "cell_type": "code",
   "execution_count": 88,
   "metadata": {},
   "outputs": [
    {
     "data": {
      "text/html": [
       "<div>\n",
       "<style scoped>\n",
       "    .dataframe tbody tr th:only-of-type {\n",
       "        vertical-align: middle;\n",
       "    }\n",
       "\n",
       "    .dataframe tbody tr th {\n",
       "        vertical-align: top;\n",
       "    }\n",
       "\n",
       "    .dataframe thead th {\n",
       "        text-align: right;\n",
       "    }\n",
       "</style>\n",
       "<table border=\"1\" class=\"dataframe\">\n",
       "  <thead>\n",
       "    <tr style=\"text-align: right;\">\n",
       "      <th></th>\n",
       "      <th>CompPrice</th>\n",
       "      <th>Income</th>\n",
       "      <th>Advertising</th>\n",
       "      <th>Population</th>\n",
       "      <th>Price</th>\n",
       "      <th>Age</th>\n",
       "      <th>Education</th>\n",
       "    </tr>\n",
       "  </thead>\n",
       "  <tbody>\n",
       "    <tr>\n",
       "      <th>0</th>\n",
       "      <td>138</td>\n",
       "      <td>73</td>\n",
       "      <td>11</td>\n",
       "      <td>276</td>\n",
       "      <td>120</td>\n",
       "      <td>42</td>\n",
       "      <td>17</td>\n",
       "    </tr>\n",
       "    <tr>\n",
       "      <th>1</th>\n",
       "      <td>111</td>\n",
       "      <td>48</td>\n",
       "      <td>16</td>\n",
       "      <td>260</td>\n",
       "      <td>83</td>\n",
       "      <td>65</td>\n",
       "      <td>10</td>\n",
       "    </tr>\n",
       "    <tr>\n",
       "      <th>2</th>\n",
       "      <td>113</td>\n",
       "      <td>35</td>\n",
       "      <td>10</td>\n",
       "      <td>269</td>\n",
       "      <td>80</td>\n",
       "      <td>59</td>\n",
       "      <td>12</td>\n",
       "    </tr>\n",
       "    <tr>\n",
       "      <th>3</th>\n",
       "      <td>117</td>\n",
       "      <td>100</td>\n",
       "      <td>4</td>\n",
       "      <td>466</td>\n",
       "      <td>97</td>\n",
       "      <td>55</td>\n",
       "      <td>14</td>\n",
       "    </tr>\n",
       "    <tr>\n",
       "      <th>4</th>\n",
       "      <td>141</td>\n",
       "      <td>64</td>\n",
       "      <td>3</td>\n",
       "      <td>340</td>\n",
       "      <td>128</td>\n",
       "      <td>38</td>\n",
       "      <td>13</td>\n",
       "    </tr>\n",
       "  </tbody>\n",
       "</table>\n",
       "</div>"
      ],
      "text/plain": [
       "   CompPrice  Income  Advertising  Population  Price  Age  Education\n",
       "0  138        73      11           276         120    42   17       \n",
       "1  111        48      16           260         83     65   10       \n",
       "2  113        35      10           269         80     59   12       \n",
       "3  117        100     4            466         97     55   14       \n",
       "4  141        64      3            340         128    38   13       "
      ]
     },
     "execution_count": 88,
     "metadata": {},
     "output_type": "execute_result"
    }
   ],
   "source": [
    "X.head()"
   ]
  },
  {
   "cell_type": "code",
   "execution_count": 89,
   "metadata": {},
   "outputs": [
    {
     "data": {
      "text/plain": [
       "array([1, 2, 1, 3, 1, 1, 4])"
      ]
     },
     "execution_count": 89,
     "metadata": {},
     "output_type": "execute_result"
    }
   ],
   "source": [
    "select.ranking_"
   ]
  },
  {
   "cell_type": "markdown",
   "metadata": {},
   "source": [
    "# 2. 정형 데이터마이닝 (사용 데이터 : BlackFriday)"
   ]
  },
  {
   "cell_type": "markdown",
   "metadata": {},
   "source": [
    "### Q1) \"BlackFriday\"데이터에서 Product_Category_2, Product_Category_3의 NA 값에 0값으로 대체하고\n",
    "###     Product_categry_1, 2, 3 변수의 값을 다 더한 Product_all 변수를 생성하여 추가하라.\n",
    "###     그리고 User_ID를 character 변수로, Occupation, Marital_Status, Product_Category_1, \n",
    "###     Product_Category_2, Product_Category_3 변수를 범주형 변수로 변환하시오. \n",
    "###     마지막으로 범주형 변수인 Gender, Age, City_Category, Stay_In_Current_City_Years를 \n",
    "###     더미변수로 변환해서 BlackFriday 데이터에 추가하시오."
   ]
  },
  {
   "cell_type": "code",
   "execution_count": 90,
   "metadata": {},
   "outputs": [
    {
     "name": "stdout",
     "output_type": "stream",
     "text": [
      "(537577, 12)\n"
     ]
    },
    {
     "data": {
      "text/html": [
       "<div>\n",
       "<style scoped>\n",
       "    .dataframe tbody tr th:only-of-type {\n",
       "        vertical-align: middle;\n",
       "    }\n",
       "\n",
       "    .dataframe tbody tr th {\n",
       "        vertical-align: top;\n",
       "    }\n",
       "\n",
       "    .dataframe thead th {\n",
       "        text-align: right;\n",
       "    }\n",
       "</style>\n",
       "<table border=\"1\" class=\"dataframe\">\n",
       "  <thead>\n",
       "    <tr style=\"text-align: right;\">\n",
       "      <th></th>\n",
       "      <th>User_ID</th>\n",
       "      <th>Product_ID</th>\n",
       "      <th>Gender</th>\n",
       "      <th>Age</th>\n",
       "      <th>Occupation</th>\n",
       "      <th>City_Category</th>\n",
       "      <th>Stay_In_Current_City_Years</th>\n",
       "      <th>Marital_Status</th>\n",
       "      <th>Product_Category_1</th>\n",
       "      <th>Product_Category_2</th>\n",
       "      <th>Product_Category_3</th>\n",
       "      <th>Purchase</th>\n",
       "    </tr>\n",
       "  </thead>\n",
       "  <tbody>\n",
       "    <tr>\n",
       "      <th>0</th>\n",
       "      <td>1000001</td>\n",
       "      <td>P00069042</td>\n",
       "      <td>F</td>\n",
       "      <td>0-17</td>\n",
       "      <td>10</td>\n",
       "      <td>A</td>\n",
       "      <td>2</td>\n",
       "      <td>0</td>\n",
       "      <td>3</td>\n",
       "      <td>nan</td>\n",
       "      <td>nan</td>\n",
       "      <td>8370</td>\n",
       "    </tr>\n",
       "    <tr>\n",
       "      <th>1</th>\n",
       "      <td>1000001</td>\n",
       "      <td>P00248942</td>\n",
       "      <td>F</td>\n",
       "      <td>0-17</td>\n",
       "      <td>10</td>\n",
       "      <td>A</td>\n",
       "      <td>2</td>\n",
       "      <td>0</td>\n",
       "      <td>1</td>\n",
       "      <td>6.0000</td>\n",
       "      <td>14.0000</td>\n",
       "      <td>15200</td>\n",
       "    </tr>\n",
       "    <tr>\n",
       "      <th>2</th>\n",
       "      <td>1000001</td>\n",
       "      <td>P00087842</td>\n",
       "      <td>F</td>\n",
       "      <td>0-17</td>\n",
       "      <td>10</td>\n",
       "      <td>A</td>\n",
       "      <td>2</td>\n",
       "      <td>0</td>\n",
       "      <td>12</td>\n",
       "      <td>nan</td>\n",
       "      <td>nan</td>\n",
       "      <td>1422</td>\n",
       "    </tr>\n",
       "    <tr>\n",
       "      <th>3</th>\n",
       "      <td>1000001</td>\n",
       "      <td>P00085442</td>\n",
       "      <td>F</td>\n",
       "      <td>0-17</td>\n",
       "      <td>10</td>\n",
       "      <td>A</td>\n",
       "      <td>2</td>\n",
       "      <td>0</td>\n",
       "      <td>12</td>\n",
       "      <td>14.0000</td>\n",
       "      <td>nan</td>\n",
       "      <td>1057</td>\n",
       "    </tr>\n",
       "    <tr>\n",
       "      <th>4</th>\n",
       "      <td>1000002</td>\n",
       "      <td>P00285442</td>\n",
       "      <td>M</td>\n",
       "      <td>55+</td>\n",
       "      <td>16</td>\n",
       "      <td>C</td>\n",
       "      <td>4+</td>\n",
       "      <td>0</td>\n",
       "      <td>8</td>\n",
       "      <td>nan</td>\n",
       "      <td>nan</td>\n",
       "      <td>7969</td>\n",
       "    </tr>\n",
       "  </tbody>\n",
       "</table>\n",
       "</div>"
      ],
      "text/plain": [
       "   User_ID Product_ID Gender   Age  Occupation City_Category  \\\n",
       "0  1000001  P00069042  F      0-17  10          A              \n",
       "1  1000001  P00248942  F      0-17  10          A              \n",
       "2  1000001  P00087842  F      0-17  10          A              \n",
       "3  1000001  P00085442  F      0-17  10          A              \n",
       "4  1000002  P00285442  M      55+   16          C              \n",
       "\n",
       "  Stay_In_Current_City_Years  Marital_Status  Product_Category_1  \\\n",
       "0  2                          0               3                    \n",
       "1  2                          0               1                    \n",
       "2  2                          0               12                   \n",
       "3  2                          0               12                   \n",
       "4  4+                         0               8                    \n",
       "\n",
       "   Product_Category_2  Product_Category_3  Purchase  \n",
       "0 nan                 nan                  8370      \n",
       "1 6.0000              14.0000              15200     \n",
       "2 nan                 nan                  1422      \n",
       "3 14.0000             nan                  1057      \n",
       "4 nan                 nan                  7969      "
      ]
     },
     "execution_count": 90,
     "metadata": {},
     "output_type": "execute_result"
    }
   ],
   "source": [
    "df = pd.read_csv('./data/모의고사 3회/BlackFriday.csv')\n",
    "print(df.shape)\n",
    "df.head()"
   ]
  },
  {
   "cell_type": "code",
   "execution_count": 91,
   "metadata": {},
   "outputs": [
    {
     "data": {
      "text/plain": [
       "User_ID                       0     \n",
       "Product_ID                    0     \n",
       "Gender                        0     \n",
       "Age                           0     \n",
       "Occupation                    0     \n",
       "City_Category                 0     \n",
       "Stay_In_Current_City_Years    0     \n",
       "Marital_Status                0     \n",
       "Product_Category_1            0     \n",
       "Product_Category_2            166986\n",
       "Product_Category_3            373299\n",
       "Purchase                      0     \n",
       "dtype: int64"
      ]
     },
     "execution_count": 91,
     "metadata": {},
     "output_type": "execute_result"
    }
   ],
   "source": [
    "df.isna().sum()"
   ]
  },
  {
   "cell_type": "code",
   "execution_count": 92,
   "metadata": {},
   "outputs": [
    {
     "data": {
      "text/plain": [
       "User_ID                       0\n",
       "Product_ID                    0\n",
       "Gender                        0\n",
       "Age                           0\n",
       "Occupation                    0\n",
       "City_Category                 0\n",
       "Stay_In_Current_City_Years    0\n",
       "Marital_Status                0\n",
       "Product_Category_1            0\n",
       "Product_Category_2            0\n",
       "Product_Category_3            0\n",
       "Purchase                      0\n",
       "dtype: int64"
      ]
     },
     "execution_count": 92,
     "metadata": {},
     "output_type": "execute_result"
    }
   ],
   "source": [
    "df['Product_Category_2'] = df['Product_Category_2'].fillna(value = 0)\n",
    "df['Product_Category_3'] = df['Product_Category_3'].fillna(value = 0)\n",
    "df.isna().sum()"
   ]
  },
  {
   "cell_type": "code",
   "execution_count": 93,
   "metadata": {},
   "outputs": [],
   "source": [
    "df['Product_all'] = df['Product_Category_1'] + df['Product_Category_2'] + df['Product_Category_3']"
   ]
  },
  {
   "cell_type": "code",
   "execution_count": 94,
   "metadata": {},
   "outputs": [
    {
     "name": "stdout",
     "output_type": "stream",
     "text": [
      "<class 'pandas.core.frame.DataFrame'>\n",
      "RangeIndex: 537577 entries, 0 to 537576\n",
      "Data columns (total 13 columns):\n",
      " #   Column                      Non-Null Count   Dtype  \n",
      "---  ------                      --------------   -----  \n",
      " 0   User_ID                     537577 non-null  int64  \n",
      " 1   Product_ID                  537577 non-null  object \n",
      " 2   Gender                      537577 non-null  object \n",
      " 3   Age                         537577 non-null  object \n",
      " 4   Occupation                  537577 non-null  int64  \n",
      " 5   City_Category               537577 non-null  object \n",
      " 6   Stay_In_Current_City_Years  537577 non-null  object \n",
      " 7   Marital_Status              537577 non-null  int64  \n",
      " 8   Product_Category_1          537577 non-null  int64  \n",
      " 9   Product_Category_2          537577 non-null  float64\n",
      " 10  Product_Category_3          537577 non-null  float64\n",
      " 11  Purchase                    537577 non-null  int64  \n",
      " 12  Product_all                 537577 non-null  float64\n",
      "dtypes: float64(3), int64(5), object(5)\n",
      "memory usage: 53.3+ MB\n"
     ]
    }
   ],
   "source": [
    "df.info()"
   ]
  },
  {
   "cell_type": "code",
   "execution_count": 95,
   "metadata": {},
   "outputs": [
    {
     "data": {
      "text/html": [
       "<div>\n",
       "<style scoped>\n",
       "    .dataframe tbody tr th:only-of-type {\n",
       "        vertical-align: middle;\n",
       "    }\n",
       "\n",
       "    .dataframe tbody tr th {\n",
       "        vertical-align: top;\n",
       "    }\n",
       "\n",
       "    .dataframe thead th {\n",
       "        text-align: right;\n",
       "    }\n",
       "</style>\n",
       "<table border=\"1\" class=\"dataframe\">\n",
       "  <thead>\n",
       "    <tr style=\"text-align: right;\">\n",
       "      <th></th>\n",
       "      <th>User_ID</th>\n",
       "      <th>Product_ID</th>\n",
       "      <th>Gender</th>\n",
       "      <th>Age</th>\n",
       "      <th>Occupation</th>\n",
       "      <th>City_Category</th>\n",
       "      <th>Stay_In_Current_City_Years</th>\n",
       "      <th>Marital_Status</th>\n",
       "      <th>Product_Category_1</th>\n",
       "      <th>Product_Category_2</th>\n",
       "      <th>Product_Category_3</th>\n",
       "      <th>Purchase</th>\n",
       "      <th>Product_all</th>\n",
       "    </tr>\n",
       "  </thead>\n",
       "  <tbody>\n",
       "    <tr>\n",
       "      <th>0</th>\n",
       "      <td>1000001</td>\n",
       "      <td>P00069042</td>\n",
       "      <td>F</td>\n",
       "      <td>0-17</td>\n",
       "      <td>10</td>\n",
       "      <td>A</td>\n",
       "      <td>2</td>\n",
       "      <td>0</td>\n",
       "      <td>3</td>\n",
       "      <td>0.0000</td>\n",
       "      <td>0.0000</td>\n",
       "      <td>8370</td>\n",
       "      <td>3.0000</td>\n",
       "    </tr>\n",
       "    <tr>\n",
       "      <th>1</th>\n",
       "      <td>1000001</td>\n",
       "      <td>P00248942</td>\n",
       "      <td>F</td>\n",
       "      <td>0-17</td>\n",
       "      <td>10</td>\n",
       "      <td>A</td>\n",
       "      <td>2</td>\n",
       "      <td>0</td>\n",
       "      <td>1</td>\n",
       "      <td>6.0000</td>\n",
       "      <td>14.0000</td>\n",
       "      <td>15200</td>\n",
       "      <td>21.0000</td>\n",
       "    </tr>\n",
       "    <tr>\n",
       "      <th>2</th>\n",
       "      <td>1000001</td>\n",
       "      <td>P00087842</td>\n",
       "      <td>F</td>\n",
       "      <td>0-17</td>\n",
       "      <td>10</td>\n",
       "      <td>A</td>\n",
       "      <td>2</td>\n",
       "      <td>0</td>\n",
       "      <td>12</td>\n",
       "      <td>0.0000</td>\n",
       "      <td>0.0000</td>\n",
       "      <td>1422</td>\n",
       "      <td>12.0000</td>\n",
       "    </tr>\n",
       "  </tbody>\n",
       "</table>\n",
       "</div>"
      ],
      "text/plain": [
       "   User_ID Product_ID Gender   Age  Occupation City_Category  \\\n",
       "0  1000001  P00069042  F      0-17  10          A              \n",
       "1  1000001  P00248942  F      0-17  10          A              \n",
       "2  1000001  P00087842  F      0-17  10          A              \n",
       "\n",
       "  Stay_In_Current_City_Years  Marital_Status  Product_Category_1  \\\n",
       "0  2                          0               3                    \n",
       "1  2                          0               1                    \n",
       "2  2                          0               12                   \n",
       "\n",
       "   Product_Category_2  Product_Category_3  Purchase  Product_all  \n",
       "0 0.0000              0.0000               8370     3.0000        \n",
       "1 6.0000              14.0000              15200    21.0000       \n",
       "2 0.0000              0.0000               1422     12.0000       "
      ]
     },
     "execution_count": 95,
     "metadata": {},
     "output_type": "execute_result"
    }
   ],
   "source": [
    "df.head(3)"
   ]
  },
  {
   "cell_type": "code",
   "execution_count": 96,
   "metadata": {},
   "outputs": [],
   "source": [
    "df['User_ID'] = df['User_ID'].astype('str')\n",
    "df['Occupation'] = df['Occupation'].astype('category')\n",
    "df['Marital_Status'] = df['Marital_Status'].astype('category')\n",
    "df['Product_Category_1'] = df['Product_Category_1'].astype('category')\n",
    "df['Product_Category_2'] = df['Product_Category_2'].astype('int').astype('category')\n",
    "df['Product_Category_3'] = df['Product_Category_3'].astype('int').astype('category')"
   ]
  },
  {
   "cell_type": "code",
   "execution_count": 97,
   "metadata": {},
   "outputs": [
    {
     "name": "stdout",
     "output_type": "stream",
     "text": [
      "<class 'pandas.core.frame.DataFrame'>\n",
      "RangeIndex: 537577 entries, 0 to 537576\n",
      "Data columns (total 13 columns):\n",
      " #   Column                      Non-Null Count   Dtype   \n",
      "---  ------                      --------------   -----   \n",
      " 0   User_ID                     537577 non-null  object  \n",
      " 1   Product_ID                  537577 non-null  object  \n",
      " 2   Gender                      537577 non-null  object  \n",
      " 3   Age                         537577 non-null  object  \n",
      " 4   Occupation                  537577 non-null  category\n",
      " 5   City_Category               537577 non-null  object  \n",
      " 6   Stay_In_Current_City_Years  537577 non-null  object  \n",
      " 7   Marital_Status              537577 non-null  category\n",
      " 8   Product_Category_1          537577 non-null  category\n",
      " 9   Product_Category_2          537577 non-null  category\n",
      " 10  Product_Category_3          537577 non-null  category\n",
      " 11  Purchase                    537577 non-null  int64   \n",
      " 12  Product_all                 537577 non-null  float64 \n",
      "dtypes: category(5), float64(1), int64(1), object(6)\n",
      "memory usage: 35.4+ MB\n"
     ]
    }
   ],
   "source": [
    "df.info()"
   ]
  },
  {
   "cell_type": "code",
   "execution_count": 98,
   "metadata": {},
   "outputs": [
    {
     "data": {
      "text/plain": [
       "[0, 14, 17, 5, 4, ..., 12, 3, 18, 11, 10]\n",
       "Length: 16\n",
       "Categories (16, int64): [0, 14, 17, 5, ..., 3, 18, 11, 10]"
      ]
     },
     "execution_count": 98,
     "metadata": {},
     "output_type": "execute_result"
    }
   ],
   "source": [
    "df['Product_Category_3'].unique()"
   ]
  },
  {
   "cell_type": "code",
   "execution_count": 99,
   "metadata": {},
   "outputs": [
    {
     "data": {
      "text/plain": [
       "Index(['User_ID', 'Product_ID', 'Gender', 'Age', 'Occupation', 'City_Category',\n",
       "       'Stay_In_Current_City_Years', 'Marital_Status', 'Product_Category_1',\n",
       "       'Product_Category_2', 'Product_Category_3', 'Purchase', 'Product_all',\n",
       "       'Gender_F', 'Gender_M', 'Age_0-17', 'Age_18-25', 'Age_26-35',\n",
       "       'Age_36-45', 'Age_46-50', 'Age_51-55', 'Age_55+', 'City_Category_A',\n",
       "       'City_Category_B', 'City_Category_C', 'Stay_In_Current_City_Years_0',\n",
       "       'Stay_In_Current_City_Years_1', 'Stay_In_Current_City_Years_2',\n",
       "       'Stay_In_Current_City_Years_3', 'Stay_In_Current_City_Years_4+'],\n",
       "      dtype='object')"
      ]
     },
     "execution_count": 99,
     "metadata": {},
     "output_type": "execute_result"
    }
   ],
   "source": [
    "df = pd.concat([df, pd.get_dummies(df[['Gender', 'Age', 'City_Category', 'Stay_In_Current_City_Years']])], axis = 1)\n",
    "df.columns"
   ]
  },
  {
   "cell_type": "code",
   "execution_count": 100,
   "metadata": {},
   "outputs": [],
   "source": [
    "drop_columns = ['User_ID', 'Product_ID', 'Gender', 'Age', 'City_Category', 'Stay_In_Current_City_Years', 'Product_all']"
   ]
  },
  {
   "cell_type": "code",
   "execution_count": 101,
   "metadata": {},
   "outputs": [
    {
     "data": {
      "text/plain": [
       "Index(['Occupation', 'Marital_Status', 'Product_Category_1',\n",
       "       'Product_Category_2', 'Product_Category_3', 'Purchase', 'Gender_F',\n",
       "       'Gender_M', 'Age_0-17', 'Age_18-25', 'Age_26-35', 'Age_36-45',\n",
       "       'Age_46-50', 'Age_51-55', 'Age_55+', 'City_Category_A',\n",
       "       'City_Category_B', 'City_Category_C', 'Stay_In_Current_City_Years_0',\n",
       "       'Stay_In_Current_City_Years_1', 'Stay_In_Current_City_Years_2',\n",
       "       'Stay_In_Current_City_Years_3', 'Stay_In_Current_City_Years_4+'],\n",
       "      dtype='object')"
      ]
     },
     "execution_count": 101,
     "metadata": {},
     "output_type": "execute_result"
    }
   ],
   "source": [
    "kmeans_df = df.drop(columns = drop_columns)\n",
    "kmeans_df.columns"
   ]
  },
  {
   "cell_type": "code",
   "execution_count": 102,
   "metadata": {},
   "outputs": [
    {
     "name": "stdout",
     "output_type": "stream",
     "text": [
      "<class 'pandas.core.frame.DataFrame'>\n",
      "RangeIndex: 537577 entries, 0 to 537576\n",
      "Data columns (total 23 columns):\n",
      " #   Column                         Non-Null Count   Dtype   \n",
      "---  ------                         --------------   -----   \n",
      " 0   Occupation                     537577 non-null  category\n",
      " 1   Marital_Status                 537577 non-null  category\n",
      " 2   Product_Category_1             537577 non-null  category\n",
      " 3   Product_Category_2             537577 non-null  category\n",
      " 4   Product_Category_3             537577 non-null  category\n",
      " 5   Purchase                       537577 non-null  int64   \n",
      " 6   Gender_F                       537577 non-null  uint8   \n",
      " 7   Gender_M                       537577 non-null  uint8   \n",
      " 8   Age_0-17                       537577 non-null  uint8   \n",
      " 9   Age_18-25                      537577 non-null  uint8   \n",
      " 10  Age_26-35                      537577 non-null  uint8   \n",
      " 11  Age_36-45                      537577 non-null  uint8   \n",
      " 12  Age_46-50                      537577 non-null  uint8   \n",
      " 13  Age_51-55                      537577 non-null  uint8   \n",
      " 14  Age_55+                        537577 non-null  uint8   \n",
      " 15  City_Category_A                537577 non-null  uint8   \n",
      " 16  City_Category_B                537577 non-null  uint8   \n",
      " 17  City_Category_C                537577 non-null  uint8   \n",
      " 18  Stay_In_Current_City_Years_0   537577 non-null  uint8   \n",
      " 19  Stay_In_Current_City_Years_1   537577 non-null  uint8   \n",
      " 20  Stay_In_Current_City_Years_2   537577 non-null  uint8   \n",
      " 21  Stay_In_Current_City_Years_3   537577 non-null  uint8   \n",
      " 22  Stay_In_Current_City_Years_4+  537577 non-null  uint8   \n",
      "dtypes: category(5), int64(1), uint8(17)\n",
      "memory usage: 15.4 MB\n"
     ]
    }
   ],
   "source": [
    "kmeans_df.info()"
   ]
  },
  {
   "cell_type": "code",
   "execution_count": 103,
   "metadata": {},
   "outputs": [],
   "source": [
    "kmeans_df['Occupation'] = kmeans_df['Occupation'].astype('int')\n",
    "kmeans_df['Marital_Status'] = kmeans_df['Marital_Status'].astype('int')\n",
    "kmeans_df['Product_Category_1'] = kmeans_df['Product_Category_1'].astype('int')\n",
    "kmeans_df['Product_Category_2'] = kmeans_df['Product_Category_2'].astype('int')\n",
    "kmeans_df['Product_Category_3'] = kmeans_df['Product_Category_3'].astype('int')"
   ]
  },
  {
   "cell_type": "code",
   "execution_count": 104,
   "metadata": {},
   "outputs": [
    {
     "name": "stdout",
     "output_type": "stream",
     "text": [
      "<class 'pandas.core.frame.DataFrame'>\n",
      "RangeIndex: 537577 entries, 0 to 537576\n",
      "Data columns (total 23 columns):\n",
      " #   Column                         Non-Null Count   Dtype\n",
      "---  ------                         --------------   -----\n",
      " 0   Occupation                     537577 non-null  int64\n",
      " 1   Marital_Status                 537577 non-null  int64\n",
      " 2   Product_Category_1             537577 non-null  int64\n",
      " 3   Product_Category_2             537577 non-null  int64\n",
      " 4   Product_Category_3             537577 non-null  int64\n",
      " 5   Purchase                       537577 non-null  int64\n",
      " 6   Gender_F                       537577 non-null  uint8\n",
      " 7   Gender_M                       537577 non-null  uint8\n",
      " 8   Age_0-17                       537577 non-null  uint8\n",
      " 9   Age_18-25                      537577 non-null  uint8\n",
      " 10  Age_26-35                      537577 non-null  uint8\n",
      " 11  Age_36-45                      537577 non-null  uint8\n",
      " 12  Age_46-50                      537577 non-null  uint8\n",
      " 13  Age_51-55                      537577 non-null  uint8\n",
      " 14  Age_55+                        537577 non-null  uint8\n",
      " 15  City_Category_A                537577 non-null  uint8\n",
      " 16  City_Category_B                537577 non-null  uint8\n",
      " 17  City_Category_C                537577 non-null  uint8\n",
      " 18  Stay_In_Current_City_Years_0   537577 non-null  uint8\n",
      " 19  Stay_In_Current_City_Years_1   537577 non-null  uint8\n",
      " 20  Stay_In_Current_City_Years_2   537577 non-null  uint8\n",
      " 21  Stay_In_Current_City_Years_3   537577 non-null  uint8\n",
      " 22  Stay_In_Current_City_Years_4+  537577 non-null  uint8\n",
      "dtypes: int64(6), uint8(17)\n",
      "memory usage: 33.3 MB\n"
     ]
    }
   ],
   "source": [
    "kmeans_df.info()"
   ]
  },
  {
   "cell_type": "markdown",
   "metadata": {},
   "source": [
    "### Q2) BlackFriday_1 데이터에서 User_ID, Product_ID, Gender, Age, City_Category, Stay_In_Current_City_Years, \n",
    "###     Product_all  변수를 제외한 나머지 변수들을 활용하여 kmeans 군집분석을 수행하고 해석하시오.\n",
    "###     (범주형 변수는 수치형 변수로 변환하여 분석에 활용하시오.)\n",
    "###     그리고 최적의 군집 개수를 찾아서 만일 군집 개수가 이전 결과와 다르면 분석을 다시 수행하여 해석하시오."
   ]
  },
  {
   "cell_type": "code",
   "execution_count": 105,
   "metadata": {},
   "outputs": [
    {
     "name": "stdout",
     "output_type": "stream",
     "text": [
      "클러스터 레이블:\n",
      "[1 2 0 ... 1 1 1]\n",
      "[1 2 0 ... 1 1 1]\n"
     ]
    }
   ],
   "source": [
    "from sklearn.cluster import KMeans\n",
    "# 군집 모델을 만듭니다\n",
    "kmeans = KMeans(n_clusters = 3)\n",
    "kmeans.fit(kmeans_df)\n",
    "print('클러스터 레이블:\\n{}'.format(kmeans.labels_))\n",
    "print(kmeans.predict(kmeans_df))"
   ]
  },
  {
   "cell_type": "markdown",
   "metadata": {},
   "source": [
    "* 'k-means++'의 정의\n",
    "* (일단 아무 공간에나 중심점을 k개 찍고 시작하는 게 아니라) 가지고 있는 데이터 포인트 중에서 무작위로 1개를 선택하여 그 녀석을 첫번째 중심점으로 지정한다.\n",
    "* 나머지 데이터 포인트들에 대해 그 첫번째 중심점까지의 거리를 계산한다.\n",
    "* 두번째 중심점은 각 점들로부터 거리비례 확률에 따라 선택한다. (뭔 소리야?) 즉, 이미 지정된 중심점으로부터 최대한 먼 곳에 배치된 데이터포인트를 그 다음 중심점으로 지정한다는 뜻이다.\n",
    "* 중심점이 k개가 될 때까지 2, 3번을 반복한다."
   ]
  },
  {
   "cell_type": "code",
   "execution_count": 106,
   "metadata": {},
   "outputs": [
    {
     "data": {
      "image/png": "[encoded data removed]",
      "text/plain": [
       "<Figure size 432x288 with 1 Axes>"
      ]
     },
     "metadata": {
      "needs_background": "light"
     },
     "output_type": "display_data"
    }
   ],
   "source": [
    "def elbow(X):\n",
    "    sse = [] # SSE를 저장할 리스트 선언\n",
    "    for i in range(1, 11):\n",
    "        km = KMeans(n_clusters = i, # 클러스터 갯수는 1~10까지\n",
    "                    init = 'k-means++', # 방식은 kmeans++법\n",
    "                    random_state = 0\n",
    "                   )\n",
    "        km.fit(X)\n",
    "        sse.append(km.inertia_) # 각 중심점에서 군집의 데이타간의 거리를 합산한것이으로 군집의 응집도를 나타내는 값이다, 이 값이 작을 수록 응집도가 높게 군집화\n",
    "        \n",
    "    plt.plot(range(1, 11), sse, marker = 'o')\n",
    "    plt.xlabel('클러스터 개수')\n",
    "    plt.ylabel('SSE')\n",
    "    plt.show()\n",
    "elbow(kmeans_df)"
   ]
  },
  {
   "cell_type": "markdown",
   "metadata": {},
   "source": [
    "* 최적의 군집갯수는 4"
   ]
  },
  {
   "cell_type": "markdown",
   "metadata": {},
   "source": [
    "### Q3) 최적의 군집 개수를 찾아 재수행한 군집분석의 결과로 분류된 군집번호를 원본 데이터인 BlackFriday데이터의 \n",
    "###     각 행에 맞게 labelling하여 clust라는 변수로 저장하고 csv 파일로 출력하시오.\n",
    "###     마지막으로 clust별 Gender, Age, Purchase으로 특성을 파악하시오."
   ]
  },
  {
   "cell_type": "code",
   "execution_count": 107,
   "metadata": {},
   "outputs": [
    {
     "name": "stdout",
     "output_type": "stream",
     "text": [
      "클러스터 레이블:\n",
      "[2 0 1 ... 2 2 2]\n",
      "[2 0 1 ... 2 2 2]\n"
     ]
    }
   ],
   "source": [
    "from sklearn.cluster import KMeans\n",
    "# 군집 모델을 만듭니다\n",
    "kmeans = KMeans(n_clusters = 4)\n",
    "kmeans.fit(kmeans_df)\n",
    "print('클러스터 레이블:\\n{}'.format(kmeans.labels_))\n",
    "print(kmeans.predict(kmeans_df))"
   ]
  },
  {
   "cell_type": "code",
   "execution_count": 108,
   "metadata": {},
   "outputs": [
    {
     "data": {
      "text/plain": [
       "1078365803284.42"
      ]
     },
     "execution_count": 108,
     "metadata": {},
     "output_type": "execute_result"
    }
   ],
   "source": [
    "kmeans.inertia_"
   ]
  },
  {
   "cell_type": "code",
   "execution_count": 109,
   "metadata": {},
   "outputs": [
    {
     "data": {
      "text/plain": [
       "-1078365803284.4197"
      ]
     },
     "execution_count": 109,
     "metadata": {},
     "output_type": "execute_result"
    }
   ],
   "source": [
    "kmeans.score(kmeans_df)"
   ]
  },
  {
   "cell_type": "code",
   "execution_count": 110,
   "metadata": {
    "scrolled": true
   },
   "outputs": [],
   "source": [
    "predict = kmeans.predict(kmeans_df)"
   ]
  },
  {
   "cell_type": "code",
   "execution_count": 111,
   "metadata": {},
   "outputs": [
    {
     "data": {
      "text/plain": [
       "537577"
      ]
     },
     "execution_count": 111,
     "metadata": {},
     "output_type": "execute_result"
    }
   ],
   "source": [
    "len(predict)"
   ]
  },
  {
   "cell_type": "code",
   "execution_count": 112,
   "metadata": {},
   "outputs": [],
   "source": [
    "kmeans_df['clust'] = predict"
   ]
  },
  {
   "cell_type": "code",
   "execution_count": 113,
   "metadata": {},
   "outputs": [
    {
     "data": {
      "text/html": [
       "<div>\n",
       "<style scoped>\n",
       "    .dataframe tbody tr th:only-of-type {\n",
       "        vertical-align: middle;\n",
       "    }\n",
       "\n",
       "    .dataframe tbody tr th {\n",
       "        vertical-align: top;\n",
       "    }\n",
       "\n",
       "    .dataframe thead th {\n",
       "        text-align: right;\n",
       "    }\n",
       "</style>\n",
       "<table border=\"1\" class=\"dataframe\">\n",
       "  <thead>\n",
       "    <tr style=\"text-align: right;\">\n",
       "      <th></th>\n",
       "      <th>Occupation</th>\n",
       "      <th>Marital_Status</th>\n",
       "      <th>Product_Category_1</th>\n",
       "      <th>Product_Category_2</th>\n",
       "      <th>Product_Category_3</th>\n",
       "      <th>Purchase</th>\n",
       "      <th>Gender_F</th>\n",
       "      <th>Gender_M</th>\n",
       "      <th>Age_0-17</th>\n",
       "      <th>Age_18-25</th>\n",
       "      <th>Age_26-35</th>\n",
       "      <th>Age_36-45</th>\n",
       "      <th>Age_46-50</th>\n",
       "      <th>Age_51-55</th>\n",
       "      <th>Age_55+</th>\n",
       "      <th>City_Category_A</th>\n",
       "      <th>City_Category_B</th>\n",
       "      <th>City_Category_C</th>\n",
       "      <th>Stay_In_Current_City_Years_0</th>\n",
       "      <th>Stay_In_Current_City_Years_1</th>\n",
       "      <th>Stay_In_Current_City_Years_2</th>\n",
       "      <th>Stay_In_Current_City_Years_3</th>\n",
       "      <th>Stay_In_Current_City_Years_4+</th>\n",
       "    </tr>\n",
       "    <tr>\n",
       "      <th>clust</th>\n",
       "      <th></th>\n",
       "      <th></th>\n",
       "      <th></th>\n",
       "      <th></th>\n",
       "      <th></th>\n",
       "      <th></th>\n",
       "      <th></th>\n",
       "      <th></th>\n",
       "      <th></th>\n",
       "      <th></th>\n",
       "      <th></th>\n",
       "      <th></th>\n",
       "      <th></th>\n",
       "      <th></th>\n",
       "      <th></th>\n",
       "      <th></th>\n",
       "      <th></th>\n",
       "      <th></th>\n",
       "      <th></th>\n",
       "      <th></th>\n",
       "      <th></th>\n",
       "      <th></th>\n",
       "      <th></th>\n",
       "    </tr>\n",
       "  </thead>\n",
       "  <tbody>\n",
       "    <tr>\n",
       "      <th>0</th>\n",
       "      <td>109575</td>\n",
       "      <td>109575</td>\n",
       "      <td>109575</td>\n",
       "      <td>109575</td>\n",
       "      <td>109575</td>\n",
       "      <td>109575</td>\n",
       "      <td>109575</td>\n",
       "      <td>109575</td>\n",
       "      <td>109575</td>\n",
       "      <td>109575</td>\n",
       "      <td>109575</td>\n",
       "      <td>109575</td>\n",
       "      <td>109575</td>\n",
       "      <td>109575</td>\n",
       "      <td>109575</td>\n",
       "      <td>109575</td>\n",
       "      <td>109575</td>\n",
       "      <td>109575</td>\n",
       "      <td>109575</td>\n",
       "      <td>109575</td>\n",
       "      <td>109575</td>\n",
       "      <td>109575</td>\n",
       "      <td>109575</td>\n",
       "    </tr>\n",
       "    <tr>\n",
       "      <th>1</th>\n",
       "      <td>130390</td>\n",
       "      <td>130390</td>\n",
       "      <td>130390</td>\n",
       "      <td>130390</td>\n",
       "      <td>130390</td>\n",
       "      <td>130390</td>\n",
       "      <td>130390</td>\n",
       "      <td>130390</td>\n",
       "      <td>130390</td>\n",
       "      <td>130390</td>\n",
       "      <td>130390</td>\n",
       "      <td>130390</td>\n",
       "      <td>130390</td>\n",
       "      <td>130390</td>\n",
       "      <td>130390</td>\n",
       "      <td>130390</td>\n",
       "      <td>130390</td>\n",
       "      <td>130390</td>\n",
       "      <td>130390</td>\n",
       "      <td>130390</td>\n",
       "      <td>130390</td>\n",
       "      <td>130390</td>\n",
       "      <td>130390</td>\n",
       "    </tr>\n",
       "    <tr>\n",
       "      <th>2</th>\n",
       "      <td>191469</td>\n",
       "      <td>191469</td>\n",
       "      <td>191469</td>\n",
       "      <td>191469</td>\n",
       "      <td>191469</td>\n",
       "      <td>191469</td>\n",
       "      <td>191469</td>\n",
       "      <td>191469</td>\n",
       "      <td>191469</td>\n",
       "      <td>191469</td>\n",
       "      <td>191469</td>\n",
       "      <td>191469</td>\n",
       "      <td>191469</td>\n",
       "      <td>191469</td>\n",
       "      <td>191469</td>\n",
       "      <td>191469</td>\n",
       "      <td>191469</td>\n",
       "      <td>191469</td>\n",
       "      <td>191469</td>\n",
       "      <td>191469</td>\n",
       "      <td>191469</td>\n",
       "      <td>191469</td>\n",
       "      <td>191469</td>\n",
       "    </tr>\n",
       "    <tr>\n",
       "      <th>3</th>\n",
       "      <td>106143</td>\n",
       "      <td>106143</td>\n",
       "      <td>106143</td>\n",
       "      <td>106143</td>\n",
       "      <td>106143</td>\n",
       "      <td>106143</td>\n",
       "      <td>106143</td>\n",
       "      <td>106143</td>\n",
       "      <td>106143</td>\n",
       "      <td>106143</td>\n",
       "      <td>106143</td>\n",
       "      <td>106143</td>\n",
       "      <td>106143</td>\n",
       "      <td>106143</td>\n",
       "      <td>106143</td>\n",
       "      <td>106143</td>\n",
       "      <td>106143</td>\n",
       "      <td>106143</td>\n",
       "      <td>106143</td>\n",
       "      <td>106143</td>\n",
       "      <td>106143</td>\n",
       "      <td>106143</td>\n",
       "      <td>106143</td>\n",
       "    </tr>\n",
       "  </tbody>\n",
       "</table>\n",
       "</div>"
      ],
      "text/plain": [
       "       Occupation  Marital_Status  Product_Category_1  Product_Category_2  \\\n",
       "clust                                                                       \n",
       "0      109575      109575          109575              109575               \n",
       "1      130390      130390          130390              130390               \n",
       "2      191469      191469          191469              191469               \n",
       "3      106143      106143          106143              106143               \n",
       "\n",
       "       Product_Category_3  Purchase  Gender_F  Gender_M  Age_0-17  Age_18-25  \\\n",
       "clust                                                                          \n",
       "0      109575              109575    109575    109575    109575    109575      \n",
       "1      130390              130390    130390    130390    130390    130390      \n",
       "2      191469              191469    191469    191469    191469    191469      \n",
       "3      106143              106143    106143    106143    106143    106143      \n",
       "\n",
       "       Age_26-35  Age_36-45  Age_46-50  Age_51-55  Age_55+  City_Category_A  \\\n",
       "clust                                                                         \n",
       "0      109575     109575     109575     109575     109575   109575            \n",
       "1      130390     130390     130390     130390     130390   130390            \n",
       "2      191469     191469     191469     191469     191469   191469            \n",
       "3      106143     106143     106143     106143     106143   106143            \n",
       "\n",
       "       City_Category_B  City_Category_C  Stay_In_Current_City_Years_0  \\\n",
       "clust                                                                   \n",
       "0      109575           109575           109575                         \n",
       "1      130390           130390           130390                         \n",
       "2      191469           191469           191469                         \n",
       "3      106143           106143           106143                         \n",
       "\n",
       "       Stay_In_Current_City_Years_1  Stay_In_Current_City_Years_2  \\\n",
       "clust                                                               \n",
       "0      109575                        109575                         \n",
       "1      130390                        130390                         \n",
       "2      191469                        191469                         \n",
       "3      106143                        106143                         \n",
       "\n",
       "       Stay_In_Current_City_Years_3  Stay_In_Current_City_Years_4+  \n",
       "clust                                                               \n",
       "0      109575                        109575                         \n",
       "1      130390                        130390                         \n",
       "2      191469                        191469                         \n",
       "3      106143                        106143                         "
      ]
     },
     "execution_count": 113,
     "metadata": {},
     "output_type": "execute_result"
    }
   ],
   "source": [
    "kmeans_df.groupby('clust').count()"
   ]
  },
  {
   "cell_type": "code",
   "execution_count": 114,
   "metadata": {},
   "outputs": [],
   "source": [
    "df['clust'] = predict"
   ]
  },
  {
   "cell_type": "code",
   "execution_count": 115,
   "metadata": {},
   "outputs": [
    {
     "data": {
      "text/html": [
       "<div>\n",
       "<style scoped>\n",
       "    .dataframe tbody tr th:only-of-type {\n",
       "        vertical-align: middle;\n",
       "    }\n",
       "\n",
       "    .dataframe tbody tr th {\n",
       "        vertical-align: top;\n",
       "    }\n",
       "\n",
       "    .dataframe thead th {\n",
       "        text-align: right;\n",
       "    }\n",
       "</style>\n",
       "<table border=\"1\" class=\"dataframe\">\n",
       "  <thead>\n",
       "    <tr style=\"text-align: right;\">\n",
       "      <th></th>\n",
       "      <th>User_ID</th>\n",
       "      <th>Product_ID</th>\n",
       "      <th>Gender</th>\n",
       "      <th>Age</th>\n",
       "      <th>Occupation</th>\n",
       "      <th>City_Category</th>\n",
       "      <th>Stay_In_Current_City_Years</th>\n",
       "      <th>Marital_Status</th>\n",
       "      <th>Product_Category_1</th>\n",
       "      <th>Product_Category_2</th>\n",
       "      <th>Product_Category_3</th>\n",
       "      <th>Purchase</th>\n",
       "      <th>Product_all</th>\n",
       "      <th>Gender_F</th>\n",
       "      <th>Gender_M</th>\n",
       "      <th>Age_0-17</th>\n",
       "      <th>Age_18-25</th>\n",
       "      <th>Age_26-35</th>\n",
       "      <th>Age_36-45</th>\n",
       "      <th>Age_46-50</th>\n",
       "      <th>Age_51-55</th>\n",
       "      <th>Age_55+</th>\n",
       "      <th>City_Category_A</th>\n",
       "      <th>City_Category_B</th>\n",
       "      <th>City_Category_C</th>\n",
       "      <th>Stay_In_Current_City_Years_0</th>\n",
       "      <th>Stay_In_Current_City_Years_1</th>\n",
       "      <th>Stay_In_Current_City_Years_2</th>\n",
       "      <th>Stay_In_Current_City_Years_3</th>\n",
       "      <th>Stay_In_Current_City_Years_4+</th>\n",
       "    </tr>\n",
       "    <tr>\n",
       "      <th>clust</th>\n",
       "      <th></th>\n",
       "      <th></th>\n",
       "      <th></th>\n",
       "      <th></th>\n",
       "      <th></th>\n",
       "      <th></th>\n",
       "      <th></th>\n",
       "      <th></th>\n",
       "      <th></th>\n",
       "      <th></th>\n",
       "      <th></th>\n",
       "      <th></th>\n",
       "      <th></th>\n",
       "      <th></th>\n",
       "      <th></th>\n",
       "      <th></th>\n",
       "      <th></th>\n",
       "      <th></th>\n",
       "      <th></th>\n",
       "      <th></th>\n",
       "      <th></th>\n",
       "      <th></th>\n",
       "      <th></th>\n",
       "      <th></th>\n",
       "      <th></th>\n",
       "      <th></th>\n",
       "      <th></th>\n",
       "      <th></th>\n",
       "      <th></th>\n",
       "      <th></th>\n",
       "    </tr>\n",
       "  </thead>\n",
       "  <tbody>\n",
       "    <tr>\n",
       "      <th>0</th>\n",
       "      <td>109575</td>\n",
       "      <td>109575</td>\n",
       "      <td>109575</td>\n",
       "      <td>109575</td>\n",
       "      <td>109575</td>\n",
       "      <td>109575</td>\n",
       "      <td>109575</td>\n",
       "      <td>109575</td>\n",
       "      <td>109575</td>\n",
       "      <td>109575</td>\n",
       "      <td>109575</td>\n",
       "      <td>109575</td>\n",
       "      <td>109575</td>\n",
       "      <td>109575</td>\n",
       "      <td>109575</td>\n",
       "      <td>109575</td>\n",
       "      <td>109575</td>\n",
       "      <td>109575</td>\n",
       "      <td>109575</td>\n",
       "      <td>109575</td>\n",
       "      <td>109575</td>\n",
       "      <td>109575</td>\n",
       "      <td>109575</td>\n",
       "      <td>109575</td>\n",
       "      <td>109575</td>\n",
       "      <td>109575</td>\n",
       "      <td>109575</td>\n",
       "      <td>109575</td>\n",
       "      <td>109575</td>\n",
       "      <td>109575</td>\n",
       "    </tr>\n",
       "    <tr>\n",
       "      <th>1</th>\n",
       "      <td>130390</td>\n",
       "      <td>130390</td>\n",
       "      <td>130390</td>\n",
       "      <td>130390</td>\n",
       "      <td>130390</td>\n",
       "      <td>130390</td>\n",
       "      <td>130390</td>\n",
       "      <td>130390</td>\n",
       "      <td>130390</td>\n",
       "      <td>130390</td>\n",
       "      <td>130390</td>\n",
       "      <td>130390</td>\n",
       "      <td>130390</td>\n",
       "      <td>130390</td>\n",
       "      <td>130390</td>\n",
       "      <td>130390</td>\n",
       "      <td>130390</td>\n",
       "      <td>130390</td>\n",
       "      <td>130390</td>\n",
       "      <td>130390</td>\n",
       "      <td>130390</td>\n",
       "      <td>130390</td>\n",
       "      <td>130390</td>\n",
       "      <td>130390</td>\n",
       "      <td>130390</td>\n",
       "      <td>130390</td>\n",
       "      <td>130390</td>\n",
       "      <td>130390</td>\n",
       "      <td>130390</td>\n",
       "      <td>130390</td>\n",
       "    </tr>\n",
       "    <tr>\n",
       "      <th>2</th>\n",
       "      <td>191469</td>\n",
       "      <td>191469</td>\n",
       "      <td>191469</td>\n",
       "      <td>191469</td>\n",
       "      <td>191469</td>\n",
       "      <td>191469</td>\n",
       "      <td>191469</td>\n",
       "      <td>191469</td>\n",
       "      <td>191469</td>\n",
       "      <td>191469</td>\n",
       "      <td>191469</td>\n",
       "      <td>191469</td>\n",
       "      <td>191469</td>\n",
       "      <td>191469</td>\n",
       "      <td>191469</td>\n",
       "      <td>191469</td>\n",
       "      <td>191469</td>\n",
       "      <td>191469</td>\n",
       "      <td>191469</td>\n",
       "      <td>191469</td>\n",
       "      <td>191469</td>\n",
       "      <td>191469</td>\n",
       "      <td>191469</td>\n",
       "      <td>191469</td>\n",
       "      <td>191469</td>\n",
       "      <td>191469</td>\n",
       "      <td>191469</td>\n",
       "      <td>191469</td>\n",
       "      <td>191469</td>\n",
       "      <td>191469</td>\n",
       "    </tr>\n",
       "    <tr>\n",
       "      <th>3</th>\n",
       "      <td>106143</td>\n",
       "      <td>106143</td>\n",
       "      <td>106143</td>\n",
       "      <td>106143</td>\n",
       "      <td>106143</td>\n",
       "      <td>106143</td>\n",
       "      <td>106143</td>\n",
       "      <td>106143</td>\n",
       "      <td>106143</td>\n",
       "      <td>106143</td>\n",
       "      <td>106143</td>\n",
       "      <td>106143</td>\n",
       "      <td>106143</td>\n",
       "      <td>106143</td>\n",
       "      <td>106143</td>\n",
       "      <td>106143</td>\n",
       "      <td>106143</td>\n",
       "      <td>106143</td>\n",
       "      <td>106143</td>\n",
       "      <td>106143</td>\n",
       "      <td>106143</td>\n",
       "      <td>106143</td>\n",
       "      <td>106143</td>\n",
       "      <td>106143</td>\n",
       "      <td>106143</td>\n",
       "      <td>106143</td>\n",
       "      <td>106143</td>\n",
       "      <td>106143</td>\n",
       "      <td>106143</td>\n",
       "      <td>106143</td>\n",
       "    </tr>\n",
       "  </tbody>\n",
       "</table>\n",
       "</div>"
      ],
      "text/plain": [
       "       User_ID  Product_ID  Gender     Age  Occupation  City_Category  \\\n",
       "clust                                                                   \n",
       "0      109575   109575      109575  109575  109575      109575          \n",
       "1      130390   130390      130390  130390  130390      130390          \n",
       "2      191469   191469      191469  191469  191469      191469          \n",
       "3      106143   106143      106143  106143  106143      106143          \n",
       "\n",
       "       Stay_In_Current_City_Years  Marital_Status  Product_Category_1  \\\n",
       "clust                                                                   \n",
       "0      109575                      109575          109575               \n",
       "1      130390                      130390          130390               \n",
       "2      191469                      191469          191469               \n",
       "3      106143                      106143          106143               \n",
       "\n",
       "       Product_Category_2  Product_Category_3  Purchase  Product_all  \\\n",
       "clust                                                                  \n",
       "0      109575              109575              109575    109575        \n",
       "1      130390              130390              130390    130390        \n",
       "2      191469              191469              191469    191469        \n",
       "3      106143              106143              106143    106143        \n",
       "\n",
       "       Gender_F  Gender_M  Age_0-17  Age_18-25  Age_26-35  Age_36-45  \\\n",
       "clust                                                                  \n",
       "0      109575    109575    109575    109575     109575     109575      \n",
       "1      130390    130390    130390    130390     130390     130390      \n",
       "2      191469    191469    191469    191469     191469     191469      \n",
       "3      106143    106143    106143    106143     106143     106143      \n",
       "\n",
       "       Age_46-50  Age_51-55  Age_55+  City_Category_A  City_Category_B  \\\n",
       "clust                                                                    \n",
       "0      109575     109575     109575   109575           109575            \n",
       "1      130390     130390     130390   130390           130390            \n",
       "2      191469     191469     191469   191469           191469            \n",
       "3      106143     106143     106143   106143           106143            \n",
       "\n",
       "       City_Category_C  Stay_In_Current_City_Years_0  \\\n",
       "clust                                                  \n",
       "0      109575           109575                         \n",
       "1      130390           130390                         \n",
       "2      191469           191469                         \n",
       "3      106143           106143                         \n",
       "\n",
       "       Stay_In_Current_City_Years_1  Stay_In_Current_City_Years_2  \\\n",
       "clust                                                               \n",
       "0      109575                        109575                         \n",
       "1      130390                        130390                         \n",
       "2      191469                        191469                         \n",
       "3      106143                        106143                         \n",
       "\n",
       "       Stay_In_Current_City_Years_3  Stay_In_Current_City_Years_4+  \n",
       "clust                                                               \n",
       "0      109575                        109575                         \n",
       "1      130390                        130390                         \n",
       "2      191469                        191469                         \n",
       "3      106143                        106143                         "
      ]
     },
     "execution_count": 115,
     "metadata": {},
     "output_type": "execute_result"
    }
   ],
   "source": [
    "df.groupby('clust').count()"
   ]
  },
  {
   "cell_type": "code",
   "execution_count": 116,
   "metadata": {},
   "outputs": [
    {
     "data": {
      "text/html": [
       "<div>\n",
       "<style scoped>\n",
       "    .dataframe tbody tr th:only-of-type {\n",
       "        vertical-align: middle;\n",
       "    }\n",
       "\n",
       "    .dataframe tbody tr th {\n",
       "        vertical-align: top;\n",
       "    }\n",
       "\n",
       "    .dataframe thead th {\n",
       "        text-align: right;\n",
       "    }\n",
       "</style>\n",
       "<table border=\"1\" class=\"dataframe\">\n",
       "  <thead>\n",
       "    <tr style=\"text-align: right;\">\n",
       "      <th>Gender</th>\n",
       "      <th>F</th>\n",
       "      <th>M</th>\n",
       "    </tr>\n",
       "    <tr>\n",
       "      <th>clust</th>\n",
       "      <th></th>\n",
       "      <th></th>\n",
       "    </tr>\n",
       "  </thead>\n",
       "  <tbody>\n",
       "    <tr>\n",
       "      <th>0</th>\n",
       "      <td>21244</td>\n",
       "      <td>88331</td>\n",
       "    </tr>\n",
       "    <tr>\n",
       "      <th>1</th>\n",
       "      <td>33879</td>\n",
       "      <td>96511</td>\n",
       "    </tr>\n",
       "    <tr>\n",
       "      <th>2</th>\n",
       "      <td>51909</td>\n",
       "      <td>139560</td>\n",
       "    </tr>\n",
       "    <tr>\n",
       "      <th>3</th>\n",
       "      <td>25165</td>\n",
       "      <td>80978</td>\n",
       "    </tr>\n",
       "  </tbody>\n",
       "</table>\n",
       "</div>"
      ],
      "text/plain": [
       "Gender      F       M\n",
       "clust                \n",
       "0       21244  88331 \n",
       "1       33879  96511 \n",
       "2       51909  139560\n",
       "3       25165  80978 "
      ]
     },
     "execution_count": 116,
     "metadata": {},
     "output_type": "execute_result"
    }
   ],
   "source": [
    "df.pivot_table(index = 'clust', columns = 'Gender', values = 'User_ID', aggfunc = 'count')"
   ]
  },
  {
   "cell_type": "code",
   "execution_count": 117,
   "metadata": {},
   "outputs": [
    {
     "data": {
      "text/html": [
       "<div>\n",
       "<style scoped>\n",
       "    .dataframe tbody tr th:only-of-type {\n",
       "        vertical-align: middle;\n",
       "    }\n",
       "\n",
       "    .dataframe tbody tr th {\n",
       "        vertical-align: top;\n",
       "    }\n",
       "\n",
       "    .dataframe thead th {\n",
       "        text-align: right;\n",
       "    }\n",
       "</style>\n",
       "<table border=\"1\" class=\"dataframe\">\n",
       "  <thead>\n",
       "    <tr style=\"text-align: right;\">\n",
       "      <th>Age</th>\n",
       "      <th>0-17</th>\n",
       "      <th>18-25</th>\n",
       "      <th>26-35</th>\n",
       "      <th>36-45</th>\n",
       "      <th>46-50</th>\n",
       "      <th>51-55</th>\n",
       "      <th>55+</th>\n",
       "    </tr>\n",
       "    <tr>\n",
       "      <th>clust</th>\n",
       "      <th></th>\n",
       "      <th></th>\n",
       "      <th></th>\n",
       "      <th></th>\n",
       "      <th></th>\n",
       "      <th></th>\n",
       "      <th></th>\n",
       "    </tr>\n",
       "  </thead>\n",
       "  <tbody>\n",
       "    <tr>\n",
       "      <th>0</th>\n",
       "      <td>2736</td>\n",
       "      <td>19563</td>\n",
       "      <td>43837</td>\n",
       "      <td>22331</td>\n",
       "      <td>8756</td>\n",
       "      <td>8151</td>\n",
       "      <td>4201</td>\n",
       "    </tr>\n",
       "    <tr>\n",
       "      <th>1</th>\n",
       "      <td>4100</td>\n",
       "      <td>25439</td>\n",
       "      <td>53022</td>\n",
       "      <td>25308</td>\n",
       "      <td>10350</td>\n",
       "      <td>7848</td>\n",
       "      <td>4323</td>\n",
       "    </tr>\n",
       "    <tr>\n",
       "      <th>2</th>\n",
       "      <td>4956</td>\n",
       "      <td>33724</td>\n",
       "      <td>76241</td>\n",
       "      <td>38329</td>\n",
       "      <td>16569</td>\n",
       "      <td>13782</td>\n",
       "      <td>7868</td>\n",
       "    </tr>\n",
       "    <tr>\n",
       "      <th>3</th>\n",
       "      <td>2915</td>\n",
       "      <td>18908</td>\n",
       "      <td>41590</td>\n",
       "      <td>21531</td>\n",
       "      <td>8851</td>\n",
       "      <td>7837</td>\n",
       "      <td>4511</td>\n",
       "    </tr>\n",
       "  </tbody>\n",
       "</table>\n",
       "</div>"
      ],
      "text/plain": [
       "Age    0-17  18-25  26-35  36-45  46-50  51-55   55+\n",
       "clust                                               \n",
       "0      2736  19563  43837  22331  8756   8151   4201\n",
       "1      4100  25439  53022  25308  10350  7848   4323\n",
       "2      4956  33724  76241  38329  16569  13782  7868\n",
       "3      2915  18908  41590  21531  8851   7837   4511"
      ]
     },
     "execution_count": 117,
     "metadata": {},
     "output_type": "execute_result"
    }
   ],
   "source": [
    "df.pivot_table(index = 'clust', columns = 'Age', values = 'User_ID', aggfunc = 'count')"
   ]
  },
  {
   "cell_type": "code",
   "execution_count": 118,
   "metadata": {},
   "outputs": [
    {
     "data": {
      "text/html": [
       "<div>\n",
       "<style scoped>\n",
       "    .dataframe tbody tr th:only-of-type {\n",
       "        vertical-align: middle;\n",
       "    }\n",
       "\n",
       "    .dataframe tbody tr th {\n",
       "        vertical-align: top;\n",
       "    }\n",
       "\n",
       "    .dataframe thead th {\n",
       "        text-align: right;\n",
       "    }\n",
       "</style>\n",
       "<table border=\"1\" class=\"dataframe\">\n",
       "  <thead>\n",
       "    <tr style=\"text-align: right;\">\n",
       "      <th></th>\n",
       "      <th>Purchase</th>\n",
       "    </tr>\n",
       "    <tr>\n",
       "      <th>clust</th>\n",
       "      <th></th>\n",
       "    </tr>\n",
       "  </thead>\n",
       "  <tbody>\n",
       "    <tr>\n",
       "      <th>0</th>\n",
       "      <td>17,380.2016</td>\n",
       "    </tr>\n",
       "    <tr>\n",
       "      <th>1</th>\n",
       "      <td>3,726.8949</td>\n",
       "    </tr>\n",
       "    <tr>\n",
       "      <th>2</th>\n",
       "      <td>7,470.1913</td>\n",
       "    </tr>\n",
       "    <tr>\n",
       "      <th>3</th>\n",
       "      <td>11,276.9839</td>\n",
       "    </tr>\n",
       "  </tbody>\n",
       "</table>\n",
       "</div>"
      ],
      "text/plain": [
       "         Purchase\n",
       "clust            \n",
       "0     17,380.2016\n",
       "1     3,726.8949 \n",
       "2     7,470.1913 \n",
       "3     11,276.9839"
      ]
     },
     "execution_count": 118,
     "metadata": {},
     "output_type": "execute_result"
    }
   ],
   "source": [
    "df.pivot_table(index = 'clust', values = 'Purchase', aggfunc = 'mean')"
   ]
  },
  {
   "cell_type": "markdown",
   "metadata": {},
   "source": [
    "# 3. 비정형 데이터마이닝 (사용 데이터 : \"공구 블로그 댓글\")"
   ]
  },
  {
   "cell_type": "markdown",
   "metadata": {},
   "source": [
    "# Q1) ‘공구 블로그 댓글.txt’ 파일을 읽어 들여 숫자, 특수 문자 등을 \n",
    "#     제거하는 전처리 작업을 시행하시오."
   ]
  },
  {
   "cell_type": "code",
   "execution_count": 5,
   "metadata": {},
   "outputs": [],
   "source": [
    "blog = pd.read_csv('./data/모의고사 3회/공구 블로그 댓글.txt', sep = '\\t', encoding = 'cp949')"
   ]
  },
  {
   "cell_type": "code",
   "execution_count": 6,
   "metadata": {},
   "outputs": [
    {
     "data": {
      "text/html": [
       "<div>\n",
       "<style scoped>\n",
       "    .dataframe tbody tr th:only-of-type {\n",
       "        vertical-align: middle;\n",
       "    }\n",
       "\n",
       "    .dataframe tbody tr th {\n",
       "        vertical-align: top;\n",
       "    }\n",
       "\n",
       "    .dataframe thead th {\n",
       "        text-align: right;\n",
       "    }\n",
       "</style>\n",
       "<table border=\"1\" class=\"dataframe\">\n",
       "  <thead>\n",
       "    <tr style=\"text-align: right;\">\n",
       "      <th></th>\n",
       "      <th>Date</th>\n",
       "      <th>Good</th>\n",
       "      <th>Hate</th>\n",
       "      <th>Content</th>\n",
       "    </tr>\n",
       "  </thead>\n",
       "  <tbody>\n",
       "    <tr>\n",
       "      <th>0</th>\n",
       "      <td>2014.02.14\\t</td>\n",
       "      <td>71</td>\n",
       "      <td>0</td>\n",
       "      <td>두두월드님.담번엔 실리콘스티머공구도부탁요.</td>\n",
       "    </tr>\n",
       "    <tr>\n",
       "      <th>1</th>\n",
       "      <td>2014.02.14\\t</td>\n",
       "      <td>118</td>\n",
       "      <td>0</td>\n",
       "      <td>김다미돈까스 공구 일정 궁금해요</td>\n",
       "    </tr>\n",
       "    <tr>\n",
       "      <th>2</th>\n",
       "      <td>2014.02.14\\t</td>\n",
       "      <td>42</td>\n",
       "      <td>0</td>\n",
       "      <td>빌보나 헹켈 커트러리요~</td>\n",
       "    </tr>\n",
       "    <tr>\n",
       "      <th>3</th>\n",
       "      <td>2014.02.14\\t</td>\n",
       "      <td>84</td>\n",
       "      <td>0</td>\n",
       "      <td>드롱기 아이코다 빈티지 공구 부탁드려요..ㅠㅠ</td>\n",
       "    </tr>\n",
       "    <tr>\n",
       "      <th>4</th>\n",
       "      <td>2014.02.14\\t</td>\n",
       "      <td>145</td>\n",
       "      <td>0</td>\n",
       "      <td>폴란드그릇 다른패턴으로공구희망유</td>\n",
       "    </tr>\n",
       "  </tbody>\n",
       "</table>\n",
       "</div>"
      ],
      "text/plain": [
       "           Date  Good  Hate                    Content\n",
       "0  2014.02.14\\t  71    0     두두월드님.담번엔 실리콘스티머공구도부탁요.  \n",
       "1  2014.02.14\\t  118   0     김다미돈까스 공구 일정 궁금해요        \n",
       "2  2014.02.14\\t  42    0     빌보나 헹켈 커트러리요~            \n",
       "3  2014.02.14\\t  84    0     드롱기 아이코다 빈티지 공구 부탁드려요..ㅠㅠ\n",
       "4  2014.02.14\\t  145   0     폴란드그릇 다른패턴으로공구희망유        "
      ]
     },
     "execution_count": 6,
     "metadata": {},
     "output_type": "execute_result"
    }
   ],
   "source": [
    "blog.head()"
   ]
  },
  {
   "cell_type": "code",
   "execution_count": 7,
   "metadata": {},
   "outputs": [
    {
     "name": "stdout",
     "output_type": "stream",
     "text": [
      "<class 'pandas.core.frame.DataFrame'>\n",
      "RangeIndex: 225 entries, 0 to 224\n",
      "Data columns (total 4 columns):\n",
      " #   Column   Non-Null Count  Dtype \n",
      "---  ------   --------------  ----- \n",
      " 0   Date     225 non-null    object\n",
      " 1   Good     225 non-null    int64 \n",
      " 2   Hate     225 non-null    int64 \n",
      " 3   Content  225 non-null    object\n",
      "dtypes: int64(2), object(2)\n",
      "memory usage: 7.2+ KB\n"
     ]
    }
   ],
   "source": [
    "blog.info()"
   ]
  },
  {
   "cell_type": "code",
   "execution_count": 8,
   "metadata": {},
   "outputs": [],
   "source": [
    "blog['Date'] = blog['Date'].str[:10]"
   ]
  },
  {
   "cell_type": "code",
   "execution_count": 9,
   "metadata": {},
   "outputs": [
    {
     "data": {
      "text/html": [
       "<div>\n",
       "<style scoped>\n",
       "    .dataframe tbody tr th:only-of-type {\n",
       "        vertical-align: middle;\n",
       "    }\n",
       "\n",
       "    .dataframe tbody tr th {\n",
       "        vertical-align: top;\n",
       "    }\n",
       "\n",
       "    .dataframe thead th {\n",
       "        text-align: right;\n",
       "    }\n",
       "</style>\n",
       "<table border=\"1\" class=\"dataframe\">\n",
       "  <thead>\n",
       "    <tr style=\"text-align: right;\">\n",
       "      <th></th>\n",
       "      <th>Date</th>\n",
       "      <th>Good</th>\n",
       "      <th>Hate</th>\n",
       "      <th>Content</th>\n",
       "    </tr>\n",
       "  </thead>\n",
       "  <tbody>\n",
       "    <tr>\n",
       "      <th>0</th>\n",
       "      <td>2014.02.14</td>\n",
       "      <td>71</td>\n",
       "      <td>0</td>\n",
       "      <td>두두월드님.담번엔 실리콘스티머공구도부탁요.</td>\n",
       "    </tr>\n",
       "    <tr>\n",
       "      <th>1</th>\n",
       "      <td>2014.02.14</td>\n",
       "      <td>118</td>\n",
       "      <td>0</td>\n",
       "      <td>김다미돈까스 공구 일정 궁금해요</td>\n",
       "    </tr>\n",
       "    <tr>\n",
       "      <th>2</th>\n",
       "      <td>2014.02.14</td>\n",
       "      <td>42</td>\n",
       "      <td>0</td>\n",
       "      <td>빌보나 헹켈 커트러리요~</td>\n",
       "    </tr>\n",
       "    <tr>\n",
       "      <th>3</th>\n",
       "      <td>2014.02.14</td>\n",
       "      <td>84</td>\n",
       "      <td>0</td>\n",
       "      <td>드롱기 아이코다 빈티지 공구 부탁드려요..ㅠㅠ</td>\n",
       "    </tr>\n",
       "    <tr>\n",
       "      <th>4</th>\n",
       "      <td>2014.02.14</td>\n",
       "      <td>145</td>\n",
       "      <td>0</td>\n",
       "      <td>폴란드그릇 다른패턴으로공구희망유</td>\n",
       "    </tr>\n",
       "  </tbody>\n",
       "</table>\n",
       "</div>"
      ],
      "text/plain": [
       "         Date  Good  Hate                    Content\n",
       "0  2014.02.14  71    0     두두월드님.담번엔 실리콘스티머공구도부탁요.  \n",
       "1  2014.02.14  118   0     김다미돈까스 공구 일정 궁금해요        \n",
       "2  2014.02.14  42    0     빌보나 헹켈 커트러리요~            \n",
       "3  2014.02.14  84    0     드롱기 아이코다 빈티지 공구 부탁드려요..ㅠㅠ\n",
       "4  2014.02.14  145   0     폴란드그릇 다른패턴으로공구희망유        "
      ]
     },
     "execution_count": 9,
     "metadata": {},
     "output_type": "execute_result"
    }
   ],
   "source": [
    "blog.head()"
   ]
  },
  {
   "cell_type": "code",
   "execution_count": 10,
   "metadata": {},
   "outputs": [],
   "source": [
    "import re"
   ]
  },
  {
   "cell_type": "markdown",
   "metadata": {},
   "source": [
    "### 숫자 지우기"
   ]
  },
  {
   "cell_type": "code",
   "execution_count": 11,
   "metadata": {},
   "outputs": [],
   "source": [
    "temp_list = []\n",
    "for i in blog['Content'].values:\n",
    "    result = re.sub(r'\\d+', '', i)\n",
    "    temp_list.append(result)\n",
    "blog['Content'] = temp_list"
   ]
  },
  {
   "cell_type": "code",
   "execution_count": 12,
   "metadata": {},
   "outputs": [],
   "source": [
    "def cleansing(column):\n",
    "    temp_list = []\n",
    "    for text in blog[column].values:\n",
    "        repl = ''\n",
    "        pattern  = '([a-zA-Z0-9_.+-]+@[a-zA-Z0-9-]+\\.[a-zA-Z0-9-.]+)'\n",
    "        text = re.sub(pattern = pattern, repl = repl, string = text)\n",
    "        pattern  = '(http|ftp|https)://(?:[-\\w.]|(?:%[\\da-fA-F]{2}))+'\n",
    "        text = re.sub(pattern = pattern, repl = repl, string = text)\n",
    "        pattern  = '([ㄱ-ㅎㅏ-ㅣ]+)'\n",
    "        text = re.sub(pattern = pattern, repl = repl, string = text)\n",
    "        pattern  = '<[^>]*>'\n",
    "        text = re.sub(pattern = pattern, repl = repl, string = text)\n",
    "        pattern = '[^\\w\\s]'\n",
    "        text = re.sub(pattern = pattern, repl = repl, string = text)\n",
    "        temp_list.append(text)\n",
    "    blog[column] = temp_list"
   ]
  },
  {
   "cell_type": "code",
   "execution_count": 13,
   "metadata": {},
   "outputs": [],
   "source": [
    "cleansing('Content')"
   ]
  },
  {
   "cell_type": "code",
   "execution_count": 14,
   "metadata": {},
   "outputs": [
    {
     "data": {
      "text/html": [
       "<div>\n",
       "<style scoped>\n",
       "    .dataframe tbody tr th:only-of-type {\n",
       "        vertical-align: middle;\n",
       "    }\n",
       "\n",
       "    .dataframe tbody tr th {\n",
       "        vertical-align: top;\n",
       "    }\n",
       "\n",
       "    .dataframe thead th {\n",
       "        text-align: right;\n",
       "    }\n",
       "</style>\n",
       "<table border=\"1\" class=\"dataframe\">\n",
       "  <thead>\n",
       "    <tr style=\"text-align: right;\">\n",
       "      <th></th>\n",
       "      <th>Date</th>\n",
       "      <th>Good</th>\n",
       "      <th>Hate</th>\n",
       "      <th>Content</th>\n",
       "    </tr>\n",
       "  </thead>\n",
       "  <tbody>\n",
       "    <tr>\n",
       "      <th>0</th>\n",
       "      <td>2014.02.14</td>\n",
       "      <td>71</td>\n",
       "      <td>0</td>\n",
       "      <td>두두월드님담번엔 실리콘스티머공구도부탁요</td>\n",
       "    </tr>\n",
       "    <tr>\n",
       "      <th>1</th>\n",
       "      <td>2014.02.14</td>\n",
       "      <td>118</td>\n",
       "      <td>0</td>\n",
       "      <td>김다미돈까스 공구 일정 궁금해요</td>\n",
       "    </tr>\n",
       "    <tr>\n",
       "      <th>2</th>\n",
       "      <td>2014.02.14</td>\n",
       "      <td>42</td>\n",
       "      <td>0</td>\n",
       "      <td>빌보나 헹켈 커트러리요</td>\n",
       "    </tr>\n",
       "    <tr>\n",
       "      <th>3</th>\n",
       "      <td>2014.02.14</td>\n",
       "      <td>84</td>\n",
       "      <td>0</td>\n",
       "      <td>드롱기 아이코다 빈티지 공구 부탁드려요</td>\n",
       "    </tr>\n",
       "    <tr>\n",
       "      <th>4</th>\n",
       "      <td>2014.02.14</td>\n",
       "      <td>145</td>\n",
       "      <td>0</td>\n",
       "      <td>폴란드그릇 다른패턴으로공구희망유</td>\n",
       "    </tr>\n",
       "    <tr>\n",
       "      <th>5</th>\n",
       "      <td>2014.02.13</td>\n",
       "      <td>112</td>\n",
       "      <td>0</td>\n",
       "      <td>러버메이드 밀대청소기</td>\n",
       "    </tr>\n",
       "    <tr>\n",
       "      <th>6</th>\n",
       "      <td>2014.02.13</td>\n",
       "      <td>234</td>\n",
       "      <td>0</td>\n",
       "      <td>예카는 진공포장기공구없나욤기가매키게좋은대욤</td>\n",
       "    </tr>\n",
       "    <tr>\n",
       "      <th>7</th>\n",
       "      <td>2014.02.13</td>\n",
       "      <td>67</td>\n",
       "      <td>0</td>\n",
       "      <td>다이슨 청소기 다시 한번 더 공구해주세요</td>\n",
       "    </tr>\n",
       "    <tr>\n",
       "      <th>8</th>\n",
       "      <td>2014.02.13</td>\n",
       "      <td>122</td>\n",
       "      <td>0</td>\n",
       "      <td>진짜 원하는 공구예요 양키캔들이요</td>\n",
       "    </tr>\n",
       "    <tr>\n",
       "      <th>9</th>\n",
       "      <td>2014.02.13</td>\n",
       "      <td>29</td>\n",
       "      <td>0</td>\n",
       "      <td>모리나리 오로캡슐</td>\n",
       "    </tr>\n",
       "  </tbody>\n",
       "</table>\n",
       "</div>"
      ],
      "text/plain": [
       "         Date  Good  Hate                  Content\n",
       "0  2014.02.14  71    0     두두월드님담번엔 실리콘스티머공구도부탁요  \n",
       "1  2014.02.14  118   0     김다미돈까스 공구 일정 궁금해요      \n",
       "2  2014.02.14  42    0     빌보나 헹켈 커트러리요           \n",
       "3  2014.02.14  84    0     드롱기 아이코다 빈티지 공구 부탁드려요  \n",
       "4  2014.02.14  145   0     폴란드그릇 다른패턴으로공구희망유      \n",
       "5  2014.02.13  112   0     러버메이드 밀대청소기            \n",
       "6  2014.02.13  234   0     예카는 진공포장기공구없나욤기가매키게좋은대욤\n",
       "7  2014.02.13  67    0     다이슨 청소기 다시 한번 더 공구해주세요 \n",
       "8  2014.02.13  122   0     진짜 원하는 공구예요 양키캔들이요     \n",
       "9  2014.02.13  29    0     모리나리 오로캡슐              "
      ]
     },
     "execution_count": 14,
     "metadata": {},
     "output_type": "execute_result"
    }
   ],
   "source": [
    "blog.head(10)"
   ]
  },
  {
   "cell_type": "markdown",
   "metadata": {},
   "source": [
    "# Q2) ‘사전.txt’를 사전에 추가하고 문서에서 형용사를 추출하여라."
   ]
  },
  {
   "cell_type": "code",
   "execution_count": 15,
   "metadata": {},
   "outputs": [],
   "source": [
    "dicts = pd.read_csv('./data/모의고사 3회/사전.txt', sep = '\\t', encoding = 'cp949')"
   ]
  },
  {
   "cell_type": "code",
   "execution_count": 16,
   "metadata": {},
   "outputs": [],
   "source": [
    "dicts['shape'] = 'NNP'"
   ]
  },
  {
   "cell_type": "code",
   "execution_count": 17,
   "metadata": {},
   "outputs": [
    {
     "data": {
      "text/html": [
       "<div>\n",
       "<style scoped>\n",
       "    .dataframe tbody tr th:only-of-type {\n",
       "        vertical-align: middle;\n",
       "    }\n",
       "\n",
       "    .dataframe tbody tr th {\n",
       "        vertical-align: top;\n",
       "    }\n",
       "\n",
       "    .dataframe thead th {\n",
       "        text-align: right;\n",
       "    }\n",
       "</style>\n",
       "<table border=\"1\" class=\"dataframe\">\n",
       "  <thead>\n",
       "    <tr style=\"text-align: right;\">\n",
       "      <th></th>\n",
       "      <th>공구</th>\n",
       "      <th>shape</th>\n",
       "    </tr>\n",
       "  </thead>\n",
       "  <tbody>\n",
       "    <tr>\n",
       "      <th>0</th>\n",
       "      <td>실리콘스티머</td>\n",
       "      <td>NNP</td>\n",
       "    </tr>\n",
       "    <tr>\n",
       "      <th>1</th>\n",
       "      <td>김다미돈까스</td>\n",
       "      <td>NNP</td>\n",
       "    </tr>\n",
       "    <tr>\n",
       "      <th>2</th>\n",
       "      <td>빌보</td>\n",
       "      <td>NNP</td>\n",
       "    </tr>\n",
       "    <tr>\n",
       "      <th>3</th>\n",
       "      <td>헹켈</td>\n",
       "      <td>NNP</td>\n",
       "    </tr>\n",
       "    <tr>\n",
       "      <th>4</th>\n",
       "      <td>커트러리</td>\n",
       "      <td>NNP</td>\n",
       "    </tr>\n",
       "    <tr>\n",
       "      <th>...</th>\n",
       "      <td>...</td>\n",
       "      <td>...</td>\n",
       "    </tr>\n",
       "    <tr>\n",
       "      <th>223</th>\n",
       "      <td>유기농</td>\n",
       "      <td>NNP</td>\n",
       "    </tr>\n",
       "    <tr>\n",
       "      <th>224</th>\n",
       "      <td>설탕</td>\n",
       "      <td>NNP</td>\n",
       "    </tr>\n",
       "    <tr>\n",
       "      <th>225</th>\n",
       "      <td>오일</td>\n",
       "      <td>NNP</td>\n",
       "    </tr>\n",
       "    <tr>\n",
       "      <th>226</th>\n",
       "      <td>넬리</td>\n",
       "      <td>NNP</td>\n",
       "    </tr>\n",
       "    <tr>\n",
       "      <th>227</th>\n",
       "      <td>떡</td>\n",
       "      <td>NNP</td>\n",
       "    </tr>\n",
       "  </tbody>\n",
       "</table>\n",
       "<p>228 rows × 2 columns</p>\n",
       "</div>"
      ],
      "text/plain": [
       "         공구 shape\n",
       "0    실리콘스티머  NNP \n",
       "1    김다미돈까스  NNP \n",
       "2    빌보      NNP \n",
       "3    헹켈      NNP \n",
       "4    커트러리    NNP \n",
       "..    ...    ... \n",
       "223  유기농     NNP \n",
       "224  설탕      NNP \n",
       "225  오일      NNP \n",
       "226  넬리      NNP \n",
       "227  떡       NNP \n",
       "\n",
       "[228 rows x 2 columns]"
      ]
     },
     "execution_count": 17,
     "metadata": {},
     "output_type": "execute_result"
    }
   ],
   "source": [
    "dicts"
   ]
  },
  {
   "cell_type": "code",
   "execution_count": 18,
   "metadata": {},
   "outputs": [],
   "source": [
    "dicts.to_csv('./dicts.txt', sep='\\t', index=False, header=False)"
   ]
  },
  {
   "cell_type": "code",
   "execution_count": 19,
   "metadata": {},
   "outputs": [],
   "source": [
    "# !pip install konlpy"
   ]
  },
  {
   "cell_type": "code",
   "execution_count": 20,
   "metadata": {},
   "outputs": [
    {
     "data": {
      "text/plain": [
       "[('두두', 'NNP'),\n",
       " ('월드', 'NNP'),\n",
       " ('님', 'XSN'),\n",
       " ('담', 'NNG'),\n",
       " ('번', 'NNB'),\n",
       " ('에', 'JKB'),\n",
       " ('ㄴ', 'JX'),\n",
       " ('실리콘스티머', 'NNP'),\n",
       " ('공', 'NNP'),\n",
       " ('구도', 'NNP'),\n",
       " ('부탁', 'NNG'),\n",
       " ('요', 'JX')]"
      ]
     },
     "execution_count": 20,
     "metadata": {},
     "output_type": "execute_result"
    }
   ],
   "source": [
    "from konlpy.tag import Komoran\n",
    "komoran = Komoran(userdic='dicts.txt')\n",
    "komoran.pos(blog['Content'][0])"
   ]
  },
  {
   "cell_type": "code",
   "execution_count": 21,
   "metadata": {},
   "outputs": [],
   "source": [
    "text = ' '.join(x for x in blog['Content'].unique())"
   ]
  },
  {
   "cell_type": "code",
   "execution_count": 22,
   "metadata": {},
   "outputs": [],
   "source": [
    "temp_list = komoran.pos(text)"
   ]
  },
  {
   "cell_type": "code",
   "execution_count": 23,
   "metadata": {},
   "outputs": [],
   "source": [
    "new_list = []\n",
    "for i in temp_list:\n",
    "    if i[1] == 'VA':\n",
    "        new_list.append(i[0])"
   ]
  },
  {
   "cell_type": "code",
   "execution_count": 24,
   "metadata": {},
   "outputs": [
    {
     "data": {
      "text/plain": [
       "['시', '같', '없', '시', '편하', '없', '없', '맛있', '크', '시', '어렵', '없', '어떻']"
      ]
     },
     "execution_count": 24,
     "metadata": {},
     "output_type": "execute_result"
    }
   ],
   "source": [
    "new_list"
   ]
  },
  {
   "cell_type": "markdown",
   "metadata": {},
   "source": [
    "# Q3) 2월에 게시된 댓글의 명사를 추출하고 빈도수를 시각화하시오."
   ]
  },
  {
   "cell_type": "code",
   "execution_count": 25,
   "metadata": {},
   "outputs": [],
   "source": [
    "blog['Date'] = pd.to_datetime(blog['Date'])"
   ]
  },
  {
   "cell_type": "code",
   "execution_count": 26,
   "metadata": {},
   "outputs": [],
   "source": [
    "feb = blog.loc[blog['Date'].dt.month == 2]"
   ]
  },
  {
   "cell_type": "code",
   "execution_count": 38,
   "metadata": {},
   "outputs": [],
   "source": [
    "text = ' '.join(x for x in feb['Content'].unique())\n",
    "nouns = komoran.nouns(text)"
   ]
  },
  {
   "cell_type": "markdown",
   "metadata": {},
   "source": [
    "* 한글자 명사 빼기"
   ]
  },
  {
   "cell_type": "code",
   "execution_count": 41,
   "metadata": {},
   "outputs": [],
   "source": [
    "for i, v in enumerate(nouns):\n",
    "    if len(v) < 2:\n",
    "        nouns.pop(i)"
   ]
  },
  {
   "cell_type": "code",
   "execution_count": 42,
   "metadata": {},
   "outputs": [],
   "source": [
    "from collections import Counter\n",
    "cnt = Counter(nouns)"
   ]
  },
  {
   "cell_type": "code",
   "execution_count": 43,
   "metadata": {},
   "outputs": [
    {
     "data": {
      "text/html": [
       "<div>\n",
       "<style scoped>\n",
       "    .dataframe tbody tr th:only-of-type {\n",
       "        vertical-align: middle;\n",
       "    }\n",
       "\n",
       "    .dataframe tbody tr th {\n",
       "        vertical-align: top;\n",
       "    }\n",
       "\n",
       "    .dataframe thead th {\n",
       "        text-align: right;\n",
       "    }\n",
       "</style>\n",
       "<table border=\"1\" class=\"dataframe\">\n",
       "  <thead>\n",
       "    <tr style=\"text-align: right;\">\n",
       "      <th></th>\n",
       "      <th>명사</th>\n",
       "      <th>빈도</th>\n",
       "    </tr>\n",
       "  </thead>\n",
       "  <tbody>\n",
       "    <tr>\n",
       "      <th>0</th>\n",
       "      <td>공구</td>\n",
       "      <td>59</td>\n",
       "    </tr>\n",
       "    <tr>\n",
       "      <th>1</th>\n",
       "      <td>부탁</td>\n",
       "      <td>12</td>\n",
       "    </tr>\n",
       "    <tr>\n",
       "      <th>2</th>\n",
       "      <td>빌보</td>\n",
       "      <td>9</td>\n",
       "    </tr>\n",
       "    <tr>\n",
       "      <th>3</th>\n",
       "      <td>드롱기</td>\n",
       "      <td>7</td>\n",
       "    </tr>\n",
       "    <tr>\n",
       "      <th>4</th>\n",
       "      <td>해주</td>\n",
       "      <td>5</td>\n",
       "    </tr>\n",
       "    <tr>\n",
       "      <th>5</th>\n",
       "      <td>러버메이드</td>\n",
       "      <td>4</td>\n",
       "    </tr>\n",
       "    <tr>\n",
       "      <th>6</th>\n",
       "      <td>청소기</td>\n",
       "      <td>4</td>\n",
       "    </tr>\n",
       "    <tr>\n",
       "      <th>7</th>\n",
       "      <td>커트러리</td>\n",
       "      <td>3</td>\n",
       "    </tr>\n",
       "    <tr>\n",
       "      <th>8</th>\n",
       "      <td>포메</td>\n",
       "      <td>3</td>\n",
       "    </tr>\n",
       "    <tr>\n",
       "      <th>9</th>\n",
       "      <td>부가티</td>\n",
       "      <td>3</td>\n",
       "    </tr>\n",
       "    <tr>\n",
       "      <th>10</th>\n",
       "      <td>무선</td>\n",
       "      <td>3</td>\n",
       "    </tr>\n",
       "    <tr>\n",
       "      <th>11</th>\n",
       "      <td>빈티지</td>\n",
       "      <td>2</td>\n",
       "    </tr>\n",
       "    <tr>\n",
       "      <th>12</th>\n",
       "      <td>다이슨</td>\n",
       "      <td>2</td>\n",
       "    </tr>\n",
       "    <tr>\n",
       "      <th>13</th>\n",
       "      <td>뉴웨이브</td>\n",
       "      <td>2</td>\n",
       "    </tr>\n",
       "    <tr>\n",
       "      <th>14</th>\n",
       "      <td>리빌</td>\n",
       "      <td>2</td>\n",
       "    </tr>\n",
       "    <tr>\n",
       "      <th>15</th>\n",
       "      <td>고디바</td>\n",
       "      <td>2</td>\n",
       "    </tr>\n",
       "    <tr>\n",
       "      <th>16</th>\n",
       "      <td>세트</td>\n",
       "      <td>2</td>\n",
       "    </tr>\n",
       "    <tr>\n",
       "      <th>17</th>\n",
       "      <td>이여</td>\n",
       "      <td>2</td>\n",
       "    </tr>\n",
       "    <tr>\n",
       "      <th>18</th>\n",
       "      <td>한라참치액</td>\n",
       "      <td>2</td>\n",
       "    </tr>\n",
       "    <tr>\n",
       "      <th>19</th>\n",
       "      <td>잼팟</td>\n",
       "      <td>2</td>\n",
       "    </tr>\n",
       "  </tbody>\n",
       "</table>\n",
       "</div>"
      ],
      "text/plain": [
       "       명사  빈도\n",
       "0   공구     59\n",
       "1   부탁     12\n",
       "2   빌보     9 \n",
       "3   드롱기    7 \n",
       "4   해주     5 \n",
       "5   러버메이드  4 \n",
       "6   청소기    4 \n",
       "7   커트러리   3 \n",
       "8   포메     3 \n",
       "9   부가티    3 \n",
       "10  무선     3 \n",
       "11  빈티지    2 \n",
       "12  다이슨    2 \n",
       "13  뉴웨이브   2 \n",
       "14  리빌     2 \n",
       "15  고디바    2 \n",
       "16  세트     2 \n",
       "17  이여     2 \n",
       "18  한라참치액  2 \n",
       "19  잼팟     2 "
      ]
     },
     "execution_count": 43,
     "metadata": {},
     "output_type": "execute_result"
    }
   ],
   "source": [
    "temp_df = pd.DataFrame(columns = ['명사', '빈도'])\n",
    "freq = cnt.most_common(20)\n",
    "temp_list = []\n",
    "temp_list2= []\n",
    "for i in freq:\n",
    "    temp_list.append(i[0])\n",
    "    temp_list2.append(i[1])\n",
    "temp_df['명사'] = temp_list\n",
    "temp_df['빈도'] = temp_list2\n",
    "temp_df"
   ]
  },
  {
   "cell_type": "code",
   "execution_count": 44,
   "metadata": {},
   "outputs": [
    {
     "data": {
      "image/png": "[encoded data removed]",
      "text/plain": [
       "<Figure size 576x432 with 1 Axes>"
      ]
     },
     "metadata": {
      "needs_background": "light"
     },
     "output_type": "display_data"
    }
   ],
   "source": [
    "plt.figure(figsize = (8,6))\n",
    "sns.barplot(x = '명사', y = '빈도', data = temp_df)\n",
    "plt.tight_layout()\n",
    "plt.show()"
   ]
  },
  {
   "cell_type": "code",
   "execution_count": 45,
   "metadata": {
    "scrolled": true
   },
   "outputs": [
    {
     "data": {
      "image/png": "[encoded data removed]",
      "text/plain": [
       "<Figure size 432x288 with 1 Axes>"
      ]
     },
     "metadata": {},
     "output_type": "display_data"
    }
   ],
   "source": [
    "plt.pie(temp_df['빈도'][:10], labels = temp_df['명사'][:10])\n",
    "plt.show()"
   ]
  },
  {
   "cell_type": "code",
   "execution_count": null,
   "metadata": {},
   "outputs": [],
   "source": []
  }
 ],
 "metadata": {
  "kernelspec": {
   "display_name": "Python 3",
   "language": "python",
   "name": "python3"
  },
  "language_info": {
   "codemirror_mode": {
    "name": "ipython",
    "version": 3
   },
   "file_extension": ".py",
   "mimetype": "text/x-python",
   "name": "python",
   "nbconvert_exporter": "python",
   "pygments_lexer": "ipython3",
   "version": "3.7.4"
  },
  "toc": {
   "base_numbering": 1,
   "nav_menu": {},
   "number_sections": true,
   "sideBar": true,
   "skip_h1_title": false,
   "title_cell": "Table of Contents",
   "title_sidebar": "Contents",
   "toc_cell": false,
   "toc_position": {},
   "toc_section_display": true,
   "toc_window_display": false
  },
  "varInspector": {
   "cols": {
    "lenName": 16,
    "lenType": 16,
    "lenVar": 40
   },
   "kernels_config": {
    "python": {
     "delete_cmd_postfix": "",
     "delete_cmd_prefix": "del ",
     "library": "var_list.py",
     "varRefreshCmd": "print(var_dic_list())"
    },
    "r": {
     "delete_cmd_postfix": ") ",
     "delete_cmd_prefix": "rm(",
     "library": "var_list.r",
     "varRefreshCmd": "cat(var_dic_list()) "
    }
   },
   "types_to_exclude": [
    "module",
    "function",
    "builtin_function_or_method",
    "instance",
    "_Feature"
   ],
   "window_display": false
  }
 },
 "nbformat": 4,
 "nbformat_minor": 4
}
