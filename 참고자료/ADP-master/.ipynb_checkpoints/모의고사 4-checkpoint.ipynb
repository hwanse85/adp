{
 "cells": [
  {
   "cell_type": "code",
   "execution_count": 1,
   "metadata": {},
   "outputs": [],
   "source": [
    "# 기본 라이브러리 호출\n",
    "import warnings\n",
    "warnings.filterwarnings('ignore')\n",
    "warnings.warn(\"once\")\n",
    "import pandas as pd\n",
    "import numpy as np\n",
    "import scipy as sp\n",
    "import seaborn as sns\n",
    "import matplotlib.pyplot as plt\n",
    "%matplotlib inline\n",
    "from scipy import stats\n",
    "from scipy.stats import norm, skew\n",
    "# 선형모델을 추정하는 라이브러리\n",
    "import statsmodels.formula.api as smf\n",
    "import statsmodels.api as sm\n",
    "import statsmodels.stats.api as sms\n",
    "from patsy import dmatrices\n",
    "color = sns.color_palette()\n",
    "\n",
    "pd.set_option('display.float_format','{:,.4f}'.format) # 소수점 2번째 자리까지 표현\n",
    "pd.set_option('display.max_columns', None) # 모든 컬럼 표시\n",
    "pd.set_option('display.max_colwidth', -1) # 컬럼내용 전체 표시\n",
    "\n",
    "#Graph에 한글을 표시하기 위한 코드\n",
    "import matplotlib\n",
    "from matplotlib import font_manager, rc\n",
    "import platform\n",
    "# font_name = font_manager.FontProperties(fname=\"c:/Windows/Fonts/malgun.ttf\").get_name()\n",
    "font_name = font_manager.FontProperties(fname=\"/usr/share/fonts/NanumGothicCoding.ttf\").get_name()\n",
    "rc('font', family=font_name)\\\n",
    "    \n",
    "matplotlib.rcParams['axes.unicode_minus'] = False"
   ]
  },
  {
   "cell_type": "markdown",
   "metadata": {},
   "source": [
    "# 1. 정형 데이터마이닝 (사용 데이터 : weatherAUS)"
   ]
  },
  {
   "cell_type": "markdown",
   "metadata": {},
   "source": [
    "### Q1) 데이터의 요약값을 보고 NA값이 10,000개 이상인 열을 제외하고 남은 변수 중 NA값이 있는 행을 제거하시오. \n",
    "###     그리고 AUS 데이터의 Date 변수를 Date형으로 변환하고, \n",
    "###     전처리가 완료된 weatherAUS 데이터를 train(70%), test(30%) 데이터로 분할하시오.\n",
    "###     (set.seed(6789)를 실행한 후 데이터를 분할하시오.)"
   ]
  },
  {
   "cell_type": "code",
   "execution_count": 2,
   "metadata": {},
   "outputs": [
    {
     "name": "stdout",
     "output_type": "stream",
     "text": [
      "(142193, 21)\n"
     ]
    },
    {
     "data": {
      "text/html": [
       "<div>\n",
       "<style scoped>\n",
       "    .dataframe tbody tr th:only-of-type {\n",
       "        vertical-align: middle;\n",
       "    }\n",
       "\n",
       "    .dataframe tbody tr th {\n",
       "        vertical-align: top;\n",
       "    }\n",
       "\n",
       "    .dataframe thead th {\n",
       "        text-align: right;\n",
       "    }\n",
       "</style>\n",
       "<table border=\"1\" class=\"dataframe\">\n",
       "  <thead>\n",
       "    <tr style=\"text-align: right;\">\n",
       "      <th></th>\n",
       "      <th>Date</th>\n",
       "      <th>Location</th>\n",
       "      <th>MinTemp</th>\n",
       "      <th>MaxTemp</th>\n",
       "      <th>Rainfall</th>\n",
       "      <th>WindGustDir</th>\n",
       "      <th>WindGustSpeed</th>\n",
       "      <th>WindDir9am</th>\n",
       "      <th>WindDir3pm</th>\n",
       "      <th>WindSpeed9am</th>\n",
       "      <th>WindSpeed3pm</th>\n",
       "      <th>Humidity9am</th>\n",
       "      <th>Humidity3pm</th>\n",
       "      <th>Pressure9am</th>\n",
       "      <th>Pressure3pm</th>\n",
       "      <th>Cloud9am</th>\n",
       "      <th>Cloud3pm</th>\n",
       "      <th>Temp9am</th>\n",
       "      <th>Temp3pm</th>\n",
       "      <th>RainToday</th>\n",
       "      <th>RainTomorrow</th>\n",
       "    </tr>\n",
       "  </thead>\n",
       "  <tbody>\n",
       "    <tr>\n",
       "      <th>0</th>\n",
       "      <td>2008-12-01</td>\n",
       "      <td>Albury</td>\n",
       "      <td>13.4000</td>\n",
       "      <td>22.9000</td>\n",
       "      <td>0.6000</td>\n",
       "      <td>W</td>\n",
       "      <td>44.0000</td>\n",
       "      <td>W</td>\n",
       "      <td>WNW</td>\n",
       "      <td>20.0000</td>\n",
       "      <td>24.0000</td>\n",
       "      <td>71.0000</td>\n",
       "      <td>22.0000</td>\n",
       "      <td>1,007.7000</td>\n",
       "      <td>1,007.1000</td>\n",
       "      <td>8.0000</td>\n",
       "      <td>nan</td>\n",
       "      <td>16.9000</td>\n",
       "      <td>21.8000</td>\n",
       "      <td>No</td>\n",
       "      <td>No</td>\n",
       "    </tr>\n",
       "    <tr>\n",
       "      <th>1</th>\n",
       "      <td>2008-12-02</td>\n",
       "      <td>Albury</td>\n",
       "      <td>7.4000</td>\n",
       "      <td>25.1000</td>\n",
       "      <td>0.0000</td>\n",
       "      <td>WNW</td>\n",
       "      <td>44.0000</td>\n",
       "      <td>NNW</td>\n",
       "      <td>WSW</td>\n",
       "      <td>4.0000</td>\n",
       "      <td>22.0000</td>\n",
       "      <td>44.0000</td>\n",
       "      <td>25.0000</td>\n",
       "      <td>1,010.6000</td>\n",
       "      <td>1,007.8000</td>\n",
       "      <td>nan</td>\n",
       "      <td>nan</td>\n",
       "      <td>17.2000</td>\n",
       "      <td>24.3000</td>\n",
       "      <td>No</td>\n",
       "      <td>No</td>\n",
       "    </tr>\n",
       "    <tr>\n",
       "      <th>2</th>\n",
       "      <td>2008-12-03</td>\n",
       "      <td>Albury</td>\n",
       "      <td>12.9000</td>\n",
       "      <td>25.7000</td>\n",
       "      <td>0.0000</td>\n",
       "      <td>WSW</td>\n",
       "      <td>46.0000</td>\n",
       "      <td>W</td>\n",
       "      <td>WSW</td>\n",
       "      <td>19.0000</td>\n",
       "      <td>26.0000</td>\n",
       "      <td>38.0000</td>\n",
       "      <td>30.0000</td>\n",
       "      <td>1,007.6000</td>\n",
       "      <td>1,008.7000</td>\n",
       "      <td>nan</td>\n",
       "      <td>2.0000</td>\n",
       "      <td>21.0000</td>\n",
       "      <td>23.2000</td>\n",
       "      <td>No</td>\n",
       "      <td>No</td>\n",
       "    </tr>\n",
       "    <tr>\n",
       "      <th>3</th>\n",
       "      <td>2008-12-04</td>\n",
       "      <td>Albury</td>\n",
       "      <td>9.2000</td>\n",
       "      <td>28.0000</td>\n",
       "      <td>0.0000</td>\n",
       "      <td>NE</td>\n",
       "      <td>24.0000</td>\n",
       "      <td>SE</td>\n",
       "      <td>E</td>\n",
       "      <td>11.0000</td>\n",
       "      <td>9.0000</td>\n",
       "      <td>45.0000</td>\n",
       "      <td>16.0000</td>\n",
       "      <td>1,017.6000</td>\n",
       "      <td>1,012.8000</td>\n",
       "      <td>nan</td>\n",
       "      <td>nan</td>\n",
       "      <td>18.1000</td>\n",
       "      <td>26.5000</td>\n",
       "      <td>No</td>\n",
       "      <td>No</td>\n",
       "    </tr>\n",
       "    <tr>\n",
       "      <th>4</th>\n",
       "      <td>2008-12-05</td>\n",
       "      <td>Albury</td>\n",
       "      <td>17.5000</td>\n",
       "      <td>32.3000</td>\n",
       "      <td>1.0000</td>\n",
       "      <td>W</td>\n",
       "      <td>41.0000</td>\n",
       "      <td>ENE</td>\n",
       "      <td>NW</td>\n",
       "      <td>7.0000</td>\n",
       "      <td>20.0000</td>\n",
       "      <td>82.0000</td>\n",
       "      <td>33.0000</td>\n",
       "      <td>1,010.8000</td>\n",
       "      <td>1,006.0000</td>\n",
       "      <td>7.0000</td>\n",
       "      <td>8.0000</td>\n",
       "      <td>17.8000</td>\n",
       "      <td>29.7000</td>\n",
       "      <td>No</td>\n",
       "      <td>No</td>\n",
       "    </tr>\n",
       "  </tbody>\n",
       "</table>\n",
       "</div>"
      ],
      "text/plain": [
       "         Date Location  MinTemp  MaxTemp  Rainfall WindGustDir  WindGustSpeed  \\\n",
       "0  2008-12-01  Albury  13.4000  22.9000  0.6000     W          44.0000          \n",
       "1  2008-12-02  Albury  7.4000   25.1000  0.0000     WNW        44.0000          \n",
       "2  2008-12-03  Albury  12.9000  25.7000  0.0000     WSW        46.0000          \n",
       "3  2008-12-04  Albury  9.2000   28.0000  0.0000     NE         24.0000          \n",
       "4  2008-12-05  Albury  17.5000  32.3000  1.0000     W          41.0000          \n",
       "\n",
       "  WindDir9am WindDir3pm  WindSpeed9am  WindSpeed3pm  Humidity9am  Humidity3pm  \\\n",
       "0  W          WNW       20.0000       24.0000       71.0000      22.0000        \n",
       "1  NNW        WSW       4.0000        22.0000       44.0000      25.0000        \n",
       "2  W          WSW       19.0000       26.0000       38.0000      30.0000        \n",
       "3  SE         E         11.0000       9.0000        45.0000      16.0000        \n",
       "4  ENE        NW        7.0000        20.0000       82.0000      33.0000        \n",
       "\n",
       "   Pressure9am  Pressure3pm  Cloud9am  Cloud3pm  Temp9am  Temp3pm RainToday  \\\n",
       "0 1,007.7000   1,007.1000   8.0000    nan       16.9000  21.8000   No         \n",
       "1 1,010.6000   1,007.8000   nan       nan       17.2000  24.3000   No         \n",
       "2 1,007.6000   1,008.7000   nan       2.0000    21.0000  23.2000   No         \n",
       "3 1,017.6000   1,012.8000   nan       nan       18.1000  26.5000   No         \n",
       "4 1,010.8000   1,006.0000   7.0000    8.0000    17.8000  29.7000   No         \n",
       "\n",
       "  RainTomorrow  \n",
       "0  No           \n",
       "1  No           \n",
       "2  No           \n",
       "3  No           \n",
       "4  No           "
      ]
     },
     "execution_count": 2,
     "metadata": {},
     "output_type": "execute_result"
    }
   ],
   "source": [
    "df = pd.read_csv('./data/모의고사 4회/weatherAUS.csv')\n",
    "print(df.shape)\n",
    "df.head()"
   ]
  },
  {
   "cell_type": "code",
   "execution_count": 3,
   "metadata": {},
   "outputs": [
    {
     "data": {
      "text/plain": [
       "Date             0    \n",
       "Location         0    \n",
       "MinTemp          637  \n",
       "MaxTemp          322  \n",
       "Rainfall         1406 \n",
       "WindGustDir      9330 \n",
       "WindGustSpeed    9270 \n",
       "WindDir9am       10013\n",
       "WindDir3pm       3778 \n",
       "WindSpeed9am     1348 \n",
       "WindSpeed3pm     2630 \n",
       "Humidity9am      1774 \n",
       "Humidity3pm      3610 \n",
       "Pressure9am      14014\n",
       "Pressure3pm      13981\n",
       "Cloud9am         53657\n",
       "Cloud3pm         57094\n",
       "Temp9am          904  \n",
       "Temp3pm          2726 \n",
       "RainToday        1406 \n",
       "RainTomorrow     0    \n",
       "dtype: int64"
      ]
     },
     "execution_count": 3,
     "metadata": {},
     "output_type": "execute_result"
    }
   ],
   "source": [
    "df.isna().sum()"
   ]
  },
  {
   "cell_type": "code",
   "execution_count": 4,
   "metadata": {},
   "outputs": [],
   "source": [
    "drop_columns = ['WindDir9am', 'Pressure9am', 'Pressure3pm', \"Cloud9am\", \"Cloud3pm\"]\n",
    "df = df.drop(columns = drop_columns)"
   ]
  },
  {
   "cell_type": "code",
   "execution_count": 5,
   "metadata": {},
   "outputs": [
    {
     "data": {
      "text/plain": [
       "Date             0   \n",
       "Location         0   \n",
       "MinTemp          637 \n",
       "MaxTemp          322 \n",
       "Rainfall         1406\n",
       "WindGustDir      9330\n",
       "WindGustSpeed    9270\n",
       "WindDir3pm       3778\n",
       "WindSpeed9am     1348\n",
       "WindSpeed3pm     2630\n",
       "Humidity9am      1774\n",
       "Humidity3pm      3610\n",
       "Temp9am          904 \n",
       "Temp3pm          2726\n",
       "RainToday        1406\n",
       "RainTomorrow     0   \n",
       "dtype: int64"
      ]
     },
     "execution_count": 5,
     "metadata": {},
     "output_type": "execute_result"
    }
   ],
   "source": [
    "df.isna().sum()"
   ]
  },
  {
   "cell_type": "code",
   "execution_count": 6,
   "metadata": {},
   "outputs": [
    {
     "name": "stdout",
     "output_type": "stream",
     "text": [
      "142193\n",
      "128576\n"
     ]
    }
   ],
   "source": [
    "print(len(df))\n",
    "print(len(df.dropna()))"
   ]
  },
  {
   "cell_type": "code",
   "execution_count": 7,
   "metadata": {},
   "outputs": [],
   "source": [
    "df = df.dropna(axis = 0)"
   ]
  },
  {
   "cell_type": "code",
   "execution_count": 8,
   "metadata": {},
   "outputs": [
    {
     "data": {
      "text/plain": [
       "(128576, 16)"
      ]
     },
     "execution_count": 8,
     "metadata": {},
     "output_type": "execute_result"
    }
   ],
   "source": [
    "df.shape"
   ]
  },
  {
   "cell_type": "code",
   "execution_count": 9,
   "metadata": {},
   "outputs": [
    {
     "name": "stdout",
     "output_type": "stream",
     "text": [
      "<class 'pandas.core.frame.DataFrame'>\n",
      "Int64Index: 128576 entries, 0 to 142192\n",
      "Data columns (total 16 columns):\n",
      " #   Column         Non-Null Count   Dtype  \n",
      "---  ------         --------------   -----  \n",
      " 0   Date           128576 non-null  object \n",
      " 1   Location       128576 non-null  object \n",
      " 2   MinTemp        128576 non-null  float64\n",
      " 3   MaxTemp        128576 non-null  float64\n",
      " 4   Rainfall       128576 non-null  float64\n",
      " 5   WindGustDir    128576 non-null  object \n",
      " 6   WindGustSpeed  128576 non-null  float64\n",
      " 7   WindDir3pm     128576 non-null  object \n",
      " 8   WindSpeed9am   128576 non-null  float64\n",
      " 9   WindSpeed3pm   128576 non-null  float64\n",
      " 10  Humidity9am    128576 non-null  float64\n",
      " 11  Humidity3pm    128576 non-null  float64\n",
      " 12  Temp9am        128576 non-null  float64\n",
      " 13  Temp3pm        128576 non-null  float64\n",
      " 14  RainToday      128576 non-null  object \n",
      " 15  RainTomorrow   128576 non-null  object \n",
      "dtypes: float64(10), object(6)\n",
      "memory usage: 16.7+ MB\n"
     ]
    }
   ],
   "source": [
    "df.info()"
   ]
  },
  {
   "cell_type": "code",
   "execution_count": 10,
   "metadata": {},
   "outputs": [],
   "source": [
    "df['Date'] = pd.to_datetime(df['Date'])"
   ]
  },
  {
   "cell_type": "code",
   "execution_count": 11,
   "metadata": {
    "scrolled": true
   },
   "outputs": [
    {
     "data": {
      "text/html": [
       "<div>\n",
       "<style scoped>\n",
       "    .dataframe tbody tr th:only-of-type {\n",
       "        vertical-align: middle;\n",
       "    }\n",
       "\n",
       "    .dataframe tbody tr th {\n",
       "        vertical-align: top;\n",
       "    }\n",
       "\n",
       "    .dataframe thead th {\n",
       "        text-align: right;\n",
       "    }\n",
       "</style>\n",
       "<table border=\"1\" class=\"dataframe\">\n",
       "  <thead>\n",
       "    <tr style=\"text-align: right;\">\n",
       "      <th></th>\n",
       "      <th>Date</th>\n",
       "      <th>Location</th>\n",
       "      <th>MinTemp</th>\n",
       "      <th>MaxTemp</th>\n",
       "      <th>Rainfall</th>\n",
       "      <th>WindGustDir</th>\n",
       "      <th>WindGustSpeed</th>\n",
       "      <th>WindDir3pm</th>\n",
       "      <th>WindSpeed9am</th>\n",
       "      <th>WindSpeed3pm</th>\n",
       "      <th>Humidity9am</th>\n",
       "      <th>Humidity3pm</th>\n",
       "      <th>Temp9am</th>\n",
       "      <th>Temp3pm</th>\n",
       "      <th>RainToday</th>\n",
       "      <th>RainTomorrow</th>\n",
       "    </tr>\n",
       "  </thead>\n",
       "  <tbody>\n",
       "    <tr>\n",
       "      <th>0</th>\n",
       "      <td>2008-12-01</td>\n",
       "      <td>Albury</td>\n",
       "      <td>13.4000</td>\n",
       "      <td>22.9000</td>\n",
       "      <td>0.6000</td>\n",
       "      <td>W</td>\n",
       "      <td>44.0000</td>\n",
       "      <td>WNW</td>\n",
       "      <td>20.0000</td>\n",
       "      <td>24.0000</td>\n",
       "      <td>71.0000</td>\n",
       "      <td>22.0000</td>\n",
       "      <td>16.9000</td>\n",
       "      <td>21.8000</td>\n",
       "      <td>No</td>\n",
       "      <td>No</td>\n",
       "    </tr>\n",
       "    <tr>\n",
       "      <th>1</th>\n",
       "      <td>2008-12-02</td>\n",
       "      <td>Albury</td>\n",
       "      <td>7.4000</td>\n",
       "      <td>25.1000</td>\n",
       "      <td>0.0000</td>\n",
       "      <td>WNW</td>\n",
       "      <td>44.0000</td>\n",
       "      <td>WSW</td>\n",
       "      <td>4.0000</td>\n",
       "      <td>22.0000</td>\n",
       "      <td>44.0000</td>\n",
       "      <td>25.0000</td>\n",
       "      <td>17.2000</td>\n",
       "      <td>24.3000</td>\n",
       "      <td>No</td>\n",
       "      <td>No</td>\n",
       "    </tr>\n",
       "    <tr>\n",
       "      <th>2</th>\n",
       "      <td>2008-12-03</td>\n",
       "      <td>Albury</td>\n",
       "      <td>12.9000</td>\n",
       "      <td>25.7000</td>\n",
       "      <td>0.0000</td>\n",
       "      <td>WSW</td>\n",
       "      <td>46.0000</td>\n",
       "      <td>WSW</td>\n",
       "      <td>19.0000</td>\n",
       "      <td>26.0000</td>\n",
       "      <td>38.0000</td>\n",
       "      <td>30.0000</td>\n",
       "      <td>21.0000</td>\n",
       "      <td>23.2000</td>\n",
       "      <td>No</td>\n",
       "      <td>No</td>\n",
       "    </tr>\n",
       "    <tr>\n",
       "      <th>3</th>\n",
       "      <td>2008-12-04</td>\n",
       "      <td>Albury</td>\n",
       "      <td>9.2000</td>\n",
       "      <td>28.0000</td>\n",
       "      <td>0.0000</td>\n",
       "      <td>NE</td>\n",
       "      <td>24.0000</td>\n",
       "      <td>E</td>\n",
       "      <td>11.0000</td>\n",
       "      <td>9.0000</td>\n",
       "      <td>45.0000</td>\n",
       "      <td>16.0000</td>\n",
       "      <td>18.1000</td>\n",
       "      <td>26.5000</td>\n",
       "      <td>No</td>\n",
       "      <td>No</td>\n",
       "    </tr>\n",
       "    <tr>\n",
       "      <th>4</th>\n",
       "      <td>2008-12-05</td>\n",
       "      <td>Albury</td>\n",
       "      <td>17.5000</td>\n",
       "      <td>32.3000</td>\n",
       "      <td>1.0000</td>\n",
       "      <td>W</td>\n",
       "      <td>41.0000</td>\n",
       "      <td>NW</td>\n",
       "      <td>7.0000</td>\n",
       "      <td>20.0000</td>\n",
       "      <td>82.0000</td>\n",
       "      <td>33.0000</td>\n",
       "      <td>17.8000</td>\n",
       "      <td>29.7000</td>\n",
       "      <td>No</td>\n",
       "      <td>No</td>\n",
       "    </tr>\n",
       "  </tbody>\n",
       "</table>\n",
       "</div>"
      ],
      "text/plain": [
       "        Date Location  MinTemp  MaxTemp  Rainfall WindGustDir  WindGustSpeed  \\\n",
       "0 2008-12-01  Albury  13.4000  22.9000  0.6000     W          44.0000          \n",
       "1 2008-12-02  Albury  7.4000   25.1000  0.0000     WNW        44.0000          \n",
       "2 2008-12-03  Albury  12.9000  25.7000  0.0000     WSW        46.0000          \n",
       "3 2008-12-04  Albury  9.2000   28.0000  0.0000     NE         24.0000          \n",
       "4 2008-12-05  Albury  17.5000  32.3000  1.0000     W          41.0000          \n",
       "\n",
       "  WindDir3pm  WindSpeed9am  WindSpeed3pm  Humidity9am  Humidity3pm  Temp9am  \\\n",
       "0  WNW       20.0000       24.0000       71.0000      22.0000      16.9000    \n",
       "1  WSW       4.0000        22.0000       44.0000      25.0000      17.2000    \n",
       "2  WSW       19.0000       26.0000       38.0000      30.0000      21.0000    \n",
       "3  E         11.0000       9.0000        45.0000      16.0000      18.1000    \n",
       "4  NW        7.0000        20.0000       82.0000      33.0000      17.8000    \n",
       "\n",
       "   Temp3pm RainToday RainTomorrow  \n",
       "0 21.8000   No        No           \n",
       "1 24.3000   No        No           \n",
       "2 23.2000   No        No           \n",
       "3 26.5000   No        No           \n",
       "4 29.7000   No        No           "
      ]
     },
     "execution_count": 11,
     "metadata": {},
     "output_type": "execute_result"
    }
   ],
   "source": [
    "df.head()"
   ]
  },
  {
   "cell_type": "code",
   "execution_count": 12,
   "metadata": {},
   "outputs": [],
   "source": [
    "X = pd.get_dummies(df.drop(columns = 'RainTomorrow'))\n",
    "y = df['RainTomorrow']"
   ]
  },
  {
   "cell_type": "code",
   "execution_count": 13,
   "metadata": {},
   "outputs": [],
   "source": [
    "from sklearn.model_selection import train_test_split\n",
    "X_train, X_test, y_train, y_test = train_test_split(X, y, test_size = 0.3, random_state = 6789)"
   ]
  },
  {
   "cell_type": "code",
   "execution_count": 14,
   "metadata": {
    "scrolled": true
   },
   "outputs": [
    {
     "data": {
      "text/html": [
       "<div>\n",
       "<style scoped>\n",
       "    .dataframe tbody tr th:only-of-type {\n",
       "        vertical-align: middle;\n",
       "    }\n",
       "\n",
       "    .dataframe tbody tr th {\n",
       "        vertical-align: top;\n",
       "    }\n",
       "\n",
       "    .dataframe thead th {\n",
       "        text-align: right;\n",
       "    }\n",
       "</style>\n",
       "<table border=\"1\" class=\"dataframe\">\n",
       "  <thead>\n",
       "    <tr style=\"text-align: right;\">\n",
       "      <th></th>\n",
       "      <th>Date</th>\n",
       "      <th>MinTemp</th>\n",
       "      <th>MaxTemp</th>\n",
       "      <th>Rainfall</th>\n",
       "      <th>WindGustSpeed</th>\n",
       "      <th>WindSpeed9am</th>\n",
       "      <th>WindSpeed3pm</th>\n",
       "      <th>Humidity9am</th>\n",
       "      <th>Humidity3pm</th>\n",
       "      <th>Temp9am</th>\n",
       "      <th>Temp3pm</th>\n",
       "      <th>Location_Adelaide</th>\n",
       "      <th>Location_Albury</th>\n",
       "      <th>Location_AliceSprings</th>\n",
       "      <th>Location_BadgerysCreek</th>\n",
       "      <th>Location_Ballarat</th>\n",
       "      <th>Location_Bendigo</th>\n",
       "      <th>Location_Brisbane</th>\n",
       "      <th>Location_Cairns</th>\n",
       "      <th>Location_Canberra</th>\n",
       "      <th>Location_Cobar</th>\n",
       "      <th>Location_CoffsHarbour</th>\n",
       "      <th>Location_Dartmoor</th>\n",
       "      <th>Location_Darwin</th>\n",
       "      <th>Location_GoldCoast</th>\n",
       "      <th>Location_Hobart</th>\n",
       "      <th>Location_Katherine</th>\n",
       "      <th>Location_Launceston</th>\n",
       "      <th>Location_Melbourne</th>\n",
       "      <th>Location_MelbourneAirport</th>\n",
       "      <th>Location_Mildura</th>\n",
       "      <th>Location_Moree</th>\n",
       "      <th>Location_MountGambier</th>\n",
       "      <th>Location_MountGinini</th>\n",
       "      <th>Location_Nhil</th>\n",
       "      <th>Location_NorahHead</th>\n",
       "      <th>Location_NorfolkIsland</th>\n",
       "      <th>Location_Nuriootpa</th>\n",
       "      <th>Location_PearceRAAF</th>\n",
       "      <th>Location_Penrith</th>\n",
       "      <th>Location_Perth</th>\n",
       "      <th>Location_PerthAirport</th>\n",
       "      <th>Location_Portland</th>\n",
       "      <th>Location_Richmond</th>\n",
       "      <th>Location_Sale</th>\n",
       "      <th>Location_SalmonGums</th>\n",
       "      <th>Location_Sydney</th>\n",
       "      <th>Location_SydneyAirport</th>\n",
       "      <th>Location_Townsville</th>\n",
       "      <th>Location_Tuggeranong</th>\n",
       "      <th>Location_Uluru</th>\n",
       "      <th>Location_WaggaWagga</th>\n",
       "      <th>Location_Walpole</th>\n",
       "      <th>Location_Watsonia</th>\n",
       "      <th>Location_Williamtown</th>\n",
       "      <th>Location_Witchcliffe</th>\n",
       "      <th>Location_Wollongong</th>\n",
       "      <th>Location_Woomera</th>\n",
       "      <th>WindGustDir_E</th>\n",
       "      <th>WindGustDir_ENE</th>\n",
       "      <th>WindGustDir_ESE</th>\n",
       "      <th>WindGustDir_N</th>\n",
       "      <th>WindGustDir_NE</th>\n",
       "      <th>WindGustDir_NNE</th>\n",
       "      <th>WindGustDir_NNW</th>\n",
       "      <th>WindGustDir_NW</th>\n",
       "      <th>WindGustDir_S</th>\n",
       "      <th>WindGustDir_SE</th>\n",
       "      <th>WindGustDir_SSE</th>\n",
       "      <th>WindGustDir_SSW</th>\n",
       "      <th>WindGustDir_SW</th>\n",
       "      <th>WindGustDir_W</th>\n",
       "      <th>WindGustDir_WNW</th>\n",
       "      <th>WindGustDir_WSW</th>\n",
       "      <th>WindDir3pm_E</th>\n",
       "      <th>WindDir3pm_ENE</th>\n",
       "      <th>WindDir3pm_ESE</th>\n",
       "      <th>WindDir3pm_N</th>\n",
       "      <th>WindDir3pm_NE</th>\n",
       "      <th>WindDir3pm_NNE</th>\n",
       "      <th>WindDir3pm_NNW</th>\n",
       "      <th>WindDir3pm_NW</th>\n",
       "      <th>WindDir3pm_S</th>\n",
       "      <th>WindDir3pm_SE</th>\n",
       "      <th>WindDir3pm_SSE</th>\n",
       "      <th>WindDir3pm_SSW</th>\n",
       "      <th>WindDir3pm_SW</th>\n",
       "      <th>WindDir3pm_W</th>\n",
       "      <th>WindDir3pm_WNW</th>\n",
       "      <th>WindDir3pm_WSW</th>\n",
       "      <th>RainToday_No</th>\n",
       "      <th>RainToday_Yes</th>\n",
       "    </tr>\n",
       "  </thead>\n",
       "  <tbody>\n",
       "    <tr>\n",
       "      <th>9200</th>\n",
       "      <td>2009-10-02</td>\n",
       "      <td>16.0000</td>\n",
       "      <td>34.5000</td>\n",
       "      <td>0.0000</td>\n",
       "      <td>44.0000</td>\n",
       "      <td>19.0000</td>\n",
       "      <td>30.0000</td>\n",
       "      <td>30.0000</td>\n",
       "      <td>52.0000</td>\n",
       "      <td>28.7000</td>\n",
       "      <td>26.2000</td>\n",
       "      <td>0</td>\n",
       "      <td>0</td>\n",
       "      <td>0</td>\n",
       "      <td>0</td>\n",
       "      <td>0</td>\n",
       "      <td>0</td>\n",
       "      <td>0</td>\n",
       "      <td>0</td>\n",
       "      <td>0</td>\n",
       "      <td>0</td>\n",
       "      <td>1</td>\n",
       "      <td>0</td>\n",
       "      <td>0</td>\n",
       "      <td>0</td>\n",
       "      <td>0</td>\n",
       "      <td>0</td>\n",
       "      <td>0</td>\n",
       "      <td>0</td>\n",
       "      <td>0</td>\n",
       "      <td>0</td>\n",
       "      <td>0</td>\n",
       "      <td>0</td>\n",
       "      <td>0</td>\n",
       "      <td>0</td>\n",
       "      <td>0</td>\n",
       "      <td>0</td>\n",
       "      <td>0</td>\n",
       "      <td>0</td>\n",
       "      <td>0</td>\n",
       "      <td>0</td>\n",
       "      <td>0</td>\n",
       "      <td>0</td>\n",
       "      <td>0</td>\n",
       "      <td>0</td>\n",
       "      <td>0</td>\n",
       "      <td>0</td>\n",
       "      <td>0</td>\n",
       "      <td>0</td>\n",
       "      <td>0</td>\n",
       "      <td>0</td>\n",
       "      <td>0</td>\n",
       "      <td>0</td>\n",
       "      <td>0</td>\n",
       "      <td>0</td>\n",
       "      <td>0</td>\n",
       "      <td>0</td>\n",
       "      <td>0</td>\n",
       "      <td>0</td>\n",
       "      <td>0</td>\n",
       "      <td>0</td>\n",
       "      <td>0</td>\n",
       "      <td>0</td>\n",
       "      <td>0</td>\n",
       "      <td>0</td>\n",
       "      <td>0</td>\n",
       "      <td>0</td>\n",
       "      <td>0</td>\n",
       "      <td>0</td>\n",
       "      <td>0</td>\n",
       "      <td>1</td>\n",
       "      <td>0</td>\n",
       "      <td>0</td>\n",
       "      <td>0</td>\n",
       "      <td>0</td>\n",
       "      <td>0</td>\n",
       "      <td>0</td>\n",
       "      <td>0</td>\n",
       "      <td>1</td>\n",
       "      <td>0</td>\n",
       "      <td>0</td>\n",
       "      <td>0</td>\n",
       "      <td>0</td>\n",
       "      <td>0</td>\n",
       "      <td>0</td>\n",
       "      <td>0</td>\n",
       "      <td>0</td>\n",
       "      <td>0</td>\n",
       "      <td>0</td>\n",
       "      <td>0</td>\n",
       "      <td>1</td>\n",
       "      <td>0</td>\n",
       "    </tr>\n",
       "    <tr>\n",
       "      <th>139668</th>\n",
       "      <td>2014-09-12</td>\n",
       "      <td>18.3000</td>\n",
       "      <td>37.1000</td>\n",
       "      <td>0.0000</td>\n",
       "      <td>39.0000</td>\n",
       "      <td>7.0000</td>\n",
       "      <td>20.0000</td>\n",
       "      <td>50.0000</td>\n",
       "      <td>22.0000</td>\n",
       "      <td>27.5000</td>\n",
       "      <td>36.4000</td>\n",
       "      <td>0</td>\n",
       "      <td>0</td>\n",
       "      <td>0</td>\n",
       "      <td>0</td>\n",
       "      <td>0</td>\n",
       "      <td>0</td>\n",
       "      <td>0</td>\n",
       "      <td>0</td>\n",
       "      <td>0</td>\n",
       "      <td>0</td>\n",
       "      <td>0</td>\n",
       "      <td>0</td>\n",
       "      <td>0</td>\n",
       "      <td>0</td>\n",
       "      <td>0</td>\n",
       "      <td>1</td>\n",
       "      <td>0</td>\n",
       "      <td>0</td>\n",
       "      <td>0</td>\n",
       "      <td>0</td>\n",
       "      <td>0</td>\n",
       "      <td>0</td>\n",
       "      <td>0</td>\n",
       "      <td>0</td>\n",
       "      <td>0</td>\n",
       "      <td>0</td>\n",
       "      <td>0</td>\n",
       "      <td>0</td>\n",
       "      <td>0</td>\n",
       "      <td>0</td>\n",
       "      <td>0</td>\n",
       "      <td>0</td>\n",
       "      <td>0</td>\n",
       "      <td>0</td>\n",
       "      <td>0</td>\n",
       "      <td>0</td>\n",
       "      <td>0</td>\n",
       "      <td>0</td>\n",
       "      <td>0</td>\n",
       "      <td>0</td>\n",
       "      <td>0</td>\n",
       "      <td>0</td>\n",
       "      <td>0</td>\n",
       "      <td>0</td>\n",
       "      <td>0</td>\n",
       "      <td>0</td>\n",
       "      <td>0</td>\n",
       "      <td>0</td>\n",
       "      <td>0</td>\n",
       "      <td>1</td>\n",
       "      <td>0</td>\n",
       "      <td>0</td>\n",
       "      <td>0</td>\n",
       "      <td>0</td>\n",
       "      <td>0</td>\n",
       "      <td>0</td>\n",
       "      <td>0</td>\n",
       "      <td>0</td>\n",
       "      <td>0</td>\n",
       "      <td>0</td>\n",
       "      <td>0</td>\n",
       "      <td>0</td>\n",
       "      <td>0</td>\n",
       "      <td>0</td>\n",
       "      <td>0</td>\n",
       "      <td>0</td>\n",
       "      <td>0</td>\n",
       "      <td>0</td>\n",
       "      <td>0</td>\n",
       "      <td>0</td>\n",
       "      <td>0</td>\n",
       "      <td>0</td>\n",
       "      <td>1</td>\n",
       "      <td>0</td>\n",
       "      <td>0</td>\n",
       "      <td>0</td>\n",
       "      <td>0</td>\n",
       "      <td>0</td>\n",
       "      <td>0</td>\n",
       "      <td>1</td>\n",
       "      <td>0</td>\n",
       "    </tr>\n",
       "    <tr>\n",
       "      <th>69991</th>\n",
       "      <td>2014-03-17</td>\n",
       "      <td>15.7000</td>\n",
       "      <td>28.4000</td>\n",
       "      <td>0.0000</td>\n",
       "      <td>41.0000</td>\n",
       "      <td>15.0000</td>\n",
       "      <td>24.0000</td>\n",
       "      <td>51.0000</td>\n",
       "      <td>34.0000</td>\n",
       "      <td>19.6000</td>\n",
       "      <td>27.9000</td>\n",
       "      <td>0</td>\n",
       "      <td>0</td>\n",
       "      <td>0</td>\n",
       "      <td>0</td>\n",
       "      <td>0</td>\n",
       "      <td>0</td>\n",
       "      <td>0</td>\n",
       "      <td>0</td>\n",
       "      <td>0</td>\n",
       "      <td>0</td>\n",
       "      <td>0</td>\n",
       "      <td>0</td>\n",
       "      <td>0</td>\n",
       "      <td>0</td>\n",
       "      <td>0</td>\n",
       "      <td>0</td>\n",
       "      <td>0</td>\n",
       "      <td>0</td>\n",
       "      <td>0</td>\n",
       "      <td>1</td>\n",
       "      <td>0</td>\n",
       "      <td>0</td>\n",
       "      <td>0</td>\n",
       "      <td>0</td>\n",
       "      <td>0</td>\n",
       "      <td>0</td>\n",
       "      <td>0</td>\n",
       "      <td>0</td>\n",
       "      <td>0</td>\n",
       "      <td>0</td>\n",
       "      <td>0</td>\n",
       "      <td>0</td>\n",
       "      <td>0</td>\n",
       "      <td>0</td>\n",
       "      <td>0</td>\n",
       "      <td>0</td>\n",
       "      <td>0</td>\n",
       "      <td>0</td>\n",
       "      <td>0</td>\n",
       "      <td>0</td>\n",
       "      <td>0</td>\n",
       "      <td>0</td>\n",
       "      <td>0</td>\n",
       "      <td>0</td>\n",
       "      <td>0</td>\n",
       "      <td>0</td>\n",
       "      <td>0</td>\n",
       "      <td>0</td>\n",
       "      <td>0</td>\n",
       "      <td>0</td>\n",
       "      <td>0</td>\n",
       "      <td>0</td>\n",
       "      <td>0</td>\n",
       "      <td>0</td>\n",
       "      <td>0</td>\n",
       "      <td>0</td>\n",
       "      <td>0</td>\n",
       "      <td>0</td>\n",
       "      <td>0</td>\n",
       "      <td>0</td>\n",
       "      <td>0</td>\n",
       "      <td>1</td>\n",
       "      <td>0</td>\n",
       "      <td>0</td>\n",
       "      <td>0</td>\n",
       "      <td>0</td>\n",
       "      <td>0</td>\n",
       "      <td>0</td>\n",
       "      <td>0</td>\n",
       "      <td>0</td>\n",
       "      <td>0</td>\n",
       "      <td>0</td>\n",
       "      <td>0</td>\n",
       "      <td>0</td>\n",
       "      <td>0</td>\n",
       "      <td>0</td>\n",
       "      <td>0</td>\n",
       "      <td>1</td>\n",
       "      <td>0</td>\n",
       "      <td>1</td>\n",
       "      <td>0</td>\n",
       "    </tr>\n",
       "    <tr>\n",
       "      <th>59475</th>\n",
       "      <td>2016-10-04</td>\n",
       "      <td>7.8000</td>\n",
       "      <td>15.5000</td>\n",
       "      <td>6.2000</td>\n",
       "      <td>83.0000</td>\n",
       "      <td>24.0000</td>\n",
       "      <td>33.0000</td>\n",
       "      <td>94.0000</td>\n",
       "      <td>62.0000</td>\n",
       "      <td>9.4000</td>\n",
       "      <td>13.2000</td>\n",
       "      <td>0</td>\n",
       "      <td>0</td>\n",
       "      <td>0</td>\n",
       "      <td>0</td>\n",
       "      <td>0</td>\n",
       "      <td>1</td>\n",
       "      <td>0</td>\n",
       "      <td>0</td>\n",
       "      <td>0</td>\n",
       "      <td>0</td>\n",
       "      <td>0</td>\n",
       "      <td>0</td>\n",
       "      <td>0</td>\n",
       "      <td>0</td>\n",
       "      <td>0</td>\n",
       "      <td>0</td>\n",
       "      <td>0</td>\n",
       "      <td>0</td>\n",
       "      <td>0</td>\n",
       "      <td>0</td>\n",
       "      <td>0</td>\n",
       "      <td>0</td>\n",
       "      <td>0</td>\n",
       "      <td>0</td>\n",
       "      <td>0</td>\n",
       "      <td>0</td>\n",
       "      <td>0</td>\n",
       "      <td>0</td>\n",
       "      <td>0</td>\n",
       "      <td>0</td>\n",
       "      <td>0</td>\n",
       "      <td>0</td>\n",
       "      <td>0</td>\n",
       "      <td>0</td>\n",
       "      <td>0</td>\n",
       "      <td>0</td>\n",
       "      <td>0</td>\n",
       "      <td>0</td>\n",
       "      <td>0</td>\n",
       "      <td>0</td>\n",
       "      <td>0</td>\n",
       "      <td>0</td>\n",
       "      <td>0</td>\n",
       "      <td>0</td>\n",
       "      <td>0</td>\n",
       "      <td>0</td>\n",
       "      <td>0</td>\n",
       "      <td>0</td>\n",
       "      <td>0</td>\n",
       "      <td>0</td>\n",
       "      <td>0</td>\n",
       "      <td>0</td>\n",
       "      <td>0</td>\n",
       "      <td>0</td>\n",
       "      <td>0</td>\n",
       "      <td>0</td>\n",
       "      <td>0</td>\n",
       "      <td>0</td>\n",
       "      <td>0</td>\n",
       "      <td>0</td>\n",
       "      <td>1</td>\n",
       "      <td>0</td>\n",
       "      <td>0</td>\n",
       "      <td>0</td>\n",
       "      <td>0</td>\n",
       "      <td>0</td>\n",
       "      <td>0</td>\n",
       "      <td>0</td>\n",
       "      <td>0</td>\n",
       "      <td>0</td>\n",
       "      <td>0</td>\n",
       "      <td>0</td>\n",
       "      <td>0</td>\n",
       "      <td>0</td>\n",
       "      <td>0</td>\n",
       "      <td>0</td>\n",
       "      <td>1</td>\n",
       "      <td>0</td>\n",
       "      <td>0</td>\n",
       "      <td>0</td>\n",
       "      <td>1</td>\n",
       "    </tr>\n",
       "    <tr>\n",
       "      <th>31748</th>\n",
       "      <td>2014-07-02</td>\n",
       "      <td>7.4000</td>\n",
       "      <td>20.2000</td>\n",
       "      <td>0.0000</td>\n",
       "      <td>37.0000</td>\n",
       "      <td>28.0000</td>\n",
       "      <td>13.0000</td>\n",
       "      <td>67.0000</td>\n",
       "      <td>36.0000</td>\n",
       "      <td>9.6000</td>\n",
       "      <td>19.2000</td>\n",
       "      <td>0</td>\n",
       "      <td>0</td>\n",
       "      <td>0</td>\n",
       "      <td>0</td>\n",
       "      <td>0</td>\n",
       "      <td>0</td>\n",
       "      <td>0</td>\n",
       "      <td>0</td>\n",
       "      <td>0</td>\n",
       "      <td>0</td>\n",
       "      <td>0</td>\n",
       "      <td>0</td>\n",
       "      <td>0</td>\n",
       "      <td>0</td>\n",
       "      <td>0</td>\n",
       "      <td>0</td>\n",
       "      <td>0</td>\n",
       "      <td>0</td>\n",
       "      <td>0</td>\n",
       "      <td>0</td>\n",
       "      <td>0</td>\n",
       "      <td>0</td>\n",
       "      <td>0</td>\n",
       "      <td>0</td>\n",
       "      <td>0</td>\n",
       "      <td>0</td>\n",
       "      <td>0</td>\n",
       "      <td>0</td>\n",
       "      <td>0</td>\n",
       "      <td>0</td>\n",
       "      <td>0</td>\n",
       "      <td>0</td>\n",
       "      <td>0</td>\n",
       "      <td>0</td>\n",
       "      <td>0</td>\n",
       "      <td>1</td>\n",
       "      <td>0</td>\n",
       "      <td>0</td>\n",
       "      <td>0</td>\n",
       "      <td>0</td>\n",
       "      <td>0</td>\n",
       "      <td>0</td>\n",
       "      <td>0</td>\n",
       "      <td>0</td>\n",
       "      <td>0</td>\n",
       "      <td>0</td>\n",
       "      <td>0</td>\n",
       "      <td>0</td>\n",
       "      <td>0</td>\n",
       "      <td>0</td>\n",
       "      <td>0</td>\n",
       "      <td>0</td>\n",
       "      <td>0</td>\n",
       "      <td>0</td>\n",
       "      <td>0</td>\n",
       "      <td>0</td>\n",
       "      <td>0</td>\n",
       "      <td>0</td>\n",
       "      <td>0</td>\n",
       "      <td>0</td>\n",
       "      <td>1</td>\n",
       "      <td>0</td>\n",
       "      <td>0</td>\n",
       "      <td>0</td>\n",
       "      <td>0</td>\n",
       "      <td>0</td>\n",
       "      <td>0</td>\n",
       "      <td>0</td>\n",
       "      <td>0</td>\n",
       "      <td>0</td>\n",
       "      <td>0</td>\n",
       "      <td>0</td>\n",
       "      <td>0</td>\n",
       "      <td>1</td>\n",
       "      <td>0</td>\n",
       "      <td>0</td>\n",
       "      <td>0</td>\n",
       "      <td>0</td>\n",
       "      <td>0</td>\n",
       "      <td>1</td>\n",
       "      <td>0</td>\n",
       "    </tr>\n",
       "  </tbody>\n",
       "</table>\n",
       "</div>"
      ],
      "text/plain": [
       "             Date  MinTemp  MaxTemp  Rainfall  WindGustSpeed  WindSpeed9am  \\\n",
       "9200   2009-10-02 16.0000  34.5000  0.0000    44.0000        19.0000         \n",
       "139668 2014-09-12 18.3000  37.1000  0.0000    39.0000        7.0000          \n",
       "69991  2014-03-17 15.7000  28.4000  0.0000    41.0000        15.0000         \n",
       "59475  2016-10-04 7.8000   15.5000  6.2000    83.0000        24.0000         \n",
       "31748  2014-07-02 7.4000   20.2000  0.0000    37.0000        28.0000         \n",
       "\n",
       "        WindSpeed3pm  Humidity9am  Humidity3pm  Temp9am  Temp3pm  \\\n",
       "9200   30.0000       30.0000      52.0000      28.7000  26.2000    \n",
       "139668 20.0000       50.0000      22.0000      27.5000  36.4000    \n",
       "69991  24.0000       51.0000      34.0000      19.6000  27.9000    \n",
       "59475  33.0000       94.0000      62.0000      9.4000   13.2000    \n",
       "31748  13.0000       67.0000      36.0000      9.6000   19.2000    \n",
       "\n",
       "        Location_Adelaide  Location_Albury  Location_AliceSprings  \\\n",
       "9200    0                  0                0                       \n",
       "139668  0                  0                0                       \n",
       "69991   0                  0                0                       \n",
       "59475   0                  0                0                       \n",
       "31748   0                  0                0                       \n",
       "\n",
       "        Location_BadgerysCreek  Location_Ballarat  Location_Bendigo  \\\n",
       "9200    0                       0                  0                  \n",
       "139668  0                       0                  0                  \n",
       "69991   0                       0                  0                  \n",
       "59475   0                       0                  1                  \n",
       "31748   0                       0                  0                  \n",
       "\n",
       "        Location_Brisbane  Location_Cairns  Location_Canberra  Location_Cobar  \\\n",
       "9200    0                  0                0                  0                \n",
       "139668  0                  0                0                  0                \n",
       "69991   0                  0                0                  0                \n",
       "59475   0                  0                0                  0                \n",
       "31748   0                  0                0                  0                \n",
       "\n",
       "        Location_CoffsHarbour  Location_Dartmoor  Location_Darwin  \\\n",
       "9200    1                      0                  0                 \n",
       "139668  0                      0                  0                 \n",
       "69991   0                      0                  0                 \n",
       "59475   0                      0                  0                 \n",
       "31748   0                      0                  0                 \n",
       "\n",
       "        Location_GoldCoast  Location_Hobart  Location_Katherine  \\\n",
       "9200    0                   0                0                    \n",
       "139668  0                   0                1                    \n",
       "69991   0                   0                0                    \n",
       "59475   0                   0                0                    \n",
       "31748   0                   0                0                    \n",
       "\n",
       "        Location_Launceston  Location_Melbourne  Location_MelbourneAirport  \\\n",
       "9200    0                    0                   0                           \n",
       "139668  0                    0                   0                           \n",
       "69991   0                    0                   0                           \n",
       "59475   0                    0                   0                           \n",
       "31748   0                    0                   0                           \n",
       "\n",
       "        Location_Mildura  Location_Moree  Location_MountGambier  \\\n",
       "9200    0                 0               0                       \n",
       "139668  0                 0               0                       \n",
       "69991   1                 0               0                       \n",
       "59475   0                 0               0                       \n",
       "31748   0                 0               0                       \n",
       "\n",
       "        Location_MountGinini  Location_Nhil  Location_NorahHead  \\\n",
       "9200    0                     0              0                    \n",
       "139668  0                     0              0                    \n",
       "69991   0                     0              0                    \n",
       "59475   0                     0              0                    \n",
       "31748   0                     0              0                    \n",
       "\n",
       "        Location_NorfolkIsland  Location_Nuriootpa  Location_PearceRAAF  \\\n",
       "9200    0                       0                   0                     \n",
       "139668  0                       0                   0                     \n",
       "69991   0                       0                   0                     \n",
       "59475   0                       0                   0                     \n",
       "31748   0                       0                   0                     \n",
       "\n",
       "        Location_Penrith  Location_Perth  Location_PerthAirport  \\\n",
       "9200    0                 0               0                       \n",
       "139668  0                 0               0                       \n",
       "69991   0                 0               0                       \n",
       "59475   0                 0               0                       \n",
       "31748   0                 0               0                       \n",
       "\n",
       "        Location_Portland  Location_Richmond  Location_Sale  \\\n",
       "9200    0                  0                  0               \n",
       "139668  0                  0                  0               \n",
       "69991   0                  0                  0               \n",
       "59475   0                  0                  0               \n",
       "31748   0                  0                  0               \n",
       "\n",
       "        Location_SalmonGums  Location_Sydney  Location_SydneyAirport  \\\n",
       "9200    0                    0                0                        \n",
       "139668  0                    0                0                        \n",
       "69991   0                    0                0                        \n",
       "59475   0                    0                0                        \n",
       "31748   0                    1                0                        \n",
       "\n",
       "        Location_Townsville  Location_Tuggeranong  Location_Uluru  \\\n",
       "9200    0                    0                     0                \n",
       "139668  0                    0                     0                \n",
       "69991   0                    0                     0                \n",
       "59475   0                    0                     0                \n",
       "31748   0                    0                     0                \n",
       "\n",
       "        Location_WaggaWagga  Location_Walpole  Location_Watsonia  \\\n",
       "9200    0                    0                 0                   \n",
       "139668  0                    0                 0                   \n",
       "69991   0                    0                 0                   \n",
       "59475   0                    0                 0                   \n",
       "31748   0                    0                 0                   \n",
       "\n",
       "        Location_Williamtown  Location_Witchcliffe  Location_Wollongong  \\\n",
       "9200    0                     0                     0                     \n",
       "139668  0                     0                     0                     \n",
       "69991   0                     0                     0                     \n",
       "59475   0                     0                     0                     \n",
       "31748   0                     0                     0                     \n",
       "\n",
       "        Location_Woomera  WindGustDir_E  WindGustDir_ENE  WindGustDir_ESE  \\\n",
       "9200    0                 0              0                0                 \n",
       "139668  0                 0              0                1                 \n",
       "69991   0                 0              0                0                 \n",
       "59475   0                 0              0                0                 \n",
       "31748   0                 0              0                0                 \n",
       "\n",
       "        WindGustDir_N  WindGustDir_NE  WindGustDir_NNE  WindGustDir_NNW  \\\n",
       "9200    0              0               0                0                 \n",
       "139668  0              0               0                0                 \n",
       "69991   0              0               0                0                 \n",
       "59475   0              0               0                0                 \n",
       "31748   0              0               0                0                 \n",
       "\n",
       "        WindGustDir_NW  WindGustDir_S  WindGustDir_SE  WindGustDir_SSE  \\\n",
       "9200    0               0              0               0                 \n",
       "139668  0               0              0               0                 \n",
       "69991   0               0              0               0                 \n",
       "59475   0               0              0               0                 \n",
       "31748   0               0              0               0                 \n",
       "\n",
       "        WindGustDir_SSW  WindGustDir_SW  WindGustDir_W  WindGustDir_WNW  \\\n",
       "9200    0                1               0              0                 \n",
       "139668  0                0               0              0                 \n",
       "69991   0                0               0              1                 \n",
       "59475   0                0               1              0                 \n",
       "31748   0                0               1              0                 \n",
       "\n",
       "        WindGustDir_WSW  WindDir3pm_E  WindDir3pm_ENE  WindDir3pm_ESE  \\\n",
       "9200    0                0             0               0                \n",
       "139668  0                0             0               0                \n",
       "69991   0                0             0               0                \n",
       "59475   0                0             0               0                \n",
       "31748   0                0             0               0                \n",
       "\n",
       "        WindDir3pm_N  WindDir3pm_NE  WindDir3pm_NNE  WindDir3pm_NNW  \\\n",
       "9200    0             1              0               0                \n",
       "139668  0             0              0               0                \n",
       "69991   0             0              0               0                \n",
       "59475   0             0              0               0                \n",
       "31748   0             0              0               0                \n",
       "\n",
       "        WindDir3pm_NW  WindDir3pm_S  WindDir3pm_SE  WindDir3pm_SSE  \\\n",
       "9200    0              0             0              0                \n",
       "139668  0              0             1              0                \n",
       "69991   0              0             0              0                \n",
       "59475   0              0             0              0                \n",
       "31748   0              0             0              1                \n",
       "\n",
       "        WindDir3pm_SSW  WindDir3pm_SW  WindDir3pm_W  WindDir3pm_WNW  \\\n",
       "9200    0               0              0             0                \n",
       "139668  0               0              0             0                \n",
       "69991   0               0              0             1                \n",
       "59475   0               0              1             0                \n",
       "31748   0               0              0             0                \n",
       "\n",
       "        WindDir3pm_WSW  RainToday_No  RainToday_Yes  \n",
       "9200    0               1             0              \n",
       "139668  0               1             0              \n",
       "69991   0               1             0              \n",
       "59475   0               0             1              \n",
       "31748   0               1             0              "
      ]
     },
     "execution_count": 14,
     "metadata": {},
     "output_type": "execute_result"
    }
   ],
   "source": [
    "X_train.head()"
   ]
  },
  {
   "cell_type": "code",
   "execution_count": 15,
   "metadata": {},
   "outputs": [
    {
     "data": {
      "text/html": [
       "<div>\n",
       "<style scoped>\n",
       "    .dataframe tbody tr th:only-of-type {\n",
       "        vertical-align: middle;\n",
       "    }\n",
       "\n",
       "    .dataframe tbody tr th {\n",
       "        vertical-align: top;\n",
       "    }\n",
       "\n",
       "    .dataframe thead th {\n",
       "        text-align: right;\n",
       "    }\n",
       "</style>\n",
       "<table border=\"1\" class=\"dataframe\">\n",
       "  <thead>\n",
       "    <tr style=\"text-align: right;\">\n",
       "      <th></th>\n",
       "      <th>Date</th>\n",
       "      <th>MinTemp</th>\n",
       "      <th>MaxTemp</th>\n",
       "      <th>Rainfall</th>\n",
       "      <th>WindGustSpeed</th>\n",
       "      <th>WindSpeed9am</th>\n",
       "      <th>WindSpeed3pm</th>\n",
       "      <th>Humidity9am</th>\n",
       "      <th>Humidity3pm</th>\n",
       "      <th>Temp9am</th>\n",
       "      <th>Temp3pm</th>\n",
       "      <th>Location_Adelaide</th>\n",
       "      <th>Location_Albury</th>\n",
       "      <th>Location_AliceSprings</th>\n",
       "      <th>Location_BadgerysCreek</th>\n",
       "      <th>Location_Ballarat</th>\n",
       "      <th>Location_Bendigo</th>\n",
       "      <th>Location_Brisbane</th>\n",
       "      <th>Location_Cairns</th>\n",
       "      <th>Location_Canberra</th>\n",
       "      <th>Location_Cobar</th>\n",
       "      <th>Location_CoffsHarbour</th>\n",
       "      <th>Location_Dartmoor</th>\n",
       "      <th>Location_Darwin</th>\n",
       "      <th>Location_GoldCoast</th>\n",
       "      <th>Location_Hobart</th>\n",
       "      <th>Location_Katherine</th>\n",
       "      <th>Location_Launceston</th>\n",
       "      <th>Location_Melbourne</th>\n",
       "      <th>Location_MelbourneAirport</th>\n",
       "      <th>Location_Mildura</th>\n",
       "      <th>Location_Moree</th>\n",
       "      <th>Location_MountGambier</th>\n",
       "      <th>Location_MountGinini</th>\n",
       "      <th>Location_Nhil</th>\n",
       "      <th>Location_NorahHead</th>\n",
       "      <th>Location_NorfolkIsland</th>\n",
       "      <th>Location_Nuriootpa</th>\n",
       "      <th>Location_PearceRAAF</th>\n",
       "      <th>Location_Penrith</th>\n",
       "      <th>Location_Perth</th>\n",
       "      <th>Location_PerthAirport</th>\n",
       "      <th>Location_Portland</th>\n",
       "      <th>Location_Richmond</th>\n",
       "      <th>Location_Sale</th>\n",
       "      <th>Location_SalmonGums</th>\n",
       "      <th>Location_Sydney</th>\n",
       "      <th>Location_SydneyAirport</th>\n",
       "      <th>Location_Townsville</th>\n",
       "      <th>Location_Tuggeranong</th>\n",
       "      <th>Location_Uluru</th>\n",
       "      <th>Location_WaggaWagga</th>\n",
       "      <th>Location_Walpole</th>\n",
       "      <th>Location_Watsonia</th>\n",
       "      <th>Location_Williamtown</th>\n",
       "      <th>Location_Witchcliffe</th>\n",
       "      <th>Location_Wollongong</th>\n",
       "      <th>Location_Woomera</th>\n",
       "      <th>WindGustDir_E</th>\n",
       "      <th>WindGustDir_ENE</th>\n",
       "      <th>WindGustDir_ESE</th>\n",
       "      <th>WindGustDir_N</th>\n",
       "      <th>WindGustDir_NE</th>\n",
       "      <th>WindGustDir_NNE</th>\n",
       "      <th>WindGustDir_NNW</th>\n",
       "      <th>WindGustDir_NW</th>\n",
       "      <th>WindGustDir_S</th>\n",
       "      <th>WindGustDir_SE</th>\n",
       "      <th>WindGustDir_SSE</th>\n",
       "      <th>WindGustDir_SSW</th>\n",
       "      <th>WindGustDir_SW</th>\n",
       "      <th>WindGustDir_W</th>\n",
       "      <th>WindGustDir_WNW</th>\n",
       "      <th>WindGustDir_WSW</th>\n",
       "      <th>WindDir3pm_E</th>\n",
       "      <th>WindDir3pm_ENE</th>\n",
       "      <th>WindDir3pm_ESE</th>\n",
       "      <th>WindDir3pm_N</th>\n",
       "      <th>WindDir3pm_NE</th>\n",
       "      <th>WindDir3pm_NNE</th>\n",
       "      <th>WindDir3pm_NNW</th>\n",
       "      <th>WindDir3pm_NW</th>\n",
       "      <th>WindDir3pm_S</th>\n",
       "      <th>WindDir3pm_SE</th>\n",
       "      <th>WindDir3pm_SSE</th>\n",
       "      <th>WindDir3pm_SSW</th>\n",
       "      <th>WindDir3pm_SW</th>\n",
       "      <th>WindDir3pm_W</th>\n",
       "      <th>WindDir3pm_WNW</th>\n",
       "      <th>WindDir3pm_WSW</th>\n",
       "      <th>RainToday_No</th>\n",
       "      <th>RainToday_Yes</th>\n",
       "    </tr>\n",
       "  </thead>\n",
       "  <tbody>\n",
       "    <tr>\n",
       "      <th>86203</th>\n",
       "      <td>2012-09-10</td>\n",
       "      <td>17.1000</td>\n",
       "      <td>28.0000</td>\n",
       "      <td>0.4000</td>\n",
       "      <td>50.0000</td>\n",
       "      <td>17.0000</td>\n",
       "      <td>28.0000</td>\n",
       "      <td>59.0000</td>\n",
       "      <td>48.0000</td>\n",
       "      <td>22.6000</td>\n",
       "      <td>26.8000</td>\n",
       "      <td>0</td>\n",
       "      <td>0</td>\n",
       "      <td>0</td>\n",
       "      <td>0</td>\n",
       "      <td>0</td>\n",
       "      <td>0</td>\n",
       "      <td>0</td>\n",
       "      <td>1</td>\n",
       "      <td>0</td>\n",
       "      <td>0</td>\n",
       "      <td>0</td>\n",
       "      <td>0</td>\n",
       "      <td>0</td>\n",
       "      <td>0</td>\n",
       "      <td>0</td>\n",
       "      <td>0</td>\n",
       "      <td>0</td>\n",
       "      <td>0</td>\n",
       "      <td>0</td>\n",
       "      <td>0</td>\n",
       "      <td>0</td>\n",
       "      <td>0</td>\n",
       "      <td>0</td>\n",
       "      <td>0</td>\n",
       "      <td>0</td>\n",
       "      <td>0</td>\n",
       "      <td>0</td>\n",
       "      <td>0</td>\n",
       "      <td>0</td>\n",
       "      <td>0</td>\n",
       "      <td>0</td>\n",
       "      <td>0</td>\n",
       "      <td>0</td>\n",
       "      <td>0</td>\n",
       "      <td>0</td>\n",
       "      <td>0</td>\n",
       "      <td>0</td>\n",
       "      <td>0</td>\n",
       "      <td>0</td>\n",
       "      <td>0</td>\n",
       "      <td>0</td>\n",
       "      <td>0</td>\n",
       "      <td>0</td>\n",
       "      <td>0</td>\n",
       "      <td>0</td>\n",
       "      <td>0</td>\n",
       "      <td>0</td>\n",
       "      <td>0</td>\n",
       "      <td>0</td>\n",
       "      <td>0</td>\n",
       "      <td>0</td>\n",
       "      <td>0</td>\n",
       "      <td>0</td>\n",
       "      <td>0</td>\n",
       "      <td>0</td>\n",
       "      <td>0</td>\n",
       "      <td>1</td>\n",
       "      <td>0</td>\n",
       "      <td>0</td>\n",
       "      <td>0</td>\n",
       "      <td>0</td>\n",
       "      <td>0</td>\n",
       "      <td>0</td>\n",
       "      <td>0</td>\n",
       "      <td>0</td>\n",
       "      <td>0</td>\n",
       "      <td>0</td>\n",
       "      <td>0</td>\n",
       "      <td>0</td>\n",
       "      <td>0</td>\n",
       "      <td>0</td>\n",
       "      <td>0</td>\n",
       "      <td>1</td>\n",
       "      <td>0</td>\n",
       "      <td>0</td>\n",
       "      <td>0</td>\n",
       "      <td>0</td>\n",
       "      <td>0</td>\n",
       "      <td>0</td>\n",
       "      <td>1</td>\n",
       "      <td>0</td>\n",
       "    </tr>\n",
       "    <tr>\n",
       "      <th>131377</th>\n",
       "      <td>2013-04-25</td>\n",
       "      <td>1.3000</td>\n",
       "      <td>17.1000</td>\n",
       "      <td>0.0000</td>\n",
       "      <td>50.0000</td>\n",
       "      <td>6.0000</td>\n",
       "      <td>26.0000</td>\n",
       "      <td>85.0000</td>\n",
       "      <td>78.0000</td>\n",
       "      <td>10.2000</td>\n",
       "      <td>16.2000</td>\n",
       "      <td>0</td>\n",
       "      <td>0</td>\n",
       "      <td>0</td>\n",
       "      <td>0</td>\n",
       "      <td>0</td>\n",
       "      <td>0</td>\n",
       "      <td>0</td>\n",
       "      <td>0</td>\n",
       "      <td>0</td>\n",
       "      <td>0</td>\n",
       "      <td>0</td>\n",
       "      <td>0</td>\n",
       "      <td>0</td>\n",
       "      <td>0</td>\n",
       "      <td>0</td>\n",
       "      <td>0</td>\n",
       "      <td>1</td>\n",
       "      <td>0</td>\n",
       "      <td>0</td>\n",
       "      <td>0</td>\n",
       "      <td>0</td>\n",
       "      <td>0</td>\n",
       "      <td>0</td>\n",
       "      <td>0</td>\n",
       "      <td>0</td>\n",
       "      <td>0</td>\n",
       "      <td>0</td>\n",
       "      <td>0</td>\n",
       "      <td>0</td>\n",
       "      <td>0</td>\n",
       "      <td>0</td>\n",
       "      <td>0</td>\n",
       "      <td>0</td>\n",
       "      <td>0</td>\n",
       "      <td>0</td>\n",
       "      <td>0</td>\n",
       "      <td>0</td>\n",
       "      <td>0</td>\n",
       "      <td>0</td>\n",
       "      <td>0</td>\n",
       "      <td>0</td>\n",
       "      <td>0</td>\n",
       "      <td>0</td>\n",
       "      <td>0</td>\n",
       "      <td>0</td>\n",
       "      <td>0</td>\n",
       "      <td>0</td>\n",
       "      <td>0</td>\n",
       "      <td>0</td>\n",
       "      <td>0</td>\n",
       "      <td>0</td>\n",
       "      <td>0</td>\n",
       "      <td>0</td>\n",
       "      <td>1</td>\n",
       "      <td>0</td>\n",
       "      <td>0</td>\n",
       "      <td>0</td>\n",
       "      <td>0</td>\n",
       "      <td>0</td>\n",
       "      <td>0</td>\n",
       "      <td>0</td>\n",
       "      <td>0</td>\n",
       "      <td>0</td>\n",
       "      <td>0</td>\n",
       "      <td>0</td>\n",
       "      <td>0</td>\n",
       "      <td>0</td>\n",
       "      <td>0</td>\n",
       "      <td>0</td>\n",
       "      <td>1</td>\n",
       "      <td>0</td>\n",
       "      <td>0</td>\n",
       "      <td>0</td>\n",
       "      <td>0</td>\n",
       "      <td>0</td>\n",
       "      <td>0</td>\n",
       "      <td>0</td>\n",
       "      <td>0</td>\n",
       "      <td>0</td>\n",
       "      <td>1</td>\n",
       "      <td>0</td>\n",
       "    </tr>\n",
       "    <tr>\n",
       "      <th>59629</th>\n",
       "      <td>2017-03-07</td>\n",
       "      <td>14.1000</td>\n",
       "      <td>29.3000</td>\n",
       "      <td>0.0000</td>\n",
       "      <td>31.0000</td>\n",
       "      <td>17.0000</td>\n",
       "      <td>9.0000</td>\n",
       "      <td>65.0000</td>\n",
       "      <td>28.0000</td>\n",
       "      <td>17.6000</td>\n",
       "      <td>27.8000</td>\n",
       "      <td>0</td>\n",
       "      <td>0</td>\n",
       "      <td>0</td>\n",
       "      <td>0</td>\n",
       "      <td>0</td>\n",
       "      <td>1</td>\n",
       "      <td>0</td>\n",
       "      <td>0</td>\n",
       "      <td>0</td>\n",
       "      <td>0</td>\n",
       "      <td>0</td>\n",
       "      <td>0</td>\n",
       "      <td>0</td>\n",
       "      <td>0</td>\n",
       "      <td>0</td>\n",
       "      <td>0</td>\n",
       "      <td>0</td>\n",
       "      <td>0</td>\n",
       "      <td>0</td>\n",
       "      <td>0</td>\n",
       "      <td>0</td>\n",
       "      <td>0</td>\n",
       "      <td>0</td>\n",
       "      <td>0</td>\n",
       "      <td>0</td>\n",
       "      <td>0</td>\n",
       "      <td>0</td>\n",
       "      <td>0</td>\n",
       "      <td>0</td>\n",
       "      <td>0</td>\n",
       "      <td>0</td>\n",
       "      <td>0</td>\n",
       "      <td>0</td>\n",
       "      <td>0</td>\n",
       "      <td>0</td>\n",
       "      <td>0</td>\n",
       "      <td>0</td>\n",
       "      <td>0</td>\n",
       "      <td>0</td>\n",
       "      <td>0</td>\n",
       "      <td>0</td>\n",
       "      <td>0</td>\n",
       "      <td>0</td>\n",
       "      <td>0</td>\n",
       "      <td>0</td>\n",
       "      <td>0</td>\n",
       "      <td>0</td>\n",
       "      <td>0</td>\n",
       "      <td>0</td>\n",
       "      <td>0</td>\n",
       "      <td>0</td>\n",
       "      <td>0</td>\n",
       "      <td>0</td>\n",
       "      <td>0</td>\n",
       "      <td>0</td>\n",
       "      <td>0</td>\n",
       "      <td>0</td>\n",
       "      <td>1</td>\n",
       "      <td>0</td>\n",
       "      <td>0</td>\n",
       "      <td>0</td>\n",
       "      <td>0</td>\n",
       "      <td>0</td>\n",
       "      <td>0</td>\n",
       "      <td>0</td>\n",
       "      <td>0</td>\n",
       "      <td>0</td>\n",
       "      <td>0</td>\n",
       "      <td>0</td>\n",
       "      <td>1</td>\n",
       "      <td>0</td>\n",
       "      <td>0</td>\n",
       "      <td>0</td>\n",
       "      <td>0</td>\n",
       "      <td>0</td>\n",
       "      <td>0</td>\n",
       "      <td>0</td>\n",
       "      <td>0</td>\n",
       "      <td>0</td>\n",
       "      <td>1</td>\n",
       "      <td>0</td>\n",
       "    </tr>\n",
       "    <tr>\n",
       "      <th>123251</th>\n",
       "      <td>2015-10-26</td>\n",
       "      <td>12.5000</td>\n",
       "      <td>18.4000</td>\n",
       "      <td>3.8000</td>\n",
       "      <td>33.0000</td>\n",
       "      <td>15.0000</td>\n",
       "      <td>11.0000</td>\n",
       "      <td>92.0000</td>\n",
       "      <td>74.0000</td>\n",
       "      <td>14.2000</td>\n",
       "      <td>17.7000</td>\n",
       "      <td>0</td>\n",
       "      <td>0</td>\n",
       "      <td>0</td>\n",
       "      <td>0</td>\n",
       "      <td>0</td>\n",
       "      <td>0</td>\n",
       "      <td>0</td>\n",
       "      <td>0</td>\n",
       "      <td>0</td>\n",
       "      <td>0</td>\n",
       "      <td>0</td>\n",
       "      <td>0</td>\n",
       "      <td>0</td>\n",
       "      <td>0</td>\n",
       "      <td>0</td>\n",
       "      <td>0</td>\n",
       "      <td>0</td>\n",
       "      <td>0</td>\n",
       "      <td>0</td>\n",
       "      <td>0</td>\n",
       "      <td>0</td>\n",
       "      <td>0</td>\n",
       "      <td>0</td>\n",
       "      <td>0</td>\n",
       "      <td>0</td>\n",
       "      <td>0</td>\n",
       "      <td>0</td>\n",
       "      <td>0</td>\n",
       "      <td>0</td>\n",
       "      <td>0</td>\n",
       "      <td>0</td>\n",
       "      <td>0</td>\n",
       "      <td>0</td>\n",
       "      <td>0</td>\n",
       "      <td>1</td>\n",
       "      <td>0</td>\n",
       "      <td>0</td>\n",
       "      <td>0</td>\n",
       "      <td>0</td>\n",
       "      <td>0</td>\n",
       "      <td>0</td>\n",
       "      <td>0</td>\n",
       "      <td>0</td>\n",
       "      <td>0</td>\n",
       "      <td>0</td>\n",
       "      <td>0</td>\n",
       "      <td>0</td>\n",
       "      <td>1</td>\n",
       "      <td>0</td>\n",
       "      <td>0</td>\n",
       "      <td>0</td>\n",
       "      <td>0</td>\n",
       "      <td>0</td>\n",
       "      <td>0</td>\n",
       "      <td>0</td>\n",
       "      <td>0</td>\n",
       "      <td>0</td>\n",
       "      <td>0</td>\n",
       "      <td>0</td>\n",
       "      <td>0</td>\n",
       "      <td>0</td>\n",
       "      <td>0</td>\n",
       "      <td>0</td>\n",
       "      <td>0</td>\n",
       "      <td>0</td>\n",
       "      <td>0</td>\n",
       "      <td>0</td>\n",
       "      <td>0</td>\n",
       "      <td>0</td>\n",
       "      <td>0</td>\n",
       "      <td>0</td>\n",
       "      <td>0</td>\n",
       "      <td>1</td>\n",
       "      <td>0</td>\n",
       "      <td>0</td>\n",
       "      <td>0</td>\n",
       "      <td>0</td>\n",
       "      <td>0</td>\n",
       "      <td>0</td>\n",
       "      <td>0</td>\n",
       "      <td>1</td>\n",
       "    </tr>\n",
       "    <tr>\n",
       "      <th>74674</th>\n",
       "      <td>2014-07-08</td>\n",
       "      <td>5.6000</td>\n",
       "      <td>15.0000</td>\n",
       "      <td>0.0000</td>\n",
       "      <td>67.0000</td>\n",
       "      <td>24.0000</td>\n",
       "      <td>30.0000</td>\n",
       "      <td>71.0000</td>\n",
       "      <td>57.0000</td>\n",
       "      <td>10.3000</td>\n",
       "      <td>14.7000</td>\n",
       "      <td>0</td>\n",
       "      <td>0</td>\n",
       "      <td>0</td>\n",
       "      <td>0</td>\n",
       "      <td>0</td>\n",
       "      <td>0</td>\n",
       "      <td>0</td>\n",
       "      <td>0</td>\n",
       "      <td>0</td>\n",
       "      <td>0</td>\n",
       "      <td>0</td>\n",
       "      <td>0</td>\n",
       "      <td>0</td>\n",
       "      <td>0</td>\n",
       "      <td>0</td>\n",
       "      <td>0</td>\n",
       "      <td>0</td>\n",
       "      <td>0</td>\n",
       "      <td>0</td>\n",
       "      <td>0</td>\n",
       "      <td>0</td>\n",
       "      <td>0</td>\n",
       "      <td>0</td>\n",
       "      <td>0</td>\n",
       "      <td>0</td>\n",
       "      <td>0</td>\n",
       "      <td>0</td>\n",
       "      <td>0</td>\n",
       "      <td>0</td>\n",
       "      <td>0</td>\n",
       "      <td>0</td>\n",
       "      <td>1</td>\n",
       "      <td>0</td>\n",
       "      <td>0</td>\n",
       "      <td>0</td>\n",
       "      <td>0</td>\n",
       "      <td>0</td>\n",
       "      <td>0</td>\n",
       "      <td>0</td>\n",
       "      <td>0</td>\n",
       "      <td>0</td>\n",
       "      <td>0</td>\n",
       "      <td>0</td>\n",
       "      <td>0</td>\n",
       "      <td>0</td>\n",
       "      <td>0</td>\n",
       "      <td>0</td>\n",
       "      <td>0</td>\n",
       "      <td>0</td>\n",
       "      <td>0</td>\n",
       "      <td>1</td>\n",
       "      <td>0</td>\n",
       "      <td>0</td>\n",
       "      <td>0</td>\n",
       "      <td>0</td>\n",
       "      <td>0</td>\n",
       "      <td>0</td>\n",
       "      <td>0</td>\n",
       "      <td>0</td>\n",
       "      <td>0</td>\n",
       "      <td>0</td>\n",
       "      <td>0</td>\n",
       "      <td>0</td>\n",
       "      <td>0</td>\n",
       "      <td>0</td>\n",
       "      <td>0</td>\n",
       "      <td>0</td>\n",
       "      <td>0</td>\n",
       "      <td>1</td>\n",
       "      <td>0</td>\n",
       "      <td>0</td>\n",
       "      <td>0</td>\n",
       "      <td>0</td>\n",
       "      <td>0</td>\n",
       "      <td>0</td>\n",
       "      <td>0</td>\n",
       "      <td>0</td>\n",
       "      <td>0</td>\n",
       "      <td>0</td>\n",
       "      <td>1</td>\n",
       "      <td>0</td>\n",
       "    </tr>\n",
       "  </tbody>\n",
       "</table>\n",
       "</div>"
      ],
      "text/plain": [
       "             Date  MinTemp  MaxTemp  Rainfall  WindGustSpeed  WindSpeed9am  \\\n",
       "86203  2012-09-10 17.1000  28.0000  0.4000    50.0000        17.0000         \n",
       "131377 2013-04-25 1.3000   17.1000  0.0000    50.0000        6.0000          \n",
       "59629  2017-03-07 14.1000  29.3000  0.0000    31.0000        17.0000         \n",
       "123251 2015-10-26 12.5000  18.4000  3.8000    33.0000        15.0000         \n",
       "74674  2014-07-08 5.6000   15.0000  0.0000    67.0000        24.0000         \n",
       "\n",
       "        WindSpeed3pm  Humidity9am  Humidity3pm  Temp9am  Temp3pm  \\\n",
       "86203  28.0000       59.0000      48.0000      22.6000  26.8000    \n",
       "131377 26.0000       85.0000      78.0000      10.2000  16.2000    \n",
       "59629  9.0000        65.0000      28.0000      17.6000  27.8000    \n",
       "123251 11.0000       92.0000      74.0000      14.2000  17.7000    \n",
       "74674  30.0000       71.0000      57.0000      10.3000  14.7000    \n",
       "\n",
       "        Location_Adelaide  Location_Albury  Location_AliceSprings  \\\n",
       "86203   0                  0                0                       \n",
       "131377  0                  0                0                       \n",
       "59629   0                  0                0                       \n",
       "123251  0                  0                0                       \n",
       "74674   0                  0                0                       \n",
       "\n",
       "        Location_BadgerysCreek  Location_Ballarat  Location_Bendigo  \\\n",
       "86203   0                       0                  0                  \n",
       "131377  0                       0                  0                  \n",
       "59629   0                       0                  1                  \n",
       "123251  0                       0                  0                  \n",
       "74674   0                       0                  0                  \n",
       "\n",
       "        Location_Brisbane  Location_Cairns  Location_Canberra  Location_Cobar  \\\n",
       "86203   0                  1                0                  0                \n",
       "131377  0                  0                0                  0                \n",
       "59629   0                  0                0                  0                \n",
       "123251  0                  0                0                  0                \n",
       "74674   0                  0                0                  0                \n",
       "\n",
       "        Location_CoffsHarbour  Location_Dartmoor  Location_Darwin  \\\n",
       "86203   0                      0                  0                 \n",
       "131377  0                      0                  0                 \n",
       "59629   0                      0                  0                 \n",
       "123251  0                      0                  0                 \n",
       "74674   0                      0                  0                 \n",
       "\n",
       "        Location_GoldCoast  Location_Hobart  Location_Katherine  \\\n",
       "86203   0                   0                0                    \n",
       "131377  0                   0                0                    \n",
       "59629   0                   0                0                    \n",
       "123251  0                   0                0                    \n",
       "74674   0                   0                0                    \n",
       "\n",
       "        Location_Launceston  Location_Melbourne  Location_MelbourneAirport  \\\n",
       "86203   0                    0                   0                           \n",
       "131377  1                    0                   0                           \n",
       "59629   0                    0                   0                           \n",
       "123251  0                    0                   0                           \n",
       "74674   0                    0                   0                           \n",
       "\n",
       "        Location_Mildura  Location_Moree  Location_MountGambier  \\\n",
       "86203   0                 0               0                       \n",
       "131377  0                 0               0                       \n",
       "59629   0                 0               0                       \n",
       "123251  0                 0               0                       \n",
       "74674   0                 0               0                       \n",
       "\n",
       "        Location_MountGinini  Location_Nhil  Location_NorahHead  \\\n",
       "86203   0                     0              0                    \n",
       "131377  0                     0              0                    \n",
       "59629   0                     0              0                    \n",
       "123251  0                     0              0                    \n",
       "74674   0                     0              0                    \n",
       "\n",
       "        Location_NorfolkIsland  Location_Nuriootpa  Location_PearceRAAF  \\\n",
       "86203   0                       0                   0                     \n",
       "131377  0                       0                   0                     \n",
       "59629   0                       0                   0                     \n",
       "123251  0                       0                   0                     \n",
       "74674   0                       0                   0                     \n",
       "\n",
       "        Location_Penrith  Location_Perth  Location_PerthAirport  \\\n",
       "86203   0                 0               0                       \n",
       "131377  0                 0               0                       \n",
       "59629   0                 0               0                       \n",
       "123251  0                 0               0                       \n",
       "74674   0                 0               0                       \n",
       "\n",
       "        Location_Portland  Location_Richmond  Location_Sale  \\\n",
       "86203   0                  0                  0               \n",
       "131377  0                  0                  0               \n",
       "59629   0                  0                  0               \n",
       "123251  0                  0                  0               \n",
       "74674   1                  0                  0               \n",
       "\n",
       "        Location_SalmonGums  Location_Sydney  Location_SydneyAirport  \\\n",
       "86203   0                    0                0                        \n",
       "131377  0                    0                0                        \n",
       "59629   0                    0                0                        \n",
       "123251  1                    0                0                        \n",
       "74674   0                    0                0                        \n",
       "\n",
       "        Location_Townsville  Location_Tuggeranong  Location_Uluru  \\\n",
       "86203   0                    0                     0                \n",
       "131377  0                    0                     0                \n",
       "59629   0                    0                     0                \n",
       "123251  0                    0                     0                \n",
       "74674   0                    0                     0                \n",
       "\n",
       "        Location_WaggaWagga  Location_Walpole  Location_Watsonia  \\\n",
       "86203   0                    0                 0                   \n",
       "131377  0                    0                 0                   \n",
       "59629   0                    0                 0                   \n",
       "123251  0                    0                 0                   \n",
       "74674   0                    0                 0                   \n",
       "\n",
       "        Location_Williamtown  Location_Witchcliffe  Location_Wollongong  \\\n",
       "86203   0                     0                     0                     \n",
       "131377  0                     0                     0                     \n",
       "59629   0                     0                     0                     \n",
       "123251  0                     0                     0                     \n",
       "74674   0                     0                     0                     \n",
       "\n",
       "        Location_Woomera  WindGustDir_E  WindGustDir_ENE  WindGustDir_ESE  \\\n",
       "86203   0                 0              0                0                 \n",
       "131377  0                 0              0                0                 \n",
       "59629   0                 0              0                0                 \n",
       "123251  0                 1              0                0                 \n",
       "74674   0                 0              0                0                 \n",
       "\n",
       "        WindGustDir_N  WindGustDir_NE  WindGustDir_NNE  WindGustDir_NNW  \\\n",
       "86203   0              0               0                0                 \n",
       "131377  0              0               0                1                 \n",
       "59629   0              0               0                0                 \n",
       "123251  0              0               0                0                 \n",
       "74674   1              0               0                0                 \n",
       "\n",
       "        WindGustDir_NW  WindGustDir_S  WindGustDir_SE  WindGustDir_SSE  \\\n",
       "86203   0               0              1               0                 \n",
       "131377  0               0              0               0                 \n",
       "59629   0               0              0               1                 \n",
       "123251  0               0              0               0                 \n",
       "74674   0               0              0               0                 \n",
       "\n",
       "        WindGustDir_SSW  WindGustDir_SW  WindGustDir_W  WindGustDir_WNW  \\\n",
       "86203   0                0               0              0                 \n",
       "131377  0                0               0              0                 \n",
       "59629   0                0               0              0                 \n",
       "123251  0                0               0              0                 \n",
       "74674   0                0               0              0                 \n",
       "\n",
       "        WindGustDir_WSW  WindDir3pm_E  WindDir3pm_ENE  WindDir3pm_ESE  \\\n",
       "86203   0                0             0               0                \n",
       "131377  0                0             0               0                \n",
       "59629   0                0             0               0                \n",
       "123251  0                0             0               0                \n",
       "74674   0                0             0               0                \n",
       "\n",
       "        WindDir3pm_N  WindDir3pm_NE  WindDir3pm_NNE  WindDir3pm_NNW  \\\n",
       "86203   0             0              0               0                \n",
       "131377  0             0              0               1                \n",
       "59629   0             0              0               1                \n",
       "123251  0             0              0               0                \n",
       "74674   0             0              1               0                \n",
       "\n",
       "        WindDir3pm_NW  WindDir3pm_S  WindDir3pm_SE  WindDir3pm_SSE  \\\n",
       "86203   0              0             1              0                \n",
       "131377  0              0             0              0                \n",
       "59629   0              0             0              0                \n",
       "123251  0              0             1              0                \n",
       "74674   0              0             0              0                \n",
       "\n",
       "        WindDir3pm_SSW  WindDir3pm_SW  WindDir3pm_W  WindDir3pm_WNW  \\\n",
       "86203   0               0              0             0                \n",
       "131377  0               0              0             0                \n",
       "59629   0               0              0             0                \n",
       "123251  0               0              0             0                \n",
       "74674   0               0              0             0                \n",
       "\n",
       "        WindDir3pm_WSW  RainToday_No  RainToday_Yes  \n",
       "86203   0               1             0              \n",
       "131377  0               1             0              \n",
       "59629   0               1             0              \n",
       "123251  0               0             1              \n",
       "74674   0               1             0              "
      ]
     },
     "execution_count": 15,
     "metadata": {},
     "output_type": "execute_result"
    }
   ],
   "source": [
    "X_test.head()"
   ]
  },
  {
   "cell_type": "markdown",
   "metadata": {},
   "source": [
    "### Q2) train 데이터로 종속변수인 RainTomorrow(다음날의 강수 여부)를 예측하는 분류모델을 \n",
    "###     3개 이상 생성하고 test 데이터에 대한 예측값을 csv파일로 각각 제출하시오."
   ]
  },
  {
   "cell_type": "code",
   "execution_count": 25,
   "metadata": {},
   "outputs": [
    {
     "name": "stdout",
     "output_type": "stream",
     "text": [
      "Collecting xgboost\n",
      "  Downloading xgboost-1.2.0-py3-none-manylinux2010_x86_64.whl (148.9 MB)\n",
      "\u001b[K     |████████████████████████████████| 148.9 MB 19 kB/s s eta 0:00:01\n",
      "\u001b[?25hRequirement already satisfied: scipy in /home/ec2-user/anaconda3/envs/python3/lib/python3.6/site-packages (from xgboost) (1.4.1)\n",
      "Requirement already satisfied: numpy in /home/ec2-user/anaconda3/envs/python3/lib/python3.6/site-packages (from xgboost) (1.18.1)\n",
      "Installing collected packages: xgboost\n",
      "Successfully installed xgboost-1.2.0\n"
     ]
    }
   ],
   "source": [
    "# !pip install xgboost"
   ]
  },
  {
   "cell_type": "code",
   "execution_count": 26,
   "metadata": {},
   "outputs": [],
   "source": [
    "from sklearn.linear_model import LogisticRegression\n",
    "from sklearn.ensemble import RandomForestClassifier\n",
    "from sklearn.tree import DecisionTreeClassifier\n",
    "from xgboost import XGBClassifier\n",
    "lr = LogisticRegression()\n",
    "rf = RandomForestClassifier()\n",
    "dt = DecisionTreeClassifier()\n",
    "xgb = XGBClassifier()"
   ]
  },
  {
   "cell_type": "code",
   "execution_count": 18,
   "metadata": {},
   "outputs": [],
   "source": [
    "import datetime as dt"
   ]
  },
  {
   "cell_type": "code",
   "execution_count": 19,
   "metadata": {},
   "outputs": [],
   "source": [
    "X_train['Date'] = X_train['Date'].map(dt.datetime.toordinal)\n",
    "X_test['Date'] = X_test['Date'].map(dt.datetime.toordinal)"
   ]
  },
  {
   "cell_type": "code",
   "execution_count": 21,
   "metadata": {},
   "outputs": [],
   "source": [
    "lr.fit(X_train, y_train)\n",
    "lr_y_pred = lr.predict(X_test)\n",
    "# lr_y_pred.to_csv('lr_y_pred.csv')\n",
    "# lr.score(lr_y_pred, y_test)"
   ]
  },
  {
   "cell_type": "code",
   "execution_count": 22,
   "metadata": {},
   "outputs": [
    {
     "data": {
      "text/plain": [
       "No    38573\n",
       "dtype: int64"
      ]
     },
     "execution_count": 22,
     "metadata": {},
     "output_type": "execute_result"
    }
   ],
   "source": [
    "pd.Series(lr_y_pred).value_counts()"
   ]
  },
  {
   "cell_type": "code",
   "execution_count": 23,
   "metadata": {},
   "outputs": [],
   "source": [
    "rf.fit(X_train, y_train)\n",
    "rf_y_pred = rf.predict(X_test)\n",
    "# rf_y_pred.to_csv('rf_y_pred.csv')\n",
    "# rf.score(rf_y_pred, y_test)"
   ]
  },
  {
   "cell_type": "code",
   "execution_count": 24,
   "metadata": {},
   "outputs": [
    {
     "data": {
      "text/plain": [
       "No     33357\n",
       "Yes    5216 \n",
       "dtype: int64"
      ]
     },
     "execution_count": 24,
     "metadata": {},
     "output_type": "execute_result"
    }
   ],
   "source": [
    "pd.Series(rf_y_pred).value_counts()"
   ]
  },
  {
   "cell_type": "code",
   "execution_count": 28,
   "metadata": {},
   "outputs": [],
   "source": [
    "xgb.fit(X_train, y_train)\n",
    "xgb_y_pred = xgb.predict(X_test)\n",
    "# xgb_y_pred.to_csv('svc_y_pred.csv')\n",
    "# xgb.score(svc_y_pred, y_test)"
   ]
  },
  {
   "cell_type": "code",
   "execution_count": 29,
   "metadata": {},
   "outputs": [
    {
     "data": {
      "text/plain": [
       "No     32599\n",
       "Yes    5974 \n",
       "dtype: int64"
      ]
     },
     "execution_count": 29,
     "metadata": {},
     "output_type": "execute_result"
    }
   ],
   "source": [
    "pd.Series(xgb_y_pred).value_counts()"
   ]
  },
  {
   "cell_type": "code",
   "execution_count": 30,
   "metadata": {},
   "outputs": [
    {
     "name": "stdout",
     "output_type": "stream",
     "text": [
      "오차 행렬:\n",
      " [[30208     0]\n",
      " [ 8365     0]]\n"
     ]
    }
   ],
   "source": [
    "from sklearn.metrics import confusion_matrix\n",
    "\n",
    "confusion = confusion_matrix(y_test, lr_y_pred)\n",
    "print('오차 행렬:\\n', confusion)"
   ]
  },
  {
   "cell_type": "code",
   "execution_count": 64,
   "metadata": {},
   "outputs": [],
   "source": [
    "lr_y_pred = pd.Series(lr_y_pred)\n",
    "lr_y_pred.loc[lr_y_pred == 'Yes'] = 1\n",
    "lr_y_pred.loc[lr_y_pred == 'No'] = 0\n",
    "lr_y_pred = lr_y_pred.astype('int')"
   ]
  },
  {
   "cell_type": "code",
   "execution_count": 65,
   "metadata": {},
   "outputs": [
    {
     "name": "stdout",
     "output_type": "stream",
     "text": [
      "              precision    recall  f1-score   support\n",
      "\n",
      "           0       0.78      1.00      0.88     30208\n",
      "           1       0.00      0.00      0.00      8365\n",
      "\n",
      "    accuracy                           0.78     38573\n",
      "   macro avg       0.39      0.50      0.44     38573\n",
      "weighted avg       0.61      0.78      0.69     38573\n",
      "\n"
     ]
    }
   ],
   "source": [
    "from sklearn.metrics import classification_report\n",
    "print(classification_report(y_test, lr_y_pred))"
   ]
  },
  {
   "cell_type": "code",
   "execution_count": 31,
   "metadata": {},
   "outputs": [
    {
     "name": "stdout",
     "output_type": "stream",
     "text": [
      "오차 행렬:\n",
      " [[28983  1225]\n",
      " [ 4374  3991]]\n"
     ]
    }
   ],
   "source": [
    "from sklearn.metrics import confusion_matrix\n",
    "\n",
    "confusion = confusion_matrix(y_test, rf_y_pred)\n",
    "print('오차 행렬:\\n', confusion)"
   ]
  },
  {
   "cell_type": "code",
   "execution_count": 66,
   "metadata": {},
   "outputs": [],
   "source": [
    "rf_y_pred = pd.Series(rf_y_pred)\n",
    "rf_y_pred.loc[rf_y_pred == 'Yes'] = 1\n",
    "rf_y_pred.loc[rf_y_pred == 'No'] = 0\n",
    "rf_y_pred = rf_y_pred.astype('int')"
   ]
  },
  {
   "cell_type": "code",
   "execution_count": 67,
   "metadata": {
    "scrolled": true
   },
   "outputs": [
    {
     "name": "stdout",
     "output_type": "stream",
     "text": [
      "              precision    recall  f1-score   support\n",
      "\n",
      "           0       0.87      0.96      0.91     30208\n",
      "           1       0.77      0.48      0.59      8365\n",
      "\n",
      "    accuracy                           0.85     38573\n",
      "   macro avg       0.82      0.72      0.75     38573\n",
      "weighted avg       0.85      0.85      0.84     38573\n",
      "\n"
     ]
    }
   ],
   "source": [
    "from sklearn.metrics import classification_report\n",
    "print(classification_report(y_test, rf_y_pred))"
   ]
  },
  {
   "cell_type": "code",
   "execution_count": 32,
   "metadata": {
    "scrolled": true
   },
   "outputs": [
    {
     "name": "stdout",
     "output_type": "stream",
     "text": [
      "오차 행렬:\n",
      " [[28711  1497]\n",
      " [ 3888  4477]]\n"
     ]
    }
   ],
   "source": [
    "from sklearn.metrics import confusion_matrix\n",
    "\n",
    "confusion = confusion_matrix(y_test, xgb_y_pred)\n",
    "print('오차 행렬:\\n', confusion)"
   ]
  },
  {
   "cell_type": "code",
   "execution_count": 68,
   "metadata": {},
   "outputs": [],
   "source": [
    "xgb_y_pred = pd.Series(xgb_y_pred)\n",
    "xgb_y_pred.loc[xgb_y_pred == 'Yes'] = 1\n",
    "xgb_y_pred.loc[xgb_y_pred == 'No'] = 0\n",
    "xgb_y_pred = xgb_y_pred.astype('int')"
   ]
  },
  {
   "cell_type": "code",
   "execution_count": 69,
   "metadata": {
    "scrolled": true
   },
   "outputs": [
    {
     "name": "stdout",
     "output_type": "stream",
     "text": [
      "              precision    recall  f1-score   support\n",
      "\n",
      "           0       0.88      0.95      0.91     30208\n",
      "           1       0.75      0.54      0.62      8365\n",
      "\n",
      "    accuracy                           0.86     38573\n",
      "   macro avg       0.82      0.74      0.77     38573\n",
      "weighted avg       0.85      0.86      0.85     38573\n",
      "\n"
     ]
    }
   ],
   "source": [
    "from sklearn.metrics import classification_report\n",
    "print(classification_report(y_test, xgb_y_pred))"
   ]
  },
  {
   "cell_type": "code",
   "execution_count": 36,
   "metadata": {},
   "outputs": [
    {
     "data": {
      "text/plain": [
       "LogisticRegression()"
      ]
     },
     "execution_count": 36,
     "metadata": {},
     "output_type": "execute_result"
    }
   ],
   "source": [
    "lr.fit(X_train, y_train)"
   ]
  },
  {
   "cell_type": "code",
   "execution_count": 43,
   "metadata": {},
   "outputs": [],
   "source": [
    "y_test.loc[y_test == 'Yes'] = 1\n",
    "y_test.loc[y_test == 'No'] = 0"
   ]
  },
  {
   "cell_type": "code",
   "execution_count": 44,
   "metadata": {},
   "outputs": [
    {
     "data": {
      "text/plain": [
       "86203     0\n",
       "131377    0\n",
       "59629     0\n",
       "123251    0\n",
       "74674     1\n",
       "         ..\n",
       "61568     0\n",
       "38508     1\n",
       "122127    0\n",
       "121548    0\n",
       "70420     0\n",
       "Name: RainTomorrow, Length: 38573, dtype: object"
      ]
     },
     "execution_count": 44,
     "metadata": {},
     "output_type": "execute_result"
    }
   ],
   "source": [
    "y_test"
   ]
  },
  {
   "cell_type": "code",
   "execution_count": 47,
   "metadata": {},
   "outputs": [],
   "source": [
    "y_test = y_test.astype('int')"
   ]
  },
  {
   "cell_type": "code",
   "execution_count": 48,
   "metadata": {},
   "outputs": [
    {
     "data": {
      "text/plain": [
       "<matplotlib.legend.Legend at 0x7f722caaf978>"
      ]
     },
     "execution_count": 48,
     "metadata": {},
     "output_type": "execute_result"
    },
    {
     "data": {
      "image/png": "[encoded data removed]",
      "text/plain": [
       "<Figure size 432x288 with 1 Axes>"
      ]
     },
     "metadata": {
      "needs_background": "light"
     },
     "output_type": "display_data"
    }
   ],
   "source": [
    "from sklearn.metrics import roc_curve\n",
    "fpr, tpr, thresholds = roc_curve(y_test, lr.decision_function(X_test))\n",
    "\n",
    "plt.plot(fpr, tpr, label = 'ROC 곡선')\n",
    "plt.xlabel('FPR')\n",
    "plt.ylabel('TPR (재현율)')\n",
    "# 0 근처의 임계값을 찾습니다.\n",
    "close_zero = np.argmin(np.abs(thresholds))\n",
    "plt.plot(fpr[close_zero], tpr[close_zero], 'o', markersize = 10,\n",
    "        label = '임계값 0', fillstyle = 'none', c = 'k', mew = 2)\n",
    "plt.legend(loc = 4)"
   ]
  },
  {
   "cell_type": "code",
   "execution_count": 51,
   "metadata": {},
   "outputs": [
    {
     "data": {
      "text/plain": [
       "RandomForestClassifier()"
      ]
     },
     "execution_count": 51,
     "metadata": {},
     "output_type": "execute_result"
    }
   ],
   "source": [
    "rf.fit(X_train, y_train)"
   ]
  },
  {
   "cell_type": "code",
   "execution_count": 58,
   "metadata": {},
   "outputs": [
    {
     "data": {
      "text/plain": [
       "<matplotlib.legend.Legend at 0x7f7227fd2eb8>"
      ]
     },
     "execution_count": 58,
     "metadata": {},
     "output_type": "execute_result"
    },
    {
     "data": {
      "image/png": "[encoded data removed]",
      "text/plain": [
       "<Figure size 432x288 with 1 Axes>"
      ]
     },
     "metadata": {
      "needs_background": "light"
     },
     "output_type": "display_data"
    }
   ],
   "source": [
    "from sklearn.metrics import roc_curve\n",
    "fpr, tpr, thresholds = roc_curve(y_test, rf.predict_proba(X_test)[:, 1])\n",
    "\n",
    "plt.plot(fpr, tpr, label = 'ROC 곡선')\n",
    "plt.xlabel('FPR')\n",
    "plt.ylabel('TPR (재현율)')\n",
    "# 0 근처의 임계값을 찾습니다.\n",
    "close_zero = np.argmin(np.abs(thresholds))\n",
    "plt.plot(fpr[close_zero], tpr[close_zero], 'o', markersize = 10,\n",
    "        label = '임계값 0', fillstyle = 'none', c = 'k', mew = 2)\n",
    "plt.legend(loc = 4)"
   ]
  },
  {
   "cell_type": "code",
   "execution_count": 59,
   "metadata": {},
   "outputs": [
    {
     "name": "stdout",
     "output_type": "stream",
     "text": [
      "랜덤 포레스트의 AUC: 0.871\n"
     ]
    }
   ],
   "source": [
    "from sklearn.metrics import roc_auc_score\n",
    "rf_auc = roc_auc_score(y_test, rf.predict_proba(X_test)[:, 1])\n",
    "# svc_auc = roc_auc_score(y_test, svc.decision_function(X_test))\n",
    "print('랜덤 포레스트의 AUC: {:.3f}'.format(rf_auc))\n",
    "# print('SVC의 AUC: {:.3f}'.format(svc_auc))"
   ]
  },
  {
   "cell_type": "code",
   "execution_count": 60,
   "metadata": {},
   "outputs": [
    {
     "data": {
      "text/plain": [
       "<matplotlib.legend.Legend at 0x7f72280c68d0>"
      ]
     },
     "execution_count": 60,
     "metadata": {},
     "output_type": "execute_result"
    },
    {
     "data": {
      "image/png": "[encoded data removed]",
      "text/plain": [
       "<Figure size 432x288 with 1 Axes>"
      ]
     },
     "metadata": {
      "needs_background": "light"
     },
     "output_type": "display_data"
    }
   ],
   "source": [
    "from sklearn.metrics import roc_curve\n",
    "fpr, tpr, thresholds = roc_curve(y_test, xgb.predict_proba(X_test)[:, 1])\n",
    "\n",
    "plt.plot(fpr, tpr, label = 'ROC 곡선')\n",
    "plt.xlabel('FPR')\n",
    "plt.ylabel('TPR (재현율)')\n",
    "# 0 근처의 임계값을 찾습니다.\n",
    "close_zero = np.argmin(np.abs(thresholds))\n",
    "plt.plot(fpr[close_zero], tpr[close_zero], 'o', markersize = 10,\n",
    "        label = '임계값 0', fillstyle = 'none', c = 'k', mew = 2)\n",
    "plt.legend(loc = 4)"
   ]
  },
  {
   "cell_type": "code",
   "execution_count": 61,
   "metadata": {},
   "outputs": [
    {
     "name": "stdout",
     "output_type": "stream",
     "text": [
      "랜덤 포레스트의 AUC: 0.880\n"
     ]
    }
   ],
   "source": [
    "from sklearn.metrics import roc_auc_score\n",
    "xgb_auc = roc_auc_score(y_test, xgb.predict_proba(X_test)[:, 1])\n",
    "# svc_auc = roc_auc_score(y_test, svc.decision_function(X_test))\n",
    "print('랜덤 포레스트의 AUC: {:.3f}'.format(xgb_auc))\n",
    "# print('SVC의 AUC: {:.3f}'.format(svc_auc))"
   ]
  },
  {
   "cell_type": "markdown",
   "metadata": {},
   "source": [
    "# 2. 통계분석 (사용 데이터 : bike_marketing)"
   ]
  },
  {
   "cell_type": "markdown",
   "metadata": {},
   "source": [
    "### Q1) pop_density 변수를 factor형 변수로 변환하고, \n",
    "###     pop_density별 revenues의 평균 차이가 있는지 통계분석을 시행하여 결과를 해석하시오. \n",
    "###     만일 대립가설이 채택된다면 사후분석을 실시하고 결과를 해석하시오."
   ]
  },
  {
   "cell_type": "code",
   "execution_count": 70,
   "metadata": {},
   "outputs": [
    {
     "name": "stdout",
     "output_type": "stream",
     "text": [
      "(172, 8)\n"
     ]
    },
    {
     "data": {
      "text/html": [
       "<div>\n",
       "<style scoped>\n",
       "    .dataframe tbody tr th:only-of-type {\n",
       "        vertical-align: middle;\n",
       "    }\n",
       "\n",
       "    .dataframe tbody tr th {\n",
       "        vertical-align: top;\n",
       "    }\n",
       "\n",
       "    .dataframe thead th {\n",
       "        text-align: right;\n",
       "    }\n",
       "</style>\n",
       "<table border=\"1\" class=\"dataframe\">\n",
       "  <thead>\n",
       "    <tr style=\"text-align: right;\">\n",
       "      <th></th>\n",
       "      <th>company_num</th>\n",
       "      <th>google_adwords</th>\n",
       "      <th>facebook</th>\n",
       "      <th>twitter</th>\n",
       "      <th>marketing_total</th>\n",
       "      <th>revenues</th>\n",
       "      <th>employees</th>\n",
       "      <th>pop_density</th>\n",
       "    </tr>\n",
       "  </thead>\n",
       "  <tbody>\n",
       "    <tr>\n",
       "      <th>0</th>\n",
       "      <td>1</td>\n",
       "      <td>65.6600</td>\n",
       "      <td>47.8600</td>\n",
       "      <td>52.4600</td>\n",
       "      <td>166</td>\n",
       "      <td>39.2600</td>\n",
       "      <td>5</td>\n",
       "      <td>High</td>\n",
       "    </tr>\n",
       "    <tr>\n",
       "      <th>1</th>\n",
       "      <td>2</td>\n",
       "      <td>39.1000</td>\n",
       "      <td>55.2000</td>\n",
       "      <td>77.4000</td>\n",
       "      <td>172</td>\n",
       "      <td>38.9000</td>\n",
       "      <td>7</td>\n",
       "      <td>Medium</td>\n",
       "    </tr>\n",
       "    <tr>\n",
       "      <th>2</th>\n",
       "      <td>3</td>\n",
       "      <td>174.8100</td>\n",
       "      <td>52.0100</td>\n",
       "      <td>68.0100</td>\n",
       "      <td>295</td>\n",
       "      <td>49.5100</td>\n",
       "      <td>11</td>\n",
       "      <td>Medium</td>\n",
       "    </tr>\n",
       "    <tr>\n",
       "      <th>3</th>\n",
       "      <td>4</td>\n",
       "      <td>34.3600</td>\n",
       "      <td>61.9600</td>\n",
       "      <td>86.8600</td>\n",
       "      <td>183</td>\n",
       "      <td>40.5600</td>\n",
       "      <td>7</td>\n",
       "      <td>High</td>\n",
       "    </tr>\n",
       "    <tr>\n",
       "      <th>4</th>\n",
       "      <td>5</td>\n",
       "      <td>78.2100</td>\n",
       "      <td>40.9100</td>\n",
       "      <td>30.4100</td>\n",
       "      <td>150</td>\n",
       "      <td>40.2100</td>\n",
       "      <td>9</td>\n",
       "      <td>Low</td>\n",
       "    </tr>\n",
       "  </tbody>\n",
       "</table>\n",
       "</div>"
      ],
      "text/plain": [
       "   company_num  google_adwords  facebook  twitter  marketing_total  revenues  \\\n",
       "0  1           65.6600         47.8600   52.4600   166             39.2600     \n",
       "1  2           39.1000         55.2000   77.4000   172             38.9000     \n",
       "2  3           174.8100        52.0100   68.0100   295             49.5100     \n",
       "3  4           34.3600         61.9600   86.8600   183             40.5600     \n",
       "4  5           78.2100         40.9100   30.4100   150             40.2100     \n",
       "\n",
       "   employees pop_density  \n",
       "0  5          High        \n",
       "1  7          Medium      \n",
       "2  11         Medium      \n",
       "3  7          High        \n",
       "4  9          Low         "
      ]
     },
     "execution_count": 70,
     "metadata": {},
     "output_type": "execute_result"
    }
   ],
   "source": [
    "df = pd.read_csv('./data/모의고사 4회/bike_marketing.csv')\n",
    "print(df.shape)\n",
    "df.head()"
   ]
  },
  {
   "cell_type": "code",
   "execution_count": 71,
   "metadata": {},
   "outputs": [
    {
     "name": "stdout",
     "output_type": "stream",
     "text": [
      "<class 'pandas.core.frame.DataFrame'>\n",
      "RangeIndex: 172 entries, 0 to 171\n",
      "Data columns (total 8 columns):\n",
      " #   Column           Non-Null Count  Dtype  \n",
      "---  ------           --------------  -----  \n",
      " 0   company_num      172 non-null    int64  \n",
      " 1   google_adwords   172 non-null    float64\n",
      " 2   facebook         172 non-null    float64\n",
      " 3   twitter          172 non-null    float64\n",
      " 4   marketing_total  172 non-null    int64  \n",
      " 5   revenues         172 non-null    float64\n",
      " 6   employees        172 non-null    int64  \n",
      " 7   pop_density      172 non-null    object \n",
      "dtypes: float64(4), int64(3), object(1)\n",
      "memory usage: 10.9+ KB\n"
     ]
    }
   ],
   "source": [
    "df.info()"
   ]
  },
  {
   "cell_type": "code",
   "execution_count": 72,
   "metadata": {},
   "outputs": [],
   "source": [
    "df['pop_density'] = df['pop_density'].astype('category')"
   ]
  },
  {
   "cell_type": "code",
   "execution_count": 77,
   "metadata": {},
   "outputs": [
    {
     "data": {
      "text/html": [
       "<div>\n",
       "<style scoped>\n",
       "    .dataframe tbody tr th:only-of-type {\n",
       "        vertical-align: middle;\n",
       "    }\n",
       "\n",
       "    .dataframe tbody tr th {\n",
       "        vertical-align: top;\n",
       "    }\n",
       "\n",
       "    .dataframe thead th {\n",
       "        text-align: right;\n",
       "    }\n",
       "</style>\n",
       "<table border=\"1\" class=\"dataframe\">\n",
       "  <thead>\n",
       "    <tr style=\"text-align: right;\">\n",
       "      <th></th>\n",
       "      <th>df</th>\n",
       "      <th>sum_sq</th>\n",
       "      <th>mean_sq</th>\n",
       "      <th>F</th>\n",
       "      <th>PR(&gt;F)</th>\n",
       "    </tr>\n",
       "  </thead>\n",
       "  <tbody>\n",
       "    <tr>\n",
       "      <th>C(pop_density)</th>\n",
       "      <td>2.0000</td>\n",
       "      <td>41.7313</td>\n",
       "      <td>20.8656</td>\n",
       "      <td>0.6099</td>\n",
       "      <td>0.5446</td>\n",
       "    </tr>\n",
       "    <tr>\n",
       "      <th>Residual</th>\n",
       "      <td>169.0000</td>\n",
       "      <td>5,781.3376</td>\n",
       "      <td>34.2091</td>\n",
       "      <td>nan</td>\n",
       "      <td>nan</td>\n",
       "    </tr>\n",
       "  </tbody>\n",
       "</table>\n",
       "</div>"
      ],
      "text/plain": [
       "                     df     sum_sq  mean_sq      F  PR(>F)\n",
       "C(pop_density) 2.0000   41.7313    20.8656  0.6099 0.5446 \n",
       "Residual       169.0000 5,781.3376 34.2091  nan    nan    "
      ]
     },
     "execution_count": 77,
     "metadata": {},
     "output_type": "execute_result"
    }
   ],
   "source": [
    "from statsmodels.formula.api import ols\n",
    "from statsmodels.stats.anova import anova_lm\n",
    "\n",
    "model = ols('revenues ~ C(pop_density)', df).fit()\n",
    "anova_lm(model)"
   ]
  },
  {
   "cell_type": "markdown",
   "metadata": {},
   "source": [
    "* 분산분석표를 통해 확인한 결과, SSA의 자유도는 2(집단의 수 -1 = 3-1), SST의 자유도는 169(관측값의 수 - 집단의 수 = 172-3)임을 확인할 수 있다. 분석 결과, p-value가 0.545로 유의수준 0.05하에서 대립가설을 기각한다. 따라서 세가지 인구밀집정도에 따른 매출은 통계적으로 유의한 차이를 가지고 있다고 보기 힘들다."
   ]
  },
  {
   "cell_type": "markdown",
   "metadata": {},
   "source": [
    "### Q2) google_adwords, facebook, twitter, marketing_total, employees가 \n",
    "###     revenues에 영향을 미치는지 알아보는 회귀분석을 전진선택법을 사용하여 수행하고 결과를 해석하시오."
   ]
  },
  {
   "cell_type": "code",
   "execution_count": 78,
   "metadata": {},
   "outputs": [],
   "source": [
    "model = sm.OLS(df['revenues'], df[['google_adwords', 'facebook', 'twitter', 'marketing_total', 'employees']]).fit()"
   ]
  },
  {
   "cell_type": "code",
   "execution_count": 79,
   "metadata": {},
   "outputs": [
    {
     "data": {
      "text/html": [
       "<table class=\"simpletable\">\n",
       "<caption>OLS Regression Results</caption>\n",
       "<tr>\n",
       "  <th>Dep. Variable:</th>        <td>revenues</td>     <th>  R-squared (uncentered):</th>      <td>   0.969</td> \n",
       "</tr>\n",
       "<tr>\n",
       "  <th>Model:</th>                   <td>OLS</td>       <th>  Adj. R-squared (uncentered):</th> <td>   0.968</td> \n",
       "</tr>\n",
       "<tr>\n",
       "  <th>Method:</th>             <td>Least Squares</td>  <th>  F-statistic:       </th>          <td>   1038.</td> \n",
       "</tr>\n",
       "<tr>\n",
       "  <th>Date:</th>             <td>Fri, 18 Sep 2020</td> <th>  Prob (F-statistic):</th>          <td>9.29e-124</td>\n",
       "</tr>\n",
       "<tr>\n",
       "  <th>Time:</th>                 <td>12:03:30</td>     <th>  Log-Likelihood:    </th>          <td> -600.47</td> \n",
       "</tr>\n",
       "<tr>\n",
       "  <th>No. Observations:</th>      <td>   172</td>      <th>  AIC:               </th>          <td>   1211.</td> \n",
       "</tr>\n",
       "<tr>\n",
       "  <th>Df Residuals:</th>          <td>   167</td>      <th>  BIC:               </th>          <td>   1227.</td> \n",
       "</tr>\n",
       "<tr>\n",
       "  <th>Df Model:</th>              <td>     5</td>      <th>                     </th>              <td> </td>    \n",
       "</tr>\n",
       "<tr>\n",
       "  <th>Covariance Type:</th>      <td>nonrobust</td>    <th>                     </th>              <td> </td>    \n",
       "</tr>\n",
       "</table>\n",
       "<table class=\"simpletable\">\n",
       "<tr>\n",
       "         <td></td>            <th>coef</th>     <th>std err</th>      <th>t</th>      <th>P>|t|</th>  <th>[0.025</th>    <th>0.975]</th>  \n",
       "</tr>\n",
       "<tr>\n",
       "  <th>google_adwords</th>  <td>   -1.0349</td> <td>    2.175</td> <td>   -0.476</td> <td> 0.635</td> <td>   -5.329</td> <td>    3.259</td>\n",
       "</tr>\n",
       "<tr>\n",
       "  <th>facebook</th>        <td>   -0.7994</td> <td>    2.178</td> <td>   -0.367</td> <td> 0.714</td> <td>   -5.099</td> <td>    3.501</td>\n",
       "</tr>\n",
       "<tr>\n",
       "  <th>twitter</th>         <td>   -0.9906</td> <td>    2.178</td> <td>   -0.455</td> <td> 0.650</td> <td>   -5.290</td> <td>    3.309</td>\n",
       "</tr>\n",
       "<tr>\n",
       "  <th>marketing_total</th> <td>    1.0734</td> <td>    2.175</td> <td>    0.493</td> <td> 0.622</td> <td>   -3.221</td> <td>    5.368</td>\n",
       "</tr>\n",
       "<tr>\n",
       "  <th>employees</th>       <td>    2.9844</td> <td>    0.340</td> <td>    8.784</td> <td> 0.000</td> <td>    2.314</td> <td>    3.655</td>\n",
       "</tr>\n",
       "</table>\n",
       "<table class=\"simpletable\">\n",
       "<tr>\n",
       "  <th>Omnibus:</th>       <td> 5.272</td> <th>  Durbin-Watson:     </th> <td>   2.082</td>\n",
       "</tr>\n",
       "<tr>\n",
       "  <th>Prob(Omnibus):</th> <td> 0.072</td> <th>  Jarque-Bera (JB):  </th> <td>   4.707</td>\n",
       "</tr>\n",
       "<tr>\n",
       "  <th>Skew:</th>          <td> 0.330</td> <th>  Prob(JB):          </th> <td>  0.0950</td>\n",
       "</tr>\n",
       "<tr>\n",
       "  <th>Kurtosis:</th>      <td> 2.530</td> <th>  Cond. No.          </th> <td>2.31e+03</td>\n",
       "</tr>\n",
       "</table><br/><br/>Warnings:<br/>[1] Standard Errors assume that the covariance matrix of the errors is correctly specified.<br/>[2] The condition number is large, 2.31e+03. This might indicate that there are<br/>strong multicollinearity or other numerical problems."
      ],
      "text/plain": [
       "<class 'statsmodels.iolib.summary.Summary'>\n",
       "\"\"\"\n",
       "                                 OLS Regression Results                                \n",
       "=======================================================================================\n",
       "Dep. Variable:               revenues   R-squared (uncentered):                   0.969\n",
       "Model:                            OLS   Adj. R-squared (uncentered):              0.968\n",
       "Method:                 Least Squares   F-statistic:                              1038.\n",
       "Date:                Fri, 18 Sep 2020   Prob (F-statistic):                   9.29e-124\n",
       "Time:                        12:03:30   Log-Likelihood:                         -600.47\n",
       "No. Observations:                 172   AIC:                                      1211.\n",
       "Df Residuals:                     167   BIC:                                      1227.\n",
       "Df Model:                           5                                                  \n",
       "Covariance Type:            nonrobust                                                  \n",
       "===================================================================================\n",
       "                      coef    std err          t      P>|t|      [0.025      0.975]\n",
       "-----------------------------------------------------------------------------------\n",
       "google_adwords     -1.0349      2.175     -0.476      0.635      -5.329       3.259\n",
       "facebook           -0.7994      2.178     -0.367      0.714      -5.099       3.501\n",
       "twitter            -0.9906      2.178     -0.455      0.650      -5.290       3.309\n",
       "marketing_total     1.0734      2.175      0.493      0.622      -3.221       5.368\n",
       "employees           2.9844      0.340      8.784      0.000       2.314       3.655\n",
       "==============================================================================\n",
       "Omnibus:                        5.272   Durbin-Watson:                   2.082\n",
       "Prob(Omnibus):                  0.072   Jarque-Bera (JB):                4.707\n",
       "Skew:                           0.330   Prob(JB):                       0.0950\n",
       "Kurtosis:                       2.530   Cond. No.                     2.31e+03\n",
       "==============================================================================\n",
       "\n",
       "Warnings:\n",
       "[1] Standard Errors assume that the covariance matrix of the errors is correctly specified.\n",
       "[2] The condition number is large, 2.31e+03. This might indicate that there are\n",
       "strong multicollinearity or other numerical problems.\n",
       "\"\"\""
      ]
     },
     "execution_count": 79,
     "metadata": {},
     "output_type": "execute_result"
    }
   ],
   "source": [
    "model.summary()"
   ]
  },
  {
   "cell_type": "code",
   "execution_count": 81,
   "metadata": {},
   "outputs": [
    {
     "data": {
      "text/html": [
       "<table class=\"simpletable\">\n",
       "<caption>OLS Regression Results</caption>\n",
       "<tr>\n",
       "  <th>Dep. Variable:</th>        <td>revenues</td>     <th>  R-squared:         </th> <td>   0.873</td>\n",
       "</tr>\n",
       "<tr>\n",
       "  <th>Model:</th>                   <td>OLS</td>       <th>  Adj. R-squared:    </th> <td>   0.870</td>\n",
       "</tr>\n",
       "<tr>\n",
       "  <th>Method:</th>             <td>Least Squares</td>  <th>  F-statistic:       </th> <td>   228.9</td>\n",
       "</tr>\n",
       "<tr>\n",
       "  <th>Date:</th>             <td>Fri, 18 Sep 2020</td> <th>  Prob (F-statistic):</th> <td>1.57e-72</td>\n",
       "</tr>\n",
       "<tr>\n",
       "  <th>Time:</th>                 <td>12:04:52</td>     <th>  Log-Likelihood:    </th> <td> -369.26</td>\n",
       "</tr>\n",
       "<tr>\n",
       "  <th>No. Observations:</th>      <td>   172</td>      <th>  AIC:               </th> <td>   750.5</td>\n",
       "</tr>\n",
       "<tr>\n",
       "  <th>Df Residuals:</th>          <td>   166</td>      <th>  BIC:               </th> <td>   769.4</td>\n",
       "</tr>\n",
       "<tr>\n",
       "  <th>Df Model:</th>              <td>     5</td>      <th>                     </th>     <td> </td>   \n",
       "</tr>\n",
       "<tr>\n",
       "  <th>Covariance Type:</th>      <td>nonrobust</td>    <th>                     </th>     <td> </td>   \n",
       "</tr>\n",
       "</table>\n",
       "<table class=\"simpletable\">\n",
       "<tr>\n",
       "         <td></td>            <th>coef</th>     <th>std err</th>      <th>t</th>      <th>P>|t|</th>  <th>[0.025</th>    <th>0.975]</th>  \n",
       "</tr>\n",
       "<tr>\n",
       "  <th>Intercept</th>       <td>   28.4433</td> <td>    0.596</td> <td>   47.706</td> <td> 0.000</td> <td>   27.266</td> <td>   29.621</td>\n",
       "</tr>\n",
       "<tr>\n",
       "  <th>google_adwords</th>  <td>    1.2110</td> <td>    0.571</td> <td>    2.122</td> <td> 0.035</td> <td>    0.084</td> <td>    2.338</td>\n",
       "</tr>\n",
       "<tr>\n",
       "  <th>facebook</th>        <td>    1.3464</td> <td>    0.571</td> <td>    2.356</td> <td> 0.020</td> <td>    0.218</td> <td>    2.474</td>\n",
       "</tr>\n",
       "<tr>\n",
       "  <th>twitter</th>         <td>    1.1724</td> <td>    0.571</td> <td>    2.052</td> <td> 0.042</td> <td>    0.045</td> <td>    2.300</td>\n",
       "</tr>\n",
       "<tr>\n",
       "  <th>marketing_total</th> <td>   -1.1696</td> <td>    0.571</td> <td>   -2.049</td> <td> 0.042</td> <td>   -2.297</td> <td>   -0.043</td>\n",
       "</tr>\n",
       "<tr>\n",
       "  <th>employees</th>       <td>    0.3865</td> <td>    0.104</td> <td>    3.708</td> <td> 0.000</td> <td>    0.181</td> <td>    0.592</td>\n",
       "</tr>\n",
       "</table>\n",
       "<table class=\"simpletable\">\n",
       "<tr>\n",
       "  <th>Omnibus:</th>       <td> 3.945</td> <th>  Durbin-Watson:     </th> <td>   2.111</td>\n",
       "</tr>\n",
       "<tr>\n",
       "  <th>Prob(Omnibus):</th> <td> 0.139</td> <th>  Jarque-Bera (JB):  </th> <td>   3.974</td>\n",
       "</tr>\n",
       "<tr>\n",
       "  <th>Skew:</th>          <td>-0.341</td> <th>  Prob(JB):          </th> <td>   0.137</td>\n",
       "</tr>\n",
       "<tr>\n",
       "  <th>Kurtosis:</th>      <td> 2.702</td> <th>  Cond. No.          </th> <td>2.32e+03</td>\n",
       "</tr>\n",
       "</table><br/><br/>Warnings:<br/>[1] Standard Errors assume that the covariance matrix of the errors is correctly specified.<br/>[2] The condition number is large, 2.32e+03. This might indicate that there are<br/>strong multicollinearity or other numerical problems."
      ],
      "text/plain": [
       "<class 'statsmodels.iolib.summary.Summary'>\n",
       "\"\"\"\n",
       "                            OLS Regression Results                            \n",
       "==============================================================================\n",
       "Dep. Variable:               revenues   R-squared:                       0.873\n",
       "Model:                            OLS   Adj. R-squared:                  0.870\n",
       "Method:                 Least Squares   F-statistic:                     228.9\n",
       "Date:                Fri, 18 Sep 2020   Prob (F-statistic):           1.57e-72\n",
       "Time:                        12:04:52   Log-Likelihood:                -369.26\n",
       "No. Observations:                 172   AIC:                             750.5\n",
       "Df Residuals:                     166   BIC:                             769.4\n",
       "Df Model:                           5                                         \n",
       "Covariance Type:            nonrobust                                         \n",
       "===================================================================================\n",
       "                      coef    std err          t      P>|t|      [0.025      0.975]\n",
       "-----------------------------------------------------------------------------------\n",
       "Intercept          28.4433      0.596     47.706      0.000      27.266      29.621\n",
       "google_adwords      1.2110      0.571      2.122      0.035       0.084       2.338\n",
       "facebook            1.3464      0.571      2.356      0.020       0.218       2.474\n",
       "twitter             1.1724      0.571      2.052      0.042       0.045       2.300\n",
       "marketing_total    -1.1696      0.571     -2.049      0.042      -2.297      -0.043\n",
       "employees           0.3865      0.104      3.708      0.000       0.181       0.592\n",
       "==============================================================================\n",
       "Omnibus:                        3.945   Durbin-Watson:                   2.111\n",
       "Prob(Omnibus):                  0.139   Jarque-Bera (JB):                3.974\n",
       "Skew:                          -0.341   Prob(JB):                        0.137\n",
       "Kurtosis:                       2.702   Cond. No.                     2.32e+03\n",
       "==============================================================================\n",
       "\n",
       "Warnings:\n",
       "[1] Standard Errors assume that the covariance matrix of the errors is correctly specified.\n",
       "[2] The condition number is large, 2.32e+03. This might indicate that there are\n",
       "strong multicollinearity or other numerical problems.\n",
       "\"\"\""
      ]
     },
     "execution_count": 81,
     "metadata": {},
     "output_type": "execute_result"
    }
   ],
   "source": [
    "model = sm.OLS.from_formula('revenues ~ google_adwords + facebook + twitter + marketing_total + employees', data = df).fit()\n",
    "model.summary()"
   ]
  },
  {
   "cell_type": "markdown",
   "metadata": {},
   "source": [
    "### Q3) 전진선택법을 사용해 변수를 선택한 후 새롭게 생성한 회귀모형에 대한 \n",
    "###     잔차분석을 수행하고 결과를 해석하시오. "
   ]
  },
  {
   "cell_type": "code",
   "execution_count": 82,
   "metadata": {},
   "outputs": [
    {
     "data": {
      "text/plain": [
       "2.1113783728607847"
      ]
     },
     "execution_count": 82,
     "metadata": {},
     "output_type": "execute_result"
    }
   ],
   "source": [
    "from statsmodels.stats.stattools import durbin_watson\n",
    "\n",
    "#perform Durbin-Watson test\n",
    "durbin_watson(model.resid)"
   ]
  },
  {
   "cell_type": "markdown",
   "metadata": {},
   "source": [
    "* Durbin-Watson 검정 결과값이 2.11로 2에 가깝기 때문에 독립성 가정을 만족"
   ]
  },
  {
   "cell_type": "code",
   "execution_count": 84,
   "metadata": {},
   "outputs": [
    {
     "data": {
      "text/plain": [
       "(0.9865776300430298, 0.09909190982580185)"
      ]
     },
     "execution_count": 84,
     "metadata": {},
     "output_type": "execute_result"
    }
   ],
   "source": [
    "shapiro_test = stats.shapiro(model.resid)\n",
    "shapiro_test"
   ]
  },
  {
   "cell_type": "markdown",
   "metadata": {},
   "source": [
    "* Shapiro-Wilk 검정 결과 p-value가 0.09로 유의수준 0.05에서 대립가설을 기각한다. 따라서 bike 데이터는 정규분포를 따른다"
   ]
  },
  {
   "cell_type": "markdown",
   "metadata": {},
   "source": [
    "* 잔차의 등분산성"
   ]
  },
  {
   "cell_type": "code",
   "execution_count": 92,
   "metadata": {},
   "outputs": [],
   "source": [
    "fitted = model.predict(df)\n",
    "residual = df['revenues'] - fitted"
   ]
  },
  {
   "cell_type": "code",
   "execution_count": 94,
   "metadata": {},
   "outputs": [
    {
     "data": {
      "text/plain": [
       "[<matplotlib.lines.Line2D at 0x7f7227313320>]"
      ]
     },
     "execution_count": 94,
     "metadata": {},
     "output_type": "execute_result"
    },
    {
     "data": {
      "image/png": "[encoded data removed]",
      "text/plain": [
       "<Figure size 432x288 with 1 Axes>"
      ]
     },
     "metadata": {
      "needs_background": "light"
     },
     "output_type": "display_data"
    }
   ],
   "source": [
    "sns.regplot(fitted, residual, lowess=True, line_kws={'color': 'red'})\n",
    "plt.plot([fitted.min(), fitted.max()], [0, 0], '--', color='grey')"
   ]
  },
  {
   "cell_type": "markdown",
   "metadata": {},
   "source": [
    "* 잔차 vs fitted value(예측값)의 분포(등분산성 가정 확인)\n",
    "* 그래프의 기울기를 나타내는 빨간색 선이 포물선의 성향을 띠고 있기 때문에 잔차는 평균인 0을 중심으로 고르게 분포한다고 판단하기 어렵다"
   ]
  },
  {
   "cell_type": "markdown",
   "metadata": {},
   "source": [
    "## qqplot(정규성 가정 확인)"
   ]
  },
  {
   "cell_type": "code",
   "execution_count": 86,
   "metadata": {},
   "outputs": [
    {
     "data": {
      "image/png": "[encoded data removed]",
      "text/plain": [
       "<Figure size 432x288 with 1 Axes>"
      ]
     },
     "metadata": {
      "needs_background": "light"
     },
     "output_type": "display_data"
    }
   ],
   "source": [
    "from statsmodels.graphics.gofplots import qqplot\n",
    "qqplot(model.resid, line='s')\n",
    "plt.show()"
   ]
  },
  {
   "cell_type": "markdown",
   "metadata": {},
   "source": [
    "* qqplot을 확인결과, 오른쪽 위를 향하는 45도 각도의 직선위에 그래프의 점들이 주로 위치한 것으로 보아 bike의 데이터가 정규성을 만족"
   ]
  },
  {
   "cell_type": "markdown",
   "metadata": {},
   "source": [
    "# Scale_Location(등분산성 가정 확인)"
   ]
  },
  {
   "cell_type": "code",
   "execution_count": 97,
   "metadata": {},
   "outputs": [],
   "source": [
    "sr = stats.zscore(residual)"
   ]
  },
  {
   "cell_type": "code",
   "execution_count": 98,
   "metadata": {},
   "outputs": [
    {
     "data": {
      "text/plain": [
       "<matplotlib.axes._subplots.AxesSubplot at 0x7f722799feb8>"
      ]
     },
     "execution_count": 98,
     "metadata": {},
     "output_type": "execute_result"
    },
    {
     "data": {
      "image/png": "[encoded data removed]",
      "text/plain": [
       "<Figure size 432x288 with 1 Axes>"
      ]
     },
     "metadata": {
      "needs_background": "light"
     },
     "output_type": "display_data"
    }
   ],
   "source": [
    "sns.regplot(fitted, np.sqrt(np.abs(sr)), lowess=True, line_kws={'color': 'red'})"
   ]
  },
  {
   "cell_type": "markdown",
   "metadata": {},
   "source": [
    "* 빨간선의 기울기가 0에 가까워야 하지만, fitted_value가 커질수록 기울기가 다소 변화하는 경향을 보이고있다. 이렇게 빨간선의 기울기가 0에서 떨어진 점이 있다면 해당 점에서는 표준화 잔차가 큼을 의미하고, 회귀 직선이 y값을 잘 적합하지 못함을 의미한다. 또한 해당 점들은 이상치일 가능성이 있다."
   ]
  },
  {
   "cell_type": "markdown",
   "metadata": {},
   "source": [
    "# 극단값"
   ]
  },
  {
   "cell_type": "code",
   "execution_count": 99,
   "metadata": {},
   "outputs": [],
   "source": [
    "from statsmodels.stats.outliers_influence import OLSInfluence"
   ]
  },
  {
   "cell_type": "code",
   "execution_count": 100,
   "metadata": {},
   "outputs": [],
   "source": [
    "cd, _ = OLSInfluence(model).cooks_distance"
   ]
  },
  {
   "cell_type": "code",
   "execution_count": 101,
   "metadata": {},
   "outputs": [
    {
     "data": {
      "text/plain": [
       "110   0.0611\n",
       "152   0.0499\n",
       "106   0.0465\n",
       "108   0.0460\n",
       "114   0.0443\n",
       "dtype: float64"
      ]
     },
     "execution_count": 101,
     "metadata": {},
     "output_type": "execute_result"
    }
   ],
   "source": [
    "cd.sort_values(ascending=False).head()"
   ]
  },
  {
   "cell_type": "markdown",
   "metadata": {},
   "source": [
    "# 3. 비정형 데이터마이닝 (사용 데이터 : \"instagram_태교여행\")"
   ]
  },
  {
   "cell_type": "markdown",
   "metadata": {},
   "source": [
    "### Q1) ‘instagram_태교여행.txt’ 데이터를 읽어온 뒤 숫자, 특수 문자 등을 \n",
    "###     제거하는 전처리 작업을 시행하시오."
   ]
  },
  {
   "cell_type": "code",
   "execution_count": 108,
   "metadata": {},
   "outputs": [],
   "source": [
    "def read_data(filename):\n",
    "    with open(filename, 'r', encoding = 'cp949') as f:\n",
    "        data = [line.split('\\t') for line in f.read().splitlines()]\n",
    "        data = data[1:]\n",
    "    return data"
   ]
  },
  {
   "cell_type": "code",
   "execution_count": 115,
   "metadata": {},
   "outputs": [],
   "source": [
    "text = read_data('./data/모의고사 4회/instagram_태교여행.txt')"
   ]
  },
  {
   "cell_type": "code",
   "execution_count": 122,
   "metadata": {},
   "outputs": [
    {
     "ename": "TypeError",
     "evalue": "sequence item 0: expected str instance, list found",
     "output_type": "error",
     "traceback": [
      "\u001b[0;31m---------------------------------------------------------------------------\u001b[0m",
      "\u001b[0;31mTypeError\u001b[0m                                 Traceback (most recent call last)",
      "\u001b[0;32m<ipython-input-122-d5478e24e98f>\u001b[0m in \u001b[0;36m<module>\u001b[0;34m\u001b[0m\n\u001b[0;32m----> 1\u001b[0;31m \u001b[0;34m' '\u001b[0m\u001b[0;34m.\u001b[0m\u001b[0mjoin\u001b[0m\u001b[0;34m(\u001b[0m\u001b[0mx\u001b[0m \u001b[0;32mfor\u001b[0m \u001b[0mx\u001b[0m \u001b[0;32min\u001b[0m \u001b[0mtext\u001b[0m\u001b[0;34m)\u001b[0m\u001b[0;34m\u001b[0m\u001b[0;34m\u001b[0m\u001b[0m\n\u001b[0m",
      "\u001b[0;31mTypeError\u001b[0m: sequence item 0: expected str instance, list found"
     ]
    }
   ],
   "source": [
    "' '.join(x for x in text)"
   ]
  },
  {
   "cell_type": "code",
   "execution_count": 137,
   "metadata": {},
   "outputs": [],
   "source": [
    "text = ' '.join(x for x in np.array(text).reshape(-1,))"
   ]
  },
  {
   "cell_type": "code",
   "execution_count": 139,
   "metadata": {},
   "outputs": [],
   "source": [
    "import konlpy\n",
    "import re"
   ]
  },
  {
   "cell_type": "code",
   "execution_count": 141,
   "metadata": {},
   "outputs": [],
   "source": [
    "text = re.sub(r'\\d+', '', text)"
   ]
  },
  {
   "cell_type": "code",
   "execution_count": 142,
   "metadata": {},
   "outputs": [
    {
     "data": {
      "text/plain": [
       "'태교여행  몰디브 한식을 꼭 먹어야 했었던 임산부 땜에 남편은 몰디브에서도 김치찌개를 끓였어야 했다. 하음이가 사랑이 뱃속에 있은 지 임신개월째 여행가서 찍은 사진. 여행이라고는 하지만 온통 머릿속은 사랑이 건강과 더불어 개월 후 빛을 볼 하음이에 쏠려 있어 시드니의 분위기와 풍경보다는 우리 둘의 시간에 집중했던.  sidney  부부  태교여행  호주  시드니  오페라하우스  아이고 멋져라  임신개월 행복했던  제주여행 화창한 날씨. 푸르른 바다. 맑고 쾌청한 하늘 나는 오늘  바다 와 깔맞춤. .블루뚜ㅋㅋ instadaily daily dailylook selfie 셀피 제주도 용머리해안 힐링 바다스타그램 임산부 태교여행 폭스베스트 겨울코디 뚜뚜 뚜뚜네 떠나자  오키나와 @hyeni__twinkle 별똥이와 함께 떠나는 호야와 혜니의 태교여행 supreme  supremetnf  supremeundercover  nmc  pumphoya  슈프림  섭리미  슈노  슈노캐리어  슈언코치  나매  슈매  펌프호야  태교여행  오키나와 어제 아침 - 양치만하고 수영하러 사진찍는데 방해되니까 비켜주세요 토리아빠  괌 guam 태교여행 여행스타그램 예비맘 닭띠맘 셀스타그램 셀카 여유로운아침  까오지에서 식사했는데 식당앞에서 찍은것도 아니고 건너편에서 사진찍기 ㅋ ㅋ 대만첫날  대만 타이베이 대만여행 가족여행 먹방여행 태교여행 여행 여행스타그램 얼스타그램 임산부스타그램 젊줌마 동먼 융캉제 럽스타그램 줌마그램 소통 좋아요 이때는 한방이 주차였을때 겁도 없이 발리여행 주나했었다니. 이제는 만삭여행준비 시간 너무 빨리가  마음의준비할 시간도 없이 훅훅  태교여행  괌 맛있겠죠오 넘사랑하는 유월 아침조식 제주도에서 가장 애정하는 곳이에요 저안에 따뜻하고 맛있는 닭고기스프 정성 가득 귀한 음식 감사해요 유월그리고열두마루 게스트하우스 제주도 제주 숙소 한동리 아침식사 치킨폿파이 감귤쨈 감귤쥬스 과일샐러드 유자샐러드 맛스타그램 임산부 태교여행 만삭여행 예비맘 괌  괌태교여행  태'"
      ]
     },
     "execution_count": 142,
     "metadata": {},
     "output_type": "execute_result"
    }
   ],
   "source": [
    "text[:1000]"
   ]
  },
  {
   "cell_type": "code",
   "execution_count": 143,
   "metadata": {},
   "outputs": [],
   "source": [
    "def cleansing(text):\n",
    "    repl = ''\n",
    "    pattern  = '([a-zA-Z0-9_.+-]+@[a-zA-Z0-9-]+\\.[a-zA-Z0-9-.]+)'\n",
    "    text = re.sub(pattern = pattern, repl = repl, string = text)\n",
    "    pattern  = '(http|ftp|https)://(?:[-\\w.]|(?:%[\\da-fA-F]{2}))+'\n",
    "    text = re.sub(pattern = pattern, repl = repl, string = text)\n",
    "    pattern  = '([ㄱ-ㅎㅏ-ㅣ]+)'\n",
    "    text = re.sub(pattern = pattern, repl = repl, string = text)\n",
    "    pattern  = '<[^>]*>'\n",
    "    text = re.sub(pattern = pattern, repl = repl, string = text)\n",
    "    pattern = '[^\\w\\s]'\n",
    "    text = re.sub(pattern = pattern, repl = repl, string = text)\n",
    "    return text    "
   ]
  },
  {
   "cell_type": "code",
   "execution_count": 144,
   "metadata": {},
   "outputs": [],
   "source": [
    "text = cleansing(text)"
   ]
  },
  {
   "cell_type": "markdown",
   "metadata": {},
   "source": [
    "### Q2) 전처리된 데이터에서 “태교여행”이란 단어를 사전에 추가하고 명사를 추출해 \n",
    "###     출현빈도 10위까지 막대그래프로 시각화하시오. "
   ]
  },
  {
   "cell_type": "code",
   "execution_count": 153,
   "metadata": {},
   "outputs": [],
   "source": [
    "taegyo = pd.DataFrame(columns = ['명사', '형태소'])\n",
    "taegyo['명사'] = ['태교여행']\n",
    "taegyo['형태소'] = ['NNP']"
   ]
  },
  {
   "cell_type": "code",
   "execution_count": 154,
   "metadata": {},
   "outputs": [
    {
     "data": {
      "text/html": [
       "<div>\n",
       "<style scoped>\n",
       "    .dataframe tbody tr th:only-of-type {\n",
       "        vertical-align: middle;\n",
       "    }\n",
       "\n",
       "    .dataframe tbody tr th {\n",
       "        vertical-align: top;\n",
       "    }\n",
       "\n",
       "    .dataframe thead th {\n",
       "        text-align: right;\n",
       "    }\n",
       "</style>\n",
       "<table border=\"1\" class=\"dataframe\">\n",
       "  <thead>\n",
       "    <tr style=\"text-align: right;\">\n",
       "      <th></th>\n",
       "      <th>명사</th>\n",
       "      <th>형태소</th>\n",
       "    </tr>\n",
       "  </thead>\n",
       "  <tbody>\n",
       "    <tr>\n",
       "      <th>0</th>\n",
       "      <td>태교여행</td>\n",
       "      <td>NNP</td>\n",
       "    </tr>\n",
       "  </tbody>\n",
       "</table>\n",
       "</div>"
      ],
      "text/plain": [
       "     명사  형태소\n",
       "0  태교여행  NNP"
      ]
     },
     "execution_count": 154,
     "metadata": {},
     "output_type": "execute_result"
    }
   ],
   "source": [
    "taegyo"
   ]
  },
  {
   "cell_type": "code",
   "execution_count": 155,
   "metadata": {},
   "outputs": [],
   "source": [
    "taegyo.to_csv('./taegyo.txt', sep='\\t', index=False, header=False)"
   ]
  },
  {
   "cell_type": "code",
   "execution_count": 156,
   "metadata": {},
   "outputs": [],
   "source": [
    "from konlpy.tag import Komoran\n",
    "komoran = Komoran(userdic='taegyo.txt')\n",
    "nouns = komoran.nouns(text)"
   ]
  },
  {
   "cell_type": "code",
   "execution_count": 1,
   "metadata": {},
   "outputs": [],
   "source": [
    "from collections import Counter\n",
    "cnt = Counter(nouns)"
   ]
  },
  {
   "cell_type": "code",
   "execution_count": 158,
   "metadata": {},
   "outputs": [
    {
     "data": {
      "text/html": [
       "<div>\n",
       "<style scoped>\n",
       "    .dataframe tbody tr th:only-of-type {\n",
       "        vertical-align: middle;\n",
       "    }\n",
       "\n",
       "    .dataframe tbody tr th {\n",
       "        vertical-align: top;\n",
       "    }\n",
       "\n",
       "    .dataframe thead th {\n",
       "        text-align: right;\n",
       "    }\n",
       "</style>\n",
       "<table border=\"1\" class=\"dataframe\">\n",
       "  <thead>\n",
       "    <tr style=\"text-align: right;\">\n",
       "      <th></th>\n",
       "      <th>명사</th>\n",
       "      <th>빈도</th>\n",
       "    </tr>\n",
       "  </thead>\n",
       "  <tbody>\n",
       "    <tr>\n",
       "      <th>0</th>\n",
       "      <td>태교여행</td>\n",
       "      <td>215</td>\n",
       "    </tr>\n",
       "    <tr>\n",
       "      <th>1</th>\n",
       "      <td>여행</td>\n",
       "      <td>202</td>\n",
       "    </tr>\n",
       "    <tr>\n",
       "      <th>2</th>\n",
       "      <td>그램</td>\n",
       "      <td>113</td>\n",
       "    </tr>\n",
       "    <tr>\n",
       "      <th>3</th>\n",
       "      <td>괌</td>\n",
       "      <td>95</td>\n",
       "    </tr>\n",
       "    <tr>\n",
       "      <th>4</th>\n",
       "      <td>스타</td>\n",
       "      <td>89</td>\n",
       "    </tr>\n",
       "    <tr>\n",
       "      <th>5</th>\n",
       "      <td>임산부</td>\n",
       "      <td>64</td>\n",
       "    </tr>\n",
       "    <tr>\n",
       "      <th>6</th>\n",
       "      <td>맘</td>\n",
       "      <td>59</td>\n",
       "    </tr>\n",
       "    <tr>\n",
       "      <th>7</th>\n",
       "      <td>제주</td>\n",
       "      <td>39</td>\n",
       "    </tr>\n",
       "    <tr>\n",
       "      <th>8</th>\n",
       "      <td>예비</td>\n",
       "      <td>35</td>\n",
       "    </tr>\n",
       "    <tr>\n",
       "      <th>9</th>\n",
       "      <td>만삭</td>\n",
       "      <td>32</td>\n",
       "    </tr>\n",
       "  </tbody>\n",
       "</table>\n",
       "</div>"
      ],
      "text/plain": [
       "     명사   빈도\n",
       "0  태교여행  215\n",
       "1  여행    202\n",
       "2  그램    113\n",
       "3  괌     95 \n",
       "4  스타    89 \n",
       "5  임산부   64 \n",
       "6  맘     59 \n",
       "7  제주    39 \n",
       "8  예비    35 \n",
       "9  만삭    32 "
      ]
     },
     "execution_count": 158,
     "metadata": {},
     "output_type": "execute_result"
    }
   ],
   "source": [
    "temp_df = pd.DataFrame(columns = ['명사', '빈도'])\n",
    "freq = cnt.most_common(10)\n",
    "temp_list = []\n",
    "temp_list2= []\n",
    "for i in freq:\n",
    "    temp_list.append(i[0])\n",
    "    temp_list2.append(i[1])\n",
    "temp_df['명사'] = temp_list\n",
    "temp_df['빈도'] = temp_list2\n",
    "temp_df"
   ]
  },
  {
   "cell_type": "code",
   "execution_count": 159,
   "metadata": {},
   "outputs": [
    {
     "data": {
      "image/png": "[encoded data removed]",
      "text/plain": [
       "<Figure size 576x432 with 1 Axes>"
      ]
     },
     "metadata": {
      "needs_background": "light"
     },
     "output_type": "display_data"
    }
   ],
   "source": [
    "plt.figure(figsize = (8,6))\n",
    "sns.barplot(x = '명사', y = '빈도', data = temp_df)\n",
    "plt.tight_layout()\n",
    "plt.show()"
   ]
  },
  {
   "cell_type": "code",
   "execution_count": 171,
   "metadata": {},
   "outputs": [],
   "source": [
    "words = {}\n",
    "for i in cnt.most_common(20):\n",
    "    words[i[0]] = i[1]"
   ]
  },
  {
   "cell_type": "code",
   "execution_count": 173,
   "metadata": {},
   "outputs": [
    {
     "data": {
      "image/png": "[encoded data removed]",
      "text/plain": [
       "<Figure size 432x288 with 1 Axes>"
      ]
     },
     "metadata": {
      "needs_background": "light"
     },
     "output_type": "display_data"
    }
   ],
   "source": [
    "from wordcloud import WordCloud \n",
    "import nltk\n",
    "from nltk.corpus import stopwords\n",
    "\n",
    "wordcloud = WordCloud(font_path = \"/usr/share/fonts/NanumGothicCoding.ttf\", background_color='white',colormap = \"Accent_r\",\n",
    "                      width=1500, height=1000).generate_from_frequencies(words)\n",
    "\n",
    "plt.imshow(wordcloud)\n",
    "plt.axis('off')\n",
    "plt.show()"
   ]
  },
  {
   "cell_type": "code",
   "execution_count": null,
   "metadata": {},
   "outputs": [],
   "source": []
  }
 ],
 "metadata": {
  "kernelspec": {
   "display_name": "Python 3",
   "language": "python",
   "name": "python3"
  },
  "language_info": {
   "codemirror_mode": {
    "name": "ipython",
    "version": 3
   },
   "file_extension": ".py",
   "mimetype": "text/x-python",
   "name": "python",
   "nbconvert_exporter": "python",
   "pygments_lexer": "ipython3",
   "version": "3.7.4"
  },
  "toc": {
   "base_numbering": 1,
   "nav_menu": {},
   "number_sections": true,
   "sideBar": true,
   "skip_h1_title": false,
   "title_cell": "Table of Contents",
   "title_sidebar": "Contents",
   "toc_cell": false,
   "toc_position": {},
   "toc_section_display": true,
   "toc_window_display": false
  },
  "varInspector": {
   "cols": {
    "lenName": 16,
    "lenType": 16,
    "lenVar": 40
   },
   "kernels_config": {
    "python": {
     "delete_cmd_postfix": "",
     "delete_cmd_prefix": "del ",
     "library": "var_list.py",
     "varRefreshCmd": "print(var_dic_list())"
    },
    "r": {
     "delete_cmd_postfix": ") ",
     "delete_cmd_prefix": "rm(",
     "library": "var_list.r",
     "varRefreshCmd": "cat(var_dic_list()) "
    }
   },
   "types_to_exclude": [
    "module",
    "function",
    "builtin_function_or_method",
    "instance",
    "_Feature"
   ],
   "window_display": false
  }
 },
 "nbformat": 4,
 "nbformat_minor": 4
}
