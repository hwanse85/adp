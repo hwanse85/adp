{
 "cells": [
  {
   "cell_type": "markdown",
   "metadata": {},
   "source": [
    "# 기계학습"
   ]
  },
  {
   "cell_type": "markdown",
   "metadata": {},
   "source": [
    "## 분류"
   ]
  },
  {
   "cell_type": "markdown",
   "metadata": {},
   "source": [
    "### 라이브러리 호출"
   ]
  },
  {
   "cell_type": "code",
   "execution_count": null,
   "metadata": {
    "ExecuteTime": {
     "end_time": "2020-12-12T05:50:54.869176Z",
     "start_time": "2020-12-12T05:50:52.948647Z"
    }
   },
   "outputs": [],
   "source": [
    "import pandas as pd\n",
    "import numpy as np\n",
    "import seaborn as sns\n",
    "import matplotlib.pyplot as plt\n",
    "%matplotlib inline\n",
    "pd.options.display.max_columns = None"
   ]
  },
  {
   "cell_type": "markdown",
   "metadata": {},
   "source": [
    "### 그래프 한글 깨짐 방지"
   ]
  },
  {
   "cell_type": "code",
   "execution_count": 2,
   "metadata": {
    "ExecuteTime": {
     "end_time": "2020-12-12T05:50:54.879780Z",
     "start_time": "2020-12-12T05:50:54.871704Z"
    }
   },
   "outputs": [],
   "source": [
    "from matplotlib import font_manager, rc\n",
    "path = 'malgun.ttf'\n",
    "font_name = font_manager.FontProperties(fname=path).get_name()\n",
    "rc('font', family = font_name)"
   ]
  },
  {
   "cell_type": "markdown",
   "metadata": {},
   "source": [
    "### 데이터 로딩"
   ]
  },
  {
   "cell_type": "code",
   "execution_count": 3,
   "metadata": {
    "ExecuteTime": {
     "end_time": "2020-12-12T05:50:54.914720Z",
     "start_time": "2020-12-12T05:50:54.884828Z"
    }
   },
   "outputs": [],
   "source": [
    "df = pd.read_csv('./data/bikeshare.csv')"
   ]
  },
  {
   "cell_type": "markdown",
   "metadata": {
    "ExecuteTime": {
     "end_time": "2020-12-05T09:20:00.664746Z",
     "start_time": "2020-12-05T09:20:00.636168Z"
    }
   },
   "source": [
    "### 데이터 구조 확인"
   ]
  },
  {
   "cell_type": "code",
   "execution_count": 4,
   "metadata": {
    "ExecuteTime": {
     "end_time": "2020-12-12T05:50:54.939333Z",
     "start_time": "2020-12-12T05:50:54.917707Z"
    }
   },
   "outputs": [
    {
     "data": {
      "text/html": [
       "<div>\n",
       "<style scoped>\n",
       "    .dataframe tbody tr th:only-of-type {\n",
       "        vertical-align: middle;\n",
       "    }\n",
       "\n",
       "    .dataframe tbody tr th {\n",
       "        vertical-align: top;\n",
       "    }\n",
       "\n",
       "    .dataframe thead th {\n",
       "        text-align: right;\n",
       "    }\n",
       "</style>\n",
       "<table border=\"1\" class=\"dataframe\">\n",
       "  <thead>\n",
       "    <tr style=\"text-align: right;\">\n",
       "      <th></th>\n",
       "      <th>datetime</th>\n",
       "      <th>season</th>\n",
       "      <th>holiday</th>\n",
       "      <th>workingday</th>\n",
       "      <th>weather</th>\n",
       "      <th>temp</th>\n",
       "      <th>atemp</th>\n",
       "      <th>humidity</th>\n",
       "      <th>windspeed</th>\n",
       "      <th>casual</th>\n",
       "      <th>registered</th>\n",
       "      <th>count</th>\n",
       "    </tr>\n",
       "  </thead>\n",
       "  <tbody>\n",
       "    <tr>\n",
       "      <th>0</th>\n",
       "      <td>2011-01-01 0:00</td>\n",
       "      <td>A</td>\n",
       "      <td>0</td>\n",
       "      <td>0</td>\n",
       "      <td>1</td>\n",
       "      <td>9.84</td>\n",
       "      <td>14.395</td>\n",
       "      <td>81</td>\n",
       "      <td>0.0</td>\n",
       "      <td>3</td>\n",
       "      <td>13</td>\n",
       "      <td>16</td>\n",
       "    </tr>\n",
       "    <tr>\n",
       "      <th>1</th>\n",
       "      <td>2011-01-01 1:00</td>\n",
       "      <td>A</td>\n",
       "      <td>0</td>\n",
       "      <td>0</td>\n",
       "      <td>1</td>\n",
       "      <td>9.02</td>\n",
       "      <td>13.635</td>\n",
       "      <td>80</td>\n",
       "      <td>0.0</td>\n",
       "      <td>8</td>\n",
       "      <td>32</td>\n",
       "      <td>40</td>\n",
       "    </tr>\n",
       "    <tr>\n",
       "      <th>2</th>\n",
       "      <td>2011-01-01 2:00</td>\n",
       "      <td>A</td>\n",
       "      <td>0</td>\n",
       "      <td>0</td>\n",
       "      <td>1</td>\n",
       "      <td>9.02</td>\n",
       "      <td>13.635</td>\n",
       "      <td>80</td>\n",
       "      <td>0.0</td>\n",
       "      <td>5</td>\n",
       "      <td>27</td>\n",
       "      <td>32</td>\n",
       "    </tr>\n",
       "    <tr>\n",
       "      <th>3</th>\n",
       "      <td>2011-01-01 3:00</td>\n",
       "      <td>A</td>\n",
       "      <td>0</td>\n",
       "      <td>0</td>\n",
       "      <td>1</td>\n",
       "      <td>9.84</td>\n",
       "      <td>14.395</td>\n",
       "      <td>75</td>\n",
       "      <td>0.0</td>\n",
       "      <td>3</td>\n",
       "      <td>10</td>\n",
       "      <td>13</td>\n",
       "    </tr>\n",
       "    <tr>\n",
       "      <th>4</th>\n",
       "      <td>2011-01-01 4:00</td>\n",
       "      <td>A</td>\n",
       "      <td>0</td>\n",
       "      <td>0</td>\n",
       "      <td>1</td>\n",
       "      <td>9.84</td>\n",
       "      <td>14.395</td>\n",
       "      <td>75</td>\n",
       "      <td>0.0</td>\n",
       "      <td>0</td>\n",
       "      <td>1</td>\n",
       "      <td>1</td>\n",
       "    </tr>\n",
       "  </tbody>\n",
       "</table>\n",
       "</div>"
      ],
      "text/plain": [
       "          datetime season  holiday  workingday  weather  temp   atemp  \\\n",
       "0  2011-01-01 0:00      A        0           0        1  9.84  14.395   \n",
       "1  2011-01-01 1:00      A        0           0        1  9.02  13.635   \n",
       "2  2011-01-01 2:00      A        0           0        1  9.02  13.635   \n",
       "3  2011-01-01 3:00      A        0           0        1  9.84  14.395   \n",
       "4  2011-01-01 4:00      A        0           0        1  9.84  14.395   \n",
       "\n",
       "   humidity  windspeed  casual  registered  count  \n",
       "0        81        0.0       3          13     16  \n",
       "1        80        0.0       8          32     40  \n",
       "2        80        0.0       5          27     32  \n",
       "3        75        0.0       3          10     13  \n",
       "4        75        0.0       0           1      1  "
      ]
     },
     "execution_count": 4,
     "metadata": {},
     "output_type": "execute_result"
    }
   ],
   "source": [
    "df.head() #CCCCC"
   ]
  },
  {
   "cell_type": "code",
   "execution_count": 5,
   "metadata": {
    "ExecuteTime": {
     "end_time": "2020-12-12T05:50:54.956377Z",
     "start_time": "2020-12-12T05:50:54.941329Z"
    }
   },
   "outputs": [
    {
     "data": {
      "text/html": [
       "<div>\n",
       "<style scoped>\n",
       "    .dataframe tbody tr th:only-of-type {\n",
       "        vertical-align: middle;\n",
       "    }\n",
       "\n",
       "    .dataframe tbody tr th {\n",
       "        vertical-align: top;\n",
       "    }\n",
       "\n",
       "    .dataframe thead th {\n",
       "        text-align: right;\n",
       "    }\n",
       "</style>\n",
       "<table border=\"1\" class=\"dataframe\">\n",
       "  <thead>\n",
       "    <tr style=\"text-align: right;\">\n",
       "      <th></th>\n",
       "      <th>datetime</th>\n",
       "      <th>season</th>\n",
       "      <th>holiday</th>\n",
       "      <th>workingday</th>\n",
       "      <th>weather</th>\n",
       "      <th>temp</th>\n",
       "      <th>atemp</th>\n",
       "      <th>humidity</th>\n",
       "      <th>windspeed</th>\n",
       "      <th>casual</th>\n",
       "      <th>registered</th>\n",
       "      <th>count</th>\n",
       "    </tr>\n",
       "  </thead>\n",
       "  <tbody>\n",
       "    <tr>\n",
       "      <th>10881</th>\n",
       "      <td>2012-12-19 19:00</td>\n",
       "      <td>D</td>\n",
       "      <td>0</td>\n",
       "      <td>1</td>\n",
       "      <td>1</td>\n",
       "      <td>15.58</td>\n",
       "      <td>19.695</td>\n",
       "      <td>50</td>\n",
       "      <td>26.0027</td>\n",
       "      <td>7</td>\n",
       "      <td>329</td>\n",
       "      <td>336</td>\n",
       "    </tr>\n",
       "    <tr>\n",
       "      <th>10882</th>\n",
       "      <td>2012-12-19 20:00</td>\n",
       "      <td>D</td>\n",
       "      <td>0</td>\n",
       "      <td>1</td>\n",
       "      <td>1</td>\n",
       "      <td>14.76</td>\n",
       "      <td>17.425</td>\n",
       "      <td>57</td>\n",
       "      <td>15.0013</td>\n",
       "      <td>10</td>\n",
       "      <td>231</td>\n",
       "      <td>241</td>\n",
       "    </tr>\n",
       "    <tr>\n",
       "      <th>10883</th>\n",
       "      <td>2012-12-19 21:00</td>\n",
       "      <td>D</td>\n",
       "      <td>0</td>\n",
       "      <td>1</td>\n",
       "      <td>1</td>\n",
       "      <td>13.94</td>\n",
       "      <td>15.910</td>\n",
       "      <td>61</td>\n",
       "      <td>15.0013</td>\n",
       "      <td>4</td>\n",
       "      <td>164</td>\n",
       "      <td>168</td>\n",
       "    </tr>\n",
       "    <tr>\n",
       "      <th>10884</th>\n",
       "      <td>2012-12-19 22:00</td>\n",
       "      <td>D</td>\n",
       "      <td>0</td>\n",
       "      <td>1</td>\n",
       "      <td>1</td>\n",
       "      <td>13.94</td>\n",
       "      <td>17.425</td>\n",
       "      <td>61</td>\n",
       "      <td>6.0032</td>\n",
       "      <td>12</td>\n",
       "      <td>117</td>\n",
       "      <td>129</td>\n",
       "    </tr>\n",
       "    <tr>\n",
       "      <th>10885</th>\n",
       "      <td>2012-12-19 23:00</td>\n",
       "      <td>D</td>\n",
       "      <td>0</td>\n",
       "      <td>1</td>\n",
       "      <td>1</td>\n",
       "      <td>13.12</td>\n",
       "      <td>16.665</td>\n",
       "      <td>66</td>\n",
       "      <td>8.9981</td>\n",
       "      <td>4</td>\n",
       "      <td>84</td>\n",
       "      <td>88</td>\n",
       "    </tr>\n",
       "  </tbody>\n",
       "</table>\n",
       "</div>"
      ],
      "text/plain": [
       "               datetime season  holiday  workingday  weather   temp   atemp  \\\n",
       "10881  2012-12-19 19:00      D        0           1        1  15.58  19.695   \n",
       "10882  2012-12-19 20:00      D        0           1        1  14.76  17.425   \n",
       "10883  2012-12-19 21:00      D        0           1        1  13.94  15.910   \n",
       "10884  2012-12-19 22:00      D        0           1        1  13.94  17.425   \n",
       "10885  2012-12-19 23:00      D        0           1        1  13.12  16.665   \n",
       "\n",
       "       humidity  windspeed  casual  registered  count  \n",
       "10881        50    26.0027       7         329    336  \n",
       "10882        57    15.0013      10         231    241  \n",
       "10883        61    15.0013       4         164    168  \n",
       "10884        61     6.0032      12         117    129  \n",
       "10885        66     8.9981       4          84     88  "
      ]
     },
     "execution_count": 5,
     "metadata": {},
     "output_type": "execute_result"
    }
   ],
   "source": [
    "df.tail()  #CCCCC"
   ]
  },
  {
   "cell_type": "code",
   "execution_count": 6,
   "metadata": {
    "ExecuteTime": {
     "end_time": "2020-12-12T05:50:54.965399Z",
     "start_time": "2020-12-12T05:50:54.958362Z"
    }
   },
   "outputs": [
    {
     "data": {
      "text/plain": [
       "(10886, 12)"
      ]
     },
     "execution_count": 6,
     "metadata": {},
     "output_type": "execute_result"
    }
   ],
   "source": [
    "df.shape "
   ]
  },
  {
   "cell_type": "code",
   "execution_count": 7,
   "metadata": {
    "ExecuteTime": {
     "end_time": "2020-12-12T05:50:54.981418Z",
     "start_time": "2020-12-12T05:50:54.967338Z"
    }
   },
   "outputs": [
    {
     "name": "stdout",
     "output_type": "stream",
     "text": [
      "<class 'pandas.core.frame.DataFrame'>\n",
      "RangeIndex: 10886 entries, 0 to 10885\n",
      "Data columns (total 12 columns):\n",
      " #   Column      Non-Null Count  Dtype  \n",
      "---  ------      --------------  -----  \n",
      " 0   datetime    10886 non-null  object \n",
      " 1   season      10886 non-null  object \n",
      " 2   holiday     10886 non-null  int64  \n",
      " 3   workingday  10886 non-null  int64  \n",
      " 4   weather     10886 non-null  int64  \n",
      " 5   temp        10886 non-null  float64\n",
      " 6   atemp       10886 non-null  float64\n",
      " 7   humidity    10886 non-null  int64  \n",
      " 8   windspeed   10886 non-null  float64\n",
      " 9   casual      10886 non-null  int64  \n",
      " 10  registered  10886 non-null  int64  \n",
      " 11  count       10886 non-null  int64  \n",
      "dtypes: float64(3), int64(7), object(2)\n",
      "memory usage: 1020.7+ KB\n"
     ]
    }
   ],
   "source": [
    "df.info()"
   ]
  },
  {
   "cell_type": "markdown",
   "metadata": {},
   "source": [
    "### 데이터 타입 맞춰주기"
   ]
  },
  {
   "cell_type": "code",
   "execution_count": 8,
   "metadata": {
    "ExecuteTime": {
     "end_time": "2020-12-12T05:50:54.990424Z",
     "start_time": "2020-12-12T05:50:54.985378Z"
    }
   },
   "outputs": [
    {
     "data": {
      "text/plain": [
       "Index(['datetime', 'season', 'holiday', 'workingday', 'weather', 'temp',\n",
       "       'atemp', 'humidity', 'windspeed', 'casual', 'registered', 'count'],\n",
       "      dtype='object')"
      ]
     },
     "execution_count": 8,
     "metadata": {},
     "output_type": "execute_result"
    }
   ],
   "source": [
    "df.columns"
   ]
  },
  {
   "cell_type": "code",
   "execution_count": 9,
   "metadata": {
    "ExecuteTime": {
     "end_time": "2020-12-12T05:50:54.999365Z",
     "start_time": "2020-12-12T05:50:54.993382Z"
    }
   },
   "outputs": [],
   "source": [
    "# type별로 컬럼 분류\n",
    "col_id = []\n",
    "col_dt = ['datetime']\n",
    "col_cat = ['season']\n",
    "col_int = ['weather', 'humidity','casual','registered','count']\n",
    "col_float = ['temp','atemp','windspeed']\n",
    "col_bool = ['holiday','workingday']\n",
    "col_num = col_int + col_float"
   ]
  },
  {
   "cell_type": "code",
   "execution_count": 10,
   "metadata": {
    "ExecuteTime": {
     "end_time": "2020-12-12T05:50:55.024925Z",
     "start_time": "2020-12-12T05:50:55.001947Z"
    }
   },
   "outputs": [],
   "source": [
    "df['datetime'] = pd.to_datetime(df['datetime'])\n",
    "df[col_cat]= df[col_cat].astype('str')\n",
    "df[col_int] = df[col_int].astype('int', errors='ignore')\n",
    "df[col_float] = df[col_float].astype('float')"
   ]
  },
  {
   "cell_type": "markdown",
   "metadata": {},
   "source": [
    "### DQ Check (빈도분석, 분포분석)"
   ]
  },
  {
   "cell_type": "markdown",
   "metadata": {},
   "source": [
    "#### 연속형 변수"
   ]
  },
  {
   "cell_type": "code",
   "execution_count": 11,
   "metadata": {
    "ExecuteTime": {
     "end_time": "2020-12-12T05:50:55.036910Z",
     "start_time": "2020-12-12T05:50:55.026901Z"
    }
   },
   "outputs": [],
   "source": [
    "def DA(data):\n",
    "    da = data.describe(percentiles=[0.05, 0.1, 0.25, 0.5, 0.75, 0.9, 0.95])\n",
    "    da = da.T\n",
    "    df1 = data.isna().sum() # 결측값\n",
    "    df1.name = 'missing'\n",
    "    df2 = data.median() # 중앙값\n",
    "    df2.name = 'median'\n",
    "    df3 = np.var(data) # 분산\n",
    "    df3.name = 'variance'\n",
    "    df4 = data.skew() # 왜도 : 양수면 왼쪽으로 치우침\n",
    "    df4.name = 'skewness'\n",
    "    df5 = data.kurtosis() # 첨도 : 0보다 클수록 뾰족함\n",
    "    df5.name = 'kurtosis'\n",
    "\n",
    "    da = pd.concat([da,df1,df2,df3,df4,df5], axis=1) # 모두 합침\n",
    "    da['total'] = da['count'] + da['missing'] # 전체 데이터 수\n",
    "\n",
    "    # 컬럼 순서 보기 좋게 정렬\n",
    "    col_nm = da.columns.tolist()\n",
    "    order = ['total','count','missing','mean','median','std','variance','skewness','kurtosis','min',\n",
    "             '5%','10%','25%','50%','75%','90%','95%','max']\n",
    "    col_nm_new=[]\n",
    "    for i in order:\n",
    "        col_nm_new.append(i)\n",
    "#     col_nm_new.extend(col_nm[3:12])\n",
    "    da = da[col_nm_new]\n",
    "    \n",
    "    # 소수점 둘째자리 반올림\n",
    "    da = da.round(2) \n",
    "    return da"
   ]
  },
  {
   "cell_type": "code",
   "execution_count": 12,
   "metadata": {
    "ExecuteTime": {
     "end_time": "2020-12-12T05:50:55.121634Z",
     "start_time": "2020-12-12T05:50:55.038899Z"
    }
   },
   "outputs": [],
   "source": [
    "DA1 = DA(df[col_num])\n",
    "DA1.to_csv('빈도분포분석_연속형.csv', encoding='cp949')"
   ]
  },
  {
   "cell_type": "code",
   "execution_count": 13,
   "metadata": {
    "ExecuteTime": {
     "end_time": "2020-12-12T05:50:55.157663Z",
     "start_time": "2020-12-12T05:50:55.124525Z"
    }
   },
   "outputs": [
    {
     "data": {
      "text/html": [
       "<div>\n",
       "<style scoped>\n",
       "    .dataframe tbody tr th:only-of-type {\n",
       "        vertical-align: middle;\n",
       "    }\n",
       "\n",
       "    .dataframe tbody tr th {\n",
       "        vertical-align: top;\n",
       "    }\n",
       "\n",
       "    .dataframe thead th {\n",
       "        text-align: right;\n",
       "    }\n",
       "</style>\n",
       "<table border=\"1\" class=\"dataframe\">\n",
       "  <thead>\n",
       "    <tr style=\"text-align: right;\">\n",
       "      <th></th>\n",
       "      <th>total</th>\n",
       "      <th>count</th>\n",
       "      <th>missing</th>\n",
       "      <th>mean</th>\n",
       "      <th>median</th>\n",
       "      <th>std</th>\n",
       "      <th>variance</th>\n",
       "      <th>skewness</th>\n",
       "      <th>kurtosis</th>\n",
       "      <th>min</th>\n",
       "      <th>5%</th>\n",
       "      <th>10%</th>\n",
       "      <th>25%</th>\n",
       "      <th>50%</th>\n",
       "      <th>75%</th>\n",
       "      <th>90%</th>\n",
       "      <th>95%</th>\n",
       "      <th>max</th>\n",
       "    </tr>\n",
       "  </thead>\n",
       "  <tbody>\n",
       "    <tr>\n",
       "      <th>weather</th>\n",
       "      <td>10886.0</td>\n",
       "      <td>10886.0</td>\n",
       "      <td>0</td>\n",
       "      <td>1.42</td>\n",
       "      <td>1.00</td>\n",
       "      <td>0.63</td>\n",
       "      <td>0.40</td>\n",
       "      <td>1.24</td>\n",
       "      <td>0.40</td>\n",
       "      <td>1.00</td>\n",
       "      <td>1.00</td>\n",
       "      <td>1.00</td>\n",
       "      <td>1.00</td>\n",
       "      <td>1.00</td>\n",
       "      <td>2.00</td>\n",
       "      <td>2.00</td>\n",
       "      <td>3.00</td>\n",
       "      <td>4.00</td>\n",
       "    </tr>\n",
       "    <tr>\n",
       "      <th>humidity</th>\n",
       "      <td>10886.0</td>\n",
       "      <td>10886.0</td>\n",
       "      <td>0</td>\n",
       "      <td>61.89</td>\n",
       "      <td>62.00</td>\n",
       "      <td>19.25</td>\n",
       "      <td>370.34</td>\n",
       "      <td>-0.09</td>\n",
       "      <td>-0.76</td>\n",
       "      <td>0.00</td>\n",
       "      <td>31.00</td>\n",
       "      <td>37.00</td>\n",
       "      <td>47.00</td>\n",
       "      <td>62.00</td>\n",
       "      <td>77.00</td>\n",
       "      <td>88.00</td>\n",
       "      <td>93.00</td>\n",
       "      <td>100.00</td>\n",
       "    </tr>\n",
       "    <tr>\n",
       "      <th>casual</th>\n",
       "      <td>10886.0</td>\n",
       "      <td>10886.0</td>\n",
       "      <td>0</td>\n",
       "      <td>36.02</td>\n",
       "      <td>17.00</td>\n",
       "      <td>49.96</td>\n",
       "      <td>2495.82</td>\n",
       "      <td>2.50</td>\n",
       "      <td>7.55</td>\n",
       "      <td>0.00</td>\n",
       "      <td>0.00</td>\n",
       "      <td>1.00</td>\n",
       "      <td>4.00</td>\n",
       "      <td>17.00</td>\n",
       "      <td>49.00</td>\n",
       "      <td>94.00</td>\n",
       "      <td>141.00</td>\n",
       "      <td>367.00</td>\n",
       "    </tr>\n",
       "    <tr>\n",
       "      <th>registered</th>\n",
       "      <td>10886.0</td>\n",
       "      <td>10886.0</td>\n",
       "      <td>0</td>\n",
       "      <td>155.55</td>\n",
       "      <td>118.00</td>\n",
       "      <td>151.04</td>\n",
       "      <td>22810.69</td>\n",
       "      <td>1.52</td>\n",
       "      <td>2.63</td>\n",
       "      <td>0.00</td>\n",
       "      <td>4.00</td>\n",
       "      <td>7.00</td>\n",
       "      <td>36.00</td>\n",
       "      <td>118.00</td>\n",
       "      <td>222.00</td>\n",
       "      <td>354.00</td>\n",
       "      <td>464.00</td>\n",
       "      <td>886.00</td>\n",
       "    </tr>\n",
       "    <tr>\n",
       "      <th>count</th>\n",
       "      <td>10886.0</td>\n",
       "      <td>10886.0</td>\n",
       "      <td>0</td>\n",
       "      <td>191.57</td>\n",
       "      <td>145.00</td>\n",
       "      <td>181.14</td>\n",
       "      <td>32810.30</td>\n",
       "      <td>1.24</td>\n",
       "      <td>1.30</td>\n",
       "      <td>1.00</td>\n",
       "      <td>5.00</td>\n",
       "      <td>9.00</td>\n",
       "      <td>42.00</td>\n",
       "      <td>145.00</td>\n",
       "      <td>284.00</td>\n",
       "      <td>452.00</td>\n",
       "      <td>563.75</td>\n",
       "      <td>977.00</td>\n",
       "    </tr>\n",
       "    <tr>\n",
       "      <th>temp</th>\n",
       "      <td>10886.0</td>\n",
       "      <td>10886.0</td>\n",
       "      <td>0</td>\n",
       "      <td>20.23</td>\n",
       "      <td>20.50</td>\n",
       "      <td>7.79</td>\n",
       "      <td>60.70</td>\n",
       "      <td>0.00</td>\n",
       "      <td>-0.91</td>\n",
       "      <td>0.82</td>\n",
       "      <td>8.20</td>\n",
       "      <td>9.84</td>\n",
       "      <td>13.94</td>\n",
       "      <td>20.50</td>\n",
       "      <td>26.24</td>\n",
       "      <td>30.34</td>\n",
       "      <td>32.80</td>\n",
       "      <td>41.00</td>\n",
       "    </tr>\n",
       "    <tr>\n",
       "      <th>atemp</th>\n",
       "      <td>10886.0</td>\n",
       "      <td>10886.0</td>\n",
       "      <td>0</td>\n",
       "      <td>23.66</td>\n",
       "      <td>24.24</td>\n",
       "      <td>8.47</td>\n",
       "      <td>71.81</td>\n",
       "      <td>-0.10</td>\n",
       "      <td>-0.85</td>\n",
       "      <td>0.76</td>\n",
       "      <td>9.85</td>\n",
       "      <td>12.12</td>\n",
       "      <td>16.66</td>\n",
       "      <td>24.24</td>\n",
       "      <td>31.06</td>\n",
       "      <td>34.09</td>\n",
       "      <td>36.36</td>\n",
       "      <td>45.46</td>\n",
       "    </tr>\n",
       "    <tr>\n",
       "      <th>windspeed</th>\n",
       "      <td>10886.0</td>\n",
       "      <td>10886.0</td>\n",
       "      <td>0</td>\n",
       "      <td>12.80</td>\n",
       "      <td>13.00</td>\n",
       "      <td>8.16</td>\n",
       "      <td>66.65</td>\n",
       "      <td>0.59</td>\n",
       "      <td>0.63</td>\n",
       "      <td>0.00</td>\n",
       "      <td>0.00</td>\n",
       "      <td>0.00</td>\n",
       "      <td>7.00</td>\n",
       "      <td>13.00</td>\n",
       "      <td>17.00</td>\n",
       "      <td>24.00</td>\n",
       "      <td>28.00</td>\n",
       "      <td>57.00</td>\n",
       "    </tr>\n",
       "  </tbody>\n",
       "</table>\n",
       "</div>"
      ],
      "text/plain": [
       "              total    count  missing    mean  median     std  variance  \\\n",
       "weather     10886.0  10886.0        0    1.42    1.00    0.63      0.40   \n",
       "humidity    10886.0  10886.0        0   61.89   62.00   19.25    370.34   \n",
       "casual      10886.0  10886.0        0   36.02   17.00   49.96   2495.82   \n",
       "registered  10886.0  10886.0        0  155.55  118.00  151.04  22810.69   \n",
       "count       10886.0  10886.0        0  191.57  145.00  181.14  32810.30   \n",
       "temp        10886.0  10886.0        0   20.23   20.50    7.79     60.70   \n",
       "atemp       10886.0  10886.0        0   23.66   24.24    8.47     71.81   \n",
       "windspeed   10886.0  10886.0        0   12.80   13.00    8.16     66.65   \n",
       "\n",
       "            skewness  kurtosis   min     5%    10%    25%     50%     75%  \\\n",
       "weather         1.24      0.40  1.00   1.00   1.00   1.00    1.00    2.00   \n",
       "humidity       -0.09     -0.76  0.00  31.00  37.00  47.00   62.00   77.00   \n",
       "casual          2.50      7.55  0.00   0.00   1.00   4.00   17.00   49.00   \n",
       "registered      1.52      2.63  0.00   4.00   7.00  36.00  118.00  222.00   \n",
       "count           1.24      1.30  1.00   5.00   9.00  42.00  145.00  284.00   \n",
       "temp            0.00     -0.91  0.82   8.20   9.84  13.94   20.50   26.24   \n",
       "atemp          -0.10     -0.85  0.76   9.85  12.12  16.66   24.24   31.06   \n",
       "windspeed       0.59      0.63  0.00   0.00   0.00   7.00   13.00   17.00   \n",
       "\n",
       "               90%     95%     max  \n",
       "weather       2.00    3.00    4.00  \n",
       "humidity     88.00   93.00  100.00  \n",
       "casual       94.00  141.00  367.00  \n",
       "registered  354.00  464.00  886.00  \n",
       "count       452.00  563.75  977.00  \n",
       "temp         30.34   32.80   41.00  \n",
       "atemp        34.09   36.36   45.46  \n",
       "windspeed    24.00   28.00   57.00  "
      ]
     },
     "execution_count": 13,
     "metadata": {},
     "output_type": "execute_result"
    }
   ],
   "source": [
    "DA1"
   ]
  },
  {
   "cell_type": "markdown",
   "metadata": {},
   "source": [
    "#### 범주형 변수"
   ]
  },
  {
   "cell_type": "code",
   "execution_count": 14,
   "metadata": {
    "ExecuteTime": {
     "end_time": "2020-12-12T05:50:55.171626Z",
     "start_time": "2020-12-12T05:50:55.160656Z"
    }
   },
   "outputs": [],
   "source": [
    "# 범주형 변수 빈도분석\n",
    "def DA_cat(data, col_cat):\n",
    "    DA_cat = pd.DataFrame()\n",
    "    \n",
    "    for i in col_cat:\n",
    "        a = data[i].value_counts(dropna=False).to_frame().sort_index().rename(columns={i:'count'}).reset_index()\n",
    "        a['col_nm'] = i\n",
    "        a = a.rename(columns = {'index':'class'})\n",
    "        a = a[['col_nm','class','count']]\n",
    "        b=data[i].value_counts(dropna = False, normalize = True).to_frame().sort_index().rename(\n",
    "        columns = {i:'ratio'}).reset_index()\n",
    "        b = b['ratio'].to_frame()\n",
    "        b['ratio'] = b['ratio'].round(2)\n",
    "        c = pd.concat([a,b], axis = 1)\n",
    "        DA_cat = pd.concat([DA_cat, c], axis=0)\n",
    "    DA_cat = DA_cat.reset_index(drop=True)\n",
    "    return DA_cat"
   ]
  },
  {
   "cell_type": "code",
   "execution_count": 15,
   "metadata": {
    "ExecuteTime": {
     "end_time": "2020-12-12T05:50:55.225536Z",
     "start_time": "2020-12-12T05:50:55.175617Z"
    }
   },
   "outputs": [
    {
     "data": {
      "text/html": [
       "<div>\n",
       "<style scoped>\n",
       "    .dataframe tbody tr th:only-of-type {\n",
       "        vertical-align: middle;\n",
       "    }\n",
       "\n",
       "    .dataframe tbody tr th {\n",
       "        vertical-align: top;\n",
       "    }\n",
       "\n",
       "    .dataframe thead th {\n",
       "        text-align: right;\n",
       "    }\n",
       "</style>\n",
       "<table border=\"1\" class=\"dataframe\">\n",
       "  <thead>\n",
       "    <tr style=\"text-align: right;\">\n",
       "      <th></th>\n",
       "      <th>col_nm</th>\n",
       "      <th>class</th>\n",
       "      <th>count</th>\n",
       "      <th>ratio</th>\n",
       "    </tr>\n",
       "  </thead>\n",
       "  <tbody>\n",
       "    <tr>\n",
       "      <th>0</th>\n",
       "      <td>season</td>\n",
       "      <td>A</td>\n",
       "      <td>2686</td>\n",
       "      <td>0.25</td>\n",
       "    </tr>\n",
       "    <tr>\n",
       "      <th>1</th>\n",
       "      <td>season</td>\n",
       "      <td>B</td>\n",
       "      <td>2733</td>\n",
       "      <td>0.25</td>\n",
       "    </tr>\n",
       "    <tr>\n",
       "      <th>2</th>\n",
       "      <td>season</td>\n",
       "      <td>C</td>\n",
       "      <td>2733</td>\n",
       "      <td>0.25</td>\n",
       "    </tr>\n",
       "    <tr>\n",
       "      <th>3</th>\n",
       "      <td>season</td>\n",
       "      <td>D</td>\n",
       "      <td>2734</td>\n",
       "      <td>0.25</td>\n",
       "    </tr>\n",
       "    <tr>\n",
       "      <th>4</th>\n",
       "      <td>holiday</td>\n",
       "      <td>0</td>\n",
       "      <td>10575</td>\n",
       "      <td>0.97</td>\n",
       "    </tr>\n",
       "    <tr>\n",
       "      <th>5</th>\n",
       "      <td>holiday</td>\n",
       "      <td>1</td>\n",
       "      <td>311</td>\n",
       "      <td>0.03</td>\n",
       "    </tr>\n",
       "    <tr>\n",
       "      <th>6</th>\n",
       "      <td>workingday</td>\n",
       "      <td>0</td>\n",
       "      <td>3474</td>\n",
       "      <td>0.32</td>\n",
       "    </tr>\n",
       "    <tr>\n",
       "      <th>7</th>\n",
       "      <td>workingday</td>\n",
       "      <td>1</td>\n",
       "      <td>7412</td>\n",
       "      <td>0.68</td>\n",
       "    </tr>\n",
       "  </tbody>\n",
       "</table>\n",
       "</div>"
      ],
      "text/plain": [
       "       col_nm class  count  ratio\n",
       "0      season     A   2686   0.25\n",
       "1      season     B   2733   0.25\n",
       "2      season     C   2733   0.25\n",
       "3      season     D   2734   0.25\n",
       "4     holiday     0  10575   0.97\n",
       "5     holiday     1    311   0.03\n",
       "6  workingday     0   3474   0.32\n",
       "7  workingday     1   7412   0.68"
      ]
     },
     "execution_count": 15,
     "metadata": {},
     "output_type": "execute_result"
    }
   ],
   "source": [
    "DA2 = DA_cat(df,col_cat+col_bool)\n",
    "# DA2.to_csv('빈도분포분석_범주형.csv', encoding='cp949', errors='ignore')\n",
    "DA2"
   ]
  },
  {
   "cell_type": "markdown",
   "metadata": {},
   "source": [
    "### 전처리(중복값, 결측치, 이상치 처리)"
   ]
  },
  {
   "cell_type": "markdown",
   "metadata": {},
   "source": [
    "#### 중복값"
   ]
  },
  {
   "cell_type": "code",
   "execution_count": 16,
   "metadata": {
    "ExecuteTime": {
     "end_time": "2020-12-12T05:50:55.257486Z",
     "start_time": "2020-12-12T05:50:55.232741Z"
    }
   },
   "outputs": [
    {
     "data": {
      "text/html": [
       "<div>\n",
       "<style scoped>\n",
       "    .dataframe tbody tr th:only-of-type {\n",
       "        vertical-align: middle;\n",
       "    }\n",
       "\n",
       "    .dataframe tbody tr th {\n",
       "        vertical-align: top;\n",
       "    }\n",
       "\n",
       "    .dataframe thead th {\n",
       "        text-align: right;\n",
       "    }\n",
       "</style>\n",
       "<table border=\"1\" class=\"dataframe\">\n",
       "  <thead>\n",
       "    <tr style=\"text-align: right;\">\n",
       "      <th></th>\n",
       "      <th>datetime</th>\n",
       "      <th>season</th>\n",
       "      <th>holiday</th>\n",
       "      <th>workingday</th>\n",
       "      <th>weather</th>\n",
       "      <th>temp</th>\n",
       "      <th>atemp</th>\n",
       "      <th>humidity</th>\n",
       "      <th>windspeed</th>\n",
       "      <th>casual</th>\n",
       "      <th>registered</th>\n",
       "      <th>count</th>\n",
       "    </tr>\n",
       "  </thead>\n",
       "  <tbody>\n",
       "  </tbody>\n",
       "</table>\n",
       "</div>"
      ],
      "text/plain": [
       "Empty DataFrame\n",
       "Columns: [datetime, season, holiday, workingday, weather, temp, atemp, humidity, windspeed, casual, registered, count]\n",
       "Index: []"
      ]
     },
     "execution_count": 16,
     "metadata": {},
     "output_type": "execute_result"
    }
   ],
   "source": [
    "# 중복값 확인\n",
    "df[df.duplicated(keep=False)] "
   ]
  },
  {
   "cell_type": "code",
   "execution_count": null,
   "metadata": {
    "ExecuteTime": {
     "end_time": "2020-12-06T03:30:26.935471Z",
     "start_time": "2020-12-06T03:30:26.903461Z"
    }
   },
   "outputs": [],
   "source": [
    "df.drop_duplicates() # 행 내용이 동일한 경우 제거\n",
    "df.drop_duplicates(['col1'], keep='last') # col1기준 중복값중 마지막만 남겨둠"
   ]
  },
  {
   "cell_type": "markdown",
   "metadata": {},
   "source": [
    "#### 결측치"
   ]
  },
  {
   "cell_type": "code",
   "execution_count": 17,
   "metadata": {
    "ExecuteTime": {
     "end_time": "2020-12-12T05:50:55.792610Z",
     "start_time": "2020-12-12T05:50:55.783407Z"
    }
   },
   "outputs": [
    {
     "data": {
      "text/plain": [
       "datetime      0\n",
       "season        0\n",
       "holiday       0\n",
       "workingday    0\n",
       "weather       0\n",
       "temp          0\n",
       "atemp         0\n",
       "humidity      0\n",
       "windspeed     0\n",
       "casual        0\n",
       "registered    0\n",
       "count         0\n",
       "dtype: int64"
      ]
     },
     "execution_count": 17,
     "metadata": {},
     "output_type": "execute_result"
    }
   ],
   "source": [
    "df.isna().sum()"
   ]
  },
  {
   "cell_type": "code",
   "execution_count": null,
   "metadata": {
    "ExecuteTime": {
     "end_time": "2020-12-06T03:30:26.942446Z",
     "start_time": "2020-12-06T03:30:26.856Z"
    }
   },
   "outputs": [],
   "source": [
    "# na 처리 : dropna(), fillna()\n",
    "df.dropna() # nan이 하나라도 들어간 행은 삭제\n",
    "df.dropna(how = 'all') # 데이터가 모두 nan인 행만 삭제 / 초기값:'any'\n",
    "## Parameters\n",
    "# axis = 'index' / 'columns'\n",
    "# subset = ['col1', 'col2', ...] # 적용 대상 컬럼 특정\n",
    "\n",
    "df.fillna(0) # na를 0으로 채우기\n",
    "\n",
    "new_data = {'a':0, 'b':1, 'c':-999}\n",
    "df.fillna(new_data) # na 발생 시 a 열에는 0, b 열에는 1, c 열에는 -999로 채움\n",
    "df.fillna(new_data, limit = 2) # 각 열별로 2개의 nan까지 대체\n",
    "df.fillna(method = 'ffill') # 열 별로 바로 앞의 데이터로 채움\n",
    "df.fillna(method = 'bfill') # 열 별로 바로 뒤의 데이터로 채움\n",
    "# ffill의 경우 첫 행이거나, 앞의 데이터가 nan일 경우 nan유지. bfill도 반대로 동일\n",
    "\n",
    "# 평균값, 중앙값으로 대치\n",
    "df.loc[19,'Leaflets'] = df['Leaflets'].mean() # 평균값으로 \n",
    "df.loc[19,'Leaflets'] = df['Leaflets'].median # 중앙값으로"
   ]
  },
  {
   "cell_type": "markdown",
   "metadata": {},
   "source": [
    "#### 이상치"
   ]
  },
  {
   "cell_type": "code",
   "execution_count": 18,
   "metadata": {
    "ExecuteTime": {
     "end_time": "2020-12-12T05:51:53.742749Z",
     "start_time": "2020-12-12T05:51:53.738793Z"
    }
   },
   "outputs": [],
   "source": [
    "tmp = 'humidity'"
   ]
  },
  {
   "cell_type": "code",
   "execution_count": 19,
   "metadata": {
    "ExecuteTime": {
     "end_time": "2020-12-12T05:51:53.908542Z",
     "start_time": "2020-12-12T05:51:53.745739Z"
    },
    "scrolled": true
   },
   "outputs": [
    {
     "data": {
      "text/plain": [
       "<AxesSubplot:xlabel='humidity'>"
      ]
     },
     "execution_count": 19,
     "metadata": {},
     "output_type": "execute_result"
    },
    {
     "data": {
      "image/png": "[encoded data removed]",
      "text/plain": [
       "<Figure size 432x288 with 1 Axes>"
      ]
     },
     "metadata": {
      "needs_background": "light"
     },
     "output_type": "display_data"
    }
   ],
   "source": [
    "sns.boxplot(y = tmp, data = df, orient = 'h')"
   ]
  },
  {
   "cell_type": "code",
   "execution_count": 20,
   "metadata": {
    "ExecuteTime": {
     "end_time": "2020-12-12T05:51:53.945104Z",
     "start_time": "2020-12-12T05:51:53.910576Z"
    },
    "scrolled": true
   },
   "outputs": [
    {
     "name": "stdout",
     "output_type": "stream",
     "text": [
      "(22, 12)\n"
     ]
    },
    {
     "data": {
      "text/html": [
       "<div>\n",
       "<style scoped>\n",
       "    .dataframe tbody tr th:only-of-type {\n",
       "        vertical-align: middle;\n",
       "    }\n",
       "\n",
       "    .dataframe tbody tr th {\n",
       "        vertical-align: top;\n",
       "    }\n",
       "\n",
       "    .dataframe thead th {\n",
       "        text-align: right;\n",
       "    }\n",
       "</style>\n",
       "<table border=\"1\" class=\"dataframe\">\n",
       "  <thead>\n",
       "    <tr style=\"text-align: right;\">\n",
       "      <th></th>\n",
       "      <th>datetime</th>\n",
       "      <th>season</th>\n",
       "      <th>holiday</th>\n",
       "      <th>workingday</th>\n",
       "      <th>weather</th>\n",
       "      <th>temp</th>\n",
       "      <th>atemp</th>\n",
       "      <th>humidity</th>\n",
       "      <th>windspeed</th>\n",
       "      <th>casual</th>\n",
       "      <th>registered</th>\n",
       "      <th>count</th>\n",
       "    </tr>\n",
       "  </thead>\n",
       "  <tbody>\n",
       "    <tr>\n",
       "      <th>1091</th>\n",
       "      <td>2011-03-10 00:00:00</td>\n",
       "      <td>A</td>\n",
       "      <td>0</td>\n",
       "      <td>1</td>\n",
       "      <td>3</td>\n",
       "      <td>13.94</td>\n",
       "      <td>15.910</td>\n",
       "      <td>0</td>\n",
       "      <td>16.9979</td>\n",
       "      <td>3</td>\n",
       "      <td>0</td>\n",
       "      <td>3</td>\n",
       "    </tr>\n",
       "    <tr>\n",
       "      <th>1092</th>\n",
       "      <td>2011-03-10 01:00:00</td>\n",
       "      <td>A</td>\n",
       "      <td>0</td>\n",
       "      <td>1</td>\n",
       "      <td>3</td>\n",
       "      <td>13.94</td>\n",
       "      <td>15.910</td>\n",
       "      <td>0</td>\n",
       "      <td>16.9979</td>\n",
       "      <td>0</td>\n",
       "      <td>2</td>\n",
       "      <td>2</td>\n",
       "    </tr>\n",
       "    <tr>\n",
       "      <th>1093</th>\n",
       "      <td>2011-03-10 02:00:00</td>\n",
       "      <td>A</td>\n",
       "      <td>0</td>\n",
       "      <td>1</td>\n",
       "      <td>3</td>\n",
       "      <td>13.94</td>\n",
       "      <td>15.910</td>\n",
       "      <td>0</td>\n",
       "      <td>16.9979</td>\n",
       "      <td>0</td>\n",
       "      <td>1</td>\n",
       "      <td>1</td>\n",
       "    </tr>\n",
       "    <tr>\n",
       "      <th>1094</th>\n",
       "      <td>2011-03-10 05:00:00</td>\n",
       "      <td>A</td>\n",
       "      <td>0</td>\n",
       "      <td>1</td>\n",
       "      <td>3</td>\n",
       "      <td>14.76</td>\n",
       "      <td>17.425</td>\n",
       "      <td>0</td>\n",
       "      <td>12.9980</td>\n",
       "      <td>1</td>\n",
       "      <td>2</td>\n",
       "      <td>3</td>\n",
       "    </tr>\n",
       "    <tr>\n",
       "      <th>1095</th>\n",
       "      <td>2011-03-10 06:00:00</td>\n",
       "      <td>A</td>\n",
       "      <td>0</td>\n",
       "      <td>1</td>\n",
       "      <td>3</td>\n",
       "      <td>14.76</td>\n",
       "      <td>16.665</td>\n",
       "      <td>0</td>\n",
       "      <td>22.0028</td>\n",
       "      <td>0</td>\n",
       "      <td>12</td>\n",
       "      <td>12</td>\n",
       "    </tr>\n",
       "    <tr>\n",
       "      <th>1096</th>\n",
       "      <td>2011-03-10 07:00:00</td>\n",
       "      <td>A</td>\n",
       "      <td>0</td>\n",
       "      <td>1</td>\n",
       "      <td>3</td>\n",
       "      <td>15.58</td>\n",
       "      <td>19.695</td>\n",
       "      <td>0</td>\n",
       "      <td>15.0013</td>\n",
       "      <td>1</td>\n",
       "      <td>36</td>\n",
       "      <td>37</td>\n",
       "    </tr>\n",
       "    <tr>\n",
       "      <th>1097</th>\n",
       "      <td>2011-03-10 08:00:00</td>\n",
       "      <td>A</td>\n",
       "      <td>0</td>\n",
       "      <td>1</td>\n",
       "      <td>3</td>\n",
       "      <td>15.58</td>\n",
       "      <td>19.695</td>\n",
       "      <td>0</td>\n",
       "      <td>19.0012</td>\n",
       "      <td>1</td>\n",
       "      <td>43</td>\n",
       "      <td>44</td>\n",
       "    </tr>\n",
       "    <tr>\n",
       "      <th>1098</th>\n",
       "      <td>2011-03-10 09:00:00</td>\n",
       "      <td>A</td>\n",
       "      <td>0</td>\n",
       "      <td>1</td>\n",
       "      <td>3</td>\n",
       "      <td>16.40</td>\n",
       "      <td>20.455</td>\n",
       "      <td>0</td>\n",
       "      <td>15.0013</td>\n",
       "      <td>1</td>\n",
       "      <td>23</td>\n",
       "      <td>24</td>\n",
       "    </tr>\n",
       "    <tr>\n",
       "      <th>1099</th>\n",
       "      <td>2011-03-10 10:00:00</td>\n",
       "      <td>A</td>\n",
       "      <td>0</td>\n",
       "      <td>1</td>\n",
       "      <td>3</td>\n",
       "      <td>16.40</td>\n",
       "      <td>20.455</td>\n",
       "      <td>0</td>\n",
       "      <td>11.0014</td>\n",
       "      <td>0</td>\n",
       "      <td>17</td>\n",
       "      <td>17</td>\n",
       "    </tr>\n",
       "    <tr>\n",
       "      <th>1100</th>\n",
       "      <td>2011-03-10 11:00:00</td>\n",
       "      <td>A</td>\n",
       "      <td>0</td>\n",
       "      <td>1</td>\n",
       "      <td>3</td>\n",
       "      <td>16.40</td>\n",
       "      <td>20.455</td>\n",
       "      <td>0</td>\n",
       "      <td>16.9979</td>\n",
       "      <td>6</td>\n",
       "      <td>5</td>\n",
       "      <td>11</td>\n",
       "    </tr>\n",
       "    <tr>\n",
       "      <th>1101</th>\n",
       "      <td>2011-03-10 12:00:00</td>\n",
       "      <td>A</td>\n",
       "      <td>0</td>\n",
       "      <td>1</td>\n",
       "      <td>3</td>\n",
       "      <td>17.22</td>\n",
       "      <td>21.210</td>\n",
       "      <td>0</td>\n",
       "      <td>15.0013</td>\n",
       "      <td>4</td>\n",
       "      <td>30</td>\n",
       "      <td>34</td>\n",
       "    </tr>\n",
       "    <tr>\n",
       "      <th>1102</th>\n",
       "      <td>2011-03-10 13:00:00</td>\n",
       "      <td>A</td>\n",
       "      <td>0</td>\n",
       "      <td>1</td>\n",
       "      <td>3</td>\n",
       "      <td>17.22</td>\n",
       "      <td>21.210</td>\n",
       "      <td>0</td>\n",
       "      <td>15.0013</td>\n",
       "      <td>1</td>\n",
       "      <td>11</td>\n",
       "      <td>12</td>\n",
       "    </tr>\n",
       "    <tr>\n",
       "      <th>1103</th>\n",
       "      <td>2011-03-10 14:00:00</td>\n",
       "      <td>A</td>\n",
       "      <td>0</td>\n",
       "      <td>1</td>\n",
       "      <td>3</td>\n",
       "      <td>18.04</td>\n",
       "      <td>21.970</td>\n",
       "      <td>0</td>\n",
       "      <td>19.9995</td>\n",
       "      <td>0</td>\n",
       "      <td>12</td>\n",
       "      <td>12</td>\n",
       "    </tr>\n",
       "    <tr>\n",
       "      <th>1104</th>\n",
       "      <td>2011-03-10 15:00:00</td>\n",
       "      <td>A</td>\n",
       "      <td>0</td>\n",
       "      <td>1</td>\n",
       "      <td>3</td>\n",
       "      <td>18.04</td>\n",
       "      <td>21.970</td>\n",
       "      <td>0</td>\n",
       "      <td>15.0013</td>\n",
       "      <td>3</td>\n",
       "      <td>11</td>\n",
       "      <td>14</td>\n",
       "    </tr>\n",
       "    <tr>\n",
       "      <th>1105</th>\n",
       "      <td>2011-03-10 16:00:00</td>\n",
       "      <td>A</td>\n",
       "      <td>0</td>\n",
       "      <td>1</td>\n",
       "      <td>3</td>\n",
       "      <td>17.22</td>\n",
       "      <td>21.210</td>\n",
       "      <td>0</td>\n",
       "      <td>16.9979</td>\n",
       "      <td>1</td>\n",
       "      <td>20</td>\n",
       "      <td>21</td>\n",
       "    </tr>\n",
       "    <tr>\n",
       "      <th>1106</th>\n",
       "      <td>2011-03-10 17:00:00</td>\n",
       "      <td>A</td>\n",
       "      <td>0</td>\n",
       "      <td>1</td>\n",
       "      <td>2</td>\n",
       "      <td>18.04</td>\n",
       "      <td>21.970</td>\n",
       "      <td>0</td>\n",
       "      <td>26.0027</td>\n",
       "      <td>2</td>\n",
       "      <td>109</td>\n",
       "      <td>111</td>\n",
       "    </tr>\n",
       "    <tr>\n",
       "      <th>1107</th>\n",
       "      <td>2011-03-10 18:00:00</td>\n",
       "      <td>A</td>\n",
       "      <td>0</td>\n",
       "      <td>1</td>\n",
       "      <td>3</td>\n",
       "      <td>18.04</td>\n",
       "      <td>21.970</td>\n",
       "      <td>0</td>\n",
       "      <td>23.9994</td>\n",
       "      <td>2</td>\n",
       "      <td>80</td>\n",
       "      <td>82</td>\n",
       "    </tr>\n",
       "    <tr>\n",
       "      <th>1108</th>\n",
       "      <td>2011-03-10 19:00:00</td>\n",
       "      <td>A</td>\n",
       "      <td>0</td>\n",
       "      <td>1</td>\n",
       "      <td>3</td>\n",
       "      <td>18.04</td>\n",
       "      <td>21.970</td>\n",
       "      <td>0</td>\n",
       "      <td>39.0007</td>\n",
       "      <td>5</td>\n",
       "      <td>51</td>\n",
       "      <td>56</td>\n",
       "    </tr>\n",
       "    <tr>\n",
       "      <th>1109</th>\n",
       "      <td>2011-03-10 20:00:00</td>\n",
       "      <td>A</td>\n",
       "      <td>0</td>\n",
       "      <td>1</td>\n",
       "      <td>3</td>\n",
       "      <td>14.76</td>\n",
       "      <td>16.665</td>\n",
       "      <td>0</td>\n",
       "      <td>22.0028</td>\n",
       "      <td>9</td>\n",
       "      <td>29</td>\n",
       "      <td>38</td>\n",
       "    </tr>\n",
       "    <tr>\n",
       "      <th>1110</th>\n",
       "      <td>2011-03-10 21:00:00</td>\n",
       "      <td>A</td>\n",
       "      <td>0</td>\n",
       "      <td>1</td>\n",
       "      <td>3</td>\n",
       "      <td>14.76</td>\n",
       "      <td>17.425</td>\n",
       "      <td>0</td>\n",
       "      <td>15.0013</td>\n",
       "      <td>1</td>\n",
       "      <td>27</td>\n",
       "      <td>28</td>\n",
       "    </tr>\n",
       "    <tr>\n",
       "      <th>1111</th>\n",
       "      <td>2011-03-10 22:00:00</td>\n",
       "      <td>A</td>\n",
       "      <td>0</td>\n",
       "      <td>1</td>\n",
       "      <td>2</td>\n",
       "      <td>13.94</td>\n",
       "      <td>16.665</td>\n",
       "      <td>0</td>\n",
       "      <td>8.9981</td>\n",
       "      <td>4</td>\n",
       "      <td>30</td>\n",
       "      <td>34</td>\n",
       "    </tr>\n",
       "    <tr>\n",
       "      <th>1112</th>\n",
       "      <td>2011-03-10 23:00:00</td>\n",
       "      <td>A</td>\n",
       "      <td>0</td>\n",
       "      <td>1</td>\n",
       "      <td>3</td>\n",
       "      <td>13.94</td>\n",
       "      <td>17.425</td>\n",
       "      <td>0</td>\n",
       "      <td>6.0032</td>\n",
       "      <td>1</td>\n",
       "      <td>26</td>\n",
       "      <td>27</td>\n",
       "    </tr>\n",
       "  </tbody>\n",
       "</table>\n",
       "</div>"
      ],
      "text/plain": [
       "                datetime season  holiday  workingday  weather   temp   atemp  \\\n",
       "1091 2011-03-10 00:00:00      A        0           1        3  13.94  15.910   \n",
       "1092 2011-03-10 01:00:00      A        0           1        3  13.94  15.910   \n",
       "1093 2011-03-10 02:00:00      A        0           1        3  13.94  15.910   \n",
       "1094 2011-03-10 05:00:00      A        0           1        3  14.76  17.425   \n",
       "1095 2011-03-10 06:00:00      A        0           1        3  14.76  16.665   \n",
       "1096 2011-03-10 07:00:00      A        0           1        3  15.58  19.695   \n",
       "1097 2011-03-10 08:00:00      A        0           1        3  15.58  19.695   \n",
       "1098 2011-03-10 09:00:00      A        0           1        3  16.40  20.455   \n",
       "1099 2011-03-10 10:00:00      A        0           1        3  16.40  20.455   \n",
       "1100 2011-03-10 11:00:00      A        0           1        3  16.40  20.455   \n",
       "1101 2011-03-10 12:00:00      A        0           1        3  17.22  21.210   \n",
       "1102 2011-03-10 13:00:00      A        0           1        3  17.22  21.210   \n",
       "1103 2011-03-10 14:00:00      A        0           1        3  18.04  21.970   \n",
       "1104 2011-03-10 15:00:00      A        0           1        3  18.04  21.970   \n",
       "1105 2011-03-10 16:00:00      A        0           1        3  17.22  21.210   \n",
       "1106 2011-03-10 17:00:00      A        0           1        2  18.04  21.970   \n",
       "1107 2011-03-10 18:00:00      A        0           1        3  18.04  21.970   \n",
       "1108 2011-03-10 19:00:00      A        0           1        3  18.04  21.970   \n",
       "1109 2011-03-10 20:00:00      A        0           1        3  14.76  16.665   \n",
       "1110 2011-03-10 21:00:00      A        0           1        3  14.76  17.425   \n",
       "1111 2011-03-10 22:00:00      A        0           1        2  13.94  16.665   \n",
       "1112 2011-03-10 23:00:00      A        0           1        3  13.94  17.425   \n",
       "\n",
       "      humidity  windspeed  casual  registered  count  \n",
       "1091         0    16.9979       3           0      3  \n",
       "1092         0    16.9979       0           2      2  \n",
       "1093         0    16.9979       0           1      1  \n",
       "1094         0    12.9980       1           2      3  \n",
       "1095         0    22.0028       0          12     12  \n",
       "1096         0    15.0013       1          36     37  \n",
       "1097         0    19.0012       1          43     44  \n",
       "1098         0    15.0013       1          23     24  \n",
       "1099         0    11.0014       0          17     17  \n",
       "1100         0    16.9979       6           5     11  \n",
       "1101         0    15.0013       4          30     34  \n",
       "1102         0    15.0013       1          11     12  \n",
       "1103         0    19.9995       0          12     12  \n",
       "1104         0    15.0013       3          11     14  \n",
       "1105         0    16.9979       1          20     21  \n",
       "1106         0    26.0027       2         109    111  \n",
       "1107         0    23.9994       2          80     82  \n",
       "1108         0    39.0007       5          51     56  \n",
       "1109         0    22.0028       9          29     38  \n",
       "1110         0    15.0013       1          27     28  \n",
       "1111         0     8.9981       4          30     34  \n",
       "1112         0     6.0032       1          26     27  "
      ]
     },
     "execution_count": 20,
     "metadata": {},
     "output_type": "execute_result"
    }
   ],
   "source": [
    "# IQR 활용\n",
    "q1 = df[tmp].quantile(.25)\n",
    "q3 = df[tmp].quantile(.75)\n",
    "iqr = q3-q1\n",
    "min_iqr = q1 - 1.5 * iqr\n",
    "max_iqr = q3 + 1.5 * iqr\n",
    "min_from_all = df[tmp].min()\n",
    "max_from_all = df[tmp].max()\n",
    "if (min_iqr < min_from_all) :\n",
    "    min_iqr = min_from_all\n",
    "if (max_iqr > max_from_all) :\n",
    "    max_iqr = max_from_all\n",
    "\n",
    "outlier = df[(df[tmp] < min_iqr ) | (df[tmp] > max_iqr)] # 이상치 조회\n",
    "outlier_index = outlier.index\n",
    "print(outlier.shape)\n",
    "outlier"
   ]
  },
  {
   "cell_type": "markdown",
   "metadata": {},
   "source": [
    "##### min/max값으로 보정"
   ]
  },
  {
   "cell_type": "code",
   "execution_count": 21,
   "metadata": {
    "ExecuteTime": {
     "end_time": "2020-12-12T05:51:53.957939Z",
     "start_time": "2020-12-12T05:51:53.948097Z"
    }
   },
   "outputs": [],
   "source": [
    "df.loc[(df[tmp] < min_iqr ),tmp] = min_iqr # 이상치 보정 - 하한치로 보정\n",
    "df.loc[(df[tmp] > max_iqr ),tmp] = max_iqr # 이상치 보정 - 상한치로 보정"
   ]
  },
  {
   "cell_type": "markdown",
   "metadata": {
    "ExecuteTime": {
     "end_time": "2020-12-05T14:07:47.025537Z",
     "start_time": "2020-12-05T14:07:47.008769Z"
    }
   },
   "source": [
    "##### 이상치 제거"
   ]
  },
  {
   "cell_type": "code",
   "execution_count": 22,
   "metadata": {
    "ExecuteTime": {
     "end_time": "2020-12-12T05:51:53.969364Z",
     "start_time": "2020-12-12T05:51:53.960464Z"
    }
   },
   "outputs": [
    {
     "data": {
      "text/plain": [
       "(10864, 12)"
      ]
     },
     "execution_count": 22,
     "metadata": {},
     "output_type": "execute_result"
    }
   ],
   "source": [
    "df = df.drop(outlier_index, axis=0)\n",
    "df.shape"
   ]
  },
  {
   "cell_type": "markdown",
   "metadata": {},
   "source": [
    "### 요약데이터로 변환"
   ]
  },
  {
   "cell_type": "code",
   "execution_count": 23,
   "metadata": {
    "ExecuteTime": {
     "end_time": "2020-12-12T05:51:53.989875Z",
     "start_time": "2020-12-12T05:51:53.971345Z"
    }
   },
   "outputs": [
    {
     "data": {
      "text/html": [
       "<div>\n",
       "<style scoped>\n",
       "    .dataframe tbody tr th:only-of-type {\n",
       "        vertical-align: middle;\n",
       "    }\n",
       "\n",
       "    .dataframe tbody tr th {\n",
       "        vertical-align: top;\n",
       "    }\n",
       "\n",
       "    .dataframe thead th {\n",
       "        text-align: right;\n",
       "    }\n",
       "</style>\n",
       "<table border=\"1\" class=\"dataframe\">\n",
       "  <thead>\n",
       "    <tr style=\"text-align: right;\">\n",
       "      <th></th>\n",
       "      <th>datetime</th>\n",
       "      <th>temp</th>\n",
       "      <th>windspeed</th>\n",
       "      <th>count</th>\n",
       "    </tr>\n",
       "    <tr>\n",
       "      <th>season</th>\n",
       "      <th></th>\n",
       "      <th></th>\n",
       "      <th></th>\n",
       "      <th></th>\n",
       "    </tr>\n",
       "  </thead>\n",
       "  <tbody>\n",
       "    <tr>\n",
       "      <th>A</th>\n",
       "      <td>2664</td>\n",
       "      <td>0.82</td>\n",
       "      <td>14.612957</td>\n",
       "      <td>311875</td>\n",
       "    </tr>\n",
       "    <tr>\n",
       "      <th>B</th>\n",
       "      <td>2733</td>\n",
       "      <td>9.84</td>\n",
       "      <td>13.405607</td>\n",
       "      <td>588282</td>\n",
       "    </tr>\n",
       "    <tr>\n",
       "      <th>C</th>\n",
       "      <td>2733</td>\n",
       "      <td>15.58</td>\n",
       "      <td>11.508862</td>\n",
       "      <td>640662</td>\n",
       "    </tr>\n",
       "    <tr>\n",
       "      <th>D</th>\n",
       "      <td>2734</td>\n",
       "      <td>5.74</td>\n",
       "      <td>11.678147</td>\n",
       "      <td>544034</td>\n",
       "    </tr>\n",
       "  </tbody>\n",
       "</table>\n",
       "</div>"
      ],
      "text/plain": [
       "        datetime   temp  windspeed   count\n",
       "season                                    \n",
       "A           2664   0.82  14.612957  311875\n",
       "B           2733   9.84  13.405607  588282\n",
       "C           2733  15.58  11.508862  640662\n",
       "D           2734   5.74  11.678147  544034"
      ]
     },
     "execution_count": 23,
     "metadata": {},
     "output_type": "execute_result"
    }
   ],
   "source": [
    "df.groupby('season').aggregate({'datetime':'count','temp': 'min', 'windspeed':np.mean, 'count': np.sum})"
   ]
  },
  {
   "cell_type": "markdown",
   "metadata": {},
   "source": [
    "### 파생변수 생성 (파머 책 p.452 참고)"
   ]
  },
  {
   "cell_type": "code",
   "execution_count": 24,
   "metadata": {
    "ExecuteTime": {
     "end_time": "2020-12-12T05:51:54.009379Z",
     "start_time": "2020-12-12T05:51:53.991871Z"
    }
   },
   "outputs": [],
   "source": [
    "# Recency\n",
    "today = pd.to_datetime('2020-12-13') # 아니면 그냥 각 ID별로 최대값을 today에서 빼기 = ID별 Recency가 같음\n",
    "cond1 = (today-df['datetime']) >= pd.Timedelta('3000 days')\n",
    "cond2 = ((today-df['datetime']) < pd.Timedelta('3000 days'))&((today-df['datetime']) >= pd.Timedelta('2000 days'))\n",
    "cond3 = (today-df['datetime']) < pd.Timedelta('2000 days')\n",
    "\n",
    "df.loc[cond1, 'Recency'] = 1\n",
    "df.loc[cond2, 'Recency'] = 2\n",
    "df.loc[cond3, 'Recency'] = 3"
   ]
  },
  {
   "cell_type": "code",
   "execution_count": 25,
   "metadata": {
    "ExecuteTime": {
     "end_time": "2020-12-12T05:51:54.024357Z",
     "start_time": "2020-12-12T05:51:54.011355Z"
    }
   },
   "outputs": [],
   "source": [
    "# Frenquency (빈도)  아니면 발생 count\n",
    "df.loc[df['count']<=10, 'Frequency'] = 1\n",
    "df.loc[(df['count']>10)&(df['count']<=20), 'Frequency'] = 2\n",
    "df.loc[df['count']>20, 'Frequency'] = 3"
   ]
  },
  {
   "cell_type": "code",
   "execution_count": 26,
   "metadata": {
    "ExecuteTime": {
     "end_time": "2020-12-12T05:51:54.034293Z",
     "start_time": "2020-12-12T05:51:54.027313Z"
    }
   },
   "outputs": [],
   "source": [
    "# Monetary (거래규모) 아니면 발생 sum\n",
    "df['Monetary'] = df['count'] * df['temp']"
   ]
  },
  {
   "cell_type": "code",
   "execution_count": 27,
   "metadata": {
    "ExecuteTime": {
     "end_time": "2020-12-12T05:51:54.329475Z",
     "start_time": "2020-12-12T05:51:54.037323Z"
    }
   },
   "outputs": [],
   "source": [
    "df['year'] = df['datetime'].map(lambda x: x.year)\n",
    "df['month'] = df['datetime'].map(lambda x: x.month)\n",
    "df['day'] = df['datetime'].map(lambda x: x.day)\n",
    "df['hour'] = df['datetime'].map(lambda x: x.hour)\n",
    "df['minute'] = df['datetime'].map(lambda x: x.minute)"
   ]
  },
  {
   "cell_type": "code",
   "execution_count": 28,
   "metadata": {
    "ExecuteTime": {
     "end_time": "2020-12-12T05:51:54.357461Z",
     "start_time": "2020-12-12T05:51:54.333466Z"
    }
   },
   "outputs": [
    {
     "data": {
      "text/html": [
       "<div>\n",
       "<style scoped>\n",
       "    .dataframe tbody tr th:only-of-type {\n",
       "        vertical-align: middle;\n",
       "    }\n",
       "\n",
       "    .dataframe tbody tr th {\n",
       "        vertical-align: top;\n",
       "    }\n",
       "\n",
       "    .dataframe thead th {\n",
       "        text-align: right;\n",
       "    }\n",
       "</style>\n",
       "<table border=\"1\" class=\"dataframe\">\n",
       "  <thead>\n",
       "    <tr style=\"text-align: right;\">\n",
       "      <th></th>\n",
       "      <th>datetime</th>\n",
       "      <th>season</th>\n",
       "      <th>holiday</th>\n",
       "      <th>workingday</th>\n",
       "      <th>weather</th>\n",
       "      <th>temp</th>\n",
       "      <th>atemp</th>\n",
       "      <th>humidity</th>\n",
       "      <th>windspeed</th>\n",
       "      <th>casual</th>\n",
       "      <th>registered</th>\n",
       "      <th>count</th>\n",
       "      <th>Recency</th>\n",
       "      <th>Frequency</th>\n",
       "      <th>Monetary</th>\n",
       "      <th>year</th>\n",
       "      <th>month</th>\n",
       "      <th>day</th>\n",
       "      <th>hour</th>\n",
       "      <th>minute</th>\n",
       "    </tr>\n",
       "  </thead>\n",
       "  <tbody>\n",
       "    <tr>\n",
       "      <th>0</th>\n",
       "      <td>2011-01-01 00:00:00</td>\n",
       "      <td>A</td>\n",
       "      <td>0</td>\n",
       "      <td>0</td>\n",
       "      <td>1</td>\n",
       "      <td>9.84</td>\n",
       "      <td>14.395</td>\n",
       "      <td>81.0</td>\n",
       "      <td>0.0</td>\n",
       "      <td>3</td>\n",
       "      <td>13</td>\n",
       "      <td>16</td>\n",
       "      <td>1.0</td>\n",
       "      <td>2.0</td>\n",
       "      <td>157.44</td>\n",
       "      <td>2011</td>\n",
       "      <td>1</td>\n",
       "      <td>1</td>\n",
       "      <td>0</td>\n",
       "      <td>0</td>\n",
       "    </tr>\n",
       "    <tr>\n",
       "      <th>1</th>\n",
       "      <td>2011-01-01 01:00:00</td>\n",
       "      <td>A</td>\n",
       "      <td>0</td>\n",
       "      <td>0</td>\n",
       "      <td>1</td>\n",
       "      <td>9.02</td>\n",
       "      <td>13.635</td>\n",
       "      <td>80.0</td>\n",
       "      <td>0.0</td>\n",
       "      <td>8</td>\n",
       "      <td>32</td>\n",
       "      <td>40</td>\n",
       "      <td>1.0</td>\n",
       "      <td>3.0</td>\n",
       "      <td>360.80</td>\n",
       "      <td>2011</td>\n",
       "      <td>1</td>\n",
       "      <td>1</td>\n",
       "      <td>1</td>\n",
       "      <td>0</td>\n",
       "    </tr>\n",
       "    <tr>\n",
       "      <th>2</th>\n",
       "      <td>2011-01-01 02:00:00</td>\n",
       "      <td>A</td>\n",
       "      <td>0</td>\n",
       "      <td>0</td>\n",
       "      <td>1</td>\n",
       "      <td>9.02</td>\n",
       "      <td>13.635</td>\n",
       "      <td>80.0</td>\n",
       "      <td>0.0</td>\n",
       "      <td>5</td>\n",
       "      <td>27</td>\n",
       "      <td>32</td>\n",
       "      <td>1.0</td>\n",
       "      <td>3.0</td>\n",
       "      <td>288.64</td>\n",
       "      <td>2011</td>\n",
       "      <td>1</td>\n",
       "      <td>1</td>\n",
       "      <td>2</td>\n",
       "      <td>0</td>\n",
       "    </tr>\n",
       "  </tbody>\n",
       "</table>\n",
       "</div>"
      ],
      "text/plain": [
       "             datetime season  holiday  workingday  weather  temp   atemp  \\\n",
       "0 2011-01-01 00:00:00      A        0           0        1  9.84  14.395   \n",
       "1 2011-01-01 01:00:00      A        0           0        1  9.02  13.635   \n",
       "2 2011-01-01 02:00:00      A        0           0        1  9.02  13.635   \n",
       "\n",
       "   humidity  windspeed  casual  registered  count  Recency  Frequency  \\\n",
       "0      81.0        0.0       3          13     16      1.0        2.0   \n",
       "1      80.0        0.0       8          32     40      1.0        3.0   \n",
       "2      80.0        0.0       5          27     32      1.0        3.0   \n",
       "\n",
       "   Monetary  year  month  day  hour  minute  \n",
       "0    157.44  2011      1    1     0       0  \n",
       "1    360.80  2011      1    1     1       0  \n",
       "2    288.64  2011      1    1     2       0  "
      ]
     },
     "execution_count": 28,
     "metadata": {},
     "output_type": "execute_result"
    }
   ],
   "source": [
    "df.head(3)"
   ]
  },
  {
   "cell_type": "markdown",
   "metadata": {},
   "source": [
    "### 데이터 마트 DQ Check, 변수선택및 EDA"
   ]
  },
  {
   "cell_type": "markdown",
   "metadata": {},
   "source": [
    "#### DQ Check"
   ]
  },
  {
   "cell_type": "code",
   "execution_count": 29,
   "metadata": {
    "ExecuteTime": {
     "end_time": "2020-12-12T05:51:54.364977Z",
     "start_time": "2020-12-12T05:51:54.359995Z"
    }
   },
   "outputs": [],
   "source": [
    "col_num = ['weather', 'temp', 'atemp', 'humidity', 'windspeed', 'casual', 'registered', 'count', 'Monetary']\n",
    "col_cat = ['season', 'holiday', 'workingday', 'Recency', 'Frequency']"
   ]
  },
  {
   "cell_type": "code",
   "execution_count": 30,
   "metadata": {
    "ExecuteTime": {
     "end_time": "2020-12-12T05:51:54.454518Z",
     "start_time": "2020-12-12T05:51:54.367967Z"
    }
   },
   "outputs": [
    {
     "data": {
      "text/html": [
       "<div>\n",
       "<style scoped>\n",
       "    .dataframe tbody tr th:only-of-type {\n",
       "        vertical-align: middle;\n",
       "    }\n",
       "\n",
       "    .dataframe tbody tr th {\n",
       "        vertical-align: top;\n",
       "    }\n",
       "\n",
       "    .dataframe thead th {\n",
       "        text-align: right;\n",
       "    }\n",
       "</style>\n",
       "<table border=\"1\" class=\"dataframe\">\n",
       "  <thead>\n",
       "    <tr style=\"text-align: right;\">\n",
       "      <th></th>\n",
       "      <th>total</th>\n",
       "      <th>count</th>\n",
       "      <th>missing</th>\n",
       "      <th>mean</th>\n",
       "      <th>median</th>\n",
       "      <th>std</th>\n",
       "      <th>variance</th>\n",
       "      <th>skewness</th>\n",
       "      <th>kurtosis</th>\n",
       "      <th>min</th>\n",
       "      <th>5%</th>\n",
       "      <th>10%</th>\n",
       "      <th>25%</th>\n",
       "      <th>50%</th>\n",
       "      <th>75%</th>\n",
       "      <th>90%</th>\n",
       "      <th>95%</th>\n",
       "      <th>max</th>\n",
       "    </tr>\n",
       "  </thead>\n",
       "  <tbody>\n",
       "    <tr>\n",
       "      <th>weather</th>\n",
       "      <td>10864.0</td>\n",
       "      <td>10864.0</td>\n",
       "      <td>0</td>\n",
       "      <td>1.42</td>\n",
       "      <td>1.00</td>\n",
       "      <td>0.63</td>\n",
       "      <td>0.40</td>\n",
       "      <td>1.25</td>\n",
       "      <td>0.42</td>\n",
       "      <td>1.00</td>\n",
       "      <td>1.00</td>\n",
       "      <td>1.00</td>\n",
       "      <td>1.00</td>\n",
       "      <td>1.00</td>\n",
       "      <td>2.00</td>\n",
       "      <td>2.00</td>\n",
       "      <td>3.00</td>\n",
       "      <td>4.00</td>\n",
       "    </tr>\n",
       "    <tr>\n",
       "      <th>temp</th>\n",
       "      <td>10864.0</td>\n",
       "      <td>10864.0</td>\n",
       "      <td>0</td>\n",
       "      <td>20.24</td>\n",
       "      <td>20.50</td>\n",
       "      <td>7.80</td>\n",
       "      <td>60.78</td>\n",
       "      <td>0.00</td>\n",
       "      <td>-0.92</td>\n",
       "      <td>0.82</td>\n",
       "      <td>8.20</td>\n",
       "      <td>9.84</td>\n",
       "      <td>13.94</td>\n",
       "      <td>20.50</td>\n",
       "      <td>26.24</td>\n",
       "      <td>30.34</td>\n",
       "      <td>32.80</td>\n",
       "      <td>41.00</td>\n",
       "    </tr>\n",
       "    <tr>\n",
       "      <th>atemp</th>\n",
       "      <td>10864.0</td>\n",
       "      <td>10864.0</td>\n",
       "      <td>0</td>\n",
       "      <td>23.66</td>\n",
       "      <td>24.24</td>\n",
       "      <td>8.48</td>\n",
       "      <td>71.91</td>\n",
       "      <td>-0.11</td>\n",
       "      <td>-0.85</td>\n",
       "      <td>0.76</td>\n",
       "      <td>9.85</td>\n",
       "      <td>12.12</td>\n",
       "      <td>16.66</td>\n",
       "      <td>24.24</td>\n",
       "      <td>31.06</td>\n",
       "      <td>34.09</td>\n",
       "      <td>36.36</td>\n",
       "      <td>45.46</td>\n",
       "    </tr>\n",
       "    <tr>\n",
       "      <th>humidity</th>\n",
       "      <td>10864.0</td>\n",
       "      <td>10864.0</td>\n",
       "      <td>0</td>\n",
       "      <td>62.01</td>\n",
       "      <td>62.00</td>\n",
       "      <td>19.06</td>\n",
       "      <td>363.32</td>\n",
       "      <td>-0.04</td>\n",
       "      <td>-0.89</td>\n",
       "      <td>8.00</td>\n",
       "      <td>31.00</td>\n",
       "      <td>37.00</td>\n",
       "      <td>47.00</td>\n",
       "      <td>62.00</td>\n",
       "      <td>77.00</td>\n",
       "      <td>88.00</td>\n",
       "      <td>93.00</td>\n",
       "      <td>100.00</td>\n",
       "    </tr>\n",
       "    <tr>\n",
       "      <th>windspeed</th>\n",
       "      <td>10864.0</td>\n",
       "      <td>10864.0</td>\n",
       "      <td>0</td>\n",
       "      <td>12.79</td>\n",
       "      <td>13.00</td>\n",
       "      <td>8.16</td>\n",
       "      <td>66.66</td>\n",
       "      <td>0.59</td>\n",
       "      <td>0.63</td>\n",
       "      <td>0.00</td>\n",
       "      <td>0.00</td>\n",
       "      <td>0.00</td>\n",
       "      <td>7.00</td>\n",
       "      <td>13.00</td>\n",
       "      <td>17.00</td>\n",
       "      <td>24.00</td>\n",
       "      <td>28.00</td>\n",
       "      <td>57.00</td>\n",
       "    </tr>\n",
       "    <tr>\n",
       "      <th>casual</th>\n",
       "      <td>10864.0</td>\n",
       "      <td>10864.0</td>\n",
       "      <td>0</td>\n",
       "      <td>36.09</td>\n",
       "      <td>17.00</td>\n",
       "      <td>49.99</td>\n",
       "      <td>2498.53</td>\n",
       "      <td>2.49</td>\n",
       "      <td>7.54</td>\n",
       "      <td>0.00</td>\n",
       "      <td>0.00</td>\n",
       "      <td>1.00</td>\n",
       "      <td>4.00</td>\n",
       "      <td>17.00</td>\n",
       "      <td>49.00</td>\n",
       "      <td>94.00</td>\n",
       "      <td>141.00</td>\n",
       "      <td>367.00</td>\n",
       "    </tr>\n",
       "    <tr>\n",
       "      <th>registered</th>\n",
       "      <td>10864.0</td>\n",
       "      <td>10864.0</td>\n",
       "      <td>0</td>\n",
       "      <td>155.81</td>\n",
       "      <td>119.00</td>\n",
       "      <td>151.08</td>\n",
       "      <td>22821.59</td>\n",
       "      <td>1.52</td>\n",
       "      <td>2.62</td>\n",
       "      <td>0.00</td>\n",
       "      <td>4.00</td>\n",
       "      <td>7.00</td>\n",
       "      <td>36.00</td>\n",
       "      <td>119.00</td>\n",
       "      <td>223.00</td>\n",
       "      <td>354.00</td>\n",
       "      <td>464.00</td>\n",
       "      <td>886.00</td>\n",
       "    </tr>\n",
       "    <tr>\n",
       "      <th>count</th>\n",
       "      <td>10864.0</td>\n",
       "      <td>10864.0</td>\n",
       "      <td>0</td>\n",
       "      <td>191.90</td>\n",
       "      <td>146.00</td>\n",
       "      <td>181.17</td>\n",
       "      <td>32821.26</td>\n",
       "      <td>1.24</td>\n",
       "      <td>1.30</td>\n",
       "      <td>1.00</td>\n",
       "      <td>5.00</td>\n",
       "      <td>9.00</td>\n",
       "      <td>43.00</td>\n",
       "      <td>146.00</td>\n",
       "      <td>284.00</td>\n",
       "      <td>453.00</td>\n",
       "      <td>564.00</td>\n",
       "      <td>977.00</td>\n",
       "    </tr>\n",
       "    <tr>\n",
       "      <th>Monetary</th>\n",
       "      <td>10864.0</td>\n",
       "      <td>10864.0</td>\n",
       "      <td>0</td>\n",
       "      <td>4440.41</td>\n",
       "      <td>2642.86</td>\n",
       "      <td>5024.94</td>\n",
       "      <td>25247714.04</td>\n",
       "      <td>1.66</td>\n",
       "      <td>2.88</td>\n",
       "      <td>0.82</td>\n",
       "      <td>63.96</td>\n",
       "      <td>139.40</td>\n",
       "      <td>619.51</td>\n",
       "      <td>2642.86</td>\n",
       "      <td>6509.16</td>\n",
       "      <td>11670.08</td>\n",
       "      <td>15170.00</td>\n",
       "      <td>30157.14</td>\n",
       "    </tr>\n",
       "  </tbody>\n",
       "</table>\n",
       "</div>"
      ],
      "text/plain": [
       "              total    count  missing     mean   median      std     variance  \\\n",
       "weather     10864.0  10864.0        0     1.42     1.00     0.63         0.40   \n",
       "temp        10864.0  10864.0        0    20.24    20.50     7.80        60.78   \n",
       "atemp       10864.0  10864.0        0    23.66    24.24     8.48        71.91   \n",
       "humidity    10864.0  10864.0        0    62.01    62.00    19.06       363.32   \n",
       "windspeed   10864.0  10864.0        0    12.79    13.00     8.16        66.66   \n",
       "casual      10864.0  10864.0        0    36.09    17.00    49.99      2498.53   \n",
       "registered  10864.0  10864.0        0   155.81   119.00   151.08     22821.59   \n",
       "count       10864.0  10864.0        0   191.90   146.00   181.17     32821.26   \n",
       "Monetary    10864.0  10864.0        0  4440.41  2642.86  5024.94  25247714.04   \n",
       "\n",
       "            skewness  kurtosis   min     5%     10%     25%      50%      75%  \\\n",
       "weather         1.25      0.42  1.00   1.00    1.00    1.00     1.00     2.00   \n",
       "temp            0.00     -0.92  0.82   8.20    9.84   13.94    20.50    26.24   \n",
       "atemp          -0.11     -0.85  0.76   9.85   12.12   16.66    24.24    31.06   \n",
       "humidity       -0.04     -0.89  8.00  31.00   37.00   47.00    62.00    77.00   \n",
       "windspeed       0.59      0.63  0.00   0.00    0.00    7.00    13.00    17.00   \n",
       "casual          2.49      7.54  0.00   0.00    1.00    4.00    17.00    49.00   \n",
       "registered      1.52      2.62  0.00   4.00    7.00   36.00   119.00   223.00   \n",
       "count           1.24      1.30  1.00   5.00    9.00   43.00   146.00   284.00   \n",
       "Monetary        1.66      2.88  0.82  63.96  139.40  619.51  2642.86  6509.16   \n",
       "\n",
       "                 90%       95%       max  \n",
       "weather         2.00      3.00      4.00  \n",
       "temp           30.34     32.80     41.00  \n",
       "atemp          34.09     36.36     45.46  \n",
       "humidity       88.00     93.00    100.00  \n",
       "windspeed      24.00     28.00     57.00  \n",
       "casual         94.00    141.00    367.00  \n",
       "registered    354.00    464.00    886.00  \n",
       "count         453.00    564.00    977.00  \n",
       "Monetary    11670.08  15170.00  30157.14  "
      ]
     },
     "execution_count": 30,
     "metadata": {},
     "output_type": "execute_result"
    }
   ],
   "source": [
    "DA3 = DA(df[col_num])\n",
    "DA3"
   ]
  },
  {
   "cell_type": "code",
   "execution_count": 31,
   "metadata": {
    "ExecuteTime": {
     "end_time": "2020-12-12T05:51:54.519414Z",
     "start_time": "2020-12-12T05:51:54.456472Z"
    }
   },
   "outputs": [
    {
     "data": {
      "text/html": [
       "<div>\n",
       "<style scoped>\n",
       "    .dataframe tbody tr th:only-of-type {\n",
       "        vertical-align: middle;\n",
       "    }\n",
       "\n",
       "    .dataframe tbody tr th {\n",
       "        vertical-align: top;\n",
       "    }\n",
       "\n",
       "    .dataframe thead th {\n",
       "        text-align: right;\n",
       "    }\n",
       "</style>\n",
       "<table border=\"1\" class=\"dataframe\">\n",
       "  <thead>\n",
       "    <tr style=\"text-align: right;\">\n",
       "      <th></th>\n",
       "      <th>col_nm</th>\n",
       "      <th>class</th>\n",
       "      <th>count</th>\n",
       "      <th>ratio</th>\n",
       "    </tr>\n",
       "  </thead>\n",
       "  <tbody>\n",
       "    <tr>\n",
       "      <th>0</th>\n",
       "      <td>season</td>\n",
       "      <td>A</td>\n",
       "      <td>2664</td>\n",
       "      <td>0.25</td>\n",
       "    </tr>\n",
       "    <tr>\n",
       "      <th>1</th>\n",
       "      <td>season</td>\n",
       "      <td>B</td>\n",
       "      <td>2733</td>\n",
       "      <td>0.25</td>\n",
       "    </tr>\n",
       "    <tr>\n",
       "      <th>2</th>\n",
       "      <td>season</td>\n",
       "      <td>C</td>\n",
       "      <td>2733</td>\n",
       "      <td>0.25</td>\n",
       "    </tr>\n",
       "    <tr>\n",
       "      <th>3</th>\n",
       "      <td>season</td>\n",
       "      <td>D</td>\n",
       "      <td>2734</td>\n",
       "      <td>0.25</td>\n",
       "    </tr>\n",
       "    <tr>\n",
       "      <th>4</th>\n",
       "      <td>holiday</td>\n",
       "      <td>0</td>\n",
       "      <td>10553</td>\n",
       "      <td>0.97</td>\n",
       "    </tr>\n",
       "    <tr>\n",
       "      <th>5</th>\n",
       "      <td>holiday</td>\n",
       "      <td>1</td>\n",
       "      <td>311</td>\n",
       "      <td>0.03</td>\n",
       "    </tr>\n",
       "    <tr>\n",
       "      <th>6</th>\n",
       "      <td>workingday</td>\n",
       "      <td>0</td>\n",
       "      <td>3474</td>\n",
       "      <td>0.32</td>\n",
       "    </tr>\n",
       "    <tr>\n",
       "      <th>7</th>\n",
       "      <td>workingday</td>\n",
       "      <td>1</td>\n",
       "      <td>7390</td>\n",
       "      <td>0.68</td>\n",
       "    </tr>\n",
       "    <tr>\n",
       "      <th>8</th>\n",
       "      <td>Recency</td>\n",
       "      <td>1</td>\n",
       "      <td>9497</td>\n",
       "      <td>0.87</td>\n",
       "    </tr>\n",
       "    <tr>\n",
       "      <th>9</th>\n",
       "      <td>Recency</td>\n",
       "      <td>2</td>\n",
       "      <td>1367</td>\n",
       "      <td>0.13</td>\n",
       "    </tr>\n",
       "    <tr>\n",
       "      <th>10</th>\n",
       "      <td>Frequency</td>\n",
       "      <td>1</td>\n",
       "      <td>1225</td>\n",
       "      <td>0.11</td>\n",
       "    </tr>\n",
       "    <tr>\n",
       "      <th>11</th>\n",
       "      <td>Frequency</td>\n",
       "      <td>2</td>\n",
       "      <td>625</td>\n",
       "      <td>0.06</td>\n",
       "    </tr>\n",
       "    <tr>\n",
       "      <th>12</th>\n",
       "      <td>Frequency</td>\n",
       "      <td>3</td>\n",
       "      <td>9014</td>\n",
       "      <td>0.83</td>\n",
       "    </tr>\n",
       "  </tbody>\n",
       "</table>\n",
       "</div>"
      ],
      "text/plain": [
       "        col_nm class  count  ratio\n",
       "0       season     A   2664   0.25\n",
       "1       season     B   2733   0.25\n",
       "2       season     C   2733   0.25\n",
       "3       season     D   2734   0.25\n",
       "4      holiday     0  10553   0.97\n",
       "5      holiday     1    311   0.03\n",
       "6   workingday     0   3474   0.32\n",
       "7   workingday     1   7390   0.68\n",
       "8      Recency     1   9497   0.87\n",
       "9      Recency     2   1367   0.13\n",
       "10   Frequency     1   1225   0.11\n",
       "11   Frequency     2    625   0.06\n",
       "12   Frequency     3   9014   0.83"
      ]
     },
     "execution_count": 31,
     "metadata": {},
     "output_type": "execute_result"
    }
   ],
   "source": [
    "DA4 = DA_cat(df, col_cat)\n",
    "DA4"
   ]
  },
  {
   "cell_type": "markdown",
   "metadata": {},
   "source": [
    "#### 변수 제외"
   ]
  },
  {
   "cell_type": "code",
   "execution_count": 32,
   "metadata": {
    "ExecuteTime": {
     "end_time": "2020-12-12T05:51:54.530438Z",
     "start_time": "2020-12-12T05:51:54.523449Z"
    }
   },
   "outputs": [],
   "source": [
    "df = df.drop(columns = ['Frequency'], axis=1)"
   ]
  },
  {
   "cell_type": "markdown",
   "metadata": {},
   "source": [
    "#### EDA"
   ]
  },
  {
   "cell_type": "code",
   "execution_count": 33,
   "metadata": {
    "ExecuteTime": {
     "end_time": "2020-12-12T05:51:55.184473Z",
     "start_time": "2020-12-12T05:51:54.534518Z"
    }
   },
   "outputs": [
    {
     "data": {
      "text/plain": [
       "<AxesSubplot:xlabel='season', ylabel='casual'>"
      ]
     },
     "execution_count": 33,
     "metadata": {},
     "output_type": "execute_result"
    },
    {
     "data": {
      "image/png": "[encoded data removed]",
      "text/plain": [
       "<Figure size 432x288 with 1 Axes>"
      ]
     },
     "metadata": {
      "needs_background": "light"
     },
     "output_type": "display_data"
    }
   ],
   "source": [
    "# 범주형 X별 y의 평균\n",
    "sns.barplot(x='season', y='casual', data=df)"
   ]
  },
  {
   "cell_type": "code",
   "execution_count": 34,
   "metadata": {
    "ExecuteTime": {
     "end_time": "2020-12-12T05:51:55.341490Z",
     "start_time": "2020-12-12T05:51:55.186429Z"
    },
    "scrolled": true
   },
   "outputs": [
    {
     "data": {
      "text/plain": [
       "<AxesSubplot:xlabel='count', ylabel='season'>"
      ]
     },
     "execution_count": 34,
     "metadata": {},
     "output_type": "execute_result"
    },
    {
     "data": {
      "image/png": "[encoded data removed]",
      "text/plain": [
       "<Figure size 432x288 with 1 Axes>"
      ]
     },
     "metadata": {
      "needs_background": "light"
     },
     "output_type": "display_data"
    }
   ],
   "source": [
    "# 범주형(또는 가지수가 많지 않은 연속형) 변수의 데이터별 count\n",
    "sns.countplot(y = 'season', data = df)"
   ]
  },
  {
   "cell_type": "markdown",
   "metadata": {},
   "source": [
    "### 종속변수 전처리(이항 형태로 변환 / 4개 클래스로 변환)"
   ]
  },
  {
   "cell_type": "code",
   "execution_count": 35,
   "metadata": {
    "ExecuteTime": {
     "end_time": "2020-12-12T05:51:55.353536Z",
     "start_time": "2020-12-12T05:51:55.343489Z"
    }
   },
   "outputs": [],
   "source": [
    "# 이항 형태\n",
    "df.loc[df['count'] <= 150, 'y1'] = 1\n",
    "df.loc[df['count'] > 150, 'y1'] = 0"
   ]
  },
  {
   "cell_type": "code",
   "execution_count": 36,
   "metadata": {
    "ExecuteTime": {
     "end_time": "2020-12-12T05:51:55.372246Z",
     "start_time": "2020-12-12T05:51:55.356460Z"
    }
   },
   "outputs": [],
   "source": [
    "# 4개 클래스\n",
    "df.loc[df['count'] <= 150, 'y2'] = 0\n",
    "df.loc[(df['count']>150)&(df['count'] <= 300), 'y2'] = 1\n",
    "df.loc[(df['count']>300)&(df['count'] <= 450), 'y2'] = 2\n",
    "df.loc[df['count'] > 450, 'y2'] = 3"
   ]
  },
  {
   "cell_type": "markdown",
   "metadata": {},
   "source": [
    "### 범주형 변수 더미화"
   ]
  },
  {
   "cell_type": "code",
   "execution_count": 37,
   "metadata": {
    "ExecuteTime": {
     "end_time": "2020-12-12T05:51:55.390209Z",
     "start_time": "2020-12-12T05:51:55.374241Z"
    }
   },
   "outputs": [
    {
     "name": "stdout",
     "output_type": "stream",
     "text": [
      "<class 'pandas.core.frame.DataFrame'>\n",
      "Int64Index: 10864 entries, 0 to 10885\n",
      "Data columns (total 21 columns):\n",
      " #   Column      Non-Null Count  Dtype         \n",
      "---  ------      --------------  -----         \n",
      " 0   datetime    10864 non-null  datetime64[ns]\n",
      " 1   season      10864 non-null  object        \n",
      " 2   holiday     10864 non-null  int64         \n",
      " 3   workingday  10864 non-null  int64         \n",
      " 4   weather     10864 non-null  int32         \n",
      " 5   temp        10864 non-null  float64       \n",
      " 6   atemp       10864 non-null  float64       \n",
      " 7   humidity    10864 non-null  float64       \n",
      " 8   windspeed   10864 non-null  float64       \n",
      " 9   casual      10864 non-null  int32         \n",
      " 10  registered  10864 non-null  int32         \n",
      " 11  count       10864 non-null  int32         \n",
      " 12  Recency     10864 non-null  float64       \n",
      " 13  Monetary    10864 non-null  float64       \n",
      " 14  year        10864 non-null  int64         \n",
      " 15  month       10864 non-null  int64         \n",
      " 16  day         10864 non-null  int64         \n",
      " 17  hour        10864 non-null  int64         \n",
      " 18  minute      10864 non-null  int64         \n",
      " 19  y1          10864 non-null  float64       \n",
      " 20  y2          10864 non-null  float64       \n",
      "dtypes: datetime64[ns](1), float64(8), int32(4), int64(7), object(1)\n",
      "memory usage: 2.0+ MB\n"
     ]
    }
   ],
   "source": [
    "df.info()"
   ]
  },
  {
   "cell_type": "code",
   "execution_count": 38,
   "metadata": {
    "ExecuteTime": {
     "end_time": "2020-12-12T05:51:55.415206Z",
     "start_time": "2020-12-12T05:51:55.393192Z"
    }
   },
   "outputs": [
    {
     "data": {
      "text/html": [
       "<div>\n",
       "<style scoped>\n",
       "    .dataframe tbody tr th:only-of-type {\n",
       "        vertical-align: middle;\n",
       "    }\n",
       "\n",
       "    .dataframe tbody tr th {\n",
       "        vertical-align: top;\n",
       "    }\n",
       "\n",
       "    .dataframe thead th {\n",
       "        text-align: right;\n",
       "    }\n",
       "</style>\n",
       "<table border=\"1\" class=\"dataframe\">\n",
       "  <thead>\n",
       "    <tr style=\"text-align: right;\">\n",
       "      <th></th>\n",
       "      <th>datetime</th>\n",
       "      <th>season</th>\n",
       "      <th>holiday</th>\n",
       "      <th>workingday</th>\n",
       "      <th>weather</th>\n",
       "      <th>temp</th>\n",
       "      <th>atemp</th>\n",
       "      <th>humidity</th>\n",
       "      <th>windspeed</th>\n",
       "      <th>casual</th>\n",
       "      <th>registered</th>\n",
       "      <th>count</th>\n",
       "      <th>Recency</th>\n",
       "      <th>Monetary</th>\n",
       "      <th>year</th>\n",
       "      <th>month</th>\n",
       "      <th>day</th>\n",
       "      <th>hour</th>\n",
       "      <th>minute</th>\n",
       "      <th>y1</th>\n",
       "      <th>y2</th>\n",
       "    </tr>\n",
       "  </thead>\n",
       "  <tbody>\n",
       "    <tr>\n",
       "      <th>0</th>\n",
       "      <td>2011-01-01 00:00:00</td>\n",
       "      <td>A</td>\n",
       "      <td>0</td>\n",
       "      <td>0</td>\n",
       "      <td>1</td>\n",
       "      <td>9.84</td>\n",
       "      <td>14.395</td>\n",
       "      <td>81.0</td>\n",
       "      <td>0.0</td>\n",
       "      <td>3</td>\n",
       "      <td>13</td>\n",
       "      <td>16</td>\n",
       "      <td>1.0</td>\n",
       "      <td>157.44</td>\n",
       "      <td>2011</td>\n",
       "      <td>1</td>\n",
       "      <td>1</td>\n",
       "      <td>0</td>\n",
       "      <td>0</td>\n",
       "      <td>1.0</td>\n",
       "      <td>0.0</td>\n",
       "    </tr>\n",
       "    <tr>\n",
       "      <th>1</th>\n",
       "      <td>2011-01-01 01:00:00</td>\n",
       "      <td>A</td>\n",
       "      <td>0</td>\n",
       "      <td>0</td>\n",
       "      <td>1</td>\n",
       "      <td>9.02</td>\n",
       "      <td>13.635</td>\n",
       "      <td>80.0</td>\n",
       "      <td>0.0</td>\n",
       "      <td>8</td>\n",
       "      <td>32</td>\n",
       "      <td>40</td>\n",
       "      <td>1.0</td>\n",
       "      <td>360.80</td>\n",
       "      <td>2011</td>\n",
       "      <td>1</td>\n",
       "      <td>1</td>\n",
       "      <td>1</td>\n",
       "      <td>0</td>\n",
       "      <td>1.0</td>\n",
       "      <td>0.0</td>\n",
       "    </tr>\n",
       "    <tr>\n",
       "      <th>2</th>\n",
       "      <td>2011-01-01 02:00:00</td>\n",
       "      <td>A</td>\n",
       "      <td>0</td>\n",
       "      <td>0</td>\n",
       "      <td>1</td>\n",
       "      <td>9.02</td>\n",
       "      <td>13.635</td>\n",
       "      <td>80.0</td>\n",
       "      <td>0.0</td>\n",
       "      <td>5</td>\n",
       "      <td>27</td>\n",
       "      <td>32</td>\n",
       "      <td>1.0</td>\n",
       "      <td>288.64</td>\n",
       "      <td>2011</td>\n",
       "      <td>1</td>\n",
       "      <td>1</td>\n",
       "      <td>2</td>\n",
       "      <td>0</td>\n",
       "      <td>1.0</td>\n",
       "      <td>0.0</td>\n",
       "    </tr>\n",
       "    <tr>\n",
       "      <th>3</th>\n",
       "      <td>2011-01-01 03:00:00</td>\n",
       "      <td>A</td>\n",
       "      <td>0</td>\n",
       "      <td>0</td>\n",
       "      <td>1</td>\n",
       "      <td>9.84</td>\n",
       "      <td>14.395</td>\n",
       "      <td>75.0</td>\n",
       "      <td>0.0</td>\n",
       "      <td>3</td>\n",
       "      <td>10</td>\n",
       "      <td>13</td>\n",
       "      <td>1.0</td>\n",
       "      <td>127.92</td>\n",
       "      <td>2011</td>\n",
       "      <td>1</td>\n",
       "      <td>1</td>\n",
       "      <td>3</td>\n",
       "      <td>0</td>\n",
       "      <td>1.0</td>\n",
       "      <td>0.0</td>\n",
       "    </tr>\n",
       "    <tr>\n",
       "      <th>4</th>\n",
       "      <td>2011-01-01 04:00:00</td>\n",
       "      <td>A</td>\n",
       "      <td>0</td>\n",
       "      <td>0</td>\n",
       "      <td>1</td>\n",
       "      <td>9.84</td>\n",
       "      <td>14.395</td>\n",
       "      <td>75.0</td>\n",
       "      <td>0.0</td>\n",
       "      <td>0</td>\n",
       "      <td>1</td>\n",
       "      <td>1</td>\n",
       "      <td>1.0</td>\n",
       "      <td>9.84</td>\n",
       "      <td>2011</td>\n",
       "      <td>1</td>\n",
       "      <td>1</td>\n",
       "      <td>4</td>\n",
       "      <td>0</td>\n",
       "      <td>1.0</td>\n",
       "      <td>0.0</td>\n",
       "    </tr>\n",
       "  </tbody>\n",
       "</table>\n",
       "</div>"
      ],
      "text/plain": [
       "             datetime season  holiday  workingday  weather  temp   atemp  \\\n",
       "0 2011-01-01 00:00:00      A        0           0        1  9.84  14.395   \n",
       "1 2011-01-01 01:00:00      A        0           0        1  9.02  13.635   \n",
       "2 2011-01-01 02:00:00      A        0           0        1  9.02  13.635   \n",
       "3 2011-01-01 03:00:00      A        0           0        1  9.84  14.395   \n",
       "4 2011-01-01 04:00:00      A        0           0        1  9.84  14.395   \n",
       "\n",
       "   humidity  windspeed  casual  registered  count  Recency  Monetary  year  \\\n",
       "0      81.0        0.0       3          13     16      1.0    157.44  2011   \n",
       "1      80.0        0.0       8          32     40      1.0    360.80  2011   \n",
       "2      80.0        0.0       5          27     32      1.0    288.64  2011   \n",
       "3      75.0        0.0       3          10     13      1.0    127.92  2011   \n",
       "4      75.0        0.0       0           1      1      1.0      9.84  2011   \n",
       "\n",
       "   month  day  hour  minute   y1   y2  \n",
       "0      1    1     0       0  1.0  0.0  \n",
       "1      1    1     1       0  1.0  0.0  \n",
       "2      1    1     2       0  1.0  0.0  \n",
       "3      1    1     3       0  1.0  0.0  \n",
       "4      1    1     4       0  1.0  0.0  "
      ]
     },
     "execution_count": 38,
     "metadata": {},
     "output_type": "execute_result"
    }
   ],
   "source": [
    "df.head()"
   ]
  },
  {
   "cell_type": "code",
   "execution_count": 39,
   "metadata": {
    "ExecuteTime": {
     "end_time": "2020-12-12T05:51:56.040485Z",
     "start_time": "2020-12-12T05:51:55.418160Z"
    }
   },
   "outputs": [],
   "source": [
    "import statsmodels.api as sm\n",
    "import pandas as pd\n",
    "from patsy import dmatrices\n",
    "\n",
    "y, X = dmatrices('y2 ~ season + holiday + workingday+weather+temp+atemp+humidity+windspeed+casual\\\n",
    "+registered+Recency+Monetary', data=df, return_type='dataframe')"
   ]
  },
  {
   "cell_type": "markdown",
   "metadata": {},
   "source": [
    "### VIF 확인 필요 (y값 섞여 들어가지 않게 주의!!)"
   ]
  },
  {
   "cell_type": "code",
   "execution_count": 40,
   "metadata": {
    "ExecuteTime": {
     "end_time": "2020-12-12T05:51:56.234491Z",
     "start_time": "2020-12-12T05:51:56.042454Z"
    }
   },
   "outputs": [
    {
     "data": {
      "text/html": [
       "<div>\n",
       "<style scoped>\n",
       "    .dataframe tbody tr th:only-of-type {\n",
       "        vertical-align: middle;\n",
       "    }\n",
       "\n",
       "    .dataframe tbody tr th {\n",
       "        vertical-align: top;\n",
       "    }\n",
       "\n",
       "    .dataframe thead th {\n",
       "        text-align: right;\n",
       "    }\n",
       "</style>\n",
       "<table border=\"1\" class=\"dataframe\">\n",
       "  <thead>\n",
       "    <tr style=\"text-align: right;\">\n",
       "      <th></th>\n",
       "      <th>VIF Factor</th>\n",
       "      <th>features</th>\n",
       "    </tr>\n",
       "  </thead>\n",
       "  <tbody>\n",
       "    <tr>\n",
       "      <th>0</th>\n",
       "      <td>56.314408</td>\n",
       "      <td>Intercept</td>\n",
       "    </tr>\n",
       "    <tr>\n",
       "      <th>1</th>\n",
       "      <td>2.535383</td>\n",
       "      <td>season[T.B]</td>\n",
       "    </tr>\n",
       "    <tr>\n",
       "      <th>2</th>\n",
       "      <td>4.129738</td>\n",
       "      <td>season[T.C]</td>\n",
       "    </tr>\n",
       "    <tr>\n",
       "      <th>3</th>\n",
       "      <td>2.580344</td>\n",
       "      <td>season[T.D]</td>\n",
       "    </tr>\n",
       "    <tr>\n",
       "      <th>4</th>\n",
       "      <td>1.075556</td>\n",
       "      <td>holiday</td>\n",
       "    </tr>\n",
       "    <tr>\n",
       "      <th>5</th>\n",
       "      <td>1.428789</td>\n",
       "      <td>workingday</td>\n",
       "    </tr>\n",
       "    <tr>\n",
       "      <th>6</th>\n",
       "      <td>1.282391</td>\n",
       "      <td>weather</td>\n",
       "    </tr>\n",
       "    <tr>\n",
       "      <th>7</th>\n",
       "      <td>43.474120</td>\n",
       "      <td>temp</td>\n",
       "    </tr>\n",
       "    <tr>\n",
       "      <th>8</th>\n",
       "      <td>37.339966</td>\n",
       "      <td>atemp</td>\n",
       "    </tr>\n",
       "    <tr>\n",
       "      <th>9</th>\n",
       "      <td>1.743745</td>\n",
       "      <td>humidity</td>\n",
       "    </tr>\n",
       "    <tr>\n",
       "      <th>10</th>\n",
       "      <td>1.210113</td>\n",
       "      <td>windspeed</td>\n",
       "    </tr>\n",
       "    <tr>\n",
       "      <th>11</th>\n",
       "      <td>3.912857</td>\n",
       "      <td>casual</td>\n",
       "    </tr>\n",
       "    <tr>\n",
       "      <th>12</th>\n",
       "      <td>9.435817</td>\n",
       "      <td>registered</td>\n",
       "    </tr>\n",
       "    <tr>\n",
       "      <th>13</th>\n",
       "      <td>1.805088</td>\n",
       "      <td>Recency</td>\n",
       "    </tr>\n",
       "    <tr>\n",
       "      <th>14</th>\n",
       "      <td>17.914355</td>\n",
       "      <td>Monetary</td>\n",
       "    </tr>\n",
       "  </tbody>\n",
       "</table>\n",
       "</div>"
      ],
      "text/plain": [
       "    VIF Factor     features\n",
       "0    56.314408    Intercept\n",
       "1     2.535383  season[T.B]\n",
       "2     4.129738  season[T.C]\n",
       "3     2.580344  season[T.D]\n",
       "4     1.075556      holiday\n",
       "5     1.428789   workingday\n",
       "6     1.282391      weather\n",
       "7    43.474120         temp\n",
       "8    37.339966        atemp\n",
       "9     1.743745     humidity\n",
       "10    1.210113    windspeed\n",
       "11    3.912857       casual\n",
       "12    9.435817   registered\n",
       "13    1.805088      Recency\n",
       "14   17.914355     Monetary"
      ]
     },
     "execution_count": 40,
     "metadata": {},
     "output_type": "execute_result"
    }
   ],
   "source": [
    "# y, X = dmatrices('price ~ area + bedrooms + bathrooms', df, return_type = 'dataframe')\n",
    "from statsmodels.stats.outliers_influence import variance_inflation_factor\n",
    "\n",
    "vif = pd.DataFrame()\n",
    "vif[\"VIF Factor\"] = [variance_inflation_factor(X.values, i) for i in range(X.shape[1])]\n",
    "vif[\"features\"] = X.columns \n",
    "vif"
   ]
  },
  {
   "cell_type": "code",
   "execution_count": 41,
   "metadata": {
    "ExecuteTime": {
     "end_time": "2020-12-12T05:51:56.251436Z",
     "start_time": "2020-12-12T05:51:56.242831Z"
    }
   },
   "outputs": [],
   "source": [
    "X = X.drop(columns=['temp'])"
   ]
  },
  {
   "cell_type": "code",
   "execution_count": 42,
   "metadata": {
    "ExecuteTime": {
     "end_time": "2020-12-12T05:51:56.498548Z",
     "start_time": "2020-12-12T05:51:56.257421Z"
    },
    "scrolled": false
   },
   "outputs": [
    {
     "data": {
      "text/html": [
       "<div>\n",
       "<style scoped>\n",
       "    .dataframe tbody tr th:only-of-type {\n",
       "        vertical-align: middle;\n",
       "    }\n",
       "\n",
       "    .dataframe tbody tr th {\n",
       "        vertical-align: top;\n",
       "    }\n",
       "\n",
       "    .dataframe thead th {\n",
       "        text-align: right;\n",
       "    }\n",
       "</style>\n",
       "<table border=\"1\" class=\"dataframe\">\n",
       "  <thead>\n",
       "    <tr style=\"text-align: right;\">\n",
       "      <th></th>\n",
       "      <th>VIF Factor</th>\n",
       "      <th>features</th>\n",
       "    </tr>\n",
       "  </thead>\n",
       "  <tbody>\n",
       "    <tr>\n",
       "      <th>0</th>\n",
       "      <td>56.306543</td>\n",
       "      <td>Intercept</td>\n",
       "    </tr>\n",
       "    <tr>\n",
       "      <th>1</th>\n",
       "      <td>2.455552</td>\n",
       "      <td>season[T.B]</td>\n",
       "    </tr>\n",
       "    <tr>\n",
       "      <th>2</th>\n",
       "      <td>3.722530</td>\n",
       "      <td>season[T.C]</td>\n",
       "    </tr>\n",
       "    <tr>\n",
       "      <th>3</th>\n",
       "      <td>2.569020</td>\n",
       "      <td>season[T.D]</td>\n",
       "    </tr>\n",
       "    <tr>\n",
       "      <th>4</th>\n",
       "      <td>1.074492</td>\n",
       "      <td>holiday</td>\n",
       "    </tr>\n",
       "    <tr>\n",
       "      <th>5</th>\n",
       "      <td>1.423276</td>\n",
       "      <td>workingday</td>\n",
       "    </tr>\n",
       "    <tr>\n",
       "      <th>6</th>\n",
       "      <td>1.279043</td>\n",
       "      <td>weather</td>\n",
       "    </tr>\n",
       "    <tr>\n",
       "      <th>7</th>\n",
       "      <td>3.751375</td>\n",
       "      <td>atemp</td>\n",
       "    </tr>\n",
       "    <tr>\n",
       "      <th>8</th>\n",
       "      <td>1.731370</td>\n",
       "      <td>humidity</td>\n",
       "    </tr>\n",
       "    <tr>\n",
       "      <th>9</th>\n",
       "      <td>1.157455</td>\n",
       "      <td>windspeed</td>\n",
       "    </tr>\n",
       "    <tr>\n",
       "      <th>10</th>\n",
       "      <td>3.868163</td>\n",
       "      <td>casual</td>\n",
       "    </tr>\n",
       "    <tr>\n",
       "      <th>11</th>\n",
       "      <td>8.961080</td>\n",
       "      <td>registered</td>\n",
       "    </tr>\n",
       "    <tr>\n",
       "      <th>12</th>\n",
       "      <td>1.803690</td>\n",
       "      <td>Recency</td>\n",
       "    </tr>\n",
       "    <tr>\n",
       "      <th>13</th>\n",
       "      <td>16.802380</td>\n",
       "      <td>Monetary</td>\n",
       "    </tr>\n",
       "  </tbody>\n",
       "</table>\n",
       "</div>"
      ],
      "text/plain": [
       "    VIF Factor     features\n",
       "0    56.306543    Intercept\n",
       "1     2.455552  season[T.B]\n",
       "2     3.722530  season[T.C]\n",
       "3     2.569020  season[T.D]\n",
       "4     1.074492      holiday\n",
       "5     1.423276   workingday\n",
       "6     1.279043      weather\n",
       "7     3.751375        atemp\n",
       "8     1.731370     humidity\n",
       "9     1.157455    windspeed\n",
       "10    3.868163       casual\n",
       "11    8.961080   registered\n",
       "12    1.803690      Recency\n",
       "13   16.802380     Monetary"
      ]
     },
     "execution_count": 42,
     "metadata": {},
     "output_type": "execute_result"
    }
   ],
   "source": [
    "vif = pd.DataFrame()\n",
    "vif[\"VIF Factor\"] = [variance_inflation_factor(X.values, i) for i in range(X.shape[1])]\n",
    "vif[\"features\"] = X.columns \n",
    "vif"
   ]
  },
  {
   "cell_type": "markdown",
   "metadata": {},
   "source": [
    "### train, test split"
   ]
  },
  {
   "cell_type": "code",
   "execution_count": 43,
   "metadata": {
    "ExecuteTime": {
     "end_time": "2020-12-12T05:51:57.508994Z",
     "start_time": "2020-12-12T05:51:56.501727Z"
    }
   },
   "outputs": [],
   "source": [
    "from sklearn.model_selection import train_test_split\n",
    "X_train , X_test , y_train , y_test = train_test_split(X , y ,test_size=0.3, random_state=0)"
   ]
  },
  {
   "cell_type": "markdown",
   "metadata": {},
   "source": [
    "### StandardScaler"
   ]
  },
  {
   "cell_type": "code",
   "execution_count": 44,
   "metadata": {
    "ExecuteTime": {
     "end_time": "2020-12-12T05:51:57.516526Z",
     "start_time": "2020-12-12T05:51:57.511502Z"
    }
   },
   "outputs": [],
   "source": [
    "from sklearn.preprocessing import StandardScaler\n",
    "\n",
    "scaler = StandardScaler()"
   ]
  },
  {
   "cell_type": "code",
   "execution_count": 45,
   "metadata": {
    "ExecuteTime": {
     "end_time": "2020-12-12T05:51:57.536429Z",
     "start_time": "2020-12-12T05:51:57.520472Z"
    }
   },
   "outputs": [],
   "source": [
    "scaler.fit(X_train)\n",
    "X_train_scale = scaler.transform(X_train)\n",
    "X_test_scale = scaler.transform(X_test)"
   ]
  },
  {
   "cell_type": "code",
   "execution_count": 46,
   "metadata": {
    "ExecuteTime": {
     "end_time": "2020-12-12T05:51:57.544410Z",
     "start_time": "2020-12-12T05:51:57.539421Z"
    }
   },
   "outputs": [],
   "source": [
    "# 컬럼명 다시 붙여주기\n",
    "X_train_scale = pd.DataFrame(X_train_scale, columns= X_train.columns)\n",
    "X_test_scale = pd.DataFrame(X_test_scale, columns= X_test.columns)"
   ]
  },
  {
   "cell_type": "markdown",
   "metadata": {},
   "source": [
    "### 오버샘플링 수행"
   ]
  },
  {
   "cell_type": "code",
   "execution_count": 47,
   "metadata": {
    "ExecuteTime": {
     "end_time": "2020-12-12T05:51:57.558579Z",
     "start_time": "2020-12-12T05:51:57.547401Z"
    }
   },
   "outputs": [
    {
     "data": {
      "text/plain": [
       "y2 \n",
       "0.0    3885\n",
       "1.0    1986\n",
       "2.0     971\n",
       "3.0     762\n",
       "dtype: int64"
      ]
     },
     "execution_count": 47,
     "metadata": {},
     "output_type": "execute_result"
    }
   ],
   "source": [
    "y_train.value_counts()"
   ]
  },
  {
   "cell_type": "code",
   "execution_count": null,
   "metadata": {
    "ExecuteTime": {
     "end_time": "2020-12-12T05:52:07.379115Z",
     "start_time": "2020-12-12T05:51:57.560526Z"
    }
   },
   "outputs": [],
   "source": [
    "from imblearn.over_sampling import SMOTE\n",
    "\n",
    "smote = SMOTE(random_state=0)\n",
    "X_train_over, y_train_over = smote.fit_sample(X_train_scale, y_train)"
   ]
  },
  {
   "cell_type": "code",
   "execution_count": 49,
   "metadata": {
    "ExecuteTime": {
     "end_time": "2020-12-12T05:52:07.388753Z",
     "start_time": "2020-12-12T05:52:07.382725Z"
    }
   },
   "outputs": [],
   "source": [
    "# 컬럼명 다시 붙여주기\n",
    "X_train_over = pd.DataFrame(X_train_over, columns= X_train.columns)\n",
    "y_train_over = pd.DataFrame(y_train_over, columns=['y2'])"
   ]
  },
  {
   "cell_type": "code",
   "execution_count": 50,
   "metadata": {
    "ExecuteTime": {
     "end_time": "2020-12-12T05:52:07.402842Z",
     "start_time": "2020-12-12T05:52:07.391197Z"
    }
   },
   "outputs": [
    {
     "data": {
      "text/plain": [
       "y2 \n",
       "3.0    3885\n",
       "2.0    3885\n",
       "1.0    3885\n",
       "0.0    3885\n",
       "dtype: int64"
      ]
     },
     "execution_count": 50,
     "metadata": {},
     "output_type": "execute_result"
    }
   ],
   "source": [
    "y_train_over.value_counts()"
   ]
  },
  {
   "cell_type": "markdown",
   "metadata": {},
   "source": [
    "### 군집화 수행"
   ]
  },
  {
   "cell_type": "code",
   "execution_count": 51,
   "metadata": {
    "ExecuteTime": {
     "end_time": "2020-12-12T05:52:07.412828Z",
     "start_time": "2020-12-12T05:52:07.406287Z"
    }
   },
   "outputs": [],
   "source": [
    "# X_train_over, X_test_scale, y_train_over, y_test이 현재 변수\n",
    "\n",
    "from sklearn.cluster import KMeans\n",
    "\n",
    "# 바로 최적 개수 찾기\n",
    "def elbow(X):\n",
    "    sse = [] # 오차제곱합\n",
    "    for i in range(1,11):\n",
    "        km = KMeans(n_clusters=i, init='k-means++', random_state=0)\n",
    "        km.fit(X)\n",
    "        sse.append(km.inertia_)\n",
    "        \n",
    "    plt.plot(range(1,11), sse, marker ='o')\n",
    "    plt.xlabel('n_clusters')\n",
    "    plt.ylabel('SSE')\n",
    "    plt.show()"
   ]
  },
  {
   "cell_type": "code",
   "execution_count": 52,
   "metadata": {
    "ExecuteTime": {
     "end_time": "2020-12-12T05:52:10.731148Z",
     "start_time": "2020-12-12T05:52:07.415821Z"
    }
   },
   "outputs": [
    {
     "data": {
      "image/png": "[encoded data removed]",
      "text/plain": [
       "<Figure size 432x288 with 1 Axes>"
      ]
     },
     "metadata": {
      "needs_background": "light"
     },
     "output_type": "display_data"
    }
   ],
   "source": [
    "elbow(X_train_over)"
   ]
  },
  {
   "cell_type": "code",
   "execution_count": 53,
   "metadata": {
    "ExecuteTime": {
     "end_time": "2020-12-12T05:52:53.584277Z",
     "start_time": "2020-12-12T05:52:10.733132Z"
    }
   },
   "outputs": [
    {
     "name": "stdout",
     "output_type": "stream",
     "text": [
      "[0.194 0.21  0.202 0.209 0.229 0.225 0.238 0.232 0.24 ]\n"
     ]
    }
   ],
   "source": [
    "from sklearn.metrics import silhouette_samples, silhouette_score\n",
    "\n",
    "def sil(X):\n",
    "    si = [] # 실루엣계수\n",
    "    for i in range(2,11): # cluster가 2개인것 부터 10개까지!!!!\n",
    "        km = KMeans(n_clusters=i, init='k-means++', random_state=0)\n",
    "        km.fit(X)\n",
    "        si.append(silhouette_score(X, km.labels_))\n",
    "    print(np.round(si,3))\n",
    "sil(X_train_over)"
   ]
  },
  {
   "cell_type": "markdown",
   "metadata": {},
   "source": [
    "#### 군집 수 직접 지정해서 군집화"
   ]
  },
  {
   "cell_type": "code",
   "execution_count": 54,
   "metadata": {
    "ExecuteTime": {
     "end_time": "2020-12-12T05:52:53.878393Z",
     "start_time": "2020-12-12T05:52:53.587237Z"
    }
   },
   "outputs": [
    {
     "data": {
      "text/plain": [
       "KMeans(n_clusters=4, random_state=0)"
      ]
     },
     "execution_count": 54,
     "metadata": {},
     "output_type": "execute_result"
    }
   ],
   "source": [
    "kmeans = KMeans(n_clusters=4, init='k-means++', max_iter=300,random_state=0)\n",
    "kmeans.fit(X_train_over)"
   ]
  },
  {
   "cell_type": "markdown",
   "metadata": {},
   "source": [
    "### 군집화 결과 프로파일링"
   ]
  },
  {
   "cell_type": "code",
   "execution_count": 55,
   "metadata": {
    "ExecuteTime": {
     "end_time": "2020-12-12T05:52:53.888365Z",
     "start_time": "2020-12-12T05:52:53.880412Z"
    }
   },
   "outputs": [],
   "source": [
    "# 스케일링 풀고 프로파일링\n",
    "\n",
    "df_profile = pd.DataFrame(scaler.inverse_transform(X_train_over), columns = X_train.columns)\n",
    "df_profile['kmeans'] = kmeans.labels_"
   ]
  },
  {
   "cell_type": "code",
   "execution_count": 56,
   "metadata": {
    "ExecuteTime": {
     "end_time": "2020-12-12T05:52:54.567198Z",
     "start_time": "2020-12-12T05:52:53.890360Z"
    }
   },
   "outputs": [
    {
     "data": {
      "text/plain": [
       "<AxesSubplot:xlabel='kmeans', ylabel='atemp'>"
      ]
     },
     "execution_count": 56,
     "metadata": {},
     "output_type": "execute_result"
    },
    {
     "data": {
      "image/png": "[encoded data removed]",
      "text/plain": [
       "<Figure size 432x288 with 1 Axes>"
      ]
     },
     "metadata": {
      "needs_background": "light"
     },
     "output_type": "display_data"
    }
   ],
   "source": [
    "sns.barplot(df_profile['kmeans'], df_profile['atemp'])"
   ]
  },
  {
   "cell_type": "code",
   "execution_count": 57,
   "metadata": {
    "ExecuteTime": {
     "end_time": "2020-12-12T05:52:55.228331Z",
     "start_time": "2020-12-12T05:52:54.569203Z"
    }
   },
   "outputs": [
    {
     "data": {
      "text/plain": [
       "<AxesSubplot:xlabel='kmeans', ylabel='windspeed'>"
      ]
     },
     "execution_count": 57,
     "metadata": {},
     "output_type": "execute_result"
    },
    {
     "data": {
      "image/png": "[encoded data removed]",
      "text/plain": [
       "<Figure size 432x288 with 1 Axes>"
      ]
     },
     "metadata": {
      "needs_background": "light"
     },
     "output_type": "display_data"
    }
   ],
   "source": [
    "sns.barplot(df_profile['kmeans'], df_profile['windspeed'])"
   ]
  },
  {
   "cell_type": "markdown",
   "metadata": {},
   "source": [
    "### 군집 결과 성능 평가"
   ]
  },
  {
   "cell_type": "code",
   "execution_count": 58,
   "metadata": {
    "ExecuteTime": {
     "end_time": "2020-12-12T05:52:55.238930Z",
     "start_time": "2020-12-12T05:52:55.232430Z"
    }
   },
   "outputs": [],
   "source": [
    "a = y_train_over['y2'].astype('int')"
   ]
  },
  {
   "cell_type": "code",
   "execution_count": 59,
   "metadata": {
    "ExecuteTime": {
     "end_time": "2020-12-12T05:52:55.251473Z",
     "start_time": "2020-12-12T05:52:55.242461Z"
    }
   },
   "outputs": [
    {
     "data": {
      "text/plain": [
       "0    3885\n",
       "1    3885\n",
       "2    3885\n",
       "3    3885\n",
       "Name: y2, dtype: int64"
      ]
     },
     "execution_count": 59,
     "metadata": {},
     "output_type": "execute_result"
    }
   ],
   "source": [
    "a.value_counts().sort_index()"
   ]
  },
  {
   "cell_type": "code",
   "execution_count": 60,
   "metadata": {
    "ExecuteTime": {
     "end_time": "2020-12-12T05:52:55.259453Z",
     "start_time": "2020-12-12T05:52:55.254520Z"
    }
   },
   "outputs": [],
   "source": [
    "b = df_profile['kmeans']"
   ]
  },
  {
   "cell_type": "code",
   "execution_count": 61,
   "metadata": {
    "ExecuteTime": {
     "end_time": "2020-12-12T05:52:55.270501Z",
     "start_time": "2020-12-12T05:52:55.262445Z"
    }
   },
   "outputs": [
    {
     "data": {
      "text/plain": [
       "0    6853\n",
       "1    2147\n",
       "2    4103\n",
       "3    2437\n",
       "Name: kmeans, dtype: int64"
      ]
     },
     "execution_count": 61,
     "metadata": {},
     "output_type": "execute_result"
    }
   ],
   "source": [
    "b.value_counts().sort_index()"
   ]
  },
  {
   "cell_type": "code",
   "execution_count": 62,
   "metadata": {
    "ExecuteTime": {
     "end_time": "2020-12-12T05:52:55.308237Z",
     "start_time": "2020-12-12T05:52:55.273522Z"
    }
   },
   "outputs": [
    {
     "name": "stdout",
     "output_type": "stream",
     "text": [
      "              precision    recall  f1-score   support\n",
      "\n",
      "     class 0       0.51      0.90      0.65      3885\n",
      "     class 1       0.22      0.12      0.16      3885\n",
      "     class 2       0.33      0.35      0.34      3885\n",
      "     class 3       0.49      0.31      0.38      3885\n",
      "\n",
      "    accuracy                           0.42     15540\n",
      "   macro avg       0.39      0.42      0.38     15540\n",
      "weighted avg       0.39      0.42      0.38     15540\n",
      "\n"
     ]
    }
   ],
   "source": [
    "# y의 class와 군집화 class의 이름을 맞추지 않으면 matrix가 안 맞는다\n",
    "# 세로가 actual값, 가로가 예측값 \n",
    "from sklearn.metrics import classification_report\n",
    "from sklearn.metrics import confusion_matrix\n",
    "\n",
    "target_names = ['class 0', 'class 1', 'class 2', 'class 3']\n",
    "print(classification_report(a, b, target_names=target_names))"
   ]
  },
  {
   "cell_type": "code",
   "execution_count": 63,
   "metadata": {
    "ExecuteTime": {
     "end_time": "2020-12-12T05:52:55.319192Z",
     "start_time": "2020-12-12T05:52:55.314533Z"
    }
   },
   "outputs": [],
   "source": [
    "target_name_pred = ['예측_'+i for i in target_names]\n",
    "target_name_actual = ['실제_'+i for i in target_names]"
   ]
  },
  {
   "cell_type": "code",
   "execution_count": 64,
   "metadata": {
    "ExecuteTime": {
     "end_time": "2020-12-12T05:52:55.350731Z",
     "start_time": "2020-12-12T05:52:55.322171Z"
    }
   },
   "outputs": [
    {
     "data": {
      "text/html": [
       "<div>\n",
       "<style scoped>\n",
       "    .dataframe tbody tr th:only-of-type {\n",
       "        vertical-align: middle;\n",
       "    }\n",
       "\n",
       "    .dataframe tbody tr th {\n",
       "        vertical-align: top;\n",
       "    }\n",
       "\n",
       "    .dataframe thead th {\n",
       "        text-align: right;\n",
       "    }\n",
       "</style>\n",
       "<table border=\"1\" class=\"dataframe\">\n",
       "  <thead>\n",
       "    <tr style=\"text-align: right;\">\n",
       "      <th></th>\n",
       "      <th>예측_class 0</th>\n",
       "      <th>예측_class 1</th>\n",
       "      <th>예측_class 2</th>\n",
       "      <th>예측_class 3</th>\n",
       "    </tr>\n",
       "  </thead>\n",
       "  <tbody>\n",
       "    <tr>\n",
       "      <th>실제_class 0</th>\n",
       "      <td>3510</td>\n",
       "      <td>356</td>\n",
       "      <td>19</td>\n",
       "      <td>0</td>\n",
       "    </tr>\n",
       "    <tr>\n",
       "      <th>실제_class 1</th>\n",
       "      <td>2522</td>\n",
       "      <td>477</td>\n",
       "      <td>750</td>\n",
       "      <td>136</td>\n",
       "    </tr>\n",
       "    <tr>\n",
       "      <th>실제_class 2</th>\n",
       "      <td>746</td>\n",
       "      <td>694</td>\n",
       "      <td>1348</td>\n",
       "      <td>1097</td>\n",
       "    </tr>\n",
       "    <tr>\n",
       "      <th>실제_class 3</th>\n",
       "      <td>75</td>\n",
       "      <td>620</td>\n",
       "      <td>1986</td>\n",
       "      <td>1204</td>\n",
       "    </tr>\n",
       "  </tbody>\n",
       "</table>\n",
       "</div>"
      ],
      "text/plain": [
       "            예측_class 0  예측_class 1  예측_class 2  예측_class 3\n",
       "실제_class 0        3510         356          19           0\n",
       "실제_class 1        2522         477         750         136\n",
       "실제_class 2         746         694        1348        1097\n",
       "실제_class 3          75         620        1986        1204"
      ]
     },
     "execution_count": 64,
     "metadata": {},
     "output_type": "execute_result"
    }
   ],
   "source": [
    "confusion = pd.DataFrame(confusion_matrix( a, b))\n",
    "confusion.columns = target_name_pred\n",
    "confusion.index = target_name_actual\n",
    "confusion"
   ]
  },
  {
   "cell_type": "markdown",
   "metadata": {},
   "source": [
    "### 군집화 결과를 새로운 컬럼으로 추가(train, test 모두 수행)"
   ]
  },
  {
   "cell_type": "code",
   "execution_count": 65,
   "metadata": {
    "ExecuteTime": {
     "end_time": "2020-12-12T05:52:55.357756Z",
     "start_time": "2020-12-12T05:52:55.352726Z"
    }
   },
   "outputs": [],
   "source": [
    "X_train_over['kmeans'] = kmeans.labels_"
   ]
  },
  {
   "cell_type": "code",
   "execution_count": 66,
   "metadata": {
    "ExecuteTime": {
     "end_time": "2020-12-12T05:52:55.371676Z",
     "start_time": "2020-12-12T05:52:55.360706Z"
    }
   },
   "outputs": [],
   "source": [
    "kmeans_test = kmeans.predict(X_test_scale)\n",
    "X_test_scale['kmeans'] = kmeans_test"
   ]
  },
  {
   "cell_type": "markdown",
   "metadata": {},
   "source": [
    "### 모델링"
   ]
  },
  {
   "cell_type": "code",
   "execution_count": 67,
   "metadata": {
    "ExecuteTime": {
     "end_time": "2020-12-12T05:52:55.418122Z",
     "start_time": "2020-12-12T05:52:55.374668Z"
    }
   },
   "outputs": [],
   "source": [
    "from sklearn.pipeline import Pipeline\n",
    "from sklearn.model_selection import GridSearchCV, train_test_split, KFold, cross_val_score\n",
    "from sklearn.linear_model import LogisticRegression\n",
    "from sklearn.tree import DecisionTreeClassifier\n",
    "from sklearn.neighbors import KNeighborsClassifier\n",
    "from sklearn.discriminant_analysis import LinearDiscriminantAnalysis\n",
    "from sklearn.naive_bayes import GaussianNB\n",
    "from sklearn.ensemble import RandomForestClassifier\n",
    "from sklearn.neural_network import MLPClassifier"
   ]
  },
  {
   "cell_type": "code",
   "execution_count": 68,
   "metadata": {
    "ExecuteTime": {
     "end_time": "2020-12-12T05:52:55.425119Z",
     "start_time": "2020-12-12T05:52:55.420133Z"
    }
   },
   "outputs": [],
   "source": [
    "# Evaluate Algorithms\n",
    "# Test options and evaluation metric\n",
    "num_folds = 10\n",
    "seed = 7\n",
    "scoring = 'accuracy'\n",
    "# num_instances = len(X_train_over)"
   ]
  },
  {
   "cell_type": "markdown",
   "metadata": {},
   "source": [
    "#### 기초모델"
   ]
  },
  {
   "cell_type": "code",
   "execution_count": 69,
   "metadata": {
    "ExecuteTime": {
     "end_time": "2020-12-12T05:52:55.434140Z",
     "start_time": "2020-12-12T05:52:55.428113Z"
    }
   },
   "outputs": [],
   "source": [
    "models = []\n",
    "models.append(('LR', LogisticRegression()))\n",
    "models.append(('LDA', LinearDiscriminantAnalysis()))\n",
    "models.append(('KNN', KNeighborsClassifier()))\n",
    "models.append(('CART', DecisionTreeClassifier()))\n",
    "models.append(('NB', GaussianNB()))\n",
    "models.append(('RF', RandomForestClassifier()))\n",
    "models.append(('MLP', MLPClassifier()))"
   ]
  },
  {
   "cell_type": "code",
   "execution_count": 70,
   "metadata": {
    "ExecuteTime": {
     "end_time": "2020-12-12T05:52:55.445067Z",
     "start_time": "2020-12-12T05:52:55.437088Z"
    }
   },
   "outputs": [
    {
     "data": {
      "text/plain": [
       "[('LR', LogisticRegression()),\n",
       " ('LDA', LinearDiscriminantAnalysis()),\n",
       " ('KNN', KNeighborsClassifier()),\n",
       " ('CART', DecisionTreeClassifier()),\n",
       " ('NB', GaussianNB()),\n",
       " ('RF', RandomForestClassifier()),\n",
       " ('MLP', MLPClassifier())]"
      ]
     },
     "execution_count": 70,
     "metadata": {},
     "output_type": "execute_result"
    }
   ],
   "source": [
    "models"
   ]
  },
  {
   "cell_type": "code",
   "execution_count": null,
   "metadata": {
    "ExecuteTime": {
     "end_time": "2020-12-12T05:57:26.758964Z",
     "start_time": "2020-12-12T05:52:55.447527Z"
    }
   },
   "outputs": [],
   "source": [
    "results = []\n",
    "names = []\n",
    "\n",
    "from sklearn.model_selection import StratifiedKFold\n",
    "skf = StratifiedKFold(n_splits=num_folds, shuffle=True, random_state=seed)\n",
    "# kfold = KFold(n_splits=num_folds, shuffle=True, random_state=seed)\n",
    "\n",
    "for name, model in models:\n",
    "    cv_results = cross_val_score(model, X_train_over, y_train_over.values.ravel(), cv=skf, scoring=scoring)\n",
    "    results.append(cv_results)\n",
    "    names.append(name)\n",
    "    msg = \"[%s]\\tmean: %f\\tstd: %f\" % (name, cv_results.mean(), cv_results.std())\n",
    "    print(msg)"
   ]
  },
  {
   "cell_type": "code",
   "execution_count": 72,
   "metadata": {
    "ExecuteTime": {
     "end_time": "2020-12-12T05:57:26.768882Z",
     "start_time": "2020-12-12T05:57:26.761966Z"
    }
   },
   "outputs": [
    {
     "data": {
      "text/plain": [
       "['LR', 'LDA', 'KNN', 'CART', 'NB', 'RF', 'MLP']"
      ]
     },
     "execution_count": 72,
     "metadata": {},
     "output_type": "execute_result"
    }
   ],
   "source": [
    "names"
   ]
  },
  {
   "cell_type": "code",
   "execution_count": 73,
   "metadata": {
    "ExecuteTime": {
     "end_time": "2020-12-12T05:57:26.787341Z",
     "start_time": "2020-12-12T05:57:26.773380Z"
    }
   },
   "outputs": [
    {
     "name": "stdout",
     "output_type": "stream",
     "text": [
      "LR 0.9923423423423424\n",
      "LDA 0.9005791505791507\n",
      "KNN 0.9560489060489061\n",
      "CART 0.9905405405405405\n",
      "NB 0.885971685971686\n",
      "RF 0.9925353925353926\n",
      "MLP 0.9962676962676962\n"
     ]
    }
   ],
   "source": [
    "for i in range(len(names)):\n",
    "    print(names[i], np.mean(results[i]))"
   ]
  },
  {
   "cell_type": "code",
   "execution_count": 74,
   "metadata": {
    "ExecuteTime": {
     "end_time": "2020-12-12T05:57:27.070814Z",
     "start_time": "2020-12-12T05:57:26.790223Z"
    }
   },
   "outputs": [
    {
     "data": {
      "image/png": "[encoded data removed]",
      "text/plain": [
       "<Figure size 432x288 with 1 Axes>"
      ]
     },
     "metadata": {
      "needs_background": "light"
     },
     "output_type": "display_data"
    }
   ],
   "source": [
    "# Compare Algorithms\n",
    "fig = plt.figure()\n",
    "fig.suptitle('Algorithm Comparison')\n",
    "ax = fig.add_subplot(111)\n",
    "plt.boxplot(results)\n",
    "ax.set_xticklabels(names)\n",
    "plt.show()"
   ]
  },
  {
   "cell_type": "markdown",
   "metadata": {},
   "source": [
    "### 파라미터 튜닝 및 최종모델 선정"
   ]
  },
  {
   "cell_type": "code",
   "execution_count": 75,
   "metadata": {
    "ExecuteTime": {
     "end_time": "2020-12-12T06:00:06.198776Z",
     "start_time": "2020-12-12T05:57:27.072811Z"
    },
    "scrolled": true
   },
   "outputs": [
    {
     "name": "stdout",
     "output_type": "stream",
     "text": [
      "Best: 0.994916 using {'max_features': None, 'n_estimators': 40}\n",
      "0.984363 (0.003490) with: {'max_features': 'sqrt', 'n_estimators': 5}\n",
      "0.987967 (0.002116) with: {'max_features': 'sqrt', 'n_estimators': 10}\n",
      "0.990991 (0.003166) with: {'max_features': 'sqrt', 'n_estimators': 15}\n",
      "0.990541 (0.002339) with: {'max_features': 'sqrt', 'n_estimators': 20}\n",
      "0.990734 (0.002852) with: {'max_features': 'sqrt', 'n_estimators': 25}\n",
      "0.991570 (0.003092) with: {'max_features': 'sqrt', 'n_estimators': 30}\n",
      "0.990798 (0.002776) with: {'max_features': 'sqrt', 'n_estimators': 35}\n",
      "0.991120 (0.002571) with: {'max_features': 'sqrt', 'n_estimators': 40}\n",
      "0.983655 (0.003958) with: {'max_features': 'log2', 'n_estimators': 5}\n",
      "0.986937 (0.001844) with: {'max_features': 'log2', 'n_estimators': 10}\n",
      "0.989897 (0.003663) with: {'max_features': 'log2', 'n_estimators': 15}\n",
      "0.990347 (0.002775) with: {'max_features': 'log2', 'n_estimators': 20}\n",
      "0.990798 (0.001844) with: {'max_features': 'log2', 'n_estimators': 25}\n",
      "0.990862 (0.002757) with: {'max_features': 'log2', 'n_estimators': 30}\n",
      "0.991120 (0.003043) with: {'max_features': 'log2', 'n_estimators': 35}\n",
      "0.991248 (0.003194) with: {'max_features': 'log2', 'n_estimators': 40}\n",
      "0.993372 (0.002591) with: {'max_features': None, 'n_estimators': 5}\n",
      "0.994530 (0.001048) with: {'max_features': None, 'n_estimators': 10}\n",
      "0.994273 (0.002483) with: {'max_features': None, 'n_estimators': 15}\n",
      "0.994466 (0.001913) with: {'max_features': None, 'n_estimators': 20}\n",
      "0.994402 (0.002356) with: {'max_features': None, 'n_estimators': 25}\n",
      "0.994595 (0.001956) with: {'max_features': None, 'n_estimators': 30}\n",
      "0.994144 (0.002737) with: {'max_features': None, 'n_estimators': 35}\n",
      "0.994916 (0.001961) with: {'max_features': None, 'n_estimators': 40}\n"
     ]
    }
   ],
   "source": [
    "model = RandomForestClassifier()\n",
    "\n",
    "n_estimators_set = [5, 10, 15, 20, 25, 30, 35, 40]\n",
    "max_features_set = [\"sqrt\", \"log2\", None]\n",
    "param_grid = dict(n_estimators = n_estimators_set,\n",
    "                  max_features = max_features_set)\n",
    "\n",
    "grid = GridSearchCV(estimator = model, param_grid = param_grid, scoring = scoring, cv = skf)\n",
    "grid_result = grid.fit(X_train_over, y_train_over.values.ravel())\n",
    "print(\"Best: %f using %s\" % (grid_result.best_score_, grid_result.best_params_))\n",
    "\n",
    "a = grid_result.cv_results_\n",
    "\n",
    "for i in range(len(a['rank_test_score'])):\n",
    "    print('%f (%f) with: %r' %(a['mean_test_score'][i], a['std_test_score'][i], a['params'][i]))\n",
    "\n",
    "# for params, mean_score, scores in grid_result.cv_results_:  ## 얘 에러난다\n",
    "#     print('%f (%f) with: %r' %(mean_test_score.mean(), std_test_score.mean(), params))"
   ]
  },
  {
   "cell_type": "code",
   "execution_count": 76,
   "metadata": {
    "ExecuteTime": {
     "end_time": "2020-12-12T06:00:06.217619Z",
     "start_time": "2020-12-12T06:00:06.201661Z"
    }
   },
   "outputs": [
    {
     "name": "stdout",
     "output_type": "stream",
     "text": [
      "best params:  {'max_features': None, 'n_estimators': 40}\n"
     ]
    },
    {
     "data": {
      "text/plain": [
       "array([0.00000000e+00, 1.65364715e-04, 1.26060039e-04, 2.78412675e-04,\n",
       "       1.50860482e-04, 1.02359221e-04, 3.91093171e-04, 1.48941326e-02,\n",
       "       2.23551451e-03, 9.95564511e-04, 2.34069370e-01, 6.49031516e-01,\n",
       "       5.32592176e-05, 9.73313995e-02, 1.75093029e-04])"
      ]
     },
     "execution_count": 76,
     "metadata": {},
     "output_type": "execute_result"
    }
   ],
   "source": [
    "fine_tuned_RF = grid_result.best_estimator_\n",
    "print('best params: ', grid_result.best_params_)\n",
    "fine_tuned_RF.feature_importances_"
   ]
  },
  {
   "cell_type": "code",
   "execution_count": 77,
   "metadata": {
    "ExecuteTime": {
     "end_time": "2020-12-12T06:00:06.243517Z",
     "start_time": "2020-12-12T06:00:06.221193Z"
    }
   },
   "outputs": [
    {
     "data": {
      "text/html": [
       "<div>\n",
       "<style scoped>\n",
       "    .dataframe tbody tr th:only-of-type {\n",
       "        vertical-align: middle;\n",
       "    }\n",
       "\n",
       "    .dataframe tbody tr th {\n",
       "        vertical-align: top;\n",
       "    }\n",
       "\n",
       "    .dataframe thead th {\n",
       "        text-align: right;\n",
       "    }\n",
       "</style>\n",
       "<table border=\"1\" class=\"dataframe\">\n",
       "  <thead>\n",
       "    <tr style=\"text-align: right;\">\n",
       "      <th></th>\n",
       "      <th>col</th>\n",
       "      <th>FI</th>\n",
       "    </tr>\n",
       "  </thead>\n",
       "  <tbody>\n",
       "    <tr>\n",
       "      <th>11</th>\n",
       "      <td>registered</td>\n",
       "      <td>0.649032</td>\n",
       "    </tr>\n",
       "    <tr>\n",
       "      <th>10</th>\n",
       "      <td>casual</td>\n",
       "      <td>0.234069</td>\n",
       "    </tr>\n",
       "    <tr>\n",
       "      <th>13</th>\n",
       "      <td>Monetary</td>\n",
       "      <td>0.097331</td>\n",
       "    </tr>\n",
       "    <tr>\n",
       "      <th>7</th>\n",
       "      <td>atemp</td>\n",
       "      <td>0.014894</td>\n",
       "    </tr>\n",
       "    <tr>\n",
       "      <th>8</th>\n",
       "      <td>humidity</td>\n",
       "      <td>0.002236</td>\n",
       "    </tr>\n",
       "    <tr>\n",
       "      <th>9</th>\n",
       "      <td>windspeed</td>\n",
       "      <td>0.000996</td>\n",
       "    </tr>\n",
       "    <tr>\n",
       "      <th>6</th>\n",
       "      <td>weather</td>\n",
       "      <td>0.000391</td>\n",
       "    </tr>\n",
       "    <tr>\n",
       "      <th>3</th>\n",
       "      <td>season[T.D]</td>\n",
       "      <td>0.000278</td>\n",
       "    </tr>\n",
       "    <tr>\n",
       "      <th>14</th>\n",
       "      <td>kmeans</td>\n",
       "      <td>0.000175</td>\n",
       "    </tr>\n",
       "    <tr>\n",
       "      <th>1</th>\n",
       "      <td>season[T.B]</td>\n",
       "      <td>0.000165</td>\n",
       "    </tr>\n",
       "    <tr>\n",
       "      <th>4</th>\n",
       "      <td>holiday</td>\n",
       "      <td>0.000151</td>\n",
       "    </tr>\n",
       "    <tr>\n",
       "      <th>2</th>\n",
       "      <td>season[T.C]</td>\n",
       "      <td>0.000126</td>\n",
       "    </tr>\n",
       "    <tr>\n",
       "      <th>5</th>\n",
       "      <td>workingday</td>\n",
       "      <td>0.000102</td>\n",
       "    </tr>\n",
       "    <tr>\n",
       "      <th>12</th>\n",
       "      <td>Recency</td>\n",
       "      <td>0.000053</td>\n",
       "    </tr>\n",
       "    <tr>\n",
       "      <th>0</th>\n",
       "      <td>Intercept</td>\n",
       "      <td>0.000000</td>\n",
       "    </tr>\n",
       "  </tbody>\n",
       "</table>\n",
       "</div>"
      ],
      "text/plain": [
       "            col        FI\n",
       "11   registered  0.649032\n",
       "10       casual  0.234069\n",
       "13     Monetary  0.097331\n",
       "7         atemp  0.014894\n",
       "8      humidity  0.002236\n",
       "9     windspeed  0.000996\n",
       "6       weather  0.000391\n",
       "3   season[T.D]  0.000278\n",
       "14       kmeans  0.000175\n",
       "1   season[T.B]  0.000165\n",
       "4       holiday  0.000151\n",
       "2   season[T.C]  0.000126\n",
       "5    workingday  0.000102\n",
       "12      Recency  0.000053\n",
       "0     Intercept  0.000000"
      ]
     },
     "execution_count": 77,
     "metadata": {},
     "output_type": "execute_result"
    }
   ],
   "source": [
    "pd.DataFrame({'col':X_train_over.columns, 'FI':fine_tuned_RF.feature_importances_}).sort_values('FI', ascending=False)"
   ]
  },
  {
   "cell_type": "code",
   "execution_count": 78,
   "metadata": {
    "ExecuteTime": {
     "end_time": "2020-12-12T06:00:06.616677Z",
     "start_time": "2020-12-12T06:00:06.246438Z"
    }
   },
   "outputs": [
    {
     "data": {
      "text/plain": [
       "<AxesSubplot:>"
      ]
     },
     "execution_count": 78,
     "metadata": {},
     "output_type": "execute_result"
    },
    {
     "data": {
      "image/png": "[encoded data removed]",
      "text/plain": [
       "<Figure size 432x288 with 1 Axes>"
      ]
     },
     "metadata": {
      "needs_background": "light"
     },
     "output_type": "display_data"
    }
   ],
   "source": [
    "importances = pd.Series(fine_tuned_RF.feature_importances_, index =X_train_over.columns)\n",
    "importances.plot(kind='bar')"
   ]
  },
  {
   "cell_type": "code",
   "execution_count": 79,
   "metadata": {
    "ExecuteTime": {
     "end_time": "2020-12-12T06:00:06.626641Z",
     "start_time": "2020-12-12T06:00:06.618663Z"
    }
   },
   "outputs": [
    {
     "data": {
      "text/plain": [
       "array([0., 0., 0., ..., 3., 3., 3.])"
      ]
     },
     "execution_count": 79,
     "metadata": {},
     "output_type": "execute_result"
    }
   ],
   "source": [
    "y_train_over.values.ravel()"
   ]
  },
  {
   "cell_type": "markdown",
   "metadata": {},
   "source": [
    "#### XGBoost 별도 수행(시간 없으니 꼭 필요할 때만 하기)\n",
    "\n",
    "- 컬럼명에 대괄호, 콤마, 부등호가 있으면 에러남\n",
    "- 수기로 바꿔줘야함"
   ]
  },
  {
   "cell_type": "code",
   "execution_count": 80,
   "metadata": {
    "ExecuteTime": {
     "end_time": "2020-12-12T06:00:06.636152Z",
     "start_time": "2020-12-12T06:00:06.629633Z"
    }
   },
   "outputs": [
    {
     "data": {
      "text/plain": [
       "Index(['Intercept', 'season[T.B]', 'season[T.C]', 'season[T.D]', 'holiday',\n",
       "       'workingday', 'weather', 'atemp', 'humidity', 'windspeed', 'casual',\n",
       "       'registered', 'Recency', 'Monetary', 'kmeans'],\n",
       "      dtype='object')"
      ]
     },
     "execution_count": 80,
     "metadata": {},
     "output_type": "execute_result"
    }
   ],
   "source": [
    "X_train_over.columns"
   ]
  },
  {
   "cell_type": "code",
   "execution_count": 81,
   "metadata": {
    "ExecuteTime": {
     "end_time": "2020-12-12T06:00:06.647585Z",
     "start_time": "2020-12-12T06:00:06.640613Z"
    }
   },
   "outputs": [],
   "source": [
    "X_train_over.columns = ['Intercept', 'season_B', 'season_C', 'season_D', 'holiday',\n",
    "       'workingday', 'weather', 'atemp', 'humidity', 'windspeed', 'casual',\n",
    "       'registered', 'Recency', 'Monetary', 'kmeans']"
   ]
  },
  {
   "cell_type": "markdown",
   "metadata": {},
   "source": [
    "- GridsearchCV가 불안정하므로 수기로 max_depth만 바꿔서 두 번 해보기"
   ]
  },
  {
   "cell_type": "code",
   "execution_count": 82,
   "metadata": {
    "ExecuteTime": {
     "end_time": "2020-12-12T06:01:55.570450Z",
     "start_time": "2020-12-12T06:00:06.650578Z"
    },
    "scrolled": true
   },
   "outputs": [
    {
     "name": "stderr",
     "output_type": "stream",
     "text": [
      "C:\\Users\\50008313\\AppData\\Local\\Continuum\\anaconda3\\lib\\site-packages\\dask\\dataframe\\utils.py:14: FutureWarning: pandas.util.testing is deprecated. Use the functions in the public API at pandas.testing instead.\n",
      "  import pandas.util.testing as tm\n",
      "C:\\Users\\50008313\\AppData\\Local\\Continuum\\anaconda3\\lib\\site-packages\\sklearn\\utils\\validation.py:72: DataConversionWarning: A column-vector y was passed when a 1d array was expected. Please change the shape of y to (n_samples, ), for example using ravel().\n",
      "  return f(**kwargs)\n"
     ]
    },
    {
     "name": "stdout",
     "output_type": "stream",
     "text": [
      "[XGB]\tmean: 0.995431\tstd: 0.001508\n"
     ]
    }
   ],
   "source": [
    "# 사이킷런 래퍼 XGBoost 클래스인 XGBClassifier 임포트\n",
    "from xgboost import XGBClassifier\n",
    "\n",
    "xgb = XGBClassifier(n_estimators=400, learning_rate=0.1, max_depth=3)\n",
    "xgb.fit(X_train_over, y_train_over)\n",
    "\n",
    "\n",
    "kfold = KFold(n_splits=num_folds, shuffle=True, random_state=seed)\n",
    "# kfold = cross_validation.KFold(n=num_instances, n_folds=num_folds, random_state=seed)\n",
    "\n",
    "cv_results = cross_val_score(xgb, X_train_over, y_train_over, cv=kfold, scoring=scoring)\n",
    "# results.append(cv_results)\n",
    "# names.append(name)\n",
    "msg = \"[%s]\\tmean: %f\\tstd: %f\" % ('XGB', cv_results.mean(), cv_results.std())\n",
    "print(msg)"
   ]
  },
  {
   "cell_type": "code",
   "execution_count": 83,
   "metadata": {
    "ExecuteTime": {
     "end_time": "2020-12-12T06:04:25.819677Z",
     "start_time": "2020-12-12T06:01:55.573444Z"
    }
   },
   "outputs": [
    {
     "name": "stdout",
     "output_type": "stream",
     "text": [
      "[XGB]\tmean: 0.995624\tstd: 0.001597\n"
     ]
    }
   ],
   "source": [
    "xgb = XGBClassifier(n_estimators=400, learning_rate=0.1, max_depth=5) # max_depth를 5로만 바꿈\n",
    "xgb.fit(X_train_over, y_train_over)\n",
    "\n",
    "kfold = KFold(n_splits=num_folds, shuffle=True, random_state=seed)\n",
    "\n",
    "cv_results = cross_val_score(xgb, X_train_over, y_train_over, cv=kfold, scoring=scoring)\n",
    "msg = \"[%s]\\tmean: %f\\tstd: %f\" % ('XGB', cv_results.mean(), cv_results.std())\n",
    "print(msg)"
   ]
  },
  {
   "cell_type": "markdown",
   "metadata": {},
   "source": [
    "- 변수중요도 시각화"
   ]
  },
  {
   "cell_type": "code",
   "execution_count": 84,
   "metadata": {
    "ExecuteTime": {
     "end_time": "2020-12-12T06:04:26.430326Z",
     "start_time": "2020-12-12T06:04:25.821790Z"
    }
   },
   "outputs": [
    {
     "data": {
      "text/plain": [
       "<AxesSubplot:title={'center':'Feature importance'}, xlabel='F score', ylabel='Features'>"
      ]
     },
     "execution_count": 84,
     "metadata": {},
     "output_type": "execute_result"
    },
    {
     "data": {
      "image/png": "[encoded data removed]",
      "text/plain": [
       "<Figure size 720x864 with 1 Axes>"
      ]
     },
     "metadata": {
      "needs_background": "light"
     },
     "output_type": "display_data"
    }
   ],
   "source": [
    "from xgboost import plot_importance\n",
    "import matplotlib.pyplot as plt\n",
    "%matplotlib inline\n",
    "\n",
    "fig, ax = plt.subplots(figsize=(10, 12))\n",
    "# 사이킷런 래퍼 클래스를 입력해도 무방. \n",
    "plot_importance(xgb, ax=ax)"
   ]
  },
  {
   "cell_type": "markdown",
   "metadata": {},
   "source": [
    "### Test set 활용하여 예측 수행"
   ]
  },
  {
   "cell_type": "code",
   "execution_count": 85,
   "metadata": {
    "ExecuteTime": {
     "end_time": "2020-12-12T06:04:26.468614Z",
     "start_time": "2020-12-12T06:04:26.433308Z"
    }
   },
   "outputs": [],
   "source": [
    "y_pred = fine_tuned_RF.predict(X_test_scale)"
   ]
  },
  {
   "cell_type": "code",
   "execution_count": 86,
   "metadata": {
    "ExecuteTime": {
     "end_time": "2020-12-12T06:04:26.492628Z",
     "start_time": "2020-12-12T06:04:26.480615Z"
    }
   },
   "outputs": [
    {
     "data": {
      "text/plain": [
       "array([[1656,    8,    0,    0],\n",
       "       [   5,  838,    4,    0],\n",
       "       [   0,    4,  399,    5],\n",
       "       [   0,    0,   10,  331]], dtype=int64)"
      ]
     },
     "execution_count": 86,
     "metadata": {},
     "output_type": "execute_result"
    }
   ],
   "source": [
    "confusion_matrix(y_test, y_pred)"
   ]
  },
  {
   "cell_type": "markdown",
   "metadata": {},
   "source": [
    "#### F1 score"
   ]
  },
  {
   "cell_type": "code",
   "execution_count": 87,
   "metadata": {
    "ExecuteTime": {
     "end_time": "2020-12-12T06:04:26.518314Z",
     "start_time": "2020-12-12T06:04:26.497650Z"
    }
   },
   "outputs": [
    {
     "name": "stdout",
     "output_type": "stream",
     "text": [
      "              precision    recall  f1-score   support\n",
      "\n",
      "         0.0       1.00      1.00      1.00      1664\n",
      "         1.0       0.99      0.99      0.99       847\n",
      "         2.0       0.97      0.98      0.97       408\n",
      "         3.0       0.99      0.97      0.98       341\n",
      "\n",
      "    accuracy                           0.99      3260\n",
      "   macro avg       0.98      0.98      0.98      3260\n",
      "weighted avg       0.99      0.99      0.99      3260\n",
      "\n"
     ]
    }
   ],
   "source": [
    "print(classification_report(y_test, y_pred))"
   ]
  },
  {
   "cell_type": "markdown",
   "metadata": {},
   "source": [
    "#### ROC AUC"
   ]
  },
  {
   "cell_type": "code",
   "execution_count": 89,
   "metadata": {
    "ExecuteTime": {
     "end_time": "2020-12-12T06:04:34.766364Z",
     "start_time": "2020-12-12T06:04:26.532705Z"
    }
   },
   "outputs": [
    {
     "data": {
      "image/png": "[encoded data removed]",
      "text/plain": [
       "<Figure size 432x288 with 1 Axes>"
      ]
     },
     "metadata": {
      "needs_background": "light"
     },
     "output_type": "display_data"
    },
    {
     "name": "stdout",
     "output_type": "stream",
     "text": [
      "ROC_AUC :  [1.0, 1.0, 1.0, 1.0]\n"
     ]
    }
   ],
   "source": [
    "from sklearn.metrics import roc_curve\n",
    "from sklearn.metrics import auc\n",
    "import matplotlib.pyplot as plt\n",
    "# from sklearn.naive_bayes import GaussianNB\n",
    "# from sklearn.datasets import load_iris\n",
    "from sklearn.preprocessing import label_binarize\n",
    "\n",
    "# iris = load_iris()\n",
    "# X = iris.data   # 독립변수가 있고\n",
    "\n",
    "\n",
    "# 이 아래부터 활용하면 됨\n",
    "X = X_train_over\n",
    "y = label_binarize(y_train_over, classes = [0, 1, 2, 3])   # 종속변수 y를 더미화를 시킴\n",
    "\n",
    "n = 4 # class 개수만큼(여기선 4개였음)\n",
    "fpr = [None] * n\n",
    "tpr = [None] * n\n",
    "threshold = [None] * n\n",
    "roc_auc = []\n",
    "\n",
    "for i in range(n):   \n",
    "    model = fine_tuned_RF.fit(X, y[:, i])   # 모델링을 함\n",
    "    fpr[i], tpr[i], threshold[i] = roc_curve(y[:, i], model.predict_proba(X)[:, 1])\n",
    "    plt.plot(fpr[i], tpr[i])\n",
    "    \n",
    "    roc_auc.append(auc(fpr[i], tpr[i]))\n",
    "\n",
    "plt.xlabel('위양성률(Fall-Out)')\n",
    "plt.ylabel('재현률(Recall)')\n",
    "plt.show()\n",
    "print('ROC_AUC : ',roc_auc)"
   ]
  }
 ],
 "metadata": {
  "kernelspec": {
   "display_name": "Python 3",
   "language": "python",
   "name": "python3"
  },
  "language_info": {
   "codemirror_mode": {
    "name": "ipython",
    "version": 3
   },
   "file_extension": ".py",
   "mimetype": "text/x-python",
   "name": "python",
   "nbconvert_exporter": "python",
   "pygments_lexer": "ipython3",
   "version": "3.7.4"
  },
  "toc": {
   "base_numbering": 1,
   "nav_menu": {},
   "number_sections": true,
   "sideBar": true,
   "skip_h1_title": false,
   "title_cell": "Table of Contents",
   "title_sidebar": "Contents",
   "toc_cell": false,
   "toc_position": {
    "height": "calc(100% - 180px)",
    "left": "10px",
    "top": "150px",
    "width": "672px"
   },
   "toc_section_display": true,
   "toc_window_display": true
  },
  "varInspector": {
   "cols": {
    "lenName": 16,
    "lenType": 16,
    "lenVar": 40
   },
   "kernels_config": {
    "python": {
     "delete_cmd_postfix": "",
     "delete_cmd_prefix": "del ",
     "library": "var_list.py",
     "varRefreshCmd": "print(var_dic_list())"
    },
    "r": {
     "delete_cmd_postfix": ") ",
     "delete_cmd_prefix": "rm(",
     "library": "var_list.r",
     "varRefreshCmd": "cat(var_dic_list()) "
    }
   },
   "types_to_exclude": [
    "module",
    "function",
    "builtin_function_or_method",
    "instance",
    "_Feature"
   ],
   "window_display": false
  }
 },
 "nbformat": 4,
 "nbformat_minor": 2
}
